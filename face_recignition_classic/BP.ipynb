{
 "cells": [
  {
   "cell_type": "code",
   "execution_count": 1,
   "id": "81d2b982",
   "metadata": {},
   "outputs": [],
   "source": [
    "# #bp神经网络\n",
    "\n",
    "#数据提取和处理\n",
    "import re\n",
    "def encode_label(label_list: list) -> (list, list):\n",
    "    label_name = [[] for i in range(5)]\n",
    "\n",
    "    label_encoded_list = []\n",
    "\n",
    "    for label in label_list:\n",
    "        if label is None:\n",
    "            label_encoded_list.append(None)\n",
    "            continue\n",
    "        label_encoded = []\n",
    "\n",
    "        for i in range(len(label) - 1):\n",
    "            if not label[i] in label_name[i]:\n",
    "                label_name[i].append(label[i])\n",
    "                label_encoded.append(len(label_name[i]) - 1)\n",
    "            else:\n",
    "                label_encoded.append(label_name[i].index(label[i]))\n",
    "\n",
    "        if label[4] is None:\n",
    "            label_encoded.append([None])\n",
    "        else:\n",
    "            prop = []\n",
    "            for ll in label[4]:\n",
    "                if not ll in label_name[4]:\n",
    "                    label_name[4].append(ll)\n",
    "                    prop.append(len(label_name[4]) - 1)\n",
    "                else:\n",
    "                    prop.append(label_name[4].index(ll))\n",
    "            label_encoded.append(prop)\n",
    "\n",
    "        label_encoded_list.append(label_encoded)\n",
    "    return label_name, label_encoded_list\n",
    "\n",
    "\n",
    "def read_label(path: str) -> (list, list):\n",
    "    label_list = []\n",
    "    img_name = []\n",
    "    with open(path, \"r\") as f:\n",
    "        r = f.readline()\n",
    "        while r:\n",
    "            img_name.append(r[:5].strip())\n",
    "            t = re.search('_missing descriptor', r)\n",
    "            if t is not None:\n",
    "                label_list.append(None)\n",
    "                r = f.readline()\n",
    "                continue\n",
    "            else:\n",
    "                label1 = []\n",
    "                pattern = re.compile(r'\\((.*?)\\)')\n",
    "                t = pattern.findall(r)\n",
    "                for s in t[0:-1]:\n",
    "                    c = s.split(\" \")[-1].strip()\n",
    "                    label1.append(c)\n",
    "\n",
    "                pattern = re.compile(r'\\'\\((.*?)\\)')\n",
    "                t = pattern.findall(r)[0].strip()\n",
    "                if not t == '':\n",
    "                    prop = []\n",
    "                    t = t.split(\" \")\n",
    "                    for i in t:\n",
    "                        prop.append(i)\n",
    "                    label1.append(prop)\n",
    "                else:\n",
    "                    label1.append(None)\n",
    "            label_list.append(label1)\n",
    "            r = f.readline()\n",
    "    return label_list, img_name\n",
    "\n",
    "\n",
    "def one_hot_prop(label_encoded_list: list, prop_num: int) -> list:\n",
    "    label_list = []\n",
    "    iii = 0\n",
    "    for label in label_encoded_list:\n",
    "        iii += 1\n",
    "        if label is not None:\n",
    "            prop_one_hot = [0 for i in range(prop_num)]\n",
    "            prop = label.pop()\n",
    "            for i in prop:\n",
    "                if i is not None:\n",
    "                    prop_one_hot[i] = 1\n",
    "            label.append(prop_one_hot)\n",
    "            label_list.append(label)\n",
    "            if 1 in prop_one_hot:\n",
    "                pass\n",
    "        else:\n",
    "            label_list.append(None)\n",
    "    return label_list\n",
    "\n",
    "\n",
    "def one_hot(index, num):\n",
    "    label_one_hot = [0 for i in range(num)]\n",
    "    label_one_hot[index] = 1\n",
    "    return label_one_hot\n",
    "\n",
    "\n",
    "def one_hot_label(label_list: list, label_name) -> list:\n",
    "    label_one_hot = []\n",
    "    for label in label_list:\n",
    "        if label is not None:\n",
    "            l = []\n",
    "            for i in range(len(label_name) - 1):\n",
    "                o = one_hot(label[i], len(label_name[i]))\n",
    "                l += o\n",
    "            l += label[-1]\n",
    "        else:\n",
    "            label_one_hot.append(None)\n",
    "            continue\n",
    "        label_one_hot.append(l)\n",
    "    return label_one_hot\n",
    "\n",
    "\n",
    "def label_pre_one_hot(path1, path2):\n",
    "    label_list1, img_name1 = read_label(path1)\n",
    "    # print(len(img_name1))\n",
    "    label_list2, img_name2 = read_label(path2)\n",
    "    # print(len(img_name2))\n",
    "    label_list = label_list1 + label_list2\n",
    "\n",
    "    male = 0\n",
    "    total = 0\n",
    "\n",
    "    # for label in label_list:\n",
    "    #     if label is not None:\n",
    "    #         total += 1\n",
    "    #         if label[0] == 'male':\n",
    "    #             male += 1\n",
    "    # print(male, total)\n",
    "\n",
    "    img_name = img_name1 + img_name2\n",
    "    label_name, label_encoded_list = encode_label(label_list)\n",
    "    prop_num = len(label_name[-1])\n",
    "    label_list = one_hot_prop(label_encoded_list, prop_num)\n",
    "    label_one_hot = one_hot_label(label_list, label_name)\n",
    "\n",
    "    return label_one_hot, img_name, label_name\n"
   ]
  },
  {
   "cell_type": "code",
   "execution_count": 2,
   "id": "7e3162f5",
   "metadata": {},
   "outputs": [
    {
     "name": "stdout",
     "output_type": "stream",
     "text": [
      "数据缺失： 1228\n",
      "数据缺失： 1232\n",
      "数据缺失： 1808\n",
      "数据缺失： 4056\n",
      "数据缺失： 4135\n",
      "数据缺失： 4136\n",
      "数据缺失： 5004\n",
      "每层网络层系数矩阵维度：\n",
      " [(85, 5), (5, 2), (2, 1)]\n",
      "bp神经网络训练准确率： 85.80246913580247 %\n"
     ]
    },
    {
     "name": "stderr",
     "output_type": "stream",
     "text": [
      "D:\\anaconda\\envs\\tensorflow\\lib\\site-packages\\sklearn\\neural_network\\_multilayer_perceptron.py:559: ConvergenceWarning: lbfgs failed to converge (status=1):\n",
      "STOP: TOTAL NO. of ITERATIONS REACHED LIMIT.\n",
      "\n",
      "Increase the number of iterations (max_iter) or scale the data as shown in:\n",
      "    https://scikit-learn.org/stable/modules/preprocessing.html\n",
      "  self.n_iter_ = _check_optimize_result(\"lbfgs\", opt_res, self.max_iter)\n"
     ]
    }
   ],
   "source": [
    "import raw_data_read_test as rd\n",
    "import label_pre as lp\n",
    "import cv2\n",
    "from sklearn.neighbors import KNeighborsClassifier \n",
    "from sklearn.model_selection import train_test_split\n",
    "import numpy as np\n",
    "import sklearn\n",
    "from sklearn import metrics\n",
    "from sklearn import tree\n",
    "from sklearn.decomposition import PCA\n",
    "from matplotlib import pyplot as plt\n",
    "from sklearn.model_selection import KFold\n",
    "from sklearn.metrics import accuracy_score\n",
    "from sklearn.model_selection import cross_validate\n",
    "from sklearn.neural_network import MLPClassifier\n",
    "from sklearn.preprocessing import StandardScaler\n",
    "\n",
    "# 训练集\n",
    "channels = 1  # 图像的通道数，灰度图为1\n",
    "path_rawdata = r\"./rawdata\"\n",
    "path_label1 = r\"./faceDR\"\n",
    "path_label2 = r\"./faceDS\"\n",
    "label_one_hot,img_name,label_list = label_pre_one_hot(path_label1,path_label2)\n",
    "img_list = rd.read_rawdata(channels, path_rawdata, img_name)  # 图片矩阵\n",
    "\n",
    "n = 0\n",
    "for i in range(len(label_list)):\n",
    "    num = i - n\n",
    "    if label_list[num] is None:\n",
    "        del label_list[num]\n",
    "        del img_name[num]\n",
    "        n = n + 1\n",
    "\n",
    "array_of_img = []\n",
    "for img in img_list:\n",
    "    if img is not None:\n",
    "        img = img / 255.0\n",
    "        img = cv2.resize(img, (100, 100))\n",
    "        array_of_img.append(img)\n",
    "train_images = np.array(array_of_img)\n",
    "array_of_img = []\n",
    "\n",
    "#卷积标签数值化，男为0，女为1\n",
    "array_of_labels = []\n",
    "for label in label_one_hot:\n",
    "    if label is not None:\n",
    "        append_label = label[0]\n",
    "        array_of_labels.append(int(append_label))\n",
    "train_labels = np.array(array_of_labels)\n",
    "array_of_labels = []\n",
    "\n",
    "# 划分数据集和训练集\n",
    "X_train, X_test, y_train, y_test = train_test_split(train_images, train_labels, test_size=0.2, random_state=3)\n",
    "\n",
    "#更改图像维度，方便训练\n",
    "X_train = X_train.reshape(X_train.shape[0], -1)\n",
    "X_test = X_test.reshape(X_test.shape[0], -1)\n",
    "\n",
    "# 特征降维(进行特征降维能大大减少训练时间但会一定程度的下降训练准确率)\n",
    "pca = PCA(n_components=85)\n",
    "X_train = pca.fit_transform(X_train)\n",
    "X_test = pca.transform(X_test)\n",
    "\n",
    "#归一化\n",
    "sc = StandardScaler()\n",
    "sc.fit(X_train)\n",
    "X_train_std = sc.transform(X_train)\n",
    "X_test_std = sc.transform(X_test)\n",
    "\n",
    "# solver='lbfgs',  MLP的求解方法：L-BFGS 在小数据上表现较好，Adam 较为鲁棒，SGD在参数调整较优时会有最佳表现（分类效果与迭代次数）；SGD标识随机梯度下降。\n",
    "# alpha:L2的参数：MLP是可以支持正则化的，默认为L2，具体参数需要调整\n",
    "# hidden_layer_sizes=(5, 2) hidden层2层,第一层5个神经元，第二层2个神经元)，2层隐藏层，也就有3层神经网络\n",
    "bp = MLPClassifier(solver='lbfgs', alpha=1e-5,hidden_layer_sizes=(5,2), random_state=1) \n",
    "bp.fit(X_train_std, y_train)\n",
    "\n",
    "print('每层网络层系数矩阵维度：\\n',[coef.shape for coef in bp.coefs_])\n",
    "\n",
    "# y_pred_pro =bp.predict_proba(X_test_std)\n",
    "# print('预测结果概率：\\n',y_pred_pro)\n",
    "\n",
    "score = bp.score(X_test_std,y_test)\n",
    "print('bp神经网络训练准确率：',score*100,'%')\n"
   ]
  },
  {
   "cell_type": "code",
   "execution_count": 8,
   "id": "1380b2ea",
   "metadata": {},
   "outputs": [
    {
     "name": "stdout",
     "output_type": "stream",
     "text": [
      "bp神经网络训练准确率： 86.41975308641975 %\n"
     ]
    },
    {
     "name": "stderr",
     "output_type": "stream",
     "text": [
      "D:\\anaconda\\envs\\tensorflow\\lib\\site-packages\\sklearn\\neural_network\\_multilayer_perceptron.py:559: ConvergenceWarning: lbfgs failed to converge (status=1):\n",
      "STOP: TOTAL NO. of ITERATIONS REACHED LIMIT.\n",
      "\n",
      "Increase the number of iterations (max_iter) or scale the data as shown in:\n",
      "    https://scikit-learn.org/stable/modules/preprocessing.html\n",
      "  self.n_iter_ = _check_optimize_result(\"lbfgs\", opt_res, self.max_iter)\n"
     ]
    }
   ],
   "source": [
    "bp.fit(X_train_std, y_train)\n",
    "score = bp.score(X_test_std,y_test)\n",
    "print('bp神经网络训练准确率：',score*100,'%')"
   ]
  },
  {
   "cell_type": "code",
   "execution_count": 39,
   "id": "19acc447",
   "metadata": {},
   "outputs": [
    {
     "name": "stdout",
     "output_type": "stream",
     "text": [
      "Iteration 1, loss = 1.20978957\n",
      "Iteration 2, loss = 0.67519885\n",
      "Iteration 3, loss = 0.53603537\n",
      "Iteration 4, loss = 0.47358087\n",
      "Iteration 5, loss = 0.43297720\n",
      "Iteration 6, loss = 0.40458577\n",
      "Iteration 7, loss = 0.38200669\n",
      "Iteration 8, loss = 0.36358218\n",
      "Iteration 9, loss = 0.34768485\n",
      "Iteration 10, loss = 0.33381486\n",
      "Iteration 11, loss = 0.32160122\n",
      "Iteration 12, loss = 0.31029795\n",
      "Iteration 13, loss = 0.29991628\n",
      "Iteration 14, loss = 0.28968320\n",
      "Iteration 15, loss = 0.28155804\n",
      "Iteration 16, loss = 0.27300290\n",
      "Iteration 17, loss = 0.26462829\n",
      "Iteration 18, loss = 0.25787625\n",
      "Iteration 19, loss = 0.25048780\n",
      "Iteration 20, loss = 0.24322524\n",
      "Iteration 1, loss = 1.21715620\n",
      "Iteration 2, loss = 0.67760223\n"
     ]
    },
    {
     "name": "stderr",
     "output_type": "stream",
     "text": [
      "D:\\anaconda\\envs\\tensorflow\\lib\\site-packages\\sklearn\\neural_network\\_multilayer_perceptron.py:702: ConvergenceWarning: Stochastic Optimizer: Maximum iterations (20) reached and the optimization hasn't converged yet.\n",
      "  warnings.warn(\n"
     ]
    },
    {
     "name": "stdout",
     "output_type": "stream",
     "text": [
      "Iteration 3, loss = 0.53749432\n",
      "Iteration 4, loss = 0.47409485\n",
      "Iteration 5, loss = 0.43366071\n",
      "Iteration 6, loss = 0.40533201\n",
      "Iteration 7, loss = 0.38247036\n",
      "Iteration 8, loss = 0.36376137\n",
      "Iteration 9, loss = 0.34791250\n",
      "Iteration 10, loss = 0.33399868\n",
      "Iteration 11, loss = 0.32174217\n",
      "Iteration 12, loss = 0.31038155\n",
      "Iteration 13, loss = 0.30023547\n",
      "Iteration 14, loss = 0.28987876\n",
      "Iteration 15, loss = 0.28156661\n",
      "Iteration 16, loss = 0.27335400\n",
      "Iteration 17, loss = 0.26507884\n",
      "Iteration 18, loss = 0.25764856\n",
      "Iteration 19, loss = 0.25038362\n",
      "Iteration 20, loss = 0.24293357\n",
      "Iteration 1, loss = 1.21515083\n",
      "Iteration 2, loss = 0.67776501\n"
     ]
    },
    {
     "name": "stderr",
     "output_type": "stream",
     "text": [
      "D:\\anaconda\\envs\\tensorflow\\lib\\site-packages\\sklearn\\neural_network\\_multilayer_perceptron.py:702: ConvergenceWarning: Stochastic Optimizer: Maximum iterations (20) reached and the optimization hasn't converged yet.\n",
      "  warnings.warn(\n"
     ]
    },
    {
     "name": "stdout",
     "output_type": "stream",
     "text": [
      "Iteration 3, loss = 0.53879720\n",
      "Iteration 4, loss = 0.47673461\n",
      "Iteration 5, loss = 0.43673329\n",
      "Iteration 6, loss = 0.40838489\n",
      "Iteration 7, loss = 0.38579809\n",
      "Iteration 8, loss = 0.36718541\n",
      "Iteration 9, loss = 0.35111677\n",
      "Iteration 10, loss = 0.33678194\n",
      "Iteration 11, loss = 0.32448262\n",
      "Iteration 12, loss = 0.31320153\n",
      "Iteration 13, loss = 0.30301219\n",
      "Iteration 14, loss = 0.29241423\n",
      "Iteration 15, loss = 0.28392093\n",
      "Iteration 16, loss = 0.27559854\n",
      "Iteration 17, loss = 0.26715162\n",
      "Iteration 18, loss = 0.25947158\n",
      "Iteration 19, loss = 0.25223420\n",
      "Iteration 20, loss = 0.24496746\n",
      "Iteration 1, loss = 1.19799529\n",
      "Iteration 2, loss = 0.67089503\n"
     ]
    },
    {
     "name": "stderr",
     "output_type": "stream",
     "text": [
      "D:\\anaconda\\envs\\tensorflow\\lib\\site-packages\\sklearn\\neural_network\\_multilayer_perceptron.py:702: ConvergenceWarning: Stochastic Optimizer: Maximum iterations (20) reached and the optimization hasn't converged yet.\n",
      "  warnings.warn(\n"
     ]
    },
    {
     "name": "stdout",
     "output_type": "stream",
     "text": [
      "Iteration 3, loss = 0.53583893\n",
      "Iteration 4, loss = 0.47218219\n",
      "Iteration 5, loss = 0.43174626\n",
      "Iteration 6, loss = 0.40307976\n",
      "Iteration 7, loss = 0.38036136\n",
      "Iteration 8, loss = 0.36151921\n",
      "Iteration 9, loss = 0.34529982\n",
      "Iteration 10, loss = 0.33121570\n",
      "Iteration 11, loss = 0.31896223\n",
      "Iteration 12, loss = 0.30752933\n",
      "Iteration 13, loss = 0.29732403\n",
      "Iteration 14, loss = 0.28725970\n",
      "Iteration 15, loss = 0.27853881\n",
      "Iteration 16, loss = 0.27043277\n",
      "Iteration 17, loss = 0.26216826\n",
      "Iteration 18, loss = 0.25483684\n",
      "Iteration 19, loss = 0.24768040\n",
      "Iteration 20, loss = 0.24094883\n",
      "Iteration 1, loss = 1.21517936\n",
      "Iteration 2, loss = 0.67301862\n",
      "Iteration 3, loss = 0.53431548\n"
     ]
    },
    {
     "name": "stderr",
     "output_type": "stream",
     "text": [
      "D:\\anaconda\\envs\\tensorflow\\lib\\site-packages\\sklearn\\neural_network\\_multilayer_perceptron.py:702: ConvergenceWarning: Stochastic Optimizer: Maximum iterations (20) reached and the optimization hasn't converged yet.\n",
      "  warnings.warn(\n"
     ]
    },
    {
     "name": "stdout",
     "output_type": "stream",
     "text": [
      "Iteration 4, loss = 0.47139321\n",
      "Iteration 5, loss = 0.43125602\n",
      "Iteration 6, loss = 0.40307238\n",
      "Iteration 7, loss = 0.38067598\n",
      "Iteration 8, loss = 0.36250797\n",
      "Iteration 9, loss = 0.34676974\n",
      "Iteration 10, loss = 0.33244464\n",
      "Iteration 11, loss = 0.32022245\n",
      "Iteration 12, loss = 0.30896811\n",
      "Iteration 13, loss = 0.29876247\n",
      "Iteration 14, loss = 0.28885931\n",
      "Iteration 15, loss = 0.27992040\n",
      "Iteration 16, loss = 0.27215639\n",
      "Iteration 17, loss = 0.26361105\n",
      "Iteration 18, loss = 0.25606446\n",
      "Iteration 19, loss = 0.24913016\n",
      "Iteration 20, loss = 0.24210447\n",
      "Iteration 1, loss = 1.20837548\n",
      "Iteration 2, loss = 0.67290379\n",
      "Iteration 3, loss = 0.53559607\n"
     ]
    },
    {
     "name": "stderr",
     "output_type": "stream",
     "text": [
      "D:\\anaconda\\envs\\tensorflow\\lib\\site-packages\\sklearn\\neural_network\\_multilayer_perceptron.py:702: ConvergenceWarning: Stochastic Optimizer: Maximum iterations (20) reached and the optimization hasn't converged yet.\n",
      "  warnings.warn(\n"
     ]
    },
    {
     "name": "stdout",
     "output_type": "stream",
     "text": [
      "Iteration 4, loss = 0.47228070\n",
      "Iteration 5, loss = 0.43176128\n",
      "Iteration 6, loss = 0.40317335\n",
      "Iteration 7, loss = 0.38066522\n",
      "Iteration 8, loss = 0.36229009\n",
      "Iteration 9, loss = 0.34668828\n",
      "Iteration 10, loss = 0.33210913\n",
      "Iteration 11, loss = 0.32000024\n",
      "Iteration 12, loss = 0.30923758\n",
      "Iteration 13, loss = 0.29905622\n",
      "Iteration 14, loss = 0.28924678\n",
      "Iteration 15, loss = 0.28021198\n",
      "Iteration 16, loss = 0.27258897\n",
      "Iteration 17, loss = 0.26427627\n",
      "Iteration 18, loss = 0.25678258\n",
      "Iteration 19, loss = 0.24975813\n",
      "Iteration 20, loss = 0.24270103\n",
      "Iteration 1, loss = 1.19916813\n",
      "Iteration 2, loss = 0.66913270\n",
      "Iteration 3, loss = 0.53298832\n"
     ]
    },
    {
     "name": "stderr",
     "output_type": "stream",
     "text": [
      "D:\\anaconda\\envs\\tensorflow\\lib\\site-packages\\sklearn\\neural_network\\_multilayer_perceptron.py:702: ConvergenceWarning: Stochastic Optimizer: Maximum iterations (20) reached and the optimization hasn't converged yet.\n",
      "  warnings.warn(\n"
     ]
    },
    {
     "name": "stdout",
     "output_type": "stream",
     "text": [
      "Iteration 4, loss = 0.46902621\n",
      "Iteration 5, loss = 0.42872515\n",
      "Iteration 6, loss = 0.40012689\n",
      "Iteration 7, loss = 0.37731939\n",
      "Iteration 8, loss = 0.35862591\n",
      "Iteration 9, loss = 0.34290859\n",
      "Iteration 10, loss = 0.32837645\n",
      "Iteration 11, loss = 0.31599631\n",
      "Iteration 12, loss = 0.30488809\n",
      "Iteration 13, loss = 0.29484865\n",
      "Iteration 14, loss = 0.28517267\n",
      "Iteration 15, loss = 0.27661408\n",
      "Iteration 16, loss = 0.26893271\n",
      "Iteration 17, loss = 0.26048795\n",
      "Iteration 18, loss = 0.25297601\n",
      "Iteration 19, loss = 0.24610291\n",
      "Iteration 20, loss = 0.23930623\n",
      "Iteration 1, loss = 1.18666956\n",
      "Iteration 2, loss = 0.66686462\n",
      "Iteration 3, loss = 0.53543477\n"
     ]
    },
    {
     "name": "stderr",
     "output_type": "stream",
     "text": [
      "D:\\anaconda\\envs\\tensorflow\\lib\\site-packages\\sklearn\\neural_network\\_multilayer_perceptron.py:702: ConvergenceWarning: Stochastic Optimizer: Maximum iterations (20) reached and the optimization hasn't converged yet.\n",
      "  warnings.warn(\n"
     ]
    },
    {
     "name": "stdout",
     "output_type": "stream",
     "text": [
      "Iteration 4, loss = 0.47181397\n",
      "Iteration 5, loss = 0.43175764\n",
      "Iteration 6, loss = 0.40305890\n",
      "Iteration 7, loss = 0.38026297\n",
      "Iteration 8, loss = 0.36184383\n",
      "Iteration 9, loss = 0.34564745\n",
      "Iteration 10, loss = 0.33152025\n",
      "Iteration 11, loss = 0.31923478\n",
      "Iteration 12, loss = 0.30805336\n",
      "Iteration 13, loss = 0.29801075\n",
      "Iteration 14, loss = 0.28814469\n",
      "Iteration 15, loss = 0.27962127\n",
      "Iteration 16, loss = 0.27174305\n",
      "Iteration 17, loss = 0.26315626\n",
      "Iteration 18, loss = 0.25593534\n",
      "Iteration 19, loss = 0.24878016\n",
      "Iteration 20, loss = 0.24244370\n",
      "Iteration 1, loss = 1.20174583\n",
      "Iteration 2, loss = 0.67092104\n",
      "Iteration 3, loss = 0.53431104\n"
     ]
    },
    {
     "name": "stderr",
     "output_type": "stream",
     "text": [
      "D:\\anaconda\\envs\\tensorflow\\lib\\site-packages\\sklearn\\neural_network\\_multilayer_perceptron.py:702: ConvergenceWarning: Stochastic Optimizer: Maximum iterations (20) reached and the optimization hasn't converged yet.\n",
      "  warnings.warn(\n"
     ]
    },
    {
     "name": "stdout",
     "output_type": "stream",
     "text": [
      "Iteration 4, loss = 0.47120925\n",
      "Iteration 5, loss = 0.43145842\n",
      "Iteration 6, loss = 0.40334721\n",
      "Iteration 7, loss = 0.38075080\n",
      "Iteration 8, loss = 0.36191828\n",
      "Iteration 9, loss = 0.34625407\n",
      "Iteration 10, loss = 0.33269325\n",
      "Iteration 11, loss = 0.32056276\n",
      "Iteration 12, loss = 0.30890492\n",
      "Iteration 13, loss = 0.29875730\n",
      "Iteration 14, loss = 0.28950304\n",
      "Iteration 15, loss = 0.28052535\n",
      "Iteration 16, loss = 0.27271861\n",
      "Iteration 17, loss = 0.26460657\n",
      "Iteration 18, loss = 0.25691748\n",
      "Iteration 19, loss = 0.24958220\n",
      "Iteration 20, loss = 0.24280527\n",
      "Iteration 1, loss = 1.19925283\n",
      "Iteration 2, loss = 0.67125525\n",
      "Iteration 3, loss = 0.53793760\n",
      "Iteration 4, loss = 0.47529057\n"
     ]
    },
    {
     "name": "stderr",
     "output_type": "stream",
     "text": [
      "D:\\anaconda\\envs\\tensorflow\\lib\\site-packages\\sklearn\\neural_network\\_multilayer_perceptron.py:702: ConvergenceWarning: Stochastic Optimizer: Maximum iterations (20) reached and the optimization hasn't converged yet.\n",
      "  warnings.warn(\n"
     ]
    },
    {
     "name": "stdout",
     "output_type": "stream",
     "text": [
      "Iteration 5, loss = 0.43590176\n",
      "Iteration 6, loss = 0.40800333\n",
      "Iteration 7, loss = 0.38570201\n",
      "Iteration 8, loss = 0.36708416\n",
      "Iteration 9, loss = 0.35129467\n",
      "Iteration 10, loss = 0.33743650\n",
      "Iteration 11, loss = 0.32522018\n",
      "Iteration 12, loss = 0.31352706\n",
      "Iteration 13, loss = 0.30300982\n",
      "Iteration 14, loss = 0.29384571\n",
      "Iteration 15, loss = 0.28464709\n",
      "Iteration 16, loss = 0.27687924\n",
      "Iteration 17, loss = 0.26891634\n",
      "Iteration 18, loss = 0.26087357\n",
      "Iteration 19, loss = 0.25364063\n",
      "Iteration 20, loss = 0.24677652\n",
      "Iteration 1, loss = 1.30911600\n",
      "Iteration 2, loss = 0.81484781\n",
      "Iteration 3, loss = 0.74029166\n",
      "Iteration 4, loss = 0.69732741\n",
      "Iteration 5, loss = 0.67096258\n"
     ]
    },
    {
     "name": "stderr",
     "output_type": "stream",
     "text": [
      "D:\\anaconda\\envs\\tensorflow\\lib\\site-packages\\sklearn\\neural_network\\_multilayer_perceptron.py:702: ConvergenceWarning: Stochastic Optimizer: Maximum iterations (20) reached and the optimization hasn't converged yet.\n",
      "  warnings.warn(\n"
     ]
    },
    {
     "name": "stdout",
     "output_type": "stream",
     "text": [
      "Iteration 6, loss = 0.65083897\n",
      "Iteration 7, loss = 0.63443794\n",
      "Iteration 8, loss = 0.62040015\n",
      "Iteration 9, loss = 0.60720828\n",
      "Iteration 10, loss = 0.59622233\n",
      "Iteration 11, loss = 0.58577270\n",
      "Iteration 12, loss = 0.57650985\n",
      "Iteration 13, loss = 0.56797795\n",
      "Iteration 14, loss = 0.56006473\n",
      "Iteration 15, loss = 0.55274200\n",
      "Iteration 16, loss = 0.54580841\n",
      "Iteration 17, loss = 0.53909068\n",
      "Iteration 18, loss = 0.53331657\n",
      "Iteration 19, loss = 0.52762544\n",
      "Iteration 20, loss = 0.52177887\n",
      "Iteration 1, loss = 1.31677616\n",
      "Iteration 2, loss = 0.81797387\n",
      "Iteration 3, loss = 0.74432839\n",
      "Iteration 4, loss = 0.70065102\n",
      "Iteration 5, loss = 0.67450843\n",
      "Iteration 6, loss = 0.65442144\n",
      "Iteration 7, loss = 0.63813894\n"
     ]
    },
    {
     "name": "stderr",
     "output_type": "stream",
     "text": [
      "D:\\anaconda\\envs\\tensorflow\\lib\\site-packages\\sklearn\\neural_network\\_multilayer_perceptron.py:702: ConvergenceWarning: Stochastic Optimizer: Maximum iterations (20) reached and the optimization hasn't converged yet.\n",
      "  warnings.warn(\n"
     ]
    },
    {
     "name": "stdout",
     "output_type": "stream",
     "text": [
      "Iteration 8, loss = 0.62418190\n",
      "Iteration 9, loss = 0.61133666\n",
      "Iteration 10, loss = 0.60050690\n",
      "Iteration 11, loss = 0.59000135\n",
      "Iteration 12, loss = 0.58088228\n",
      "Iteration 13, loss = 0.57241001\n",
      "Iteration 14, loss = 0.56423950\n",
      "Iteration 15, loss = 0.55705112\n",
      "Iteration 16, loss = 0.55015063\n",
      "Iteration 17, loss = 0.54337578\n",
      "Iteration 18, loss = 0.53748368\n",
      "Iteration 19, loss = 0.53148897\n",
      "Iteration 20, loss = 0.52561871\n",
      "Iteration 1, loss = 1.31684590\n",
      "Iteration 2, loss = 0.81704026\n",
      "Iteration 3, loss = 0.74428533\n",
      "Iteration 4, loss = 0.70149048\n",
      "Iteration 5, loss = 0.67589259\n",
      "Iteration 6, loss = 0.65591934\n",
      "Iteration 7, loss = 0.63980385\n",
      "Iteration 8, loss = 0.62601423\n",
      "Iteration 9, loss = 0.61334144\n"
     ]
    },
    {
     "name": "stderr",
     "output_type": "stream",
     "text": [
      "D:\\anaconda\\envs\\tensorflow\\lib\\site-packages\\sklearn\\neural_network\\_multilayer_perceptron.py:702: ConvergenceWarning: Stochastic Optimizer: Maximum iterations (20) reached and the optimization hasn't converged yet.\n",
      "  warnings.warn(\n"
     ]
    },
    {
     "name": "stdout",
     "output_type": "stream",
     "text": [
      "Iteration 10, loss = 0.60245811\n",
      "Iteration 11, loss = 0.59224290\n",
      "Iteration 12, loss = 0.58332490\n",
      "Iteration 13, loss = 0.57508939\n",
      "Iteration 14, loss = 0.56685621\n",
      "Iteration 15, loss = 0.55964659\n",
      "Iteration 16, loss = 0.55283054\n",
      "Iteration 17, loss = 0.54633178\n",
      "Iteration 18, loss = 0.54051797\n",
      "Iteration 19, loss = 0.53451882\n",
      "Iteration 20, loss = 0.52880761\n"
     ]
    },
    {
     "name": "stderr",
     "output_type": "stream",
     "text": [
      "D:\\anaconda\\envs\\tensorflow\\lib\\site-packages\\sklearn\\neural_network\\_multilayer_perceptron.py:702: ConvergenceWarning: Stochastic Optimizer: Maximum iterations (20) reached and the optimization hasn't converged yet.\n",
      "  warnings.warn(\n"
     ]
    },
    {
     "name": "stdout",
     "output_type": "stream",
     "text": [
      "Iteration 1, loss = 1.30230713\n",
      "Iteration 2, loss = 0.81426479\n",
      "Iteration 3, loss = 0.74256331\n",
      "Iteration 4, loss = 0.69924575\n",
      "Iteration 5, loss = 0.67307076\n",
      "Iteration 6, loss = 0.65304070\n",
      "Iteration 7, loss = 0.63658074\n",
      "Iteration 8, loss = 0.62229919\n",
      "Iteration 9, loss = 0.60937708\n",
      "Iteration 10, loss = 0.59811883\n",
      "Iteration 11, loss = 0.58774587\n",
      "Iteration 12, loss = 0.57862028\n",
      "Iteration 13, loss = 0.57006858\n",
      "Iteration 14, loss = 0.56175888\n",
      "Iteration 15, loss = 0.55446879\n",
      "Iteration 16, loss = 0.54732963\n",
      "Iteration 17, loss = 0.54081423\n",
      "Iteration 18, loss = 0.53476756\n",
      "Iteration 19, loss = 0.52857624\n",
      "Iteration 20, loss = 0.52284119\n",
      "Iteration 1, loss = 1.31936384\n",
      "Iteration 2, loss = 0.81588300\n"
     ]
    },
    {
     "name": "stderr",
     "output_type": "stream",
     "text": [
      "D:\\anaconda\\envs\\tensorflow\\lib\\site-packages\\sklearn\\neural_network\\_multilayer_perceptron.py:702: ConvergenceWarning: Stochastic Optimizer: Maximum iterations (20) reached and the optimization hasn't converged yet.\n",
      "  warnings.warn(\n"
     ]
    },
    {
     "name": "stdout",
     "output_type": "stream",
     "text": [
      "Iteration 3, loss = 0.74424339\n",
      "Iteration 4, loss = 0.69990065\n",
      "Iteration 5, loss = 0.67360594\n",
      "Iteration 6, loss = 0.65321864\n",
      "Iteration 7, loss = 0.63652778\n",
      "Iteration 8, loss = 0.62216500\n",
      "Iteration 9, loss = 0.60931496\n",
      "Iteration 10, loss = 0.59772457\n",
      "Iteration 11, loss = 0.58741988\n",
      "Iteration 12, loss = 0.57814798\n",
      "Iteration 13, loss = 0.56963158\n",
      "Iteration 14, loss = 0.56135474\n",
      "Iteration 15, loss = 0.55398692\n",
      "Iteration 16, loss = 0.54692542\n",
      "Iteration 17, loss = 0.54034040\n",
      "Iteration 18, loss = 0.53422554\n",
      "Iteration 19, loss = 0.52809327\n",
      "Iteration 20, loss = 0.52246474\n",
      "Iteration 1, loss = 1.31336269\n",
      "Iteration 2, loss = 0.81705317\n",
      "Iteration 3, loss = 0.74505809\n",
      "Iteration 4, loss = 0.70125666\n"
     ]
    },
    {
     "name": "stderr",
     "output_type": "stream",
     "text": [
      "D:\\anaconda\\envs\\tensorflow\\lib\\site-packages\\sklearn\\neural_network\\_multilayer_perceptron.py:702: ConvergenceWarning: Stochastic Optimizer: Maximum iterations (20) reached and the optimization hasn't converged yet.\n",
      "  warnings.warn(\n"
     ]
    },
    {
     "name": "stdout",
     "output_type": "stream",
     "text": [
      "Iteration 5, loss = 0.67546228\n",
      "Iteration 6, loss = 0.65535489\n",
      "Iteration 7, loss = 0.63910642\n",
      "Iteration 8, loss = 0.62502519\n",
      "Iteration 9, loss = 0.61274230\n",
      "Iteration 10, loss = 0.60117761\n",
      "Iteration 11, loss = 0.59116332\n",
      "Iteration 12, loss = 0.58215027\n",
      "Iteration 13, loss = 0.57329734\n",
      "Iteration 14, loss = 0.56517209\n",
      "Iteration 15, loss = 0.55786206\n",
      "Iteration 16, loss = 0.55062096\n",
      "Iteration 17, loss = 0.54422849\n",
      "Iteration 18, loss = 0.53802621\n",
      "Iteration 19, loss = 0.53189529\n",
      "Iteration 20, loss = 0.52615871\n",
      "Iteration 1, loss = 1.30907272\n",
      "Iteration 2, loss = 0.81499275\n",
      "Iteration 3, loss = 0.74251122\n",
      "Iteration 4, loss = 0.69790482\n",
      "Iteration 5, loss = 0.67182631\n",
      "Iteration 6, loss = 0.65180900\n"
     ]
    },
    {
     "name": "stderr",
     "output_type": "stream",
     "text": [
      "D:\\anaconda\\envs\\tensorflow\\lib\\site-packages\\sklearn\\neural_network\\_multilayer_perceptron.py:702: ConvergenceWarning: Stochastic Optimizer: Maximum iterations (20) reached and the optimization hasn't converged yet.\n",
      "  warnings.warn(\n"
     ]
    },
    {
     "name": "stdout",
     "output_type": "stream",
     "text": [
      "Iteration 7, loss = 0.63543677\n",
      "Iteration 8, loss = 0.62126197\n",
      "Iteration 9, loss = 0.60925319\n",
      "Iteration 10, loss = 0.59744064\n",
      "Iteration 11, loss = 0.58749266\n",
      "Iteration 12, loss = 0.57842227\n",
      "Iteration 13, loss = 0.56986177\n",
      "Iteration 14, loss = 0.56204491\n",
      "Iteration 15, loss = 0.55494157\n",
      "Iteration 16, loss = 0.54772900\n",
      "Iteration 17, loss = 0.54149777\n",
      "Iteration 18, loss = 0.53530773\n",
      "Iteration 19, loss = 0.52931552\n",
      "Iteration 20, loss = 0.52392274\n",
      "Iteration 1, loss = 1.30050561\n",
      "Iteration 2, loss = 0.81448972\n",
      "Iteration 3, loss = 0.74450021\n",
      "Iteration 4, loss = 0.70063944\n",
      "Iteration 5, loss = 0.67467554\n",
      "Iteration 6, loss = 0.65453188\n",
      "Iteration 7, loss = 0.63814437\n",
      "Iteration 8, loss = 0.62391299\n"
     ]
    },
    {
     "name": "stderr",
     "output_type": "stream",
     "text": [
      "D:\\anaconda\\envs\\tensorflow\\lib\\site-packages\\sklearn\\neural_network\\_multilayer_perceptron.py:702: ConvergenceWarning: Stochastic Optimizer: Maximum iterations (20) reached and the optimization hasn't converged yet.\n",
      "  warnings.warn(\n"
     ]
    },
    {
     "name": "stdout",
     "output_type": "stream",
     "text": [
      "Iteration 9, loss = 0.61145871\n",
      "Iteration 10, loss = 0.59985961\n",
      "Iteration 11, loss = 0.58987792\n",
      "Iteration 12, loss = 0.58049568\n",
      "Iteration 13, loss = 0.57200154\n",
      "Iteration 14, loss = 0.56399839\n",
      "Iteration 15, loss = 0.55680145\n",
      "Iteration 16, loss = 0.54961976\n",
      "Iteration 17, loss = 0.54315304\n",
      "Iteration 18, loss = 0.53677510\n",
      "Iteration 19, loss = 0.53080489\n",
      "Iteration 20, loss = 0.52543797\n",
      "Iteration 1, loss = 1.31144430\n",
      "Iteration 2, loss = 0.81673205\n",
      "Iteration 3, loss = 0.74111241\n",
      "Iteration 4, loss = 0.69764424\n",
      "Iteration 5, loss = 0.67116701\n",
      "Iteration 6, loss = 0.65110719\n",
      "Iteration 7, loss = 0.63472242\n",
      "Iteration 8, loss = 0.62058577\n",
      "Iteration 9, loss = 0.60811954\n",
      "Iteration 10, loss = 0.59674592\n"
     ]
    },
    {
     "name": "stderr",
     "output_type": "stream",
     "text": [
      "D:\\anaconda\\envs\\tensorflow\\lib\\site-packages\\sklearn\\neural_network\\_multilayer_perceptron.py:702: ConvergenceWarning: Stochastic Optimizer: Maximum iterations (20) reached and the optimization hasn't converged yet.\n",
      "  warnings.warn(\n"
     ]
    },
    {
     "name": "stdout",
     "output_type": "stream",
     "text": [
      "Iteration 11, loss = 0.58658552\n",
      "Iteration 12, loss = 0.57699913\n",
      "Iteration 13, loss = 0.56840542\n",
      "Iteration 14, loss = 0.56032523\n",
      "Iteration 15, loss = 0.55308287\n",
      "Iteration 16, loss = 0.54595415\n",
      "Iteration 17, loss = 0.53942812\n",
      "Iteration 18, loss = 0.53311452\n",
      "Iteration 19, loss = 0.52723855\n",
      "Iteration 20, loss = 0.52151350\n",
      "Iteration 1, loss = 1.31337753\n"
     ]
    },
    {
     "name": "stderr",
     "output_type": "stream",
     "text": [
      "D:\\anaconda\\envs\\tensorflow\\lib\\site-packages\\sklearn\\neural_network\\_multilayer_perceptron.py:702: ConvergenceWarning: Stochastic Optimizer: Maximum iterations (20) reached and the optimization hasn't converged yet.\n",
      "  warnings.warn(\n"
     ]
    },
    {
     "name": "stdout",
     "output_type": "stream",
     "text": [
      "Iteration 2, loss = 0.82041743\n",
      "Iteration 3, loss = 0.74827267\n",
      "Iteration 4, loss = 0.70541432\n",
      "Iteration 5, loss = 0.67868719\n",
      "Iteration 6, loss = 0.65869987\n",
      "Iteration 7, loss = 0.64219446\n",
      "Iteration 8, loss = 0.62812360\n",
      "Iteration 9, loss = 0.61558976\n",
      "Iteration 10, loss = 0.60422362\n",
      "Iteration 11, loss = 0.59410740\n",
      "Iteration 12, loss = 0.58452533\n",
      "Iteration 13, loss = 0.57570702\n",
      "Iteration 14, loss = 0.56757926\n",
      "Iteration 15, loss = 0.56013562\n",
      "Iteration 16, loss = 0.55295202\n",
      "Iteration 17, loss = 0.54632162\n",
      "Iteration 18, loss = 0.54011660\n",
      "Iteration 19, loss = 0.53420832\n",
      "Iteration 20, loss = 0.52838809\n"
     ]
    },
    {
     "name": "stderr",
     "output_type": "stream",
     "text": [
      "D:\\anaconda\\envs\\tensorflow\\lib\\site-packages\\sklearn\\neural_network\\_multilayer_perceptron.py:702: ConvergenceWarning: Stochastic Optimizer: Maximum iterations (20) reached and the optimization hasn't converged yet.\n",
      "  warnings.warn(\n",
      "D:\\anaconda\\envs\\tensorflow\\lib\\site-packages\\sklearn\\neural_network\\_multilayer_perceptron.py:559: ConvergenceWarning: lbfgs failed to converge (status=1):\n",
      "STOP: TOTAL NO. of ITERATIONS REACHED LIMIT.\n",
      "\n",
      "Increase the number of iterations (max_iter) or scale the data as shown in:\n",
      "    https://scikit-learn.org/stable/modules/preprocessing.html\n",
      "  self.n_iter_ = _check_optimize_result(\"lbfgs\", opt_res, self.max_iter)\n",
      "D:\\anaconda\\envs\\tensorflow\\lib\\site-packages\\sklearn\\neural_network\\_multilayer_perceptron.py:559: ConvergenceWarning: lbfgs failed to converge (status=1):\n",
      "STOP: TOTAL NO. of ITERATIONS REACHED LIMIT.\n",
      "\n",
      "Increase the number of iterations (max_iter) or scale the data as shown in:\n",
      "    https://scikit-learn.org/stable/modules/preprocessing.html\n",
      "  self.n_iter_ = _check_optimize_result(\"lbfgs\", opt_res, self.max_iter)\n",
      "D:\\anaconda\\envs\\tensorflow\\lib\\site-packages\\sklearn\\neural_network\\_multilayer_perceptron.py:559: ConvergenceWarning: lbfgs failed to converge (status=1):\n",
      "STOP: TOTAL NO. of ITERATIONS REACHED LIMIT.\n",
      "\n",
      "Increase the number of iterations (max_iter) or scale the data as shown in:\n",
      "    https://scikit-learn.org/stable/modules/preprocessing.html\n",
      "  self.n_iter_ = _check_optimize_result(\"lbfgs\", opt_res, self.max_iter)\n",
      "D:\\anaconda\\envs\\tensorflow\\lib\\site-packages\\sklearn\\neural_network\\_multilayer_perceptron.py:559: ConvergenceWarning: lbfgs failed to converge (status=1):\n",
      "STOP: TOTAL NO. of ITERATIONS REACHED LIMIT.\n",
      "\n",
      "Increase the number of iterations (max_iter) or scale the data as shown in:\n",
      "    https://scikit-learn.org/stable/modules/preprocessing.html\n",
      "  self.n_iter_ = _check_optimize_result(\"lbfgs\", opt_res, self.max_iter)\n",
      "D:\\anaconda\\envs\\tensorflow\\lib\\site-packages\\sklearn\\neural_network\\_multilayer_perceptron.py:559: ConvergenceWarning: lbfgs failed to converge (status=1):\n",
      "STOP: TOTAL NO. of ITERATIONS REACHED LIMIT.\n",
      "\n",
      "Increase the number of iterations (max_iter) or scale the data as shown in:\n",
      "    https://scikit-learn.org/stable/modules/preprocessing.html\n",
      "  self.n_iter_ = _check_optimize_result(\"lbfgs\", opt_res, self.max_iter)\n",
      "D:\\anaconda\\envs\\tensorflow\\lib\\site-packages\\sklearn\\neural_network\\_multilayer_perceptron.py:559: ConvergenceWarning: lbfgs failed to converge (status=1):\n",
      "STOP: TOTAL NO. of ITERATIONS REACHED LIMIT.\n",
      "\n",
      "Increase the number of iterations (max_iter) or scale the data as shown in:\n",
      "    https://scikit-learn.org/stable/modules/preprocessing.html\n",
      "  self.n_iter_ = _check_optimize_result(\"lbfgs\", opt_res, self.max_iter)\n",
      "D:\\anaconda\\envs\\tensorflow\\lib\\site-packages\\sklearn\\neural_network\\_multilayer_perceptron.py:559: ConvergenceWarning: lbfgs failed to converge (status=1):\n",
      "STOP: TOTAL NO. of ITERATIONS REACHED LIMIT.\n",
      "\n",
      "Increase the number of iterations (max_iter) or scale the data as shown in:\n",
      "    https://scikit-learn.org/stable/modules/preprocessing.html\n",
      "  self.n_iter_ = _check_optimize_result(\"lbfgs\", opt_res, self.max_iter)\n",
      "D:\\anaconda\\envs\\tensorflow\\lib\\site-packages\\sklearn\\neural_network\\_multilayer_perceptron.py:559: ConvergenceWarning: lbfgs failed to converge (status=1):\n",
      "STOP: TOTAL NO. of ITERATIONS REACHED LIMIT.\n",
      "\n",
      "Increase the number of iterations (max_iter) or scale the data as shown in:\n",
      "    https://scikit-learn.org/stable/modules/preprocessing.html\n",
      "  self.n_iter_ = _check_optimize_result(\"lbfgs\", opt_res, self.max_iter)\n",
      "D:\\anaconda\\envs\\tensorflow\\lib\\site-packages\\sklearn\\neural_network\\_multilayer_perceptron.py:559: ConvergenceWarning: lbfgs failed to converge (status=1):\n",
      "STOP: TOTAL NO. of ITERATIONS REACHED LIMIT.\n",
      "\n",
      "Increase the number of iterations (max_iter) or scale the data as shown in:\n",
      "    https://scikit-learn.org/stable/modules/preprocessing.html\n",
      "  self.n_iter_ = _check_optimize_result(\"lbfgs\", opt_res, self.max_iter)\n",
      "D:\\anaconda\\envs\\tensorflow\\lib\\site-packages\\sklearn\\neural_network\\_multilayer_perceptron.py:559: ConvergenceWarning: lbfgs failed to converge (status=1):\n",
      "STOP: TOTAL NO. of ITERATIONS REACHED LIMIT.\n",
      "\n",
      "Increase the number of iterations (max_iter) or scale the data as shown in:\n",
      "    https://scikit-learn.org/stable/modules/preprocessing.html\n",
      "  self.n_iter_ = _check_optimize_result(\"lbfgs\", opt_res, self.max_iter)\n"
     ]
    },
    {
     "name": "stdout",
     "output_type": "stream",
     "text": [
      "Iteration 1, loss = 0.67239770\n",
      "Iteration 2, loss = 0.52299785\n",
      "Iteration 3, loss = 0.44139513\n",
      "Iteration 4, loss = 0.38010713\n",
      "Iteration 5, loss = 0.33757960\n",
      "Iteration 6, loss = 0.30784914\n",
      "Iteration 7, loss = 0.28261383\n",
      "Iteration 8, loss = 0.26273681\n",
      "Iteration 9, loss = 0.24297513\n",
      "Iteration 10, loss = 0.22789442\n",
      "Iteration 11, loss = 0.21282332\n",
      "Iteration 12, loss = 0.20195083\n",
      "Iteration 13, loss = 0.18744155\n",
      "Iteration 14, loss = 0.17277665\n",
      "Iteration 15, loss = 0.16253714\n",
      "Iteration 16, loss = 0.15226622\n",
      "Iteration 17, loss = 0.14035623\n",
      "Iteration 18, loss = 0.13183509\n",
      "Iteration 19, loss = 0.12556825\n",
      "Iteration 20, loss = 0.11524967\n",
      "Iteration 1, loss = 0.67899330\n",
      "Iteration 2, loss = 0.52772164\n",
      "Iteration 3, loss = 0.44478917\n"
     ]
    },
    {
     "name": "stderr",
     "output_type": "stream",
     "text": [
      "D:\\anaconda\\envs\\tensorflow\\lib\\site-packages\\sklearn\\neural_network\\_multilayer_perceptron.py:702: ConvergenceWarning: Stochastic Optimizer: Maximum iterations (20) reached and the optimization hasn't converged yet.\n",
      "  warnings.warn(\n"
     ]
    },
    {
     "name": "stdout",
     "output_type": "stream",
     "text": [
      "Iteration 4, loss = 0.38322039\n",
      "Iteration 5, loss = 0.34045260\n",
      "Iteration 6, loss = 0.31253396\n",
      "Iteration 7, loss = 0.28661919\n",
      "Iteration 8, loss = 0.26642478\n",
      "Iteration 9, loss = 0.24662280\n",
      "Iteration 10, loss = 0.23244438\n",
      "Iteration 11, loss = 0.21822811\n",
      "Iteration 12, loss = 0.20394718\n",
      "Iteration 13, loss = 0.19056034\n",
      "Iteration 14, loss = 0.17727085\n",
      "Iteration 15, loss = 0.16664333\n",
      "Iteration 16, loss = 0.15643610\n",
      "Iteration 17, loss = 0.14405704\n",
      "Iteration 18, loss = 0.13377515\n",
      "Iteration 19, loss = 0.12625028\n",
      "Iteration 20, loss = 0.11683853\n",
      "Iteration 1, loss = 0.67600761\n",
      "Iteration 2, loss = 0.52867039\n",
      "Iteration 3, loss = 0.44633231\n",
      "Iteration 4, loss = 0.38645311\n",
      "Iteration 5, loss = 0.34453824\n",
      "Iteration 6, loss = 0.31481776\n"
     ]
    },
    {
     "name": "stderr",
     "output_type": "stream",
     "text": [
      "D:\\anaconda\\envs\\tensorflow\\lib\\site-packages\\sklearn\\neural_network\\_multilayer_perceptron.py:702: ConvergenceWarning: Stochastic Optimizer: Maximum iterations (20) reached and the optimization hasn't converged yet.\n",
      "  warnings.warn(\n"
     ]
    },
    {
     "name": "stdout",
     "output_type": "stream",
     "text": [
      "Iteration 7, loss = 0.28769279\n",
      "Iteration 8, loss = 0.26588811\n",
      "Iteration 9, loss = 0.24693806\n",
      "Iteration 10, loss = 0.23241865\n",
      "Iteration 11, loss = 0.21693970\n",
      "Iteration 12, loss = 0.20254561\n",
      "Iteration 13, loss = 0.18833127\n",
      "Iteration 14, loss = 0.17584157\n",
      "Iteration 15, loss = 0.16397699\n",
      "Iteration 16, loss = 0.15314376\n",
      "Iteration 17, loss = 0.14205392\n",
      "Iteration 18, loss = 0.13152189\n",
      "Iteration 19, loss = 0.12288439\n",
      "Iteration 20, loss = 0.11345699\n",
      "Iteration 1, loss = 0.67809788\n"
     ]
    },
    {
     "name": "stderr",
     "output_type": "stream",
     "text": [
      "D:\\anaconda\\envs\\tensorflow\\lib\\site-packages\\sklearn\\neural_network\\_multilayer_perceptron.py:702: ConvergenceWarning: Stochastic Optimizer: Maximum iterations (20) reached and the optimization hasn't converged yet.\n",
      "  warnings.warn(\n"
     ]
    },
    {
     "name": "stdout",
     "output_type": "stream",
     "text": [
      "Iteration 2, loss = 0.52812208\n",
      "Iteration 3, loss = 0.44559325\n",
      "Iteration 4, loss = 0.38478550\n",
      "Iteration 5, loss = 0.34317526\n",
      "Iteration 6, loss = 0.31307812\n",
      "Iteration 7, loss = 0.28459303\n",
      "Iteration 8, loss = 0.26428932\n",
      "Iteration 9, loss = 0.24671757\n",
      "Iteration 10, loss = 0.23288360\n",
      "Iteration 11, loss = 0.21766187\n",
      "Iteration 12, loss = 0.20175513\n",
      "Iteration 13, loss = 0.18870461\n",
      "Iteration 14, loss = 0.17634223\n",
      "Iteration 15, loss = 0.16547997\n",
      "Iteration 16, loss = 0.15582591\n",
      "Iteration 17, loss = 0.14487538\n",
      "Iteration 18, loss = 0.13358970\n",
      "Iteration 19, loss = 0.12473006\n",
      "Iteration 20, loss = 0.11636693\n",
      "Iteration 1, loss = 0.67415115\n",
      "Iteration 2, loss = 0.52321979\n",
      "Iteration 3, loss = 0.44149505\n",
      "Iteration 4, loss = 0.38229267\n"
     ]
    },
    {
     "name": "stderr",
     "output_type": "stream",
     "text": [
      "D:\\anaconda\\envs\\tensorflow\\lib\\site-packages\\sklearn\\neural_network\\_multilayer_perceptron.py:702: ConvergenceWarning: Stochastic Optimizer: Maximum iterations (20) reached and the optimization hasn't converged yet.\n",
      "  warnings.warn(\n"
     ]
    },
    {
     "name": "stdout",
     "output_type": "stream",
     "text": [
      "Iteration 5, loss = 0.34144920\n",
      "Iteration 6, loss = 0.31253643\n",
      "Iteration 7, loss = 0.28405748\n",
      "Iteration 8, loss = 0.26430794\n",
      "Iteration 9, loss = 0.24648042\n",
      "Iteration 10, loss = 0.23152413\n",
      "Iteration 11, loss = 0.21587628\n",
      "Iteration 12, loss = 0.19955975\n",
      "Iteration 13, loss = 0.18681855\n",
      "Iteration 14, loss = 0.17361062\n",
      "Iteration 15, loss = 0.16332289\n",
      "Iteration 16, loss = 0.15214793\n",
      "Iteration 17, loss = 0.14067345\n",
      "Iteration 18, loss = 0.12950892\n",
      "Iteration 19, loss = 0.12031637\n",
      "Iteration 20, loss = 0.11208013\n"
     ]
    },
    {
     "name": "stderr",
     "output_type": "stream",
     "text": [
      "D:\\anaconda\\envs\\tensorflow\\lib\\site-packages\\sklearn\\neural_network\\_multilayer_perceptron.py:702: ConvergenceWarning: Stochastic Optimizer: Maximum iterations (20) reached and the optimization hasn't converged yet.\n",
      "  warnings.warn(\n"
     ]
    },
    {
     "name": "stdout",
     "output_type": "stream",
     "text": [
      "Iteration 1, loss = 0.67701168\n",
      "Iteration 2, loss = 0.52565359\n",
      "Iteration 3, loss = 0.44387939\n",
      "Iteration 4, loss = 0.38336471\n",
      "Iteration 5, loss = 0.34176457\n",
      "Iteration 6, loss = 0.31446774\n",
      "Iteration 7, loss = 0.28538002\n",
      "Iteration 8, loss = 0.26539159\n",
      "Iteration 9, loss = 0.24682406\n",
      "Iteration 10, loss = 0.23211355\n",
      "Iteration 11, loss = 0.21721739\n",
      "Iteration 12, loss = 0.20107914\n",
      "Iteration 13, loss = 0.18850174\n",
      "Iteration 14, loss = 0.17739353\n",
      "Iteration 15, loss = 0.16506187\n",
      "Iteration 16, loss = 0.15369384\n",
      "Iteration 17, loss = 0.14320469\n",
      "Iteration 18, loss = 0.13381579\n",
      "Iteration 19, loss = 0.12428073\n",
      "Iteration 20, loss = 0.11588859\n",
      "Iteration 1, loss = 0.67545662\n",
      "Iteration 2, loss = 0.52201702\n",
      "Iteration 3, loss = 0.43896762\n"
     ]
    },
    {
     "name": "stderr",
     "output_type": "stream",
     "text": [
      "D:\\anaconda\\envs\\tensorflow\\lib\\site-packages\\sklearn\\neural_network\\_multilayer_perceptron.py:702: ConvergenceWarning: Stochastic Optimizer: Maximum iterations (20) reached and the optimization hasn't converged yet.\n",
      "  warnings.warn(\n"
     ]
    },
    {
     "name": "stdout",
     "output_type": "stream",
     "text": [
      "Iteration 4, loss = 0.37785476\n",
      "Iteration 5, loss = 0.33418357\n",
      "Iteration 6, loss = 0.30436600\n",
      "Iteration 7, loss = 0.27679579\n",
      "Iteration 8, loss = 0.25694286\n",
      "Iteration 9, loss = 0.23795135\n",
      "Iteration 10, loss = 0.22501771\n",
      "Iteration 11, loss = 0.20977147\n",
      "Iteration 12, loss = 0.19546995\n",
      "Iteration 13, loss = 0.18330199\n",
      "Iteration 14, loss = 0.17198470\n",
      "Iteration 15, loss = 0.15915868\n",
      "Iteration 16, loss = 0.14876223\n",
      "Iteration 17, loss = 0.13884732\n",
      "Iteration 18, loss = 0.12931279\n",
      "Iteration 19, loss = 0.11915740\n",
      "Iteration 20, loss = 0.11243044\n",
      "Iteration 1, loss = 0.67346481\n",
      "Iteration 2, loss = 0.52376344\n",
      "Iteration 3, loss = 0.44153456\n",
      "Iteration 4, loss = 0.38305796\n"
     ]
    },
    {
     "name": "stderr",
     "output_type": "stream",
     "text": [
      "D:\\anaconda\\envs\\tensorflow\\lib\\site-packages\\sklearn\\neural_network\\_multilayer_perceptron.py:702: ConvergenceWarning: Stochastic Optimizer: Maximum iterations (20) reached and the optimization hasn't converged yet.\n",
      "  warnings.warn(\n"
     ]
    },
    {
     "name": "stdout",
     "output_type": "stream",
     "text": [
      "Iteration 5, loss = 0.34146174\n",
      "Iteration 6, loss = 0.31227393\n",
      "Iteration 7, loss = 0.28580824\n",
      "Iteration 8, loss = 0.26603093\n",
      "Iteration 9, loss = 0.24664098\n",
      "Iteration 10, loss = 0.23209816\n",
      "Iteration 11, loss = 0.21780225\n",
      "Iteration 12, loss = 0.20242659\n",
      "Iteration 13, loss = 0.19077444\n",
      "Iteration 14, loss = 0.18051125\n",
      "Iteration 15, loss = 0.16738792\n",
      "Iteration 16, loss = 0.15688992\n",
      "Iteration 17, loss = 0.14589537\n",
      "Iteration 18, loss = 0.13537899\n",
      "Iteration 19, loss = 0.12499393\n",
      "Iteration 20, loss = 0.11644998\n"
     ]
    },
    {
     "name": "stderr",
     "output_type": "stream",
     "text": [
      "D:\\anaconda\\envs\\tensorflow\\lib\\site-packages\\sklearn\\neural_network\\_multilayer_perceptron.py:702: ConvergenceWarning: Stochastic Optimizer: Maximum iterations (20) reached and the optimization hasn't converged yet.\n",
      "  warnings.warn(\n"
     ]
    },
    {
     "name": "stdout",
     "output_type": "stream",
     "text": [
      "Iteration 1, loss = 0.66982921\n",
      "Iteration 2, loss = 0.52073854\n",
      "Iteration 3, loss = 0.43878608\n",
      "Iteration 4, loss = 0.38129327\n",
      "Iteration 5, loss = 0.33778505\n",
      "Iteration 6, loss = 0.30747791\n",
      "Iteration 7, loss = 0.28457938\n",
      "Iteration 8, loss = 0.26490786\n",
      "Iteration 9, loss = 0.24669612\n",
      "Iteration 10, loss = 0.23219447\n",
      "Iteration 11, loss = 0.21655565\n",
      "Iteration 12, loss = 0.20176758\n",
      "Iteration 13, loss = 0.19042272\n",
      "Iteration 14, loss = 0.17780268\n",
      "Iteration 15, loss = 0.16555435\n",
      "Iteration 16, loss = 0.15419604\n",
      "Iteration 17, loss = 0.14294522\n",
      "Iteration 18, loss = 0.13424767\n",
      "Iteration 19, loss = 0.12398682\n",
      "Iteration 20, loss = 0.11576347\n",
      "Iteration 1, loss = 0.67296102\n",
      "Iteration 2, loss = 0.52752790\n",
      "Iteration 3, loss = 0.44693151\n",
      "Iteration 4, loss = 0.38883013\n"
     ]
    },
    {
     "name": "stderr",
     "output_type": "stream",
     "text": [
      "D:\\anaconda\\envs\\tensorflow\\lib\\site-packages\\sklearn\\neural_network\\_multilayer_perceptron.py:702: ConvergenceWarning: Stochastic Optimizer: Maximum iterations (20) reached and the optimization hasn't converged yet.\n",
      "  warnings.warn(\n"
     ]
    },
    {
     "name": "stdout",
     "output_type": "stream",
     "text": [
      "Iteration 5, loss = 0.34502310\n",
      "Iteration 6, loss = 0.31422903\n",
      "Iteration 7, loss = 0.28987511\n",
      "Iteration 8, loss = 0.26887786\n",
      "Iteration 9, loss = 0.25129750\n",
      "Iteration 10, loss = 0.23739473\n",
      "Iteration 11, loss = 0.22065123\n",
      "Iteration 12, loss = 0.20489727\n",
      "Iteration 13, loss = 0.19262727\n",
      "Iteration 14, loss = 0.17904203\n",
      "Iteration 15, loss = 0.16689690\n",
      "Iteration 16, loss = 0.15545162\n",
      "Iteration 17, loss = 0.14431862\n",
      "Iteration 18, loss = 0.13580160\n",
      "Iteration 19, loss = 0.12448108\n",
      "Iteration 20, loss = 0.11601493\n",
      "Iteration 1, loss = 0.76411390\n",
      "Iteration 2, loss = 0.71940186\n",
      "Iteration 3, loss = 0.68469928\n",
      "Iteration 4, loss = 0.65775047\n",
      "Iteration 5, loss = 0.63855758\n",
      "Iteration 6, loss = 0.62291570\n",
      "Iteration 7, loss = 0.60965593\n"
     ]
    },
    {
     "name": "stderr",
     "output_type": "stream",
     "text": [
      "D:\\anaconda\\envs\\tensorflow\\lib\\site-packages\\sklearn\\neural_network\\_multilayer_perceptron.py:702: ConvergenceWarning: Stochastic Optimizer: Maximum iterations (20) reached and the optimization hasn't converged yet.\n",
      "  warnings.warn(\n"
     ]
    },
    {
     "name": "stdout",
     "output_type": "stream",
     "text": [
      "Iteration 8, loss = 0.59825568\n",
      "Iteration 9, loss = 0.58688482\n",
      "Iteration 10, loss = 0.57754314\n",
      "Iteration 11, loss = 0.56795659\n",
      "Iteration 12, loss = 0.55945817\n",
      "Iteration 13, loss = 0.55118373\n",
      "Iteration 14, loss = 0.54323177\n",
      "Iteration 15, loss = 0.53533284\n",
      "Iteration 16, loss = 0.52784844\n",
      "Iteration 17, loss = 0.52059846\n",
      "Iteration 18, loss = 0.51407422\n",
      "Iteration 19, loss = 0.50725054\n",
      "Iteration 20, loss = 0.50060263\n",
      "Iteration 1, loss = 0.76635526\n",
      "Iteration 2, loss = 0.72194252\n",
      "Iteration 3, loss = 0.68778832\n"
     ]
    },
    {
     "name": "stderr",
     "output_type": "stream",
     "text": [
      "D:\\anaconda\\envs\\tensorflow\\lib\\site-packages\\sklearn\\neural_network\\_multilayer_perceptron.py:702: ConvergenceWarning: Stochastic Optimizer: Maximum iterations (20) reached and the optimization hasn't converged yet.\n",
      "  warnings.warn(\n"
     ]
    },
    {
     "name": "stdout",
     "output_type": "stream",
     "text": [
      "Iteration 4, loss = 0.66129785\n",
      "Iteration 5, loss = 0.64208839\n",
      "Iteration 6, loss = 0.62669325\n",
      "Iteration 7, loss = 0.61327553\n",
      "Iteration 8, loss = 0.60203133\n",
      "Iteration 9, loss = 0.59102468\n",
      "Iteration 10, loss = 0.58170138\n",
      "Iteration 11, loss = 0.57224512\n",
      "Iteration 12, loss = 0.56384473\n",
      "Iteration 13, loss = 0.55574987\n",
      "Iteration 14, loss = 0.54812338\n",
      "Iteration 15, loss = 0.54038419\n",
      "Iteration 16, loss = 0.53298063\n",
      "Iteration 17, loss = 0.52576412\n",
      "Iteration 18, loss = 0.51913586\n",
      "Iteration 19, loss = 0.51229537\n",
      "Iteration 20, loss = 0.50564721\n",
      "Iteration 1, loss = 0.76289287\n",
      "Iteration 2, loss = 0.71949548\n",
      "Iteration 3, loss = 0.68611948\n",
      "Iteration 4, loss = 0.66023681\n",
      "Iteration 5, loss = 0.64157498\n",
      "Iteration 6, loss = 0.62633024\n"
     ]
    },
    {
     "name": "stderr",
     "output_type": "stream",
     "text": [
      "D:\\anaconda\\envs\\tensorflow\\lib\\site-packages\\sklearn\\neural_network\\_multilayer_perceptron.py:702: ConvergenceWarning: Stochastic Optimizer: Maximum iterations (20) reached and the optimization hasn't converged yet.\n",
      "  warnings.warn(\n"
     ]
    },
    {
     "name": "stdout",
     "output_type": "stream",
     "text": [
      "Iteration 7, loss = 0.61315476\n",
      "Iteration 8, loss = 0.60205547\n",
      "Iteration 9, loss = 0.59162067\n",
      "Iteration 10, loss = 0.58217870\n",
      "Iteration 11, loss = 0.57290567\n",
      "Iteration 12, loss = 0.56456337\n",
      "Iteration 13, loss = 0.55670937\n",
      "Iteration 14, loss = 0.54895762\n",
      "Iteration 15, loss = 0.54120580\n",
      "Iteration 16, loss = 0.53389767\n",
      "Iteration 17, loss = 0.52685704\n",
      "Iteration 18, loss = 0.52001401\n",
      "Iteration 19, loss = 0.51318874\n",
      "Iteration 20, loss = 0.50667883\n",
      "Iteration 1, loss = 0.76554379\n",
      "Iteration 2, loss = 0.72131920\n"
     ]
    },
    {
     "name": "stderr",
     "output_type": "stream",
     "text": [
      "D:\\anaconda\\envs\\tensorflow\\lib\\site-packages\\sklearn\\neural_network\\_multilayer_perceptron.py:702: ConvergenceWarning: Stochastic Optimizer: Maximum iterations (20) reached and the optimization hasn't converged yet.\n",
      "  warnings.warn(\n"
     ]
    },
    {
     "name": "stdout",
     "output_type": "stream",
     "text": [
      "Iteration 3, loss = 0.68705758\n",
      "Iteration 4, loss = 0.66050435\n",
      "Iteration 5, loss = 0.64141439\n",
      "Iteration 6, loss = 0.62576218\n",
      "Iteration 7, loss = 0.61229075\n",
      "Iteration 8, loss = 0.60095334\n",
      "Iteration 9, loss = 0.59030785\n",
      "Iteration 10, loss = 0.58060139\n",
      "Iteration 11, loss = 0.57114071\n",
      "Iteration 12, loss = 0.56250682\n",
      "Iteration 13, loss = 0.55446224\n",
      "Iteration 14, loss = 0.54650825\n",
      "Iteration 15, loss = 0.53850633\n",
      "Iteration 16, loss = 0.53113541\n",
      "Iteration 17, loss = 0.52402845\n",
      "Iteration 18, loss = 0.51717112\n",
      "Iteration 19, loss = 0.51025512\n",
      "Iteration 20, loss = 0.50341599\n",
      "Iteration 1, loss = 0.76277795\n",
      "Iteration 2, loss = 0.71689789\n",
      "Iteration 3, loss = 0.68276376\n",
      "Iteration 4, loss = 0.65612149\n",
      "Iteration 5, loss = 0.63719068\n",
      "Iteration 6, loss = 0.62154512\n",
      "Iteration 7, loss = 0.60813533\n"
     ]
    },
    {
     "name": "stderr",
     "output_type": "stream",
     "text": [
      "D:\\anaconda\\envs\\tensorflow\\lib\\site-packages\\sklearn\\neural_network\\_multilayer_perceptron.py:702: ConvergenceWarning: Stochastic Optimizer: Maximum iterations (20) reached and the optimization hasn't converged yet.\n",
      "  warnings.warn(\n"
     ]
    },
    {
     "name": "stdout",
     "output_type": "stream",
     "text": [
      "Iteration 8, loss = 0.59662320\n",
      "Iteration 9, loss = 0.58618215\n",
      "Iteration 10, loss = 0.57637660\n",
      "Iteration 11, loss = 0.56677789\n",
      "Iteration 12, loss = 0.55815589\n",
      "Iteration 13, loss = 0.55041956\n",
      "Iteration 14, loss = 0.54226790\n",
      "Iteration 15, loss = 0.53457726\n",
      "Iteration 16, loss = 0.52710739\n",
      "Iteration 17, loss = 0.52004661\n",
      "Iteration 18, loss = 0.51309269\n",
      "Iteration 19, loss = 0.50626137\n",
      "Iteration 20, loss = 0.49938939\n",
      "Iteration 1, loss = 0.76516874\n",
      "Iteration 2, loss = 0.71989477\n",
      "Iteration 3, loss = 0.68594751\n",
      "Iteration 4, loss = 0.65923340\n"
     ]
    },
    {
     "name": "stderr",
     "output_type": "stream",
     "text": [
      "D:\\anaconda\\envs\\tensorflow\\lib\\site-packages\\sklearn\\neural_network\\_multilayer_perceptron.py:702: ConvergenceWarning: Stochastic Optimizer: Maximum iterations (20) reached and the optimization hasn't converged yet.\n",
      "  warnings.warn(\n"
     ]
    },
    {
     "name": "stdout",
     "output_type": "stream",
     "text": [
      "Iteration 5, loss = 0.64005015\n",
      "Iteration 6, loss = 0.62442573\n",
      "Iteration 7, loss = 0.61117954\n",
      "Iteration 8, loss = 0.59962444\n",
      "Iteration 9, loss = 0.58931425\n",
      "Iteration 10, loss = 0.57975764\n",
      "Iteration 11, loss = 0.57033047\n",
      "Iteration 12, loss = 0.56176461\n",
      "Iteration 13, loss = 0.55411941\n",
      "Iteration 14, loss = 0.54581964\n",
      "Iteration 15, loss = 0.53824179\n",
      "Iteration 16, loss = 0.53087882\n",
      "Iteration 17, loss = 0.52369984\n",
      "Iteration 18, loss = 0.51696647\n",
      "Iteration 19, loss = 0.50999738\n",
      "Iteration 20, loss = 0.50319801\n"
     ]
    },
    {
     "name": "stderr",
     "output_type": "stream",
     "text": [
      "D:\\anaconda\\envs\\tensorflow\\lib\\site-packages\\sklearn\\neural_network\\_multilayer_perceptron.py:702: ConvergenceWarning: Stochastic Optimizer: Maximum iterations (20) reached and the optimization hasn't converged yet.\n",
      "  warnings.warn(\n"
     ]
    },
    {
     "name": "stdout",
     "output_type": "stream",
     "text": [
      "Iteration 1, loss = 0.76731258\n",
      "Iteration 2, loss = 0.72000012\n",
      "Iteration 3, loss = 0.68437354\n",
      "Iteration 4, loss = 0.65709493\n",
      "Iteration 5, loss = 0.63769130\n",
      "Iteration 6, loss = 0.62201870\n",
      "Iteration 7, loss = 0.60857357\n",
      "Iteration 8, loss = 0.59694930\n",
      "Iteration 9, loss = 0.58635355\n",
      "Iteration 10, loss = 0.57683891\n",
      "Iteration 11, loss = 0.56740701\n",
      "Iteration 12, loss = 0.55895064\n",
      "Iteration 13, loss = 0.55106185\n",
      "Iteration 14, loss = 0.54282285\n",
      "Iteration 15, loss = 0.53503176\n",
      "Iteration 16, loss = 0.52797709\n",
      "Iteration 17, loss = 0.52055423\n",
      "Iteration 18, loss = 0.51392056\n",
      "Iteration 19, loss = 0.50710690\n",
      "Iteration 20, loss = 0.50012951\n",
      "Iteration 1, loss = 0.76171892\n",
      "Iteration 2, loss = 0.71795572\n",
      "Iteration 3, loss = 0.68433795\n",
      "Iteration 4, loss = 0.65905845\n"
     ]
    },
    {
     "name": "stderr",
     "output_type": "stream",
     "text": [
      "D:\\anaconda\\envs\\tensorflow\\lib\\site-packages\\sklearn\\neural_network\\_multilayer_perceptron.py:702: ConvergenceWarning: Stochastic Optimizer: Maximum iterations (20) reached and the optimization hasn't converged yet.\n",
      "  warnings.warn(\n"
     ]
    },
    {
     "name": "stdout",
     "output_type": "stream",
     "text": [
      "Iteration 5, loss = 0.64010439\n",
      "Iteration 6, loss = 0.62464936\n",
      "Iteration 7, loss = 0.61134501\n",
      "Iteration 8, loss = 0.59971157\n",
      "Iteration 9, loss = 0.58906321\n",
      "Iteration 10, loss = 0.57947192\n",
      "Iteration 11, loss = 0.56994787\n",
      "Iteration 12, loss = 0.56130961\n",
      "Iteration 13, loss = 0.55325503\n",
      "Iteration 14, loss = 0.54522706\n",
      "Iteration 15, loss = 0.53706731\n",
      "Iteration 16, loss = 0.53013157\n",
      "Iteration 17, loss = 0.52235600\n",
      "Iteration 18, loss = 0.51539981\n",
      "Iteration 19, loss = 0.50850703\n",
      "Iteration 20, loss = 0.50169868\n"
     ]
    },
    {
     "name": "stderr",
     "output_type": "stream",
     "text": [
      "D:\\anaconda\\envs\\tensorflow\\lib\\site-packages\\sklearn\\neural_network\\_multilayer_perceptron.py:702: ConvergenceWarning: Stochastic Optimizer: Maximum iterations (20) reached and the optimization hasn't converged yet.\n",
      "  warnings.warn(\n"
     ]
    },
    {
     "name": "stdout",
     "output_type": "stream",
     "text": [
      "Iteration 1, loss = 0.76099066\n",
      "Iteration 2, loss = 0.71567025\n",
      "Iteration 3, loss = 0.68105858\n",
      "Iteration 4, loss = 0.65514110\n",
      "Iteration 5, loss = 0.63619846\n",
      "Iteration 6, loss = 0.62040750\n",
      "Iteration 7, loss = 0.60737035\n",
      "Iteration 8, loss = 0.59567425\n",
      "Iteration 9, loss = 0.58528211\n",
      "Iteration 10, loss = 0.57544851\n",
      "Iteration 11, loss = 0.56597069\n",
      "Iteration 12, loss = 0.55758342\n",
      "Iteration 13, loss = 0.54922678\n",
      "Iteration 14, loss = 0.54175338\n",
      "Iteration 15, loss = 0.53370932\n",
      "Iteration 16, loss = 0.52592836\n",
      "Iteration 17, loss = 0.51899825\n",
      "Iteration 18, loss = 0.51177941\n",
      "Iteration 19, loss = 0.50522692\n",
      "Iteration 20, loss = 0.49857829\n",
      "Iteration 1, loss = 0.76023024\n",
      "Iteration 2, loss = 0.71791287\n",
      "Iteration 3, loss = 0.68472649\n",
      "Iteration 4, loss = 0.65963481\n",
      "Iteration 5, loss = 0.64104077\n"
     ]
    },
    {
     "name": "stderr",
     "output_type": "stream",
     "text": [
      "D:\\anaconda\\envs\\tensorflow\\lib\\site-packages\\sklearn\\neural_network\\_multilayer_perceptron.py:702: ConvergenceWarning: Stochastic Optimizer: Maximum iterations (20) reached and the optimization hasn't converged yet.\n",
      "  warnings.warn(\n"
     ]
    },
    {
     "name": "stdout",
     "output_type": "stream",
     "text": [
      "Iteration 6, loss = 0.62562539\n",
      "Iteration 7, loss = 0.61258303\n",
      "Iteration 8, loss = 0.60117715\n",
      "Iteration 9, loss = 0.59084013\n",
      "Iteration 10, loss = 0.58123664\n",
      "Iteration 11, loss = 0.57209933\n",
      "Iteration 12, loss = 0.56396705\n",
      "Iteration 13, loss = 0.55598819\n",
      "Iteration 14, loss = 0.54850909\n",
      "Iteration 15, loss = 0.54104028\n",
      "Iteration 16, loss = 0.53339398\n",
      "Iteration 17, loss = 0.52665376\n",
      "Iteration 18, loss = 0.51946149\n",
      "Iteration 19, loss = 0.51306203\n",
      "Iteration 20, loss = 0.50659757\n"
     ]
    },
    {
     "name": "stderr",
     "output_type": "stream",
     "text": [
      "D:\\anaconda\\envs\\tensorflow\\lib\\site-packages\\sklearn\\neural_network\\_multilayer_perceptron.py:702: ConvergenceWarning: Stochastic Optimizer: Maximum iterations (20) reached and the optimization hasn't converged yet.\n",
      "  warnings.warn(\n",
      "D:\\anaconda\\envs\\tensorflow\\lib\\site-packages\\sklearn\\neural_network\\_multilayer_perceptron.py:559: ConvergenceWarning: lbfgs failed to converge (status=1):\n",
      "STOP: TOTAL NO. of ITERATIONS REACHED LIMIT.\n",
      "\n",
      "Increase the number of iterations (max_iter) or scale the data as shown in:\n",
      "    https://scikit-learn.org/stable/modules/preprocessing.html\n",
      "  self.n_iter_ = _check_optimize_result(\"lbfgs\", opt_res, self.max_iter)\n",
      "D:\\anaconda\\envs\\tensorflow\\lib\\site-packages\\sklearn\\neural_network\\_multilayer_perceptron.py:559: ConvergenceWarning: lbfgs failed to converge (status=1):\n",
      "STOP: TOTAL NO. of ITERATIONS REACHED LIMIT.\n",
      "\n",
      "Increase the number of iterations (max_iter) or scale the data as shown in:\n",
      "    https://scikit-learn.org/stable/modules/preprocessing.html\n",
      "  self.n_iter_ = _check_optimize_result(\"lbfgs\", opt_res, self.max_iter)\n",
      "D:\\anaconda\\envs\\tensorflow\\lib\\site-packages\\sklearn\\neural_network\\_multilayer_perceptron.py:559: ConvergenceWarning: lbfgs failed to converge (status=1):\n",
      "STOP: TOTAL NO. of ITERATIONS REACHED LIMIT.\n",
      "\n",
      "Increase the number of iterations (max_iter) or scale the data as shown in:\n",
      "    https://scikit-learn.org/stable/modules/preprocessing.html\n",
      "  self.n_iter_ = _check_optimize_result(\"lbfgs\", opt_res, self.max_iter)\n",
      "D:\\anaconda\\envs\\tensorflow\\lib\\site-packages\\sklearn\\neural_network\\_multilayer_perceptron.py:559: ConvergenceWarning: lbfgs failed to converge (status=1):\n",
      "STOP: TOTAL NO. of ITERATIONS REACHED LIMIT.\n",
      "\n",
      "Increase the number of iterations (max_iter) or scale the data as shown in:\n",
      "    https://scikit-learn.org/stable/modules/preprocessing.html\n",
      "  self.n_iter_ = _check_optimize_result(\"lbfgs\", opt_res, self.max_iter)\n",
      "D:\\anaconda\\envs\\tensorflow\\lib\\site-packages\\sklearn\\neural_network\\_multilayer_perceptron.py:559: ConvergenceWarning: lbfgs failed to converge (status=1):\n",
      "STOP: TOTAL NO. of ITERATIONS REACHED LIMIT.\n",
      "\n",
      "Increase the number of iterations (max_iter) or scale the data as shown in:\n",
      "    https://scikit-learn.org/stable/modules/preprocessing.html\n",
      "  self.n_iter_ = _check_optimize_result(\"lbfgs\", opt_res, self.max_iter)\n",
      "D:\\anaconda\\envs\\tensorflow\\lib\\site-packages\\sklearn\\neural_network\\_multilayer_perceptron.py:559: ConvergenceWarning: lbfgs failed to converge (status=1):\n",
      "STOP: TOTAL NO. of ITERATIONS REACHED LIMIT.\n",
      "\n",
      "Increase the number of iterations (max_iter) or scale the data as shown in:\n",
      "    https://scikit-learn.org/stable/modules/preprocessing.html\n",
      "  self.n_iter_ = _check_optimize_result(\"lbfgs\", opt_res, self.max_iter)\n",
      "D:\\anaconda\\envs\\tensorflow\\lib\\site-packages\\sklearn\\neural_network\\_multilayer_perceptron.py:559: ConvergenceWarning: lbfgs failed to converge (status=1):\n",
      "STOP: TOTAL NO. of ITERATIONS REACHED LIMIT.\n",
      "\n",
      "Increase the number of iterations (max_iter) or scale the data as shown in:\n",
      "    https://scikit-learn.org/stable/modules/preprocessing.html\n",
      "  self.n_iter_ = _check_optimize_result(\"lbfgs\", opt_res, self.max_iter)\n",
      "D:\\anaconda\\envs\\tensorflow\\lib\\site-packages\\sklearn\\neural_network\\_multilayer_perceptron.py:559: ConvergenceWarning: lbfgs failed to converge (status=1):\n",
      "STOP: TOTAL NO. of ITERATIONS REACHED LIMIT.\n",
      "\n",
      "Increase the number of iterations (max_iter) or scale the data as shown in:\n",
      "    https://scikit-learn.org/stable/modules/preprocessing.html\n",
      "  self.n_iter_ = _check_optimize_result(\"lbfgs\", opt_res, self.max_iter)\n",
      "D:\\anaconda\\envs\\tensorflow\\lib\\site-packages\\sklearn\\neural_network\\_multilayer_perceptron.py:559: ConvergenceWarning: lbfgs failed to converge (status=1):\n",
      "STOP: TOTAL NO. of ITERATIONS REACHED LIMIT.\n",
      "\n",
      "Increase the number of iterations (max_iter) or scale the data as shown in:\n",
      "    https://scikit-learn.org/stable/modules/preprocessing.html\n",
      "  self.n_iter_ = _check_optimize_result(\"lbfgs\", opt_res, self.max_iter)\n",
      "D:\\anaconda\\envs\\tensorflow\\lib\\site-packages\\sklearn\\neural_network\\_multilayer_perceptron.py:559: ConvergenceWarning: lbfgs failed to converge (status=1):\n",
      "STOP: TOTAL NO. of ITERATIONS REACHED LIMIT.\n",
      "\n",
      "Increase the number of iterations (max_iter) or scale the data as shown in:\n",
      "    https://scikit-learn.org/stable/modules/preprocessing.html\n",
      "  self.n_iter_ = _check_optimize_result(\"lbfgs\", opt_res, self.max_iter)\n",
      "D:\\anaconda\\envs\\tensorflow\\lib\\site-packages\\sklearn\\neural_network\\_multilayer_perceptron.py:702: ConvergenceWarning: Stochastic Optimizer: Maximum iterations (20) reached and the optimization hasn't converged yet.\n",
      "  warnings.warn(\n"
     ]
    },
    {
     "name": "stdout",
     "output_type": "stream",
     "text": [
      "Iteration 1, loss = 0.93714822\n",
      "Iteration 2, loss = 0.91610688\n",
      "Iteration 3, loss = 0.89997834\n",
      "Iteration 4, loss = 0.88784001\n",
      "Iteration 5, loss = 0.87833240\n",
      "Iteration 6, loss = 0.87081470\n",
      "Iteration 7, loss = 0.86440062\n",
      "Iteration 8, loss = 0.85872231\n",
      "Iteration 9, loss = 0.85366245\n",
      "Iteration 10, loss = 0.84890208\n",
      "Iteration 11, loss = 0.84438605\n",
      "Iteration 12, loss = 0.84011960\n",
      "Iteration 13, loss = 0.83588294\n",
      "Iteration 14, loss = 0.83172664\n",
      "Iteration 15, loss = 0.82767789\n",
      "Iteration 16, loss = 0.82362354\n",
      "Iteration 17, loss = 0.81957767\n",
      "Iteration 18, loss = 0.81547212\n",
      "Iteration 19, loss = 0.81125843\n",
      "Iteration 20, loss = 0.80683201\n",
      "Iteration 1, loss = 0.93236450\n",
      "Iteration 2, loss = 0.91143992\n",
      "Iteration 3, loss = 0.89533805\n",
      "Iteration 4, loss = 0.88325417\n",
      "Iteration 5, loss = 0.87382023\n",
      "Iteration 6, loss = 0.86631760\n",
      "Iteration 7, loss = 0.85990572\n",
      "Iteration 8, loss = 0.85426844\n",
      "Iteration 9, loss = 0.84926103\n",
      "Iteration 10, loss = 0.84460717\n",
      "Iteration 11, loss = 0.84015894\n",
      "Iteration 12, loss = 0.83593234\n",
      "Iteration 13, loss = 0.83180457\n",
      "Iteration 14, loss = 0.82774023\n",
      "Iteration 15, loss = 0.82379278\n",
      "Iteration 16, loss = 0.81987109\n",
      "Iteration 17, loss = 0.81596591\n",
      "Iteration 18, loss = 0.81204258\n",
      "Iteration 19, loss = 0.80806177\n",
      "Iteration 20, loss = 0.80394571\n",
      "Iteration 1, loss = 0.92752200\n"
     ]
    },
    {
     "name": "stderr",
     "output_type": "stream",
     "text": [
      "D:\\anaconda\\envs\\tensorflow\\lib\\site-packages\\sklearn\\neural_network\\_multilayer_perceptron.py:702: ConvergenceWarning: Stochastic Optimizer: Maximum iterations (20) reached and the optimization hasn't converged yet.\n",
      "  warnings.warn(\n"
     ]
    },
    {
     "name": "stdout",
     "output_type": "stream",
     "text": [
      "Iteration 2, loss = 0.90702435\n",
      "Iteration 3, loss = 0.89136014\n",
      "Iteration 4, loss = 0.87960982\n",
      "Iteration 5, loss = 0.87035718\n",
      "Iteration 6, loss = 0.86305041\n",
      "Iteration 7, loss = 0.85676650\n",
      "Iteration 8, loss = 0.85122771\n",
      "Iteration 9, loss = 0.84628467\n",
      "Iteration 10, loss = 0.84169338\n",
      "Iteration 11, loss = 0.83732132\n",
      "Iteration 12, loss = 0.83312983\n",
      "Iteration 13, loss = 0.82904821\n",
      "Iteration 14, loss = 0.82502962\n",
      "Iteration 15, loss = 0.82108309\n",
      "Iteration 16, loss = 0.81717638\n",
      "Iteration 17, loss = 0.81325658\n",
      "Iteration 18, loss = 0.80927615\n",
      "Iteration 19, loss = 0.80520978\n",
      "Iteration 20, loss = 0.80096728\n",
      "Iteration 1, loss = 0.93613081\n"
     ]
    },
    {
     "name": "stderr",
     "output_type": "stream",
     "text": [
      "D:\\anaconda\\envs\\tensorflow\\lib\\site-packages\\sklearn\\neural_network\\_multilayer_perceptron.py:702: ConvergenceWarning: Stochastic Optimizer: Maximum iterations (20) reached and the optimization hasn't converged yet.\n",
      "  warnings.warn(\n"
     ]
    },
    {
     "name": "stdout",
     "output_type": "stream",
     "text": [
      "Iteration 2, loss = 0.91497684\n",
      "Iteration 3, loss = 0.89884179\n",
      "Iteration 4, loss = 0.88673584\n",
      "Iteration 5, loss = 0.87720941\n",
      "Iteration 6, loss = 0.86966237\n",
      "Iteration 7, loss = 0.86322393\n",
      "Iteration 8, loss = 0.85754444\n",
      "Iteration 9, loss = 0.85247617\n",
      "Iteration 10, loss = 0.84776218\n",
      "Iteration 11, loss = 0.84332260\n",
      "Iteration 12, loss = 0.83903843\n",
      "Iteration 13, loss = 0.83486014\n",
      "Iteration 14, loss = 0.83080281\n",
      "Iteration 15, loss = 0.82677628\n",
      "Iteration 16, loss = 0.82287238\n",
      "Iteration 17, loss = 0.81895017\n",
      "Iteration 18, loss = 0.81505614\n",
      "Iteration 19, loss = 0.81110730\n",
      "Iteration 20, loss = 0.80712060\n"
     ]
    },
    {
     "name": "stderr",
     "output_type": "stream",
     "text": [
      "D:\\anaconda\\envs\\tensorflow\\lib\\site-packages\\sklearn\\neural_network\\_multilayer_perceptron.py:702: ConvergenceWarning: Stochastic Optimizer: Maximum iterations (20) reached and the optimization hasn't converged yet.\n",
      "  warnings.warn(\n"
     ]
    },
    {
     "name": "stdout",
     "output_type": "stream",
     "text": [
      "Iteration 1, loss = 0.92736837\n",
      "Iteration 2, loss = 0.90665629\n",
      "Iteration 3, loss = 0.89091363\n",
      "Iteration 4, loss = 0.87911573\n",
      "Iteration 5, loss = 0.86976288\n",
      "Iteration 6, loss = 0.86243093\n",
      "Iteration 7, loss = 0.85611649\n",
      "Iteration 8, loss = 0.85063338\n",
      "Iteration 9, loss = 0.84568522\n",
      "Iteration 10, loss = 0.84114150\n",
      "Iteration 11, loss = 0.83677627\n",
      "Iteration 12, loss = 0.83259713\n",
      "Iteration 13, loss = 0.82847485\n",
      "Iteration 14, loss = 0.82444305\n",
      "Iteration 15, loss = 0.82039123\n",
      "Iteration 16, loss = 0.81636707\n",
      "Iteration 17, loss = 0.81222900\n",
      "Iteration 18, loss = 0.80799528\n",
      "Iteration 19, loss = 0.80349066\n",
      "Iteration 20, loss = 0.79878959\n",
      "Iteration 1, loss = 0.93272804\n",
      "Iteration 2, loss = 0.91191821\n",
      "Iteration 3, loss = 0.89596018\n",
      "Iteration 4, loss = 0.88405707\n",
      "Iteration 5, loss = 0.87465336\n",
      "Iteration 6, loss = 0.86722066\n",
      "Iteration 7, loss = 0.86080492\n",
      "Iteration 8, loss = 0.85530514\n",
      "Iteration 9, loss = 0.85022134\n",
      "Iteration 10, loss = 0.84561747\n",
      "Iteration 11, loss = 0.84119569\n",
      "Iteration 12, loss = 0.83693115\n",
      "Iteration 13, loss = 0.83277804\n",
      "Iteration 14, loss = 0.82873836\n",
      "Iteration 15, loss = 0.82465135\n",
      "Iteration 16, loss = 0.82070651\n"
     ]
    },
    {
     "name": "stderr",
     "output_type": "stream",
     "text": [
      "D:\\anaconda\\envs\\tensorflow\\lib\\site-packages\\sklearn\\neural_network\\_multilayer_perceptron.py:702: ConvergenceWarning: Stochastic Optimizer: Maximum iterations (20) reached and the optimization hasn't converged yet.\n",
      "  warnings.warn(\n"
     ]
    },
    {
     "name": "stdout",
     "output_type": "stream",
     "text": [
      "Iteration 17, loss = 0.81664435\n",
      "Iteration 18, loss = 0.81261521\n",
      "Iteration 19, loss = 0.80840298\n",
      "Iteration 20, loss = 0.80401926\n",
      "Iteration 1, loss = 0.93671795\n",
      "Iteration 2, loss = 0.91578046\n",
      "Iteration 3, loss = 0.89964995\n",
      "Iteration 4, loss = 0.88759493\n",
      "Iteration 5, loss = 0.87800569\n",
      "Iteration 6, loss = 0.87046339\n",
      "Iteration 7, loss = 0.86391552\n",
      "Iteration 8, loss = 0.85837418\n",
      "Iteration 9, loss = 0.85320767\n",
      "Iteration 10, loss = 0.84854969\n",
      "Iteration 11, loss = 0.84408008\n",
      "Iteration 12, loss = 0.83975088\n",
      "Iteration 13, loss = 0.83557255\n"
     ]
    },
    {
     "name": "stderr",
     "output_type": "stream",
     "text": [
      "D:\\anaconda\\envs\\tensorflow\\lib\\site-packages\\sklearn\\neural_network\\_multilayer_perceptron.py:702: ConvergenceWarning: Stochastic Optimizer: Maximum iterations (20) reached and the optimization hasn't converged yet.\n",
      "  warnings.warn(\n"
     ]
    },
    {
     "name": "stdout",
     "output_type": "stream",
     "text": [
      "Iteration 14, loss = 0.83148395\n",
      "Iteration 15, loss = 0.82736726\n",
      "Iteration 16, loss = 0.82338232\n",
      "Iteration 17, loss = 0.81930857\n",
      "Iteration 18, loss = 0.81530679\n",
      "Iteration 19, loss = 0.81110991\n",
      "Iteration 20, loss = 0.80680354\n",
      "Iteration 1, loss = 0.94130393\n",
      "Iteration 2, loss = 0.92001397\n",
      "Iteration 3, loss = 0.90361159\n",
      "Iteration 4, loss = 0.89137437\n",
      "Iteration 5, loss = 0.88172813\n",
      "Iteration 6, loss = 0.87409942\n",
      "Iteration 7, loss = 0.86750275\n",
      "Iteration 8, loss = 0.86188516\n",
      "Iteration 9, loss = 0.85667378\n",
      "Iteration 10, loss = 0.85192951\n",
      "Iteration 11, loss = 0.84737803\n",
      "Iteration 12, loss = 0.84300313\n",
      "Iteration 13, loss = 0.83877507\n"
     ]
    },
    {
     "name": "stderr",
     "output_type": "stream",
     "text": [
      "D:\\anaconda\\envs\\tensorflow\\lib\\site-packages\\sklearn\\neural_network\\_multilayer_perceptron.py:702: ConvergenceWarning: Stochastic Optimizer: Maximum iterations (20) reached and the optimization hasn't converged yet.\n",
      "  warnings.warn(\n"
     ]
    },
    {
     "name": "stdout",
     "output_type": "stream",
     "text": [
      "Iteration 14, loss = 0.83463325\n",
      "Iteration 15, loss = 0.83047427\n",
      "Iteration 16, loss = 0.82645663\n",
      "Iteration 17, loss = 0.82236475\n",
      "Iteration 18, loss = 0.81833037\n",
      "Iteration 19, loss = 0.81417123\n",
      "Iteration 20, loss = 0.80988150\n",
      "Iteration 1, loss = 0.93233136\n",
      "Iteration 2, loss = 0.91158068\n",
      "Iteration 3, loss = 0.89571018\n",
      "Iteration 4, loss = 0.88347953\n",
      "Iteration 5, loss = 0.87425791\n",
      "Iteration 6, loss = 0.86667254\n",
      "Iteration 7, loss = 0.86026733\n",
      "Iteration 8, loss = 0.85476253\n",
      "Iteration 9, loss = 0.84974144\n",
      "Iteration 10, loss = 0.84512676\n",
      "Iteration 11, loss = 0.84062197\n"
     ]
    },
    {
     "name": "stderr",
     "output_type": "stream",
     "text": [
      "D:\\anaconda\\envs\\tensorflow\\lib\\site-packages\\sklearn\\neural_network\\_multilayer_perceptron.py:702: ConvergenceWarning: Stochastic Optimizer: Maximum iterations (20) reached and the optimization hasn't converged yet.\n",
      "  warnings.warn(\n"
     ]
    },
    {
     "name": "stdout",
     "output_type": "stream",
     "text": [
      "Iteration 12, loss = 0.83644732\n",
      "Iteration 13, loss = 0.83232759\n",
      "Iteration 14, loss = 0.82832581\n",
      "Iteration 15, loss = 0.82429679\n",
      "Iteration 16, loss = 0.82034831\n",
      "Iteration 17, loss = 0.81641985\n",
      "Iteration 18, loss = 0.81240590\n",
      "Iteration 19, loss = 0.80833195\n",
      "Iteration 20, loss = 0.80409639\n",
      "Iteration 1, loss = 0.93309343\n",
      "Iteration 2, loss = 0.91241266\n",
      "Iteration 3, loss = 0.89659904\n",
      "Iteration 4, loss = 0.88446878\n",
      "Iteration 5, loss = 0.87526940\n",
      "Iteration 6, loss = 0.86766013\n",
      "Iteration 7, loss = 0.86130327\n",
      "Iteration 8, loss = 0.85577671\n",
      "Iteration 9, loss = 0.85072351\n"
     ]
    },
    {
     "name": "stderr",
     "output_type": "stream",
     "text": [
      "D:\\anaconda\\envs\\tensorflow\\lib\\site-packages\\sklearn\\neural_network\\_multilayer_perceptron.py:702: ConvergenceWarning: Stochastic Optimizer: Maximum iterations (20) reached and the optimization hasn't converged yet.\n",
      "  warnings.warn(\n"
     ]
    },
    {
     "name": "stdout",
     "output_type": "stream",
     "text": [
      "Iteration 10, loss = 0.84608626\n",
      "Iteration 11, loss = 0.84157400\n",
      "Iteration 12, loss = 0.83738043\n",
      "Iteration 13, loss = 0.83325007\n",
      "Iteration 14, loss = 0.82922712\n",
      "Iteration 15, loss = 0.82518574\n",
      "Iteration 16, loss = 0.82124513\n",
      "Iteration 17, loss = 0.81730571\n",
      "Iteration 18, loss = 0.81326179\n",
      "Iteration 19, loss = 0.80920290\n",
      "Iteration 20, loss = 0.80496704\n",
      "Iteration 1, loss = 0.93254788\n",
      "Iteration 2, loss = 0.88318273\n",
      "Iteration 3, loss = 0.83982587\n",
      "Iteration 4, loss = 0.80908620\n",
      "Iteration 5, loss = 0.78808841\n",
      "Iteration 6, loss = 0.77436574\n"
     ]
    },
    {
     "name": "stderr",
     "output_type": "stream",
     "text": [
      "D:\\anaconda\\envs\\tensorflow\\lib\\site-packages\\sklearn\\neural_network\\_multilayer_perceptron.py:702: ConvergenceWarning: Stochastic Optimizer: Maximum iterations (20) reached and the optimization hasn't converged yet.\n",
      "  warnings.warn(\n"
     ]
    },
    {
     "name": "stdout",
     "output_type": "stream",
     "text": [
      "Iteration 7, loss = 0.76476281\n",
      "Iteration 8, loss = 0.75734994\n",
      "Iteration 9, loss = 0.75139048\n",
      "Iteration 10, loss = 0.74587435\n",
      "Iteration 11, loss = 0.74081812\n",
      "Iteration 12, loss = 0.73611970\n",
      "Iteration 13, loss = 0.73132357\n",
      "Iteration 14, loss = 0.72653248\n",
      "Iteration 15, loss = 0.72197330\n",
      "Iteration 16, loss = 0.71757045\n",
      "Iteration 17, loss = 0.71314084\n",
      "Iteration 18, loss = 0.70868550\n",
      "Iteration 19, loss = 0.70441486\n",
      "Iteration 20, loss = 0.70020916\n",
      "Iteration 1, loss = 0.92781683\n",
      "Iteration 2, loss = 0.87848067\n",
      "Iteration 3, loss = 0.83538252\n",
      "Iteration 4, loss = 0.80510522\n",
      "Iteration 5, loss = 0.78474248\n",
      "Iteration 6, loss = 0.77159969\n"
     ]
    },
    {
     "name": "stderr",
     "output_type": "stream",
     "text": [
      "D:\\anaconda\\envs\\tensorflow\\lib\\site-packages\\sklearn\\neural_network\\_multilayer_perceptron.py:702: ConvergenceWarning: Stochastic Optimizer: Maximum iterations (20) reached and the optimization hasn't converged yet.\n",
      "  warnings.warn(\n"
     ]
    },
    {
     "name": "stdout",
     "output_type": "stream",
     "text": [
      "Iteration 7, loss = 0.76240746\n",
      "Iteration 8, loss = 0.75542886\n",
      "Iteration 9, loss = 0.74985579\n",
      "Iteration 10, loss = 0.74479129\n",
      "Iteration 11, loss = 0.74006270\n",
      "Iteration 12, loss = 0.73558609\n",
      "Iteration 13, loss = 0.73122114\n",
      "Iteration 14, loss = 0.72686950\n",
      "Iteration 15, loss = 0.72260610\n",
      "Iteration 16, loss = 0.71868928\n",
      "Iteration 17, loss = 0.71463228\n",
      "Iteration 18, loss = 0.71062237\n",
      "Iteration 19, loss = 0.70667628\n",
      "Iteration 20, loss = 0.70267010\n",
      "Iteration 1, loss = 0.92351694\n",
      "Iteration 2, loss = 0.87650589\n",
      "Iteration 3, loss = 0.83515205\n",
      "Iteration 4, loss = 0.80587058\n",
      "Iteration 5, loss = 0.78562807\n"
     ]
    },
    {
     "name": "stderr",
     "output_type": "stream",
     "text": [
      "D:\\anaconda\\envs\\tensorflow\\lib\\site-packages\\sklearn\\neural_network\\_multilayer_perceptron.py:702: ConvergenceWarning: Stochastic Optimizer: Maximum iterations (20) reached and the optimization hasn't converged yet.\n",
      "  warnings.warn(\n",
      "D:\\anaconda\\envs\\tensorflow\\lib\\site-packages\\sklearn\\neural_network\\_multilayer_perceptron.py:702: ConvergenceWarning: Stochastic Optimizer: Maximum iterations (20) reached and the optimization hasn't converged yet.\n",
      "  warnings.warn(\n"
     ]
    },
    {
     "name": "stdout",
     "output_type": "stream",
     "text": [
      "Iteration 6, loss = 0.77257506\n",
      "Iteration 7, loss = 0.76322448\n",
      "Iteration 8, loss = 0.75611422\n",
      "Iteration 9, loss = 0.75040234\n",
      "Iteration 10, loss = 0.74527306\n",
      "Iteration 11, loss = 0.74050821\n",
      "Iteration 12, loss = 0.73598100\n",
      "Iteration 13, loss = 0.73161895\n",
      "Iteration 14, loss = 0.72728632\n",
      "Iteration 15, loss = 0.72318172\n",
      "Iteration 16, loss = 0.71938432\n",
      "Iteration 17, loss = 0.71549272\n",
      "Iteration 18, loss = 0.71158656\n",
      "Iteration 19, loss = 0.70782088\n",
      "Iteration 20, loss = 0.70400939\n",
      "Iteration 1, loss = 0.93144384\n",
      "Iteration 2, loss = 0.88164077\n",
      "Iteration 3, loss = 0.83828979\n",
      "Iteration 4, loss = 0.80775564\n",
      "Iteration 5, loss = 0.78677584\n",
      "Iteration 6, loss = 0.77328316\n",
      "Iteration 7, loss = 0.76386478\n",
      "Iteration 8, loss = 0.75661837\n",
      "Iteration 9, loss = 0.75077917\n",
      "Iteration 10, loss = 0.74546917\n",
      "Iteration 11, loss = 0.74058396\n",
      "Iteration 12, loss = 0.73588175\n",
      "Iteration 13, loss = 0.73124678\n",
      "Iteration 14, loss = 0.72668170\n",
      "Iteration 15, loss = 0.72219415\n",
      "Iteration 16, loss = 0.71803870\n",
      "Iteration 17, loss = 0.71379107\n",
      "Iteration 18, loss = 0.70955900\n",
      "Iteration 19, loss = 0.70539750\n",
      "Iteration 20, loss = 0.70144365\n",
      "Iteration 1, loss = 0.92303431\n",
      "Iteration 2, loss = 0.87547782\n",
      "Iteration 3, loss = 0.83403110\n",
      "Iteration 4, loss = 0.80470032\n",
      "Iteration 5, loss = 0.78418000\n",
      "Iteration 6, loss = 0.77109513\n",
      "Iteration 7, loss = 0.76176454\n",
      "Iteration 8, loss = 0.75483726\n"
     ]
    },
    {
     "name": "stderr",
     "output_type": "stream",
     "text": [
      "D:\\anaconda\\envs\\tensorflow\\lib\\site-packages\\sklearn\\neural_network\\_multilayer_perceptron.py:702: ConvergenceWarning: Stochastic Optimizer: Maximum iterations (20) reached and the optimization hasn't converged yet.\n",
      "  warnings.warn(\n",
      "D:\\anaconda\\envs\\tensorflow\\lib\\site-packages\\sklearn\\neural_network\\_multilayer_perceptron.py:702: ConvergenceWarning: Stochastic Optimizer: Maximum iterations (20) reached and the optimization hasn't converged yet.\n",
      "  warnings.warn(\n"
     ]
    },
    {
     "name": "stdout",
     "output_type": "stream",
     "text": [
      "Iteration 9, loss = 0.74913591\n",
      "Iteration 10, loss = 0.74416066\n",
      "Iteration 11, loss = 0.73936556\n",
      "Iteration 12, loss = 0.73490325\n",
      "Iteration 13, loss = 0.73038367\n",
      "Iteration 14, loss = 0.72589853\n",
      "Iteration 15, loss = 0.72152333\n",
      "Iteration 16, loss = 0.71734356\n",
      "Iteration 17, loss = 0.71302094\n",
      "Iteration 18, loss = 0.70876171\n",
      "Iteration 19, loss = 0.70466161\n",
      "Iteration 20, loss = 0.70076210\n",
      "Iteration 1, loss = 0.92819845\n",
      "Iteration 2, loss = 0.88002924\n",
      "Iteration 3, loss = 0.83766199\n",
      "Iteration 4, loss = 0.80771151\n",
      "Iteration 5, loss = 0.78686135\n",
      "Iteration 6, loss = 0.77344657\n",
      "Iteration 7, loss = 0.76382187\n",
      "Iteration 8, loss = 0.75694370\n",
      "Iteration 9, loss = 0.75091814\n",
      "Iteration 10, loss = 0.74579065\n",
      "Iteration 11, loss = 0.74082359\n",
      "Iteration 12, loss = 0.73614725\n",
      "Iteration 13, loss = 0.73160308\n",
      "Iteration 14, loss = 0.72700071\n",
      "Iteration 15, loss = 0.72231959\n",
      "Iteration 16, loss = 0.71808248\n",
      "Iteration 17, loss = 0.71359631\n",
      "Iteration 18, loss = 0.70922040\n",
      "Iteration 19, loss = 0.70497676\n",
      "Iteration 20, loss = 0.70092167\n",
      "Iteration 1, loss = 0.93188444\n",
      "Iteration 2, loss = 0.88285817\n",
      "Iteration 3, loss = 0.83972767\n",
      "Iteration 4, loss = 0.80923756\n",
      "Iteration 5, loss = 0.78790138\n",
      "Iteration 6, loss = 0.77430839\n",
      "Iteration 7, loss = 0.76437627\n",
      "Iteration 8, loss = 0.75747376\n",
      "Iteration 9, loss = 0.75116416\n",
      "Iteration 10, loss = 0.74585283\n",
      "Iteration 11, loss = 0.74069033\n"
     ]
    },
    {
     "name": "stderr",
     "output_type": "stream",
     "text": [
      "D:\\anaconda\\envs\\tensorflow\\lib\\site-packages\\sklearn\\neural_network\\_multilayer_perceptron.py:702: ConvergenceWarning: Stochastic Optimizer: Maximum iterations (20) reached and the optimization hasn't converged yet.\n",
      "  warnings.warn(\n",
      "D:\\anaconda\\envs\\tensorflow\\lib\\site-packages\\sklearn\\neural_network\\_multilayer_perceptron.py:702: ConvergenceWarning: Stochastic Optimizer: Maximum iterations (20) reached and the optimization hasn't converged yet.\n",
      "  warnings.warn(\n"
     ]
    },
    {
     "name": "stdout",
     "output_type": "stream",
     "text": [
      "Iteration 12, loss = 0.73574456\n",
      "Iteration 13, loss = 0.73083652\n",
      "Iteration 14, loss = 0.72597678\n",
      "Iteration 15, loss = 0.72123927\n",
      "Iteration 16, loss = 0.71666010\n",
      "Iteration 17, loss = 0.71191201\n",
      "Iteration 18, loss = 0.70722721\n",
      "Iteration 19, loss = 0.70280658\n",
      "Iteration 20, loss = 0.69850197\n",
      "Iteration 1, loss = 0.93640671\n",
      "Iteration 2, loss = 0.88595280\n",
      "Iteration 3, loss = 0.84134599\n",
      "Iteration 4, loss = 0.81001171\n",
      "Iteration 5, loss = 0.78837897\n",
      "Iteration 6, loss = 0.77465967\n",
      "Iteration 7, loss = 0.76467021\n",
      "Iteration 8, loss = 0.75778647\n",
      "Iteration 9, loss = 0.75152350\n",
      "Iteration 10, loss = 0.74621196\n",
      "Iteration 11, loss = 0.74106189\n",
      "Iteration 12, loss = 0.73624573\n",
      "Iteration 13, loss = 0.73155364\n",
      "Iteration 14, loss = 0.72689134\n",
      "Iteration 15, loss = 0.72234414\n",
      "Iteration 16, loss = 0.71809824\n",
      "Iteration 17, loss = 0.71372642\n",
      "Iteration 18, loss = 0.70946317\n",
      "Iteration 19, loss = 0.70524828\n",
      "Iteration 20, loss = 0.70132422\n",
      "Iteration 1, loss = 0.92771684\n",
      "Iteration 2, loss = 0.87979866\n",
      "Iteration 3, loss = 0.83760563\n",
      "Iteration 4, loss = 0.80691876\n",
      "Iteration 5, loss = 0.78695245\n",
      "Iteration 6, loss = 0.77334223\n",
      "Iteration 7, loss = 0.76373238\n",
      "Iteration 8, loss = 0.75688032\n",
      "Iteration 9, loss = 0.75108722\n",
      "Iteration 10, loss = 0.74586383\n",
      "Iteration 11, loss = 0.74081798\n",
      "Iteration 12, loss = 0.73621419\n",
      "Iteration 13, loss = 0.73153286\n",
      "Iteration 14, loss = 0.72698898\n",
      "Iteration 15, loss = 0.72237049\n",
      "Iteration 16, loss = 0.71795720\n"
     ]
    },
    {
     "name": "stderr",
     "output_type": "stream",
     "text": [
      "D:\\anaconda\\envs\\tensorflow\\lib\\site-packages\\sklearn\\neural_network\\_multilayer_perceptron.py:702: ConvergenceWarning: Stochastic Optimizer: Maximum iterations (20) reached and the optimization hasn't converged yet.\n",
      "  warnings.warn(\n",
      "D:\\anaconda\\envs\\tensorflow\\lib\\site-packages\\sklearn\\neural_network\\_multilayer_perceptron.py:702: ConvergenceWarning: Stochastic Optimizer: Maximum iterations (20) reached and the optimization hasn't converged yet.\n",
      "  warnings.warn(\n"
     ]
    },
    {
     "name": "stdout",
     "output_type": "stream",
     "text": [
      "Iteration 17, loss = 0.71361834\n",
      "Iteration 18, loss = 0.70922795\n",
      "Iteration 19, loss = 0.70497020\n",
      "Iteration 20, loss = 0.70101243\n",
      "Iteration 1, loss = 0.92840015\n",
      "Iteration 2, loss = 0.88088048\n",
      "Iteration 3, loss = 0.83909823\n",
      "Iteration 4, loss = 0.80879709\n",
      "Iteration 5, loss = 0.78872735\n",
      "Iteration 6, loss = 0.77489119\n",
      "Iteration 7, loss = 0.76544114\n",
      "Iteration 8, loss = 0.75863830\n",
      "Iteration 9, loss = 0.75291842\n",
      "Iteration 10, loss = 0.74782917\n",
      "Iteration 11, loss = 0.74287119\n",
      "Iteration 12, loss = 0.73839419\n",
      "Iteration 13, loss = 0.73386558\n",
      "Iteration 14, loss = 0.72950152\n",
      "Iteration 15, loss = 0.72517277\n",
      "Iteration 16, loss = 0.72108773\n",
      "Iteration 17, loss = 0.71702278\n",
      "Iteration 18, loss = 0.71294382\n",
      "Iteration 19, loss = 0.70896015\n",
      "Iteration 20, loss = 0.70521043\n"
     ]
    },
    {
     "name": "stderr",
     "output_type": "stream",
     "text": [
      "D:\\anaconda\\envs\\tensorflow\\lib\\site-packages\\sklearn\\neural_network\\_multilayer_perceptron.py:702: ConvergenceWarning: Stochastic Optimizer: Maximum iterations (20) reached and the optimization hasn't converged yet.\n",
      "  warnings.warn(\n",
      "D:\\anaconda\\envs\\tensorflow\\lib\\site-packages\\sklearn\\neural_network\\_multilayer_perceptron.py:559: ConvergenceWarning: lbfgs failed to converge (status=1):\n",
      "STOP: TOTAL NO. of ITERATIONS REACHED LIMIT.\n",
      "\n",
      "Increase the number of iterations (max_iter) or scale the data as shown in:\n",
      "    https://scikit-learn.org/stable/modules/preprocessing.html\n",
      "  self.n_iter_ = _check_optimize_result(\"lbfgs\", opt_res, self.max_iter)\n",
      "D:\\anaconda\\envs\\tensorflow\\lib\\site-packages\\sklearn\\neural_network\\_multilayer_perceptron.py:559: ConvergenceWarning: lbfgs failed to converge (status=1):\n",
      "STOP: TOTAL NO. of ITERATIONS REACHED LIMIT.\n",
      "\n",
      "Increase the number of iterations (max_iter) or scale the data as shown in:\n",
      "    https://scikit-learn.org/stable/modules/preprocessing.html\n",
      "  self.n_iter_ = _check_optimize_result(\"lbfgs\", opt_res, self.max_iter)\n",
      "D:\\anaconda\\envs\\tensorflow\\lib\\site-packages\\sklearn\\neural_network\\_multilayer_perceptron.py:559: ConvergenceWarning: lbfgs failed to converge (status=1):\n",
      "STOP: TOTAL NO. of ITERATIONS REACHED LIMIT.\n",
      "\n",
      "Increase the number of iterations (max_iter) or scale the data as shown in:\n",
      "    https://scikit-learn.org/stable/modules/preprocessing.html\n",
      "  self.n_iter_ = _check_optimize_result(\"lbfgs\", opt_res, self.max_iter)\n",
      "D:\\anaconda\\envs\\tensorflow\\lib\\site-packages\\sklearn\\neural_network\\_multilayer_perceptron.py:559: ConvergenceWarning: lbfgs failed to converge (status=1):\n",
      "STOP: TOTAL NO. of ITERATIONS REACHED LIMIT.\n",
      "\n",
      "Increase the number of iterations (max_iter) or scale the data as shown in:\n",
      "    https://scikit-learn.org/stable/modules/preprocessing.html\n",
      "  self.n_iter_ = _check_optimize_result(\"lbfgs\", opt_res, self.max_iter)\n",
      "D:\\anaconda\\envs\\tensorflow\\lib\\site-packages\\sklearn\\neural_network\\_multilayer_perceptron.py:559: ConvergenceWarning: lbfgs failed to converge (status=1):\n",
      "STOP: TOTAL NO. of ITERATIONS REACHED LIMIT.\n",
      "\n",
      "Increase the number of iterations (max_iter) or scale the data as shown in:\n",
      "    https://scikit-learn.org/stable/modules/preprocessing.html\n",
      "  self.n_iter_ = _check_optimize_result(\"lbfgs\", opt_res, self.max_iter)\n",
      "D:\\anaconda\\envs\\tensorflow\\lib\\site-packages\\sklearn\\neural_network\\_multilayer_perceptron.py:559: ConvergenceWarning: lbfgs failed to converge (status=1):\n",
      "STOP: TOTAL NO. of ITERATIONS REACHED LIMIT.\n",
      "\n",
      "Increase the number of iterations (max_iter) or scale the data as shown in:\n",
      "    https://scikit-learn.org/stable/modules/preprocessing.html\n",
      "  self.n_iter_ = _check_optimize_result(\"lbfgs\", opt_res, self.max_iter)\n",
      "D:\\anaconda\\envs\\tensorflow\\lib\\site-packages\\sklearn\\neural_network\\_multilayer_perceptron.py:559: ConvergenceWarning: lbfgs failed to converge (status=1):\n",
      "STOP: TOTAL NO. of ITERATIONS REACHED LIMIT.\n",
      "\n",
      "Increase the number of iterations (max_iter) or scale the data as shown in:\n",
      "    https://scikit-learn.org/stable/modules/preprocessing.html\n",
      "  self.n_iter_ = _check_optimize_result(\"lbfgs\", opt_res, self.max_iter)\n",
      "D:\\anaconda\\envs\\tensorflow\\lib\\site-packages\\sklearn\\neural_network\\_multilayer_perceptron.py:559: ConvergenceWarning: lbfgs failed to converge (status=1):\n",
      "STOP: TOTAL NO. of ITERATIONS REACHED LIMIT.\n",
      "\n",
      "Increase the number of iterations (max_iter) or scale the data as shown in:\n",
      "    https://scikit-learn.org/stable/modules/preprocessing.html\n",
      "  self.n_iter_ = _check_optimize_result(\"lbfgs\", opt_res, self.max_iter)\n",
      "D:\\anaconda\\envs\\tensorflow\\lib\\site-packages\\sklearn\\neural_network\\_multilayer_perceptron.py:559: ConvergenceWarning: lbfgs failed to converge (status=1):\n",
      "STOP: TOTAL NO. of ITERATIONS REACHED LIMIT.\n",
      "\n",
      "Increase the number of iterations (max_iter) or scale the data as shown in:\n",
      "    https://scikit-learn.org/stable/modules/preprocessing.html\n",
      "  self.n_iter_ = _check_optimize_result(\"lbfgs\", opt_res, self.max_iter)\n",
      "D:\\anaconda\\envs\\tensorflow\\lib\\site-packages\\sklearn\\neural_network\\_multilayer_perceptron.py:559: ConvergenceWarning: lbfgs failed to converge (status=1):\n",
      "STOP: TOTAL NO. of ITERATIONS REACHED LIMIT.\n",
      "\n",
      "Increase the number of iterations (max_iter) or scale the data as shown in:\n",
      "    https://scikit-learn.org/stable/modules/preprocessing.html\n",
      "  self.n_iter_ = _check_optimize_result(\"lbfgs\", opt_res, self.max_iter)\n"
     ]
    },
    {
     "name": "stdout",
     "output_type": "stream",
     "text": [
      "Iteration 1, loss = 1.20979193\n",
      "Iteration 2, loss = 0.67520119\n",
      "Iteration 3, loss = 0.53603771\n",
      "Iteration 4, loss = 0.47358327\n",
      "Iteration 5, loss = 0.43297966\n",
      "Iteration 6, loss = 0.40458839\n",
      "Iteration 7, loss = 0.38200941\n",
      "Iteration 8, loss = 0.36358500\n",
      "Iteration 9, loss = 0.34768771\n",
      "Iteration 10, loss = 0.33381779\n",
      "Iteration 11, loss = 0.32160425\n",
      "Iteration 12, loss = 0.31030100\n",
      "Iteration 13, loss = 0.29991944\n",
      "Iteration 14, loss = 0.28968629\n",
      "Iteration 15, loss = 0.28156130\n",
      "Iteration 16, loss = 0.27300601\n",
      "Iteration 17, loss = 0.26463120\n",
      "Iteration 18, loss = 0.25787887\n",
      "Iteration 19, loss = 0.25049058\n",
      "Iteration 20, loss = 0.24322682\n"
     ]
    },
    {
     "name": "stderr",
     "output_type": "stream",
     "text": [
      "D:\\anaconda\\envs\\tensorflow\\lib\\site-packages\\sklearn\\neural_network\\_multilayer_perceptron.py:702: ConvergenceWarning: Stochastic Optimizer: Maximum iterations (20) reached and the optimization hasn't converged yet.\n",
      "  warnings.warn(\n"
     ]
    },
    {
     "name": "stdout",
     "output_type": "stream",
     "text": [
      "Iteration 1, loss = 1.21715856\n",
      "Iteration 2, loss = 0.67760457\n",
      "Iteration 3, loss = 0.53749667\n",
      "Iteration 4, loss = 0.47409725\n",
      "Iteration 5, loss = 0.43366317\n",
      "Iteration 6, loss = 0.40533454\n",
      "Iteration 7, loss = 0.38247296\n",
      "Iteration 8, loss = 0.36376404\n",
      "Iteration 9, loss = 0.34791525\n",
      "Iteration 10, loss = 0.33400150\n",
      "Iteration 11, loss = 0.32174495\n",
      "Iteration 12, loss = 0.31038442\n",
      "Iteration 13, loss = 0.30023846\n",
      "Iteration 14, loss = 0.28988171\n",
      "Iteration 15, loss = 0.28156946\n",
      "Iteration 16, loss = 0.27335689\n",
      "Iteration 17, loss = 0.26508158\n",
      "Iteration 18, loss = 0.25765067\n",
      "Iteration 19, loss = 0.25038590\n",
      "Iteration 20, loss = 0.24293488\n"
     ]
    },
    {
     "name": "stderr",
     "output_type": "stream",
     "text": [
      "D:\\anaconda\\envs\\tensorflow\\lib\\site-packages\\sklearn\\neural_network\\_multilayer_perceptron.py:702: ConvergenceWarning: Stochastic Optimizer: Maximum iterations (20) reached and the optimization hasn't converged yet.\n",
      "  warnings.warn(\n"
     ]
    },
    {
     "name": "stdout",
     "output_type": "stream",
     "text": [
      "Iteration 1, loss = 1.21515320\n",
      "Iteration 2, loss = 0.67776735\n",
      "Iteration 3, loss = 0.53879955\n",
      "Iteration 4, loss = 0.47673701\n",
      "Iteration 5, loss = 0.43673574\n",
      "Iteration 6, loss = 0.40838742\n",
      "Iteration 7, loss = 0.38580079\n",
      "Iteration 8, loss = 0.36718882\n",
      "Iteration 9, loss = 0.35112040\n",
      "Iteration 10, loss = 0.33678578\n",
      "Iteration 11, loss = 0.32448745\n",
      "Iteration 12, loss = 0.31320615\n",
      "Iteration 13, loss = 0.30301689\n",
      "Iteration 14, loss = 0.29242050\n",
      "Iteration 15, loss = 0.28392551\n",
      "Iteration 16, loss = 0.27560200\n",
      "Iteration 17, loss = 0.26715307\n",
      "Iteration 18, loss = 0.25947698\n",
      "Iteration 19, loss = 0.25223813\n",
      "Iteration 20, loss = 0.24497222\n"
     ]
    },
    {
     "name": "stderr",
     "output_type": "stream",
     "text": [
      "D:\\anaconda\\envs\\tensorflow\\lib\\site-packages\\sklearn\\neural_network\\_multilayer_perceptron.py:702: ConvergenceWarning: Stochastic Optimizer: Maximum iterations (20) reached and the optimization hasn't converged yet.\n",
      "  warnings.warn(\n"
     ]
    },
    {
     "name": "stdout",
     "output_type": "stream",
     "text": [
      "Iteration 1, loss = 1.19799765\n",
      "Iteration 2, loss = 0.67089737\n",
      "Iteration 3, loss = 0.53584128\n",
      "Iteration 4, loss = 0.47218458\n",
      "Iteration 5, loss = 0.43174871\n",
      "Iteration 6, loss = 0.40308229\n",
      "Iteration 7, loss = 0.38036395\n",
      "Iteration 8, loss = 0.36152188\n",
      "Iteration 9, loss = 0.34530256\n",
      "Iteration 10, loss = 0.33121851\n",
      "Iteration 11, loss = 0.31896513\n",
      "Iteration 12, loss = 0.30753230\n",
      "Iteration 13, loss = 0.29732708\n",
      "Iteration 14, loss = 0.28726284\n",
      "Iteration 15, loss = 0.27854203\n",
      "Iteration 16, loss = 0.27043608\n",
      "Iteration 17, loss = 0.26217166\n",
      "Iteration 18, loss = 0.25484032\n",
      "Iteration 19, loss = 0.24768398\n",
      "Iteration 20, loss = 0.24095253\n"
     ]
    },
    {
     "name": "stderr",
     "output_type": "stream",
     "text": [
      "D:\\anaconda\\envs\\tensorflow\\lib\\site-packages\\sklearn\\neural_network\\_multilayer_perceptron.py:702: ConvergenceWarning: Stochastic Optimizer: Maximum iterations (20) reached and the optimization hasn't converged yet.\n",
      "  warnings.warn(\n"
     ]
    },
    {
     "name": "stdout",
     "output_type": "stream",
     "text": [
      "Iteration 1, loss = 1.21518172\n",
      "Iteration 2, loss = 0.67302096\n",
      "Iteration 3, loss = 0.53431783\n",
      "Iteration 4, loss = 0.47139560\n",
      "Iteration 5, loss = 0.43125848\n",
      "Iteration 6, loss = 0.40307490\n",
      "Iteration 7, loss = 0.38067862\n",
      "Iteration 8, loss = 0.36251083\n",
      "Iteration 9, loss = 0.34677318\n",
      "Iteration 10, loss = 0.33244760\n",
      "Iteration 11, loss = 0.32022574\n",
      "Iteration 12, loss = 0.30897136\n",
      "Iteration 13, loss = 0.29876470\n",
      "Iteration 14, loss = 0.28886106\n",
      "Iteration 15, loss = 0.27992176\n",
      "Iteration 16, loss = 0.27215924\n",
      "Iteration 17, loss = 0.26361547\n",
      "Iteration 18, loss = 0.25606601\n",
      "Iteration 19, loss = 0.24912684\n",
      "Iteration 20, loss = 0.24210034\n",
      "Iteration 1, loss = 1.20837784\n"
     ]
    },
    {
     "name": "stderr",
     "output_type": "stream",
     "text": [
      "D:\\anaconda\\envs\\tensorflow\\lib\\site-packages\\sklearn\\neural_network\\_multilayer_perceptron.py:702: ConvergenceWarning: Stochastic Optimizer: Maximum iterations (20) reached and the optimization hasn't converged yet.\n",
      "  warnings.warn(\n"
     ]
    },
    {
     "name": "stdout",
     "output_type": "stream",
     "text": [
      "Iteration 2, loss = 0.67290613\n",
      "Iteration 3, loss = 0.53559841\n",
      "Iteration 4, loss = 0.47228325\n",
      "Iteration 5, loss = 0.43176321\n",
      "Iteration 6, loss = 0.40317576\n",
      "Iteration 7, loss = 0.38066789\n",
      "Iteration 8, loss = 0.36229265\n",
      "Iteration 9, loss = 0.34669102\n",
      "Iteration 10, loss = 0.33211225\n",
      "Iteration 11, loss = 0.32000366\n",
      "Iteration 12, loss = 0.30924197\n",
      "Iteration 13, loss = 0.29906103\n",
      "Iteration 14, loss = 0.28925083\n",
      "Iteration 15, loss = 0.28021510\n",
      "Iteration 16, loss = 0.27259166\n",
      "Iteration 17, loss = 0.26427984\n",
      "Iteration 18, loss = 0.25678888\n",
      "Iteration 19, loss = 0.24976470\n",
      "Iteration 20, loss = 0.24270613\n",
      "Iteration 1, loss = 1.19917050\n"
     ]
    },
    {
     "name": "stderr",
     "output_type": "stream",
     "text": [
      "D:\\anaconda\\envs\\tensorflow\\lib\\site-packages\\sklearn\\neural_network\\_multilayer_perceptron.py:702: ConvergenceWarning: Stochastic Optimizer: Maximum iterations (20) reached and the optimization hasn't converged yet.\n",
      "  warnings.warn(\n"
     ]
    },
    {
     "name": "stdout",
     "output_type": "stream",
     "text": [
      "Iteration 2, loss = 0.66913504\n",
      "Iteration 3, loss = 0.53299066\n",
      "Iteration 4, loss = 0.46902860\n",
      "Iteration 5, loss = 0.42872761\n",
      "Iteration 6, loss = 0.40012942\n",
      "Iteration 7, loss = 0.37732199\n",
      "Iteration 8, loss = 0.35862858\n",
      "Iteration 9, loss = 0.34291133\n",
      "Iteration 10, loss = 0.32837927\n",
      "Iteration 11, loss = 0.31599920\n",
      "Iteration 12, loss = 0.30489106\n",
      "Iteration 13, loss = 0.29485170\n",
      "Iteration 14, loss = 0.28517579\n",
      "Iteration 15, loss = 0.27661729\n",
      "Iteration 16, loss = 0.26893600\n",
      "Iteration 17, loss = 0.26049132\n",
      "Iteration 18, loss = 0.25297950\n",
      "Iteration 19, loss = 0.24610645\n",
      "Iteration 20, loss = 0.23931043\n",
      "Iteration 1, loss = 1.18667192\n"
     ]
    },
    {
     "name": "stderr",
     "output_type": "stream",
     "text": [
      "D:\\anaconda\\envs\\tensorflow\\lib\\site-packages\\sklearn\\neural_network\\_multilayer_perceptron.py:702: ConvergenceWarning: Stochastic Optimizer: Maximum iterations (20) reached and the optimization hasn't converged yet.\n",
      "  warnings.warn(\n"
     ]
    },
    {
     "name": "stdout",
     "output_type": "stream",
     "text": [
      "Iteration 2, loss = 0.66686696\n",
      "Iteration 3, loss = 0.53543712\n",
      "Iteration 4, loss = 0.47181637\n",
      "Iteration 5, loss = 0.43176010\n",
      "Iteration 6, loss = 0.40306143\n",
      "Iteration 7, loss = 0.38026557\n",
      "Iteration 8, loss = 0.36184650\n",
      "Iteration 9, loss = 0.34565023\n",
      "Iteration 10, loss = 0.33152468\n",
      "Iteration 11, loss = 0.31923872\n",
      "Iteration 12, loss = 0.30805741\n",
      "Iteration 13, loss = 0.29801801\n",
      "Iteration 14, loss = 0.28814786\n",
      "Iteration 15, loss = 0.27962556\n",
      "Iteration 16, loss = 0.27174869\n",
      "Iteration 17, loss = 0.26316010\n",
      "Iteration 18, loss = 0.25594160\n",
      "Iteration 19, loss = 0.24878715\n",
      "Iteration 20, loss = 0.24245544\n",
      "Iteration 1, loss = 1.20174819\n",
      "Iteration 2, loss = 0.67092337\n"
     ]
    },
    {
     "name": "stderr",
     "output_type": "stream",
     "text": [
      "D:\\anaconda\\envs\\tensorflow\\lib\\site-packages\\sklearn\\neural_network\\_multilayer_perceptron.py:702: ConvergenceWarning: Stochastic Optimizer: Maximum iterations (20) reached and the optimization hasn't converged yet.\n",
      "  warnings.warn(\n"
     ]
    },
    {
     "name": "stdout",
     "output_type": "stream",
     "text": [
      "Iteration 3, loss = 0.53431339\n",
      "Iteration 4, loss = 0.47121165\n",
      "Iteration 5, loss = 0.43146087\n",
      "Iteration 6, loss = 0.40334973\n",
      "Iteration 7, loss = 0.38075339\n",
      "Iteration 8, loss = 0.36192094\n",
      "Iteration 9, loss = 0.34625681\n",
      "Iteration 10, loss = 0.33269607\n",
      "Iteration 11, loss = 0.32056568\n",
      "Iteration 12, loss = 0.30890800\n",
      "Iteration 13, loss = 0.29876025\n",
      "Iteration 14, loss = 0.28950618\n",
      "Iteration 15, loss = 0.28052844\n",
      "Iteration 16, loss = 0.27272195\n",
      "Iteration 17, loss = 0.26460968\n",
      "Iteration 18, loss = 0.25692096\n",
      "Iteration 19, loss = 0.24958518\n",
      "Iteration 20, loss = 0.24280732\n",
      "Iteration 1, loss = 1.19925519\n",
      "Iteration 2, loss = 0.67125759\n"
     ]
    },
    {
     "name": "stderr",
     "output_type": "stream",
     "text": [
      "D:\\anaconda\\envs\\tensorflow\\lib\\site-packages\\sklearn\\neural_network\\_multilayer_perceptron.py:702: ConvergenceWarning: Stochastic Optimizer: Maximum iterations (20) reached and the optimization hasn't converged yet.\n",
      "  warnings.warn(\n"
     ]
    },
    {
     "name": "stdout",
     "output_type": "stream",
     "text": [
      "Iteration 3, loss = 0.53793996\n",
      "Iteration 4, loss = 0.47529298\n",
      "Iteration 5, loss = 0.43590423\n",
      "Iteration 6, loss = 0.40800586\n",
      "Iteration 7, loss = 0.38570462\n",
      "Iteration 8, loss = 0.36708706\n",
      "Iteration 9, loss = 0.35129766\n",
      "Iteration 10, loss = 0.33743954\n",
      "Iteration 11, loss = 0.32522292\n",
      "Iteration 12, loss = 0.31353010\n",
      "Iteration 13, loss = 0.30301235\n",
      "Iteration 14, loss = 0.29384759\n",
      "Iteration 15, loss = 0.28464972\n",
      "Iteration 16, loss = 0.27688133\n",
      "Iteration 17, loss = 0.26891881\n",
      "Iteration 18, loss = 0.26087661\n",
      "Iteration 19, loss = 0.25364389\n",
      "Iteration 20, loss = 0.24677888\n",
      "Iteration 1, loss = 1.30911838\n",
      "Iteration 2, loss = 0.81485018\n"
     ]
    },
    {
     "name": "stderr",
     "output_type": "stream",
     "text": [
      "D:\\anaconda\\envs\\tensorflow\\lib\\site-packages\\sklearn\\neural_network\\_multilayer_perceptron.py:702: ConvergenceWarning: Stochastic Optimizer: Maximum iterations (20) reached and the optimization hasn't converged yet.\n",
      "  warnings.warn(\n"
     ]
    },
    {
     "name": "stdout",
     "output_type": "stream",
     "text": [
      "Iteration 3, loss = 0.74029403\n",
      "Iteration 4, loss = 0.69732978\n",
      "Iteration 5, loss = 0.67096495\n",
      "Iteration 6, loss = 0.65084134\n",
      "Iteration 7, loss = 0.63444031\n",
      "Iteration 8, loss = 0.62040252\n",
      "Iteration 9, loss = 0.60721066\n",
      "Iteration 10, loss = 0.59622471\n",
      "Iteration 11, loss = 0.58577507\n",
      "Iteration 12, loss = 0.57651222\n",
      "Iteration 13, loss = 0.56798033\n",
      "Iteration 14, loss = 0.56006711\n",
      "Iteration 15, loss = 0.55274438\n",
      "Iteration 16, loss = 0.54581080\n",
      "Iteration 17, loss = 0.53909306\n",
      "Iteration 18, loss = 0.53331895\n",
      "Iteration 19, loss = 0.52762783\n",
      "Iteration 20, loss = 0.52178127\n",
      "Iteration 1, loss = 1.31677855\n",
      "Iteration 2, loss = 0.81797625\n",
      "Iteration 3, loss = 0.74433076\n",
      "Iteration 4, loss = 0.70065339\n"
     ]
    },
    {
     "name": "stderr",
     "output_type": "stream",
     "text": [
      "D:\\anaconda\\envs\\tensorflow\\lib\\site-packages\\sklearn\\neural_network\\_multilayer_perceptron.py:702: ConvergenceWarning: Stochastic Optimizer: Maximum iterations (20) reached and the optimization hasn't converged yet.\n",
      "  warnings.warn(\n"
     ]
    },
    {
     "name": "stdout",
     "output_type": "stream",
     "text": [
      "Iteration 5, loss = 0.67451080\n",
      "Iteration 6, loss = 0.65442381\n",
      "Iteration 7, loss = 0.63814131\n",
      "Iteration 8, loss = 0.62418428\n",
      "Iteration 9, loss = 0.61133904\n",
      "Iteration 10, loss = 0.60050927\n",
      "Iteration 11, loss = 0.59000372\n",
      "Iteration 12, loss = 0.58088466\n",
      "Iteration 13, loss = 0.57241239\n",
      "Iteration 14, loss = 0.56424188\n",
      "Iteration 15, loss = 0.55705350\n",
      "Iteration 16, loss = 0.55015301\n",
      "Iteration 17, loss = 0.54337817\n",
      "Iteration 18, loss = 0.53748607\n",
      "Iteration 19, loss = 0.53149136\n",
      "Iteration 20, loss = 0.52562110\n",
      "Iteration 1, loss = 1.31684829\n",
      "Iteration 2, loss = 0.81704264\n",
      "Iteration 3, loss = 0.74428770\n",
      "Iteration 4, loss = 0.70149285\n",
      "Iteration 5, loss = 0.67589496\n"
     ]
    },
    {
     "name": "stderr",
     "output_type": "stream",
     "text": [
      "D:\\anaconda\\envs\\tensorflow\\lib\\site-packages\\sklearn\\neural_network\\_multilayer_perceptron.py:702: ConvergenceWarning: Stochastic Optimizer: Maximum iterations (20) reached and the optimization hasn't converged yet.\n",
      "  warnings.warn(\n"
     ]
    },
    {
     "name": "stdout",
     "output_type": "stream",
     "text": [
      "Iteration 6, loss = 0.65592171\n",
      "Iteration 7, loss = 0.63980622\n",
      "Iteration 8, loss = 0.62601660\n",
      "Iteration 9, loss = 0.61334382\n",
      "Iteration 10, loss = 0.60246048\n",
      "Iteration 11, loss = 0.59224528\n",
      "Iteration 12, loss = 0.58332728\n",
      "Iteration 13, loss = 0.57509177\n",
      "Iteration 14, loss = 0.56685859\n",
      "Iteration 15, loss = 0.55964897\n",
      "Iteration 16, loss = 0.55283293\n",
      "Iteration 17, loss = 0.54633417\n",
      "Iteration 18, loss = 0.54052036\n",
      "Iteration 19, loss = 0.53452121\n",
      "Iteration 20, loss = 0.52881000\n",
      "Iteration 1, loss = 1.30230952\n",
      "Iteration 2, loss = 0.81426717\n",
      "Iteration 3, loss = 0.74256568\n",
      "Iteration 4, loss = 0.69924813\n",
      "Iteration 5, loss = 0.67307313\n",
      "Iteration 6, loss = 0.65304307\n"
     ]
    },
    {
     "name": "stderr",
     "output_type": "stream",
     "text": [
      "D:\\anaconda\\envs\\tensorflow\\lib\\site-packages\\sklearn\\neural_network\\_multilayer_perceptron.py:702: ConvergenceWarning: Stochastic Optimizer: Maximum iterations (20) reached and the optimization hasn't converged yet.\n",
      "  warnings.warn(\n"
     ]
    },
    {
     "name": "stdout",
     "output_type": "stream",
     "text": [
      "Iteration 7, loss = 0.63658311\n",
      "Iteration 8, loss = 0.62230156\n",
      "Iteration 9, loss = 0.60937945\n",
      "Iteration 10, loss = 0.59812120\n",
      "Iteration 11, loss = 0.58774825\n",
      "Iteration 12, loss = 0.57862265\n",
      "Iteration 13, loss = 0.57007096\n",
      "Iteration 14, loss = 0.56176126\n",
      "Iteration 15, loss = 0.55447117\n",
      "Iteration 16, loss = 0.54733202\n",
      "Iteration 17, loss = 0.54081662\n",
      "Iteration 18, loss = 0.53476995\n",
      "Iteration 19, loss = 0.52857863\n",
      "Iteration 20, loss = 0.52284359\n",
      "Iteration 1, loss = 1.31936622\n",
      "Iteration 2, loss = 0.81588538\n",
      "Iteration 3, loss = 0.74424577\n",
      "Iteration 4, loss = 0.69990302\n",
      "Iteration 5, loss = 0.67360831\n",
      "Iteration 6, loss = 0.65322101\n",
      "Iteration 7, loss = 0.63653015\n"
     ]
    },
    {
     "name": "stderr",
     "output_type": "stream",
     "text": [
      "D:\\anaconda\\envs\\tensorflow\\lib\\site-packages\\sklearn\\neural_network\\_multilayer_perceptron.py:702: ConvergenceWarning: Stochastic Optimizer: Maximum iterations (20) reached and the optimization hasn't converged yet.\n",
      "  warnings.warn(\n"
     ]
    },
    {
     "name": "stdout",
     "output_type": "stream",
     "text": [
      "Iteration 8, loss = 0.62216737\n",
      "Iteration 9, loss = 0.60931733\n",
      "Iteration 10, loss = 0.59772694\n",
      "Iteration 11, loss = 0.58742225\n",
      "Iteration 12, loss = 0.57815036\n",
      "Iteration 13, loss = 0.56963396\n",
      "Iteration 14, loss = 0.56135712\n",
      "Iteration 15, loss = 0.55398930\n",
      "Iteration 16, loss = 0.54692781\n",
      "Iteration 17, loss = 0.54034279\n",
      "Iteration 18, loss = 0.53422793\n",
      "Iteration 19, loss = 0.52809566\n",
      "Iteration 20, loss = 0.52246713\n",
      "Iteration 1, loss = 1.31336508\n",
      "Iteration 2, loss = 0.81705555\n",
      "Iteration 3, loss = 0.74506046\n",
      "Iteration 4, loss = 0.70125903\n",
      "Iteration 5, loss = 0.67546465\n",
      "Iteration 6, loss = 0.65535726\n",
      "Iteration 7, loss = 0.63910879\n",
      "Iteration 8, loss = 0.62502756\n"
     ]
    },
    {
     "name": "stderr",
     "output_type": "stream",
     "text": [
      "D:\\anaconda\\envs\\tensorflow\\lib\\site-packages\\sklearn\\neural_network\\_multilayer_perceptron.py:702: ConvergenceWarning: Stochastic Optimizer: Maximum iterations (20) reached and the optimization hasn't converged yet.\n",
      "  warnings.warn(\n"
     ]
    },
    {
     "name": "stdout",
     "output_type": "stream",
     "text": [
      "Iteration 9, loss = 0.61274467\n",
      "Iteration 10, loss = 0.60117998\n",
      "Iteration 11, loss = 0.59116569\n",
      "Iteration 12, loss = 0.58215264\n",
      "Iteration 13, loss = 0.57329972\n",
      "Iteration 14, loss = 0.56517447\n",
      "Iteration 15, loss = 0.55786444\n",
      "Iteration 16, loss = 0.55062334\n",
      "Iteration 17, loss = 0.54423087\n",
      "Iteration 18, loss = 0.53802860\n",
      "Iteration 19, loss = 0.53189768\n",
      "Iteration 20, loss = 0.52616110\n",
      "Iteration 1, loss = 1.30907511\n",
      "Iteration 2, loss = 0.81499513\n",
      "Iteration 3, loss = 0.74251360\n",
      "Iteration 4, loss = 0.69790719\n",
      "Iteration 5, loss = 0.67182868\n",
      "Iteration 6, loss = 0.65181137\n",
      "Iteration 7, loss = 0.63543914\n",
      "Iteration 8, loss = 0.62126434\n",
      "Iteration 9, loss = 0.60925556\n",
      "Iteration 10, loss = 0.59744301\n"
     ]
    },
    {
     "name": "stderr",
     "output_type": "stream",
     "text": [
      "D:\\anaconda\\envs\\tensorflow\\lib\\site-packages\\sklearn\\neural_network\\_multilayer_perceptron.py:702: ConvergenceWarning: Stochastic Optimizer: Maximum iterations (20) reached and the optimization hasn't converged yet.\n",
      "  warnings.warn(\n"
     ]
    },
    {
     "name": "stdout",
     "output_type": "stream",
     "text": [
      "Iteration 11, loss = 0.58749503\n",
      "Iteration 12, loss = 0.57842465\n",
      "Iteration 13, loss = 0.56986415\n",
      "Iteration 14, loss = 0.56204729\n",
      "Iteration 15, loss = 0.55494395\n",
      "Iteration 16, loss = 0.54773138\n",
      "Iteration 17, loss = 0.54150016\n",
      "Iteration 18, loss = 0.53531012\n",
      "Iteration 19, loss = 0.52931791\n",
      "Iteration 20, loss = 0.52392514\n",
      "Iteration 1, loss = 1.30050799\n"
     ]
    },
    {
     "name": "stderr",
     "output_type": "stream",
     "text": [
      "D:\\anaconda\\envs\\tensorflow\\lib\\site-packages\\sklearn\\neural_network\\_multilayer_perceptron.py:702: ConvergenceWarning: Stochastic Optimizer: Maximum iterations (20) reached and the optimization hasn't converged yet.\n",
      "  warnings.warn(\n"
     ]
    },
    {
     "name": "stdout",
     "output_type": "stream",
     "text": [
      "Iteration 2, loss = 0.81449210\n",
      "Iteration 3, loss = 0.74450258\n",
      "Iteration 4, loss = 0.70064181\n",
      "Iteration 5, loss = 0.67467791\n",
      "Iteration 6, loss = 0.65453425\n",
      "Iteration 7, loss = 0.63814674\n",
      "Iteration 8, loss = 0.62391536\n",
      "Iteration 9, loss = 0.61146108\n",
      "Iteration 10, loss = 0.59986198\n",
      "Iteration 11, loss = 0.58988030\n",
      "Iteration 12, loss = 0.58049806\n",
      "Iteration 13, loss = 0.57200392\n",
      "Iteration 14, loss = 0.56400077\n",
      "Iteration 15, loss = 0.55680383\n",
      "Iteration 16, loss = 0.54962214\n",
      "Iteration 17, loss = 0.54315543\n",
      "Iteration 18, loss = 0.53677749\n",
      "Iteration 19, loss = 0.53080728\n",
      "Iteration 20, loss = 0.52544036\n",
      "Iteration 1, loss = 1.31144668\n",
      "Iteration 2, loss = 0.81673443\n",
      "Iteration 3, loss = 0.74111478\n"
     ]
    },
    {
     "name": "stderr",
     "output_type": "stream",
     "text": [
      "D:\\anaconda\\envs\\tensorflow\\lib\\site-packages\\sklearn\\neural_network\\_multilayer_perceptron.py:702: ConvergenceWarning: Stochastic Optimizer: Maximum iterations (20) reached and the optimization hasn't converged yet.\n",
      "  warnings.warn(\n"
     ]
    },
    {
     "name": "stdout",
     "output_type": "stream",
     "text": [
      "Iteration 4, loss = 0.69764661\n",
      "Iteration 5, loss = 0.67116938\n",
      "Iteration 6, loss = 0.65110956\n",
      "Iteration 7, loss = 0.63472479\n",
      "Iteration 8, loss = 0.62058815\n",
      "Iteration 9, loss = 0.60812192\n",
      "Iteration 10, loss = 0.59674829\n",
      "Iteration 11, loss = 0.58658789\n",
      "Iteration 12, loss = 0.57700151\n",
      "Iteration 13, loss = 0.56840780\n",
      "Iteration 14, loss = 0.56032761\n",
      "Iteration 15, loss = 0.55308525\n",
      "Iteration 16, loss = 0.54595654\n",
      "Iteration 17, loss = 0.53943050\n",
      "Iteration 18, loss = 0.53311691\n",
      "Iteration 19, loss = 0.52724094\n",
      "Iteration 20, loss = 0.52151589\n",
      "Iteration 1, loss = 1.31337992\n",
      "Iteration 2, loss = 0.82041980\n",
      "Iteration 3, loss = 0.74827505\n",
      "Iteration 4, loss = 0.70541669\n",
      "Iteration 5, loss = 0.67868956\n"
     ]
    },
    {
     "name": "stderr",
     "output_type": "stream",
     "text": [
      "D:\\anaconda\\envs\\tensorflow\\lib\\site-packages\\sklearn\\neural_network\\_multilayer_perceptron.py:702: ConvergenceWarning: Stochastic Optimizer: Maximum iterations (20) reached and the optimization hasn't converged yet.\n",
      "  warnings.warn(\n"
     ]
    },
    {
     "name": "stdout",
     "output_type": "stream",
     "text": [
      "Iteration 6, loss = 0.65870224\n",
      "Iteration 7, loss = 0.64219683\n",
      "Iteration 8, loss = 0.62812597\n",
      "Iteration 9, loss = 0.61559213\n",
      "Iteration 10, loss = 0.60422599\n",
      "Iteration 11, loss = 0.59410977\n",
      "Iteration 12, loss = 0.58452771\n",
      "Iteration 13, loss = 0.57570940\n",
      "Iteration 14, loss = 0.56758164\n",
      "Iteration 15, loss = 0.56013800\n",
      "Iteration 16, loss = 0.55295440\n",
      "Iteration 17, loss = 0.54632401\n",
      "Iteration 18, loss = 0.54011899\n",
      "Iteration 19, loss = 0.53421071\n",
      "Iteration 20, loss = 0.52839049\n"
     ]
    },
    {
     "name": "stderr",
     "output_type": "stream",
     "text": [
      "D:\\anaconda\\envs\\tensorflow\\lib\\site-packages\\sklearn\\neural_network\\_multilayer_perceptron.py:702: ConvergenceWarning: Stochastic Optimizer: Maximum iterations (20) reached and the optimization hasn't converged yet.\n",
      "  warnings.warn(\n",
      "D:\\anaconda\\envs\\tensorflow\\lib\\site-packages\\sklearn\\neural_network\\_multilayer_perceptron.py:559: ConvergenceWarning: lbfgs failed to converge (status=1):\n",
      "STOP: TOTAL NO. of ITERATIONS REACHED LIMIT.\n",
      "\n",
      "Increase the number of iterations (max_iter) or scale the data as shown in:\n",
      "    https://scikit-learn.org/stable/modules/preprocessing.html\n",
      "  self.n_iter_ = _check_optimize_result(\"lbfgs\", opt_res, self.max_iter)\n",
      "D:\\anaconda\\envs\\tensorflow\\lib\\site-packages\\sklearn\\neural_network\\_multilayer_perceptron.py:559: ConvergenceWarning: lbfgs failed to converge (status=1):\n",
      "STOP: TOTAL NO. of ITERATIONS REACHED LIMIT.\n",
      "\n",
      "Increase the number of iterations (max_iter) or scale the data as shown in:\n",
      "    https://scikit-learn.org/stable/modules/preprocessing.html\n",
      "  self.n_iter_ = _check_optimize_result(\"lbfgs\", opt_res, self.max_iter)\n",
      "D:\\anaconda\\envs\\tensorflow\\lib\\site-packages\\sklearn\\neural_network\\_multilayer_perceptron.py:559: ConvergenceWarning: lbfgs failed to converge (status=1):\n",
      "STOP: TOTAL NO. of ITERATIONS REACHED LIMIT.\n",
      "\n",
      "Increase the number of iterations (max_iter) or scale the data as shown in:\n",
      "    https://scikit-learn.org/stable/modules/preprocessing.html\n",
      "  self.n_iter_ = _check_optimize_result(\"lbfgs\", opt_res, self.max_iter)\n",
      "D:\\anaconda\\envs\\tensorflow\\lib\\site-packages\\sklearn\\neural_network\\_multilayer_perceptron.py:559: ConvergenceWarning: lbfgs failed to converge (status=1):\n",
      "STOP: TOTAL NO. of ITERATIONS REACHED LIMIT.\n",
      "\n",
      "Increase the number of iterations (max_iter) or scale the data as shown in:\n",
      "    https://scikit-learn.org/stable/modules/preprocessing.html\n",
      "  self.n_iter_ = _check_optimize_result(\"lbfgs\", opt_res, self.max_iter)\n",
      "D:\\anaconda\\envs\\tensorflow\\lib\\site-packages\\sklearn\\neural_network\\_multilayer_perceptron.py:559: ConvergenceWarning: lbfgs failed to converge (status=1):\n",
      "STOP: TOTAL NO. of ITERATIONS REACHED LIMIT.\n",
      "\n",
      "Increase the number of iterations (max_iter) or scale the data as shown in:\n",
      "    https://scikit-learn.org/stable/modules/preprocessing.html\n",
      "  self.n_iter_ = _check_optimize_result(\"lbfgs\", opt_res, self.max_iter)\n",
      "D:\\anaconda\\envs\\tensorflow\\lib\\site-packages\\sklearn\\neural_network\\_multilayer_perceptron.py:559: ConvergenceWarning: lbfgs failed to converge (status=1):\n",
      "STOP: TOTAL NO. of ITERATIONS REACHED LIMIT.\n",
      "\n",
      "Increase the number of iterations (max_iter) or scale the data as shown in:\n",
      "    https://scikit-learn.org/stable/modules/preprocessing.html\n",
      "  self.n_iter_ = _check_optimize_result(\"lbfgs\", opt_res, self.max_iter)\n",
      "D:\\anaconda\\envs\\tensorflow\\lib\\site-packages\\sklearn\\neural_network\\_multilayer_perceptron.py:559: ConvergenceWarning: lbfgs failed to converge (status=1):\n",
      "STOP: TOTAL NO. of ITERATIONS REACHED LIMIT.\n",
      "\n",
      "Increase the number of iterations (max_iter) or scale the data as shown in:\n",
      "    https://scikit-learn.org/stable/modules/preprocessing.html\n",
      "  self.n_iter_ = _check_optimize_result(\"lbfgs\", opt_res, self.max_iter)\n",
      "D:\\anaconda\\envs\\tensorflow\\lib\\site-packages\\sklearn\\neural_network\\_multilayer_perceptron.py:559: ConvergenceWarning: lbfgs failed to converge (status=1):\n",
      "STOP: TOTAL NO. of ITERATIONS REACHED LIMIT.\n",
      "\n",
      "Increase the number of iterations (max_iter) or scale the data as shown in:\n",
      "    https://scikit-learn.org/stable/modules/preprocessing.html\n",
      "  self.n_iter_ = _check_optimize_result(\"lbfgs\", opt_res, self.max_iter)\n",
      "D:\\anaconda\\envs\\tensorflow\\lib\\site-packages\\sklearn\\neural_network\\_multilayer_perceptron.py:559: ConvergenceWarning: lbfgs failed to converge (status=1):\n",
      "STOP: TOTAL NO. of ITERATIONS REACHED LIMIT.\n",
      "\n",
      "Increase the number of iterations (max_iter) or scale the data as shown in:\n",
      "    https://scikit-learn.org/stable/modules/preprocessing.html\n",
      "  self.n_iter_ = _check_optimize_result(\"lbfgs\", opt_res, self.max_iter)\n",
      "D:\\anaconda\\envs\\tensorflow\\lib\\site-packages\\sklearn\\neural_network\\_multilayer_perceptron.py:559: ConvergenceWarning: lbfgs failed to converge (status=1):\n",
      "STOP: TOTAL NO. of ITERATIONS REACHED LIMIT.\n",
      "\n",
      "Increase the number of iterations (max_iter) or scale the data as shown in:\n",
      "    https://scikit-learn.org/stable/modules/preprocessing.html\n",
      "  self.n_iter_ = _check_optimize_result(\"lbfgs\", opt_res, self.max_iter)\n"
     ]
    },
    {
     "name": "stdout",
     "output_type": "stream",
     "text": [
      "Iteration 1, loss = 0.67240127\n",
      "Iteration 2, loss = 0.52300147\n",
      "Iteration 3, loss = 0.44139881\n",
      "Iteration 4, loss = 0.38011090\n",
      "Iteration 5, loss = 0.33758346\n",
      "Iteration 6, loss = 0.30785304\n",
      "Iteration 7, loss = 0.28261774\n",
      "Iteration 8, loss = 0.26274086\n",
      "Iteration 9, loss = 0.24298130\n",
      "Iteration 10, loss = 0.22790289\n",
      "Iteration 11, loss = 0.21285472\n",
      "Iteration 12, loss = 0.20198326\n",
      "Iteration 13, loss = 0.18742875\n",
      "Iteration 14, loss = 0.17280125\n",
      "Iteration 15, loss = 0.16258675\n",
      "Iteration 16, loss = 0.15233509\n",
      "Iteration 17, loss = 0.14039416\n",
      "Iteration 18, loss = 0.13209460\n",
      "Iteration 19, loss = 0.12582425\n",
      "Iteration 20, loss = 0.11546055\n",
      "Iteration 1, loss = 0.67899688\n",
      "Iteration 2, loss = 0.52772526\n",
      "Iteration 3, loss = 0.44479286\n",
      "Iteration 4, loss = 0.38322416\n"
     ]
    },
    {
     "name": "stderr",
     "output_type": "stream",
     "text": [
      "D:\\anaconda\\envs\\tensorflow\\lib\\site-packages\\sklearn\\neural_network\\_multilayer_perceptron.py:702: ConvergenceWarning: Stochastic Optimizer: Maximum iterations (20) reached and the optimization hasn't converged yet.\n",
      "  warnings.warn(\n"
     ]
    },
    {
     "name": "stdout",
     "output_type": "stream",
     "text": [
      "Iteration 5, loss = 0.34045645\n",
      "Iteration 6, loss = 0.31253791\n",
      "Iteration 7, loss = 0.28662322\n",
      "Iteration 8, loss = 0.26642889\n",
      "Iteration 9, loss = 0.24662700\n",
      "Iteration 10, loss = 0.23244868\n",
      "Iteration 11, loss = 0.21823248\n",
      "Iteration 12, loss = 0.20395165\n",
      "Iteration 13, loss = 0.19056492\n",
      "Iteration 14, loss = 0.17727553\n",
      "Iteration 15, loss = 0.16664810\n",
      "Iteration 16, loss = 0.15644099\n",
      "Iteration 17, loss = 0.14406200\n",
      "Iteration 18, loss = 0.13378066\n",
      "Iteration 19, loss = 0.12625790\n",
      "Iteration 20, loss = 0.11684654\n",
      "Iteration 1, loss = 0.67601119\n",
      "Iteration 2, loss = 0.52867401\n",
      "Iteration 3, loss = 0.44633600\n",
      "Iteration 4, loss = 0.38645688\n",
      "Iteration 5, loss = 0.34454210\n",
      "Iteration 6, loss = 0.31482171\n"
     ]
    },
    {
     "name": "stderr",
     "output_type": "stream",
     "text": [
      "D:\\anaconda\\envs\\tensorflow\\lib\\site-packages\\sklearn\\neural_network\\_multilayer_perceptron.py:702: ConvergenceWarning: Stochastic Optimizer: Maximum iterations (20) reached and the optimization hasn't converged yet.\n",
      "  warnings.warn(\n"
     ]
    },
    {
     "name": "stdout",
     "output_type": "stream",
     "text": [
      "Iteration 7, loss = 0.28769683\n",
      "Iteration 8, loss = 0.26589223\n",
      "Iteration 9, loss = 0.24694229\n",
      "Iteration 10, loss = 0.23242297\n",
      "Iteration 11, loss = 0.21694410\n",
      "Iteration 12, loss = 0.20254894\n",
      "Iteration 13, loss = 0.18834199\n",
      "Iteration 14, loss = 0.17584484\n",
      "Iteration 15, loss = 0.16395967\n",
      "Iteration 16, loss = 0.15314746\n",
      "Iteration 17, loss = 0.14208275\n",
      "Iteration 18, loss = 0.13149798\n",
      "Iteration 19, loss = 0.12281889\n",
      "Iteration 20, loss = 0.11343138\n",
      "Iteration 1, loss = 0.67810145\n"
     ]
    },
    {
     "name": "stderr",
     "output_type": "stream",
     "text": [
      "D:\\anaconda\\envs\\tensorflow\\lib\\site-packages\\sklearn\\neural_network\\_multilayer_perceptron.py:702: ConvergenceWarning: Stochastic Optimizer: Maximum iterations (20) reached and the optimization hasn't converged yet.\n",
      "  warnings.warn(\n"
     ]
    },
    {
     "name": "stdout",
     "output_type": "stream",
     "text": [
      "Iteration 2, loss = 0.52812570\n",
      "Iteration 3, loss = 0.44559693\n",
      "Iteration 4, loss = 0.38478927\n",
      "Iteration 5, loss = 0.34317911\n",
      "Iteration 6, loss = 0.31308207\n",
      "Iteration 7, loss = 0.28459705\n",
      "Iteration 8, loss = 0.26429343\n",
      "Iteration 9, loss = 0.24672177\n",
      "Iteration 10, loss = 0.23288788\n",
      "Iteration 11, loss = 0.21766625\n",
      "Iteration 12, loss = 0.20175959\n",
      "Iteration 13, loss = 0.18870919\n",
      "Iteration 14, loss = 0.17634692\n",
      "Iteration 15, loss = 0.16548472\n",
      "Iteration 16, loss = 0.15583079\n",
      "Iteration 17, loss = 0.14488034\n",
      "Iteration 18, loss = 0.13359486\n",
      "Iteration 19, loss = 0.12473757\n",
      "Iteration 20, loss = 0.11637937\n",
      "Iteration 1, loss = 0.67415473\n",
      "Iteration 2, loss = 0.52322341\n",
      "Iteration 3, loss = 0.44149883\n",
      "Iteration 4, loss = 0.38229641\n"
     ]
    },
    {
     "name": "stderr",
     "output_type": "stream",
     "text": [
      "D:\\anaconda\\envs\\tensorflow\\lib\\site-packages\\sklearn\\neural_network\\_multilayer_perceptron.py:702: ConvergenceWarning: Stochastic Optimizer: Maximum iterations (20) reached and the optimization hasn't converged yet.\n",
      "  warnings.warn(\n"
     ]
    },
    {
     "name": "stdout",
     "output_type": "stream",
     "text": [
      "Iteration 5, loss = 0.34145353\n",
      "Iteration 6, loss = 0.31254086\n",
      "Iteration 7, loss = 0.28406039\n",
      "Iteration 8, loss = 0.26431990\n",
      "Iteration 9, loss = 0.24656226\n",
      "Iteration 10, loss = 0.23164798\n",
      "Iteration 11, loss = 0.21604590\n",
      "Iteration 12, loss = 0.19973104\n",
      "Iteration 13, loss = 0.18697748\n",
      "Iteration 14, loss = 0.17381907\n",
      "Iteration 15, loss = 0.16344575\n",
      "Iteration 16, loss = 0.15229171\n",
      "Iteration 17, loss = 0.14070474\n",
      "Iteration 18, loss = 0.12958457\n",
      "Iteration 19, loss = 0.12035875\n",
      "Iteration 20, loss = 0.11207885\n"
     ]
    },
    {
     "name": "stderr",
     "output_type": "stream",
     "text": [
      "D:\\anaconda\\envs\\tensorflow\\lib\\site-packages\\sklearn\\neural_network\\_multilayer_perceptron.py:702: ConvergenceWarning: Stochastic Optimizer: Maximum iterations (20) reached and the optimization hasn't converged yet.\n",
      "  warnings.warn(\n"
     ]
    },
    {
     "name": "stdout",
     "output_type": "stream",
     "text": [
      "Iteration 1, loss = 0.67701525\n",
      "Iteration 2, loss = 0.52565721\n",
      "Iteration 3, loss = 0.44388307\n",
      "Iteration 4, loss = 0.38336848\n",
      "Iteration 5, loss = 0.34176843\n",
      "Iteration 6, loss = 0.31447138\n",
      "Iteration 7, loss = 0.28538567\n",
      "Iteration 8, loss = 0.26539494\n",
      "Iteration 9, loss = 0.24682997\n",
      "Iteration 10, loss = 0.23215414\n",
      "Iteration 11, loss = 0.21720966\n",
      "Iteration 12, loss = 0.20101646\n",
      "Iteration 13, loss = 0.18847366\n",
      "Iteration 14, loss = 0.17740993\n",
      "Iteration 15, loss = 0.16505959\n",
      "Iteration 16, loss = 0.15375538\n",
      "Iteration 17, loss = 0.14325416\n",
      "Iteration 18, loss = 0.13391118\n",
      "Iteration 19, loss = 0.12437842\n",
      "Iteration 20, loss = 0.11599762\n",
      "Iteration 1, loss = 0.67546020\n",
      "Iteration 2, loss = 0.52202112\n",
      "Iteration 3, loss = 0.43897046\n",
      "Iteration 4, loss = 0.37785582\n"
     ]
    },
    {
     "name": "stderr",
     "output_type": "stream",
     "text": [
      "D:\\anaconda\\envs\\tensorflow\\lib\\site-packages\\sklearn\\neural_network\\_multilayer_perceptron.py:702: ConvergenceWarning: Stochastic Optimizer: Maximum iterations (20) reached and the optimization hasn't converged yet.\n",
      "  warnings.warn(\n"
     ]
    },
    {
     "name": "stdout",
     "output_type": "stream",
     "text": [
      "Iteration 5, loss = 0.33419894\n",
      "Iteration 6, loss = 0.30438934\n",
      "Iteration 7, loss = 0.27680418\n",
      "Iteration 8, loss = 0.25696662\n",
      "Iteration 9, loss = 0.23794428\n",
      "Iteration 10, loss = 0.22501432\n",
      "Iteration 11, loss = 0.20974939\n",
      "Iteration 12, loss = 0.19539966\n",
      "Iteration 13, loss = 0.18316048\n",
      "Iteration 14, loss = 0.17176680\n",
      "Iteration 15, loss = 0.15910827\n",
      "Iteration 16, loss = 0.14882793\n",
      "Iteration 17, loss = 0.13891399\n",
      "Iteration 18, loss = 0.12946955\n",
      "Iteration 19, loss = 0.11921844\n",
      "Iteration 20, loss = 0.11255349\n",
      "Iteration 1, loss = 0.67346839\n",
      "Iteration 2, loss = 0.52376705\n",
      "Iteration 3, loss = 0.44153824\n",
      "Iteration 4, loss = 0.38306173\n",
      "Iteration 5, loss = 0.34146560\n",
      "Iteration 6, loss = 0.31227787\n",
      "Iteration 7, loss = 0.28581227\n"
     ]
    },
    {
     "name": "stderr",
     "output_type": "stream",
     "text": [
      "D:\\anaconda\\envs\\tensorflow\\lib\\site-packages\\sklearn\\neural_network\\_multilayer_perceptron.py:702: ConvergenceWarning: Stochastic Optimizer: Maximum iterations (20) reached and the optimization hasn't converged yet.\n",
      "  warnings.warn(\n"
     ]
    },
    {
     "name": "stdout",
     "output_type": "stream",
     "text": [
      "Iteration 8, loss = 0.26603509\n",
      "Iteration 9, loss = 0.24664833\n",
      "Iteration 10, loss = 0.23209834\n",
      "Iteration 11, loss = 0.21779929\n",
      "Iteration 12, loss = 0.20241513\n",
      "Iteration 13, loss = 0.19077164\n",
      "Iteration 14, loss = 0.18054192\n",
      "Iteration 15, loss = 0.16751603\n",
      "Iteration 16, loss = 0.15701773\n",
      "Iteration 17, loss = 0.14602219\n",
      "Iteration 18, loss = 0.13540688\n",
      "Iteration 19, loss = 0.12512650\n",
      "Iteration 20, loss = 0.11656746\n",
      "Iteration 1, loss = 0.66983278\n",
      "Iteration 2, loss = 0.52074216\n",
      "Iteration 3, loss = 0.43878977\n"
     ]
    },
    {
     "name": "stderr",
     "output_type": "stream",
     "text": [
      "D:\\anaconda\\envs\\tensorflow\\lib\\site-packages\\sklearn\\neural_network\\_multilayer_perceptron.py:702: ConvergenceWarning: Stochastic Optimizer: Maximum iterations (20) reached and the optimization hasn't converged yet.\n",
      "  warnings.warn(\n"
     ]
    },
    {
     "name": "stdout",
     "output_type": "stream",
     "text": [
      "Iteration 4, loss = 0.38129703\n",
      "Iteration 5, loss = 0.33778891\n",
      "Iteration 6, loss = 0.30748185\n",
      "Iteration 7, loss = 0.28458341\n",
      "Iteration 8, loss = 0.26491198\n",
      "Iteration 9, loss = 0.24670031\n",
      "Iteration 10, loss = 0.23219877\n",
      "Iteration 11, loss = 0.21656003\n",
      "Iteration 12, loss = 0.20177207\n",
      "Iteration 13, loss = 0.19042728\n",
      "Iteration 14, loss = 0.17780777\n",
      "Iteration 15, loss = 0.16556395\n",
      "Iteration 16, loss = 0.15420824\n",
      "Iteration 17, loss = 0.14293868\n",
      "Iteration 18, loss = 0.13423685\n",
      "Iteration 19, loss = 0.12399085\n",
      "Iteration 20, loss = 0.11576331\n",
      "Iteration 1, loss = 0.67296458\n",
      "Iteration 2, loss = 0.52753151\n",
      "Iteration 3, loss = 0.44693520\n",
      "Iteration 4, loss = 0.38883390\n",
      "Iteration 5, loss = 0.34502679\n",
      "Iteration 6, loss = 0.31423260\n"
     ]
    },
    {
     "name": "stderr",
     "output_type": "stream",
     "text": [
      "D:\\anaconda\\envs\\tensorflow\\lib\\site-packages\\sklearn\\neural_network\\_multilayer_perceptron.py:702: ConvergenceWarning: Stochastic Optimizer: Maximum iterations (20) reached and the optimization hasn't converged yet.\n",
      "  warnings.warn(\n"
     ]
    },
    {
     "name": "stdout",
     "output_type": "stream",
     "text": [
      "Iteration 7, loss = 0.28987908\n",
      "Iteration 8, loss = 0.26888353\n",
      "Iteration 9, loss = 0.25129619\n",
      "Iteration 10, loss = 0.23739229\n",
      "Iteration 11, loss = 0.22068197\n",
      "Iteration 12, loss = 0.20490330\n",
      "Iteration 13, loss = 0.19264076\n",
      "Iteration 14, loss = 0.17902877\n",
      "Iteration 15, loss = 0.16689927\n",
      "Iteration 16, loss = 0.15548311\n",
      "Iteration 17, loss = 0.14428665\n",
      "Iteration 18, loss = 0.13578510\n",
      "Iteration 19, loss = 0.12439887\n",
      "Iteration 20, loss = 0.11604433\n",
      "Iteration 1, loss = 0.76411747\n",
      "Iteration 2, loss = 0.71940543\n"
     ]
    },
    {
     "name": "stderr",
     "output_type": "stream",
     "text": [
      "D:\\anaconda\\envs\\tensorflow\\lib\\site-packages\\sklearn\\neural_network\\_multilayer_perceptron.py:702: ConvergenceWarning: Stochastic Optimizer: Maximum iterations (20) reached and the optimization hasn't converged yet.\n",
      "  warnings.warn(\n"
     ]
    },
    {
     "name": "stdout",
     "output_type": "stream",
     "text": [
      "Iteration 3, loss = 0.68470284\n",
      "Iteration 4, loss = 0.65775403\n",
      "Iteration 5, loss = 0.63856114\n",
      "Iteration 6, loss = 0.62291927\n",
      "Iteration 7, loss = 0.60965950\n",
      "Iteration 8, loss = 0.59825926\n",
      "Iteration 9, loss = 0.58688840\n",
      "Iteration 10, loss = 0.57754673\n",
      "Iteration 11, loss = 0.56796018\n",
      "Iteration 12, loss = 0.55946176\n",
      "Iteration 13, loss = 0.55118733\n",
      "Iteration 14, loss = 0.54323537\n",
      "Iteration 15, loss = 0.53533644\n",
      "Iteration 16, loss = 0.52785205\n",
      "Iteration 17, loss = 0.52060207\n",
      "Iteration 18, loss = 0.51407784\n",
      "Iteration 19, loss = 0.50725416\n",
      "Iteration 20, loss = 0.50060625\n",
      "Iteration 1, loss = 0.76635883\n",
      "Iteration 2, loss = 0.72194608\n",
      "Iteration 3, loss = 0.68779189\n",
      "Iteration 4, loss = 0.66130141\n",
      "Iteration 5, loss = 0.64209195\n",
      "Iteration 6, loss = 0.62669682\n",
      "Iteration 7, loss = 0.61327910\n"
     ]
    },
    {
     "name": "stderr",
     "output_type": "stream",
     "text": [
      "D:\\anaconda\\envs\\tensorflow\\lib\\site-packages\\sklearn\\neural_network\\_multilayer_perceptron.py:702: ConvergenceWarning: Stochastic Optimizer: Maximum iterations (20) reached and the optimization hasn't converged yet.\n",
      "  warnings.warn(\n"
     ]
    },
    {
     "name": "stdout",
     "output_type": "stream",
     "text": [
      "Iteration 8, loss = 0.60203490\n",
      "Iteration 9, loss = 0.59102826\n",
      "Iteration 10, loss = 0.58170496\n",
      "Iteration 11, loss = 0.57224871\n",
      "Iteration 12, loss = 0.56384832\n",
      "Iteration 13, loss = 0.55575347\n",
      "Iteration 14, loss = 0.54812697\n",
      "Iteration 15, loss = 0.54038779\n",
      "Iteration 16, loss = 0.53298424\n",
      "Iteration 17, loss = 0.52576773\n",
      "Iteration 18, loss = 0.51913947\n",
      "Iteration 19, loss = 0.51229899\n",
      "Iteration 20, loss = 0.50565084\n",
      "Iteration 1, loss = 0.76289644\n",
      "Iteration 2, loss = 0.71949905\n",
      "Iteration 3, loss = 0.68612305\n"
     ]
    },
    {
     "name": "stderr",
     "output_type": "stream",
     "text": [
      "D:\\anaconda\\envs\\tensorflow\\lib\\site-packages\\sklearn\\neural_network\\_multilayer_perceptron.py:702: ConvergenceWarning: Stochastic Optimizer: Maximum iterations (20) reached and the optimization hasn't converged yet.\n",
      "  warnings.warn(\n"
     ]
    },
    {
     "name": "stdout",
     "output_type": "stream",
     "text": [
      "Iteration 4, loss = 0.66024038\n",
      "Iteration 5, loss = 0.64157855\n",
      "Iteration 6, loss = 0.62633381\n",
      "Iteration 7, loss = 0.61315833\n",
      "Iteration 8, loss = 0.60205905\n",
      "Iteration 9, loss = 0.59162425\n",
      "Iteration 10, loss = 0.58218229\n",
      "Iteration 11, loss = 0.57290926\n",
      "Iteration 12, loss = 0.56456696\n",
      "Iteration 13, loss = 0.55671296\n",
      "Iteration 14, loss = 0.54896122\n",
      "Iteration 15, loss = 0.54120941\n",
      "Iteration 16, loss = 0.53390128\n",
      "Iteration 17, loss = 0.52686065\n",
      "Iteration 18, loss = 0.52001763\n",
      "Iteration 19, loss = 0.51319236\n",
      "Iteration 20, loss = 0.50668245\n",
      "Iteration 1, loss = 0.76554736\n",
      "Iteration 2, loss = 0.72132276\n",
      "Iteration 3, loss = 0.68706115\n",
      "Iteration 4, loss = 0.66050792\n",
      "Iteration 5, loss = 0.64141795\n",
      "Iteration 6, loss = 0.62576575\n",
      "Iteration 7, loss = 0.61229432\n"
     ]
    },
    {
     "name": "stderr",
     "output_type": "stream",
     "text": [
      "D:\\anaconda\\envs\\tensorflow\\lib\\site-packages\\sklearn\\neural_network\\_multilayer_perceptron.py:702: ConvergenceWarning: Stochastic Optimizer: Maximum iterations (20) reached and the optimization hasn't converged yet.\n",
      "  warnings.warn(\n"
     ]
    },
    {
     "name": "stdout",
     "output_type": "stream",
     "text": [
      "Iteration 8, loss = 0.60095692\n",
      "Iteration 9, loss = 0.59031143\n",
      "Iteration 10, loss = 0.58060498\n",
      "Iteration 11, loss = 0.57114430\n",
      "Iteration 12, loss = 0.56251041\n",
      "Iteration 13, loss = 0.55446584\n",
      "Iteration 14, loss = 0.54651185\n",
      "Iteration 15, loss = 0.53850993\n",
      "Iteration 16, loss = 0.53113902\n",
      "Iteration 17, loss = 0.52403206\n",
      "Iteration 18, loss = 0.51717473\n",
      "Iteration 19, loss = 0.51025874\n",
      "Iteration 20, loss = 0.50341961\n",
      "Iteration 1, loss = 0.76278152\n",
      "Iteration 2, loss = 0.71690145\n",
      "Iteration 3, loss = 0.68276732\n"
     ]
    },
    {
     "name": "stderr",
     "output_type": "stream",
     "text": [
      "D:\\anaconda\\envs\\tensorflow\\lib\\site-packages\\sklearn\\neural_network\\_multilayer_perceptron.py:702: ConvergenceWarning: Stochastic Optimizer: Maximum iterations (20) reached and the optimization hasn't converged yet.\n",
      "  warnings.warn(\n"
     ]
    },
    {
     "name": "stdout",
     "output_type": "stream",
     "text": [
      "Iteration 4, loss = 0.65612506\n",
      "Iteration 5, loss = 0.63719425\n",
      "Iteration 6, loss = 0.62154869\n",
      "Iteration 7, loss = 0.60813891\n",
      "Iteration 8, loss = 0.59662678\n",
      "Iteration 9, loss = 0.58618573\n",
      "Iteration 10, loss = 0.57638018\n",
      "Iteration 11, loss = 0.56678148\n",
      "Iteration 12, loss = 0.55815949\n",
      "Iteration 13, loss = 0.55042316\n",
      "Iteration 14, loss = 0.54227150\n",
      "Iteration 15, loss = 0.53458087\n",
      "Iteration 16, loss = 0.52711100\n",
      "Iteration 17, loss = 0.52005022\n",
      "Iteration 18, loss = 0.51309631\n",
      "Iteration 19, loss = 0.50626499\n",
      "Iteration 20, loss = 0.49939301\n"
     ]
    },
    {
     "name": "stderr",
     "output_type": "stream",
     "text": [
      "D:\\anaconda\\envs\\tensorflow\\lib\\site-packages\\sklearn\\neural_network\\_multilayer_perceptron.py:702: ConvergenceWarning: Stochastic Optimizer: Maximum iterations (20) reached and the optimization hasn't converged yet.\n",
      "  warnings.warn(\n"
     ]
    },
    {
     "name": "stdout",
     "output_type": "stream",
     "text": [
      "Iteration 1, loss = 0.76517231\n",
      "Iteration 2, loss = 0.71989834\n",
      "Iteration 3, loss = 0.68595108\n",
      "Iteration 4, loss = 0.65923696\n",
      "Iteration 5, loss = 0.64005372\n",
      "Iteration 6, loss = 0.62442930\n",
      "Iteration 7, loss = 0.61118312\n",
      "Iteration 8, loss = 0.59962802\n",
      "Iteration 9, loss = 0.58931783\n",
      "Iteration 10, loss = 0.57976122\n",
      "Iteration 11, loss = 0.57033406\n",
      "Iteration 12, loss = 0.56176820\n",
      "Iteration 13, loss = 0.55412301\n",
      "Iteration 14, loss = 0.54582324\n",
      "Iteration 15, loss = 0.53824540\n",
      "Iteration 16, loss = 0.53088243\n",
      "Iteration 17, loss = 0.52370345\n",
      "Iteration 18, loss = 0.51697008\n",
      "Iteration 19, loss = 0.51000100\n",
      "Iteration 20, loss = 0.50320164\n",
      "Iteration 1, loss = 0.76731615\n",
      "Iteration 2, loss = 0.72000368\n",
      "Iteration 3, loss = 0.68437710\n",
      "Iteration 4, loss = 0.65709849\n"
     ]
    },
    {
     "name": "stderr",
     "output_type": "stream",
     "text": [
      "D:\\anaconda\\envs\\tensorflow\\lib\\site-packages\\sklearn\\neural_network\\_multilayer_perceptron.py:702: ConvergenceWarning: Stochastic Optimizer: Maximum iterations (20) reached and the optimization hasn't converged yet.\n",
      "  warnings.warn(\n"
     ]
    },
    {
     "name": "stdout",
     "output_type": "stream",
     "text": [
      "Iteration 5, loss = 0.63769487\n",
      "Iteration 6, loss = 0.62202227\n",
      "Iteration 7, loss = 0.60857714\n",
      "Iteration 8, loss = 0.59695288\n",
      "Iteration 9, loss = 0.58635713\n",
      "Iteration 10, loss = 0.57684249\n",
      "Iteration 11, loss = 0.56741060\n",
      "Iteration 12, loss = 0.55895424\n",
      "Iteration 13, loss = 0.55106544\n",
      "Iteration 14, loss = 0.54282645\n",
      "Iteration 15, loss = 0.53503536\n",
      "Iteration 16, loss = 0.52798070\n",
      "Iteration 17, loss = 0.52055784\n",
      "Iteration 18, loss = 0.51392418\n",
      "Iteration 19, loss = 0.50711052\n",
      "Iteration 20, loss = 0.50013313\n"
     ]
    },
    {
     "name": "stderr",
     "output_type": "stream",
     "text": [
      "D:\\anaconda\\envs\\tensorflow\\lib\\site-packages\\sklearn\\neural_network\\_multilayer_perceptron.py:702: ConvergenceWarning: Stochastic Optimizer: Maximum iterations (20) reached and the optimization hasn't converged yet.\n",
      "  warnings.warn(\n"
     ]
    },
    {
     "name": "stdout",
     "output_type": "stream",
     "text": [
      "Iteration 1, loss = 0.76172249\n",
      "Iteration 2, loss = 0.71795929\n",
      "Iteration 3, loss = 0.68434152\n",
      "Iteration 4, loss = 0.65906202\n",
      "Iteration 5, loss = 0.64010796\n",
      "Iteration 6, loss = 0.62465293\n",
      "Iteration 7, loss = 0.61134858\n",
      "Iteration 8, loss = 0.59971514\n",
      "Iteration 9, loss = 0.58906679\n",
      "Iteration 10, loss = 0.57947550\n",
      "Iteration 11, loss = 0.56995146\n",
      "Iteration 12, loss = 0.56131320\n",
      "Iteration 13, loss = 0.55325862\n",
      "Iteration 14, loss = 0.54523066\n",
      "Iteration 15, loss = 0.53707092\n",
      "Iteration 16, loss = 0.53013517\n",
      "Iteration 17, loss = 0.52235962\n",
      "Iteration 18, loss = 0.51540342\n",
      "Iteration 19, loss = 0.50851065\n",
      "Iteration 20, loss = 0.50170230\n",
      "Iteration 1, loss = 0.76099423\n",
      "Iteration 2, loss = 0.71567382\n",
      "Iteration 3, loss = 0.68106214\n",
      "Iteration 4, loss = 0.65514466\n",
      "Iteration 5, loss = 0.63620203\n"
     ]
    },
    {
     "name": "stderr",
     "output_type": "stream",
     "text": [
      "D:\\anaconda\\envs\\tensorflow\\lib\\site-packages\\sklearn\\neural_network\\_multilayer_perceptron.py:702: ConvergenceWarning: Stochastic Optimizer: Maximum iterations (20) reached and the optimization hasn't converged yet.\n",
      "  warnings.warn(\n"
     ]
    },
    {
     "name": "stdout",
     "output_type": "stream",
     "text": [
      "Iteration 6, loss = 0.62041107\n",
      "Iteration 7, loss = 0.60737392\n",
      "Iteration 8, loss = 0.59567782\n",
      "Iteration 9, loss = 0.58528569\n",
      "Iteration 10, loss = 0.57545210\n",
      "Iteration 11, loss = 0.56597418\n",
      "Iteration 12, loss = 0.55758689\n",
      "Iteration 13, loss = 0.54923027\n",
      "Iteration 14, loss = 0.54175747\n",
      "Iteration 15, loss = 0.53371307\n",
      "Iteration 16, loss = 0.52593162\n",
      "Iteration 17, loss = 0.51900142\n",
      "Iteration 18, loss = 0.51178237\n",
      "Iteration 19, loss = 0.50522918\n",
      "Iteration 20, loss = 0.49858051\n",
      "Iteration 1, loss = 0.76023381\n"
     ]
    },
    {
     "name": "stderr",
     "output_type": "stream",
     "text": [
      "D:\\anaconda\\envs\\tensorflow\\lib\\site-packages\\sklearn\\neural_network\\_multilayer_perceptron.py:702: ConvergenceWarning: Stochastic Optimizer: Maximum iterations (20) reached and the optimization hasn't converged yet.\n",
      "  warnings.warn(\n"
     ]
    },
    {
     "name": "stdout",
     "output_type": "stream",
     "text": [
      "Iteration 2, loss = 0.71791643\n",
      "Iteration 3, loss = 0.68473006\n",
      "Iteration 4, loss = 0.65963838\n",
      "Iteration 5, loss = 0.64104433\n",
      "Iteration 6, loss = 0.62562896\n",
      "Iteration 7, loss = 0.61258661\n",
      "Iteration 8, loss = 0.60118073\n",
      "Iteration 9, loss = 0.59084371\n",
      "Iteration 10, loss = 0.58124022\n",
      "Iteration 11, loss = 0.57210292\n",
      "Iteration 12, loss = 0.56397064\n",
      "Iteration 13, loss = 0.55599179\n",
      "Iteration 14, loss = 0.54851268\n",
      "Iteration 15, loss = 0.54104388\n",
      "Iteration 16, loss = 0.53339759\n",
      "Iteration 17, loss = 0.52665738\n",
      "Iteration 18, loss = 0.51946510\n",
      "Iteration 19, loss = 0.51306565\n",
      "Iteration 20, loss = 0.50660119\n"
     ]
    },
    {
     "name": "stderr",
     "output_type": "stream",
     "text": [
      "D:\\anaconda\\envs\\tensorflow\\lib\\site-packages\\sklearn\\neural_network\\_multilayer_perceptron.py:702: ConvergenceWarning: Stochastic Optimizer: Maximum iterations (20) reached and the optimization hasn't converged yet.\n",
      "  warnings.warn(\n",
      "D:\\anaconda\\envs\\tensorflow\\lib\\site-packages\\sklearn\\neural_network\\_multilayer_perceptron.py:559: ConvergenceWarning: lbfgs failed to converge (status=1):\n",
      "STOP: TOTAL NO. of ITERATIONS REACHED LIMIT.\n",
      "\n",
      "Increase the number of iterations (max_iter) or scale the data as shown in:\n",
      "    https://scikit-learn.org/stable/modules/preprocessing.html\n",
      "  self.n_iter_ = _check_optimize_result(\"lbfgs\", opt_res, self.max_iter)\n",
      "D:\\anaconda\\envs\\tensorflow\\lib\\site-packages\\sklearn\\neural_network\\_multilayer_perceptron.py:559: ConvergenceWarning: lbfgs failed to converge (status=1):\n",
      "STOP: TOTAL NO. of ITERATIONS REACHED LIMIT.\n",
      "\n",
      "Increase the number of iterations (max_iter) or scale the data as shown in:\n",
      "    https://scikit-learn.org/stable/modules/preprocessing.html\n",
      "  self.n_iter_ = _check_optimize_result(\"lbfgs\", opt_res, self.max_iter)\n",
      "D:\\anaconda\\envs\\tensorflow\\lib\\site-packages\\sklearn\\neural_network\\_multilayer_perceptron.py:559: ConvergenceWarning: lbfgs failed to converge (status=1):\n",
      "STOP: TOTAL NO. of ITERATIONS REACHED LIMIT.\n",
      "\n",
      "Increase the number of iterations (max_iter) or scale the data as shown in:\n",
      "    https://scikit-learn.org/stable/modules/preprocessing.html\n",
      "  self.n_iter_ = _check_optimize_result(\"lbfgs\", opt_res, self.max_iter)\n",
      "D:\\anaconda\\envs\\tensorflow\\lib\\site-packages\\sklearn\\neural_network\\_multilayer_perceptron.py:559: ConvergenceWarning: lbfgs failed to converge (status=1):\n",
      "STOP: TOTAL NO. of ITERATIONS REACHED LIMIT.\n",
      "\n",
      "Increase the number of iterations (max_iter) or scale the data as shown in:\n",
      "    https://scikit-learn.org/stable/modules/preprocessing.html\n",
      "  self.n_iter_ = _check_optimize_result(\"lbfgs\", opt_res, self.max_iter)\n",
      "D:\\anaconda\\envs\\tensorflow\\lib\\site-packages\\sklearn\\neural_network\\_multilayer_perceptron.py:559: ConvergenceWarning: lbfgs failed to converge (status=1):\n",
      "STOP: TOTAL NO. of ITERATIONS REACHED LIMIT.\n",
      "\n",
      "Increase the number of iterations (max_iter) or scale the data as shown in:\n",
      "    https://scikit-learn.org/stable/modules/preprocessing.html\n",
      "  self.n_iter_ = _check_optimize_result(\"lbfgs\", opt_res, self.max_iter)\n",
      "D:\\anaconda\\envs\\tensorflow\\lib\\site-packages\\sklearn\\neural_network\\_multilayer_perceptron.py:559: ConvergenceWarning: lbfgs failed to converge (status=1):\n",
      "STOP: TOTAL NO. of ITERATIONS REACHED LIMIT.\n",
      "\n",
      "Increase the number of iterations (max_iter) or scale the data as shown in:\n",
      "    https://scikit-learn.org/stable/modules/preprocessing.html\n",
      "  self.n_iter_ = _check_optimize_result(\"lbfgs\", opt_res, self.max_iter)\n",
      "D:\\anaconda\\envs\\tensorflow\\lib\\site-packages\\sklearn\\neural_network\\_multilayer_perceptron.py:559: ConvergenceWarning: lbfgs failed to converge (status=1):\n",
      "STOP: TOTAL NO. of ITERATIONS REACHED LIMIT.\n",
      "\n",
      "Increase the number of iterations (max_iter) or scale the data as shown in:\n",
      "    https://scikit-learn.org/stable/modules/preprocessing.html\n",
      "  self.n_iter_ = _check_optimize_result(\"lbfgs\", opt_res, self.max_iter)\n",
      "D:\\anaconda\\envs\\tensorflow\\lib\\site-packages\\sklearn\\neural_network\\_multilayer_perceptron.py:559: ConvergenceWarning: lbfgs failed to converge (status=1):\n",
      "STOP: TOTAL NO. of ITERATIONS REACHED LIMIT.\n",
      "\n",
      "Increase the number of iterations (max_iter) or scale the data as shown in:\n",
      "    https://scikit-learn.org/stable/modules/preprocessing.html\n",
      "  self.n_iter_ = _check_optimize_result(\"lbfgs\", opt_res, self.max_iter)\n",
      "D:\\anaconda\\envs\\tensorflow\\lib\\site-packages\\sklearn\\neural_network\\_multilayer_perceptron.py:559: ConvergenceWarning: lbfgs failed to converge (status=1):\n",
      "STOP: TOTAL NO. of ITERATIONS REACHED LIMIT.\n",
      "\n",
      "Increase the number of iterations (max_iter) or scale the data as shown in:\n",
      "    https://scikit-learn.org/stable/modules/preprocessing.html\n",
      "  self.n_iter_ = _check_optimize_result(\"lbfgs\", opt_res, self.max_iter)\n",
      "D:\\anaconda\\envs\\tensorflow\\lib\\site-packages\\sklearn\\neural_network\\_multilayer_perceptron.py:559: ConvergenceWarning: lbfgs failed to converge (status=1):\n",
      "STOP: TOTAL NO. of ITERATIONS REACHED LIMIT.\n",
      "\n",
      "Increase the number of iterations (max_iter) or scale the data as shown in:\n",
      "    https://scikit-learn.org/stable/modules/preprocessing.html\n",
      "  self.n_iter_ = _check_optimize_result(\"lbfgs\", opt_res, self.max_iter)\n",
      "D:\\anaconda\\envs\\tensorflow\\lib\\site-packages\\sklearn\\neural_network\\_multilayer_perceptron.py:702: ConvergenceWarning: Stochastic Optimizer: Maximum iterations (20) reached and the optimization hasn't converged yet.\n",
      "  warnings.warn(\n"
     ]
    },
    {
     "name": "stdout",
     "output_type": "stream",
     "text": [
      "Iteration 1, loss = 0.93714858\n",
      "Iteration 2, loss = 0.91610725\n",
      "Iteration 3, loss = 0.89997870\n",
      "Iteration 4, loss = 0.88784037\n",
      "Iteration 5, loss = 0.87833276\n",
      "Iteration 6, loss = 0.87081505\n",
      "Iteration 7, loss = 0.86440098\n",
      "Iteration 8, loss = 0.85872267\n",
      "Iteration 9, loss = 0.85366281\n",
      "Iteration 10, loss = 0.84890244\n",
      "Iteration 11, loss = 0.84438641\n",
      "Iteration 12, loss = 0.84011996\n",
      "Iteration 13, loss = 0.83588330\n",
      "Iteration 14, loss = 0.83172700\n",
      "Iteration 15, loss = 0.82767825\n",
      "Iteration 16, loss = 0.82362389\n",
      "Iteration 17, loss = 0.81957799\n",
      "Iteration 18, loss = 0.81547241\n",
      "Iteration 19, loss = 0.81125866\n",
      "Iteration 20, loss = 0.80683221\n",
      "Iteration 1, loss = 0.93236486\n",
      "Iteration 2, loss = 0.91144028\n",
      "Iteration 3, loss = 0.89533841\n",
      "Iteration 4, loss = 0.88325453\n",
      "Iteration 5, loss = 0.87382058\n",
      "Iteration 6, loss = 0.86631795\n",
      "Iteration 7, loss = 0.85990608\n",
      "Iteration 8, loss = 0.85426879\n",
      "Iteration 9, loss = 0.84926138\n",
      "Iteration 10, loss = 0.84460752\n",
      "Iteration 11, loss = 0.84015929\n",
      "Iteration 12, loss = 0.83593270\n",
      "Iteration 13, loss = 0.83180492\n",
      "Iteration 14, loss = 0.82774058\n",
      "Iteration 15, loss = 0.82379315\n",
      "Iteration 16, loss = 0.81987145\n",
      "Iteration 17, loss = 0.81596628\n",
      "Iteration 18, loss = 0.81204293\n",
      "Iteration 19, loss = 0.80806210\n",
      "Iteration 20, loss = 0.80394603\n",
      "Iteration 1, loss = 0.92752236\n",
      "Iteration 2, loss = 0.90702471\n"
     ]
    },
    {
     "name": "stderr",
     "output_type": "stream",
     "text": [
      "D:\\anaconda\\envs\\tensorflow\\lib\\site-packages\\sklearn\\neural_network\\_multilayer_perceptron.py:702: ConvergenceWarning: Stochastic Optimizer: Maximum iterations (20) reached and the optimization hasn't converged yet.\n",
      "  warnings.warn(\n"
     ]
    },
    {
     "name": "stdout",
     "output_type": "stream",
     "text": [
      "Iteration 3, loss = 0.89136050\n",
      "Iteration 4, loss = 0.87961018\n",
      "Iteration 5, loss = 0.87035754\n",
      "Iteration 6, loss = 0.86305077\n",
      "Iteration 7, loss = 0.85676692\n",
      "Iteration 8, loss = 0.85122813\n",
      "Iteration 9, loss = 0.84628507\n",
      "Iteration 10, loss = 0.84169378\n",
      "Iteration 11, loss = 0.83732171\n",
      "Iteration 12, loss = 0.83313021\n",
      "Iteration 13, loss = 0.82904860\n",
      "Iteration 14, loss = 0.82503005\n",
      "Iteration 15, loss = 0.82108357\n",
      "Iteration 16, loss = 0.81717693\n",
      "Iteration 17, loss = 0.81325725\n",
      "Iteration 18, loss = 0.80927698\n",
      "Iteration 19, loss = 0.80521087\n",
      "Iteration 20, loss = 0.80096873\n",
      "Iteration 1, loss = 0.93613117\n"
     ]
    },
    {
     "name": "stderr",
     "output_type": "stream",
     "text": [
      "D:\\anaconda\\envs\\tensorflow\\lib\\site-packages\\sklearn\\neural_network\\_multilayer_perceptron.py:702: ConvergenceWarning: Stochastic Optimizer: Maximum iterations (20) reached and the optimization hasn't converged yet.\n",
      "  warnings.warn(\n",
      "D:\\anaconda\\envs\\tensorflow\\lib\\site-packages\\sklearn\\neural_network\\_multilayer_perceptron.py:702: ConvergenceWarning: Stochastic Optimizer: Maximum iterations (20) reached and the optimization hasn't converged yet.\n",
      "  warnings.warn(\n"
     ]
    },
    {
     "name": "stdout",
     "output_type": "stream",
     "text": [
      "Iteration 2, loss = 0.91497720\n",
      "Iteration 3, loss = 0.89884215\n",
      "Iteration 4, loss = 0.88673620\n",
      "Iteration 5, loss = 0.87720977\n",
      "Iteration 6, loss = 0.86966272\n",
      "Iteration 7, loss = 0.86322428\n",
      "Iteration 8, loss = 0.85754480\n",
      "Iteration 9, loss = 0.85247652\n",
      "Iteration 10, loss = 0.84776254\n",
      "Iteration 11, loss = 0.84332296\n",
      "Iteration 12, loss = 0.83903878\n",
      "Iteration 13, loss = 0.83486049\n",
      "Iteration 14, loss = 0.83080316\n",
      "Iteration 15, loss = 0.82677664\n",
      "Iteration 16, loss = 0.82287274\n",
      "Iteration 17, loss = 0.81895053\n",
      "Iteration 18, loss = 0.81505652\n",
      "Iteration 19, loss = 0.81110769\n",
      "Iteration 20, loss = 0.80712099\n",
      "Iteration 1, loss = 0.92736874\n",
      "Iteration 2, loss = 0.90665665\n",
      "Iteration 3, loss = 0.89091398\n",
      "Iteration 4, loss = 0.87911609\n",
      "Iteration 5, loss = 0.86976323\n",
      "Iteration 6, loss = 0.86243128\n",
      "Iteration 7, loss = 0.85611685\n",
      "Iteration 8, loss = 0.85063373\n",
      "Iteration 9, loss = 0.84568558\n",
      "Iteration 10, loss = 0.84114185\n",
      "Iteration 11, loss = 0.83677662\n",
      "Iteration 12, loss = 0.83259748\n",
      "Iteration 13, loss = 0.82847518\n",
      "Iteration 14, loss = 0.82444336\n",
      "Iteration 15, loss = 0.82039153\n",
      "Iteration 16, loss = 0.81636734\n",
      "Iteration 17, loss = 0.81222955\n",
      "Iteration 18, loss = 0.80799592\n",
      "Iteration 19, loss = 0.80349146\n",
      "Iteration 20, loss = 0.79879054\n"
     ]
    },
    {
     "name": "stderr",
     "output_type": "stream",
     "text": [
      "D:\\anaconda\\envs\\tensorflow\\lib\\site-packages\\sklearn\\neural_network\\_multilayer_perceptron.py:702: ConvergenceWarning: Stochastic Optimizer: Maximum iterations (20) reached and the optimization hasn't converged yet.\n",
      "  warnings.warn(\n"
     ]
    },
    {
     "name": "stdout",
     "output_type": "stream",
     "text": [
      "Iteration 1, loss = 0.93272840\n",
      "Iteration 2, loss = 0.91191857\n",
      "Iteration 3, loss = 0.89596054\n",
      "Iteration 4, loss = 0.88405743\n",
      "Iteration 5, loss = 0.87465372\n",
      "Iteration 6, loss = 0.86722102\n",
      "Iteration 7, loss = 0.86080528\n",
      "Iteration 8, loss = 0.85530550\n",
      "Iteration 9, loss = 0.85022169\n",
      "Iteration 10, loss = 0.84561783\n",
      "Iteration 11, loss = 0.84119604\n",
      "Iteration 12, loss = 0.83693151\n",
      "Iteration 13, loss = 0.83277840\n",
      "Iteration 14, loss = 0.82873872\n",
      "Iteration 15, loss = 0.82465171\n",
      "Iteration 16, loss = 0.82070687\n",
      "Iteration 17, loss = 0.81664472\n",
      "Iteration 18, loss = 0.81261559\n",
      "Iteration 19, loss = 0.80840339\n",
      "Iteration 20, loss = 0.80401970\n",
      "Iteration 1, loss = 0.93671831\n",
      "Iteration 2, loss = 0.91578082\n",
      "Iteration 3, loss = 0.89965031\n",
      "Iteration 4, loss = 0.88759529\n",
      "Iteration 5, loss = 0.87800605\n",
      "Iteration 6, loss = 0.87046375\n",
      "Iteration 7, loss = 0.86391588\n",
      "Iteration 8, loss = 0.85837454\n",
      "Iteration 9, loss = 0.85320803\n",
      "Iteration 10, loss = 0.84855005\n",
      "Iteration 11, loss = 0.84408044\n",
      "Iteration 12, loss = 0.83975123\n",
      "Iteration 13, loss = 0.83557291\n",
      "Iteration 14, loss = 0.83148430\n",
      "Iteration 15, loss = 0.82736762\n"
     ]
    },
    {
     "name": "stderr",
     "output_type": "stream",
     "text": [
      "D:\\anaconda\\envs\\tensorflow\\lib\\site-packages\\sklearn\\neural_network\\_multilayer_perceptron.py:702: ConvergenceWarning: Stochastic Optimizer: Maximum iterations (20) reached and the optimization hasn't converged yet.\n",
      "  warnings.warn(\n"
     ]
    },
    {
     "name": "stdout",
     "output_type": "stream",
     "text": [
      "Iteration 16, loss = 0.82338268\n",
      "Iteration 17, loss = 0.81930894\n",
      "Iteration 18, loss = 0.81530718\n",
      "Iteration 19, loss = 0.81111031\n",
      "Iteration 20, loss = 0.80680396\n",
      "Iteration 1, loss = 0.94130429\n",
      "Iteration 2, loss = 0.92001433\n",
      "Iteration 3, loss = 0.90361195\n",
      "Iteration 4, loss = 0.89137473\n",
      "Iteration 5, loss = 0.88172849\n",
      "Iteration 6, loss = 0.87409978\n",
      "Iteration 7, loss = 0.86750311\n",
      "Iteration 8, loss = 0.86188551\n",
      "Iteration 9, loss = 0.85667413\n",
      "Iteration 10, loss = 0.85193000\n",
      "Iteration 11, loss = 0.84737857\n",
      "Iteration 12, loss = 0.84300366\n"
     ]
    },
    {
     "name": "stderr",
     "output_type": "stream",
     "text": [
      "D:\\anaconda\\envs\\tensorflow\\lib\\site-packages\\sklearn\\neural_network\\_multilayer_perceptron.py:702: ConvergenceWarning: Stochastic Optimizer: Maximum iterations (20) reached and the optimization hasn't converged yet.\n",
      "  warnings.warn(\n"
     ]
    },
    {
     "name": "stdout",
     "output_type": "stream",
     "text": [
      "Iteration 13, loss = 0.83877564\n",
      "Iteration 14, loss = 0.83463390\n",
      "Iteration 15, loss = 0.83047509\n",
      "Iteration 16, loss = 0.82645776\n",
      "Iteration 17, loss = 0.82236651\n",
      "Iteration 18, loss = 0.81833286\n",
      "Iteration 19, loss = 0.81417472\n",
      "Iteration 20, loss = 0.80988660\n",
      "Iteration 1, loss = 0.93233172\n",
      "Iteration 2, loss = 0.91158104\n",
      "Iteration 3, loss = 0.89571054\n",
      "Iteration 4, loss = 0.88347989\n",
      "Iteration 5, loss = 0.87425827\n",
      "Iteration 6, loss = 0.86667290\n",
      "Iteration 7, loss = 0.86026769\n",
      "Iteration 8, loss = 0.85476288\n",
      "Iteration 9, loss = 0.84974180\n",
      "Iteration 10, loss = 0.84512712\n",
      "Iteration 11, loss = 0.84062233\n"
     ]
    },
    {
     "name": "stderr",
     "output_type": "stream",
     "text": [
      "D:\\anaconda\\envs\\tensorflow\\lib\\site-packages\\sklearn\\neural_network\\_multilayer_perceptron.py:702: ConvergenceWarning: Stochastic Optimizer: Maximum iterations (20) reached and the optimization hasn't converged yet.\n",
      "  warnings.warn(\n"
     ]
    },
    {
     "name": "stdout",
     "output_type": "stream",
     "text": [
      "Iteration 12, loss = 0.83644767\n",
      "Iteration 13, loss = 0.83232795\n",
      "Iteration 14, loss = 0.82832617\n",
      "Iteration 15, loss = 0.82429714\n",
      "Iteration 16, loss = 0.82034867\n",
      "Iteration 17, loss = 0.81642021\n",
      "Iteration 18, loss = 0.81240627\n",
      "Iteration 19, loss = 0.80833233\n",
      "Iteration 20, loss = 0.80409647\n",
      "Iteration 1, loss = 0.93309379\n",
      "Iteration 2, loss = 0.91241302\n",
      "Iteration 3, loss = 0.89659939\n",
      "Iteration 4, loss = 0.88446914\n",
      "Iteration 5, loss = 0.87526976\n",
      "Iteration 6, loss = 0.86766049\n",
      "Iteration 7, loss = 0.86130363\n",
      "Iteration 8, loss = 0.85577707\n",
      "Iteration 9, loss = 0.85072386\n",
      "Iteration 10, loss = 0.84608662\n",
      "Iteration 11, loss = 0.84157435\n"
     ]
    },
    {
     "name": "stderr",
     "output_type": "stream",
     "text": [
      "D:\\anaconda\\envs\\tensorflow\\lib\\site-packages\\sklearn\\neural_network\\_multilayer_perceptron.py:702: ConvergenceWarning: Stochastic Optimizer: Maximum iterations (20) reached and the optimization hasn't converged yet.\n",
      "  warnings.warn(\n"
     ]
    },
    {
     "name": "stdout",
     "output_type": "stream",
     "text": [
      "Iteration 12, loss = 0.83738078\n",
      "Iteration 13, loss = 0.83325043\n",
      "Iteration 14, loss = 0.82922747\n",
      "Iteration 15, loss = 0.82518609\n",
      "Iteration 16, loss = 0.82124548\n",
      "Iteration 17, loss = 0.81730606\n",
      "Iteration 18, loss = 0.81326215\n",
      "Iteration 19, loss = 0.80920327\n",
      "Iteration 20, loss = 0.80496740\n",
      "Iteration 1, loss = 0.93254824\n",
      "Iteration 2, loss = 0.88318310\n",
      "Iteration 3, loss = 0.83982624\n",
      "Iteration 4, loss = 0.80908657\n",
      "Iteration 5, loss = 0.78808878\n",
      "Iteration 6, loss = 0.77436611\n",
      "Iteration 7, loss = 0.76476318\n",
      "Iteration 8, loss = 0.75735031\n",
      "Iteration 9, loss = 0.75139085\n"
     ]
    },
    {
     "name": "stderr",
     "output_type": "stream",
     "text": [
      "D:\\anaconda\\envs\\tensorflow\\lib\\site-packages\\sklearn\\neural_network\\_multilayer_perceptron.py:702: ConvergenceWarning: Stochastic Optimizer: Maximum iterations (20) reached and the optimization hasn't converged yet.\n",
      "  warnings.warn(\n"
     ]
    },
    {
     "name": "stdout",
     "output_type": "stream",
     "text": [
      "Iteration 10, loss = 0.74587472\n",
      "Iteration 11, loss = 0.74081849\n",
      "Iteration 12, loss = 0.73612007\n",
      "Iteration 13, loss = 0.73132394\n",
      "Iteration 14, loss = 0.72653285\n",
      "Iteration 15, loss = 0.72197367\n",
      "Iteration 16, loss = 0.71757082\n",
      "Iteration 17, loss = 0.71314121\n",
      "Iteration 18, loss = 0.70868587\n",
      "Iteration 19, loss = 0.70441523\n",
      "Iteration 20, loss = 0.70020953\n",
      "Iteration 1, loss = 0.92781719\n",
      "Iteration 2, loss = 0.87848104\n",
      "Iteration 3, loss = 0.83538289\n",
      "Iteration 4, loss = 0.80510559\n",
      "Iteration 5, loss = 0.78474285\n",
      "Iteration 6, loss = 0.77160006\n"
     ]
    },
    {
     "name": "stderr",
     "output_type": "stream",
     "text": [
      "D:\\anaconda\\envs\\tensorflow\\lib\\site-packages\\sklearn\\neural_network\\_multilayer_perceptron.py:702: ConvergenceWarning: Stochastic Optimizer: Maximum iterations (20) reached and the optimization hasn't converged yet.\n",
      "  warnings.warn(\n"
     ]
    },
    {
     "name": "stdout",
     "output_type": "stream",
     "text": [
      "Iteration 7, loss = 0.76240783\n",
      "Iteration 8, loss = 0.75542923\n",
      "Iteration 9, loss = 0.74985616\n",
      "Iteration 10, loss = 0.74479166\n",
      "Iteration 11, loss = 0.74006307\n",
      "Iteration 12, loss = 0.73558646\n",
      "Iteration 13, loss = 0.73122151\n",
      "Iteration 14, loss = 0.72686987\n",
      "Iteration 15, loss = 0.72260647\n",
      "Iteration 16, loss = 0.71868965\n",
      "Iteration 17, loss = 0.71463265\n",
      "Iteration 18, loss = 0.71062273\n",
      "Iteration 19, loss = 0.70667665\n",
      "Iteration 20, loss = 0.70267047\n",
      "Iteration 1, loss = 0.92351731\n",
      "Iteration 2, loss = 0.87650626\n",
      "Iteration 3, loss = 0.83515242\n",
      "Iteration 4, loss = 0.80587095\n",
      "Iteration 5, loss = 0.78562844\n"
     ]
    },
    {
     "name": "stderr",
     "output_type": "stream",
     "text": [
      "D:\\anaconda\\envs\\tensorflow\\lib\\site-packages\\sklearn\\neural_network\\_multilayer_perceptron.py:702: ConvergenceWarning: Stochastic Optimizer: Maximum iterations (20) reached and the optimization hasn't converged yet.\n",
      "  warnings.warn(\n"
     ]
    },
    {
     "name": "stdout",
     "output_type": "stream",
     "text": [
      "Iteration 6, loss = 0.77257543\n",
      "Iteration 7, loss = 0.76322485\n",
      "Iteration 8, loss = 0.75611459\n",
      "Iteration 9, loss = 0.75040271\n",
      "Iteration 10, loss = 0.74527343\n",
      "Iteration 11, loss = 0.74050857\n",
      "Iteration 12, loss = 0.73598137\n",
      "Iteration 13, loss = 0.73161932\n",
      "Iteration 14, loss = 0.72728669\n",
      "Iteration 15, loss = 0.72318208\n",
      "Iteration 16, loss = 0.71938469\n",
      "Iteration 17, loss = 0.71549309\n",
      "Iteration 18, loss = 0.71158693\n",
      "Iteration 19, loss = 0.70782125\n",
      "Iteration 20, loss = 0.70400976\n",
      "Iteration 1, loss = 0.93144420\n",
      "Iteration 2, loss = 0.88164114\n",
      "Iteration 3, loss = 0.83829016\n"
     ]
    },
    {
     "name": "stderr",
     "output_type": "stream",
     "text": [
      "D:\\anaconda\\envs\\tensorflow\\lib\\site-packages\\sklearn\\neural_network\\_multilayer_perceptron.py:702: ConvergenceWarning: Stochastic Optimizer: Maximum iterations (20) reached and the optimization hasn't converged yet.\n",
      "  warnings.warn(\n"
     ]
    },
    {
     "name": "stdout",
     "output_type": "stream",
     "text": [
      "Iteration 4, loss = 0.80775601\n",
      "Iteration 5, loss = 0.78677621\n",
      "Iteration 6, loss = 0.77328353\n",
      "Iteration 7, loss = 0.76386515\n",
      "Iteration 8, loss = 0.75661874\n",
      "Iteration 9, loss = 0.75077954\n",
      "Iteration 10, loss = 0.74546954\n",
      "Iteration 11, loss = 0.74058433\n",
      "Iteration 12, loss = 0.73588212\n",
      "Iteration 13, loss = 0.73124715\n",
      "Iteration 14, loss = 0.72668207\n",
      "Iteration 15, loss = 0.72219452\n",
      "Iteration 16, loss = 0.71803907\n",
      "Iteration 17, loss = 0.71379144\n",
      "Iteration 18, loss = 0.70955937\n",
      "Iteration 19, loss = 0.70539787\n",
      "Iteration 20, loss = 0.70144402\n",
      "Iteration 1, loss = 0.92303468\n",
      "Iteration 2, loss = 0.87547818\n"
     ]
    },
    {
     "name": "stderr",
     "output_type": "stream",
     "text": [
      "D:\\anaconda\\envs\\tensorflow\\lib\\site-packages\\sklearn\\neural_network\\_multilayer_perceptron.py:702: ConvergenceWarning: Stochastic Optimizer: Maximum iterations (20) reached and the optimization hasn't converged yet.\n",
      "  warnings.warn(\n"
     ]
    },
    {
     "name": "stdout",
     "output_type": "stream",
     "text": [
      "Iteration 3, loss = 0.83403146\n",
      "Iteration 4, loss = 0.80470069\n",
      "Iteration 5, loss = 0.78418037\n",
      "Iteration 6, loss = 0.77109550\n",
      "Iteration 7, loss = 0.76176491\n",
      "Iteration 8, loss = 0.75483763\n",
      "Iteration 9, loss = 0.74913628\n",
      "Iteration 10, loss = 0.74416103\n",
      "Iteration 11, loss = 0.73936593\n",
      "Iteration 12, loss = 0.73490362\n",
      "Iteration 13, loss = 0.73038404\n",
      "Iteration 14, loss = 0.72589890\n",
      "Iteration 15, loss = 0.72152370\n",
      "Iteration 16, loss = 0.71734393\n",
      "Iteration 17, loss = 0.71302131\n",
      "Iteration 18, loss = 0.70876208\n",
      "Iteration 19, loss = 0.70466198\n",
      "Iteration 20, loss = 0.70076247\n",
      "Iteration 1, loss = 0.92819882\n"
     ]
    },
    {
     "name": "stderr",
     "output_type": "stream",
     "text": [
      "D:\\anaconda\\envs\\tensorflow\\lib\\site-packages\\sklearn\\neural_network\\_multilayer_perceptron.py:702: ConvergenceWarning: Stochastic Optimizer: Maximum iterations (20) reached and the optimization hasn't converged yet.\n",
      "  warnings.warn(\n",
      "D:\\anaconda\\envs\\tensorflow\\lib\\site-packages\\sklearn\\neural_network\\_multilayer_perceptron.py:702: ConvergenceWarning: Stochastic Optimizer: Maximum iterations (20) reached and the optimization hasn't converged yet.\n",
      "  warnings.warn(\n"
     ]
    },
    {
     "name": "stdout",
     "output_type": "stream",
     "text": [
      "Iteration 2, loss = 0.88002960\n",
      "Iteration 3, loss = 0.83766236\n",
      "Iteration 4, loss = 0.80771188\n",
      "Iteration 5, loss = 0.78686172\n",
      "Iteration 6, loss = 0.77344694\n",
      "Iteration 7, loss = 0.76382224\n",
      "Iteration 8, loss = 0.75694406\n",
      "Iteration 9, loss = 0.75091850\n",
      "Iteration 10, loss = 0.74579102\n",
      "Iteration 11, loss = 0.74082396\n",
      "Iteration 12, loss = 0.73614761\n",
      "Iteration 13, loss = 0.73160345\n",
      "Iteration 14, loss = 0.72700108\n",
      "Iteration 15, loss = 0.72231996\n",
      "Iteration 16, loss = 0.71808285\n",
      "Iteration 17, loss = 0.71359668\n",
      "Iteration 18, loss = 0.70922077\n",
      "Iteration 19, loss = 0.70497713\n",
      "Iteration 20, loss = 0.70092204\n",
      "Iteration 1, loss = 0.93188480\n",
      "Iteration 2, loss = 0.88285854\n",
      "Iteration 3, loss = 0.83972804\n",
      "Iteration 4, loss = 0.80923793\n",
      "Iteration 5, loss = 0.78790175\n",
      "Iteration 6, loss = 0.77430876\n",
      "Iteration 7, loss = 0.76437664\n",
      "Iteration 8, loss = 0.75747413\n",
      "Iteration 9, loss = 0.75116453\n",
      "Iteration 10, loss = 0.74585320\n",
      "Iteration 11, loss = 0.74069070\n",
      "Iteration 12, loss = 0.73574493\n",
      "Iteration 13, loss = 0.73083689\n",
      "Iteration 14, loss = 0.72597715\n",
      "Iteration 15, loss = 0.72123964\n",
      "Iteration 16, loss = 0.71666047\n",
      "Iteration 17, loss = 0.71191239\n",
      "Iteration 18, loss = 0.70722758\n",
      "Iteration 19, loss = 0.70280695\n",
      "Iteration 20, loss = 0.69850234\n",
      "Iteration 1, loss = 0.93640708\n",
      "Iteration 2, loss = 0.88595316\n",
      "Iteration 3, loss = 0.84134636\n",
      "Iteration 4, loss = 0.81001208\n",
      "Iteration 5, loss = 0.78837934\n"
     ]
    },
    {
     "name": "stderr",
     "output_type": "stream",
     "text": [
      "D:\\anaconda\\envs\\tensorflow\\lib\\site-packages\\sklearn\\neural_network\\_multilayer_perceptron.py:702: ConvergenceWarning: Stochastic Optimizer: Maximum iterations (20) reached and the optimization hasn't converged yet.\n",
      "  warnings.warn(\n"
     ]
    },
    {
     "name": "stdout",
     "output_type": "stream",
     "text": [
      "Iteration 6, loss = 0.77466004\n",
      "Iteration 7, loss = 0.76467058\n",
      "Iteration 8, loss = 0.75778684\n",
      "Iteration 9, loss = 0.75152387\n",
      "Iteration 10, loss = 0.74621233\n",
      "Iteration 11, loss = 0.74106226\n",
      "Iteration 12, loss = 0.73624610\n",
      "Iteration 13, loss = 0.73155401\n",
      "Iteration 14, loss = 0.72689171\n",
      "Iteration 15, loss = 0.72234451\n",
      "Iteration 16, loss = 0.71809861\n",
      "Iteration 17, loss = 0.71372679\n",
      "Iteration 18, loss = 0.70946354\n",
      "Iteration 19, loss = 0.70524865\n",
      "Iteration 20, loss = 0.70132459\n",
      "Iteration 1, loss = 0.92771721\n",
      "Iteration 2, loss = 0.87979903\n",
      "Iteration 3, loss = 0.83760599\n"
     ]
    },
    {
     "name": "stderr",
     "output_type": "stream",
     "text": [
      "D:\\anaconda\\envs\\tensorflow\\lib\\site-packages\\sklearn\\neural_network\\_multilayer_perceptron.py:702: ConvergenceWarning: Stochastic Optimizer: Maximum iterations (20) reached and the optimization hasn't converged yet.\n",
      "  warnings.warn(\n"
     ]
    },
    {
     "name": "stdout",
     "output_type": "stream",
     "text": [
      "Iteration 4, loss = 0.80691913\n",
      "Iteration 5, loss = 0.78695282\n",
      "Iteration 6, loss = 0.77334260\n",
      "Iteration 7, loss = 0.76373275\n",
      "Iteration 8, loss = 0.75688069\n",
      "Iteration 9, loss = 0.75108759\n",
      "Iteration 10, loss = 0.74586420\n",
      "Iteration 11, loss = 0.74081835\n",
      "Iteration 12, loss = 0.73621455\n",
      "Iteration 13, loss = 0.73153323\n",
      "Iteration 14, loss = 0.72698935\n",
      "Iteration 15, loss = 0.72237086\n",
      "Iteration 16, loss = 0.71795757\n",
      "Iteration 17, loss = 0.71361871\n",
      "Iteration 18, loss = 0.70922832\n",
      "Iteration 19, loss = 0.70497057\n",
      "Iteration 20, loss = 0.70101280\n",
      "Iteration 1, loss = 0.92840051\n"
     ]
    },
    {
     "name": "stderr",
     "output_type": "stream",
     "text": [
      "D:\\anaconda\\envs\\tensorflow\\lib\\site-packages\\sklearn\\neural_network\\_multilayer_perceptron.py:702: ConvergenceWarning: Stochastic Optimizer: Maximum iterations (20) reached and the optimization hasn't converged yet.\n",
      "  warnings.warn(\n"
     ]
    },
    {
     "name": "stdout",
     "output_type": "stream",
     "text": [
      "Iteration 2, loss = 0.88088084\n",
      "Iteration 3, loss = 0.83909859\n",
      "Iteration 4, loss = 0.80879746\n",
      "Iteration 5, loss = 0.78872772\n",
      "Iteration 6, loss = 0.77489156\n",
      "Iteration 7, loss = 0.76544151\n",
      "Iteration 8, loss = 0.75863867\n",
      "Iteration 9, loss = 0.75291878\n",
      "Iteration 10, loss = 0.74782954\n",
      "Iteration 11, loss = 0.74287156\n",
      "Iteration 12, loss = 0.73839456\n",
      "Iteration 13, loss = 0.73386595\n",
      "Iteration 14, loss = 0.72950189\n",
      "Iteration 15, loss = 0.72517314\n",
      "Iteration 16, loss = 0.72108810\n",
      "Iteration 17, loss = 0.71702315\n",
      "Iteration 18, loss = 0.71294419\n",
      "Iteration 19, loss = 0.70896052\n",
      "Iteration 20, loss = 0.70521080\n"
     ]
    },
    {
     "name": "stderr",
     "output_type": "stream",
     "text": [
      "D:\\anaconda\\envs\\tensorflow\\lib\\site-packages\\sklearn\\neural_network\\_multilayer_perceptron.py:702: ConvergenceWarning: Stochastic Optimizer: Maximum iterations (20) reached and the optimization hasn't converged yet.\n",
      "  warnings.warn(\n",
      "D:\\anaconda\\envs\\tensorflow\\lib\\site-packages\\sklearn\\neural_network\\_multilayer_perceptron.py:559: ConvergenceWarning: lbfgs failed to converge (status=1):\n",
      "STOP: TOTAL NO. of ITERATIONS REACHED LIMIT.\n",
      "\n",
      "Increase the number of iterations (max_iter) or scale the data as shown in:\n",
      "    https://scikit-learn.org/stable/modules/preprocessing.html\n",
      "  self.n_iter_ = _check_optimize_result(\"lbfgs\", opt_res, self.max_iter)\n",
      "D:\\anaconda\\envs\\tensorflow\\lib\\site-packages\\sklearn\\neural_network\\_multilayer_perceptron.py:559: ConvergenceWarning: lbfgs failed to converge (status=1):\n",
      "STOP: TOTAL NO. of ITERATIONS REACHED LIMIT.\n",
      "\n",
      "Increase the number of iterations (max_iter) or scale the data as shown in:\n",
      "    https://scikit-learn.org/stable/modules/preprocessing.html\n",
      "  self.n_iter_ = _check_optimize_result(\"lbfgs\", opt_res, self.max_iter)\n",
      "D:\\anaconda\\envs\\tensorflow\\lib\\site-packages\\sklearn\\neural_network\\_multilayer_perceptron.py:559: ConvergenceWarning: lbfgs failed to converge (status=1):\n",
      "STOP: TOTAL NO. of ITERATIONS REACHED LIMIT.\n",
      "\n",
      "Increase the number of iterations (max_iter) or scale the data as shown in:\n",
      "    https://scikit-learn.org/stable/modules/preprocessing.html\n",
      "  self.n_iter_ = _check_optimize_result(\"lbfgs\", opt_res, self.max_iter)\n",
      "D:\\anaconda\\envs\\tensorflow\\lib\\site-packages\\sklearn\\neural_network\\_multilayer_perceptron.py:559: ConvergenceWarning: lbfgs failed to converge (status=1):\n",
      "STOP: TOTAL NO. of ITERATIONS REACHED LIMIT.\n",
      "\n",
      "Increase the number of iterations (max_iter) or scale the data as shown in:\n",
      "    https://scikit-learn.org/stable/modules/preprocessing.html\n",
      "  self.n_iter_ = _check_optimize_result(\"lbfgs\", opt_res, self.max_iter)\n",
      "D:\\anaconda\\envs\\tensorflow\\lib\\site-packages\\sklearn\\neural_network\\_multilayer_perceptron.py:559: ConvergenceWarning: lbfgs failed to converge (status=1):\n",
      "STOP: TOTAL NO. of ITERATIONS REACHED LIMIT.\n",
      "\n",
      "Increase the number of iterations (max_iter) or scale the data as shown in:\n",
      "    https://scikit-learn.org/stable/modules/preprocessing.html\n",
      "  self.n_iter_ = _check_optimize_result(\"lbfgs\", opt_res, self.max_iter)\n",
      "D:\\anaconda\\envs\\tensorflow\\lib\\site-packages\\sklearn\\neural_network\\_multilayer_perceptron.py:559: ConvergenceWarning: lbfgs failed to converge (status=1):\n",
      "STOP: TOTAL NO. of ITERATIONS REACHED LIMIT.\n",
      "\n",
      "Increase the number of iterations (max_iter) or scale the data as shown in:\n",
      "    https://scikit-learn.org/stable/modules/preprocessing.html\n",
      "  self.n_iter_ = _check_optimize_result(\"lbfgs\", opt_res, self.max_iter)\n",
      "D:\\anaconda\\envs\\tensorflow\\lib\\site-packages\\sklearn\\neural_network\\_multilayer_perceptron.py:559: ConvergenceWarning: lbfgs failed to converge (status=1):\n",
      "STOP: TOTAL NO. of ITERATIONS REACHED LIMIT.\n",
      "\n",
      "Increase the number of iterations (max_iter) or scale the data as shown in:\n",
      "    https://scikit-learn.org/stable/modules/preprocessing.html\n",
      "  self.n_iter_ = _check_optimize_result(\"lbfgs\", opt_res, self.max_iter)\n",
      "D:\\anaconda\\envs\\tensorflow\\lib\\site-packages\\sklearn\\neural_network\\_multilayer_perceptron.py:559: ConvergenceWarning: lbfgs failed to converge (status=1):\n",
      "STOP: TOTAL NO. of ITERATIONS REACHED LIMIT.\n",
      "\n",
      "Increase the number of iterations (max_iter) or scale the data as shown in:\n",
      "    https://scikit-learn.org/stable/modules/preprocessing.html\n",
      "  self.n_iter_ = _check_optimize_result(\"lbfgs\", opt_res, self.max_iter)\n",
      "D:\\anaconda\\envs\\tensorflow\\lib\\site-packages\\sklearn\\neural_network\\_multilayer_perceptron.py:559: ConvergenceWarning: lbfgs failed to converge (status=1):\n",
      "STOP: TOTAL NO. of ITERATIONS REACHED LIMIT.\n",
      "\n",
      "Increase the number of iterations (max_iter) or scale the data as shown in:\n",
      "    https://scikit-learn.org/stable/modules/preprocessing.html\n",
      "  self.n_iter_ = _check_optimize_result(\"lbfgs\", opt_res, self.max_iter)\n",
      "D:\\anaconda\\envs\\tensorflow\\lib\\site-packages\\sklearn\\neural_network\\_multilayer_perceptron.py:559: ConvergenceWarning: lbfgs failed to converge (status=1):\n",
      "STOP: TOTAL NO. of ITERATIONS REACHED LIMIT.\n",
      "\n",
      "Increase the number of iterations (max_iter) or scale the data as shown in:\n",
      "    https://scikit-learn.org/stable/modules/preprocessing.html\n",
      "  self.n_iter_ = _check_optimize_result(\"lbfgs\", opt_res, self.max_iter)\n"
     ]
    },
    {
     "name": "stdout",
     "output_type": "stream",
     "text": [
      "Iteration 1, loss = 1.20979429\n",
      "Iteration 2, loss = 0.67520352\n",
      "Iteration 3, loss = 0.53604006\n",
      "Iteration 4, loss = 0.47358566\n",
      "Iteration 5, loss = 0.43298213\n",
      "Iteration 6, loss = 0.40459100\n",
      "Iteration 7, loss = 0.38201179\n",
      "Iteration 8, loss = 0.36358740\n",
      "Iteration 9, loss = 0.34769014\n",
      "Iteration 10, loss = 0.33382037\n",
      "Iteration 11, loss = 0.32160666\n",
      "Iteration 12, loss = 0.31030249\n",
      "Iteration 13, loss = 0.29992150\n",
      "Iteration 14, loss = 0.28968876\n",
      "Iteration 15, loss = 0.28156397\n",
      "Iteration 16, loss = 0.27300718\n",
      "Iteration 17, loss = 0.26463505\n",
      "Iteration 18, loss = 0.25788270\n",
      "Iteration 19, loss = 0.25049932\n",
      "Iteration 20, loss = 0.24323601\n"
     ]
    },
    {
     "name": "stderr",
     "output_type": "stream",
     "text": [
      "D:\\anaconda\\envs\\tensorflow\\lib\\site-packages\\sklearn\\neural_network\\_multilayer_perceptron.py:702: ConvergenceWarning: Stochastic Optimizer: Maximum iterations (20) reached and the optimization hasn't converged yet.\n",
      "  warnings.warn(\n"
     ]
    },
    {
     "name": "stdout",
     "output_type": "stream",
     "text": [
      "Iteration 1, loss = 1.21716093\n",
      "Iteration 2, loss = 0.67760691\n",
      "Iteration 3, loss = 0.53749902\n",
      "Iteration 4, loss = 0.47409965\n",
      "Iteration 5, loss = 0.43366552\n",
      "Iteration 6, loss = 0.40533705\n",
      "Iteration 7, loss = 0.38247547\n",
      "Iteration 8, loss = 0.36376639\n",
      "Iteration 9, loss = 0.34791788\n",
      "Iteration 10, loss = 0.33400433\n",
      "Iteration 11, loss = 0.32174830\n",
      "Iteration 12, loss = 0.31038702\n",
      "Iteration 13, loss = 0.30024273\n",
      "Iteration 14, loss = 0.28988366\n",
      "Iteration 15, loss = 0.28157226\n",
      "Iteration 16, loss = 0.27336036\n",
      "Iteration 17, loss = 0.26508471\n",
      "Iteration 18, loss = 0.25765450\n",
      "Iteration 19, loss = 0.25039053\n",
      "Iteration 20, loss = 0.24293813\n"
     ]
    },
    {
     "name": "stderr",
     "output_type": "stream",
     "text": [
      "D:\\anaconda\\envs\\tensorflow\\lib\\site-packages\\sklearn\\neural_network\\_multilayer_perceptron.py:702: ConvergenceWarning: Stochastic Optimizer: Maximum iterations (20) reached and the optimization hasn't converged yet.\n",
      "  warnings.warn(\n"
     ]
    },
    {
     "name": "stdout",
     "output_type": "stream",
     "text": [
      "Iteration 1, loss = 1.21515556\n",
      "Iteration 2, loss = 0.67776968\n",
      "Iteration 3, loss = 0.53880189\n",
      "Iteration 4, loss = 0.47673941\n",
      "Iteration 5, loss = 0.43673820\n",
      "Iteration 6, loss = 0.40838994\n",
      "Iteration 7, loss = 0.38580339\n",
      "Iteration 8, loss = 0.36719149\n",
      "Iteration 9, loss = 0.35112315\n",
      "Iteration 10, loss = 0.33678860\n",
      "Iteration 11, loss = 0.32449035\n",
      "Iteration 12, loss = 0.31320914\n",
      "Iteration 13, loss = 0.30301996\n",
      "Iteration 14, loss = 0.29242365\n",
      "Iteration 15, loss = 0.28392875\n",
      "Iteration 16, loss = 0.27560536\n",
      "Iteration 17, loss = 0.26715651\n",
      "Iteration 18, loss = 0.25948053\n",
      "Iteration 19, loss = 0.25224184\n",
      "Iteration 20, loss = 0.24497452\n"
     ]
    },
    {
     "name": "stderr",
     "output_type": "stream",
     "text": [
      "D:\\anaconda\\envs\\tensorflow\\lib\\site-packages\\sklearn\\neural_network\\_multilayer_perceptron.py:702: ConvergenceWarning: Stochastic Optimizer: Maximum iterations (20) reached and the optimization hasn't converged yet.\n",
      "  warnings.warn(\n"
     ]
    },
    {
     "name": "stdout",
     "output_type": "stream",
     "text": [
      "Iteration 1, loss = 1.19800002\n",
      "Iteration 2, loss = 0.67089970\n",
      "Iteration 3, loss = 0.53584362\n",
      "Iteration 4, loss = 0.47218698\n",
      "Iteration 5, loss = 0.43175117\n",
      "Iteration 6, loss = 0.40308481\n",
      "Iteration 7, loss = 0.38036655\n",
      "Iteration 8, loss = 0.36152454\n",
      "Iteration 9, loss = 0.34530530\n",
      "Iteration 10, loss = 0.33122133\n",
      "Iteration 11, loss = 0.31896808\n",
      "Iteration 12, loss = 0.30753603\n",
      "Iteration 13, loss = 0.29733075\n",
      "Iteration 14, loss = 0.28726644\n",
      "Iteration 15, loss = 0.27854592\n",
      "Iteration 16, loss = 0.27043919\n",
      "Iteration 17, loss = 0.26217487\n",
      "Iteration 18, loss = 0.25484366\n",
      "Iteration 19, loss = 0.24768735\n",
      "Iteration 20, loss = 0.24095588\n"
     ]
    },
    {
     "name": "stderr",
     "output_type": "stream",
     "text": [
      "D:\\anaconda\\envs\\tensorflow\\lib\\site-packages\\sklearn\\neural_network\\_multilayer_perceptron.py:702: ConvergenceWarning: Stochastic Optimizer: Maximum iterations (20) reached and the optimization hasn't converged yet.\n",
      "  warnings.warn(\n"
     ]
    },
    {
     "name": "stdout",
     "output_type": "stream",
     "text": [
      "Iteration 1, loss = 1.21518408\n",
      "Iteration 2, loss = 0.67302329\n",
      "Iteration 3, loss = 0.53432018\n",
      "Iteration 4, loss = 0.47139800\n",
      "Iteration 5, loss = 0.43126094\n",
      "Iteration 6, loss = 0.40307737\n",
      "Iteration 7, loss = 0.38068118\n",
      "Iteration 8, loss = 0.36251347\n",
      "Iteration 9, loss = 0.34677590\n",
      "Iteration 10, loss = 0.33245040\n",
      "Iteration 11, loss = 0.32022879\n",
      "Iteration 12, loss = 0.30897446\n",
      "Iteration 13, loss = 0.29876811\n",
      "Iteration 14, loss = 0.28886426\n",
      "Iteration 15, loss = 0.27992508\n",
      "Iteration 16, loss = 0.27216297\n",
      "Iteration 17, loss = 0.26361865\n",
      "Iteration 18, loss = 0.25606872\n",
      "Iteration 19, loss = 0.24912838\n",
      "Iteration 20, loss = 0.24210099\n"
     ]
    },
    {
     "name": "stderr",
     "output_type": "stream",
     "text": [
      "D:\\anaconda\\envs\\tensorflow\\lib\\site-packages\\sklearn\\neural_network\\_multilayer_perceptron.py:702: ConvergenceWarning: Stochastic Optimizer: Maximum iterations (20) reached and the optimization hasn't converged yet.\n",
      "  warnings.warn(\n"
     ]
    },
    {
     "name": "stdout",
     "output_type": "stream",
     "text": [
      "Iteration 1, loss = 1.20838019\n",
      "Iteration 2, loss = 0.67290846\n",
      "Iteration 3, loss = 0.53560076\n",
      "Iteration 4, loss = 0.47228589\n",
      "Iteration 5, loss = 0.43176623\n",
      "Iteration 6, loss = 0.40317890\n",
      "Iteration 7, loss = 0.38067113\n",
      "Iteration 8, loss = 0.36229594\n",
      "Iteration 9, loss = 0.34669618\n",
      "Iteration 10, loss = 0.33211360\n",
      "Iteration 11, loss = 0.32000741\n",
      "Iteration 12, loss = 0.30924568\n",
      "Iteration 13, loss = 0.29906583\n",
      "Iteration 14, loss = 0.28925356\n",
      "Iteration 15, loss = 0.28021808\n",
      "Iteration 16, loss = 0.27259562\n",
      "Iteration 17, loss = 0.26428412\n",
      "Iteration 18, loss = 0.25679205\n",
      "Iteration 19, loss = 0.24977131\n",
      "Iteration 20, loss = 0.24271133\n"
     ]
    },
    {
     "name": "stderr",
     "output_type": "stream",
     "text": [
      "D:\\anaconda\\envs\\tensorflow\\lib\\site-packages\\sklearn\\neural_network\\_multilayer_perceptron.py:702: ConvergenceWarning: Stochastic Optimizer: Maximum iterations (20) reached and the optimization hasn't converged yet.\n",
      "  warnings.warn(\n"
     ]
    },
    {
     "name": "stdout",
     "output_type": "stream",
     "text": [
      "Iteration 1, loss = 1.19917286\n",
      "Iteration 2, loss = 0.66913737\n",
      "Iteration 3, loss = 0.53299301\n",
      "Iteration 4, loss = 0.46903100\n",
      "Iteration 5, loss = 0.42873006\n",
      "Iteration 6, loss = 0.40013195\n",
      "Iteration 7, loss = 0.37732458\n",
      "Iteration 8, loss = 0.35863124\n",
      "Iteration 9, loss = 0.34291408\n",
      "Iteration 10, loss = 0.32838204\n",
      "Iteration 11, loss = 0.31600241\n",
      "Iteration 12, loss = 0.30489426\n",
      "Iteration 13, loss = 0.29485490\n",
      "Iteration 14, loss = 0.28518007\n",
      "Iteration 15, loss = 0.27662207\n",
      "Iteration 16, loss = 0.26894028\n",
      "Iteration 17, loss = 0.26049647\n",
      "Iteration 18, loss = 0.25298408\n",
      "Iteration 19, loss = 0.24611022\n",
      "Iteration 20, loss = 0.23931567\n",
      "Iteration 1, loss = 1.18667428\n"
     ]
    },
    {
     "name": "stderr",
     "output_type": "stream",
     "text": [
      "D:\\anaconda\\envs\\tensorflow\\lib\\site-packages\\sklearn\\neural_network\\_multilayer_perceptron.py:702: ConvergenceWarning: Stochastic Optimizer: Maximum iterations (20) reached and the optimization hasn't converged yet.\n",
      "  warnings.warn(\n"
     ]
    },
    {
     "name": "stdout",
     "output_type": "stream",
     "text": [
      "Iteration 2, loss = 0.66686930\n",
      "Iteration 3, loss = 0.53543947\n",
      "Iteration 4, loss = 0.47181877\n",
      "Iteration 5, loss = 0.43176256\n",
      "Iteration 6, loss = 0.40306396\n",
      "Iteration 7, loss = 0.38026817\n",
      "Iteration 8, loss = 0.36184918\n",
      "Iteration 9, loss = 0.34565298\n",
      "Iteration 10, loss = 0.33152750\n",
      "Iteration 11, loss = 0.31924162\n",
      "Iteration 12, loss = 0.30806039\n",
      "Iteration 13, loss = 0.29802107\n",
      "Iteration 14, loss = 0.28815100\n",
      "Iteration 15, loss = 0.27962878\n",
      "Iteration 16, loss = 0.27175199\n",
      "Iteration 17, loss = 0.26316347\n",
      "Iteration 18, loss = 0.25594506\n",
      "Iteration 19, loss = 0.24879080\n",
      "Iteration 20, loss = 0.24245946\n",
      "Iteration 1, loss = 1.20175055\n"
     ]
    },
    {
     "name": "stderr",
     "output_type": "stream",
     "text": [
      "D:\\anaconda\\envs\\tensorflow\\lib\\site-packages\\sklearn\\neural_network\\_multilayer_perceptron.py:702: ConvergenceWarning: Stochastic Optimizer: Maximum iterations (20) reached and the optimization hasn't converged yet.\n",
      "  warnings.warn(\n"
     ]
    },
    {
     "name": "stdout",
     "output_type": "stream",
     "text": [
      "Iteration 2, loss = 0.67092571\n",
      "Iteration 3, loss = 0.53431574\n",
      "Iteration 4, loss = 0.47121405\n",
      "Iteration 5, loss = 0.43146333\n",
      "Iteration 6, loss = 0.40335226\n",
      "Iteration 7, loss = 0.38075599\n",
      "Iteration 8, loss = 0.36192362\n",
      "Iteration 9, loss = 0.34625956\n",
      "Iteration 10, loss = 0.33269894\n",
      "Iteration 11, loss = 0.32056858\n",
      "Iteration 12, loss = 0.30891101\n",
      "Iteration 13, loss = 0.29876338\n",
      "Iteration 14, loss = 0.28950941\n",
      "Iteration 15, loss = 0.28053176\n",
      "Iteration 16, loss = 0.27272538\n",
      "Iteration 17, loss = 0.26461324\n",
      "Iteration 18, loss = 0.25692470\n",
      "Iteration 19, loss = 0.24958942\n",
      "Iteration 20, loss = 0.24281044\n",
      "Iteration 1, loss = 1.19925756\n"
     ]
    },
    {
     "name": "stderr",
     "output_type": "stream",
     "text": [
      "D:\\anaconda\\envs\\tensorflow\\lib\\site-packages\\sklearn\\neural_network\\_multilayer_perceptron.py:702: ConvergenceWarning: Stochastic Optimizer: Maximum iterations (20) reached and the optimization hasn't converged yet.\n",
      "  warnings.warn(\n"
     ]
    },
    {
     "name": "stdout",
     "output_type": "stream",
     "text": [
      "Iteration 2, loss = 0.67125993\n",
      "Iteration 3, loss = 0.53794231\n",
      "Iteration 4, loss = 0.47529537\n",
      "Iteration 5, loss = 0.43590668\n",
      "Iteration 6, loss = 0.40800841\n",
      "Iteration 7, loss = 0.38570787\n",
      "Iteration 8, loss = 0.36709063\n",
      "Iteration 9, loss = 0.35130081\n",
      "Iteration 10, loss = 0.33744204\n",
      "Iteration 11, loss = 0.32522475\n",
      "Iteration 12, loss = 0.31353210\n",
      "Iteration 13, loss = 0.30301538\n",
      "Iteration 14, loss = 0.29385151\n",
      "Iteration 15, loss = 0.28465265\n",
      "Iteration 16, loss = 0.27688474\n",
      "Iteration 17, loss = 0.26892353\n",
      "Iteration 18, loss = 0.26088374\n",
      "Iteration 19, loss = 0.25364782\n",
      "Iteration 20, loss = 0.24678504\n",
      "Iteration 1, loss = 1.30912077\n"
     ]
    },
    {
     "name": "stderr",
     "output_type": "stream",
     "text": [
      "D:\\anaconda\\envs\\tensorflow\\lib\\site-packages\\sklearn\\neural_network\\_multilayer_perceptron.py:702: ConvergenceWarning: Stochastic Optimizer: Maximum iterations (20) reached and the optimization hasn't converged yet.\n",
      "  warnings.warn(\n"
     ]
    },
    {
     "name": "stdout",
     "output_type": "stream",
     "text": [
      "Iteration 2, loss = 0.81485256\n",
      "Iteration 3, loss = 0.74029641\n",
      "Iteration 4, loss = 0.69733215\n",
      "Iteration 5, loss = 0.67096732\n",
      "Iteration 6, loss = 0.65084371\n",
      "Iteration 7, loss = 0.63444268\n",
      "Iteration 8, loss = 0.62040489\n",
      "Iteration 9, loss = 0.60721303\n",
      "Iteration 10, loss = 0.59622708\n",
      "Iteration 11, loss = 0.58577745\n",
      "Iteration 12, loss = 0.57651460\n",
      "Iteration 13, loss = 0.56798271\n",
      "Iteration 14, loss = 0.56006949\n",
      "Iteration 15, loss = 0.55274676\n",
      "Iteration 16, loss = 0.54581319\n",
      "Iteration 17, loss = 0.53909545\n",
      "Iteration 18, loss = 0.53332134\n",
      "Iteration 19, loss = 0.52763022\n",
      "Iteration 20, loss = 0.52178366\n",
      "Iteration 1, loss = 1.31678093\n",
      "Iteration 2, loss = 0.81797862\n"
     ]
    },
    {
     "name": "stderr",
     "output_type": "stream",
     "text": [
      "D:\\anaconda\\envs\\tensorflow\\lib\\site-packages\\sklearn\\neural_network\\_multilayer_perceptron.py:702: ConvergenceWarning: Stochastic Optimizer: Maximum iterations (20) reached and the optimization hasn't converged yet.\n",
      "  warnings.warn(\n"
     ]
    },
    {
     "name": "stdout",
     "output_type": "stream",
     "text": [
      "Iteration 3, loss = 0.74433313\n",
      "Iteration 4, loss = 0.70065576\n",
      "Iteration 5, loss = 0.67451317\n",
      "Iteration 6, loss = 0.65442618\n",
      "Iteration 7, loss = 0.63814368\n",
      "Iteration 8, loss = 0.62418665\n",
      "Iteration 9, loss = 0.61134141\n",
      "Iteration 10, loss = 0.60051165\n",
      "Iteration 11, loss = 0.59000610\n",
      "Iteration 12, loss = 0.58088704\n",
      "Iteration 13, loss = 0.57241477\n",
      "Iteration 14, loss = 0.56424426\n",
      "Iteration 15, loss = 0.55705589\n",
      "Iteration 16, loss = 0.55015540\n",
      "Iteration 17, loss = 0.54338056\n",
      "Iteration 18, loss = 0.53748846\n",
      "Iteration 19, loss = 0.53149375\n",
      "Iteration 20, loss = 0.52562350\n",
      "Iteration 1, loss = 1.31685068\n",
      "Iteration 2, loss = 0.81704502\n",
      "Iteration 3, loss = 0.74429007\n"
     ]
    },
    {
     "name": "stderr",
     "output_type": "stream",
     "text": [
      "D:\\anaconda\\envs\\tensorflow\\lib\\site-packages\\sklearn\\neural_network\\_multilayer_perceptron.py:702: ConvergenceWarning: Stochastic Optimizer: Maximum iterations (20) reached and the optimization hasn't converged yet.\n",
      "  warnings.warn(\n"
     ]
    },
    {
     "name": "stdout",
     "output_type": "stream",
     "text": [
      "Iteration 4, loss = 0.70149522\n",
      "Iteration 5, loss = 0.67589733\n",
      "Iteration 6, loss = 0.65592408\n",
      "Iteration 7, loss = 0.63980859\n",
      "Iteration 8, loss = 0.62601897\n",
      "Iteration 9, loss = 0.61334619\n",
      "Iteration 10, loss = 0.60246286\n",
      "Iteration 11, loss = 0.59224765\n",
      "Iteration 12, loss = 0.58332966\n",
      "Iteration 13, loss = 0.57509415\n",
      "Iteration 14, loss = 0.56686097\n",
      "Iteration 15, loss = 0.55965135\n",
      "Iteration 16, loss = 0.55283531\n",
      "Iteration 17, loss = 0.54633655\n",
      "Iteration 18, loss = 0.54052274\n",
      "Iteration 19, loss = 0.53452360\n",
      "Iteration 20, loss = 0.52881239\n",
      "Iteration 1, loss = 1.30231190\n",
      "Iteration 2, loss = 0.81426954\n",
      "Iteration 3, loss = 0.74256805\n",
      "Iteration 4, loss = 0.69925050\n"
     ]
    },
    {
     "name": "stderr",
     "output_type": "stream",
     "text": [
      "D:\\anaconda\\envs\\tensorflow\\lib\\site-packages\\sklearn\\neural_network\\_multilayer_perceptron.py:702: ConvergenceWarning: Stochastic Optimizer: Maximum iterations (20) reached and the optimization hasn't converged yet.\n",
      "  warnings.warn(\n"
     ]
    },
    {
     "name": "stdout",
     "output_type": "stream",
     "text": [
      "Iteration 5, loss = 0.67307550\n",
      "Iteration 6, loss = 0.65304544\n",
      "Iteration 7, loss = 0.63658548\n",
      "Iteration 8, loss = 0.62230393\n",
      "Iteration 9, loss = 0.60938182\n",
      "Iteration 10, loss = 0.59812358\n",
      "Iteration 11, loss = 0.58775062\n",
      "Iteration 12, loss = 0.57862503\n",
      "Iteration 13, loss = 0.57007334\n",
      "Iteration 14, loss = 0.56176364\n",
      "Iteration 15, loss = 0.55447356\n",
      "Iteration 16, loss = 0.54733441\n",
      "Iteration 17, loss = 0.54081900\n",
      "Iteration 18, loss = 0.53477234\n",
      "Iteration 19, loss = 0.52858103\n",
      "Iteration 20, loss = 0.52284598\n",
      "Iteration 1, loss = 1.31936861\n",
      "Iteration 2, loss = 0.81588775\n",
      "Iteration 3, loss = 0.74424814\n",
      "Iteration 4, loss = 0.69990539\n",
      "Iteration 5, loss = 0.67361068\n",
      "Iteration 6, loss = 0.65322338\n"
     ]
    },
    {
     "name": "stderr",
     "output_type": "stream",
     "text": [
      "D:\\anaconda\\envs\\tensorflow\\lib\\site-packages\\sklearn\\neural_network\\_multilayer_perceptron.py:702: ConvergenceWarning: Stochastic Optimizer: Maximum iterations (20) reached and the optimization hasn't converged yet.\n",
      "  warnings.warn(\n"
     ]
    },
    {
     "name": "stdout",
     "output_type": "stream",
     "text": [
      "Iteration 7, loss = 0.63653252\n",
      "Iteration 8, loss = 0.62216974\n",
      "Iteration 9, loss = 0.60931971\n",
      "Iteration 10, loss = 0.59772932\n",
      "Iteration 11, loss = 0.58742463\n",
      "Iteration 12, loss = 0.57815274\n",
      "Iteration 13, loss = 0.56963634\n",
      "Iteration 14, loss = 0.56135950\n",
      "Iteration 15, loss = 0.55399169\n",
      "Iteration 16, loss = 0.54693019\n",
      "Iteration 17, loss = 0.54034518\n",
      "Iteration 18, loss = 0.53423032\n",
      "Iteration 19, loss = 0.52809806\n",
      "Iteration 20, loss = 0.52246953\n",
      "Iteration 1, loss = 1.31336746\n",
      "Iteration 2, loss = 0.81705792\n",
      "Iteration 3, loss = 0.74506284\n",
      "Iteration 4, loss = 0.70126140\n",
      "Iteration 5, loss = 0.67546702\n",
      "Iteration 6, loss = 0.65535963\n"
     ]
    },
    {
     "name": "stderr",
     "output_type": "stream",
     "text": [
      "D:\\anaconda\\envs\\tensorflow\\lib\\site-packages\\sklearn\\neural_network\\_multilayer_perceptron.py:702: ConvergenceWarning: Stochastic Optimizer: Maximum iterations (20) reached and the optimization hasn't converged yet.\n",
      "  warnings.warn(\n"
     ]
    },
    {
     "name": "stdout",
     "output_type": "stream",
     "text": [
      "Iteration 7, loss = 0.63911116\n",
      "Iteration 8, loss = 0.62502993\n",
      "Iteration 9, loss = 0.61274705\n",
      "Iteration 10, loss = 0.60118236\n",
      "Iteration 11, loss = 0.59116807\n",
      "Iteration 12, loss = 0.58215502\n",
      "Iteration 13, loss = 0.57330209\n",
      "Iteration 14, loss = 0.56517685\n",
      "Iteration 15, loss = 0.55786682\n",
      "Iteration 16, loss = 0.55062573\n",
      "Iteration 17, loss = 0.54423326\n",
      "Iteration 18, loss = 0.53803099\n",
      "Iteration 19, loss = 0.53190007\n",
      "Iteration 20, loss = 0.52616350\n",
      "Iteration 1, loss = 1.30907750\n",
      "Iteration 2, loss = 0.81499751\n",
      "Iteration 3, loss = 0.74251597\n",
      "Iteration 4, loss = 0.69790956\n",
      "Iteration 5, loss = 0.67183105\n",
      "Iteration 6, loss = 0.65181374\n"
     ]
    },
    {
     "name": "stderr",
     "output_type": "stream",
     "text": [
      "D:\\anaconda\\envs\\tensorflow\\lib\\site-packages\\sklearn\\neural_network\\_multilayer_perceptron.py:702: ConvergenceWarning: Stochastic Optimizer: Maximum iterations (20) reached and the optimization hasn't converged yet.\n",
      "  warnings.warn(\n"
     ]
    },
    {
     "name": "stdout",
     "output_type": "stream",
     "text": [
      "Iteration 7, loss = 0.63544151\n",
      "Iteration 8, loss = 0.62126671\n",
      "Iteration 9, loss = 0.60925794\n",
      "Iteration 10, loss = 0.59744539\n",
      "Iteration 11, loss = 0.58749741\n",
      "Iteration 12, loss = 0.57842703\n",
      "Iteration 13, loss = 0.56986653\n",
      "Iteration 14, loss = 0.56204967\n",
      "Iteration 15, loss = 0.55494634\n",
      "Iteration 16, loss = 0.54773377\n",
      "Iteration 17, loss = 0.54150255\n",
      "Iteration 18, loss = 0.53531251\n",
      "Iteration 19, loss = 0.52932030\n",
      "Iteration 20, loss = 0.52392753\n",
      "Iteration 1, loss = 1.30051038\n",
      "Iteration 2, loss = 0.81449448\n",
      "Iteration 3, loss = 0.74450496\n",
      "Iteration 4, loss = 0.70064418\n",
      "Iteration 5, loss = 0.67468028\n",
      "Iteration 6, loss = 0.65453662\n",
      "Iteration 7, loss = 0.63814911\n"
     ]
    },
    {
     "name": "stderr",
     "output_type": "stream",
     "text": [
      "D:\\anaconda\\envs\\tensorflow\\lib\\site-packages\\sklearn\\neural_network\\_multilayer_perceptron.py:702: ConvergenceWarning: Stochastic Optimizer: Maximum iterations (20) reached and the optimization hasn't converged yet.\n",
      "  warnings.warn(\n"
     ]
    },
    {
     "name": "stdout",
     "output_type": "stream",
     "text": [
      "Iteration 8, loss = 0.62391774\n",
      "Iteration 9, loss = 0.61146346\n",
      "Iteration 10, loss = 0.59986436\n",
      "Iteration 11, loss = 0.58988267\n",
      "Iteration 12, loss = 0.58050044\n",
      "Iteration 13, loss = 0.57200630\n",
      "Iteration 14, loss = 0.56400315\n",
      "Iteration 15, loss = 0.55680621\n",
      "Iteration 16, loss = 0.54962452\n",
      "Iteration 17, loss = 0.54315782\n",
      "Iteration 18, loss = 0.53677988\n",
      "Iteration 19, loss = 0.53080967\n",
      "Iteration 20, loss = 0.52544275\n",
      "Iteration 1, loss = 1.31144907\n",
      "Iteration 2, loss = 0.81673680\n",
      "Iteration 3, loss = 0.74111716\n",
      "Iteration 4, loss = 0.69764898\n",
      "Iteration 5, loss = 0.67117175\n",
      "Iteration 6, loss = 0.65111193\n",
      "Iteration 7, loss = 0.63472716\n",
      "Iteration 8, loss = 0.62059052\n"
     ]
    },
    {
     "name": "stderr",
     "output_type": "stream",
     "text": [
      "D:\\anaconda\\envs\\tensorflow\\lib\\site-packages\\sklearn\\neural_network\\_multilayer_perceptron.py:702: ConvergenceWarning: Stochastic Optimizer: Maximum iterations (20) reached and the optimization hasn't converged yet.\n",
      "  warnings.warn(\n"
     ]
    },
    {
     "name": "stdout",
     "output_type": "stream",
     "text": [
      "Iteration 9, loss = 0.60812429\n",
      "Iteration 10, loss = 0.59675067\n",
      "Iteration 11, loss = 0.58659027\n",
      "Iteration 12, loss = 0.57700389\n",
      "Iteration 13, loss = 0.56841018\n",
      "Iteration 14, loss = 0.56032999\n",
      "Iteration 15, loss = 0.55308763\n",
      "Iteration 16, loss = 0.54595892\n",
      "Iteration 17, loss = 0.53943289\n",
      "Iteration 18, loss = 0.53311930\n",
      "Iteration 19, loss = 0.52724333\n",
      "Iteration 20, loss = 0.52151829\n",
      "Iteration 1, loss = 1.31338230\n",
      "Iteration 2, loss = 0.82042218\n",
      "Iteration 3, loss = 0.74827742\n",
      "Iteration 4, loss = 0.70541906\n",
      "Iteration 5, loss = 0.67869193\n",
      "Iteration 6, loss = 0.65870461\n",
      "Iteration 7, loss = 0.64219920\n",
      "Iteration 8, loss = 0.62812834\n",
      "Iteration 9, loss = 0.61559450\n"
     ]
    },
    {
     "name": "stderr",
     "output_type": "stream",
     "text": [
      "D:\\anaconda\\envs\\tensorflow\\lib\\site-packages\\sklearn\\neural_network\\_multilayer_perceptron.py:702: ConvergenceWarning: Stochastic Optimizer: Maximum iterations (20) reached and the optimization hasn't converged yet.\n",
      "  warnings.warn(\n"
     ]
    },
    {
     "name": "stdout",
     "output_type": "stream",
     "text": [
      "Iteration 10, loss = 0.60422837\n",
      "Iteration 11, loss = 0.59411214\n",
      "Iteration 12, loss = 0.58453008\n",
      "Iteration 13, loss = 0.57571177\n",
      "Iteration 14, loss = 0.56758402\n",
      "Iteration 15, loss = 0.56014038\n",
      "Iteration 16, loss = 0.55295678\n",
      "Iteration 17, loss = 0.54632639\n",
      "Iteration 18, loss = 0.54012138\n",
      "Iteration 19, loss = 0.53421310\n",
      "Iteration 20, loss = 0.52839288\n"
     ]
    },
    {
     "name": "stderr",
     "output_type": "stream",
     "text": [
      "D:\\anaconda\\envs\\tensorflow\\lib\\site-packages\\sklearn\\neural_network\\_multilayer_perceptron.py:702: ConvergenceWarning: Stochastic Optimizer: Maximum iterations (20) reached and the optimization hasn't converged yet.\n",
      "  warnings.warn(\n",
      "D:\\anaconda\\envs\\tensorflow\\lib\\site-packages\\sklearn\\neural_network\\_multilayer_perceptron.py:559: ConvergenceWarning: lbfgs failed to converge (status=1):\n",
      "STOP: TOTAL NO. of ITERATIONS REACHED LIMIT.\n",
      "\n",
      "Increase the number of iterations (max_iter) or scale the data as shown in:\n",
      "    https://scikit-learn.org/stable/modules/preprocessing.html\n",
      "  self.n_iter_ = _check_optimize_result(\"lbfgs\", opt_res, self.max_iter)\n",
      "D:\\anaconda\\envs\\tensorflow\\lib\\site-packages\\sklearn\\neural_network\\_multilayer_perceptron.py:559: ConvergenceWarning: lbfgs failed to converge (status=1):\n",
      "STOP: TOTAL NO. of ITERATIONS REACHED LIMIT.\n",
      "\n",
      "Increase the number of iterations (max_iter) or scale the data as shown in:\n",
      "    https://scikit-learn.org/stable/modules/preprocessing.html\n",
      "  self.n_iter_ = _check_optimize_result(\"lbfgs\", opt_res, self.max_iter)\n",
      "D:\\anaconda\\envs\\tensorflow\\lib\\site-packages\\sklearn\\neural_network\\_multilayer_perceptron.py:559: ConvergenceWarning: lbfgs failed to converge (status=1):\n",
      "STOP: TOTAL NO. of ITERATIONS REACHED LIMIT.\n",
      "\n",
      "Increase the number of iterations (max_iter) or scale the data as shown in:\n",
      "    https://scikit-learn.org/stable/modules/preprocessing.html\n",
      "  self.n_iter_ = _check_optimize_result(\"lbfgs\", opt_res, self.max_iter)\n",
      "D:\\anaconda\\envs\\tensorflow\\lib\\site-packages\\sklearn\\neural_network\\_multilayer_perceptron.py:559: ConvergenceWarning: lbfgs failed to converge (status=1):\n",
      "STOP: TOTAL NO. of ITERATIONS REACHED LIMIT.\n",
      "\n",
      "Increase the number of iterations (max_iter) or scale the data as shown in:\n",
      "    https://scikit-learn.org/stable/modules/preprocessing.html\n",
      "  self.n_iter_ = _check_optimize_result(\"lbfgs\", opt_res, self.max_iter)\n",
      "D:\\anaconda\\envs\\tensorflow\\lib\\site-packages\\sklearn\\neural_network\\_multilayer_perceptron.py:559: ConvergenceWarning: lbfgs failed to converge (status=1):\n",
      "STOP: TOTAL NO. of ITERATIONS REACHED LIMIT.\n",
      "\n",
      "Increase the number of iterations (max_iter) or scale the data as shown in:\n",
      "    https://scikit-learn.org/stable/modules/preprocessing.html\n",
      "  self.n_iter_ = _check_optimize_result(\"lbfgs\", opt_res, self.max_iter)\n",
      "D:\\anaconda\\envs\\tensorflow\\lib\\site-packages\\sklearn\\neural_network\\_multilayer_perceptron.py:559: ConvergenceWarning: lbfgs failed to converge (status=1):\n",
      "STOP: TOTAL NO. of ITERATIONS REACHED LIMIT.\n",
      "\n",
      "Increase the number of iterations (max_iter) or scale the data as shown in:\n",
      "    https://scikit-learn.org/stable/modules/preprocessing.html\n",
      "  self.n_iter_ = _check_optimize_result(\"lbfgs\", opt_res, self.max_iter)\n",
      "D:\\anaconda\\envs\\tensorflow\\lib\\site-packages\\sklearn\\neural_network\\_multilayer_perceptron.py:559: ConvergenceWarning: lbfgs failed to converge (status=1):\n",
      "STOP: TOTAL NO. of ITERATIONS REACHED LIMIT.\n",
      "\n",
      "Increase the number of iterations (max_iter) or scale the data as shown in:\n",
      "    https://scikit-learn.org/stable/modules/preprocessing.html\n",
      "  self.n_iter_ = _check_optimize_result(\"lbfgs\", opt_res, self.max_iter)\n",
      "D:\\anaconda\\envs\\tensorflow\\lib\\site-packages\\sklearn\\neural_network\\_multilayer_perceptron.py:559: ConvergenceWarning: lbfgs failed to converge (status=1):\n",
      "STOP: TOTAL NO. of ITERATIONS REACHED LIMIT.\n",
      "\n",
      "Increase the number of iterations (max_iter) or scale the data as shown in:\n",
      "    https://scikit-learn.org/stable/modules/preprocessing.html\n",
      "  self.n_iter_ = _check_optimize_result(\"lbfgs\", opt_res, self.max_iter)\n",
      "D:\\anaconda\\envs\\tensorflow\\lib\\site-packages\\sklearn\\neural_network\\_multilayer_perceptron.py:559: ConvergenceWarning: lbfgs failed to converge (status=1):\n",
      "STOP: TOTAL NO. of ITERATIONS REACHED LIMIT.\n",
      "\n",
      "Increase the number of iterations (max_iter) or scale the data as shown in:\n",
      "    https://scikit-learn.org/stable/modules/preprocessing.html\n",
      "  self.n_iter_ = _check_optimize_result(\"lbfgs\", opt_res, self.max_iter)\n",
      "D:\\anaconda\\envs\\tensorflow\\lib\\site-packages\\sklearn\\neural_network\\_multilayer_perceptron.py:559: ConvergenceWarning: lbfgs failed to converge (status=1):\n",
      "STOP: TOTAL NO. of ITERATIONS REACHED LIMIT.\n",
      "\n",
      "Increase the number of iterations (max_iter) or scale the data as shown in:\n",
      "    https://scikit-learn.org/stable/modules/preprocessing.html\n",
      "  self.n_iter_ = _check_optimize_result(\"lbfgs\", opt_res, self.max_iter)\n"
     ]
    },
    {
     "name": "stdout",
     "output_type": "stream",
     "text": [
      "Iteration 1, loss = 0.67240485\n",
      "Iteration 2, loss = 0.52300508\n",
      "Iteration 3, loss = 0.44140250\n",
      "Iteration 4, loss = 0.38011466\n",
      "Iteration 5, loss = 0.33758733\n",
      "Iteration 6, loss = 0.30785663\n",
      "Iteration 7, loss = 0.28262567\n",
      "Iteration 8, loss = 0.26274705\n",
      "Iteration 9, loss = 0.24299726\n",
      "Iteration 10, loss = 0.22794384\n",
      "Iteration 11, loss = 0.21287497\n",
      "Iteration 12, loss = 0.20199422\n",
      "Iteration 13, loss = 0.18746918\n",
      "Iteration 14, loss = 0.17277440\n",
      "Iteration 15, loss = 0.16265000\n",
      "Iteration 16, loss = 0.15238058\n",
      "Iteration 17, loss = 0.14042263\n",
      "Iteration 18, loss = 0.13216061\n",
      "Iteration 19, loss = 0.12581790\n",
      "Iteration 20, loss = 0.11547914\n",
      "Iteration 1, loss = 0.67900046\n",
      "Iteration 2, loss = 0.52772888\n",
      "Iteration 3, loss = 0.44479667\n"
     ]
    },
    {
     "name": "stderr",
     "output_type": "stream",
     "text": [
      "D:\\anaconda\\envs\\tensorflow\\lib\\site-packages\\sklearn\\neural_network\\_multilayer_perceptron.py:702: ConvergenceWarning: Stochastic Optimizer: Maximum iterations (20) reached and the optimization hasn't converged yet.\n",
      "  warnings.warn(\n"
     ]
    },
    {
     "name": "stdout",
     "output_type": "stream",
     "text": [
      "Iteration 4, loss = 0.38322813\n",
      "Iteration 5, loss = 0.34045573\n",
      "Iteration 6, loss = 0.31254264\n",
      "Iteration 7, loss = 0.28662098\n",
      "Iteration 8, loss = 0.26644805\n",
      "Iteration 9, loss = 0.24662764\n",
      "Iteration 10, loss = 0.23248415\n",
      "Iteration 11, loss = 0.21824304\n",
      "Iteration 12, loss = 0.20398131\n",
      "Iteration 13, loss = 0.19068817\n",
      "Iteration 14, loss = 0.17734950\n",
      "Iteration 15, loss = 0.16668212\n",
      "Iteration 16, loss = 0.15643660\n",
      "Iteration 17, loss = 0.14418485\n",
      "Iteration 18, loss = 0.13382897\n",
      "Iteration 19, loss = 0.12632933\n",
      "Iteration 20, loss = 0.11702936\n",
      "Iteration 1, loss = 0.67601477\n",
      "Iteration 2, loss = 0.52867763\n",
      "Iteration 3, loss = 0.44633969\n",
      "Iteration 4, loss = 0.38646065\n",
      "Iteration 5, loss = 0.34454595\n",
      "Iteration 6, loss = 0.31482566\n",
      "Iteration 7, loss = 0.28770087\n"
     ]
    },
    {
     "name": "stderr",
     "output_type": "stream",
     "text": [
      "D:\\anaconda\\envs\\tensorflow\\lib\\site-packages\\sklearn\\neural_network\\_multilayer_perceptron.py:702: ConvergenceWarning: Stochastic Optimizer: Maximum iterations (20) reached and the optimization hasn't converged yet.\n",
      "  warnings.warn(\n"
     ]
    },
    {
     "name": "stdout",
     "output_type": "stream",
     "text": [
      "Iteration 8, loss = 0.26589636\n",
      "Iteration 9, loss = 0.24694652\n",
      "Iteration 10, loss = 0.23242729\n",
      "Iteration 11, loss = 0.21694845\n",
      "Iteration 12, loss = 0.20255345\n",
      "Iteration 13, loss = 0.18834661\n",
      "Iteration 14, loss = 0.17584950\n",
      "Iteration 15, loss = 0.16396437\n",
      "Iteration 16, loss = 0.15315226\n",
      "Iteration 17, loss = 0.14208767\n",
      "Iteration 18, loss = 0.13150285\n",
      "Iteration 19, loss = 0.12283441\n",
      "Iteration 20, loss = 0.11342597\n",
      "Iteration 1, loss = 0.67810503\n",
      "Iteration 2, loss = 0.52812932\n",
      "Iteration 3, loss = 0.44560062\n"
     ]
    },
    {
     "name": "stderr",
     "output_type": "stream",
     "text": [
      "D:\\anaconda\\envs\\tensorflow\\lib\\site-packages\\sklearn\\neural_network\\_multilayer_perceptron.py:702: ConvergenceWarning: Stochastic Optimizer: Maximum iterations (20) reached and the optimization hasn't converged yet.\n",
      "  warnings.warn(\n"
     ]
    },
    {
     "name": "stdout",
     "output_type": "stream",
     "text": [
      "Iteration 4, loss = 0.38479303\n",
      "Iteration 5, loss = 0.34318296\n",
      "Iteration 6, loss = 0.31308602\n",
      "Iteration 7, loss = 0.28460106\n",
      "Iteration 8, loss = 0.26429791\n",
      "Iteration 9, loss = 0.24673243\n",
      "Iteration 10, loss = 0.23289815\n",
      "Iteration 11, loss = 0.21767911\n",
      "Iteration 12, loss = 0.20174667\n",
      "Iteration 13, loss = 0.18867477\n",
      "Iteration 14, loss = 0.17633461\n",
      "Iteration 15, loss = 0.16543655\n",
      "Iteration 16, loss = 0.15578272\n",
      "Iteration 17, loss = 0.14486117\n",
      "Iteration 18, loss = 0.13362694\n",
      "Iteration 19, loss = 0.12481782\n",
      "Iteration 20, loss = 0.11652982\n",
      "Iteration 1, loss = 0.67415831\n",
      "Iteration 2, loss = 0.52322703\n",
      "Iteration 3, loss = 0.44150252\n",
      "Iteration 4, loss = 0.38230018\n",
      "Iteration 5, loss = 0.34145739\n",
      "Iteration 6, loss = 0.31254481\n"
     ]
    },
    {
     "name": "stderr",
     "output_type": "stream",
     "text": [
      "D:\\anaconda\\envs\\tensorflow\\lib\\site-packages\\sklearn\\neural_network\\_multilayer_perceptron.py:702: ConvergenceWarning: Stochastic Optimizer: Maximum iterations (20) reached and the optimization hasn't converged yet.\n",
      "  warnings.warn(\n"
     ]
    },
    {
     "name": "stdout",
     "output_type": "stream",
     "text": [
      "Iteration 7, loss = 0.28406444\n",
      "Iteration 8, loss = 0.26432401\n",
      "Iteration 9, loss = 0.24656647\n",
      "Iteration 10, loss = 0.23165227\n",
      "Iteration 11, loss = 0.21604909\n",
      "Iteration 12, loss = 0.19973308\n",
      "Iteration 13, loss = 0.18697753\n",
      "Iteration 14, loss = 0.17381984\n",
      "Iteration 15, loss = 0.16344790\n",
      "Iteration 16, loss = 0.15234661\n",
      "Iteration 17, loss = 0.14071153\n",
      "Iteration 18, loss = 0.12964778\n",
      "Iteration 19, loss = 0.12041291\n",
      "Iteration 20, loss = 0.11210685\n",
      "Iteration 1, loss = 0.67701883\n",
      "Iteration 2, loss = 0.52566083\n"
     ]
    },
    {
     "name": "stderr",
     "output_type": "stream",
     "text": [
      "D:\\anaconda\\envs\\tensorflow\\lib\\site-packages\\sklearn\\neural_network\\_multilayer_perceptron.py:702: ConvergenceWarning: Stochastic Optimizer: Maximum iterations (20) reached and the optimization hasn't converged yet.\n",
      "  warnings.warn(\n"
     ]
    },
    {
     "name": "stdout",
     "output_type": "stream",
     "text": [
      "Iteration 3, loss = 0.44388676\n",
      "Iteration 4, loss = 0.38337225\n",
      "Iteration 5, loss = 0.34177229\n",
      "Iteration 6, loss = 0.31447532\n",
      "Iteration 7, loss = 0.28538969\n",
      "Iteration 8, loss = 0.26539905\n",
      "Iteration 9, loss = 0.24683417\n",
      "Iteration 10, loss = 0.23215844\n",
      "Iteration 11, loss = 0.21721406\n",
      "Iteration 12, loss = 0.20102091\n",
      "Iteration 13, loss = 0.18847824\n",
      "Iteration 14, loss = 0.17741462\n",
      "Iteration 15, loss = 0.16506453\n",
      "Iteration 16, loss = 0.15376048\n",
      "Iteration 17, loss = 0.14325938\n",
      "Iteration 18, loss = 0.13391721\n",
      "Iteration 19, loss = 0.12438065\n",
      "Iteration 20, loss = 0.11599112\n",
      "Iteration 1, loss = 0.67546378\n",
      "Iteration 2, loss = 0.52202474\n",
      "Iteration 3, loss = 0.43897415\n",
      "Iteration 4, loss = 0.37785959\n",
      "Iteration 5, loss = 0.33420280\n",
      "Iteration 6, loss = 0.30439329\n"
     ]
    },
    {
     "name": "stderr",
     "output_type": "stream",
     "text": [
      "D:\\anaconda\\envs\\tensorflow\\lib\\site-packages\\sklearn\\neural_network\\_multilayer_perceptron.py:702: ConvergenceWarning: Stochastic Optimizer: Maximum iterations (20) reached and the optimization hasn't converged yet.\n",
      "  warnings.warn(\n"
     ]
    },
    {
     "name": "stdout",
     "output_type": "stream",
     "text": [
      "Iteration 7, loss = 0.27680821\n",
      "Iteration 8, loss = 0.25697073\n",
      "Iteration 9, loss = 0.23794850\n",
      "Iteration 10, loss = 0.22501865\n",
      "Iteration 11, loss = 0.20975378\n",
      "Iteration 12, loss = 0.19540415\n",
      "Iteration 13, loss = 0.18316506\n",
      "Iteration 14, loss = 0.17177149\n",
      "Iteration 15, loss = 0.15911304\n",
      "Iteration 16, loss = 0.14883278\n",
      "Iteration 17, loss = 0.13891894\n",
      "Iteration 18, loss = 0.12947454\n",
      "Iteration 19, loss = 0.11922352\n",
      "Iteration 20, loss = 0.11255970\n",
      "Iteration 1, loss = 0.67347196\n",
      "Iteration 2, loss = 0.52377066\n"
     ]
    },
    {
     "name": "stderr",
     "output_type": "stream",
     "text": [
      "D:\\anaconda\\envs\\tensorflow\\lib\\site-packages\\sklearn\\neural_network\\_multilayer_perceptron.py:702: ConvergenceWarning: Stochastic Optimizer: Maximum iterations (20) reached and the optimization hasn't converged yet.\n",
      "  warnings.warn(\n"
     ]
    },
    {
     "name": "stdout",
     "output_type": "stream",
     "text": [
      "Iteration 3, loss = 0.44154192\n",
      "Iteration 4, loss = 0.38306550\n",
      "Iteration 5, loss = 0.34146946\n",
      "Iteration 6, loss = 0.31228181\n",
      "Iteration 7, loss = 0.28581629\n",
      "Iteration 8, loss = 0.26603920\n",
      "Iteration 9, loss = 0.24665266\n",
      "Iteration 10, loss = 0.23211001\n",
      "Iteration 11, loss = 0.21783088\n",
      "Iteration 12, loss = 0.20249411\n",
      "Iteration 13, loss = 0.19076558\n",
      "Iteration 14, loss = 0.18057939\n",
      "Iteration 15, loss = 0.16747386\n",
      "Iteration 16, loss = 0.15699307\n",
      "Iteration 17, loss = 0.14595279\n",
      "Iteration 18, loss = 0.13540611\n",
      "Iteration 19, loss = 0.12511266\n",
      "Iteration 20, loss = 0.11646010\n",
      "Iteration 1, loss = 0.66983635\n",
      "Iteration 2, loss = 0.52074577\n",
      "Iteration 3, loss = 0.43879345\n",
      "Iteration 4, loss = 0.38130080\n",
      "Iteration 5, loss = 0.33779278\n"
     ]
    },
    {
     "name": "stderr",
     "output_type": "stream",
     "text": [
      "D:\\anaconda\\envs\\tensorflow\\lib\\site-packages\\sklearn\\neural_network\\_multilayer_perceptron.py:702: ConvergenceWarning: Stochastic Optimizer: Maximum iterations (20) reached and the optimization hasn't converged yet.\n",
      "  warnings.warn(\n"
     ]
    },
    {
     "name": "stdout",
     "output_type": "stream",
     "text": [
      "Iteration 6, loss = 0.30748580\n",
      "Iteration 7, loss = 0.28458743\n",
      "Iteration 8, loss = 0.26491609\n",
      "Iteration 9, loss = 0.24670430\n",
      "Iteration 10, loss = 0.23220152\n",
      "Iteration 11, loss = 0.21656430\n",
      "Iteration 12, loss = 0.20178063\n",
      "Iteration 13, loss = 0.19042811\n",
      "Iteration 14, loss = 0.17778594\n",
      "Iteration 15, loss = 0.16555747\n",
      "Iteration 16, loss = 0.15420632\n",
      "Iteration 17, loss = 0.14301659\n",
      "Iteration 18, loss = 0.13428787\n",
      "Iteration 19, loss = 0.12402231\n",
      "Iteration 20, loss = 0.11574116\n",
      "Iteration 1, loss = 0.67296814\n"
     ]
    },
    {
     "name": "stderr",
     "output_type": "stream",
     "text": [
      "D:\\anaconda\\envs\\tensorflow\\lib\\site-packages\\sklearn\\neural_network\\_multilayer_perceptron.py:702: ConvergenceWarning: Stochastic Optimizer: Maximum iterations (20) reached and the optimization hasn't converged yet.\n",
      "  warnings.warn(\n"
     ]
    },
    {
     "name": "stdout",
     "output_type": "stream",
     "text": [
      "Iteration 2, loss = 0.52753511\n",
      "Iteration 3, loss = 0.44693890\n",
      "Iteration 4, loss = 0.38883768\n",
      "Iteration 5, loss = 0.34503065\n",
      "Iteration 6, loss = 0.31423654\n",
      "Iteration 7, loss = 0.28988311\n",
      "Iteration 8, loss = 0.26888764\n",
      "Iteration 9, loss = 0.25130041\n",
      "Iteration 10, loss = 0.23739662\n",
      "Iteration 11, loss = 0.22068639\n",
      "Iteration 12, loss = 0.20490780\n",
      "Iteration 13, loss = 0.19264597\n",
      "Iteration 14, loss = 0.17903210\n",
      "Iteration 15, loss = 0.16692703\n",
      "Iteration 16, loss = 0.15551526\n",
      "Iteration 17, loss = 0.14427456\n",
      "Iteration 18, loss = 0.13579556\n",
      "Iteration 19, loss = 0.12446130\n",
      "Iteration 20, loss = 0.11605802\n",
      "Iteration 1, loss = 0.76412104\n",
      "Iteration 2, loss = 0.71940900\n",
      "Iteration 3, loss = 0.68470641\n",
      "Iteration 4, loss = 0.65775760\n",
      "Iteration 5, loss = 0.63856471\n"
     ]
    },
    {
     "name": "stderr",
     "output_type": "stream",
     "text": [
      "D:\\anaconda\\envs\\tensorflow\\lib\\site-packages\\sklearn\\neural_network\\_multilayer_perceptron.py:702: ConvergenceWarning: Stochastic Optimizer: Maximum iterations (20) reached and the optimization hasn't converged yet.\n",
      "  warnings.warn(\n"
     ]
    },
    {
     "name": "stdout",
     "output_type": "stream",
     "text": [
      "Iteration 6, loss = 0.62292284\n",
      "Iteration 7, loss = 0.60966308\n",
      "Iteration 8, loss = 0.59826283\n",
      "Iteration 9, loss = 0.58689198\n",
      "Iteration 10, loss = 0.57755031\n",
      "Iteration 11, loss = 0.56796376\n",
      "Iteration 12, loss = 0.55946536\n",
      "Iteration 13, loss = 0.55119092\n",
      "Iteration 14, loss = 0.54323897\n",
      "Iteration 15, loss = 0.53534004\n",
      "Iteration 16, loss = 0.52785565\n",
      "Iteration 17, loss = 0.52060568\n",
      "Iteration 18, loss = 0.51408145\n",
      "Iteration 19, loss = 0.50725778\n",
      "Iteration 20, loss = 0.50060987\n",
      "Iteration 1, loss = 0.76636240\n",
      "Iteration 2, loss = 0.72194965\n"
     ]
    },
    {
     "name": "stderr",
     "output_type": "stream",
     "text": [
      "D:\\anaconda\\envs\\tensorflow\\lib\\site-packages\\sklearn\\neural_network\\_multilayer_perceptron.py:702: ConvergenceWarning: Stochastic Optimizer: Maximum iterations (20) reached and the optimization hasn't converged yet.\n",
      "  warnings.warn(\n"
     ]
    },
    {
     "name": "stdout",
     "output_type": "stream",
     "text": [
      "Iteration 3, loss = 0.68779545\n",
      "Iteration 4, loss = 0.66130498\n",
      "Iteration 5, loss = 0.64209552\n",
      "Iteration 6, loss = 0.62670039\n",
      "Iteration 7, loss = 0.61328267\n",
      "Iteration 8, loss = 0.60203848\n",
      "Iteration 9, loss = 0.59103184\n",
      "Iteration 10, loss = 0.58170854\n",
      "Iteration 11, loss = 0.57225230\n",
      "Iteration 12, loss = 0.56385191\n",
      "Iteration 13, loss = 0.55575706\n",
      "Iteration 14, loss = 0.54813057\n",
      "Iteration 15, loss = 0.54039140\n",
      "Iteration 16, loss = 0.53298785\n",
      "Iteration 17, loss = 0.52577134\n",
      "Iteration 18, loss = 0.51914309\n",
      "Iteration 19, loss = 0.51230261\n",
      "Iteration 20, loss = 0.50565446\n",
      "Iteration 1, loss = 0.76290001\n",
      "Iteration 2, loss = 0.71950262\n",
      "Iteration 3, loss = 0.68612662\n",
      "Iteration 4, loss = 0.66024395\n",
      "Iteration 5, loss = 0.64158212\n",
      "Iteration 6, loss = 0.62633738\n"
     ]
    },
    {
     "name": "stderr",
     "output_type": "stream",
     "text": [
      "D:\\anaconda\\envs\\tensorflow\\lib\\site-packages\\sklearn\\neural_network\\_multilayer_perceptron.py:702: ConvergenceWarning: Stochastic Optimizer: Maximum iterations (20) reached and the optimization hasn't converged yet.\n",
      "  warnings.warn(\n"
     ]
    },
    {
     "name": "stdout",
     "output_type": "stream",
     "text": [
      "Iteration 7, loss = 0.61316191\n",
      "Iteration 8, loss = 0.60206263\n",
      "Iteration 9, loss = 0.59162783\n",
      "Iteration 10, loss = 0.58218587\n",
      "Iteration 11, loss = 0.57291285\n",
      "Iteration 12, loss = 0.56457055\n",
      "Iteration 13, loss = 0.55671656\n",
      "Iteration 14, loss = 0.54896482\n",
      "Iteration 15, loss = 0.54121301\n",
      "Iteration 16, loss = 0.53390489\n",
      "Iteration 17, loss = 0.52686426\n",
      "Iteration 18, loss = 0.52002124\n",
      "Iteration 19, loss = 0.51319598\n",
      "Iteration 20, loss = 0.50668607\n",
      "Iteration 1, loss = 0.76555093\n",
      "Iteration 2, loss = 0.72132633\n"
     ]
    },
    {
     "name": "stderr",
     "output_type": "stream",
     "text": [
      "D:\\anaconda\\envs\\tensorflow\\lib\\site-packages\\sklearn\\neural_network\\_multilayer_perceptron.py:702: ConvergenceWarning: Stochastic Optimizer: Maximum iterations (20) reached and the optimization hasn't converged yet.\n",
      "  warnings.warn(\n"
     ]
    },
    {
     "name": "stdout",
     "output_type": "stream",
     "text": [
      "Iteration 3, loss = 0.68706471\n",
      "Iteration 4, loss = 0.66051148\n",
      "Iteration 5, loss = 0.64142152\n",
      "Iteration 6, loss = 0.62576932\n",
      "Iteration 7, loss = 0.61229790\n",
      "Iteration 8, loss = 0.60096049\n",
      "Iteration 9, loss = 0.59031501\n",
      "Iteration 10, loss = 0.58060856\n",
      "Iteration 11, loss = 0.57114788\n",
      "Iteration 12, loss = 0.56251400\n",
      "Iteration 13, loss = 0.55446943\n",
      "Iteration 14, loss = 0.54651545\n",
      "Iteration 15, loss = 0.53851353\n",
      "Iteration 16, loss = 0.53114262\n",
      "Iteration 17, loss = 0.52403567\n",
      "Iteration 18, loss = 0.51717835\n",
      "Iteration 19, loss = 0.51026236\n",
      "Iteration 20, loss = 0.50342324\n",
      "Iteration 1, loss = 0.76278509\n",
      "Iteration 2, loss = 0.71690502\n",
      "Iteration 3, loss = 0.68277089\n",
      "Iteration 4, loss = 0.65612863\n",
      "Iteration 5, loss = 0.63719781\n",
      "Iteration 6, loss = 0.62155227\n"
     ]
    },
    {
     "name": "stderr",
     "output_type": "stream",
     "text": [
      "D:\\anaconda\\envs\\tensorflow\\lib\\site-packages\\sklearn\\neural_network\\_multilayer_perceptron.py:702: ConvergenceWarning: Stochastic Optimizer: Maximum iterations (20) reached and the optimization hasn't converged yet.\n",
      "  warnings.warn(\n"
     ]
    },
    {
     "name": "stdout",
     "output_type": "stream",
     "text": [
      "Iteration 7, loss = 0.60814248\n",
      "Iteration 8, loss = 0.59663035\n",
      "Iteration 9, loss = 0.58618931\n",
      "Iteration 10, loss = 0.57638376\n",
      "Iteration 11, loss = 0.56678507\n",
      "Iteration 12, loss = 0.55816308\n",
      "Iteration 13, loss = 0.55042675\n",
      "Iteration 14, loss = 0.54227510\n",
      "Iteration 15, loss = 0.53458447\n",
      "Iteration 16, loss = 0.52711461\n",
      "Iteration 17, loss = 0.52005383\n",
      "Iteration 18, loss = 0.51309993\n",
      "Iteration 19, loss = 0.50626861\n",
      "Iteration 20, loss = 0.49939664\n",
      "Iteration 1, loss = 0.76517588\n",
      "Iteration 2, loss = 0.71990191\n",
      "Iteration 3, loss = 0.68595464\n"
     ]
    },
    {
     "name": "stderr",
     "output_type": "stream",
     "text": [
      "D:\\anaconda\\envs\\tensorflow\\lib\\site-packages\\sklearn\\neural_network\\_multilayer_perceptron.py:702: ConvergenceWarning: Stochastic Optimizer: Maximum iterations (20) reached and the optimization hasn't converged yet.\n",
      "  warnings.warn(\n"
     ]
    },
    {
     "name": "stdout",
     "output_type": "stream",
     "text": [
      "Iteration 4, loss = 0.65924053\n",
      "Iteration 5, loss = 0.64005729\n",
      "Iteration 6, loss = 0.62443287\n",
      "Iteration 7, loss = 0.61118669\n",
      "Iteration 8, loss = 0.59963160\n",
      "Iteration 9, loss = 0.58932141\n",
      "Iteration 10, loss = 0.57976481\n",
      "Iteration 11, loss = 0.57033765\n",
      "Iteration 12, loss = 0.56177179\n",
      "Iteration 13, loss = 0.55412660\n",
      "Iteration 14, loss = 0.54582684\n",
      "Iteration 15, loss = 0.53824900\n",
      "Iteration 16, loss = 0.53088604\n",
      "Iteration 17, loss = 0.52370707\n",
      "Iteration 18, loss = 0.51697370\n",
      "Iteration 19, loss = 0.51000462\n",
      "Iteration 20, loss = 0.50320526\n",
      "Iteration 1, loss = 0.76731972\n",
      "Iteration 2, loss = 0.72000725\n",
      "Iteration 3, loss = 0.68438067\n",
      "Iteration 4, loss = 0.65710206\n",
      "Iteration 5, loss = 0.63769843\n",
      "Iteration 6, loss = 0.62202584\n",
      "Iteration 7, loss = 0.60858072\n",
      "Iteration 8, loss = 0.59695645\n"
     ]
    },
    {
     "name": "stderr",
     "output_type": "stream",
     "text": [
      "D:\\anaconda\\envs\\tensorflow\\lib\\site-packages\\sklearn\\neural_network\\_multilayer_perceptron.py:702: ConvergenceWarning: Stochastic Optimizer: Maximum iterations (20) reached and the optimization hasn't converged yet.\n",
      "  warnings.warn(\n"
     ]
    },
    {
     "name": "stdout",
     "output_type": "stream",
     "text": [
      "Iteration 9, loss = 0.58636071\n",
      "Iteration 10, loss = 0.57684608\n",
      "Iteration 11, loss = 0.56741419\n",
      "Iteration 12, loss = 0.55895783\n",
      "Iteration 13, loss = 0.55106904\n",
      "Iteration 14, loss = 0.54283005\n",
      "Iteration 15, loss = 0.53503897\n",
      "Iteration 16, loss = 0.52798424\n",
      "Iteration 17, loss = 0.52056158\n",
      "Iteration 18, loss = 0.51392795\n",
      "Iteration 19, loss = 0.50711407\n",
      "Iteration 20, loss = 0.50013659\n",
      "Iteration 1, loss = 0.76172606\n",
      "Iteration 2, loss = 0.71796285\n",
      "Iteration 3, loss = 0.68434508\n",
      "Iteration 4, loss = 0.65906558\n",
      "Iteration 5, loss = 0.64011152\n"
     ]
    },
    {
     "name": "stderr",
     "output_type": "stream",
     "text": [
      "D:\\anaconda\\envs\\tensorflow\\lib\\site-packages\\sklearn\\neural_network\\_multilayer_perceptron.py:702: ConvergenceWarning: Stochastic Optimizer: Maximum iterations (20) reached and the optimization hasn't converged yet.\n",
      "  warnings.warn(\n"
     ]
    },
    {
     "name": "stdout",
     "output_type": "stream",
     "text": [
      "Iteration 6, loss = 0.62465650\n",
      "Iteration 7, loss = 0.61135215\n",
      "Iteration 8, loss = 0.59971872\n",
      "Iteration 9, loss = 0.58907037\n",
      "Iteration 10, loss = 0.57947909\n",
      "Iteration 11, loss = 0.56995505\n",
      "Iteration 12, loss = 0.56131679\n",
      "Iteration 13, loss = 0.55326222\n",
      "Iteration 14, loss = 0.54523426\n",
      "Iteration 15, loss = 0.53707452\n",
      "Iteration 16, loss = 0.53013878\n",
      "Iteration 17, loss = 0.52236323\n",
      "Iteration 18, loss = 0.51540704\n",
      "Iteration 19, loss = 0.50851427\n",
      "Iteration 20, loss = 0.50170592\n",
      "Iteration 1, loss = 0.76099780\n"
     ]
    },
    {
     "name": "stderr",
     "output_type": "stream",
     "text": [
      "D:\\anaconda\\envs\\tensorflow\\lib\\site-packages\\sklearn\\neural_network\\_multilayer_perceptron.py:702: ConvergenceWarning: Stochastic Optimizer: Maximum iterations (20) reached and the optimization hasn't converged yet.\n",
      "  warnings.warn(\n"
     ]
    },
    {
     "name": "stdout",
     "output_type": "stream",
     "text": [
      "Iteration 2, loss = 0.71567738\n",
      "Iteration 3, loss = 0.68106571\n",
      "Iteration 4, loss = 0.65514823\n",
      "Iteration 5, loss = 0.63620560\n",
      "Iteration 6, loss = 0.62041464\n",
      "Iteration 7, loss = 0.60737750\n",
      "Iteration 8, loss = 0.59568140\n",
      "Iteration 9, loss = 0.58528927\n",
      "Iteration 10, loss = 0.57545568\n",
      "Iteration 11, loss = 0.56597777\n",
      "Iteration 12, loss = 0.55759048\n",
      "Iteration 13, loss = 0.54923386\n",
      "Iteration 14, loss = 0.54176107\n",
      "Iteration 15, loss = 0.53371667\n",
      "Iteration 16, loss = 0.52593522\n",
      "Iteration 17, loss = 0.51900503\n",
      "Iteration 18, loss = 0.51178598\n",
      "Iteration 19, loss = 0.50523280\n",
      "Iteration 20, loss = 0.49858413\n",
      "Iteration 1, loss = 0.76023738\n",
      "Iteration 2, loss = 0.71792000\n",
      "Iteration 3, loss = 0.68473362\n",
      "Iteration 4, loss = 0.65964194\n",
      "Iteration 5, loss = 0.64104790\n",
      "Iteration 6, loss = 0.62563252\n"
     ]
    },
    {
     "name": "stderr",
     "output_type": "stream",
     "text": [
      "D:\\anaconda\\envs\\tensorflow\\lib\\site-packages\\sklearn\\neural_network\\_multilayer_perceptron.py:702: ConvergenceWarning: Stochastic Optimizer: Maximum iterations (20) reached and the optimization hasn't converged yet.\n",
      "  warnings.warn(\n"
     ]
    },
    {
     "name": "stdout",
     "output_type": "stream",
     "text": [
      "Iteration 7, loss = 0.61259018\n",
      "Iteration 8, loss = 0.60118430\n",
      "Iteration 9, loss = 0.59084728\n",
      "Iteration 10, loss = 0.58124380\n",
      "Iteration 11, loss = 0.57210651\n",
      "Iteration 12, loss = 0.56397422\n",
      "Iteration 13, loss = 0.55599538\n",
      "Iteration 14, loss = 0.54851628\n",
      "Iteration 15, loss = 0.54104748\n",
      "Iteration 16, loss = 0.53340119\n",
      "Iteration 17, loss = 0.52666099\n",
      "Iteration 18, loss = 0.51946872\n",
      "Iteration 19, loss = 0.51306927\n",
      "Iteration 20, loss = 0.50660481\n"
     ]
    },
    {
     "name": "stderr",
     "output_type": "stream",
     "text": [
      "D:\\anaconda\\envs\\tensorflow\\lib\\site-packages\\sklearn\\neural_network\\_multilayer_perceptron.py:702: ConvergenceWarning: Stochastic Optimizer: Maximum iterations (20) reached and the optimization hasn't converged yet.\n",
      "  warnings.warn(\n",
      "D:\\anaconda\\envs\\tensorflow\\lib\\site-packages\\sklearn\\neural_network\\_multilayer_perceptron.py:559: ConvergenceWarning: lbfgs failed to converge (status=1):\n",
      "STOP: TOTAL NO. of ITERATIONS REACHED LIMIT.\n",
      "\n",
      "Increase the number of iterations (max_iter) or scale the data as shown in:\n",
      "    https://scikit-learn.org/stable/modules/preprocessing.html\n",
      "  self.n_iter_ = _check_optimize_result(\"lbfgs\", opt_res, self.max_iter)\n",
      "D:\\anaconda\\envs\\tensorflow\\lib\\site-packages\\sklearn\\neural_network\\_multilayer_perceptron.py:559: ConvergenceWarning: lbfgs failed to converge (status=1):\n",
      "STOP: TOTAL NO. of ITERATIONS REACHED LIMIT.\n",
      "\n",
      "Increase the number of iterations (max_iter) or scale the data as shown in:\n",
      "    https://scikit-learn.org/stable/modules/preprocessing.html\n",
      "  self.n_iter_ = _check_optimize_result(\"lbfgs\", opt_res, self.max_iter)\n",
      "D:\\anaconda\\envs\\tensorflow\\lib\\site-packages\\sklearn\\neural_network\\_multilayer_perceptron.py:559: ConvergenceWarning: lbfgs failed to converge (status=1):\n",
      "STOP: TOTAL NO. of ITERATIONS REACHED LIMIT.\n",
      "\n",
      "Increase the number of iterations (max_iter) or scale the data as shown in:\n",
      "    https://scikit-learn.org/stable/modules/preprocessing.html\n",
      "  self.n_iter_ = _check_optimize_result(\"lbfgs\", opt_res, self.max_iter)\n",
      "D:\\anaconda\\envs\\tensorflow\\lib\\site-packages\\sklearn\\neural_network\\_multilayer_perceptron.py:559: ConvergenceWarning: lbfgs failed to converge (status=1):\n",
      "STOP: TOTAL NO. of ITERATIONS REACHED LIMIT.\n",
      "\n",
      "Increase the number of iterations (max_iter) or scale the data as shown in:\n",
      "    https://scikit-learn.org/stable/modules/preprocessing.html\n",
      "  self.n_iter_ = _check_optimize_result(\"lbfgs\", opt_res, self.max_iter)\n",
      "D:\\anaconda\\envs\\tensorflow\\lib\\site-packages\\sklearn\\neural_network\\_multilayer_perceptron.py:559: ConvergenceWarning: lbfgs failed to converge (status=1):\n",
      "STOP: TOTAL NO. of ITERATIONS REACHED LIMIT.\n",
      "\n",
      "Increase the number of iterations (max_iter) or scale the data as shown in:\n",
      "    https://scikit-learn.org/stable/modules/preprocessing.html\n",
      "  self.n_iter_ = _check_optimize_result(\"lbfgs\", opt_res, self.max_iter)\n",
      "D:\\anaconda\\envs\\tensorflow\\lib\\site-packages\\sklearn\\neural_network\\_multilayer_perceptron.py:559: ConvergenceWarning: lbfgs failed to converge (status=1):\n",
      "STOP: TOTAL NO. of ITERATIONS REACHED LIMIT.\n",
      "\n",
      "Increase the number of iterations (max_iter) or scale the data as shown in:\n",
      "    https://scikit-learn.org/stable/modules/preprocessing.html\n",
      "  self.n_iter_ = _check_optimize_result(\"lbfgs\", opt_res, self.max_iter)\n",
      "D:\\anaconda\\envs\\tensorflow\\lib\\site-packages\\sklearn\\neural_network\\_multilayer_perceptron.py:559: ConvergenceWarning: lbfgs failed to converge (status=1):\n",
      "STOP: TOTAL NO. of ITERATIONS REACHED LIMIT.\n",
      "\n",
      "Increase the number of iterations (max_iter) or scale the data as shown in:\n",
      "    https://scikit-learn.org/stable/modules/preprocessing.html\n",
      "  self.n_iter_ = _check_optimize_result(\"lbfgs\", opt_res, self.max_iter)\n",
      "D:\\anaconda\\envs\\tensorflow\\lib\\site-packages\\sklearn\\neural_network\\_multilayer_perceptron.py:559: ConvergenceWarning: lbfgs failed to converge (status=1):\n",
      "STOP: TOTAL NO. of ITERATIONS REACHED LIMIT.\n",
      "\n",
      "Increase the number of iterations (max_iter) or scale the data as shown in:\n",
      "    https://scikit-learn.org/stable/modules/preprocessing.html\n",
      "  self.n_iter_ = _check_optimize_result(\"lbfgs\", opt_res, self.max_iter)\n",
      "D:\\anaconda\\envs\\tensorflow\\lib\\site-packages\\sklearn\\neural_network\\_multilayer_perceptron.py:559: ConvergenceWarning: lbfgs failed to converge (status=1):\n",
      "STOP: TOTAL NO. of ITERATIONS REACHED LIMIT.\n",
      "\n",
      "Increase the number of iterations (max_iter) or scale the data as shown in:\n",
      "    https://scikit-learn.org/stable/modules/preprocessing.html\n",
      "  self.n_iter_ = _check_optimize_result(\"lbfgs\", opt_res, self.max_iter)\n",
      "D:\\anaconda\\envs\\tensorflow\\lib\\site-packages\\sklearn\\neural_network\\_multilayer_perceptron.py:559: ConvergenceWarning: lbfgs failed to converge (status=1):\n",
      "STOP: TOTAL NO. of ITERATIONS REACHED LIMIT.\n",
      "\n",
      "Increase the number of iterations (max_iter) or scale the data as shown in:\n",
      "    https://scikit-learn.org/stable/modules/preprocessing.html\n",
      "  self.n_iter_ = _check_optimize_result(\"lbfgs\", opt_res, self.max_iter)\n"
     ]
    },
    {
     "name": "stdout",
     "output_type": "stream",
     "text": [
      "Iteration 1, loss = 0.93714895\n",
      "Iteration 2, loss = 0.91610761\n",
      "Iteration 3, loss = 0.89997906\n",
      "Iteration 4, loss = 0.88784073\n",
      "Iteration 5, loss = 0.87833312\n",
      "Iteration 6, loss = 0.87081541\n",
      "Iteration 7, loss = 0.86440134\n",
      "Iteration 8, loss = 0.85872303\n",
      "Iteration 9, loss = 0.85366317\n",
      "Iteration 10, loss = 0.84890280\n",
      "Iteration 11, loss = 0.84438676\n",
      "Iteration 12, loss = 0.84012032\n",
      "Iteration 13, loss = 0.83588366\n",
      "Iteration 14, loss = 0.83172736\n",
      "Iteration 15, loss = 0.82767862\n",
      "Iteration 16, loss = 0.82362428\n",
      "Iteration 17, loss = 0.81957839\n",
      "Iteration 18, loss = 0.81547282\n",
      "Iteration 19, loss = 0.81125911\n",
      "Iteration 20, loss = 0.80683271\n",
      "Iteration 1, loss = 0.93236523\n",
      "Iteration 2, loss = 0.91144064\n",
      "Iteration 3, loss = 0.89533877\n",
      "Iteration 4, loss = 0.88325489\n",
      "Iteration 5, loss = 0.87382094\n",
      "Iteration 6, loss = 0.86631831\n",
      "Iteration 7, loss = 0.85990643\n",
      "Iteration 8, loss = 0.85426915\n",
      "Iteration 9, loss = 0.84926176\n",
      "Iteration 10, loss = 0.84460794\n",
      "Iteration 11, loss = 0.84015970\n",
      "Iteration 12, loss = 0.83593309\n",
      "Iteration 13, loss = 0.83180532\n",
      "Iteration 14, loss = 0.82774101\n",
      "Iteration 15, loss = 0.82379363\n",
      "Iteration 16, loss = 0.81987202\n",
      "Iteration 17, loss = 0.81596698\n",
      "Iteration 18, loss = 0.81204382\n",
      "Iteration 19, loss = 0.80806322\n",
      "Iteration 20, loss = 0.80394734\n"
     ]
    },
    {
     "name": "stderr",
     "output_type": "stream",
     "text": [
      "D:\\anaconda\\envs\\tensorflow\\lib\\site-packages\\sklearn\\neural_network\\_multilayer_perceptron.py:702: ConvergenceWarning: Stochastic Optimizer: Maximum iterations (20) reached and the optimization hasn't converged yet.\n",
      "  warnings.warn(\n",
      "D:\\anaconda\\envs\\tensorflow\\lib\\site-packages\\sklearn\\neural_network\\_multilayer_perceptron.py:702: ConvergenceWarning: Stochastic Optimizer: Maximum iterations (20) reached and the optimization hasn't converged yet.\n",
      "  warnings.warn(\n"
     ]
    },
    {
     "name": "stdout",
     "output_type": "stream",
     "text": [
      "Iteration 1, loss = 0.92752273\n",
      "Iteration 2, loss = 0.90702507\n",
      "Iteration 3, loss = 0.89136086\n",
      "Iteration 4, loss = 0.87961054\n",
      "Iteration 5, loss = 0.87035789\n",
      "Iteration 6, loss = 0.86305106\n",
      "Iteration 7, loss = 0.85676722\n",
      "Iteration 8, loss = 0.85122845\n",
      "Iteration 9, loss = 0.84628541\n",
      "Iteration 10, loss = 0.84169411\n",
      "Iteration 11, loss = 0.83732204\n",
      "Iteration 12, loss = 0.83313055\n",
      "Iteration 13, loss = 0.82904894\n",
      "Iteration 14, loss = 0.82503035\n",
      "Iteration 15, loss = 0.82108384\n",
      "Iteration 16, loss = 0.81717716\n",
      "Iteration 17, loss = 0.81325741\n",
      "Iteration 18, loss = 0.80927703\n",
      "Iteration 19, loss = 0.80521076\n",
      "Iteration 20, loss = 0.80096841\n"
     ]
    },
    {
     "name": "stderr",
     "output_type": "stream",
     "text": [
      "D:\\anaconda\\envs\\tensorflow\\lib\\site-packages\\sklearn\\neural_network\\_multilayer_perceptron.py:702: ConvergenceWarning: Stochastic Optimizer: Maximum iterations (20) reached and the optimization hasn't converged yet.\n",
      "  warnings.warn(\n"
     ]
    },
    {
     "name": "stdout",
     "output_type": "stream",
     "text": [
      "Iteration 1, loss = 0.93613153\n",
      "Iteration 2, loss = 0.91497756\n",
      "Iteration 3, loss = 0.89884250\n",
      "Iteration 4, loss = 0.88673654\n",
      "Iteration 5, loss = 0.87721009\n",
      "Iteration 6, loss = 0.86966324\n",
      "Iteration 7, loss = 0.86322482\n",
      "Iteration 8, loss = 0.85754526\n",
      "Iteration 9, loss = 0.85247693\n",
      "Iteration 10, loss = 0.84776293\n",
      "Iteration 11, loss = 0.84332334\n",
      "Iteration 12, loss = 0.83903920\n",
      "Iteration 13, loss = 0.83486094\n",
      "Iteration 14, loss = 0.83080365\n",
      "Iteration 15, loss = 0.82677721\n",
      "Iteration 16, loss = 0.82287346\n",
      "Iteration 17, loss = 0.81895147\n",
      "Iteration 18, loss = 0.81505779\n",
      "Iteration 19, loss = 0.81110953\n",
      "Iteration 20, loss = 0.80712377\n"
     ]
    },
    {
     "name": "stderr",
     "output_type": "stream",
     "text": [
      "D:\\anaconda\\envs\\tensorflow\\lib\\site-packages\\sklearn\\neural_network\\_multilayer_perceptron.py:702: ConvergenceWarning: Stochastic Optimizer: Maximum iterations (20) reached and the optimization hasn't converged yet.\n",
      "  warnings.warn(\n"
     ]
    },
    {
     "name": "stdout",
     "output_type": "stream",
     "text": [
      "Iteration 1, loss = 0.92736910\n",
      "Iteration 2, loss = 0.90665701\n",
      "Iteration 3, loss = 0.89091434\n",
      "Iteration 4, loss = 0.87911645\n",
      "Iteration 5, loss = 0.86976359\n",
      "Iteration 6, loss = 0.86243164\n",
      "Iteration 7, loss = 0.85611720\n",
      "Iteration 8, loss = 0.85063409\n",
      "Iteration 9, loss = 0.84568593\n",
      "Iteration 10, loss = 0.84114221\n",
      "Iteration 11, loss = 0.83677698\n",
      "Iteration 12, loss = 0.83259783\n",
      "Iteration 13, loss = 0.82847553\n",
      "Iteration 14, loss = 0.82444372\n",
      "Iteration 15, loss = 0.82039188\n",
      "Iteration 16, loss = 0.81636770\n",
      "Iteration 17, loss = 0.81222992\n",
      "Iteration 18, loss = 0.80799628\n",
      "Iteration 19, loss = 0.80349183\n",
      "Iteration 20, loss = 0.79879093\n"
     ]
    },
    {
     "name": "stderr",
     "output_type": "stream",
     "text": [
      "D:\\anaconda\\envs\\tensorflow\\lib\\site-packages\\sklearn\\neural_network\\_multilayer_perceptron.py:702: ConvergenceWarning: Stochastic Optimizer: Maximum iterations (20) reached and the optimization hasn't converged yet.\n",
      "  warnings.warn(\n"
     ]
    },
    {
     "name": "stdout",
     "output_type": "stream",
     "text": [
      "Iteration 1, loss = 0.93272877\n",
      "Iteration 2, loss = 0.91191893\n",
      "Iteration 3, loss = 0.89596090\n",
      "Iteration 4, loss = 0.88405779\n",
      "Iteration 5, loss = 0.87465407\n",
      "Iteration 6, loss = 0.86722138\n",
      "Iteration 7, loss = 0.86080563\n",
      "Iteration 8, loss = 0.85530586\n",
      "Iteration 9, loss = 0.85022205\n",
      "Iteration 10, loss = 0.84561819\n",
      "Iteration 11, loss = 0.84119634\n",
      "Iteration 12, loss = 0.83693179\n",
      "Iteration 13, loss = 0.83277867\n",
      "Iteration 14, loss = 0.82873896\n",
      "Iteration 15, loss = 0.82465190\n",
      "Iteration 16, loss = 0.82070696\n",
      "Iteration 17, loss = 0.81664467\n",
      "Iteration 18, loss = 0.81261538\n",
      "Iteration 19, loss = 0.80840289\n",
      "Iteration 20, loss = 0.80401886\n"
     ]
    },
    {
     "name": "stderr",
     "output_type": "stream",
     "text": [
      "D:\\anaconda\\envs\\tensorflow\\lib\\site-packages\\sklearn\\neural_network\\_multilayer_perceptron.py:702: ConvergenceWarning: Stochastic Optimizer: Maximum iterations (20) reached and the optimization hasn't converged yet.\n",
      "  warnings.warn(\n",
      "D:\\anaconda\\envs\\tensorflow\\lib\\site-packages\\sklearn\\neural_network\\_multilayer_perceptron.py:702: ConvergenceWarning: Stochastic Optimizer: Maximum iterations (20) reached and the optimization hasn't converged yet.\n",
      "  warnings.warn(\n"
     ]
    },
    {
     "name": "stdout",
     "output_type": "stream",
     "text": [
      "Iteration 1, loss = 0.93671868\n",
      "Iteration 2, loss = 0.91578118\n",
      "Iteration 3, loss = 0.89965067\n",
      "Iteration 4, loss = 0.88759565\n",
      "Iteration 5, loss = 0.87800641\n",
      "Iteration 6, loss = 0.87046411\n",
      "Iteration 7, loss = 0.86391624\n",
      "Iteration 8, loss = 0.85837490\n",
      "Iteration 9, loss = 0.85320838\n",
      "Iteration 10, loss = 0.84855030\n",
      "Iteration 11, loss = 0.84408068\n",
      "Iteration 12, loss = 0.83975149\n",
      "Iteration 13, loss = 0.83557317\n",
      "Iteration 14, loss = 0.83148453\n",
      "Iteration 15, loss = 0.82736777\n",
      "Iteration 16, loss = 0.82338269\n",
      "Iteration 17, loss = 0.81930875\n",
      "Iteration 18, loss = 0.81530668\n",
      "Iteration 19, loss = 0.81110927\n",
      "Iteration 20, loss = 0.80680228\n",
      "Iteration 1, loss = 0.94130466\n",
      "Iteration 2, loss = 0.92001469\n",
      "Iteration 3, loss = 0.90361231\n",
      "Iteration 4, loss = 0.89137509\n",
      "Iteration 5, loss = 0.88172885\n",
      "Iteration 6, loss = 0.87410013\n",
      "Iteration 7, loss = 0.86750347\n",
      "Iteration 8, loss = 0.86188587\n",
      "Iteration 9, loss = 0.85667449\n",
      "Iteration 10, loss = 0.85193035\n",
      "Iteration 11, loss = 0.84737893\n",
      "Iteration 12, loss = 0.84300401\n",
      "Iteration 13, loss = 0.83877599\n",
      "Iteration 14, loss = 0.83463425\n",
      "Iteration 15, loss = 0.83047544\n",
      "Iteration 16, loss = 0.82645812\n",
      "Iteration 17, loss = 0.82236686\n",
      "Iteration 18, loss = 0.81833322\n",
      "Iteration 19, loss = 0.81417510\n",
      "Iteration 20, loss = 0.80988700\n"
     ]
    },
    {
     "name": "stderr",
     "output_type": "stream",
     "text": [
      "D:\\anaconda\\envs\\tensorflow\\lib\\site-packages\\sklearn\\neural_network\\_multilayer_perceptron.py:702: ConvergenceWarning: Stochastic Optimizer: Maximum iterations (20) reached and the optimization hasn't converged yet.\n",
      "  warnings.warn(\n"
     ]
    },
    {
     "name": "stdout",
     "output_type": "stream",
     "text": [
      "Iteration 1, loss = 0.93233209\n",
      "Iteration 2, loss = 0.91158141\n",
      "Iteration 3, loss = 0.89571090\n",
      "Iteration 4, loss = 0.88348025\n",
      "Iteration 5, loss = 0.87425863\n",
      "Iteration 6, loss = 0.86667325\n",
      "Iteration 7, loss = 0.86026804\n",
      "Iteration 8, loss = 0.85476324\n",
      "Iteration 9, loss = 0.84974215\n",
      "Iteration 10, loss = 0.84512748\n",
      "Iteration 11, loss = 0.84062268\n",
      "Iteration 12, loss = 0.83644803\n",
      "Iteration 13, loss = 0.83232830\n",
      "Iteration 14, loss = 0.82832652\n",
      "Iteration 15, loss = 0.82429749\n",
      "Iteration 16, loss = 0.82034902\n",
      "Iteration 17, loss = 0.81642056\n",
      "Iteration 18, loss = 0.81240662\n",
      "Iteration 19, loss = 0.80833269\n",
      "Iteration 20, loss = 0.80409678\n",
      "Iteration 1, loss = 0.93309416\n",
      "Iteration 2, loss = 0.91241338\n",
      "Iteration 3, loss = 0.89659975\n",
      "Iteration 4, loss = 0.88446950\n",
      "Iteration 5, loss = 0.87527011\n",
      "Iteration 6, loss = 0.86766085\n",
      "Iteration 7, loss = 0.86130398\n",
      "Iteration 8, loss = 0.85577743\n",
      "Iteration 9, loss = 0.85072422\n",
      "Iteration 10, loss = 0.84608698\n",
      "Iteration 11, loss = 0.84157471\n",
      "Iteration 12, loss = 0.83738113\n",
      "Iteration 13, loss = 0.83325078\n",
      "Iteration 14, loss = 0.82922782\n",
      "Iteration 15, loss = 0.82518645\n",
      "Iteration 16, loss = 0.82124584\n",
      "Iteration 17, loss = 0.81730643\n",
      "Iteration 18, loss = 0.81326253\n"
     ]
    },
    {
     "name": "stderr",
     "output_type": "stream",
     "text": [
      "D:\\anaconda\\envs\\tensorflow\\lib\\site-packages\\sklearn\\neural_network\\_multilayer_perceptron.py:702: ConvergenceWarning: Stochastic Optimizer: Maximum iterations (20) reached and the optimization hasn't converged yet.\n",
      "  warnings.warn(\n"
     ]
    },
    {
     "name": "stdout",
     "output_type": "stream",
     "text": [
      "Iteration 19, loss = 0.80920366\n",
      "Iteration 20, loss = 0.80496782\n",
      "Iteration 1, loss = 0.93254861\n",
      "Iteration 2, loss = 0.88318347\n",
      "Iteration 3, loss = 0.83982661\n",
      "Iteration 4, loss = 0.80908694\n",
      "Iteration 5, loss = 0.78808915\n",
      "Iteration 6, loss = 0.77436649\n",
      "Iteration 7, loss = 0.76476355\n",
      "Iteration 8, loss = 0.75735068\n",
      "Iteration 9, loss = 0.75139122\n",
      "Iteration 10, loss = 0.74587509\n",
      "Iteration 11, loss = 0.74081886\n",
      "Iteration 12, loss = 0.73612044\n",
      "Iteration 13, loss = 0.73132431\n",
      "Iteration 14, loss = 0.72653322\n",
      "Iteration 15, loss = 0.72197404\n",
      "Iteration 16, loss = 0.71757119\n",
      "Iteration 17, loss = 0.71314158\n",
      "Iteration 18, loss = 0.70868624\n",
      "Iteration 19, loss = 0.70441560\n",
      "Iteration 20, loss = 0.70020990\n",
      "Iteration 1, loss = 0.92781756\n"
     ]
    },
    {
     "name": "stderr",
     "output_type": "stream",
     "text": [
      "D:\\anaconda\\envs\\tensorflow\\lib\\site-packages\\sklearn\\neural_network\\_multilayer_perceptron.py:702: ConvergenceWarning: Stochastic Optimizer: Maximum iterations (20) reached and the optimization hasn't converged yet.\n",
      "  warnings.warn(\n",
      "D:\\anaconda\\envs\\tensorflow\\lib\\site-packages\\sklearn\\neural_network\\_multilayer_perceptron.py:702: ConvergenceWarning: Stochastic Optimizer: Maximum iterations (20) reached and the optimization hasn't converged yet.\n",
      "  warnings.warn(\n"
     ]
    },
    {
     "name": "stdout",
     "output_type": "stream",
     "text": [
      "Iteration 2, loss = 0.87848140\n",
      "Iteration 3, loss = 0.83538326\n",
      "Iteration 4, loss = 0.80510595\n",
      "Iteration 5, loss = 0.78474322\n",
      "Iteration 6, loss = 0.77160043\n",
      "Iteration 7, loss = 0.76240820\n",
      "Iteration 8, loss = 0.75542960\n",
      "Iteration 9, loss = 0.74985653\n",
      "Iteration 10, loss = 0.74479203\n",
      "Iteration 11, loss = 0.74006344\n",
      "Iteration 12, loss = 0.73558683\n",
      "Iteration 13, loss = 0.73122188\n",
      "Iteration 14, loss = 0.72687024\n",
      "Iteration 15, loss = 0.72260684\n",
      "Iteration 16, loss = 0.71869002\n",
      "Iteration 17, loss = 0.71463302\n",
      "Iteration 18, loss = 0.71062310\n",
      "Iteration 19, loss = 0.70667702\n",
      "Iteration 20, loss = 0.70267084\n",
      "Iteration 1, loss = 0.92351768\n",
      "Iteration 2, loss = 0.87650662\n"
     ]
    },
    {
     "name": "stderr",
     "output_type": "stream",
     "text": [
      "D:\\anaconda\\envs\\tensorflow\\lib\\site-packages\\sklearn\\neural_network\\_multilayer_perceptron.py:702: ConvergenceWarning: Stochastic Optimizer: Maximum iterations (20) reached and the optimization hasn't converged yet.\n",
      "  warnings.warn(\n",
      "D:\\anaconda\\envs\\tensorflow\\lib\\site-packages\\sklearn\\neural_network\\_multilayer_perceptron.py:702: ConvergenceWarning: Stochastic Optimizer: Maximum iterations (20) reached and the optimization hasn't converged yet.\n",
      "  warnings.warn(\n"
     ]
    },
    {
     "name": "stdout",
     "output_type": "stream",
     "text": [
      "Iteration 3, loss = 0.83515278\n",
      "Iteration 4, loss = 0.80587132\n",
      "Iteration 5, loss = 0.78562881\n",
      "Iteration 6, loss = 0.77257580\n",
      "Iteration 7, loss = 0.76322522\n",
      "Iteration 8, loss = 0.75611496\n",
      "Iteration 9, loss = 0.75040308\n",
      "Iteration 10, loss = 0.74527380\n",
      "Iteration 11, loss = 0.74050894\n",
      "Iteration 12, loss = 0.73598174\n",
      "Iteration 13, loss = 0.73161969\n",
      "Iteration 14, loss = 0.72728706\n",
      "Iteration 15, loss = 0.72318245\n",
      "Iteration 16, loss = 0.71938506\n",
      "Iteration 17, loss = 0.71549346\n",
      "Iteration 18, loss = 0.71158730\n",
      "Iteration 19, loss = 0.70782162\n",
      "Iteration 20, loss = 0.70401013\n",
      "Iteration 1, loss = 0.93144457\n",
      "Iteration 2, loss = 0.88164151\n",
      "Iteration 3, loss = 0.83829053\n",
      "Iteration 4, loss = 0.80775638\n",
      "Iteration 5, loss = 0.78677658\n",
      "Iteration 6, loss = 0.77328390\n",
      "Iteration 7, loss = 0.76386552\n",
      "Iteration 8, loss = 0.75661911\n",
      "Iteration 9, loss = 0.75077991\n",
      "Iteration 10, loss = 0.74546991\n",
      "Iteration 11, loss = 0.74058470\n",
      "Iteration 12, loss = 0.73588249\n",
      "Iteration 13, loss = 0.73124752\n",
      "Iteration 14, loss = 0.72668244\n",
      "Iteration 15, loss = 0.72219488\n",
      "Iteration 16, loss = 0.71803944\n",
      "Iteration 17, loss = 0.71379181\n",
      "Iteration 18, loss = 0.70955974\n",
      "Iteration 19, loss = 0.70539824\n",
      "Iteration 20, loss = 0.70144439\n",
      "Iteration 1, loss = 0.92303504\n",
      "Iteration 2, loss = 0.87547855\n",
      "Iteration 3, loss = 0.83403183\n"
     ]
    },
    {
     "name": "stderr",
     "output_type": "stream",
     "text": [
      "D:\\anaconda\\envs\\tensorflow\\lib\\site-packages\\sklearn\\neural_network\\_multilayer_perceptron.py:702: ConvergenceWarning: Stochastic Optimizer: Maximum iterations (20) reached and the optimization hasn't converged yet.\n",
      "  warnings.warn(\n",
      "D:\\anaconda\\envs\\tensorflow\\lib\\site-packages\\sklearn\\neural_network\\_multilayer_perceptron.py:702: ConvergenceWarning: Stochastic Optimizer: Maximum iterations (20) reached and the optimization hasn't converged yet.\n",
      "  warnings.warn(\n"
     ]
    },
    {
     "name": "stdout",
     "output_type": "stream",
     "text": [
      "Iteration 4, loss = 0.80470106\n",
      "Iteration 5, loss = 0.78418074\n",
      "Iteration 6, loss = 0.77109587\n",
      "Iteration 7, loss = 0.76176528\n",
      "Iteration 8, loss = 0.75483800\n",
      "Iteration 9, loss = 0.74913665\n",
      "Iteration 10, loss = 0.74416140\n",
      "Iteration 11, loss = 0.73936630\n",
      "Iteration 12, loss = 0.73490399\n",
      "Iteration 13, loss = 0.73038441\n",
      "Iteration 14, loss = 0.72589927\n",
      "Iteration 15, loss = 0.72152407\n",
      "Iteration 16, loss = 0.71734430\n",
      "Iteration 17, loss = 0.71302168\n",
      "Iteration 18, loss = 0.70876245\n",
      "Iteration 19, loss = 0.70466235\n",
      "Iteration 20, loss = 0.70076284\n",
      "Iteration 1, loss = 0.92819919\n",
      "Iteration 2, loss = 0.88002997\n",
      "Iteration 3, loss = 0.83766272\n",
      "Iteration 4, loss = 0.80771225\n",
      "Iteration 5, loss = 0.78686209\n",
      "Iteration 6, loss = 0.77344731\n",
      "Iteration 7, loss = 0.76382261\n",
      "Iteration 8, loss = 0.75694443\n",
      "Iteration 9, loss = 0.75091887\n",
      "Iteration 10, loss = 0.74579139\n",
      "Iteration 11, loss = 0.74082433\n",
      "Iteration 12, loss = 0.73614798\n",
      "Iteration 13, loss = 0.73160382\n",
      "Iteration 14, loss = 0.72700145\n",
      "Iteration 15, loss = 0.72232033\n",
      "Iteration 16, loss = 0.71808322\n",
      "Iteration 17, loss = 0.71359705\n",
      "Iteration 18, loss = 0.70922114\n",
      "Iteration 19, loss = 0.70497750\n",
      "Iteration 20, loss = 0.70092241\n",
      "Iteration 1, loss = 0.93188517\n",
      "Iteration 2, loss = 0.88285890\n",
      "Iteration 3, loss = 0.83972840\n",
      "Iteration 4, loss = 0.80923830\n",
      "Iteration 5, loss = 0.78790212\n",
      "Iteration 6, loss = 0.77430913\n"
     ]
    },
    {
     "name": "stderr",
     "output_type": "stream",
     "text": [
      "D:\\anaconda\\envs\\tensorflow\\lib\\site-packages\\sklearn\\neural_network\\_multilayer_perceptron.py:702: ConvergenceWarning: Stochastic Optimizer: Maximum iterations (20) reached and the optimization hasn't converged yet.\n",
      "  warnings.warn(\n",
      "D:\\anaconda\\envs\\tensorflow\\lib\\site-packages\\sklearn\\neural_network\\_multilayer_perceptron.py:702: ConvergenceWarning: Stochastic Optimizer: Maximum iterations (20) reached and the optimization hasn't converged yet.\n",
      "  warnings.warn(\n"
     ]
    },
    {
     "name": "stdout",
     "output_type": "stream",
     "text": [
      "Iteration 7, loss = 0.76437702\n",
      "Iteration 8, loss = 0.75747450\n",
      "Iteration 9, loss = 0.75116490\n",
      "Iteration 10, loss = 0.74585357\n",
      "Iteration 11, loss = 0.74069107\n",
      "Iteration 12, loss = 0.73574530\n",
      "Iteration 13, loss = 0.73083726\n",
      "Iteration 14, loss = 0.72597752\n",
      "Iteration 15, loss = 0.72124001\n",
      "Iteration 16, loss = 0.71666084\n",
      "Iteration 17, loss = 0.71191276\n",
      "Iteration 18, loss = 0.70722796\n",
      "Iteration 19, loss = 0.70280732\n",
      "Iteration 20, loss = 0.69850271\n",
      "Iteration 1, loss = 0.93640745\n",
      "Iteration 2, loss = 0.88595353\n",
      "Iteration 3, loss = 0.84134672\n",
      "Iteration 4, loss = 0.81001245\n",
      "Iteration 5, loss = 0.78837971\n",
      "Iteration 6, loss = 0.77466041\n",
      "Iteration 7, loss = 0.76467095\n",
      "Iteration 8, loss = 0.75778721\n",
      "Iteration 9, loss = 0.75152424\n",
      "Iteration 10, loss = 0.74621270\n",
      "Iteration 11, loss = 0.74106263\n",
      "Iteration 12, loss = 0.73624647\n",
      "Iteration 13, loss = 0.73155438\n",
      "Iteration 14, loss = 0.72689208\n",
      "Iteration 15, loss = 0.72234488\n",
      "Iteration 16, loss = 0.71809898\n",
      "Iteration 17, loss = 0.71372716\n",
      "Iteration 18, loss = 0.70946391\n",
      "Iteration 19, loss = 0.70524902\n",
      "Iteration 20, loss = 0.70132496\n",
      "Iteration 1, loss = 0.92771757\n",
      "Iteration 2, loss = 0.87979940\n",
      "Iteration 3, loss = 0.83760636\n",
      "Iteration 4, loss = 0.80691950\n",
      "Iteration 5, loss = 0.78695319\n",
      "Iteration 6, loss = 0.77334297\n",
      "Iteration 7, loss = 0.76373312\n",
      "Iteration 8, loss = 0.75688106\n",
      "Iteration 9, loss = 0.75108796\n",
      "Iteration 10, loss = 0.74586457\n",
      "Iteration 11, loss = 0.74081871\n"
     ]
    },
    {
     "name": "stderr",
     "output_type": "stream",
     "text": [
      "D:\\anaconda\\envs\\tensorflow\\lib\\site-packages\\sklearn\\neural_network\\_multilayer_perceptron.py:702: ConvergenceWarning: Stochastic Optimizer: Maximum iterations (20) reached and the optimization hasn't converged yet.\n",
      "  warnings.warn(\n"
     ]
    },
    {
     "name": "stdout",
     "output_type": "stream",
     "text": [
      "Iteration 12, loss = 0.73621492\n",
      "Iteration 13, loss = 0.73153360\n",
      "Iteration 14, loss = 0.72698972\n",
      "Iteration 15, loss = 0.72237123\n",
      "Iteration 16, loss = 0.71795794\n",
      "Iteration 17, loss = 0.71361908\n",
      "Iteration 18, loss = 0.70922869\n",
      "Iteration 19, loss = 0.70497094\n",
      "Iteration 20, loss = 0.70101317\n",
      "Iteration 1, loss = 0.92840088\n",
      "Iteration 2, loss = 0.88088121\n",
      "Iteration 3, loss = 0.83909896\n",
      "Iteration 4, loss = 0.80879783\n",
      "Iteration 5, loss = 0.78872809\n",
      "Iteration 6, loss = 0.77489193\n",
      "Iteration 7, loss = 0.76544188\n",
      "Iteration 8, loss = 0.75863904\n",
      "Iteration 9, loss = 0.75291915\n",
      "Iteration 10, loss = 0.74782991\n",
      "Iteration 11, loss = 0.74287193\n",
      "Iteration 12, loss = 0.73839492\n",
      "Iteration 13, loss = 0.73386632\n"
     ]
    },
    {
     "name": "stderr",
     "output_type": "stream",
     "text": [
      "D:\\anaconda\\envs\\tensorflow\\lib\\site-packages\\sklearn\\neural_network\\_multilayer_perceptron.py:702: ConvergenceWarning: Stochastic Optimizer: Maximum iterations (20) reached and the optimization hasn't converged yet.\n",
      "  warnings.warn(\n"
     ]
    },
    {
     "name": "stdout",
     "output_type": "stream",
     "text": [
      "Iteration 14, loss = 0.72950226\n",
      "Iteration 15, loss = 0.72517351\n",
      "Iteration 16, loss = 0.72108847\n",
      "Iteration 17, loss = 0.71702352\n",
      "Iteration 18, loss = 0.71294456\n",
      "Iteration 19, loss = 0.70896089\n",
      "Iteration 20, loss = 0.70521117\n"
     ]
    },
    {
     "name": "stderr",
     "output_type": "stream",
     "text": [
      "D:\\anaconda\\envs\\tensorflow\\lib\\site-packages\\sklearn\\neural_network\\_multilayer_perceptron.py:702: ConvergenceWarning: Stochastic Optimizer: Maximum iterations (20) reached and the optimization hasn't converged yet.\n",
      "  warnings.warn(\n",
      "D:\\anaconda\\envs\\tensorflow\\lib\\site-packages\\sklearn\\neural_network\\_multilayer_perceptron.py:559: ConvergenceWarning: lbfgs failed to converge (status=1):\n",
      "STOP: TOTAL NO. of ITERATIONS REACHED LIMIT.\n",
      "\n",
      "Increase the number of iterations (max_iter) or scale the data as shown in:\n",
      "    https://scikit-learn.org/stable/modules/preprocessing.html\n",
      "  self.n_iter_ = _check_optimize_result(\"lbfgs\", opt_res, self.max_iter)\n",
      "D:\\anaconda\\envs\\tensorflow\\lib\\site-packages\\sklearn\\neural_network\\_multilayer_perceptron.py:559: ConvergenceWarning: lbfgs failed to converge (status=1):\n",
      "STOP: TOTAL NO. of ITERATIONS REACHED LIMIT.\n",
      "\n",
      "Increase the number of iterations (max_iter) or scale the data as shown in:\n",
      "    https://scikit-learn.org/stable/modules/preprocessing.html\n",
      "  self.n_iter_ = _check_optimize_result(\"lbfgs\", opt_res, self.max_iter)\n",
      "D:\\anaconda\\envs\\tensorflow\\lib\\site-packages\\sklearn\\neural_network\\_multilayer_perceptron.py:559: ConvergenceWarning: lbfgs failed to converge (status=1):\n",
      "STOP: TOTAL NO. of ITERATIONS REACHED LIMIT.\n",
      "\n",
      "Increase the number of iterations (max_iter) or scale the data as shown in:\n",
      "    https://scikit-learn.org/stable/modules/preprocessing.html\n",
      "  self.n_iter_ = _check_optimize_result(\"lbfgs\", opt_res, self.max_iter)\n",
      "D:\\anaconda\\envs\\tensorflow\\lib\\site-packages\\sklearn\\neural_network\\_multilayer_perceptron.py:559: ConvergenceWarning: lbfgs failed to converge (status=1):\n",
      "STOP: TOTAL NO. of ITERATIONS REACHED LIMIT.\n",
      "\n",
      "Increase the number of iterations (max_iter) or scale the data as shown in:\n",
      "    https://scikit-learn.org/stable/modules/preprocessing.html\n",
      "  self.n_iter_ = _check_optimize_result(\"lbfgs\", opt_res, self.max_iter)\n",
      "D:\\anaconda\\envs\\tensorflow\\lib\\site-packages\\sklearn\\neural_network\\_multilayer_perceptron.py:559: ConvergenceWarning: lbfgs failed to converge (status=1):\n",
      "STOP: TOTAL NO. of ITERATIONS REACHED LIMIT.\n",
      "\n",
      "Increase the number of iterations (max_iter) or scale the data as shown in:\n",
      "    https://scikit-learn.org/stable/modules/preprocessing.html\n",
      "  self.n_iter_ = _check_optimize_result(\"lbfgs\", opt_res, self.max_iter)\n",
      "D:\\anaconda\\envs\\tensorflow\\lib\\site-packages\\sklearn\\neural_network\\_multilayer_perceptron.py:559: ConvergenceWarning: lbfgs failed to converge (status=1):\n",
      "STOP: TOTAL NO. of ITERATIONS REACHED LIMIT.\n",
      "\n",
      "Increase the number of iterations (max_iter) or scale the data as shown in:\n",
      "    https://scikit-learn.org/stable/modules/preprocessing.html\n",
      "  self.n_iter_ = _check_optimize_result(\"lbfgs\", opt_res, self.max_iter)\n",
      "D:\\anaconda\\envs\\tensorflow\\lib\\site-packages\\sklearn\\neural_network\\_multilayer_perceptron.py:559: ConvergenceWarning: lbfgs failed to converge (status=1):\n",
      "STOP: TOTAL NO. of ITERATIONS REACHED LIMIT.\n",
      "\n",
      "Increase the number of iterations (max_iter) or scale the data as shown in:\n",
      "    https://scikit-learn.org/stable/modules/preprocessing.html\n",
      "  self.n_iter_ = _check_optimize_result(\"lbfgs\", opt_res, self.max_iter)\n",
      "D:\\anaconda\\envs\\tensorflow\\lib\\site-packages\\sklearn\\neural_network\\_multilayer_perceptron.py:559: ConvergenceWarning: lbfgs failed to converge (status=1):\n",
      "STOP: TOTAL NO. of ITERATIONS REACHED LIMIT.\n",
      "\n",
      "Increase the number of iterations (max_iter) or scale the data as shown in:\n",
      "    https://scikit-learn.org/stable/modules/preprocessing.html\n",
      "  self.n_iter_ = _check_optimize_result(\"lbfgs\", opt_res, self.max_iter)\n",
      "D:\\anaconda\\envs\\tensorflow\\lib\\site-packages\\sklearn\\neural_network\\_multilayer_perceptron.py:559: ConvergenceWarning: lbfgs failed to converge (status=1):\n",
      "STOP: TOTAL NO. of ITERATIONS REACHED LIMIT.\n",
      "\n",
      "Increase the number of iterations (max_iter) or scale the data as shown in:\n",
      "    https://scikit-learn.org/stable/modules/preprocessing.html\n",
      "  self.n_iter_ = _check_optimize_result(\"lbfgs\", opt_res, self.max_iter)\n",
      "D:\\anaconda\\envs\\tensorflow\\lib\\site-packages\\sklearn\\neural_network\\_multilayer_perceptron.py:559: ConvergenceWarning: lbfgs failed to converge (status=1):\n",
      "STOP: TOTAL NO. of ITERATIONS REACHED LIMIT.\n",
      "\n",
      "Increase the number of iterations (max_iter) or scale the data as shown in:\n",
      "    https://scikit-learn.org/stable/modules/preprocessing.html\n",
      "  self.n_iter_ = _check_optimize_result(\"lbfgs\", opt_res, self.max_iter)\n"
     ]
    },
    {
     "name": "stdout",
     "output_type": "stream",
     "text": [
      "Iteration 1, loss = 1.20979665\n",
      "Iteration 2, loss = 0.67520585\n",
      "Iteration 3, loss = 0.53604241\n",
      "Iteration 4, loss = 0.47358806\n",
      "Iteration 5, loss = 0.43298458\n",
      "Iteration 6, loss = 0.40459352\n",
      "Iteration 7, loss = 0.38201438\n",
      "Iteration 8, loss = 0.36359006\n",
      "Iteration 9, loss = 0.34769281\n",
      "Iteration 10, loss = 0.33382317\n",
      "Iteration 11, loss = 0.32160963\n",
      "Iteration 12, loss = 0.31030556\n",
      "Iteration 13, loss = 0.29992475\n",
      "Iteration 14, loss = 0.28969096\n",
      "Iteration 15, loss = 0.28156750\n",
      "Iteration 16, loss = 0.27300936\n",
      "Iteration 17, loss = 0.26463649\n",
      "Iteration 18, loss = 0.25788373\n",
      "Iteration 19, loss = 0.25049881\n",
      "Iteration 20, loss = 0.24323614\n"
     ]
    },
    {
     "name": "stderr",
     "output_type": "stream",
     "text": [
      "D:\\anaconda\\envs\\tensorflow\\lib\\site-packages\\sklearn\\neural_network\\_multilayer_perceptron.py:702: ConvergenceWarning: Stochastic Optimizer: Maximum iterations (20) reached and the optimization hasn't converged yet.\n",
      "  warnings.warn(\n"
     ]
    },
    {
     "name": "stdout",
     "output_type": "stream",
     "text": [
      "Iteration 1, loss = 1.21716329\n",
      "Iteration 2, loss = 0.67760925\n",
      "Iteration 3, loss = 0.53750137\n",
      "Iteration 4, loss = 0.47410205\n",
      "Iteration 5, loss = 0.43366798\n",
      "Iteration 6, loss = 0.40533958\n",
      "Iteration 7, loss = 0.38247807\n",
      "Iteration 8, loss = 0.36376906\n",
      "Iteration 9, loss = 0.34792063\n",
      "Iteration 10, loss = 0.33400715\n",
      "Iteration 11, loss = 0.32175120\n",
      "Iteration 12, loss = 0.31039000\n",
      "Iteration 13, loss = 0.30024579\n",
      "Iteration 14, loss = 0.28988680\n",
      "Iteration 15, loss = 0.28157549\n",
      "Iteration 16, loss = 0.27336367\n",
      "Iteration 17, loss = 0.26508811\n",
      "Iteration 18, loss = 0.25765799\n",
      "Iteration 19, loss = 0.25039411\n",
      "Iteration 20, loss = 0.24294180\n",
      "Iteration 1, loss = 1.21515792\n",
      "Iteration 2, loss = 0.67777202\n",
      "Iteration 3, loss = 0.53880424\n",
      "Iteration 4, loss = 0.47674180\n",
      "Iteration 5, loss = 0.43674066\n",
      "Iteration 6, loss = 0.40839247\n",
      "Iteration 7, loss = 0.38580598\n",
      "Iteration 8, loss = 0.36719417\n",
      "Iteration 9, loss = 0.35112590\n"
     ]
    },
    {
     "name": "stderr",
     "output_type": "stream",
     "text": [
      "D:\\anaconda\\envs\\tensorflow\\lib\\site-packages\\sklearn\\neural_network\\_multilayer_perceptron.py:702: ConvergenceWarning: Stochastic Optimizer: Maximum iterations (20) reached and the optimization hasn't converged yet.\n",
      "  warnings.warn(\n"
     ]
    },
    {
     "name": "stdout",
     "output_type": "stream",
     "text": [
      "Iteration 10, loss = 0.33679145\n",
      "Iteration 11, loss = 0.32449328\n",
      "Iteration 12, loss = 0.31321217\n",
      "Iteration 13, loss = 0.30302307\n",
      "Iteration 14, loss = 0.29242686\n",
      "Iteration 15, loss = 0.28393209\n",
      "Iteration 16, loss = 0.27560884\n",
      "Iteration 17, loss = 0.26716002\n",
      "Iteration 18, loss = 0.25948418\n",
      "Iteration 19, loss = 0.25224655\n",
      "Iteration 20, loss = 0.24497808\n",
      "Iteration 1, loss = 1.19800238\n",
      "Iteration 2, loss = 0.67090204\n",
      "Iteration 3, loss = 0.53584597\n",
      "Iteration 4, loss = 0.47218938\n",
      "Iteration 5, loss = 0.43175363\n",
      "Iteration 6, loss = 0.40308734\n",
      "Iteration 7, loss = 0.38036914\n",
      "Iteration 8, loss = 0.36152721\n"
     ]
    },
    {
     "name": "stderr",
     "output_type": "stream",
     "text": [
      "D:\\anaconda\\envs\\tensorflow\\lib\\site-packages\\sklearn\\neural_network\\_multilayer_perceptron.py:702: ConvergenceWarning: Stochastic Optimizer: Maximum iterations (20) reached and the optimization hasn't converged yet.\n",
      "  warnings.warn(\n"
     ]
    },
    {
     "name": "stdout",
     "output_type": "stream",
     "text": [
      "Iteration 9, loss = 0.34530804\n",
      "Iteration 10, loss = 0.33122414\n",
      "Iteration 11, loss = 0.31897097\n",
      "Iteration 12, loss = 0.30753900\n",
      "Iteration 13, loss = 0.29733381\n",
      "Iteration 14, loss = 0.28726957\n",
      "Iteration 15, loss = 0.27854914\n",
      "Iteration 16, loss = 0.27044250\n",
      "Iteration 17, loss = 0.26217826\n",
      "Iteration 18, loss = 0.25484714\n",
      "Iteration 19, loss = 0.24769092\n",
      "Iteration 20, loss = 0.24095976\n",
      "Iteration 1, loss = 1.21518645\n",
      "Iteration 2, loss = 0.67302563\n",
      "Iteration 3, loss = 0.53432253\n",
      "Iteration 4, loss = 0.47140040\n",
      "Iteration 5, loss = 0.43126339\n",
      "Iteration 6, loss = 0.40307989\n",
      "Iteration 7, loss = 0.38068373\n"
     ]
    },
    {
     "name": "stderr",
     "output_type": "stream",
     "text": [
      "D:\\anaconda\\envs\\tensorflow\\lib\\site-packages\\sklearn\\neural_network\\_multilayer_perceptron.py:702: ConvergenceWarning: Stochastic Optimizer: Maximum iterations (20) reached and the optimization hasn't converged yet.\n",
      "  warnings.warn(\n"
     ]
    },
    {
     "name": "stdout",
     "output_type": "stream",
     "text": [
      "Iteration 8, loss = 0.36251606\n",
      "Iteration 9, loss = 0.34677882\n",
      "Iteration 10, loss = 0.33245306\n",
      "Iteration 11, loss = 0.32023170\n",
      "Iteration 12, loss = 0.30897726\n",
      "Iteration 13, loss = 0.29877108\n",
      "Iteration 14, loss = 0.28886676\n",
      "Iteration 15, loss = 0.27992827\n",
      "Iteration 16, loss = 0.27216658\n",
      "Iteration 17, loss = 0.26362228\n",
      "Iteration 18, loss = 0.25607236\n",
      "Iteration 19, loss = 0.24913188\n",
      "Iteration 20, loss = 0.24210503\n",
      "Iteration 1, loss = 1.20838255\n",
      "Iteration 2, loss = 0.67291092\n",
      "Iteration 3, loss = 0.53560313\n",
      "Iteration 4, loss = 0.47228926\n",
      "Iteration 5, loss = 0.43176975\n",
      "Iteration 6, loss = 0.40318218\n",
      "Iteration 7, loss = 0.38067375\n"
     ]
    },
    {
     "name": "stderr",
     "output_type": "stream",
     "text": [
      "D:\\anaconda\\envs\\tensorflow\\lib\\site-packages\\sklearn\\neural_network\\_multilayer_perceptron.py:702: ConvergenceWarning: Stochastic Optimizer: Maximum iterations (20) reached and the optimization hasn't converged yet.\n",
      "  warnings.warn(\n"
     ]
    },
    {
     "name": "stdout",
     "output_type": "stream",
     "text": [
      "Iteration 8, loss = 0.36229732\n",
      "Iteration 9, loss = 0.34669722\n",
      "Iteration 10, loss = 0.33212000\n",
      "Iteration 11, loss = 0.32001395\n",
      "Iteration 12, loss = 0.30925222\n",
      "Iteration 13, loss = 0.29907046\n",
      "Iteration 14, loss = 0.28926174\n",
      "Iteration 15, loss = 0.28022421\n",
      "Iteration 16, loss = 0.27259996\n",
      "Iteration 17, loss = 0.26428369\n",
      "Iteration 18, loss = 0.25679134\n",
      "Iteration 19, loss = 0.24976807\n",
      "Iteration 20, loss = 0.24271215\n",
      "Iteration 1, loss = 1.19917523\n",
      "Iteration 2, loss = 0.66913971\n",
      "Iteration 3, loss = 0.53299536\n",
      "Iteration 4, loss = 0.46903340\n",
      "Iteration 5, loss = 0.42873252\n",
      "Iteration 6, loss = 0.40013447\n"
     ]
    },
    {
     "name": "stderr",
     "output_type": "stream",
     "text": [
      "D:\\anaconda\\envs\\tensorflow\\lib\\site-packages\\sklearn\\neural_network\\_multilayer_perceptron.py:702: ConvergenceWarning: Stochastic Optimizer: Maximum iterations (20) reached and the optimization hasn't converged yet.\n",
      "  warnings.warn(\n"
     ]
    },
    {
     "name": "stdout",
     "output_type": "stream",
     "text": [
      "Iteration 7, loss = 0.37732714\n",
      "Iteration 8, loss = 0.35863370\n",
      "Iteration 9, loss = 0.34291660\n",
      "Iteration 10, loss = 0.32838475\n",
      "Iteration 11, loss = 0.31600486\n",
      "Iteration 12, loss = 0.30489702\n",
      "Iteration 13, loss = 0.29485777\n",
      "Iteration 14, loss = 0.28518196\n",
      "Iteration 15, loss = 0.27662396\n",
      "Iteration 16, loss = 0.26894318\n",
      "Iteration 17, loss = 0.26049927\n",
      "Iteration 18, loss = 0.25298943\n",
      "Iteration 19, loss = 0.24611586\n",
      "Iteration 20, loss = 0.23931905\n",
      "Iteration 1, loss = 1.18667665\n",
      "Iteration 2, loss = 0.66687163\n",
      "Iteration 3, loss = 0.53544182\n",
      "Iteration 4, loss = 0.47182117\n",
      "Iteration 5, loss = 0.43176503\n"
     ]
    },
    {
     "name": "stderr",
     "output_type": "stream",
     "text": [
      "D:\\anaconda\\envs\\tensorflow\\lib\\site-packages\\sklearn\\neural_network\\_multilayer_perceptron.py:702: ConvergenceWarning: Stochastic Optimizer: Maximum iterations (20) reached and the optimization hasn't converged yet.\n",
      "  warnings.warn(\n"
     ]
    },
    {
     "name": "stdout",
     "output_type": "stream",
     "text": [
      "Iteration 6, loss = 0.40306649\n",
      "Iteration 7, loss = 0.38027077\n",
      "Iteration 8, loss = 0.36185185\n",
      "Iteration 9, loss = 0.34565573\n",
      "Iteration 10, loss = 0.33153033\n",
      "Iteration 11, loss = 0.31924453\n",
      "Iteration 12, loss = 0.30806334\n",
      "Iteration 13, loss = 0.29802412\n",
      "Iteration 14, loss = 0.28815411\n",
      "Iteration 15, loss = 0.27963199\n",
      "Iteration 16, loss = 0.27175531\n",
      "Iteration 17, loss = 0.26316692\n",
      "Iteration 18, loss = 0.25594778\n",
      "Iteration 19, loss = 0.24879200\n",
      "Iteration 20, loss = 0.24246240\n",
      "Iteration 1, loss = 1.20175292\n",
      "Iteration 2, loss = 0.67092804\n",
      "Iteration 3, loss = 0.53431809\n",
      "Iteration 4, loss = 0.47121645\n",
      "Iteration 5, loss = 0.43146573\n"
     ]
    },
    {
     "name": "stderr",
     "output_type": "stream",
     "text": [
      "D:\\anaconda\\envs\\tensorflow\\lib\\site-packages\\sklearn\\neural_network\\_multilayer_perceptron.py:702: ConvergenceWarning: Stochastic Optimizer: Maximum iterations (20) reached and the optimization hasn't converged yet.\n",
      "  warnings.warn(\n"
     ]
    },
    {
     "name": "stdout",
     "output_type": "stream",
     "text": [
      "Iteration 6, loss = 0.40335485\n",
      "Iteration 7, loss = 0.38075861\n",
      "Iteration 8, loss = 0.36192637\n",
      "Iteration 9, loss = 0.34626212\n",
      "Iteration 10, loss = 0.33270126\n",
      "Iteration 11, loss = 0.32057137\n",
      "Iteration 12, loss = 0.30891380\n",
      "Iteration 13, loss = 0.29876728\n",
      "Iteration 14, loss = 0.28951298\n",
      "Iteration 15, loss = 0.28053595\n",
      "Iteration 16, loss = 0.27272583\n",
      "Iteration 17, loss = 0.26461884\n",
      "Iteration 18, loss = 0.25692697\n",
      "Iteration 19, loss = 0.24959417\n",
      "Iteration 20, loss = 0.24281450\n",
      "Iteration 1, loss = 1.19925993\n",
      "Iteration 2, loss = 0.67126226\n",
      "Iteration 3, loss = 0.53794466\n",
      "Iteration 4, loss = 0.47529777\n",
      "Iteration 5, loss = 0.43590915\n"
     ]
    },
    {
     "name": "stderr",
     "output_type": "stream",
     "text": [
      "D:\\anaconda\\envs\\tensorflow\\lib\\site-packages\\sklearn\\neural_network\\_multilayer_perceptron.py:702: ConvergenceWarning: Stochastic Optimizer: Maximum iterations (20) reached and the optimization hasn't converged yet.\n",
      "  warnings.warn(\n"
     ]
    },
    {
     "name": "stdout",
     "output_type": "stream",
     "text": [
      "Iteration 6, loss = 0.40801094\n",
      "Iteration 7, loss = 0.38571047\n",
      "Iteration 8, loss = 0.36709329\n",
      "Iteration 9, loss = 0.35130354\n",
      "Iteration 10, loss = 0.33744485\n",
      "Iteration 11, loss = 0.32522763\n",
      "Iteration 12, loss = 0.31353506\n",
      "Iteration 13, loss = 0.30301843\n",
      "Iteration 14, loss = 0.29385467\n",
      "Iteration 15, loss = 0.28465590\n",
      "Iteration 16, loss = 0.27688816\n",
      "Iteration 17, loss = 0.26892700\n",
      "Iteration 18, loss = 0.26088770\n",
      "Iteration 19, loss = 0.25365212\n",
      "Iteration 20, loss = 0.24678893\n",
      "Iteration 1, loss = 1.30912316\n",
      "Iteration 2, loss = 0.81485494\n",
      "Iteration 3, loss = 0.74029878\n",
      "Iteration 4, loss = 0.69733452\n"
     ]
    },
    {
     "name": "stderr",
     "output_type": "stream",
     "text": [
      "D:\\anaconda\\envs\\tensorflow\\lib\\site-packages\\sklearn\\neural_network\\_multilayer_perceptron.py:702: ConvergenceWarning: Stochastic Optimizer: Maximum iterations (20) reached and the optimization hasn't converged yet.\n",
      "  warnings.warn(\n"
     ]
    },
    {
     "name": "stdout",
     "output_type": "stream",
     "text": [
      "Iteration 5, loss = 0.67096969\n",
      "Iteration 6, loss = 0.65084608\n",
      "Iteration 7, loss = 0.63444505\n",
      "Iteration 8, loss = 0.62040726\n",
      "Iteration 9, loss = 0.60721540\n",
      "Iteration 10, loss = 0.59622946\n",
      "Iteration 11, loss = 0.58577983\n",
      "Iteration 12, loss = 0.57651698\n",
      "Iteration 13, loss = 0.56798509\n",
      "Iteration 14, loss = 0.56007187\n",
      "Iteration 15, loss = 0.55274915\n",
      "Iteration 16, loss = 0.54581557\n",
      "Iteration 17, loss = 0.53909784\n",
      "Iteration 18, loss = 0.53332373\n",
      "Iteration 19, loss = 0.52763261\n",
      "Iteration 20, loss = 0.52178606\n",
      "Iteration 1, loss = 1.31678332\n",
      "Iteration 2, loss = 0.81798100\n",
      "Iteration 3, loss = 0.74433551\n",
      "Iteration 4, loss = 0.70065813\n",
      "Iteration 5, loss = 0.67451554\n"
     ]
    },
    {
     "name": "stderr",
     "output_type": "stream",
     "text": [
      "D:\\anaconda\\envs\\tensorflow\\lib\\site-packages\\sklearn\\neural_network\\_multilayer_perceptron.py:702: ConvergenceWarning: Stochastic Optimizer: Maximum iterations (20) reached and the optimization hasn't converged yet.\n",
      "  warnings.warn(\n"
     ]
    },
    {
     "name": "stdout",
     "output_type": "stream",
     "text": [
      "Iteration 6, loss = 0.65442855\n",
      "Iteration 7, loss = 0.63814606\n",
      "Iteration 8, loss = 0.62418902\n",
      "Iteration 9, loss = 0.61134378\n",
      "Iteration 10, loss = 0.60051402\n",
      "Iteration 11, loss = 0.59000847\n",
      "Iteration 12, loss = 0.58088941\n",
      "Iteration 13, loss = 0.57241715\n",
      "Iteration 14, loss = 0.56424664\n",
      "Iteration 15, loss = 0.55705827\n",
      "Iteration 16, loss = 0.55015778\n",
      "Iteration 17, loss = 0.54338295\n",
      "Iteration 18, loss = 0.53749085\n",
      "Iteration 19, loss = 0.53149614\n",
      "Iteration 20, loss = 0.52562589\n",
      "Iteration 1, loss = 1.31685307\n",
      "Iteration 2, loss = 0.81704739\n",
      "Iteration 3, loss = 0.74429245\n",
      "Iteration 4, loss = 0.70149759\n",
      "Iteration 5, loss = 0.67589970\n",
      "Iteration 6, loss = 0.65592645\n"
     ]
    },
    {
     "name": "stderr",
     "output_type": "stream",
     "text": [
      "D:\\anaconda\\envs\\tensorflow\\lib\\site-packages\\sklearn\\neural_network\\_multilayer_perceptron.py:702: ConvergenceWarning: Stochastic Optimizer: Maximum iterations (20) reached and the optimization hasn't converged yet.\n",
      "  warnings.warn(\n"
     ]
    },
    {
     "name": "stdout",
     "output_type": "stream",
     "text": [
      "Iteration 7, loss = 0.63981097\n",
      "Iteration 8, loss = 0.62602134\n",
      "Iteration 9, loss = 0.61334856\n",
      "Iteration 10, loss = 0.60246523\n",
      "Iteration 11, loss = 0.59225003\n",
      "Iteration 12, loss = 0.58333203\n",
      "Iteration 13, loss = 0.57509653\n",
      "Iteration 14, loss = 0.56686335\n",
      "Iteration 15, loss = 0.55965374\n",
      "Iteration 16, loss = 0.55283770\n",
      "Iteration 17, loss = 0.54633894\n",
      "Iteration 18, loss = 0.54052513\n",
      "Iteration 19, loss = 0.53452599\n",
      "Iteration 20, loss = 0.52881479\n",
      "Iteration 1, loss = 1.30231429\n",
      "Iteration 2, loss = 0.81427192\n",
      "Iteration 3, loss = 0.74257043\n",
      "Iteration 4, loss = 0.69925287\n",
      "Iteration 5, loss = 0.67307787\n",
      "Iteration 6, loss = 0.65304781\n"
     ]
    },
    {
     "name": "stderr",
     "output_type": "stream",
     "text": [
      "D:\\anaconda\\envs\\tensorflow\\lib\\site-packages\\sklearn\\neural_network\\_multilayer_perceptron.py:702: ConvergenceWarning: Stochastic Optimizer: Maximum iterations (20) reached and the optimization hasn't converged yet.\n",
      "  warnings.warn(\n"
     ]
    },
    {
     "name": "stdout",
     "output_type": "stream",
     "text": [
      "Iteration 7, loss = 0.63658785\n",
      "Iteration 8, loss = 0.62230630\n",
      "Iteration 9, loss = 0.60938419\n",
      "Iteration 10, loss = 0.59812595\n",
      "Iteration 11, loss = 0.58775300\n",
      "Iteration 12, loss = 0.57862741\n",
      "Iteration 13, loss = 0.57007572\n",
      "Iteration 14, loss = 0.56176603\n",
      "Iteration 15, loss = 0.55447594\n",
      "Iteration 16, loss = 0.54733679\n",
      "Iteration 17, loss = 0.54082139\n",
      "Iteration 18, loss = 0.53477473\n",
      "Iteration 19, loss = 0.52858342\n",
      "Iteration 20, loss = 0.52284838\n",
      "Iteration 1, loss = 1.31937100\n",
      "Iteration 2, loss = 0.81589013\n",
      "Iteration 3, loss = 0.74425051\n",
      "Iteration 4, loss = 0.69990776\n",
      "Iteration 5, loss = 0.67361305\n",
      "Iteration 6, loss = 0.65322575\n",
      "Iteration 7, loss = 0.63653489\n"
     ]
    },
    {
     "name": "stderr",
     "output_type": "stream",
     "text": [
      "D:\\anaconda\\envs\\tensorflow\\lib\\site-packages\\sklearn\\neural_network\\_multilayer_perceptron.py:702: ConvergenceWarning: Stochastic Optimizer: Maximum iterations (20) reached and the optimization hasn't converged yet.\n",
      "  warnings.warn(\n"
     ]
    },
    {
     "name": "stdout",
     "output_type": "stream",
     "text": [
      "Iteration 8, loss = 0.62217212\n",
      "Iteration 9, loss = 0.60932208\n",
      "Iteration 10, loss = 0.59773169\n",
      "Iteration 11, loss = 0.58742701\n",
      "Iteration 12, loss = 0.57815512\n",
      "Iteration 13, loss = 0.56963872\n",
      "Iteration 14, loss = 0.56136188\n",
      "Iteration 15, loss = 0.55399407\n",
      "Iteration 16, loss = 0.54693258\n",
      "Iteration 17, loss = 0.54034756\n",
      "Iteration 18, loss = 0.53423271\n",
      "Iteration 19, loss = 0.52810045\n",
      "Iteration 20, loss = 0.52247192\n",
      "Iteration 1, loss = 1.31336985\n",
      "Iteration 2, loss = 0.81706030\n",
      "Iteration 3, loss = 0.74506521\n",
      "Iteration 4, loss = 0.70126377\n",
      "Iteration 5, loss = 0.67546939\n",
      "Iteration 6, loss = 0.65536200\n",
      "Iteration 7, loss = 0.63911353\n",
      "Iteration 8, loss = 0.62503230\n"
     ]
    },
    {
     "name": "stderr",
     "output_type": "stream",
     "text": [
      "D:\\anaconda\\envs\\tensorflow\\lib\\site-packages\\sklearn\\neural_network\\_multilayer_perceptron.py:702: ConvergenceWarning: Stochastic Optimizer: Maximum iterations (20) reached and the optimization hasn't converged yet.\n",
      "  warnings.warn(\n"
     ]
    },
    {
     "name": "stdout",
     "output_type": "stream",
     "text": [
      "Iteration 9, loss = 0.61274942\n",
      "Iteration 10, loss = 0.60118473\n",
      "Iteration 11, loss = 0.59117044\n",
      "Iteration 12, loss = 0.58215740\n",
      "Iteration 13, loss = 0.57330447\n",
      "Iteration 14, loss = 0.56517923\n",
      "Iteration 15, loss = 0.55786920\n",
      "Iteration 16, loss = 0.55062811\n",
      "Iteration 17, loss = 0.54423565\n",
      "Iteration 18, loss = 0.53803338\n",
      "Iteration 19, loss = 0.53190247\n",
      "Iteration 20, loss = 0.52616589\n",
      "Iteration 1, loss = 1.30907989\n",
      "Iteration 2, loss = 0.81499989\n",
      "Iteration 3, loss = 0.74251834\n",
      "Iteration 4, loss = 0.69791194\n",
      "Iteration 5, loss = 0.67183342\n",
      "Iteration 6, loss = 0.65181611\n",
      "Iteration 7, loss = 0.63544389\n",
      "Iteration 8, loss = 0.62126908\n",
      "Iteration 9, loss = 0.60926031\n",
      "Iteration 10, loss = 0.59744776\n"
     ]
    },
    {
     "name": "stderr",
     "output_type": "stream",
     "text": [
      "D:\\anaconda\\envs\\tensorflow\\lib\\site-packages\\sklearn\\neural_network\\_multilayer_perceptron.py:702: ConvergenceWarning: Stochastic Optimizer: Maximum iterations (20) reached and the optimization hasn't converged yet.\n",
      "  warnings.warn(\n"
     ]
    },
    {
     "name": "stdout",
     "output_type": "stream",
     "text": [
      "Iteration 11, loss = 0.58749978\n",
      "Iteration 12, loss = 0.57842940\n",
      "Iteration 13, loss = 0.56986891\n",
      "Iteration 14, loss = 0.56205205\n",
      "Iteration 15, loss = 0.55494872\n",
      "Iteration 16, loss = 0.54773615\n",
      "Iteration 17, loss = 0.54150493\n",
      "Iteration 18, loss = 0.53531490\n",
      "Iteration 19, loss = 0.52932269\n",
      "Iteration 20, loss = 0.52392992\n"
     ]
    },
    {
     "name": "stderr",
     "output_type": "stream",
     "text": [
      "D:\\anaconda\\envs\\tensorflow\\lib\\site-packages\\sklearn\\neural_network\\_multilayer_perceptron.py:702: ConvergenceWarning: Stochastic Optimizer: Maximum iterations (20) reached and the optimization hasn't converged yet.\n",
      "  warnings.warn(\n"
     ]
    },
    {
     "name": "stdout",
     "output_type": "stream",
     "text": [
      "Iteration 1, loss = 1.30051277\n",
      "Iteration 2, loss = 0.81449685\n",
      "Iteration 3, loss = 0.74450733\n",
      "Iteration 4, loss = 0.70064655\n",
      "Iteration 5, loss = 0.67468265\n",
      "Iteration 6, loss = 0.65453899\n",
      "Iteration 7, loss = 0.63815148\n",
      "Iteration 8, loss = 0.62392011\n",
      "Iteration 9, loss = 0.61146583\n",
      "Iteration 10, loss = 0.59986673\n",
      "Iteration 11, loss = 0.58988505\n",
      "Iteration 12, loss = 0.58050281\n",
      "Iteration 13, loss = 0.57200867\n",
      "Iteration 14, loss = 0.56400553\n",
      "Iteration 15, loss = 0.55680860\n",
      "Iteration 16, loss = 0.54962691\n",
      "Iteration 17, loss = 0.54316020\n",
      "Iteration 18, loss = 0.53678227\n",
      "Iteration 19, loss = 0.53081206\n",
      "Iteration 20, loss = 0.52544514\n",
      "Iteration 1, loss = 1.31145146\n"
     ]
    },
    {
     "name": "stderr",
     "output_type": "stream",
     "text": [
      "D:\\anaconda\\envs\\tensorflow\\lib\\site-packages\\sklearn\\neural_network\\_multilayer_perceptron.py:702: ConvergenceWarning: Stochastic Optimizer: Maximum iterations (20) reached and the optimization hasn't converged yet.\n",
      "  warnings.warn(\n"
     ]
    },
    {
     "name": "stdout",
     "output_type": "stream",
     "text": [
      "Iteration 2, loss = 0.81673918\n",
      "Iteration 3, loss = 0.74111953\n",
      "Iteration 4, loss = 0.69765135\n",
      "Iteration 5, loss = 0.67117412\n",
      "Iteration 6, loss = 0.65111430\n",
      "Iteration 7, loss = 0.63472953\n",
      "Iteration 8, loss = 0.62059289\n",
      "Iteration 9, loss = 0.60812666\n",
      "Iteration 10, loss = 0.59675304\n",
      "Iteration 11, loss = 0.58659264\n",
      "Iteration 12, loss = 0.57700626\n",
      "Iteration 13, loss = 0.56841255\n",
      "Iteration 14, loss = 0.56033237\n",
      "Iteration 15, loss = 0.55309001\n",
      "Iteration 16, loss = 0.54596131\n",
      "Iteration 17, loss = 0.53943528\n",
      "Iteration 18, loss = 0.53312169\n",
      "Iteration 19, loss = 0.52724572\n",
      "Iteration 20, loss = 0.52152068\n",
      "Iteration 1, loss = 1.31338469\n",
      "Iteration 2, loss = 0.82042456\n"
     ]
    },
    {
     "name": "stderr",
     "output_type": "stream",
     "text": [
      "D:\\anaconda\\envs\\tensorflow\\lib\\site-packages\\sklearn\\neural_network\\_multilayer_perceptron.py:702: ConvergenceWarning: Stochastic Optimizer: Maximum iterations (20) reached and the optimization hasn't converged yet.\n",
      "  warnings.warn(\n"
     ]
    },
    {
     "name": "stdout",
     "output_type": "stream",
     "text": [
      "Iteration 3, loss = 0.74827979\n",
      "Iteration 4, loss = 0.70542143\n",
      "Iteration 5, loss = 0.67869430\n",
      "Iteration 6, loss = 0.65870698\n",
      "Iteration 7, loss = 0.64220156\n",
      "Iteration 8, loss = 0.62813071\n",
      "Iteration 9, loss = 0.61559687\n",
      "Iteration 10, loss = 0.60423074\n",
      "Iteration 11, loss = 0.59411452\n",
      "Iteration 12, loss = 0.58453246\n",
      "Iteration 13, loss = 0.57571415\n",
      "Iteration 14, loss = 0.56758640\n",
      "Iteration 15, loss = 0.56014276\n",
      "Iteration 16, loss = 0.55295917\n",
      "Iteration 17, loss = 0.54632878\n",
      "Iteration 18, loss = 0.54012376\n",
      "Iteration 19, loss = 0.53421549\n",
      "Iteration 20, loss = 0.52839527\n"
     ]
    },
    {
     "name": "stderr",
     "output_type": "stream",
     "text": [
      "D:\\anaconda\\envs\\tensorflow\\lib\\site-packages\\sklearn\\neural_network\\_multilayer_perceptron.py:702: ConvergenceWarning: Stochastic Optimizer: Maximum iterations (20) reached and the optimization hasn't converged yet.\n",
      "  warnings.warn(\n",
      "D:\\anaconda\\envs\\tensorflow\\lib\\site-packages\\sklearn\\neural_network\\_multilayer_perceptron.py:559: ConvergenceWarning: lbfgs failed to converge (status=1):\n",
      "STOP: TOTAL NO. of ITERATIONS REACHED LIMIT.\n",
      "\n",
      "Increase the number of iterations (max_iter) or scale the data as shown in:\n",
      "    https://scikit-learn.org/stable/modules/preprocessing.html\n",
      "  self.n_iter_ = _check_optimize_result(\"lbfgs\", opt_res, self.max_iter)\n",
      "D:\\anaconda\\envs\\tensorflow\\lib\\site-packages\\sklearn\\neural_network\\_multilayer_perceptron.py:559: ConvergenceWarning: lbfgs failed to converge (status=1):\n",
      "STOP: TOTAL NO. of ITERATIONS REACHED LIMIT.\n",
      "\n",
      "Increase the number of iterations (max_iter) or scale the data as shown in:\n",
      "    https://scikit-learn.org/stable/modules/preprocessing.html\n",
      "  self.n_iter_ = _check_optimize_result(\"lbfgs\", opt_res, self.max_iter)\n",
      "D:\\anaconda\\envs\\tensorflow\\lib\\site-packages\\sklearn\\neural_network\\_multilayer_perceptron.py:559: ConvergenceWarning: lbfgs failed to converge (status=1):\n",
      "STOP: TOTAL NO. of ITERATIONS REACHED LIMIT.\n",
      "\n",
      "Increase the number of iterations (max_iter) or scale the data as shown in:\n",
      "    https://scikit-learn.org/stable/modules/preprocessing.html\n",
      "  self.n_iter_ = _check_optimize_result(\"lbfgs\", opt_res, self.max_iter)\n",
      "D:\\anaconda\\envs\\tensorflow\\lib\\site-packages\\sklearn\\neural_network\\_multilayer_perceptron.py:559: ConvergenceWarning: lbfgs failed to converge (status=1):\n",
      "STOP: TOTAL NO. of ITERATIONS REACHED LIMIT.\n",
      "\n",
      "Increase the number of iterations (max_iter) or scale the data as shown in:\n",
      "    https://scikit-learn.org/stable/modules/preprocessing.html\n",
      "  self.n_iter_ = _check_optimize_result(\"lbfgs\", opt_res, self.max_iter)\n",
      "D:\\anaconda\\envs\\tensorflow\\lib\\site-packages\\sklearn\\neural_network\\_multilayer_perceptron.py:559: ConvergenceWarning: lbfgs failed to converge (status=1):\n",
      "STOP: TOTAL NO. of ITERATIONS REACHED LIMIT.\n",
      "\n",
      "Increase the number of iterations (max_iter) or scale the data as shown in:\n",
      "    https://scikit-learn.org/stable/modules/preprocessing.html\n",
      "  self.n_iter_ = _check_optimize_result(\"lbfgs\", opt_res, self.max_iter)\n",
      "D:\\anaconda\\envs\\tensorflow\\lib\\site-packages\\sklearn\\neural_network\\_multilayer_perceptron.py:559: ConvergenceWarning: lbfgs failed to converge (status=1):\n",
      "STOP: TOTAL NO. of ITERATIONS REACHED LIMIT.\n",
      "\n",
      "Increase the number of iterations (max_iter) or scale the data as shown in:\n",
      "    https://scikit-learn.org/stable/modules/preprocessing.html\n",
      "  self.n_iter_ = _check_optimize_result(\"lbfgs\", opt_res, self.max_iter)\n",
      "D:\\anaconda\\envs\\tensorflow\\lib\\site-packages\\sklearn\\neural_network\\_multilayer_perceptron.py:559: ConvergenceWarning: lbfgs failed to converge (status=1):\n",
      "STOP: TOTAL NO. of ITERATIONS REACHED LIMIT.\n",
      "\n",
      "Increase the number of iterations (max_iter) or scale the data as shown in:\n",
      "    https://scikit-learn.org/stable/modules/preprocessing.html\n",
      "  self.n_iter_ = _check_optimize_result(\"lbfgs\", opt_res, self.max_iter)\n",
      "D:\\anaconda\\envs\\tensorflow\\lib\\site-packages\\sklearn\\neural_network\\_multilayer_perceptron.py:559: ConvergenceWarning: lbfgs failed to converge (status=1):\n",
      "STOP: TOTAL NO. of ITERATIONS REACHED LIMIT.\n",
      "\n",
      "Increase the number of iterations (max_iter) or scale the data as shown in:\n",
      "    https://scikit-learn.org/stable/modules/preprocessing.html\n",
      "  self.n_iter_ = _check_optimize_result(\"lbfgs\", opt_res, self.max_iter)\n",
      "D:\\anaconda\\envs\\tensorflow\\lib\\site-packages\\sklearn\\neural_network\\_multilayer_perceptron.py:559: ConvergenceWarning: lbfgs failed to converge (status=1):\n",
      "STOP: TOTAL NO. of ITERATIONS REACHED LIMIT.\n",
      "\n",
      "Increase the number of iterations (max_iter) or scale the data as shown in:\n",
      "    https://scikit-learn.org/stable/modules/preprocessing.html\n",
      "  self.n_iter_ = _check_optimize_result(\"lbfgs\", opt_res, self.max_iter)\n",
      "D:\\anaconda\\envs\\tensorflow\\lib\\site-packages\\sklearn\\neural_network\\_multilayer_perceptron.py:559: ConvergenceWarning: lbfgs failed to converge (status=1):\n",
      "STOP: TOTAL NO. of ITERATIONS REACHED LIMIT.\n",
      "\n",
      "Increase the number of iterations (max_iter) or scale the data as shown in:\n",
      "    https://scikit-learn.org/stable/modules/preprocessing.html\n",
      "  self.n_iter_ = _check_optimize_result(\"lbfgs\", opt_res, self.max_iter)\n"
     ]
    },
    {
     "name": "stdout",
     "output_type": "stream",
     "text": [
      "Iteration 1, loss = 0.67240843\n",
      "Iteration 2, loss = 0.52300870\n",
      "Iteration 3, loss = 0.44140618\n",
      "Iteration 4, loss = 0.38011843\n",
      "Iteration 5, loss = 0.33759119\n",
      "Iteration 6, loss = 0.30786057\n",
      "Iteration 7, loss = 0.28262969\n",
      "Iteration 8, loss = 0.26275116\n",
      "Iteration 9, loss = 0.24300146\n",
      "Iteration 10, loss = 0.22794814\n",
      "Iteration 11, loss = 0.21287937\n",
      "Iteration 12, loss = 0.20199873\n",
      "Iteration 13, loss = 0.18746817\n",
      "Iteration 14, loss = 0.17277240\n",
      "Iteration 15, loss = 0.16262722\n",
      "Iteration 16, loss = 0.15236237\n",
      "Iteration 17, loss = 0.14039712\n",
      "Iteration 18, loss = 0.13216838\n",
      "Iteration 19, loss = 0.12592582\n",
      "Iteration 20, loss = 0.11547410\n",
      "Iteration 1, loss = 0.67900404\n",
      "Iteration 2, loss = 0.52773250\n",
      "Iteration 3, loss = 0.44480036\n"
     ]
    },
    {
     "name": "stderr",
     "output_type": "stream",
     "text": [
      "D:\\anaconda\\envs\\tensorflow\\lib\\site-packages\\sklearn\\neural_network\\_multilayer_perceptron.py:702: ConvergenceWarning: Stochastic Optimizer: Maximum iterations (20) reached and the optimization hasn't converged yet.\n",
      "  warnings.warn(\n"
     ]
    },
    {
     "name": "stdout",
     "output_type": "stream",
     "text": [
      "Iteration 4, loss = 0.38323190\n",
      "Iteration 5, loss = 0.34045965\n",
      "Iteration 6, loss = 0.31254770\n",
      "Iteration 7, loss = 0.28662588\n",
      "Iteration 8, loss = 0.26645226\n",
      "Iteration 9, loss = 0.24663109\n",
      "Iteration 10, loss = 0.23248361\n",
      "Iteration 11, loss = 0.21824466\n",
      "Iteration 12, loss = 0.20400604\n",
      "Iteration 13, loss = 0.19070071\n",
      "Iteration 14, loss = 0.17731738\n",
      "Iteration 15, loss = 0.16671571\n",
      "Iteration 16, loss = 0.15648480\n",
      "Iteration 17, loss = 0.14418226\n",
      "Iteration 18, loss = 0.13380743\n",
      "Iteration 19, loss = 0.12628975\n",
      "Iteration 20, loss = 0.11701848\n",
      "Iteration 1, loss = 0.67601835\n",
      "Iteration 2, loss = 0.52868126\n",
      "Iteration 3, loss = 0.44634338\n",
      "Iteration 4, loss = 0.38646443\n",
      "Iteration 5, loss = 0.34454804\n",
      "Iteration 6, loss = 0.31483017\n"
     ]
    },
    {
     "name": "stderr",
     "output_type": "stream",
     "text": [
      "D:\\anaconda\\envs\\tensorflow\\lib\\site-packages\\sklearn\\neural_network\\_multilayer_perceptron.py:702: ConvergenceWarning: Stochastic Optimizer: Maximum iterations (20) reached and the optimization hasn't converged yet.\n",
      "  warnings.warn(\n"
     ]
    },
    {
     "name": "stdout",
     "output_type": "stream",
     "text": [
      "Iteration 7, loss = 0.28771030\n",
      "Iteration 8, loss = 0.26588971\n",
      "Iteration 9, loss = 0.24691008\n",
      "Iteration 10, loss = 0.23237893\n",
      "Iteration 11, loss = 0.21686899\n",
      "Iteration 12, loss = 0.20252787\n",
      "Iteration 13, loss = 0.18837954\n",
      "Iteration 14, loss = 0.17580863\n",
      "Iteration 15, loss = 0.16387831\n",
      "Iteration 16, loss = 0.15311328\n",
      "Iteration 17, loss = 0.14206057\n",
      "Iteration 18, loss = 0.13159074\n",
      "Iteration 19, loss = 0.12285276\n",
      "Iteration 20, loss = 0.11340169\n",
      "Iteration 1, loss = 0.67810861\n",
      "Iteration 2, loss = 0.52813293\n"
     ]
    },
    {
     "name": "stderr",
     "output_type": "stream",
     "text": [
      "D:\\anaconda\\envs\\tensorflow\\lib\\site-packages\\sklearn\\neural_network\\_multilayer_perceptron.py:702: ConvergenceWarning: Stochastic Optimizer: Maximum iterations (20) reached and the optimization hasn't converged yet.\n",
      "  warnings.warn(\n"
     ]
    },
    {
     "name": "stdout",
     "output_type": "stream",
     "text": [
      "Iteration 3, loss = 0.44560430\n",
      "Iteration 4, loss = 0.38479679\n",
      "Iteration 5, loss = 0.34318680\n",
      "Iteration 6, loss = 0.31308997\n",
      "Iteration 7, loss = 0.28460508\n",
      "Iteration 8, loss = 0.26430200\n",
      "Iteration 9, loss = 0.24673671\n",
      "Iteration 10, loss = 0.23290235\n",
      "Iteration 11, loss = 0.21768379\n",
      "Iteration 12, loss = 0.20175001\n",
      "Iteration 13, loss = 0.18867930\n",
      "Iteration 14, loss = 0.17634042\n",
      "Iteration 15, loss = 0.16543882\n",
      "Iteration 16, loss = 0.15582754\n",
      "Iteration 17, loss = 0.14488290\n",
      "Iteration 18, loss = 0.13363155\n",
      "Iteration 19, loss = 0.12481257\n",
      "Iteration 20, loss = 0.11647725\n",
      "Iteration 1, loss = 0.67416189\n",
      "Iteration 2, loss = 0.52323086\n",
      "Iteration 3, loss = 0.44150214\n",
      "Iteration 4, loss = 0.38228766\n",
      "Iteration 5, loss = 0.34147616\n"
     ]
    },
    {
     "name": "stderr",
     "output_type": "stream",
     "text": [
      "D:\\anaconda\\envs\\tensorflow\\lib\\site-packages\\sklearn\\neural_network\\_multilayer_perceptron.py:702: ConvergenceWarning: Stochastic Optimizer: Maximum iterations (20) reached and the optimization hasn't converged yet.\n",
      "  warnings.warn(\n"
     ]
    },
    {
     "name": "stdout",
     "output_type": "stream",
     "text": [
      "Iteration 6, loss = 0.31259976\n",
      "Iteration 7, loss = 0.28419974\n",
      "Iteration 8, loss = 0.26436764\n",
      "Iteration 9, loss = 0.24660362\n",
      "Iteration 10, loss = 0.23155843\n",
      "Iteration 11, loss = 0.21595845\n",
      "Iteration 12, loss = 0.19969445\n",
      "Iteration 13, loss = 0.18697095\n",
      "Iteration 14, loss = 0.17388600\n",
      "Iteration 15, loss = 0.16348277\n",
      "Iteration 16, loss = 0.15234473\n",
      "Iteration 17, loss = 0.14092636\n",
      "Iteration 18, loss = 0.12983335\n",
      "Iteration 19, loss = 0.12065987\n",
      "Iteration 20, loss = 0.11246526\n"
     ]
    },
    {
     "name": "stderr",
     "output_type": "stream",
     "text": [
      "D:\\anaconda\\envs\\tensorflow\\lib\\site-packages\\sklearn\\neural_network\\_multilayer_perceptron.py:702: ConvergenceWarning: Stochastic Optimizer: Maximum iterations (20) reached and the optimization hasn't converged yet.\n",
      "  warnings.warn(\n"
     ]
    },
    {
     "name": "stdout",
     "output_type": "stream",
     "text": [
      "Iteration 1, loss = 0.67702240\n",
      "Iteration 2, loss = 0.52566445\n",
      "Iteration 3, loss = 0.44389045\n",
      "Iteration 4, loss = 0.38337602\n",
      "Iteration 5, loss = 0.34177615\n",
      "Iteration 6, loss = 0.31447926\n",
      "Iteration 7, loss = 0.28539362\n",
      "Iteration 8, loss = 0.26540487\n",
      "Iteration 9, loss = 0.24684390\n",
      "Iteration 10, loss = 0.23218854\n",
      "Iteration 11, loss = 0.21723328\n",
      "Iteration 12, loss = 0.20107064\n",
      "Iteration 13, loss = 0.18852785\n",
      "Iteration 14, loss = 0.17745645\n",
      "Iteration 15, loss = 0.16504540\n",
      "Iteration 16, loss = 0.15374801\n",
      "Iteration 17, loss = 0.14325186\n",
      "Iteration 18, loss = 0.13385713\n",
      "Iteration 19, loss = 0.12439890\n",
      "Iteration 20, loss = 0.11608823\n",
      "Iteration 1, loss = 0.67546736\n",
      "Iteration 2, loss = 0.52202836\n",
      "Iteration 3, loss = 0.43897784\n"
     ]
    },
    {
     "name": "stderr",
     "output_type": "stream",
     "text": [
      "D:\\anaconda\\envs\\tensorflow\\lib\\site-packages\\sklearn\\neural_network\\_multilayer_perceptron.py:702: ConvergenceWarning: Stochastic Optimizer: Maximum iterations (20) reached and the optimization hasn't converged yet.\n",
      "  warnings.warn(\n"
     ]
    },
    {
     "name": "stdout",
     "output_type": "stream",
     "text": [
      "Iteration 4, loss = 0.37786336\n",
      "Iteration 5, loss = 0.33420666\n",
      "Iteration 6, loss = 0.30439732\n",
      "Iteration 7, loss = 0.27681319\n",
      "Iteration 8, loss = 0.25697010\n",
      "Iteration 9, loss = 0.23794063\n",
      "Iteration 10, loss = 0.22503398\n",
      "Iteration 11, loss = 0.20976065\n",
      "Iteration 12, loss = 0.19544509\n",
      "Iteration 13, loss = 0.18320727\n",
      "Iteration 14, loss = 0.17186682\n",
      "Iteration 15, loss = 0.15909601\n",
      "Iteration 16, loss = 0.14875449\n",
      "Iteration 17, loss = 0.13887681\n",
      "Iteration 18, loss = 0.12932751\n",
      "Iteration 19, loss = 0.11909463\n",
      "Iteration 20, loss = 0.11242155\n",
      "Iteration 1, loss = 0.67347554\n",
      "Iteration 2, loss = 0.52377428\n",
      "Iteration 3, loss = 0.44154560\n",
      "Iteration 4, loss = 0.38306926\n",
      "Iteration 5, loss = 0.34147333\n",
      "Iteration 6, loss = 0.31228575\n",
      "Iteration 7, loss = 0.28582031\n"
     ]
    },
    {
     "name": "stderr",
     "output_type": "stream",
     "text": [
      "D:\\anaconda\\envs\\tensorflow\\lib\\site-packages\\sklearn\\neural_network\\_multilayer_perceptron.py:702: ConvergenceWarning: Stochastic Optimizer: Maximum iterations (20) reached and the optimization hasn't converged yet.\n",
      "  warnings.warn(\n"
     ]
    },
    {
     "name": "stdout",
     "output_type": "stream",
     "text": [
      "Iteration 8, loss = 0.26604331\n",
      "Iteration 9, loss = 0.24665687\n",
      "Iteration 10, loss = 0.23211431\n",
      "Iteration 11, loss = 0.21783529\n",
      "Iteration 12, loss = 0.20249860\n",
      "Iteration 13, loss = 0.19077014\n",
      "Iteration 14, loss = 0.18058480\n",
      "Iteration 15, loss = 0.16747568\n",
      "Iteration 16, loss = 0.15700941\n",
      "Iteration 17, loss = 0.14595947\n",
      "Iteration 18, loss = 0.13543159\n",
      "Iteration 19, loss = 0.12509782\n",
      "Iteration 20, loss = 0.11644463\n",
      "Iteration 1, loss = 0.66983993\n",
      "Iteration 2, loss = 0.52074938\n",
      "Iteration 3, loss = 0.43879929\n"
     ]
    },
    {
     "name": "stderr",
     "output_type": "stream",
     "text": [
      "D:\\anaconda\\envs\\tensorflow\\lib\\site-packages\\sklearn\\neural_network\\_multilayer_perceptron.py:702: ConvergenceWarning: Stochastic Optimizer: Maximum iterations (20) reached and the optimization hasn't converged yet.\n",
      "  warnings.warn(\n"
     ]
    },
    {
     "name": "stdout",
     "output_type": "stream",
     "text": [
      "Iteration 4, loss = 0.38130661\n",
      "Iteration 5, loss = 0.33779941\n",
      "Iteration 6, loss = 0.30745162\n",
      "Iteration 7, loss = 0.28465594\n",
      "Iteration 8, loss = 0.26484143\n",
      "Iteration 9, loss = 0.24666583\n",
      "Iteration 10, loss = 0.23217740\n",
      "Iteration 11, loss = 0.21665269\n",
      "Iteration 12, loss = 0.20181489\n",
      "Iteration 13, loss = 0.19034950\n",
      "Iteration 14, loss = 0.17773847\n",
      "Iteration 15, loss = 0.16542390\n",
      "Iteration 16, loss = 0.15427778\n",
      "Iteration 17, loss = 0.14301669\n",
      "Iteration 18, loss = 0.13426163\n",
      "Iteration 19, loss = 0.12404171\n",
      "Iteration 20, loss = 0.11576533\n",
      "Iteration 1, loss = 0.67297170\n",
      "Iteration 2, loss = 0.52753872\n",
      "Iteration 3, loss = 0.44694260\n",
      "Iteration 4, loss = 0.38884145\n",
      "Iteration 5, loss = 0.34503450\n",
      "Iteration 6, loss = 0.31424048\n"
     ]
    },
    {
     "name": "stderr",
     "output_type": "stream",
     "text": [
      "D:\\anaconda\\envs\\tensorflow\\lib\\site-packages\\sklearn\\neural_network\\_multilayer_perceptron.py:702: ConvergenceWarning: Stochastic Optimizer: Maximum iterations (20) reached and the optimization hasn't converged yet.\n",
      "  warnings.warn(\n"
     ]
    },
    {
     "name": "stdout",
     "output_type": "stream",
     "text": [
      "Iteration 7, loss = 0.28988728\n",
      "Iteration 8, loss = 0.26889242\n",
      "Iteration 9, loss = 0.25131049\n",
      "Iteration 10, loss = 0.23739690\n",
      "Iteration 11, loss = 0.22067017\n",
      "Iteration 12, loss = 0.20491592\n",
      "Iteration 13, loss = 0.19260792\n",
      "Iteration 14, loss = 0.17902691\n",
      "Iteration 15, loss = 0.16691463\n",
      "Iteration 16, loss = 0.15547338\n",
      "Iteration 17, loss = 0.14425440\n",
      "Iteration 18, loss = 0.13579766\n",
      "Iteration 19, loss = 0.12446973\n",
      "Iteration 20, loss = 0.11603029\n",
      "Iteration 1, loss = 0.76412461\n"
     ]
    },
    {
     "name": "stderr",
     "output_type": "stream",
     "text": [
      "D:\\anaconda\\envs\\tensorflow\\lib\\site-packages\\sklearn\\neural_network\\_multilayer_perceptron.py:702: ConvergenceWarning: Stochastic Optimizer: Maximum iterations (20) reached and the optimization hasn't converged yet.\n",
      "  warnings.warn(\n"
     ]
    },
    {
     "name": "stdout",
     "output_type": "stream",
     "text": [
      "Iteration 2, loss = 0.71941256\n",
      "Iteration 3, loss = 0.68470998\n",
      "Iteration 4, loss = 0.65776117\n",
      "Iteration 5, loss = 0.63856828\n",
      "Iteration 6, loss = 0.62292641\n",
      "Iteration 7, loss = 0.60966665\n",
      "Iteration 8, loss = 0.59826641\n",
      "Iteration 9, loss = 0.58689556\n",
      "Iteration 10, loss = 0.57755389\n",
      "Iteration 11, loss = 0.56796735\n",
      "Iteration 12, loss = 0.55946895\n",
      "Iteration 13, loss = 0.55119452\n",
      "Iteration 14, loss = 0.54324257\n",
      "Iteration 15, loss = 0.53534365\n",
      "Iteration 16, loss = 0.52785926\n",
      "Iteration 17, loss = 0.52060929\n",
      "Iteration 18, loss = 0.51408507\n",
      "Iteration 19, loss = 0.50726140\n",
      "Iteration 20, loss = 0.50061350\n",
      "Iteration 1, loss = 0.76636597\n",
      "Iteration 2, loss = 0.72195322\n",
      "Iteration 3, loss = 0.68779902\n",
      "Iteration 4, loss = 0.66130855\n",
      "Iteration 5, loss = 0.64209909\n",
      "Iteration 6, loss = 0.62670396\n"
     ]
    },
    {
     "name": "stderr",
     "output_type": "stream",
     "text": [
      "D:\\anaconda\\envs\\tensorflow\\lib\\site-packages\\sklearn\\neural_network\\_multilayer_perceptron.py:702: ConvergenceWarning: Stochastic Optimizer: Maximum iterations (20) reached and the optimization hasn't converged yet.\n",
      "  warnings.warn(\n"
     ]
    },
    {
     "name": "stdout",
     "output_type": "stream",
     "text": [
      "Iteration 7, loss = 0.61328624\n",
      "Iteration 8, loss = 0.60204206\n",
      "Iteration 9, loss = 0.59103542\n",
      "Iteration 10, loss = 0.58171213\n",
      "Iteration 11, loss = 0.57225588\n",
      "Iteration 12, loss = 0.56385550\n",
      "Iteration 13, loss = 0.55576066\n",
      "Iteration 14, loss = 0.54813417\n",
      "Iteration 15, loss = 0.54039500\n",
      "Iteration 16, loss = 0.53299145\n",
      "Iteration 17, loss = 0.52577496\n",
      "Iteration 18, loss = 0.51914670\n",
      "Iteration 19, loss = 0.51230623\n",
      "Iteration 20, loss = 0.50565809\n",
      "Iteration 1, loss = 0.76290358\n",
      "Iteration 2, loss = 0.71950619\n",
      "Iteration 3, loss = 0.68613018\n"
     ]
    },
    {
     "name": "stderr",
     "output_type": "stream",
     "text": [
      "D:\\anaconda\\envs\\tensorflow\\lib\\site-packages\\sklearn\\neural_network\\_multilayer_perceptron.py:702: ConvergenceWarning: Stochastic Optimizer: Maximum iterations (20) reached and the optimization hasn't converged yet.\n",
      "  warnings.warn(\n"
     ]
    },
    {
     "name": "stdout",
     "output_type": "stream",
     "text": [
      "Iteration 4, loss = 0.66024751\n",
      "Iteration 5, loss = 0.64158569\n",
      "Iteration 6, loss = 0.62634095\n",
      "Iteration 7, loss = 0.61316548\n",
      "Iteration 8, loss = 0.60206620\n",
      "Iteration 9, loss = 0.59163141\n",
      "Iteration 10, loss = 0.58218945\n",
      "Iteration 11, loss = 0.57291643\n",
      "Iteration 12, loss = 0.56457414\n",
      "Iteration 13, loss = 0.55672015\n",
      "Iteration 14, loss = 0.54896842\n",
      "Iteration 15, loss = 0.54121661\n",
      "Iteration 16, loss = 0.53390850\n",
      "Iteration 17, loss = 0.52686787\n",
      "Iteration 18, loss = 0.52002486\n",
      "Iteration 19, loss = 0.51319960\n",
      "Iteration 20, loss = 0.50668970\n",
      "Iteration 1, loss = 0.76555450\n",
      "Iteration 2, loss = 0.72132990\n",
      "Iteration 3, loss = 0.68706828\n",
      "Iteration 4, loss = 0.66051505\n",
      "Iteration 5, loss = 0.64142509\n",
      "Iteration 6, loss = 0.62577289\n",
      "Iteration 7, loss = 0.61230147\n"
     ]
    },
    {
     "name": "stderr",
     "output_type": "stream",
     "text": [
      "D:\\anaconda\\envs\\tensorflow\\lib\\site-packages\\sklearn\\neural_network\\_multilayer_perceptron.py:702: ConvergenceWarning: Stochastic Optimizer: Maximum iterations (20) reached and the optimization hasn't converged yet.\n",
      "  warnings.warn(\n"
     ]
    },
    {
     "name": "stdout",
     "output_type": "stream",
     "text": [
      "Iteration 8, loss = 0.60096407\n",
      "Iteration 9, loss = 0.59031859\n",
      "Iteration 10, loss = 0.58061214\n",
      "Iteration 11, loss = 0.57115147\n",
      "Iteration 12, loss = 0.56251759\n",
      "Iteration 13, loss = 0.55447302\n",
      "Iteration 14, loss = 0.54651905\n",
      "Iteration 15, loss = 0.53851713\n",
      "Iteration 16, loss = 0.53114623\n",
      "Iteration 17, loss = 0.52403928\n",
      "Iteration 18, loss = 0.51718196\n",
      "Iteration 19, loss = 0.51026598\n",
      "Iteration 20, loss = 0.50342686\n",
      "Iteration 1, loss = 0.76278866\n",
      "Iteration 2, loss = 0.71690859\n",
      "Iteration 3, loss = 0.68277445\n",
      "Iteration 4, loss = 0.65613219\n"
     ]
    },
    {
     "name": "stderr",
     "output_type": "stream",
     "text": [
      "D:\\anaconda\\envs\\tensorflow\\lib\\site-packages\\sklearn\\neural_network\\_multilayer_perceptron.py:702: ConvergenceWarning: Stochastic Optimizer: Maximum iterations (20) reached and the optimization hasn't converged yet.\n",
      "  warnings.warn(\n"
     ]
    },
    {
     "name": "stdout",
     "output_type": "stream",
     "text": [
      "Iteration 5, loss = 0.63720138\n",
      "Iteration 6, loss = 0.62155584\n",
      "Iteration 7, loss = 0.60814606\n",
      "Iteration 8, loss = 0.59663393\n",
      "Iteration 9, loss = 0.58619289\n",
      "Iteration 10, loss = 0.57638735\n",
      "Iteration 11, loss = 0.56678866\n",
      "Iteration 12, loss = 0.55816667\n",
      "Iteration 13, loss = 0.55043035\n",
      "Iteration 14, loss = 0.54227870\n",
      "Iteration 15, loss = 0.53458808\n",
      "Iteration 16, loss = 0.52711822\n",
      "Iteration 17, loss = 0.52005745\n",
      "Iteration 18, loss = 0.51310354\n",
      "Iteration 19, loss = 0.50627223\n",
      "Iteration 20, loss = 0.49940026\n"
     ]
    },
    {
     "name": "stderr",
     "output_type": "stream",
     "text": [
      "D:\\anaconda\\envs\\tensorflow\\lib\\site-packages\\sklearn\\neural_network\\_multilayer_perceptron.py:702: ConvergenceWarning: Stochastic Optimizer: Maximum iterations (20) reached and the optimization hasn't converged yet.\n",
      "  warnings.warn(\n"
     ]
    },
    {
     "name": "stdout",
     "output_type": "stream",
     "text": [
      "Iteration 1, loss = 0.76517945\n",
      "Iteration 2, loss = 0.71990547\n",
      "Iteration 3, loss = 0.68595821\n",
      "Iteration 4, loss = 0.65924409\n",
      "Iteration 5, loss = 0.64006086\n",
      "Iteration 6, loss = 0.62443644\n",
      "Iteration 7, loss = 0.61119026\n",
      "Iteration 8, loss = 0.59963517\n",
      "Iteration 9, loss = 0.58932499\n",
      "Iteration 10, loss = 0.57976839\n",
      "Iteration 11, loss = 0.57034124\n",
      "Iteration 12, loss = 0.56177538\n",
      "Iteration 13, loss = 0.55413020\n",
      "Iteration 14, loss = 0.54583044\n",
      "Iteration 15, loss = 0.53825260\n",
      "Iteration 16, loss = 0.53088964\n",
      "Iteration 17, loss = 0.52371068\n",
      "Iteration 18, loss = 0.51697731\n",
      "Iteration 19, loss = 0.51000824\n",
      "Iteration 20, loss = 0.50320889\n",
      "Iteration 1, loss = 0.76732329\n",
      "Iteration 2, loss = 0.72001082\n",
      "Iteration 3, loss = 0.68438423\n",
      "Iteration 4, loss = 0.65710563\n"
     ]
    },
    {
     "name": "stderr",
     "output_type": "stream",
     "text": [
      "D:\\anaconda\\envs\\tensorflow\\lib\\site-packages\\sklearn\\neural_network\\_multilayer_perceptron.py:702: ConvergenceWarning: Stochastic Optimizer: Maximum iterations (20) reached and the optimization hasn't converged yet.\n",
      "  warnings.warn(\n"
     ]
    },
    {
     "name": "stdout",
     "output_type": "stream",
     "text": [
      "Iteration 5, loss = 0.63770200\n",
      "Iteration 6, loss = 0.62202942\n",
      "Iteration 7, loss = 0.60858429\n",
      "Iteration 8, loss = 0.59696003\n",
      "Iteration 9, loss = 0.58636429\n",
      "Iteration 10, loss = 0.57684966\n",
      "Iteration 11, loss = 0.56741777\n",
      "Iteration 12, loss = 0.55896142\n",
      "Iteration 13, loss = 0.55107263\n",
      "Iteration 14, loss = 0.54283365\n",
      "Iteration 15, loss = 0.53504257\n",
      "Iteration 16, loss = 0.52798784\n",
      "Iteration 17, loss = 0.52056519\n",
      "Iteration 18, loss = 0.51393157\n",
      "Iteration 19, loss = 0.50711769\n",
      "Iteration 20, loss = 0.50014021\n",
      "Iteration 1, loss = 0.76172963\n"
     ]
    },
    {
     "name": "stderr",
     "output_type": "stream",
     "text": [
      "D:\\anaconda\\envs\\tensorflow\\lib\\site-packages\\sklearn\\neural_network\\_multilayer_perceptron.py:702: ConvergenceWarning: Stochastic Optimizer: Maximum iterations (20) reached and the optimization hasn't converged yet.\n",
      "  warnings.warn(\n"
     ]
    },
    {
     "name": "stdout",
     "output_type": "stream",
     "text": [
      "Iteration 2, loss = 0.71796642\n",
      "Iteration 3, loss = 0.68434865\n",
      "Iteration 4, loss = 0.65906915\n",
      "Iteration 5, loss = 0.64011509\n",
      "Iteration 6, loss = 0.62466007\n",
      "Iteration 7, loss = 0.61135573\n",
      "Iteration 8, loss = 0.59972230\n",
      "Iteration 9, loss = 0.58907395\n",
      "Iteration 10, loss = 0.57948267\n",
      "Iteration 11, loss = 0.56995864\n",
      "Iteration 12, loss = 0.56132038\n",
      "Iteration 13, loss = 0.55326581\n",
      "Iteration 14, loss = 0.54523786\n",
      "Iteration 15, loss = 0.53707812\n",
      "Iteration 16, loss = 0.53014239\n",
      "Iteration 17, loss = 0.52236684\n",
      "Iteration 18, loss = 0.51541066\n",
      "Iteration 19, loss = 0.50851789\n",
      "Iteration 20, loss = 0.50170955\n",
      "Iteration 1, loss = 0.76100137\n",
      "Iteration 2, loss = 0.71568095\n",
      "Iteration 3, loss = 0.68106927\n",
      "Iteration 4, loss = 0.65515179\n",
      "Iteration 5, loss = 0.63620916\n",
      "Iteration 6, loss = 0.62041821\n"
     ]
    },
    {
     "name": "stderr",
     "output_type": "stream",
     "text": [
      "D:\\anaconda\\envs\\tensorflow\\lib\\site-packages\\sklearn\\neural_network\\_multilayer_perceptron.py:702: ConvergenceWarning: Stochastic Optimizer: Maximum iterations (20) reached and the optimization hasn't converged yet.\n",
      "  warnings.warn(\n"
     ]
    },
    {
     "name": "stdout",
     "output_type": "stream",
     "text": [
      "Iteration 7, loss = 0.60738107\n",
      "Iteration 8, loss = 0.59568498\n",
      "Iteration 9, loss = 0.58529285\n",
      "Iteration 10, loss = 0.57545926\n",
      "Iteration 11, loss = 0.56598136\n",
      "Iteration 12, loss = 0.55759407\n",
      "Iteration 13, loss = 0.54923746\n",
      "Iteration 14, loss = 0.54176467\n",
      "Iteration 15, loss = 0.53372027\n",
      "Iteration 16, loss = 0.52593883\n",
      "Iteration 17, loss = 0.51900864\n",
      "Iteration 18, loss = 0.51178960\n",
      "Iteration 19, loss = 0.50523642\n",
      "Iteration 20, loss = 0.49858776\n",
      "Iteration 1, loss = 0.76024095\n",
      "Iteration 2, loss = 0.71792357\n"
     ]
    },
    {
     "name": "stderr",
     "output_type": "stream",
     "text": [
      "D:\\anaconda\\envs\\tensorflow\\lib\\site-packages\\sklearn\\neural_network\\_multilayer_perceptron.py:702: ConvergenceWarning: Stochastic Optimizer: Maximum iterations (20) reached and the optimization hasn't converged yet.\n",
      "  warnings.warn(\n"
     ]
    },
    {
     "name": "stdout",
     "output_type": "stream",
     "text": [
      "Iteration 3, loss = 0.68473719\n",
      "Iteration 4, loss = 0.65964551\n",
      "Iteration 5, loss = 0.64105147\n",
      "Iteration 6, loss = 0.62563609\n",
      "Iteration 7, loss = 0.61259375\n",
      "Iteration 8, loss = 0.60118788\n",
      "Iteration 9, loss = 0.59085086\n",
      "Iteration 10, loss = 0.58124738\n",
      "Iteration 11, loss = 0.57211009\n",
      "Iteration 12, loss = 0.56397781\n",
      "Iteration 13, loss = 0.55599897\n",
      "Iteration 14, loss = 0.54851988\n",
      "Iteration 15, loss = 0.54105108\n",
      "Iteration 16, loss = 0.53340480\n",
      "Iteration 17, loss = 0.52666460\n",
      "Iteration 18, loss = 0.51947233\n",
      "Iteration 19, loss = 0.51307289\n",
      "Iteration 20, loss = 0.50660843\n"
     ]
    },
    {
     "name": "stderr",
     "output_type": "stream",
     "text": [
      "D:\\anaconda\\envs\\tensorflow\\lib\\site-packages\\sklearn\\neural_network\\_multilayer_perceptron.py:702: ConvergenceWarning: Stochastic Optimizer: Maximum iterations (20) reached and the optimization hasn't converged yet.\n",
      "  warnings.warn(\n",
      "D:\\anaconda\\envs\\tensorflow\\lib\\site-packages\\sklearn\\neural_network\\_multilayer_perceptron.py:559: ConvergenceWarning: lbfgs failed to converge (status=1):\n",
      "STOP: TOTAL NO. of ITERATIONS REACHED LIMIT.\n",
      "\n",
      "Increase the number of iterations (max_iter) or scale the data as shown in:\n",
      "    https://scikit-learn.org/stable/modules/preprocessing.html\n",
      "  self.n_iter_ = _check_optimize_result(\"lbfgs\", opt_res, self.max_iter)\n",
      "D:\\anaconda\\envs\\tensorflow\\lib\\site-packages\\sklearn\\neural_network\\_multilayer_perceptron.py:559: ConvergenceWarning: lbfgs failed to converge (status=1):\n",
      "STOP: TOTAL NO. of ITERATIONS REACHED LIMIT.\n",
      "\n",
      "Increase the number of iterations (max_iter) or scale the data as shown in:\n",
      "    https://scikit-learn.org/stable/modules/preprocessing.html\n",
      "  self.n_iter_ = _check_optimize_result(\"lbfgs\", opt_res, self.max_iter)\n",
      "D:\\anaconda\\envs\\tensorflow\\lib\\site-packages\\sklearn\\neural_network\\_multilayer_perceptron.py:559: ConvergenceWarning: lbfgs failed to converge (status=1):\n",
      "STOP: TOTAL NO. of ITERATIONS REACHED LIMIT.\n",
      "\n",
      "Increase the number of iterations (max_iter) or scale the data as shown in:\n",
      "    https://scikit-learn.org/stable/modules/preprocessing.html\n",
      "  self.n_iter_ = _check_optimize_result(\"lbfgs\", opt_res, self.max_iter)\n",
      "D:\\anaconda\\envs\\tensorflow\\lib\\site-packages\\sklearn\\neural_network\\_multilayer_perceptron.py:559: ConvergenceWarning: lbfgs failed to converge (status=1):\n",
      "STOP: TOTAL NO. of ITERATIONS REACHED LIMIT.\n",
      "\n",
      "Increase the number of iterations (max_iter) or scale the data as shown in:\n",
      "    https://scikit-learn.org/stable/modules/preprocessing.html\n",
      "  self.n_iter_ = _check_optimize_result(\"lbfgs\", opt_res, self.max_iter)\n",
      "D:\\anaconda\\envs\\tensorflow\\lib\\site-packages\\sklearn\\neural_network\\_multilayer_perceptron.py:559: ConvergenceWarning: lbfgs failed to converge (status=1):\n",
      "STOP: TOTAL NO. of ITERATIONS REACHED LIMIT.\n",
      "\n",
      "Increase the number of iterations (max_iter) or scale the data as shown in:\n",
      "    https://scikit-learn.org/stable/modules/preprocessing.html\n",
      "  self.n_iter_ = _check_optimize_result(\"lbfgs\", opt_res, self.max_iter)\n",
      "D:\\anaconda\\envs\\tensorflow\\lib\\site-packages\\sklearn\\neural_network\\_multilayer_perceptron.py:559: ConvergenceWarning: lbfgs failed to converge (status=1):\n",
      "STOP: TOTAL NO. of ITERATIONS REACHED LIMIT.\n",
      "\n",
      "Increase the number of iterations (max_iter) or scale the data as shown in:\n",
      "    https://scikit-learn.org/stable/modules/preprocessing.html\n",
      "  self.n_iter_ = _check_optimize_result(\"lbfgs\", opt_res, self.max_iter)\n",
      "D:\\anaconda\\envs\\tensorflow\\lib\\site-packages\\sklearn\\neural_network\\_multilayer_perceptron.py:559: ConvergenceWarning: lbfgs failed to converge (status=1):\n",
      "STOP: TOTAL NO. of ITERATIONS REACHED LIMIT.\n",
      "\n",
      "Increase the number of iterations (max_iter) or scale the data as shown in:\n",
      "    https://scikit-learn.org/stable/modules/preprocessing.html\n",
      "  self.n_iter_ = _check_optimize_result(\"lbfgs\", opt_res, self.max_iter)\n",
      "D:\\anaconda\\envs\\tensorflow\\lib\\site-packages\\sklearn\\neural_network\\_multilayer_perceptron.py:559: ConvergenceWarning: lbfgs failed to converge (status=1):\n",
      "STOP: TOTAL NO. of ITERATIONS REACHED LIMIT.\n",
      "\n",
      "Increase the number of iterations (max_iter) or scale the data as shown in:\n",
      "    https://scikit-learn.org/stable/modules/preprocessing.html\n",
      "  self.n_iter_ = _check_optimize_result(\"lbfgs\", opt_res, self.max_iter)\n",
      "D:\\anaconda\\envs\\tensorflow\\lib\\site-packages\\sklearn\\neural_network\\_multilayer_perceptron.py:559: ConvergenceWarning: lbfgs failed to converge (status=1):\n",
      "STOP: TOTAL NO. of ITERATIONS REACHED LIMIT.\n",
      "\n",
      "Increase the number of iterations (max_iter) or scale the data as shown in:\n",
      "    https://scikit-learn.org/stable/modules/preprocessing.html\n",
      "  self.n_iter_ = _check_optimize_result(\"lbfgs\", opt_res, self.max_iter)\n",
      "D:\\anaconda\\envs\\tensorflow\\lib\\site-packages\\sklearn\\neural_network\\_multilayer_perceptron.py:559: ConvergenceWarning: lbfgs failed to converge (status=1):\n",
      "STOP: TOTAL NO. of ITERATIONS REACHED LIMIT.\n",
      "\n",
      "Increase the number of iterations (max_iter) or scale the data as shown in:\n",
      "    https://scikit-learn.org/stable/modules/preprocessing.html\n",
      "  self.n_iter_ = _check_optimize_result(\"lbfgs\", opt_res, self.max_iter)\n"
     ]
    },
    {
     "name": "stdout",
     "output_type": "stream",
     "text": [
      "Iteration 1, loss = 0.93714932\n",
      "Iteration 2, loss = 0.91610797\n",
      "Iteration 3, loss = 0.89997942\n",
      "Iteration 4, loss = 0.88784109\n",
      "Iteration 5, loss = 0.87833348\n",
      "Iteration 6, loss = 0.87081577\n",
      "Iteration 7, loss = 0.86440169\n",
      "Iteration 8, loss = 0.85872339\n",
      "Iteration 9, loss = 0.85366352\n",
      "Iteration 10, loss = 0.84890315\n",
      "Iteration 11, loss = 0.84438712\n",
      "Iteration 12, loss = 0.84012067\n",
      "Iteration 13, loss = 0.83588401\n",
      "Iteration 14, loss = 0.83172772\n",
      "Iteration 15, loss = 0.82767898\n",
      "Iteration 16, loss = 0.82362464\n",
      "Iteration 17, loss = 0.81957876\n",
      "Iteration 18, loss = 0.81547321\n",
      "Iteration 19, loss = 0.81125952\n",
      "Iteration 20, loss = 0.80683315\n",
      "Iteration 1, loss = 0.93236559\n",
      "Iteration 2, loss = 0.91144100\n",
      "Iteration 3, loss = 0.89533913\n",
      "Iteration 4, loss = 0.88325524\n",
      "Iteration 5, loss = 0.87382127\n",
      "Iteration 6, loss = 0.86631863\n",
      "Iteration 7, loss = 0.85990676\n",
      "Iteration 8, loss = 0.85426947\n",
      "Iteration 9, loss = 0.84926209\n",
      "Iteration 10, loss = 0.84460827\n",
      "Iteration 11, loss = 0.84016003\n",
      "Iteration 12, loss = 0.83593343\n",
      "Iteration 13, loss = 0.83180564\n",
      "Iteration 14, loss = 0.82774131\n",
      "Iteration 15, loss = 0.82379389\n",
      "Iteration 16, loss = 0.81987223\n",
      "Iteration 17, loss = 0.81596711\n",
      "Iteration 18, loss = 0.81204383\n"
     ]
    },
    {
     "name": "stderr",
     "output_type": "stream",
     "text": [
      "D:\\anaconda\\envs\\tensorflow\\lib\\site-packages\\sklearn\\neural_network\\_multilayer_perceptron.py:702: ConvergenceWarning: Stochastic Optimizer: Maximum iterations (20) reached and the optimization hasn't converged yet.\n",
      "  warnings.warn(\n"
     ]
    },
    {
     "name": "stdout",
     "output_type": "stream",
     "text": [
      "Iteration 19, loss = 0.80806304\n",
      "Iteration 20, loss = 0.80394695\n",
      "Iteration 1, loss = 0.92752309\n",
      "Iteration 2, loss = 0.90702543\n",
      "Iteration 3, loss = 0.89136122\n",
      "Iteration 4, loss = 0.87961090\n",
      "Iteration 5, loss = 0.87035825\n",
      "Iteration 6, loss = 0.86305141\n",
      "Iteration 7, loss = 0.85676757\n",
      "Iteration 8, loss = 0.85122880\n",
      "Iteration 9, loss = 0.84628576\n",
      "Iteration 10, loss = 0.84169447\n",
      "Iteration 11, loss = 0.83732240\n",
      "Iteration 12, loss = 0.83313091\n",
      "Iteration 13, loss = 0.82904929\n",
      "Iteration 14, loss = 0.82503071\n",
      "Iteration 15, loss = 0.82108420\n",
      "Iteration 16, loss = 0.81717752\n"
     ]
    },
    {
     "name": "stderr",
     "output_type": "stream",
     "text": [
      "D:\\anaconda\\envs\\tensorflow\\lib\\site-packages\\sklearn\\neural_network\\_multilayer_perceptron.py:702: ConvergenceWarning: Stochastic Optimizer: Maximum iterations (20) reached and the optimization hasn't converged yet.\n",
      "  warnings.warn(\n"
     ]
    },
    {
     "name": "stdout",
     "output_type": "stream",
     "text": [
      "Iteration 17, loss = 0.81325778\n",
      "Iteration 18, loss = 0.80927742\n",
      "Iteration 19, loss = 0.80521117\n",
      "Iteration 20, loss = 0.80096886\n",
      "Iteration 1, loss = 0.93613190\n",
      "Iteration 2, loss = 0.91497792\n",
      "Iteration 3, loss = 0.89884286\n",
      "Iteration 4, loss = 0.88673689\n",
      "Iteration 5, loss = 0.87721044\n",
      "Iteration 6, loss = 0.86966360\n",
      "Iteration 7, loss = 0.86322518\n",
      "Iteration 8, loss = 0.85754561\n",
      "Iteration 9, loss = 0.85247728\n",
      "Iteration 10, loss = 0.84776328\n",
      "Iteration 11, loss = 0.84332369\n",
      "Iteration 12, loss = 0.83903955\n",
      "Iteration 13, loss = 0.83486129\n",
      "Iteration 14, loss = 0.83080400\n"
     ]
    },
    {
     "name": "stderr",
     "output_type": "stream",
     "text": [
      "D:\\anaconda\\envs\\tensorflow\\lib\\site-packages\\sklearn\\neural_network\\_multilayer_perceptron.py:702: ConvergenceWarning: Stochastic Optimizer: Maximum iterations (20) reached and the optimization hasn't converged yet.\n",
      "  warnings.warn(\n"
     ]
    },
    {
     "name": "stdout",
     "output_type": "stream",
     "text": [
      "Iteration 15, loss = 0.82677756\n",
      "Iteration 16, loss = 0.82287381\n",
      "Iteration 17, loss = 0.81895183\n",
      "Iteration 18, loss = 0.81505817\n",
      "Iteration 19, loss = 0.81110993\n",
      "Iteration 20, loss = 0.80712417\n",
      "Iteration 1, loss = 0.92736946\n",
      "Iteration 2, loss = 0.90665737\n",
      "Iteration 3, loss = 0.89091470\n",
      "Iteration 4, loss = 0.87911680\n",
      "Iteration 5, loss = 0.86976394\n",
      "Iteration 6, loss = 0.86243199\n",
      "Iteration 7, loss = 0.85611756\n",
      "Iteration 8, loss = 0.85063444\n",
      "Iteration 9, loss = 0.84568629\n",
      "Iteration 10, loss = 0.84114256\n",
      "Iteration 11, loss = 0.83677733\n",
      "Iteration 12, loss = 0.83259819\n",
      "Iteration 13, loss = 0.82847589\n",
      "Iteration 14, loss = 0.82444407\n"
     ]
    },
    {
     "name": "stderr",
     "output_type": "stream",
     "text": [
      "D:\\anaconda\\envs\\tensorflow\\lib\\site-packages\\sklearn\\neural_network\\_multilayer_perceptron.py:702: ConvergenceWarning: Stochastic Optimizer: Maximum iterations (20) reached and the optimization hasn't converged yet.\n",
      "  warnings.warn(\n"
     ]
    },
    {
     "name": "stdout",
     "output_type": "stream",
     "text": [
      "Iteration 15, loss = 0.82039224\n",
      "Iteration 16, loss = 0.81636806\n",
      "Iteration 17, loss = 0.81223028\n",
      "Iteration 18, loss = 0.80799665\n",
      "Iteration 19, loss = 0.80349222\n",
      "Iteration 20, loss = 0.79879133\n",
      "Iteration 1, loss = 0.93272913\n",
      "Iteration 2, loss = 0.91191929\n",
      "Iteration 3, loss = 0.89596126\n",
      "Iteration 4, loss = 0.88405814\n",
      "Iteration 5, loss = 0.87465443\n",
      "Iteration 6, loss = 0.86722174\n",
      "Iteration 7, loss = 0.86080599\n",
      "Iteration 8, loss = 0.85530621\n",
      "Iteration 9, loss = 0.85022240\n",
      "Iteration 10, loss = 0.84561854\n",
      "Iteration 11, loss = 0.84119669\n",
      "Iteration 12, loss = 0.83693214\n"
     ]
    },
    {
     "name": "stderr",
     "output_type": "stream",
     "text": [
      "D:\\anaconda\\envs\\tensorflow\\lib\\site-packages\\sklearn\\neural_network\\_multilayer_perceptron.py:702: ConvergenceWarning: Stochastic Optimizer: Maximum iterations (20) reached and the optimization hasn't converged yet.\n",
      "  warnings.warn(\n"
     ]
    },
    {
     "name": "stdout",
     "output_type": "stream",
     "text": [
      "Iteration 13, loss = 0.83277903\n",
      "Iteration 14, loss = 0.82873931\n",
      "Iteration 15, loss = 0.82465225\n",
      "Iteration 16, loss = 0.82070732\n",
      "Iteration 17, loss = 0.81664504\n",
      "Iteration 18, loss = 0.81261575\n",
      "Iteration 19, loss = 0.80840329\n",
      "Iteration 20, loss = 0.80401929\n",
      "Iteration 1, loss = 0.93671904\n",
      "Iteration 2, loss = 0.91578154\n",
      "Iteration 3, loss = 0.89965103\n",
      "Iteration 4, loss = 0.88759600\n",
      "Iteration 5, loss = 0.87800676\n",
      "Iteration 6, loss = 0.87046446\n",
      "Iteration 7, loss = 0.86391659\n",
      "Iteration 8, loss = 0.85837525\n",
      "Iteration 9, loss = 0.85320874\n",
      "Iteration 10, loss = 0.84855066\n",
      "Iteration 11, loss = 0.84408104\n",
      "Iteration 12, loss = 0.83975185\n"
     ]
    },
    {
     "name": "stderr",
     "output_type": "stream",
     "text": [
      "D:\\anaconda\\envs\\tensorflow\\lib\\site-packages\\sklearn\\neural_network\\_multilayer_perceptron.py:702: ConvergenceWarning: Stochastic Optimizer: Maximum iterations (20) reached and the optimization hasn't converged yet.\n",
      "  warnings.warn(\n"
     ]
    },
    {
     "name": "stdout",
     "output_type": "stream",
     "text": [
      "Iteration 13, loss = 0.83557353\n",
      "Iteration 14, loss = 0.83148488\n",
      "Iteration 15, loss = 0.82736812\n",
      "Iteration 16, loss = 0.82338305\n",
      "Iteration 17, loss = 0.81930912\n",
      "Iteration 18, loss = 0.81530706\n",
      "Iteration 19, loss = 0.81110969\n",
      "Iteration 20, loss = 0.80680270\n",
      "Iteration 1, loss = 0.94130502\n",
      "Iteration 2, loss = 0.92001505\n",
      "Iteration 3, loss = 0.90361267\n",
      "Iteration 4, loss = 0.89137544\n",
      "Iteration 5, loss = 0.88172920\n",
      "Iteration 6, loss = 0.87410049\n",
      "Iteration 7, loss = 0.86750382\n",
      "Iteration 8, loss = 0.86188622\n",
      "Iteration 9, loss = 0.85667484\n",
      "Iteration 10, loss = 0.85193070\n"
     ]
    },
    {
     "name": "stderr",
     "output_type": "stream",
     "text": [
      "D:\\anaconda\\envs\\tensorflow\\lib\\site-packages\\sklearn\\neural_network\\_multilayer_perceptron.py:702: ConvergenceWarning: Stochastic Optimizer: Maximum iterations (20) reached and the optimization hasn't converged yet.\n",
      "  warnings.warn(\n"
     ]
    },
    {
     "name": "stdout",
     "output_type": "stream",
     "text": [
      "Iteration 11, loss = 0.84737928\n",
      "Iteration 12, loss = 0.84300436\n",
      "Iteration 13, loss = 0.83877634\n",
      "Iteration 14, loss = 0.83463461\n",
      "Iteration 15, loss = 0.83047580\n",
      "Iteration 16, loss = 0.82645847\n",
      "Iteration 17, loss = 0.82236722\n",
      "Iteration 18, loss = 0.81833359\n",
      "Iteration 19, loss = 0.81417548\n",
      "Iteration 20, loss = 0.80988740\n",
      "Iteration 1, loss = 0.93233245\n",
      "Iteration 2, loss = 0.91158177\n",
      "Iteration 3, loss = 0.89571126\n",
      "Iteration 4, loss = 0.88348061\n",
      "Iteration 5, loss = 0.87425899\n",
      "Iteration 6, loss = 0.86667361\n",
      "Iteration 7, loss = 0.86026840\n"
     ]
    },
    {
     "name": "stderr",
     "output_type": "stream",
     "text": [
      "D:\\anaconda\\envs\\tensorflow\\lib\\site-packages\\sklearn\\neural_network\\_multilayer_perceptron.py:702: ConvergenceWarning: Stochastic Optimizer: Maximum iterations (20) reached and the optimization hasn't converged yet.\n",
      "  warnings.warn(\n"
     ]
    },
    {
     "name": "stdout",
     "output_type": "stream",
     "text": [
      "Iteration 8, loss = 0.85476359\n",
      "Iteration 9, loss = 0.84974251\n",
      "Iteration 10, loss = 0.84512783\n",
      "Iteration 11, loss = 0.84062304\n",
      "Iteration 12, loss = 0.83644838\n",
      "Iteration 13, loss = 0.83232865\n",
      "Iteration 14, loss = 0.82832687\n",
      "Iteration 15, loss = 0.82429785\n",
      "Iteration 16, loss = 0.82034939\n",
      "Iteration 17, loss = 0.81642094\n",
      "Iteration 18, loss = 0.81240700\n",
      "Iteration 19, loss = 0.80833309\n",
      "Iteration 20, loss = 0.80409721\n",
      "Iteration 1, loss = 0.93309452\n",
      "Iteration 2, loss = 0.91241374\n",
      "Iteration 3, loss = 0.89660011\n",
      "Iteration 4, loss = 0.88446985\n",
      "Iteration 5, loss = 0.87527047\n",
      "Iteration 6, loss = 0.86766120\n",
      "Iteration 7, loss = 0.86130434\n"
     ]
    },
    {
     "name": "stderr",
     "output_type": "stream",
     "text": [
      "D:\\anaconda\\envs\\tensorflow\\lib\\site-packages\\sklearn\\neural_network\\_multilayer_perceptron.py:702: ConvergenceWarning: Stochastic Optimizer: Maximum iterations (20) reached and the optimization hasn't converged yet.\n",
      "  warnings.warn(\n"
     ]
    },
    {
     "name": "stdout",
     "output_type": "stream",
     "text": [
      "Iteration 8, loss = 0.85577778\n",
      "Iteration 9, loss = 0.85072458\n",
      "Iteration 10, loss = 0.84608733\n",
      "Iteration 11, loss = 0.84157506\n",
      "Iteration 12, loss = 0.83738148\n",
      "Iteration 13, loss = 0.83325113\n",
      "Iteration 14, loss = 0.82922818\n",
      "Iteration 15, loss = 0.82518681\n",
      "Iteration 16, loss = 0.82124620\n",
      "Iteration 17, loss = 0.81730679\n",
      "Iteration 18, loss = 0.81326290\n",
      "Iteration 19, loss = 0.80920406\n",
      "Iteration 20, loss = 0.80496825\n",
      "Iteration 1, loss = 0.93254898\n",
      "Iteration 2, loss = 0.88318383\n",
      "Iteration 3, loss = 0.83982698\n",
      "Iteration 4, loss = 0.80908731\n",
      "Iteration 5, loss = 0.78808952\n",
      "Iteration 6, loss = 0.77436686\n",
      "Iteration 7, loss = 0.76476392\n"
     ]
    },
    {
     "name": "stderr",
     "output_type": "stream",
     "text": [
      "D:\\anaconda\\envs\\tensorflow\\lib\\site-packages\\sklearn\\neural_network\\_multilayer_perceptron.py:702: ConvergenceWarning: Stochastic Optimizer: Maximum iterations (20) reached and the optimization hasn't converged yet.\n",
      "  warnings.warn(\n",
      "D:\\anaconda\\envs\\tensorflow\\lib\\site-packages\\sklearn\\neural_network\\_multilayer_perceptron.py:702: ConvergenceWarning: Stochastic Optimizer: Maximum iterations (20) reached and the optimization hasn't converged yet.\n",
      "  warnings.warn(\n"
     ]
    },
    {
     "name": "stdout",
     "output_type": "stream",
     "text": [
      "Iteration 8, loss = 0.75735105\n",
      "Iteration 9, loss = 0.75139159\n",
      "Iteration 10, loss = 0.74587546\n",
      "Iteration 11, loss = 0.74081923\n",
      "Iteration 12, loss = 0.73612081\n",
      "Iteration 13, loss = 0.73132468\n",
      "Iteration 14, loss = 0.72653359\n",
      "Iteration 15, loss = 0.72197441\n",
      "Iteration 16, loss = 0.71757156\n",
      "Iteration 17, loss = 0.71314195\n",
      "Iteration 18, loss = 0.70868661\n",
      "Iteration 19, loss = 0.70441597\n",
      "Iteration 20, loss = 0.70021027\n",
      "Iteration 1, loss = 0.92781793\n",
      "Iteration 2, loss = 0.87848177\n",
      "Iteration 3, loss = 0.83538362\n",
      "Iteration 4, loss = 0.80510632\n",
      "Iteration 5, loss = 0.78474359\n",
      "Iteration 6, loss = 0.77160080\n",
      "Iteration 7, loss = 0.76240857\n",
      "Iteration 8, loss = 0.75542997\n",
      "Iteration 9, loss = 0.74985690\n",
      "Iteration 10, loss = 0.74479240\n",
      "Iteration 11, loss = 0.74006381\n",
      "Iteration 12, loss = 0.73558720\n",
      "Iteration 13, loss = 0.73122224\n",
      "Iteration 14, loss = 0.72687061\n",
      "Iteration 15, loss = 0.72260721\n",
      "Iteration 16, loss = 0.71869039\n",
      "Iteration 17, loss = 0.71463339\n",
      "Iteration 18, loss = 0.71062347\n",
      "Iteration 19, loss = 0.70667739\n",
      "Iteration 20, loss = 0.70267121\n",
      "Iteration 1, loss = 0.92351804\n",
      "Iteration 2, loss = 0.87650699\n",
      "Iteration 3, loss = 0.83515315\n",
      "Iteration 4, loss = 0.80587169\n",
      "Iteration 5, loss = 0.78562918\n",
      "Iteration 6, loss = 0.77257617\n",
      "Iteration 7, loss = 0.76322559\n",
      "Iteration 8, loss = 0.75611533\n",
      "Iteration 9, loss = 0.75040345\n",
      "Iteration 10, loss = 0.74527417\n",
      "Iteration 11, loss = 0.74050931\n"
     ]
    },
    {
     "name": "stderr",
     "output_type": "stream",
     "text": [
      "D:\\anaconda\\envs\\tensorflow\\lib\\site-packages\\sklearn\\neural_network\\_multilayer_perceptron.py:702: ConvergenceWarning: Stochastic Optimizer: Maximum iterations (20) reached and the optimization hasn't converged yet.\n",
      "  warnings.warn(\n",
      "D:\\anaconda\\envs\\tensorflow\\lib\\site-packages\\sklearn\\neural_network\\_multilayer_perceptron.py:702: ConvergenceWarning: Stochastic Optimizer: Maximum iterations (20) reached and the optimization hasn't converged yet.\n",
      "  warnings.warn(\n"
     ]
    },
    {
     "name": "stdout",
     "output_type": "stream",
     "text": [
      "Iteration 12, loss = 0.73598211\n",
      "Iteration 13, loss = 0.73162006\n",
      "Iteration 14, loss = 0.72728743\n",
      "Iteration 15, loss = 0.72318282\n",
      "Iteration 16, loss = 0.71938543\n",
      "Iteration 17, loss = 0.71549383\n",
      "Iteration 18, loss = 0.71158767\n",
      "Iteration 19, loss = 0.70782199\n",
      "Iteration 20, loss = 0.70401050\n",
      "Iteration 1, loss = 0.93144493\n",
      "Iteration 2, loss = 0.88164187\n",
      "Iteration 3, loss = 0.83829089\n",
      "Iteration 4, loss = 0.80775675\n",
      "Iteration 5, loss = 0.78677695\n",
      "Iteration 6, loss = 0.77328427\n",
      "Iteration 7, loss = 0.76386589\n",
      "Iteration 8, loss = 0.75661948\n",
      "Iteration 9, loss = 0.75078028\n",
      "Iteration 10, loss = 0.74547028\n",
      "Iteration 11, loss = 0.74058507\n",
      "Iteration 12, loss = 0.73588286\n",
      "Iteration 13, loss = 0.73124789\n",
      "Iteration 14, loss = 0.72668281\n",
      "Iteration 15, loss = 0.72219525\n",
      "Iteration 16, loss = 0.71803981\n",
      "Iteration 17, loss = 0.71379218\n",
      "Iteration 18, loss = 0.70956011\n",
      "Iteration 19, loss = 0.70539861\n",
      "Iteration 20, loss = 0.70144477\n",
      "Iteration 1, loss = 0.92303541\n",
      "Iteration 2, loss = 0.87547892\n",
      "Iteration 3, loss = 0.83403220\n",
      "Iteration 4, loss = 0.80470143\n",
      "Iteration 5, loss = 0.78418111\n",
      "Iteration 6, loss = 0.77109624\n",
      "Iteration 7, loss = 0.76176565\n",
      "Iteration 8, loss = 0.75483837\n",
      "Iteration 9, loss = 0.74913702\n",
      "Iteration 10, loss = 0.74416177\n",
      "Iteration 11, loss = 0.73936667\n",
      "Iteration 12, loss = 0.73490436\n",
      "Iteration 13, loss = 0.73038478\n",
      "Iteration 14, loss = 0.72589964\n",
      "Iteration 15, loss = 0.72152444\n",
      "Iteration 16, loss = 0.71734467\n"
     ]
    },
    {
     "name": "stderr",
     "output_type": "stream",
     "text": [
      "D:\\anaconda\\envs\\tensorflow\\lib\\site-packages\\sklearn\\neural_network\\_multilayer_perceptron.py:702: ConvergenceWarning: Stochastic Optimizer: Maximum iterations (20) reached and the optimization hasn't converged yet.\n",
      "  warnings.warn(\n",
      "D:\\anaconda\\envs\\tensorflow\\lib\\site-packages\\sklearn\\neural_network\\_multilayer_perceptron.py:702: ConvergenceWarning: Stochastic Optimizer: Maximum iterations (20) reached and the optimization hasn't converged yet.\n",
      "  warnings.warn(\n"
     ]
    },
    {
     "name": "stdout",
     "output_type": "stream",
     "text": [
      "Iteration 17, loss = 0.71302205\n",
      "Iteration 18, loss = 0.70876282\n",
      "Iteration 19, loss = 0.70466272\n",
      "Iteration 20, loss = 0.70076321\n",
      "Iteration 1, loss = 0.92819955\n",
      "Iteration 2, loss = 0.88003034\n",
      "Iteration 3, loss = 0.83766309\n",
      "Iteration 4, loss = 0.80771261\n",
      "Iteration 5, loss = 0.78686246\n",
      "Iteration 6, loss = 0.77344768\n",
      "Iteration 7, loss = 0.76382298\n",
      "Iteration 8, loss = 0.75694480\n",
      "Iteration 9, loss = 0.75091924\n",
      "Iteration 10, loss = 0.74579176\n",
      "Iteration 11, loss = 0.74082470\n",
      "Iteration 12, loss = 0.73614835\n",
      "Iteration 13, loss = 0.73160419\n",
      "Iteration 14, loss = 0.72700182\n",
      "Iteration 15, loss = 0.72232070\n",
      "Iteration 16, loss = 0.71808359\n",
      "Iteration 17, loss = 0.71359742\n",
      "Iteration 18, loss = 0.70922151\n",
      "Iteration 19, loss = 0.70497787\n",
      "Iteration 20, loss = 0.70092278\n",
      "Iteration 1, loss = 0.93188553\n",
      "Iteration 2, loss = 0.88285927\n",
      "Iteration 3, loss = 0.83972877\n",
      "Iteration 4, loss = 0.80923867\n",
      "Iteration 5, loss = 0.78790249\n",
      "Iteration 6, loss = 0.77430950\n",
      "Iteration 7, loss = 0.76437739\n",
      "Iteration 8, loss = 0.75747487\n",
      "Iteration 9, loss = 0.75116527\n",
      "Iteration 10, loss = 0.74585394\n",
      "Iteration 11, loss = 0.74069144\n",
      "Iteration 12, loss = 0.73574567\n",
      "Iteration 13, loss = 0.73083763\n",
      "Iteration 14, loss = 0.72597789\n",
      "Iteration 15, loss = 0.72124038\n",
      "Iteration 16, loss = 0.71666121\n",
      "Iteration 17, loss = 0.71191313\n",
      "Iteration 18, loss = 0.70722833\n",
      "Iteration 19, loss = 0.70280769\n",
      "Iteration 20, loss = 0.69850308\n"
     ]
    },
    {
     "name": "stderr",
     "output_type": "stream",
     "text": [
      "D:\\anaconda\\envs\\tensorflow\\lib\\site-packages\\sklearn\\neural_network\\_multilayer_perceptron.py:702: ConvergenceWarning: Stochastic Optimizer: Maximum iterations (20) reached and the optimization hasn't converged yet.\n",
      "  warnings.warn(\n",
      "D:\\anaconda\\envs\\tensorflow\\lib\\site-packages\\sklearn\\neural_network\\_multilayer_perceptron.py:702: ConvergenceWarning: Stochastic Optimizer: Maximum iterations (20) reached and the optimization hasn't converged yet.\n",
      "  warnings.warn(\n"
     ]
    },
    {
     "name": "stdout",
     "output_type": "stream",
     "text": [
      "Iteration 1, loss = 0.93640781\n",
      "Iteration 2, loss = 0.88595390\n",
      "Iteration 3, loss = 0.84134709\n",
      "Iteration 4, loss = 0.81001282\n",
      "Iteration 5, loss = 0.78838008\n",
      "Iteration 6, loss = 0.77466078\n",
      "Iteration 7, loss = 0.76467132\n",
      "Iteration 8, loss = 0.75778758\n",
      "Iteration 9, loss = 0.75152461\n",
      "Iteration 10, loss = 0.74621307\n",
      "Iteration 11, loss = 0.74106300\n",
      "Iteration 12, loss = 0.73624684\n",
      "Iteration 13, loss = 0.73155475\n",
      "Iteration 14, loss = 0.72689245\n",
      "Iteration 15, loss = 0.72234525\n",
      "Iteration 16, loss = 0.71809935\n",
      "Iteration 17, loss = 0.71372753\n",
      "Iteration 18, loss = 0.70946428\n",
      "Iteration 19, loss = 0.70524939\n",
      "Iteration 20, loss = 0.70132533\n",
      "Iteration 1, loss = 0.92771794\n",
      "Iteration 2, loss = 0.87979976\n"
     ]
    },
    {
     "name": "stderr",
     "output_type": "stream",
     "text": [
      "D:\\anaconda\\envs\\tensorflow\\lib\\site-packages\\sklearn\\neural_network\\_multilayer_perceptron.py:702: ConvergenceWarning: Stochastic Optimizer: Maximum iterations (20) reached and the optimization hasn't converged yet.\n",
      "  warnings.warn(\n",
      "D:\\anaconda\\envs\\tensorflow\\lib\\site-packages\\sklearn\\neural_network\\_multilayer_perceptron.py:702: ConvergenceWarning: Stochastic Optimizer: Maximum iterations (20) reached and the optimization hasn't converged yet.\n",
      "  warnings.warn(\n"
     ]
    },
    {
     "name": "stdout",
     "output_type": "stream",
     "text": [
      "Iteration 3, loss = 0.83760673\n",
      "Iteration 4, loss = 0.80691987\n",
      "Iteration 5, loss = 0.78695356\n",
      "Iteration 6, loss = 0.77334335\n",
      "Iteration 7, loss = 0.76373349\n",
      "Iteration 8, loss = 0.75688143\n",
      "Iteration 9, loss = 0.75108833\n",
      "Iteration 10, loss = 0.74586494\n",
      "Iteration 11, loss = 0.74081908\n",
      "Iteration 12, loss = 0.73621529\n",
      "Iteration 13, loss = 0.73153397\n",
      "Iteration 14, loss = 0.72699009\n",
      "Iteration 15, loss = 0.72237160\n",
      "Iteration 16, loss = 0.71795831\n",
      "Iteration 17, loss = 0.71361945\n",
      "Iteration 18, loss = 0.70922906\n",
      "Iteration 19, loss = 0.70497131\n",
      "Iteration 20, loss = 0.70101354\n",
      "Iteration 1, loss = 0.92840125\n",
      "Iteration 2, loss = 0.88088157\n",
      "Iteration 3, loss = 0.83909933\n",
      "Iteration 4, loss = 0.80879820\n",
      "Iteration 5, loss = 0.78872846\n",
      "Iteration 6, loss = 0.77489230\n",
      "Iteration 7, loss = 0.76544225\n",
      "Iteration 8, loss = 0.75863941\n",
      "Iteration 9, loss = 0.75291952\n",
      "Iteration 10, loss = 0.74783028\n",
      "Iteration 11, loss = 0.74287230\n",
      "Iteration 12, loss = 0.73839529\n",
      "Iteration 13, loss = 0.73386669\n",
      "Iteration 14, loss = 0.72950263\n",
      "Iteration 15, loss = 0.72517388\n",
      "Iteration 16, loss = 0.72108884\n",
      "Iteration 17, loss = 0.71702389\n",
      "Iteration 18, loss = 0.71294493\n",
      "Iteration 19, loss = 0.70896126\n",
      "Iteration 20, loss = 0.70521154\n"
     ]
    },
    {
     "name": "stderr",
     "output_type": "stream",
     "text": [
      "D:\\anaconda\\envs\\tensorflow\\lib\\site-packages\\sklearn\\neural_network\\_multilayer_perceptron.py:702: ConvergenceWarning: Stochastic Optimizer: Maximum iterations (20) reached and the optimization hasn't converged yet.\n",
      "  warnings.warn(\n",
      "D:\\anaconda\\envs\\tensorflow\\lib\\site-packages\\sklearn\\neural_network\\_multilayer_perceptron.py:559: ConvergenceWarning: lbfgs failed to converge (status=1):\n",
      "STOP: TOTAL NO. of ITERATIONS REACHED LIMIT.\n",
      "\n",
      "Increase the number of iterations (max_iter) or scale the data as shown in:\n",
      "    https://scikit-learn.org/stable/modules/preprocessing.html\n",
      "  self.n_iter_ = _check_optimize_result(\"lbfgs\", opt_res, self.max_iter)\n",
      "D:\\anaconda\\envs\\tensorflow\\lib\\site-packages\\sklearn\\neural_network\\_multilayer_perceptron.py:559: ConvergenceWarning: lbfgs failed to converge (status=1):\n",
      "STOP: TOTAL NO. of ITERATIONS REACHED LIMIT.\n",
      "\n",
      "Increase the number of iterations (max_iter) or scale the data as shown in:\n",
      "    https://scikit-learn.org/stable/modules/preprocessing.html\n",
      "  self.n_iter_ = _check_optimize_result(\"lbfgs\", opt_res, self.max_iter)\n",
      "D:\\anaconda\\envs\\tensorflow\\lib\\site-packages\\sklearn\\neural_network\\_multilayer_perceptron.py:559: ConvergenceWarning: lbfgs failed to converge (status=1):\n",
      "STOP: TOTAL NO. of ITERATIONS REACHED LIMIT.\n",
      "\n",
      "Increase the number of iterations (max_iter) or scale the data as shown in:\n",
      "    https://scikit-learn.org/stable/modules/preprocessing.html\n",
      "  self.n_iter_ = _check_optimize_result(\"lbfgs\", opt_res, self.max_iter)\n",
      "D:\\anaconda\\envs\\tensorflow\\lib\\site-packages\\sklearn\\neural_network\\_multilayer_perceptron.py:559: ConvergenceWarning: lbfgs failed to converge (status=1):\n",
      "STOP: TOTAL NO. of ITERATIONS REACHED LIMIT.\n",
      "\n",
      "Increase the number of iterations (max_iter) or scale the data as shown in:\n",
      "    https://scikit-learn.org/stable/modules/preprocessing.html\n",
      "  self.n_iter_ = _check_optimize_result(\"lbfgs\", opt_res, self.max_iter)\n",
      "D:\\anaconda\\envs\\tensorflow\\lib\\site-packages\\sklearn\\neural_network\\_multilayer_perceptron.py:559: ConvergenceWarning: lbfgs failed to converge (status=1):\n",
      "STOP: TOTAL NO. of ITERATIONS REACHED LIMIT.\n",
      "\n",
      "Increase the number of iterations (max_iter) or scale the data as shown in:\n",
      "    https://scikit-learn.org/stable/modules/preprocessing.html\n",
      "  self.n_iter_ = _check_optimize_result(\"lbfgs\", opt_res, self.max_iter)\n",
      "D:\\anaconda\\envs\\tensorflow\\lib\\site-packages\\sklearn\\neural_network\\_multilayer_perceptron.py:559: ConvergenceWarning: lbfgs failed to converge (status=1):\n",
      "STOP: TOTAL NO. of ITERATIONS REACHED LIMIT.\n",
      "\n",
      "Increase the number of iterations (max_iter) or scale the data as shown in:\n",
      "    https://scikit-learn.org/stable/modules/preprocessing.html\n",
      "  self.n_iter_ = _check_optimize_result(\"lbfgs\", opt_res, self.max_iter)\n",
      "D:\\anaconda\\envs\\tensorflow\\lib\\site-packages\\sklearn\\neural_network\\_multilayer_perceptron.py:559: ConvergenceWarning: lbfgs failed to converge (status=1):\n",
      "STOP: TOTAL NO. of ITERATIONS REACHED LIMIT.\n",
      "\n",
      "Increase the number of iterations (max_iter) or scale the data as shown in:\n",
      "    https://scikit-learn.org/stable/modules/preprocessing.html\n",
      "  self.n_iter_ = _check_optimize_result(\"lbfgs\", opt_res, self.max_iter)\n",
      "D:\\anaconda\\envs\\tensorflow\\lib\\site-packages\\sklearn\\neural_network\\_multilayer_perceptron.py:559: ConvergenceWarning: lbfgs failed to converge (status=1):\n",
      "STOP: TOTAL NO. of ITERATIONS REACHED LIMIT.\n",
      "\n",
      "Increase the number of iterations (max_iter) or scale the data as shown in:\n",
      "    https://scikit-learn.org/stable/modules/preprocessing.html\n",
      "  self.n_iter_ = _check_optimize_result(\"lbfgs\", opt_res, self.max_iter)\n",
      "D:\\anaconda\\envs\\tensorflow\\lib\\site-packages\\sklearn\\neural_network\\_multilayer_perceptron.py:559: ConvergenceWarning: lbfgs failed to converge (status=1):\n",
      "STOP: TOTAL NO. of ITERATIONS REACHED LIMIT.\n",
      "\n",
      "Increase the number of iterations (max_iter) or scale the data as shown in:\n",
      "    https://scikit-learn.org/stable/modules/preprocessing.html\n",
      "  self.n_iter_ = _check_optimize_result(\"lbfgs\", opt_res, self.max_iter)\n",
      "D:\\anaconda\\envs\\tensorflow\\lib\\site-packages\\sklearn\\neural_network\\_multilayer_perceptron.py:559: ConvergenceWarning: lbfgs failed to converge (status=1):\n",
      "STOP: TOTAL NO. of ITERATIONS REACHED LIMIT.\n",
      "\n",
      "Increase the number of iterations (max_iter) or scale the data as shown in:\n",
      "    https://scikit-learn.org/stable/modules/preprocessing.html\n",
      "  self.n_iter_ = _check_optimize_result(\"lbfgs\", opt_res, self.max_iter)\n"
     ]
    },
    {
     "name": "stdout",
     "output_type": "stream",
     "text": [
      "Iteration 1, loss = 1.20979901\n",
      "Iteration 2, loss = 0.67520819\n",
      "Iteration 3, loss = 0.53604476\n",
      "Iteration 4, loss = 0.47359045\n",
      "Iteration 5, loss = 0.43298703\n",
      "Iteration 6, loss = 0.40459604\n",
      "Iteration 7, loss = 0.38201694\n",
      "Iteration 8, loss = 0.36359265\n",
      "Iteration 9, loss = 0.34769551\n",
      "Iteration 10, loss = 0.33382600\n",
      "Iteration 11, loss = 0.32161263\n",
      "Iteration 12, loss = 0.31030873\n",
      "Iteration 13, loss = 0.29992797\n",
      "Iteration 14, loss = 0.28969507\n",
      "Iteration 15, loss = 0.28157104\n",
      "Iteration 16, loss = 0.27301310\n",
      "Iteration 17, loss = 0.26464016\n",
      "Iteration 18, loss = 0.25788693\n",
      "Iteration 19, loss = 0.25050367\n",
      "Iteration 20, loss = 0.24323856\n",
      "Iteration 1, loss = 1.21716566\n",
      "Iteration 2, loss = 0.67761158\n",
      "Iteration 3, loss = 0.53750372\n",
      "Iteration 4, loss = 0.47410445\n",
      "Iteration 5, loss = 0.43367044\n",
      "Iteration 6, loss = 0.40534211\n",
      "Iteration 7, loss = 0.38248067\n",
      "Iteration 8, loss = 0.36377173\n"
     ]
    },
    {
     "name": "stderr",
     "output_type": "stream",
     "text": [
      "D:\\anaconda\\envs\\tensorflow\\lib\\site-packages\\sklearn\\neural_network\\_multilayer_perceptron.py:702: ConvergenceWarning: Stochastic Optimizer: Maximum iterations (20) reached and the optimization hasn't converged yet.\n",
      "  warnings.warn(\n"
     ]
    },
    {
     "name": "stdout",
     "output_type": "stream",
     "text": [
      "Iteration 9, loss = 0.34792337\n",
      "Iteration 10, loss = 0.33400997\n",
      "Iteration 11, loss = 0.32175409\n",
      "Iteration 12, loss = 0.31039298\n",
      "Iteration 13, loss = 0.30024884\n",
      "Iteration 14, loss = 0.28988991\n",
      "Iteration 15, loss = 0.28157884\n",
      "Iteration 16, loss = 0.27336669\n",
      "Iteration 17, loss = 0.26509114\n",
      "Iteration 18, loss = 0.25766197\n",
      "Iteration 19, loss = 0.25039738\n",
      "Iteration 20, loss = 0.24294640\n",
      "Iteration 1, loss = 1.21516029\n",
      "Iteration 2, loss = 0.67777435\n",
      "Iteration 3, loss = 0.53880659\n",
      "Iteration 4, loss = 0.47674387\n",
      "Iteration 5, loss = 0.43674184\n",
      "Iteration 6, loss = 0.40839116\n",
      "Iteration 7, loss = 0.38580396\n"
     ]
    },
    {
     "name": "stderr",
     "output_type": "stream",
     "text": [
      "D:\\anaconda\\envs\\tensorflow\\lib\\site-packages\\sklearn\\neural_network\\_multilayer_perceptron.py:702: ConvergenceWarning: Stochastic Optimizer: Maximum iterations (20) reached and the optimization hasn't converged yet.\n",
      "  warnings.warn(\n"
     ]
    },
    {
     "name": "stdout",
     "output_type": "stream",
     "text": [
      "Iteration 8, loss = 0.36719360\n",
      "Iteration 9, loss = 0.35112622\n",
      "Iteration 10, loss = 0.33679191\n",
      "Iteration 11, loss = 0.32449293\n",
      "Iteration 12, loss = 0.31320998\n",
      "Iteration 13, loss = 0.30302010\n",
      "Iteration 14, loss = 0.29242585\n",
      "Iteration 15, loss = 0.28393164\n",
      "Iteration 16, loss = 0.27560661\n",
      "Iteration 17, loss = 0.26715793\n",
      "Iteration 18, loss = 0.25947960\n",
      "Iteration 19, loss = 0.25224221\n",
      "Iteration 20, loss = 0.24497151\n",
      "Iteration 1, loss = 1.19800474\n",
      "Iteration 2, loss = 0.67090438\n",
      "Iteration 3, loss = 0.53584832\n",
      "Iteration 4, loss = 0.47219177\n",
      "Iteration 5, loss = 0.43175608\n",
      "Iteration 6, loss = 0.40308989\n"
     ]
    },
    {
     "name": "stderr",
     "output_type": "stream",
     "text": [
      "D:\\anaconda\\envs\\tensorflow\\lib\\site-packages\\sklearn\\neural_network\\_multilayer_perceptron.py:702: ConvergenceWarning: Stochastic Optimizer: Maximum iterations (20) reached and the optimization hasn't converged yet.\n",
      "  warnings.warn(\n"
     ]
    },
    {
     "name": "stdout",
     "output_type": "stream",
     "text": [
      "Iteration 7, loss = 0.38037177\n",
      "Iteration 8, loss = 0.36152968\n",
      "Iteration 9, loss = 0.34531064\n",
      "Iteration 10, loss = 0.33122689\n",
      "Iteration 11, loss = 0.31897384\n",
      "Iteration 12, loss = 0.30754203\n",
      "Iteration 13, loss = 0.29733686\n",
      "Iteration 14, loss = 0.28727272\n",
      "Iteration 15, loss = 0.27855265\n",
      "Iteration 16, loss = 0.27044616\n",
      "Iteration 17, loss = 0.26218273\n",
      "Iteration 18, loss = 0.25484976\n",
      "Iteration 19, loss = 0.24769309\n",
      "Iteration 20, loss = 0.24096369\n",
      "Iteration 1, loss = 1.21518881\n",
      "Iteration 2, loss = 0.67302796\n",
      "Iteration 3, loss = 0.53432488\n",
      "Iteration 4, loss = 0.47140280\n",
      "Iteration 5, loss = 0.43126584\n"
     ]
    },
    {
     "name": "stderr",
     "output_type": "stream",
     "text": [
      "D:\\anaconda\\envs\\tensorflow\\lib\\site-packages\\sklearn\\neural_network\\_multilayer_perceptron.py:702: ConvergenceWarning: Stochastic Optimizer: Maximum iterations (20) reached and the optimization hasn't converged yet.\n",
      "  warnings.warn(\n"
     ]
    },
    {
     "name": "stdout",
     "output_type": "stream",
     "text": [
      "Iteration 6, loss = 0.40308255\n",
      "Iteration 7, loss = 0.38068632\n",
      "Iteration 8, loss = 0.36251893\n",
      "Iteration 9, loss = 0.34678178\n",
      "Iteration 10, loss = 0.33245601\n",
      "Iteration 11, loss = 0.32023469\n",
      "Iteration 12, loss = 0.30898096\n",
      "Iteration 13, loss = 0.29877392\n",
      "Iteration 14, loss = 0.28887021\n",
      "Iteration 15, loss = 0.27993037\n",
      "Iteration 16, loss = 0.27217258\n",
      "Iteration 17, loss = 0.26362831\n",
      "Iteration 18, loss = 0.25607658\n",
      "Iteration 19, loss = 0.24913272\n",
      "Iteration 20, loss = 0.24210544\n",
      "Iteration 1, loss = 1.20838491\n",
      "Iteration 2, loss = 0.67291325\n",
      "Iteration 3, loss = 0.53560547\n",
      "Iteration 4, loss = 0.47229165\n",
      "Iteration 5, loss = 0.43177220\n"
     ]
    },
    {
     "name": "stderr",
     "output_type": "stream",
     "text": [
      "D:\\anaconda\\envs\\tensorflow\\lib\\site-packages\\sklearn\\neural_network\\_multilayer_perceptron.py:702: ConvergenceWarning: Stochastic Optimizer: Maximum iterations (20) reached and the optimization hasn't converged yet.\n",
      "  warnings.warn(\n"
     ]
    },
    {
     "name": "stdout",
     "output_type": "stream",
     "text": [
      "Iteration 6, loss = 0.40318471\n",
      "Iteration 7, loss = 0.38067645\n",
      "Iteration 8, loss = 0.36229907\n",
      "Iteration 9, loss = 0.34669905\n",
      "Iteration 10, loss = 0.33212274\n",
      "Iteration 11, loss = 0.32001738\n",
      "Iteration 12, loss = 0.30925647\n",
      "Iteration 13, loss = 0.29907524\n",
      "Iteration 14, loss = 0.28926605\n",
      "Iteration 15, loss = 0.28022954\n",
      "Iteration 16, loss = 0.27260777\n",
      "Iteration 17, loss = 0.26429170\n",
      "Iteration 18, loss = 0.25680282\n",
      "Iteration 19, loss = 0.24977869\n",
      "Iteration 20, loss = 0.24271956\n",
      "Iteration 1, loss = 1.19917759\n",
      "Iteration 2, loss = 0.66914204\n",
      "Iteration 3, loss = 0.53299771\n",
      "Iteration 4, loss = 0.46903580\n",
      "Iteration 5, loss = 0.42873498\n"
     ]
    },
    {
     "name": "stderr",
     "output_type": "stream",
     "text": [
      "D:\\anaconda\\envs\\tensorflow\\lib\\site-packages\\sklearn\\neural_network\\_multilayer_perceptron.py:702: ConvergenceWarning: Stochastic Optimizer: Maximum iterations (20) reached and the optimization hasn't converged yet.\n",
      "  warnings.warn(\n"
     ]
    },
    {
     "name": "stdout",
     "output_type": "stream",
     "text": [
      "Iteration 6, loss = 0.40013700\n",
      "Iteration 7, loss = 0.37732970\n",
      "Iteration 8, loss = 0.35863636\n",
      "Iteration 9, loss = 0.34291934\n",
      "Iteration 10, loss = 0.32838753\n",
      "Iteration 11, loss = 0.31600804\n",
      "Iteration 12, loss = 0.30490003\n",
      "Iteration 13, loss = 0.29486148\n",
      "Iteration 14, loss = 0.28518631\n",
      "Iteration 15, loss = 0.27662901\n",
      "Iteration 16, loss = 0.26894818\n",
      "Iteration 17, loss = 0.26050498\n",
      "Iteration 18, loss = 0.25299179\n",
      "Iteration 19, loss = 0.24611725\n",
      "Iteration 20, loss = 0.23932214\n",
      "Iteration 1, loss = 1.18667901\n",
      "Iteration 2, loss = 0.66687397\n",
      "Iteration 3, loss = 0.53544417\n",
      "Iteration 4, loss = 0.47182357\n",
      "Iteration 5, loss = 0.43176749\n"
     ]
    },
    {
     "name": "stderr",
     "output_type": "stream",
     "text": [
      "D:\\anaconda\\envs\\tensorflow\\lib\\site-packages\\sklearn\\neural_network\\_multilayer_perceptron.py:702: ConvergenceWarning: Stochastic Optimizer: Maximum iterations (20) reached and the optimization hasn't converged yet.\n",
      "  warnings.warn(\n"
     ]
    },
    {
     "name": "stdout",
     "output_type": "stream",
     "text": [
      "Iteration 6, loss = 0.40306902\n",
      "Iteration 7, loss = 0.38027337\n",
      "Iteration 8, loss = 0.36185452\n",
      "Iteration 9, loss = 0.34565849\n",
      "Iteration 10, loss = 0.33153315\n",
      "Iteration 11, loss = 0.31924743\n",
      "Iteration 12, loss = 0.30806627\n",
      "Iteration 13, loss = 0.29802696\n",
      "Iteration 14, loss = 0.28815723\n",
      "Iteration 15, loss = 0.27963579\n",
      "Iteration 16, loss = 0.27175854\n",
      "Iteration 17, loss = 0.26317021\n",
      "Iteration 18, loss = 0.25595256\n",
      "Iteration 19, loss = 0.24880128\n",
      "Iteration 20, loss = 0.24246839\n",
      "Iteration 1, loss = 1.20175528\n",
      "Iteration 2, loss = 0.67093038\n",
      "Iteration 3, loss = 0.53432044\n",
      "Iteration 4, loss = 0.47121885\n",
      "Iteration 5, loss = 0.43146819\n"
     ]
    },
    {
     "name": "stderr",
     "output_type": "stream",
     "text": [
      "D:\\anaconda\\envs\\tensorflow\\lib\\site-packages\\sklearn\\neural_network\\_multilayer_perceptron.py:702: ConvergenceWarning: Stochastic Optimizer: Maximum iterations (20) reached and the optimization hasn't converged yet.\n",
      "  warnings.warn(\n"
     ]
    },
    {
     "name": "stdout",
     "output_type": "stream",
     "text": [
      "Iteration 6, loss = 0.40335738\n",
      "Iteration 7, loss = 0.38076120\n",
      "Iteration 8, loss = 0.36192904\n",
      "Iteration 9, loss = 0.34626482\n",
      "Iteration 10, loss = 0.33270385\n",
      "Iteration 11, loss = 0.32057393\n",
      "Iteration 12, loss = 0.30891667\n",
      "Iteration 13, loss = 0.29876909\n",
      "Iteration 14, loss = 0.28951568\n",
      "Iteration 15, loss = 0.28053838\n",
      "Iteration 16, loss = 0.27272849\n",
      "Iteration 17, loss = 0.26462228\n",
      "Iteration 18, loss = 0.25693176\n",
      "Iteration 19, loss = 0.24959883\n",
      "Iteration 20, loss = 0.24281901\n",
      "Iteration 1, loss = 1.19926229\n",
      "Iteration 2, loss = 0.67126460\n",
      "Iteration 3, loss = 0.53794701\n",
      "Iteration 4, loss = 0.47530017\n"
     ]
    },
    {
     "name": "stderr",
     "output_type": "stream",
     "text": [
      "D:\\anaconda\\envs\\tensorflow\\lib\\site-packages\\sklearn\\neural_network\\_multilayer_perceptron.py:702: ConvergenceWarning: Stochastic Optimizer: Maximum iterations (20) reached and the optimization hasn't converged yet.\n",
      "  warnings.warn(\n"
     ]
    },
    {
     "name": "stdout",
     "output_type": "stream",
     "text": [
      "Iteration 5, loss = 0.43591150\n",
      "Iteration 6, loss = 0.40801501\n",
      "Iteration 7, loss = 0.38571540\n",
      "Iteration 8, loss = 0.36709782\n",
      "Iteration 9, loss = 0.35130705\n",
      "Iteration 10, loss = 0.33744940\n",
      "Iteration 11, loss = 0.32523314\n",
      "Iteration 12, loss = 0.31354220\n",
      "Iteration 13, loss = 0.30302688\n",
      "Iteration 14, loss = 0.29385818\n",
      "Iteration 15, loss = 0.28466213\n",
      "Iteration 16, loss = 0.27689242\n",
      "Iteration 17, loss = 0.26893128\n",
      "Iteration 18, loss = 0.26089102\n",
      "Iteration 19, loss = 0.25365390\n",
      "Iteration 20, loss = 0.24678803\n"
     ]
    },
    {
     "name": "stderr",
     "output_type": "stream",
     "text": [
      "D:\\anaconda\\envs\\tensorflow\\lib\\site-packages\\sklearn\\neural_network\\_multilayer_perceptron.py:702: ConvergenceWarning: Stochastic Optimizer: Maximum iterations (20) reached and the optimization hasn't converged yet.\n",
      "  warnings.warn(\n"
     ]
    },
    {
     "name": "stdout",
     "output_type": "stream",
     "text": [
      "Iteration 1, loss = 1.30912555\n",
      "Iteration 2, loss = 0.81485731\n",
      "Iteration 3, loss = 0.74030115\n",
      "Iteration 4, loss = 0.69733690\n",
      "Iteration 5, loss = 0.67097206\n",
      "Iteration 6, loss = 0.65084846\n",
      "Iteration 7, loss = 0.63444742\n",
      "Iteration 8, loss = 0.62040963\n",
      "Iteration 9, loss = 0.60721778\n",
      "Iteration 10, loss = 0.59623183\n",
      "Iteration 11, loss = 0.58578220\n",
      "Iteration 12, loss = 0.57651936\n",
      "Iteration 13, loss = 0.56798747\n",
      "Iteration 14, loss = 0.56007426\n",
      "Iteration 15, loss = 0.55275153\n",
      "Iteration 16, loss = 0.54581796\n",
      "Iteration 17, loss = 0.53910023\n",
      "Iteration 18, loss = 0.53332612\n",
      "Iteration 19, loss = 0.52763500\n",
      "Iteration 20, loss = 0.52178845\n",
      "Iteration 1, loss = 1.31678571\n",
      "Iteration 2, loss = 0.81798338\n",
      "Iteration 3, loss = 0.74433788\n",
      "Iteration 4, loss = 0.70066051\n"
     ]
    },
    {
     "name": "stderr",
     "output_type": "stream",
     "text": [
      "D:\\anaconda\\envs\\tensorflow\\lib\\site-packages\\sklearn\\neural_network\\_multilayer_perceptron.py:702: ConvergenceWarning: Stochastic Optimizer: Maximum iterations (20) reached and the optimization hasn't converged yet.\n",
      "  warnings.warn(\n"
     ]
    },
    {
     "name": "stdout",
     "output_type": "stream",
     "text": [
      "Iteration 5, loss = 0.67451791\n",
      "Iteration 6, loss = 0.65443092\n",
      "Iteration 7, loss = 0.63814843\n",
      "Iteration 8, loss = 0.62419139\n",
      "Iteration 9, loss = 0.61134616\n",
      "Iteration 10, loss = 0.60051640\n",
      "Iteration 11, loss = 0.59001085\n",
      "Iteration 12, loss = 0.58089179\n",
      "Iteration 13, loss = 0.57241953\n",
      "Iteration 14, loss = 0.56424903\n",
      "Iteration 15, loss = 0.55706065\n",
      "Iteration 16, loss = 0.55016017\n",
      "Iteration 17, loss = 0.54338534\n",
      "Iteration 18, loss = 0.53749324\n",
      "Iteration 19, loss = 0.53149853\n",
      "Iteration 20, loss = 0.52562829\n",
      "Iteration 1, loss = 1.31685545\n"
     ]
    },
    {
     "name": "stderr",
     "output_type": "stream",
     "text": [
      "D:\\anaconda\\envs\\tensorflow\\lib\\site-packages\\sklearn\\neural_network\\_multilayer_perceptron.py:702: ConvergenceWarning: Stochastic Optimizer: Maximum iterations (20) reached and the optimization hasn't converged yet.\n",
      "  warnings.warn(\n"
     ]
    },
    {
     "name": "stdout",
     "output_type": "stream",
     "text": [
      "Iteration 2, loss = 0.81704977\n",
      "Iteration 3, loss = 0.74429482\n",
      "Iteration 4, loss = 0.70149997\n",
      "Iteration 5, loss = 0.67590208\n",
      "Iteration 6, loss = 0.65592882\n",
      "Iteration 7, loss = 0.63981334\n",
      "Iteration 8, loss = 0.62602371\n",
      "Iteration 9, loss = 0.61335093\n",
      "Iteration 10, loss = 0.60246761\n",
      "Iteration 11, loss = 0.59225240\n",
      "Iteration 12, loss = 0.58333441\n",
      "Iteration 13, loss = 0.57509891\n",
      "Iteration 14, loss = 0.56686573\n",
      "Iteration 15, loss = 0.55965612\n",
      "Iteration 16, loss = 0.55284008\n",
      "Iteration 17, loss = 0.54634133\n",
      "Iteration 18, loss = 0.54052752\n",
      "Iteration 19, loss = 0.53452838\n",
      "Iteration 20, loss = 0.52881718\n"
     ]
    },
    {
     "name": "stderr",
     "output_type": "stream",
     "text": [
      "D:\\anaconda\\envs\\tensorflow\\lib\\site-packages\\sklearn\\neural_network\\_multilayer_perceptron.py:702: ConvergenceWarning: Stochastic Optimizer: Maximum iterations (20) reached and the optimization hasn't converged yet.\n",
      "  warnings.warn(\n"
     ]
    },
    {
     "name": "stdout",
     "output_type": "stream",
     "text": [
      "Iteration 1, loss = 1.30231668\n",
      "Iteration 2, loss = 0.81427430\n",
      "Iteration 3, loss = 0.74257280\n",
      "Iteration 4, loss = 0.69925524\n",
      "Iteration 5, loss = 0.67308024\n",
      "Iteration 6, loss = 0.65305018\n",
      "Iteration 7, loss = 0.63659023\n",
      "Iteration 8, loss = 0.62230867\n",
      "Iteration 9, loss = 0.60938657\n",
      "Iteration 10, loss = 0.59812833\n",
      "Iteration 11, loss = 0.58775538\n",
      "Iteration 12, loss = 0.57862979\n",
      "Iteration 13, loss = 0.57007809\n",
      "Iteration 14, loss = 0.56176841\n",
      "Iteration 15, loss = 0.55447832\n",
      "Iteration 16, loss = 0.54733918\n",
      "Iteration 17, loss = 0.54082378\n",
      "Iteration 18, loss = 0.53477712\n",
      "Iteration 19, loss = 0.52858581\n",
      "Iteration 20, loss = 0.52285077\n",
      "Iteration 1, loss = 1.31937339\n"
     ]
    },
    {
     "name": "stderr",
     "output_type": "stream",
     "text": [
      "D:\\anaconda\\envs\\tensorflow\\lib\\site-packages\\sklearn\\neural_network\\_multilayer_perceptron.py:702: ConvergenceWarning: Stochastic Optimizer: Maximum iterations (20) reached and the optimization hasn't converged yet.\n",
      "  warnings.warn(\n"
     ]
    },
    {
     "name": "stdout",
     "output_type": "stream",
     "text": [
      "Iteration 2, loss = 0.81589251\n",
      "Iteration 3, loss = 0.74425288\n",
      "Iteration 4, loss = 0.69991013\n",
      "Iteration 5, loss = 0.67361542\n",
      "Iteration 6, loss = 0.65322812\n",
      "Iteration 7, loss = 0.63653726\n",
      "Iteration 8, loss = 0.62217449\n",
      "Iteration 9, loss = 0.60932445\n",
      "Iteration 10, loss = 0.59773407\n",
      "Iteration 11, loss = 0.58742938\n",
      "Iteration 12, loss = 0.57815750\n",
      "Iteration 13, loss = 0.56964110\n",
      "Iteration 14, loss = 0.56136427\n",
      "Iteration 15, loss = 0.55399645\n",
      "Iteration 16, loss = 0.54693496\n",
      "Iteration 17, loss = 0.54034995\n",
      "Iteration 18, loss = 0.53423510\n",
      "Iteration 19, loss = 0.52810284\n",
      "Iteration 20, loss = 0.52247432\n",
      "Iteration 1, loss = 1.31337224\n",
      "Iteration 2, loss = 0.81706268\n"
     ]
    },
    {
     "name": "stderr",
     "output_type": "stream",
     "text": [
      "D:\\anaconda\\envs\\tensorflow\\lib\\site-packages\\sklearn\\neural_network\\_multilayer_perceptron.py:702: ConvergenceWarning: Stochastic Optimizer: Maximum iterations (20) reached and the optimization hasn't converged yet.\n",
      "  warnings.warn(\n"
     ]
    },
    {
     "name": "stdout",
     "output_type": "stream",
     "text": [
      "Iteration 3, loss = 0.74506758\n",
      "Iteration 4, loss = 0.70126614\n",
      "Iteration 5, loss = 0.67547176\n",
      "Iteration 6, loss = 0.65536437\n",
      "Iteration 7, loss = 0.63911590\n",
      "Iteration 8, loss = 0.62503467\n",
      "Iteration 9, loss = 0.61275179\n",
      "Iteration 10, loss = 0.60118711\n",
      "Iteration 11, loss = 0.59117282\n",
      "Iteration 12, loss = 0.58215977\n",
      "Iteration 13, loss = 0.57330685\n",
      "Iteration 14, loss = 0.56518161\n",
      "Iteration 15, loss = 0.55787159\n",
      "Iteration 16, loss = 0.55063050\n",
      "Iteration 17, loss = 0.54423803\n",
      "Iteration 18, loss = 0.53803577\n",
      "Iteration 19, loss = 0.53190486\n",
      "Iteration 20, loss = 0.52616828\n",
      "Iteration 1, loss = 1.30908227\n",
      "Iteration 2, loss = 0.81500226\n"
     ]
    },
    {
     "name": "stderr",
     "output_type": "stream",
     "text": [
      "D:\\anaconda\\envs\\tensorflow\\lib\\site-packages\\sklearn\\neural_network\\_multilayer_perceptron.py:702: ConvergenceWarning: Stochastic Optimizer: Maximum iterations (20) reached and the optimization hasn't converged yet.\n",
      "  warnings.warn(\n"
     ]
    },
    {
     "name": "stdout",
     "output_type": "stream",
     "text": [
      "Iteration 3, loss = 0.74252072\n",
      "Iteration 4, loss = 0.69791431\n",
      "Iteration 5, loss = 0.67183579\n",
      "Iteration 6, loss = 0.65181848\n",
      "Iteration 7, loss = 0.63544626\n",
      "Iteration 8, loss = 0.62127145\n",
      "Iteration 9, loss = 0.60926268\n",
      "Iteration 10, loss = 0.59745013\n",
      "Iteration 11, loss = 0.58750216\n",
      "Iteration 12, loss = 0.57843178\n",
      "Iteration 13, loss = 0.56987129\n",
      "Iteration 14, loss = 0.56205443\n",
      "Iteration 15, loss = 0.55495110\n",
      "Iteration 16, loss = 0.54773854\n",
      "Iteration 17, loss = 0.54150732\n",
      "Iteration 18, loss = 0.53531729\n",
      "Iteration 19, loss = 0.52932508\n",
      "Iteration 20, loss = 0.52393231\n",
      "Iteration 1, loss = 1.30051516\n"
     ]
    },
    {
     "name": "stderr",
     "output_type": "stream",
     "text": [
      "D:\\anaconda\\envs\\tensorflow\\lib\\site-packages\\sklearn\\neural_network\\_multilayer_perceptron.py:702: ConvergenceWarning: Stochastic Optimizer: Maximum iterations (20) reached and the optimization hasn't converged yet.\n",
      "  warnings.warn(\n"
     ]
    },
    {
     "name": "stdout",
     "output_type": "stream",
     "text": [
      "Iteration 2, loss = 0.81449923\n",
      "Iteration 3, loss = 0.74450970\n",
      "Iteration 4, loss = 0.70064892\n",
      "Iteration 5, loss = 0.67468502\n",
      "Iteration 6, loss = 0.65454136\n",
      "Iteration 7, loss = 0.63815385\n",
      "Iteration 8, loss = 0.62392248\n",
      "Iteration 9, loss = 0.61146820\n",
      "Iteration 10, loss = 0.59986910\n",
      "Iteration 11, loss = 0.58988742\n",
      "Iteration 12, loss = 0.58050519\n",
      "Iteration 13, loss = 0.57201105\n",
      "Iteration 14, loss = 0.56400791\n",
      "Iteration 15, loss = 0.55681098\n",
      "Iteration 16, loss = 0.54962929\n",
      "Iteration 17, loss = 0.54316259\n",
      "Iteration 18, loss = 0.53678466\n",
      "Iteration 19, loss = 0.53081445\n",
      "Iteration 20, loss = 0.52544754\n",
      "Iteration 1, loss = 1.31145385\n",
      "Iteration 2, loss = 0.81674156\n"
     ]
    },
    {
     "name": "stderr",
     "output_type": "stream",
     "text": [
      "D:\\anaconda\\envs\\tensorflow\\lib\\site-packages\\sklearn\\neural_network\\_multilayer_perceptron.py:702: ConvergenceWarning: Stochastic Optimizer: Maximum iterations (20) reached and the optimization hasn't converged yet.\n",
      "  warnings.warn(\n"
     ]
    },
    {
     "name": "stdout",
     "output_type": "stream",
     "text": [
      "Iteration 3, loss = 0.74112190\n",
      "Iteration 4, loss = 0.69765372\n",
      "Iteration 5, loss = 0.67117649\n",
      "Iteration 6, loss = 0.65111667\n",
      "Iteration 7, loss = 0.63473190\n",
      "Iteration 8, loss = 0.62059526\n",
      "Iteration 9, loss = 0.60812903\n",
      "Iteration 10, loss = 0.59675541\n",
      "Iteration 11, loss = 0.58659502\n",
      "Iteration 12, loss = 0.57700864\n",
      "Iteration 13, loss = 0.56841493\n",
      "Iteration 14, loss = 0.56033475\n",
      "Iteration 15, loss = 0.55309239\n",
      "Iteration 16, loss = 0.54596369\n",
      "Iteration 17, loss = 0.53943766\n",
      "Iteration 18, loss = 0.53312407\n",
      "Iteration 19, loss = 0.52724811\n",
      "Iteration 20, loss = 0.52152307\n",
      "Iteration 1, loss = 1.31338708\n"
     ]
    },
    {
     "name": "stderr",
     "output_type": "stream",
     "text": [
      "D:\\anaconda\\envs\\tensorflow\\lib\\site-packages\\sklearn\\neural_network\\_multilayer_perceptron.py:702: ConvergenceWarning: Stochastic Optimizer: Maximum iterations (20) reached and the optimization hasn't converged yet.\n",
      "  warnings.warn(\n"
     ]
    },
    {
     "name": "stdout",
     "output_type": "stream",
     "text": [
      "Iteration 2, loss = 0.82042693\n",
      "Iteration 3, loss = 0.74828216\n",
      "Iteration 4, loss = 0.70542380\n",
      "Iteration 5, loss = 0.67869667\n",
      "Iteration 6, loss = 0.65870935\n",
      "Iteration 7, loss = 0.64220393\n",
      "Iteration 8, loss = 0.62813308\n",
      "Iteration 9, loss = 0.61559924\n",
      "Iteration 10, loss = 0.60423311\n",
      "Iteration 11, loss = 0.59411689\n",
      "Iteration 12, loss = 0.58453484\n",
      "Iteration 13, loss = 0.57571653\n",
      "Iteration 14, loss = 0.56758878\n",
      "Iteration 15, loss = 0.56014515\n",
      "Iteration 16, loss = 0.55296155\n",
      "Iteration 17, loss = 0.54633117\n",
      "Iteration 18, loss = 0.54012615\n",
      "Iteration 19, loss = 0.53421787\n",
      "Iteration 20, loss = 0.52839766\n"
     ]
    },
    {
     "name": "stderr",
     "output_type": "stream",
     "text": [
      "D:\\anaconda\\envs\\tensorflow\\lib\\site-packages\\sklearn\\neural_network\\_multilayer_perceptron.py:702: ConvergenceWarning: Stochastic Optimizer: Maximum iterations (20) reached and the optimization hasn't converged yet.\n",
      "  warnings.warn(\n",
      "D:\\anaconda\\envs\\tensorflow\\lib\\site-packages\\sklearn\\neural_network\\_multilayer_perceptron.py:559: ConvergenceWarning: lbfgs failed to converge (status=1):\n",
      "STOP: TOTAL NO. of ITERATIONS REACHED LIMIT.\n",
      "\n",
      "Increase the number of iterations (max_iter) or scale the data as shown in:\n",
      "    https://scikit-learn.org/stable/modules/preprocessing.html\n",
      "  self.n_iter_ = _check_optimize_result(\"lbfgs\", opt_res, self.max_iter)\n",
      "D:\\anaconda\\envs\\tensorflow\\lib\\site-packages\\sklearn\\neural_network\\_multilayer_perceptron.py:559: ConvergenceWarning: lbfgs failed to converge (status=1):\n",
      "STOP: TOTAL NO. of ITERATIONS REACHED LIMIT.\n",
      "\n",
      "Increase the number of iterations (max_iter) or scale the data as shown in:\n",
      "    https://scikit-learn.org/stable/modules/preprocessing.html\n",
      "  self.n_iter_ = _check_optimize_result(\"lbfgs\", opt_res, self.max_iter)\n",
      "D:\\anaconda\\envs\\tensorflow\\lib\\site-packages\\sklearn\\neural_network\\_multilayer_perceptron.py:559: ConvergenceWarning: lbfgs failed to converge (status=1):\n",
      "STOP: TOTAL NO. of ITERATIONS REACHED LIMIT.\n",
      "\n",
      "Increase the number of iterations (max_iter) or scale the data as shown in:\n",
      "    https://scikit-learn.org/stable/modules/preprocessing.html\n",
      "  self.n_iter_ = _check_optimize_result(\"lbfgs\", opt_res, self.max_iter)\n",
      "D:\\anaconda\\envs\\tensorflow\\lib\\site-packages\\sklearn\\neural_network\\_multilayer_perceptron.py:559: ConvergenceWarning: lbfgs failed to converge (status=1):\n",
      "STOP: TOTAL NO. of ITERATIONS REACHED LIMIT.\n",
      "\n",
      "Increase the number of iterations (max_iter) or scale the data as shown in:\n",
      "    https://scikit-learn.org/stable/modules/preprocessing.html\n",
      "  self.n_iter_ = _check_optimize_result(\"lbfgs\", opt_res, self.max_iter)\n",
      "D:\\anaconda\\envs\\tensorflow\\lib\\site-packages\\sklearn\\neural_network\\_multilayer_perceptron.py:559: ConvergenceWarning: lbfgs failed to converge (status=1):\n",
      "STOP: TOTAL NO. of ITERATIONS REACHED LIMIT.\n",
      "\n",
      "Increase the number of iterations (max_iter) or scale the data as shown in:\n",
      "    https://scikit-learn.org/stable/modules/preprocessing.html\n",
      "  self.n_iter_ = _check_optimize_result(\"lbfgs\", opt_res, self.max_iter)\n",
      "D:\\anaconda\\envs\\tensorflow\\lib\\site-packages\\sklearn\\neural_network\\_multilayer_perceptron.py:559: ConvergenceWarning: lbfgs failed to converge (status=1):\n",
      "STOP: TOTAL NO. of ITERATIONS REACHED LIMIT.\n",
      "\n",
      "Increase the number of iterations (max_iter) or scale the data as shown in:\n",
      "    https://scikit-learn.org/stable/modules/preprocessing.html\n",
      "  self.n_iter_ = _check_optimize_result(\"lbfgs\", opt_res, self.max_iter)\n",
      "D:\\anaconda\\envs\\tensorflow\\lib\\site-packages\\sklearn\\neural_network\\_multilayer_perceptron.py:559: ConvergenceWarning: lbfgs failed to converge (status=1):\n",
      "STOP: TOTAL NO. of ITERATIONS REACHED LIMIT.\n",
      "\n",
      "Increase the number of iterations (max_iter) or scale the data as shown in:\n",
      "    https://scikit-learn.org/stable/modules/preprocessing.html\n",
      "  self.n_iter_ = _check_optimize_result(\"lbfgs\", opt_res, self.max_iter)\n",
      "D:\\anaconda\\envs\\tensorflow\\lib\\site-packages\\sklearn\\neural_network\\_multilayer_perceptron.py:559: ConvergenceWarning: lbfgs failed to converge (status=1):\n",
      "STOP: TOTAL NO. of ITERATIONS REACHED LIMIT.\n",
      "\n",
      "Increase the number of iterations (max_iter) or scale the data as shown in:\n",
      "    https://scikit-learn.org/stable/modules/preprocessing.html\n",
      "  self.n_iter_ = _check_optimize_result(\"lbfgs\", opt_res, self.max_iter)\n",
      "D:\\anaconda\\envs\\tensorflow\\lib\\site-packages\\sklearn\\neural_network\\_multilayer_perceptron.py:559: ConvergenceWarning: lbfgs failed to converge (status=1):\n",
      "STOP: TOTAL NO. of ITERATIONS REACHED LIMIT.\n",
      "\n",
      "Increase the number of iterations (max_iter) or scale the data as shown in:\n",
      "    https://scikit-learn.org/stable/modules/preprocessing.html\n",
      "  self.n_iter_ = _check_optimize_result(\"lbfgs\", opt_res, self.max_iter)\n",
      "D:\\anaconda\\envs\\tensorflow\\lib\\site-packages\\sklearn\\neural_network\\_multilayer_perceptron.py:559: ConvergenceWarning: lbfgs failed to converge (status=1):\n",
      "STOP: TOTAL NO. of ITERATIONS REACHED LIMIT.\n",
      "\n",
      "Increase the number of iterations (max_iter) or scale the data as shown in:\n",
      "    https://scikit-learn.org/stable/modules/preprocessing.html\n",
      "  self.n_iter_ = _check_optimize_result(\"lbfgs\", opt_res, self.max_iter)\n"
     ]
    },
    {
     "name": "stdout",
     "output_type": "stream",
     "text": [
      "Iteration 1, loss = 0.67241201\n",
      "Iteration 2, loss = 0.52301232\n",
      "Iteration 3, loss = 0.44140987\n",
      "Iteration 4, loss = 0.38012220\n",
      "Iteration 5, loss = 0.33759504\n",
      "Iteration 6, loss = 0.30786451\n",
      "Iteration 7, loss = 0.28263371\n",
      "Iteration 8, loss = 0.26275527\n",
      "Iteration 9, loss = 0.24300581\n",
      "Iteration 10, loss = 0.22795318\n",
      "Iteration 11, loss = 0.21288595\n",
      "Iteration 12, loss = 0.20200311\n",
      "Iteration 13, loss = 0.18746462\n",
      "Iteration 14, loss = 0.17277741\n",
      "Iteration 15, loss = 0.16265437\n",
      "Iteration 16, loss = 0.15237295\n",
      "Iteration 17, loss = 0.14038825\n",
      "Iteration 18, loss = 0.13215515\n",
      "Iteration 19, loss = 0.12581026\n",
      "Iteration 20, loss = 0.11541484\n",
      "Iteration 1, loss = 0.67900762\n"
     ]
    },
    {
     "name": "stderr",
     "output_type": "stream",
     "text": [
      "D:\\anaconda\\envs\\tensorflow\\lib\\site-packages\\sklearn\\neural_network\\_multilayer_perceptron.py:702: ConvergenceWarning: Stochastic Optimizer: Maximum iterations (20) reached and the optimization hasn't converged yet.\n",
      "  warnings.warn(\n"
     ]
    },
    {
     "name": "stdout",
     "output_type": "stream",
     "text": [
      "Iteration 2, loss = 0.52773612\n",
      "Iteration 3, loss = 0.44480405\n",
      "Iteration 4, loss = 0.38323567\n",
      "Iteration 5, loss = 0.34046350\n",
      "Iteration 6, loss = 0.31255165\n",
      "Iteration 7, loss = 0.28662946\n",
      "Iteration 8, loss = 0.26645747\n",
      "Iteration 9, loss = 0.24663701\n",
      "Iteration 10, loss = 0.23249848\n",
      "Iteration 11, loss = 0.21826182\n",
      "Iteration 12, loss = 0.20397230\n",
      "Iteration 13, loss = 0.19068391\n",
      "Iteration 14, loss = 0.17737373\n",
      "Iteration 15, loss = 0.16668037\n",
      "Iteration 16, loss = 0.15648899\n",
      "Iteration 17, loss = 0.14419024\n",
      "Iteration 18, loss = 0.13385287\n",
      "Iteration 19, loss = 0.12629501\n",
      "Iteration 20, loss = 0.11698311\n",
      "Iteration 1, loss = 0.67602193\n"
     ]
    },
    {
     "name": "stderr",
     "output_type": "stream",
     "text": [
      "D:\\anaconda\\envs\\tensorflow\\lib\\site-packages\\sklearn\\neural_network\\_multilayer_perceptron.py:702: ConvergenceWarning: Stochastic Optimizer: Maximum iterations (20) reached and the optimization hasn't converged yet.\n",
      "  warnings.warn(\n"
     ]
    },
    {
     "name": "stdout",
     "output_type": "stream",
     "text": [
      "Iteration 2, loss = 0.52868488\n",
      "Iteration 3, loss = 0.44634708\n",
      "Iteration 4, loss = 0.38646820\n",
      "Iteration 5, loss = 0.34455190\n",
      "Iteration 6, loss = 0.31483410\n",
      "Iteration 7, loss = 0.28771472\n",
      "Iteration 8, loss = 0.26589435\n",
      "Iteration 9, loss = 0.24691534\n",
      "Iteration 10, loss = 0.23239620\n",
      "Iteration 11, loss = 0.21688159\n",
      "Iteration 12, loss = 0.20256015\n",
      "Iteration 13, loss = 0.18844517\n",
      "Iteration 14, loss = 0.17592148\n",
      "Iteration 15, loss = 0.16407160\n",
      "Iteration 16, loss = 0.15324494\n",
      "Iteration 17, loss = 0.14216799\n",
      "Iteration 18, loss = 0.13150907\n",
      "Iteration 19, loss = 0.12282121\n",
      "Iteration 20, loss = 0.11343111\n",
      "Iteration 1, loss = 0.67811218\n",
      "Iteration 2, loss = 0.52813655\n",
      "Iteration 3, loss = 0.44560798\n"
     ]
    },
    {
     "name": "stderr",
     "output_type": "stream",
     "text": [
      "D:\\anaconda\\envs\\tensorflow\\lib\\site-packages\\sklearn\\neural_network\\_multilayer_perceptron.py:702: ConvergenceWarning: Stochastic Optimizer: Maximum iterations (20) reached and the optimization hasn't converged yet.\n",
      "  warnings.warn(\n"
     ]
    },
    {
     "name": "stdout",
     "output_type": "stream",
     "text": [
      "Iteration 4, loss = 0.38480056\n",
      "Iteration 5, loss = 0.34319065\n",
      "Iteration 6, loss = 0.31309391\n",
      "Iteration 7, loss = 0.28460910\n",
      "Iteration 8, loss = 0.26430611\n",
      "Iteration 9, loss = 0.24674090\n",
      "Iteration 10, loss = 0.23290660\n",
      "Iteration 11, loss = 0.21768804\n",
      "Iteration 12, loss = 0.20175435\n",
      "Iteration 13, loss = 0.18868397\n",
      "Iteration 14, loss = 0.17634493\n",
      "Iteration 15, loss = 0.16544420\n",
      "Iteration 16, loss = 0.15582073\n",
      "Iteration 17, loss = 0.14487901\n",
      "Iteration 18, loss = 0.13365032\n",
      "Iteration 19, loss = 0.12480642\n",
      "Iteration 20, loss = 0.11649851\n",
      "Iteration 1, loss = 0.67416547\n",
      "Iteration 2, loss = 0.52323448\n",
      "Iteration 3, loss = 0.44150583\n",
      "Iteration 4, loss = 0.38229144\n",
      "Iteration 5, loss = 0.34148002\n",
      "Iteration 6, loss = 0.31260371\n"
     ]
    },
    {
     "name": "stderr",
     "output_type": "stream",
     "text": [
      "D:\\anaconda\\envs\\tensorflow\\lib\\site-packages\\sklearn\\neural_network\\_multilayer_perceptron.py:702: ConvergenceWarning: Stochastic Optimizer: Maximum iterations (20) reached and the optimization hasn't converged yet.\n",
      "  warnings.warn(\n"
     ]
    },
    {
     "name": "stdout",
     "output_type": "stream",
     "text": [
      "Iteration 7, loss = 0.28420377\n",
      "Iteration 8, loss = 0.26437176\n",
      "Iteration 9, loss = 0.24660784\n",
      "Iteration 10, loss = 0.23156274\n",
      "Iteration 11, loss = 0.21596287\n",
      "Iteration 12, loss = 0.19969895\n",
      "Iteration 13, loss = 0.18697556\n",
      "Iteration 14, loss = 0.17389073\n",
      "Iteration 15, loss = 0.16348758\n",
      "Iteration 16, loss = 0.15234968\n",
      "Iteration 17, loss = 0.14093137\n",
      "Iteration 18, loss = 0.12983831\n",
      "Iteration 19, loss = 0.12066516\n",
      "Iteration 20, loss = 0.11246979\n",
      "Iteration 1, loss = 0.67702598\n",
      "Iteration 2, loss = 0.52566807\n"
     ]
    },
    {
     "name": "stderr",
     "output_type": "stream",
     "text": [
      "D:\\anaconda\\envs\\tensorflow\\lib\\site-packages\\sklearn\\neural_network\\_multilayer_perceptron.py:702: ConvergenceWarning: Stochastic Optimizer: Maximum iterations (20) reached and the optimization hasn't converged yet.\n",
      "  warnings.warn(\n"
     ]
    },
    {
     "name": "stdout",
     "output_type": "stream",
     "text": [
      "Iteration 3, loss = 0.44389413\n",
      "Iteration 4, loss = 0.38337979\n",
      "Iteration 5, loss = 0.34178001\n",
      "Iteration 6, loss = 0.31448320\n",
      "Iteration 7, loss = 0.28539773\n",
      "Iteration 8, loss = 0.26540880\n",
      "Iteration 9, loss = 0.24684924\n",
      "Iteration 10, loss = 0.23219712\n",
      "Iteration 11, loss = 0.21723881\n",
      "Iteration 12, loss = 0.20106900\n",
      "Iteration 13, loss = 0.18852593\n",
      "Iteration 14, loss = 0.17743020\n",
      "Iteration 15, loss = 0.16513812\n",
      "Iteration 16, loss = 0.15375040\n",
      "Iteration 17, loss = 0.14327271\n",
      "Iteration 18, loss = 0.13390461\n",
      "Iteration 19, loss = 0.12443480\n",
      "Iteration 20, loss = 0.11605274\n",
      "Iteration 1, loss = 0.67547094\n",
      "Iteration 2, loss = 0.52203198\n",
      "Iteration 3, loss = 0.43898155\n",
      "Iteration 4, loss = 0.37786731\n",
      "Iteration 5, loss = 0.33421147\n",
      "Iteration 6, loss = 0.30439847\n"
     ]
    },
    {
     "name": "stderr",
     "output_type": "stream",
     "text": [
      "D:\\anaconda\\envs\\tensorflow\\lib\\site-packages\\sklearn\\neural_network\\_multilayer_perceptron.py:702: ConvergenceWarning: Stochastic Optimizer: Maximum iterations (20) reached and the optimization hasn't converged yet.\n",
      "  warnings.warn(\n"
     ]
    },
    {
     "name": "stdout",
     "output_type": "stream",
     "text": [
      "Iteration 7, loss = 0.27681877\n",
      "Iteration 8, loss = 0.25699771\n",
      "Iteration 9, loss = 0.23799079\n",
      "Iteration 10, loss = 0.22512066\n",
      "Iteration 11, loss = 0.20991211\n",
      "Iteration 12, loss = 0.19552111\n",
      "Iteration 13, loss = 0.18335113\n",
      "Iteration 14, loss = 0.17192300\n",
      "Iteration 15, loss = 0.15930592\n",
      "Iteration 16, loss = 0.14897165\n",
      "Iteration 17, loss = 0.13905892\n",
      "Iteration 18, loss = 0.12957418\n",
      "Iteration 19, loss = 0.11924714\n",
      "Iteration 20, loss = 0.11250115\n",
      "Iteration 1, loss = 0.67347911\n",
      "Iteration 2, loss = 0.52377789\n"
     ]
    },
    {
     "name": "stderr",
     "output_type": "stream",
     "text": [
      "D:\\anaconda\\envs\\tensorflow\\lib\\site-packages\\sklearn\\neural_network\\_multilayer_perceptron.py:702: ConvergenceWarning: Stochastic Optimizer: Maximum iterations (20) reached and the optimization hasn't converged yet.\n",
      "  warnings.warn(\n"
     ]
    },
    {
     "name": "stdout",
     "output_type": "stream",
     "text": [
      "Iteration 3, loss = 0.44154929\n",
      "Iteration 4, loss = 0.38307295\n",
      "Iteration 5, loss = 0.34147703\n",
      "Iteration 6, loss = 0.31228957\n",
      "Iteration 7, loss = 0.28582437\n",
      "Iteration 8, loss = 0.26604764\n",
      "Iteration 9, loss = 0.24666113\n",
      "Iteration 10, loss = 0.23211136\n",
      "Iteration 11, loss = 0.21781190\n",
      "Iteration 12, loss = 0.20242867\n",
      "Iteration 13, loss = 0.19078685\n",
      "Iteration 14, loss = 0.18054781\n",
      "Iteration 15, loss = 0.16751391\n",
      "Iteration 16, loss = 0.15701324\n",
      "Iteration 17, loss = 0.14598616\n",
      "Iteration 18, loss = 0.13542870\n",
      "Iteration 19, loss = 0.12512697\n",
      "Iteration 20, loss = 0.11656645\n",
      "Iteration 1, loss = 0.66984350\n",
      "Iteration 2, loss = 0.52075299\n",
      "Iteration 3, loss = 0.43880297\n",
      "Iteration 4, loss = 0.38131038\n"
     ]
    },
    {
     "name": "stderr",
     "output_type": "stream",
     "text": [
      "D:\\anaconda\\envs\\tensorflow\\lib\\site-packages\\sklearn\\neural_network\\_multilayer_perceptron.py:702: ConvergenceWarning: Stochastic Optimizer: Maximum iterations (20) reached and the optimization hasn't converged yet.\n",
      "  warnings.warn(\n"
     ]
    },
    {
     "name": "stdout",
     "output_type": "stream",
     "text": [
      "Iteration 5, loss = 0.33780327\n",
      "Iteration 6, loss = 0.30745557\n",
      "Iteration 7, loss = 0.28465996\n",
      "Iteration 8, loss = 0.26484554\n",
      "Iteration 9, loss = 0.24667004\n",
      "Iteration 10, loss = 0.23217979\n",
      "Iteration 11, loss = 0.21665429\n",
      "Iteration 12, loss = 0.20181544\n",
      "Iteration 13, loss = 0.19035606\n",
      "Iteration 14, loss = 0.17773563\n",
      "Iteration 15, loss = 0.16539086\n",
      "Iteration 16, loss = 0.15424474\n",
      "Iteration 17, loss = 0.14299005\n",
      "Iteration 18, loss = 0.13426225\n",
      "Iteration 19, loss = 0.12400909\n",
      "Iteration 20, loss = 0.11574470\n"
     ]
    },
    {
     "name": "stderr",
     "output_type": "stream",
     "text": [
      "D:\\anaconda\\envs\\tensorflow\\lib\\site-packages\\sklearn\\neural_network\\_multilayer_perceptron.py:702: ConvergenceWarning: Stochastic Optimizer: Maximum iterations (20) reached and the optimization hasn't converged yet.\n",
      "  warnings.warn(\n"
     ]
    },
    {
     "name": "stdout",
     "output_type": "stream",
     "text": [
      "Iteration 1, loss = 0.67297526\n",
      "Iteration 2, loss = 0.52754233\n",
      "Iteration 3, loss = 0.44694629\n",
      "Iteration 4, loss = 0.38884523\n",
      "Iteration 5, loss = 0.34503836\n",
      "Iteration 6, loss = 0.31424442\n",
      "Iteration 7, loss = 0.28989131\n",
      "Iteration 8, loss = 0.26889653\n",
      "Iteration 9, loss = 0.25131470\n",
      "Iteration 10, loss = 0.23740123\n",
      "Iteration 11, loss = 0.22067461\n",
      "Iteration 12, loss = 0.20492046\n",
      "Iteration 13, loss = 0.19261255\n",
      "Iteration 14, loss = 0.17903164\n",
      "Iteration 15, loss = 0.16692321\n",
      "Iteration 16, loss = 0.15547743\n",
      "Iteration 17, loss = 0.14428305\n",
      "Iteration 18, loss = 0.13581570\n",
      "Iteration 19, loss = 0.12448543\n",
      "Iteration 20, loss = 0.11602817\n",
      "Iteration 1, loss = 0.76412818\n",
      "Iteration 2, loss = 0.71941613\n"
     ]
    },
    {
     "name": "stderr",
     "output_type": "stream",
     "text": [
      "D:\\anaconda\\envs\\tensorflow\\lib\\site-packages\\sklearn\\neural_network\\_multilayer_perceptron.py:702: ConvergenceWarning: Stochastic Optimizer: Maximum iterations (20) reached and the optimization hasn't converged yet.\n",
      "  warnings.warn(\n"
     ]
    },
    {
     "name": "stdout",
     "output_type": "stream",
     "text": [
      "Iteration 3, loss = 0.68471354\n",
      "Iteration 4, loss = 0.65776473\n",
      "Iteration 5, loss = 0.63857185\n",
      "Iteration 6, loss = 0.62292998\n",
      "Iteration 7, loss = 0.60967022\n",
      "Iteration 8, loss = 0.59826999\n",
      "Iteration 9, loss = 0.58689914\n",
      "Iteration 10, loss = 0.57755748\n",
      "Iteration 11, loss = 0.56797094\n",
      "Iteration 12, loss = 0.55947254\n",
      "Iteration 13, loss = 0.55119812\n",
      "Iteration 14, loss = 0.54324616\n",
      "Iteration 15, loss = 0.53534725\n",
      "Iteration 16, loss = 0.52786287\n",
      "Iteration 17, loss = 0.52061290\n",
      "Iteration 18, loss = 0.51408868\n",
      "Iteration 19, loss = 0.50726502\n",
      "Iteration 20, loss = 0.50061712\n",
      "Iteration 1, loss = 0.76636954\n",
      "Iteration 2, loss = 0.72195678\n",
      "Iteration 3, loss = 0.68780258\n",
      "Iteration 4, loss = 0.66131211\n",
      "Iteration 5, loss = 0.64210266\n"
     ]
    },
    {
     "name": "stderr",
     "output_type": "stream",
     "text": [
      "D:\\anaconda\\envs\\tensorflow\\lib\\site-packages\\sklearn\\neural_network\\_multilayer_perceptron.py:702: ConvergenceWarning: Stochastic Optimizer: Maximum iterations (20) reached and the optimization hasn't converged yet.\n",
      "  warnings.warn(\n"
     ]
    },
    {
     "name": "stdout",
     "output_type": "stream",
     "text": [
      "Iteration 6, loss = 0.62670753\n",
      "Iteration 7, loss = 0.61328982\n",
      "Iteration 8, loss = 0.60204563\n",
      "Iteration 9, loss = 0.59103900\n",
      "Iteration 10, loss = 0.58171571\n",
      "Iteration 11, loss = 0.57225947\n",
      "Iteration 12, loss = 0.56385909\n",
      "Iteration 13, loss = 0.55576425\n",
      "Iteration 14, loss = 0.54813777\n",
      "Iteration 15, loss = 0.54039860\n",
      "Iteration 16, loss = 0.53299506\n",
      "Iteration 17, loss = 0.52577857\n",
      "Iteration 18, loss = 0.51915032\n",
      "Iteration 19, loss = 0.51230985\n",
      "Iteration 20, loss = 0.50566171\n",
      "Iteration 1, loss = 0.76290716\n"
     ]
    },
    {
     "name": "stderr",
     "output_type": "stream",
     "text": [
      "D:\\anaconda\\envs\\tensorflow\\lib\\site-packages\\sklearn\\neural_network\\_multilayer_perceptron.py:702: ConvergenceWarning: Stochastic Optimizer: Maximum iterations (20) reached and the optimization hasn't converged yet.\n",
      "  warnings.warn(\n"
     ]
    },
    {
     "name": "stdout",
     "output_type": "stream",
     "text": [
      "Iteration 2, loss = 0.71950975\n",
      "Iteration 3, loss = 0.68613375\n",
      "Iteration 4, loss = 0.66025108\n",
      "Iteration 5, loss = 0.64158926\n",
      "Iteration 6, loss = 0.62634452\n",
      "Iteration 7, loss = 0.61316905\n",
      "Iteration 8, loss = 0.60206978\n",
      "Iteration 9, loss = 0.59163499\n",
      "Iteration 10, loss = 0.58219304\n",
      "Iteration 11, loss = 0.57292002\n",
      "Iteration 12, loss = 0.56457773\n",
      "Iteration 13, loss = 0.55672375\n",
      "Iteration 14, loss = 0.54897201\n",
      "Iteration 15, loss = 0.54122022\n",
      "Iteration 16, loss = 0.53391210\n",
      "Iteration 17, loss = 0.52687148\n",
      "Iteration 18, loss = 0.52002847\n",
      "Iteration 19, loss = 0.51320322\n",
      "Iteration 20, loss = 0.50669332\n",
      "Iteration 1, loss = 0.76555807\n",
      "Iteration 2, loss = 0.72133346\n",
      "Iteration 3, loss = 0.68707184\n",
      "Iteration 4, loss = 0.66051861\n",
      "Iteration 5, loss = 0.64142866\n",
      "Iteration 6, loss = 0.62577646\n"
     ]
    },
    {
     "name": "stderr",
     "output_type": "stream",
     "text": [
      "D:\\anaconda\\envs\\tensorflow\\lib\\site-packages\\sklearn\\neural_network\\_multilayer_perceptron.py:702: ConvergenceWarning: Stochastic Optimizer: Maximum iterations (20) reached and the optimization hasn't converged yet.\n",
      "  warnings.warn(\n"
     ]
    },
    {
     "name": "stdout",
     "output_type": "stream",
     "text": [
      "Iteration 7, loss = 0.61230504\n",
      "Iteration 8, loss = 0.60096764\n",
      "Iteration 9, loss = 0.59032216\n",
      "Iteration 10, loss = 0.58061572\n",
      "Iteration 11, loss = 0.57115506\n",
      "Iteration 12, loss = 0.56252118\n",
      "Iteration 13, loss = 0.55447662\n",
      "Iteration 14, loss = 0.54652264\n",
      "Iteration 15, loss = 0.53852074\n",
      "Iteration 16, loss = 0.53114984\n",
      "Iteration 17, loss = 0.52404289\n",
      "Iteration 18, loss = 0.51718558\n",
      "Iteration 19, loss = 0.51026960\n",
      "Iteration 20, loss = 0.50343048\n",
      "Iteration 1, loss = 0.76279223\n",
      "Iteration 2, loss = 0.71691216\n",
      "Iteration 3, loss = 0.68277802\n"
     ]
    },
    {
     "name": "stderr",
     "output_type": "stream",
     "text": [
      "D:\\anaconda\\envs\\tensorflow\\lib\\site-packages\\sklearn\\neural_network\\_multilayer_perceptron.py:702: ConvergenceWarning: Stochastic Optimizer: Maximum iterations (20) reached and the optimization hasn't converged yet.\n",
      "  warnings.warn(\n"
     ]
    },
    {
     "name": "stdout",
     "output_type": "stream",
     "text": [
      "Iteration 4, loss = 0.65613576\n",
      "Iteration 5, loss = 0.63720495\n",
      "Iteration 6, loss = 0.62155941\n",
      "Iteration 7, loss = 0.60814963\n",
      "Iteration 8, loss = 0.59663751\n",
      "Iteration 9, loss = 0.58619647\n",
      "Iteration 10, loss = 0.57639093\n",
      "Iteration 11, loss = 0.56679224\n",
      "Iteration 12, loss = 0.55817026\n",
      "Iteration 13, loss = 0.55043394\n",
      "Iteration 14, loss = 0.54228230\n",
      "Iteration 15, loss = 0.53459168\n",
      "Iteration 16, loss = 0.52712183\n",
      "Iteration 17, loss = 0.52006106\n",
      "Iteration 18, loss = 0.51310716\n",
      "Iteration 19, loss = 0.50627585\n",
      "Iteration 20, loss = 0.49940389\n",
      "Iteration 1, loss = 0.76518302\n",
      "Iteration 2, loss = 0.71990904\n",
      "Iteration 3, loss = 0.68596177\n",
      "Iteration 4, loss = 0.65924766\n",
      "Iteration 5, loss = 0.64006443\n"
     ]
    },
    {
     "name": "stderr",
     "output_type": "stream",
     "text": [
      "D:\\anaconda\\envs\\tensorflow\\lib\\site-packages\\sklearn\\neural_network\\_multilayer_perceptron.py:702: ConvergenceWarning: Stochastic Optimizer: Maximum iterations (20) reached and the optimization hasn't converged yet.\n",
      "  warnings.warn(\n"
     ]
    },
    {
     "name": "stdout",
     "output_type": "stream",
     "text": [
      "Iteration 6, loss = 0.62444001\n",
      "Iteration 7, loss = 0.61119384\n",
      "Iteration 8, loss = 0.59963875\n",
      "Iteration 9, loss = 0.58932857\n",
      "Iteration 10, loss = 0.57977197\n",
      "Iteration 11, loss = 0.57034482\n",
      "Iteration 12, loss = 0.56177897\n",
      "Iteration 13, loss = 0.55413379\n",
      "Iteration 14, loss = 0.54583404\n",
      "Iteration 15, loss = 0.53825621\n",
      "Iteration 16, loss = 0.53089325\n",
      "Iteration 17, loss = 0.52371429\n",
      "Iteration 18, loss = 0.51698093\n",
      "Iteration 19, loss = 0.51001186\n",
      "Iteration 20, loss = 0.50321251\n",
      "Iteration 1, loss = 0.76732686\n"
     ]
    },
    {
     "name": "stderr",
     "output_type": "stream",
     "text": [
      "D:\\anaconda\\envs\\tensorflow\\lib\\site-packages\\sklearn\\neural_network\\_multilayer_perceptron.py:702: ConvergenceWarning: Stochastic Optimizer: Maximum iterations (20) reached and the optimization hasn't converged yet.\n",
      "  warnings.warn(\n"
     ]
    },
    {
     "name": "stdout",
     "output_type": "stream",
     "text": [
      "Iteration 2, loss = 0.72001438\n",
      "Iteration 3, loss = 0.68438780\n",
      "Iteration 4, loss = 0.65710919\n",
      "Iteration 5, loss = 0.63770557\n",
      "Iteration 6, loss = 0.62203299\n",
      "Iteration 7, loss = 0.60858786\n",
      "Iteration 8, loss = 0.59696361\n",
      "Iteration 9, loss = 0.58636787\n",
      "Iteration 10, loss = 0.57685324\n",
      "Iteration 11, loss = 0.56742136\n",
      "Iteration 12, loss = 0.55896501\n",
      "Iteration 13, loss = 0.55107623\n",
      "Iteration 14, loss = 0.54283725\n",
      "Iteration 15, loss = 0.53504617\n",
      "Iteration 16, loss = 0.52799145\n",
      "Iteration 17, loss = 0.52056880\n",
      "Iteration 18, loss = 0.51393519\n",
      "Iteration 19, loss = 0.50712132\n",
      "Iteration 20, loss = 0.50014383\n",
      "Iteration 1, loss = 0.76173320\n"
     ]
    },
    {
     "name": "stderr",
     "output_type": "stream",
     "text": [
      "D:\\anaconda\\envs\\tensorflow\\lib\\site-packages\\sklearn\\neural_network\\_multilayer_perceptron.py:702: ConvergenceWarning: Stochastic Optimizer: Maximum iterations (20) reached and the optimization hasn't converged yet.\n",
      "  warnings.warn(\n"
     ]
    },
    {
     "name": "stdout",
     "output_type": "stream",
     "text": [
      "Iteration 2, loss = 0.71796999\n",
      "Iteration 3, loss = 0.68435222\n",
      "Iteration 4, loss = 0.65907272\n",
      "Iteration 5, loss = 0.64011866\n",
      "Iteration 6, loss = 0.62466364\n",
      "Iteration 7, loss = 0.61135930\n",
      "Iteration 8, loss = 0.59972587\n",
      "Iteration 9, loss = 0.58907753\n",
      "Iteration 10, loss = 0.57948625\n",
      "Iteration 11, loss = 0.56996222\n",
      "Iteration 12, loss = 0.56132397\n",
      "Iteration 13, loss = 0.55326941\n",
      "Iteration 14, loss = 0.54524146\n",
      "Iteration 15, loss = 0.53708172\n",
      "Iteration 16, loss = 0.53014599\n",
      "Iteration 17, loss = 0.52237045\n",
      "Iteration 18, loss = 0.51541427\n",
      "Iteration 19, loss = 0.50852151\n",
      "Iteration 20, loss = 0.50171317\n",
      "Iteration 1, loss = 0.76100494\n",
      "Iteration 2, loss = 0.71568451\n",
      "Iteration 3, loss = 0.68107283\n"
     ]
    },
    {
     "name": "stderr",
     "output_type": "stream",
     "text": [
      "D:\\anaconda\\envs\\tensorflow\\lib\\site-packages\\sklearn\\neural_network\\_multilayer_perceptron.py:702: ConvergenceWarning: Stochastic Optimizer: Maximum iterations (20) reached and the optimization hasn't converged yet.\n",
      "  warnings.warn(\n"
     ]
    },
    {
     "name": "stdout",
     "output_type": "stream",
     "text": [
      "Iteration 4, loss = 0.65515536\n",
      "Iteration 5, loss = 0.63621273\n",
      "Iteration 6, loss = 0.62042178\n",
      "Iteration 7, loss = 0.60738464\n",
      "Iteration 8, loss = 0.59568855\n",
      "Iteration 9, loss = 0.58529643\n",
      "Iteration 10, loss = 0.57546285\n",
      "Iteration 11, loss = 0.56598495\n",
      "Iteration 12, loss = 0.55759766\n",
      "Iteration 13, loss = 0.54924105\n",
      "Iteration 14, loss = 0.54176826\n",
      "Iteration 15, loss = 0.53372387\n",
      "Iteration 16, loss = 0.52594244\n",
      "Iteration 17, loss = 0.51901225\n",
      "Iteration 18, loss = 0.51179321\n",
      "Iteration 19, loss = 0.50524004\n",
      "Iteration 20, loss = 0.49859138\n",
      "Iteration 1, loss = 0.76024452\n"
     ]
    },
    {
     "name": "stderr",
     "output_type": "stream",
     "text": [
      "D:\\anaconda\\envs\\tensorflow\\lib\\site-packages\\sklearn\\neural_network\\_multilayer_perceptron.py:702: ConvergenceWarning: Stochastic Optimizer: Maximum iterations (20) reached and the optimization hasn't converged yet.\n",
      "  warnings.warn(\n"
     ]
    },
    {
     "name": "stdout",
     "output_type": "stream",
     "text": [
      "Iteration 2, loss = 0.71792713\n",
      "Iteration 3, loss = 0.68474075\n",
      "Iteration 4, loss = 0.65964907\n",
      "Iteration 5, loss = 0.64105503\n",
      "Iteration 6, loss = 0.62563966\n",
      "Iteration 7, loss = 0.61259732\n",
      "Iteration 8, loss = 0.60119145\n",
      "Iteration 9, loss = 0.59085444\n",
      "Iteration 10, loss = 0.58125097\n",
      "Iteration 11, loss = 0.57211368\n",
      "Iteration 12, loss = 0.56398140\n",
      "Iteration 13, loss = 0.55600257\n",
      "Iteration 14, loss = 0.54852348\n",
      "Iteration 15, loss = 0.54105468\n",
      "Iteration 16, loss = 0.53340841\n",
      "Iteration 17, loss = 0.52666821\n",
      "Iteration 18, loss = 0.51947595\n",
      "Iteration 19, loss = 0.51307651\n",
      "Iteration 20, loss = 0.50661206\n"
     ]
    },
    {
     "name": "stderr",
     "output_type": "stream",
     "text": [
      "D:\\anaconda\\envs\\tensorflow\\lib\\site-packages\\sklearn\\neural_network\\_multilayer_perceptron.py:702: ConvergenceWarning: Stochastic Optimizer: Maximum iterations (20) reached and the optimization hasn't converged yet.\n",
      "  warnings.warn(\n",
      "D:\\anaconda\\envs\\tensorflow\\lib\\site-packages\\sklearn\\neural_network\\_multilayer_perceptron.py:559: ConvergenceWarning: lbfgs failed to converge (status=1):\n",
      "STOP: TOTAL NO. of ITERATIONS REACHED LIMIT.\n",
      "\n",
      "Increase the number of iterations (max_iter) or scale the data as shown in:\n",
      "    https://scikit-learn.org/stable/modules/preprocessing.html\n",
      "  self.n_iter_ = _check_optimize_result(\"lbfgs\", opt_res, self.max_iter)\n",
      "D:\\anaconda\\envs\\tensorflow\\lib\\site-packages\\sklearn\\neural_network\\_multilayer_perceptron.py:559: ConvergenceWarning: lbfgs failed to converge (status=1):\n",
      "STOP: TOTAL NO. of ITERATIONS REACHED LIMIT.\n",
      "\n",
      "Increase the number of iterations (max_iter) or scale the data as shown in:\n",
      "    https://scikit-learn.org/stable/modules/preprocessing.html\n",
      "  self.n_iter_ = _check_optimize_result(\"lbfgs\", opt_res, self.max_iter)\n",
      "D:\\anaconda\\envs\\tensorflow\\lib\\site-packages\\sklearn\\neural_network\\_multilayer_perceptron.py:559: ConvergenceWarning: lbfgs failed to converge (status=1):\n",
      "STOP: TOTAL NO. of ITERATIONS REACHED LIMIT.\n",
      "\n",
      "Increase the number of iterations (max_iter) or scale the data as shown in:\n",
      "    https://scikit-learn.org/stable/modules/preprocessing.html\n",
      "  self.n_iter_ = _check_optimize_result(\"lbfgs\", opt_res, self.max_iter)\n",
      "D:\\anaconda\\envs\\tensorflow\\lib\\site-packages\\sklearn\\neural_network\\_multilayer_perceptron.py:559: ConvergenceWarning: lbfgs failed to converge (status=1):\n",
      "STOP: TOTAL NO. of ITERATIONS REACHED LIMIT.\n",
      "\n",
      "Increase the number of iterations (max_iter) or scale the data as shown in:\n",
      "    https://scikit-learn.org/stable/modules/preprocessing.html\n",
      "  self.n_iter_ = _check_optimize_result(\"lbfgs\", opt_res, self.max_iter)\n",
      "D:\\anaconda\\envs\\tensorflow\\lib\\site-packages\\sklearn\\neural_network\\_multilayer_perceptron.py:559: ConvergenceWarning: lbfgs failed to converge (status=1):\n",
      "STOP: TOTAL NO. of ITERATIONS REACHED LIMIT.\n",
      "\n",
      "Increase the number of iterations (max_iter) or scale the data as shown in:\n",
      "    https://scikit-learn.org/stable/modules/preprocessing.html\n",
      "  self.n_iter_ = _check_optimize_result(\"lbfgs\", opt_res, self.max_iter)\n",
      "D:\\anaconda\\envs\\tensorflow\\lib\\site-packages\\sklearn\\neural_network\\_multilayer_perceptron.py:559: ConvergenceWarning: lbfgs failed to converge (status=1):\n",
      "STOP: TOTAL NO. of ITERATIONS REACHED LIMIT.\n",
      "\n",
      "Increase the number of iterations (max_iter) or scale the data as shown in:\n",
      "    https://scikit-learn.org/stable/modules/preprocessing.html\n",
      "  self.n_iter_ = _check_optimize_result(\"lbfgs\", opt_res, self.max_iter)\n",
      "D:\\anaconda\\envs\\tensorflow\\lib\\site-packages\\sklearn\\neural_network\\_multilayer_perceptron.py:559: ConvergenceWarning: lbfgs failed to converge (status=1):\n",
      "STOP: TOTAL NO. of ITERATIONS REACHED LIMIT.\n",
      "\n",
      "Increase the number of iterations (max_iter) or scale the data as shown in:\n",
      "    https://scikit-learn.org/stable/modules/preprocessing.html\n",
      "  self.n_iter_ = _check_optimize_result(\"lbfgs\", opt_res, self.max_iter)\n",
      "D:\\anaconda\\envs\\tensorflow\\lib\\site-packages\\sklearn\\neural_network\\_multilayer_perceptron.py:559: ConvergenceWarning: lbfgs failed to converge (status=1):\n",
      "STOP: TOTAL NO. of ITERATIONS REACHED LIMIT.\n",
      "\n",
      "Increase the number of iterations (max_iter) or scale the data as shown in:\n",
      "    https://scikit-learn.org/stable/modules/preprocessing.html\n",
      "  self.n_iter_ = _check_optimize_result(\"lbfgs\", opt_res, self.max_iter)\n",
      "D:\\anaconda\\envs\\tensorflow\\lib\\site-packages\\sklearn\\neural_network\\_multilayer_perceptron.py:559: ConvergenceWarning: lbfgs failed to converge (status=1):\n",
      "STOP: TOTAL NO. of ITERATIONS REACHED LIMIT.\n",
      "\n",
      "Increase the number of iterations (max_iter) or scale the data as shown in:\n",
      "    https://scikit-learn.org/stable/modules/preprocessing.html\n",
      "  self.n_iter_ = _check_optimize_result(\"lbfgs\", opt_res, self.max_iter)\n",
      "D:\\anaconda\\envs\\tensorflow\\lib\\site-packages\\sklearn\\neural_network\\_multilayer_perceptron.py:559: ConvergenceWarning: lbfgs failed to converge (status=1):\n",
      "STOP: TOTAL NO. of ITERATIONS REACHED LIMIT.\n",
      "\n",
      "Increase the number of iterations (max_iter) or scale the data as shown in:\n",
      "    https://scikit-learn.org/stable/modules/preprocessing.html\n",
      "  self.n_iter_ = _check_optimize_result(\"lbfgs\", opt_res, self.max_iter)\n"
     ]
    },
    {
     "name": "stdout",
     "output_type": "stream",
     "text": [
      "Iteration 1, loss = 0.93714968\n",
      "Iteration 2, loss = 0.91610833\n",
      "Iteration 3, loss = 0.89997978\n",
      "Iteration 4, loss = 0.88784145\n",
      "Iteration 5, loss = 0.87833384\n",
      "Iteration 6, loss = 0.87081613\n",
      "Iteration 7, loss = 0.86440205\n",
      "Iteration 8, loss = 0.85872374\n",
      "Iteration 9, loss = 0.85366388\n",
      "Iteration 10, loss = 0.84890351\n",
      "Iteration 11, loss = 0.84438748\n",
      "Iteration 12, loss = 0.84012103\n",
      "Iteration 13, loss = 0.83588437\n",
      "Iteration 14, loss = 0.83172808\n",
      "Iteration 15, loss = 0.82767936\n",
      "Iteration 16, loss = 0.82362504\n",
      "Iteration 17, loss = 0.81957918\n",
      "Iteration 18, loss = 0.81547367\n",
      "Iteration 19, loss = 0.81126005\n",
      "Iteration 20, loss = 0.80683377\n",
      "Iteration 1, loss = 0.93236596\n",
      "Iteration 2, loss = 0.91144136\n",
      "Iteration 3, loss = 0.89533949\n",
      "Iteration 4, loss = 0.88325560\n",
      "Iteration 5, loss = 0.87382162\n",
      "Iteration 6, loss = 0.86631898\n",
      "Iteration 7, loss = 0.85990711\n",
      "Iteration 8, loss = 0.85426983\n",
      "Iteration 9, loss = 0.84926245\n",
      "Iteration 10, loss = 0.84460862\n",
      "Iteration 11, loss = 0.84016038\n",
      "Iteration 12, loss = 0.83593378\n"
     ]
    },
    {
     "name": "stderr",
     "output_type": "stream",
     "text": [
      "D:\\anaconda\\envs\\tensorflow\\lib\\site-packages\\sklearn\\neural_network\\_multilayer_perceptron.py:702: ConvergenceWarning: Stochastic Optimizer: Maximum iterations (20) reached and the optimization hasn't converged yet.\n",
      "  warnings.warn(\n"
     ]
    },
    {
     "name": "stdout",
     "output_type": "stream",
     "text": [
      "Iteration 13, loss = 0.83180599\n",
      "Iteration 14, loss = 0.82774166\n",
      "Iteration 15, loss = 0.82379424\n",
      "Iteration 16, loss = 0.81987259\n",
      "Iteration 17, loss = 0.81596748\n",
      "Iteration 18, loss = 0.81204424\n",
      "Iteration 19, loss = 0.80806349\n",
      "Iteration 20, loss = 0.80394745\n",
      "Iteration 1, loss = 0.92752346\n",
      "Iteration 2, loss = 0.90702580\n",
      "Iteration 3, loss = 0.89136158\n"
     ]
    },
    {
     "name": "stderr",
     "output_type": "stream",
     "text": [
      "D:\\anaconda\\envs\\tensorflow\\lib\\site-packages\\sklearn\\neural_network\\_multilayer_perceptron.py:702: ConvergenceWarning: Stochastic Optimizer: Maximum iterations (20) reached and the optimization hasn't converged yet.\n",
      "  warnings.warn(\n"
     ]
    },
    {
     "name": "stdout",
     "output_type": "stream",
     "text": [
      "Iteration 4, loss = 0.87961125\n",
      "Iteration 5, loss = 0.87035861\n",
      "Iteration 6, loss = 0.86305177\n",
      "Iteration 7, loss = 0.85676793\n",
      "Iteration 8, loss = 0.85122916\n",
      "Iteration 9, loss = 0.84628612\n",
      "Iteration 10, loss = 0.84169482\n",
      "Iteration 11, loss = 0.83732275\n",
      "Iteration 12, loss = 0.83313126\n",
      "Iteration 13, loss = 0.82904964\n",
      "Iteration 14, loss = 0.82503106\n",
      "Iteration 15, loss = 0.82108456\n",
      "Iteration 16, loss = 0.81717788\n",
      "Iteration 17, loss = 0.81325815\n",
      "Iteration 18, loss = 0.80927780\n",
      "Iteration 19, loss = 0.80521157\n",
      "Iteration 20, loss = 0.80096930\n",
      "Iteration 1, loss = 0.93613226\n",
      "Iteration 2, loss = 0.91497828\n",
      "Iteration 3, loss = 0.89884322\n",
      "Iteration 4, loss = 0.88673725\n",
      "Iteration 5, loss = 0.87721080\n",
      "Iteration 6, loss = 0.86966395\n",
      "Iteration 7, loss = 0.86322550\n",
      "Iteration 8, loss = 0.85754594\n",
      "Iteration 9, loss = 0.85247762\n",
      "Iteration 10, loss = 0.84776362\n",
      "Iteration 11, loss = 0.84332404\n",
      "Iteration 12, loss = 0.83903989\n"
     ]
    },
    {
     "name": "stderr",
     "output_type": "stream",
     "text": [
      "D:\\anaconda\\envs\\tensorflow\\lib\\site-packages\\sklearn\\neural_network\\_multilayer_perceptron.py:702: ConvergenceWarning: Stochastic Optimizer: Maximum iterations (20) reached and the optimization hasn't converged yet.\n",
      "  warnings.warn(\n"
     ]
    },
    {
     "name": "stdout",
     "output_type": "stream",
     "text": [
      "Iteration 13, loss = 0.83486162\n",
      "Iteration 14, loss = 0.83080432\n",
      "Iteration 15, loss = 0.82677786\n",
      "Iteration 16, loss = 0.82287409\n",
      "Iteration 17, loss = 0.81895206\n",
      "Iteration 18, loss = 0.81505833\n",
      "Iteration 19, loss = 0.81110998\n",
      "Iteration 20, loss = 0.80712406\n",
      "Iteration 1, loss = 0.92736983\n",
      "Iteration 2, loss = 0.90665773\n",
      "Iteration 3, loss = 0.89091505\n",
      "Iteration 4, loss = 0.87911716\n",
      "Iteration 5, loss = 0.86976430\n",
      "Iteration 6, loss = 0.86243235\n",
      "Iteration 7, loss = 0.85611791\n"
     ]
    },
    {
     "name": "stderr",
     "output_type": "stream",
     "text": [
      "D:\\anaconda\\envs\\tensorflow\\lib\\site-packages\\sklearn\\neural_network\\_multilayer_perceptron.py:702: ConvergenceWarning: Stochastic Optimizer: Maximum iterations (20) reached and the optimization hasn't converged yet.\n",
      "  warnings.warn(\n"
     ]
    },
    {
     "name": "stdout",
     "output_type": "stream",
     "text": [
      "Iteration 8, loss = 0.85063479\n",
      "Iteration 9, loss = 0.84568664\n",
      "Iteration 10, loss = 0.84114291\n",
      "Iteration 11, loss = 0.83677768\n",
      "Iteration 12, loss = 0.83259854\n",
      "Iteration 13, loss = 0.82847624\n",
      "Iteration 14, loss = 0.82444442\n",
      "Iteration 15, loss = 0.82039259\n",
      "Iteration 16, loss = 0.81636842\n",
      "Iteration 17, loss = 0.81223064\n",
      "Iteration 18, loss = 0.80799702\n",
      "Iteration 19, loss = 0.80349260\n",
      "Iteration 20, loss = 0.79879174\n",
      "Iteration 1, loss = 0.93272949\n",
      "Iteration 2, loss = 0.91191965\n",
      "Iteration 3, loss = 0.89596161\n",
      "Iteration 4, loss = 0.88405850\n",
      "Iteration 5, loss = 0.87465479\n"
     ]
    },
    {
     "name": "stderr",
     "output_type": "stream",
     "text": [
      "D:\\anaconda\\envs\\tensorflow\\lib\\site-packages\\sklearn\\neural_network\\_multilayer_perceptron.py:702: ConvergenceWarning: Stochastic Optimizer: Maximum iterations (20) reached and the optimization hasn't converged yet.\n",
      "  warnings.warn(\n"
     ]
    },
    {
     "name": "stdout",
     "output_type": "stream",
     "text": [
      "Iteration 6, loss = 0.86722209\n",
      "Iteration 7, loss = 0.86080634\n",
      "Iteration 8, loss = 0.85530656\n",
      "Iteration 9, loss = 0.85022276\n",
      "Iteration 10, loss = 0.84561890\n",
      "Iteration 11, loss = 0.84119705\n",
      "Iteration 12, loss = 0.83693250\n",
      "Iteration 13, loss = 0.83277938\n",
      "Iteration 14, loss = 0.82873966\n",
      "Iteration 15, loss = 0.82465261\n",
      "Iteration 16, loss = 0.82070768\n",
      "Iteration 17, loss = 0.81664541\n",
      "Iteration 18, loss = 0.81261613\n",
      "Iteration 19, loss = 0.80840365\n",
      "Iteration 20, loss = 0.80401957\n",
      "Iteration 1, loss = 0.93671941\n"
     ]
    },
    {
     "name": "stderr",
     "output_type": "stream",
     "text": [
      "D:\\anaconda\\envs\\tensorflow\\lib\\site-packages\\sklearn\\neural_network\\_multilayer_perceptron.py:702: ConvergenceWarning: Stochastic Optimizer: Maximum iterations (20) reached and the optimization hasn't converged yet.\n",
      "  warnings.warn(\n"
     ]
    },
    {
     "name": "stdout",
     "output_type": "stream",
     "text": [
      "Iteration 2, loss = 0.91578190\n",
      "Iteration 3, loss = 0.89965139\n",
      "Iteration 4, loss = 0.88759636\n",
      "Iteration 5, loss = 0.87800712\n",
      "Iteration 6, loss = 0.87046482\n",
      "Iteration 7, loss = 0.86391695\n",
      "Iteration 8, loss = 0.85837561\n",
      "Iteration 9, loss = 0.85320909\n",
      "Iteration 10, loss = 0.84855101\n",
      "Iteration 11, loss = 0.84408139\n",
      "Iteration 12, loss = 0.83975220\n",
      "Iteration 13, loss = 0.83557388\n",
      "Iteration 14, loss = 0.83148523\n",
      "Iteration 15, loss = 0.82736848\n",
      "Iteration 16, loss = 0.82338342\n",
      "Iteration 17, loss = 0.81930950\n",
      "Iteration 18, loss = 0.81530747\n",
      "Iteration 19, loss = 0.81111013\n",
      "Iteration 20, loss = 0.80680320\n",
      "Iteration 1, loss = 0.94130539\n",
      "Iteration 2, loss = 0.92001541\n",
      "Iteration 3, loss = 0.90361302\n",
      "Iteration 4, loss = 0.89137580\n",
      "Iteration 5, loss = 0.88172956\n",
      "Iteration 6, loss = 0.87410084\n",
      "Iteration 7, loss = 0.86750417\n",
      "Iteration 8, loss = 0.86188658\n"
     ]
    },
    {
     "name": "stderr",
     "output_type": "stream",
     "text": [
      "D:\\anaconda\\envs\\tensorflow\\lib\\site-packages\\sklearn\\neural_network\\_multilayer_perceptron.py:702: ConvergenceWarning: Stochastic Optimizer: Maximum iterations (20) reached and the optimization hasn't converged yet.\n",
      "  warnings.warn(\n"
     ]
    },
    {
     "name": "stdout",
     "output_type": "stream",
     "text": [
      "Iteration 9, loss = 0.85667520\n",
      "Iteration 10, loss = 0.85193106\n",
      "Iteration 11, loss = 0.84737963\n",
      "Iteration 12, loss = 0.84300471\n",
      "Iteration 13, loss = 0.83877670\n",
      "Iteration 14, loss = 0.83463496\n",
      "Iteration 15, loss = 0.83047615\n",
      "Iteration 16, loss = 0.82645882\n",
      "Iteration 17, loss = 0.82236758\n",
      "Iteration 18, loss = 0.81833395\n",
      "Iteration 19, loss = 0.81417586\n",
      "Iteration 20, loss = 0.80988780\n"
     ]
    },
    {
     "name": "stderr",
     "output_type": "stream",
     "text": [
      "D:\\anaconda\\envs\\tensorflow\\lib\\site-packages\\sklearn\\neural_network\\_multilayer_perceptron.py:702: ConvergenceWarning: Stochastic Optimizer: Maximum iterations (20) reached and the optimization hasn't converged yet.\n",
      "  warnings.warn(\n"
     ]
    },
    {
     "name": "stdout",
     "output_type": "stream",
     "text": [
      "Iteration 1, loss = 0.93233281\n",
      "Iteration 2, loss = 0.91158213\n",
      "Iteration 3, loss = 0.89571161\n",
      "Iteration 4, loss = 0.88348097\n",
      "Iteration 5, loss = 0.87425934\n",
      "Iteration 6, loss = 0.86667396\n",
      "Iteration 7, loss = 0.86026875\n",
      "Iteration 8, loss = 0.85476395\n",
      "Iteration 9, loss = 0.84974286\n",
      "Iteration 10, loss = 0.84512818\n",
      "Iteration 11, loss = 0.84062339\n",
      "Iteration 12, loss = 0.83644873\n",
      "Iteration 13, loss = 0.83232900\n",
      "Iteration 14, loss = 0.82832722\n",
      "Iteration 15, loss = 0.82429820\n",
      "Iteration 16, loss = 0.82034975\n",
      "Iteration 17, loss = 0.81642130\n",
      "Iteration 18, loss = 0.81240739\n",
      "Iteration 19, loss = 0.80833351\n",
      "Iteration 20, loss = 0.80409765\n",
      "Iteration 1, loss = 0.93309488\n",
      "Iteration 2, loss = 0.91241410\n",
      "Iteration 3, loss = 0.89660047\n",
      "Iteration 4, loss = 0.88447021\n",
      "Iteration 5, loss = 0.87527083\n",
      "Iteration 6, loss = 0.86766156\n",
      "Iteration 7, loss = 0.86130469\n"
     ]
    },
    {
     "name": "stderr",
     "output_type": "stream",
     "text": [
      "D:\\anaconda\\envs\\tensorflow\\lib\\site-packages\\sklearn\\neural_network\\_multilayer_perceptron.py:702: ConvergenceWarning: Stochastic Optimizer: Maximum iterations (20) reached and the optimization hasn't converged yet.\n",
      "  warnings.warn(\n"
     ]
    },
    {
     "name": "stdout",
     "output_type": "stream",
     "text": [
      "Iteration 8, loss = 0.85577814\n",
      "Iteration 9, loss = 0.85072493\n",
      "Iteration 10, loss = 0.84608769\n",
      "Iteration 11, loss = 0.84157542\n",
      "Iteration 12, loss = 0.83738184\n",
      "Iteration 13, loss = 0.83325149\n",
      "Iteration 14, loss = 0.82922853\n",
      "Iteration 15, loss = 0.82518716\n",
      "Iteration 16, loss = 0.82124656\n",
      "Iteration 17, loss = 0.81730716\n",
      "Iteration 18, loss = 0.81326328\n",
      "Iteration 19, loss = 0.80920445\n",
      "Iteration 20, loss = 0.80496866\n",
      "Iteration 1, loss = 0.93254934\n"
     ]
    },
    {
     "name": "stderr",
     "output_type": "stream",
     "text": [
      "D:\\anaconda\\envs\\tensorflow\\lib\\site-packages\\sklearn\\neural_network\\_multilayer_perceptron.py:702: ConvergenceWarning: Stochastic Optimizer: Maximum iterations (20) reached and the optimization hasn't converged yet.\n",
      "  warnings.warn(\n"
     ]
    },
    {
     "name": "stdout",
     "output_type": "stream",
     "text": [
      "Iteration 2, loss = 0.88318420\n",
      "Iteration 3, loss = 0.83982734\n",
      "Iteration 4, loss = 0.80908768\n",
      "Iteration 5, loss = 0.78808989\n",
      "Iteration 6, loss = 0.77436723\n",
      "Iteration 7, loss = 0.76476429\n",
      "Iteration 8, loss = 0.75735142\n",
      "Iteration 9, loss = 0.75139196\n",
      "Iteration 10, loss = 0.74587583\n",
      "Iteration 11, loss = 0.74081960\n",
      "Iteration 12, loss = 0.73612117\n",
      "Iteration 13, loss = 0.73132505\n",
      "Iteration 14, loss = 0.72653396\n",
      "Iteration 15, loss = 0.72197478\n",
      "Iteration 16, loss = 0.71757193\n",
      "Iteration 17, loss = 0.71314232\n",
      "Iteration 18, loss = 0.70868698\n",
      "Iteration 19, loss = 0.70441634\n",
      "Iteration 20, loss = 0.70021064\n"
     ]
    },
    {
     "name": "stderr",
     "output_type": "stream",
     "text": [
      "D:\\anaconda\\envs\\tensorflow\\lib\\site-packages\\sklearn\\neural_network\\_multilayer_perceptron.py:702: ConvergenceWarning: Stochastic Optimizer: Maximum iterations (20) reached and the optimization hasn't converged yet.\n",
      "  warnings.warn(\n"
     ]
    },
    {
     "name": "stdout",
     "output_type": "stream",
     "text": [
      "Iteration 1, loss = 0.92781829\n",
      "Iteration 2, loss = 0.87848213\n",
      "Iteration 3, loss = 0.83538399\n",
      "Iteration 4, loss = 0.80510669\n",
      "Iteration 5, loss = 0.78474396\n",
      "Iteration 6, loss = 0.77160117\n",
      "Iteration 7, loss = 0.76240894\n",
      "Iteration 8, loss = 0.75543034\n",
      "Iteration 9, loss = 0.74985727\n",
      "Iteration 10, loss = 0.74479277\n",
      "Iteration 11, loss = 0.74006418\n",
      "Iteration 12, loss = 0.73558757\n",
      "Iteration 13, loss = 0.73122261\n",
      "Iteration 14, loss = 0.72687098\n",
      "Iteration 15, loss = 0.72260758\n",
      "Iteration 16, loss = 0.71869076\n",
      "Iteration 17, loss = 0.71463376\n",
      "Iteration 18, loss = 0.71062384\n",
      "Iteration 19, loss = 0.70667776\n",
      "Iteration 20, loss = 0.70267158\n",
      "Iteration 1, loss = 0.92351841\n",
      "Iteration 2, loss = 0.87650735\n",
      "Iteration 3, loss = 0.83515352\n",
      "Iteration 4, loss = 0.80587205\n",
      "Iteration 5, loss = 0.78562955\n",
      "Iteration 6, loss = 0.77257654\n",
      "Iteration 7, loss = 0.76322596\n",
      "Iteration 8, loss = 0.75611570\n",
      "Iteration 9, loss = 0.75040382\n",
      "Iteration 10, loss = 0.74527454\n",
      "Iteration 11, loss = 0.74050968\n",
      "Iteration 12, loss = 0.73598248\n",
      "Iteration 13, loss = 0.73162043\n",
      "Iteration 14, loss = 0.72728780\n",
      "Iteration 15, loss = 0.72318319\n"
     ]
    },
    {
     "name": "stderr",
     "output_type": "stream",
     "text": [
      "D:\\anaconda\\envs\\tensorflow\\lib\\site-packages\\sklearn\\neural_network\\_multilayer_perceptron.py:702: ConvergenceWarning: Stochastic Optimizer: Maximum iterations (20) reached and the optimization hasn't converged yet.\n",
      "  warnings.warn(\n"
     ]
    },
    {
     "name": "stdout",
     "output_type": "stream",
     "text": [
      "Iteration 16, loss = 0.71938580\n",
      "Iteration 17, loss = 0.71549420\n",
      "Iteration 18, loss = 0.71158804\n",
      "Iteration 19, loss = 0.70782236\n",
      "Iteration 20, loss = 0.70401087\n",
      "Iteration 1, loss = 0.93144530\n",
      "Iteration 2, loss = 0.88164224\n",
      "Iteration 3, loss = 0.83829126\n",
      "Iteration 4, loss = 0.80775712\n",
      "Iteration 5, loss = 0.78677732\n",
      "Iteration 6, loss = 0.77328464\n",
      "Iteration 7, loss = 0.76386626\n",
      "Iteration 8, loss = 0.75661985\n",
      "Iteration 9, loss = 0.75078065\n",
      "Iteration 10, loss = 0.74547065\n",
      "Iteration 11, loss = 0.74058544\n",
      "Iteration 12, loss = 0.73588323\n"
     ]
    },
    {
     "name": "stderr",
     "output_type": "stream",
     "text": [
      "D:\\anaconda\\envs\\tensorflow\\lib\\site-packages\\sklearn\\neural_network\\_multilayer_perceptron.py:702: ConvergenceWarning: Stochastic Optimizer: Maximum iterations (20) reached and the optimization hasn't converged yet.\n",
      "  warnings.warn(\n"
     ]
    },
    {
     "name": "stdout",
     "output_type": "stream",
     "text": [
      "Iteration 13, loss = 0.73124826\n",
      "Iteration 14, loss = 0.72668318\n",
      "Iteration 15, loss = 0.72219562\n",
      "Iteration 16, loss = 0.71804018\n",
      "Iteration 17, loss = 0.71379255\n",
      "Iteration 18, loss = 0.70956048\n",
      "Iteration 19, loss = 0.70539898\n",
      "Iteration 20, loss = 0.70144514\n",
      "Iteration 1, loss = 0.92303578\n",
      "Iteration 2, loss = 0.87547928\n",
      "Iteration 3, loss = 0.83403256\n",
      "Iteration 4, loss = 0.80470179\n",
      "Iteration 5, loss = 0.78418148\n",
      "Iteration 6, loss = 0.77109661\n",
      "Iteration 7, loss = 0.76176602\n",
      "Iteration 8, loss = 0.75483874\n",
      "Iteration 9, loss = 0.74913739\n",
      "Iteration 10, loss = 0.74416214\n",
      "Iteration 11, loss = 0.73936704\n",
      "Iteration 12, loss = 0.73490473\n"
     ]
    },
    {
     "name": "stderr",
     "output_type": "stream",
     "text": [
      "D:\\anaconda\\envs\\tensorflow\\lib\\site-packages\\sklearn\\neural_network\\_multilayer_perceptron.py:702: ConvergenceWarning: Stochastic Optimizer: Maximum iterations (20) reached and the optimization hasn't converged yet.\n",
      "  warnings.warn(\n"
     ]
    },
    {
     "name": "stdout",
     "output_type": "stream",
     "text": [
      "Iteration 13, loss = 0.73038515\n",
      "Iteration 14, loss = 0.72590001\n",
      "Iteration 15, loss = 0.72152481\n",
      "Iteration 16, loss = 0.71734504\n",
      "Iteration 17, loss = 0.71302242\n",
      "Iteration 18, loss = 0.70876319\n",
      "Iteration 19, loss = 0.70466309\n",
      "Iteration 20, loss = 0.70076358\n",
      "Iteration 1, loss = 0.92819992\n",
      "Iteration 2, loss = 0.88003070\n",
      "Iteration 3, loss = 0.83766346\n",
      "Iteration 4, loss = 0.80771298\n",
      "Iteration 5, loss = 0.78686283\n",
      "Iteration 6, loss = 0.77344805\n",
      "Iteration 7, loss = 0.76382335\n",
      "Iteration 8, loss = 0.75694517\n",
      "Iteration 9, loss = 0.75091961\n",
      "Iteration 10, loss = 0.74579213\n",
      "Iteration 11, loss = 0.74082507\n",
      "Iteration 12, loss = 0.73614872\n"
     ]
    },
    {
     "name": "stderr",
     "output_type": "stream",
     "text": [
      "D:\\anaconda\\envs\\tensorflow\\lib\\site-packages\\sklearn\\neural_network\\_multilayer_perceptron.py:702: ConvergenceWarning: Stochastic Optimizer: Maximum iterations (20) reached and the optimization hasn't converged yet.\n",
      "  warnings.warn(\n",
      "D:\\anaconda\\envs\\tensorflow\\lib\\site-packages\\sklearn\\neural_network\\_multilayer_perceptron.py:702: ConvergenceWarning: Stochastic Optimizer: Maximum iterations (20) reached and the optimization hasn't converged yet.\n",
      "  warnings.warn(\n"
     ]
    },
    {
     "name": "stdout",
     "output_type": "stream",
     "text": [
      "Iteration 13, loss = 0.73160456\n",
      "Iteration 14, loss = 0.72700219\n",
      "Iteration 15, loss = 0.72232107\n",
      "Iteration 16, loss = 0.71808396\n",
      "Iteration 17, loss = 0.71359779\n",
      "Iteration 18, loss = 0.70922188\n",
      "Iteration 19, loss = 0.70497824\n",
      "Iteration 20, loss = 0.70092315\n",
      "Iteration 1, loss = 0.93188590\n",
      "Iteration 2, loss = 0.88285963\n",
      "Iteration 3, loss = 0.83972914\n",
      "Iteration 4, loss = 0.80923904\n",
      "Iteration 5, loss = 0.78790286\n",
      "Iteration 6, loss = 0.77430987\n",
      "Iteration 7, loss = 0.76437776\n",
      "Iteration 8, loss = 0.75747524\n",
      "Iteration 9, loss = 0.75116564\n",
      "Iteration 10, loss = 0.74585431\n",
      "Iteration 11, loss = 0.74069181\n",
      "Iteration 12, loss = 0.73574604\n",
      "Iteration 13, loss = 0.73083800\n",
      "Iteration 14, loss = 0.72597826\n",
      "Iteration 15, loss = 0.72124075\n",
      "Iteration 16, loss = 0.71666158\n",
      "Iteration 17, loss = 0.71191350\n",
      "Iteration 18, loss = 0.70722870\n",
      "Iteration 19, loss = 0.70280806\n",
      "Iteration 20, loss = 0.69850345\n",
      "Iteration 1, loss = 0.93640818\n",
      "Iteration 2, loss = 0.88595426\n",
      "Iteration 3, loss = 0.84134746\n",
      "Iteration 4, loss = 0.81001319\n",
      "Iteration 5, loss = 0.78838045\n",
      "Iteration 6, loss = 0.77466115\n",
      "Iteration 7, loss = 0.76467169\n",
      "Iteration 8, loss = 0.75778795\n",
      "Iteration 9, loss = 0.75152498\n",
      "Iteration 10, loss = 0.74621344\n",
      "Iteration 11, loss = 0.74106337\n",
      "Iteration 12, loss = 0.73624721\n"
     ]
    },
    {
     "name": "stderr",
     "output_type": "stream",
     "text": [
      "D:\\anaconda\\envs\\tensorflow\\lib\\site-packages\\sklearn\\neural_network\\_multilayer_perceptron.py:702: ConvergenceWarning: Stochastic Optimizer: Maximum iterations (20) reached and the optimization hasn't converged yet.\n",
      "  warnings.warn(\n",
      "D:\\anaconda\\envs\\tensorflow\\lib\\site-packages\\sklearn\\neural_network\\_multilayer_perceptron.py:702: ConvergenceWarning: Stochastic Optimizer: Maximum iterations (20) reached and the optimization hasn't converged yet.\n",
      "  warnings.warn(\n"
     ]
    },
    {
     "name": "stdout",
     "output_type": "stream",
     "text": [
      "Iteration 13, loss = 0.73155512\n",
      "Iteration 14, loss = 0.72689282\n",
      "Iteration 15, loss = 0.72234562\n",
      "Iteration 16, loss = 0.71809972\n",
      "Iteration 17, loss = 0.71372790\n",
      "Iteration 18, loss = 0.70946465\n",
      "Iteration 19, loss = 0.70524976\n",
      "Iteration 20, loss = 0.70132570\n",
      "Iteration 1, loss = 0.92771831\n",
      "Iteration 2, loss = 0.87980013\n",
      "Iteration 3, loss = 0.83760709\n",
      "Iteration 4, loss = 0.80692024\n",
      "Iteration 5, loss = 0.78695393\n",
      "Iteration 6, loss = 0.77334372\n",
      "Iteration 7, loss = 0.76373386\n",
      "Iteration 8, loss = 0.75688180\n",
      "Iteration 9, loss = 0.75108870\n",
      "Iteration 10, loss = 0.74586531\n",
      "Iteration 11, loss = 0.74081945\n",
      "Iteration 12, loss = 0.73621566\n",
      "Iteration 13, loss = 0.73153434\n",
      "Iteration 14, loss = 0.72699046\n",
      "Iteration 15, loss = 0.72237197\n",
      "Iteration 16, loss = 0.71795868\n",
      "Iteration 17, loss = 0.71361982\n",
      "Iteration 18, loss = 0.70922943\n",
      "Iteration 19, loss = 0.70497168\n",
      "Iteration 20, loss = 0.70101391\n",
      "Iteration 1, loss = 0.92840161\n",
      "Iteration 2, loss = 0.88088194\n",
      "Iteration 3, loss = 0.83909969\n",
      "Iteration 4, loss = 0.80879857\n",
      "Iteration 5, loss = 0.78872883\n",
      "Iteration 6, loss = 0.77489267\n",
      "Iteration 7, loss = 0.76544262\n",
      "Iteration 8, loss = 0.75863977\n",
      "Iteration 9, loss = 0.75291989\n",
      "Iteration 10, loss = 0.74783065\n",
      "Iteration 11, loss = 0.74287267\n",
      "Iteration 12, loss = 0.73839566\n",
      "Iteration 13, loss = 0.73386706\n",
      "Iteration 14, loss = 0.72950299\n",
      "Iteration 15, loss = 0.72517425\n"
     ]
    },
    {
     "name": "stderr",
     "output_type": "stream",
     "text": [
      "D:\\anaconda\\envs\\tensorflow\\lib\\site-packages\\sklearn\\neural_network\\_multilayer_perceptron.py:702: ConvergenceWarning: Stochastic Optimizer: Maximum iterations (20) reached and the optimization hasn't converged yet.\n",
      "  warnings.warn(\n",
      "D:\\anaconda\\envs\\tensorflow\\lib\\site-packages\\sklearn\\neural_network\\_multilayer_perceptron.py:702: ConvergenceWarning: Stochastic Optimizer: Maximum iterations (20) reached and the optimization hasn't converged yet.\n",
      "  warnings.warn(\n"
     ]
    },
    {
     "name": "stdout",
     "output_type": "stream",
     "text": [
      "Iteration 16, loss = 0.72108921\n",
      "Iteration 17, loss = 0.71702426\n",
      "Iteration 18, loss = 0.71294530\n",
      "Iteration 19, loss = 0.70896163\n",
      "Iteration 20, loss = 0.70521191\n"
     ]
    },
    {
     "name": "stderr",
     "output_type": "stream",
     "text": [
      "D:\\anaconda\\envs\\tensorflow\\lib\\site-packages\\sklearn\\neural_network\\_multilayer_perceptron.py:559: ConvergenceWarning: lbfgs failed to converge (status=1):\n",
      "STOP: TOTAL NO. of ITERATIONS REACHED LIMIT.\n",
      "\n",
      "Increase the number of iterations (max_iter) or scale the data as shown in:\n",
      "    https://scikit-learn.org/stable/modules/preprocessing.html\n",
      "  self.n_iter_ = _check_optimize_result(\"lbfgs\", opt_res, self.max_iter)\n",
      "D:\\anaconda\\envs\\tensorflow\\lib\\site-packages\\sklearn\\neural_network\\_multilayer_perceptron.py:559: ConvergenceWarning: lbfgs failed to converge (status=1):\n",
      "STOP: TOTAL NO. of ITERATIONS REACHED LIMIT.\n",
      "\n",
      "Increase the number of iterations (max_iter) or scale the data as shown in:\n",
      "    https://scikit-learn.org/stable/modules/preprocessing.html\n",
      "  self.n_iter_ = _check_optimize_result(\"lbfgs\", opt_res, self.max_iter)\n",
      "D:\\anaconda\\envs\\tensorflow\\lib\\site-packages\\sklearn\\neural_network\\_multilayer_perceptron.py:559: ConvergenceWarning: lbfgs failed to converge (status=1):\n",
      "STOP: TOTAL NO. of ITERATIONS REACHED LIMIT.\n",
      "\n",
      "Increase the number of iterations (max_iter) or scale the data as shown in:\n",
      "    https://scikit-learn.org/stable/modules/preprocessing.html\n",
      "  self.n_iter_ = _check_optimize_result(\"lbfgs\", opt_res, self.max_iter)\n",
      "D:\\anaconda\\envs\\tensorflow\\lib\\site-packages\\sklearn\\neural_network\\_multilayer_perceptron.py:559: ConvergenceWarning: lbfgs failed to converge (status=1):\n",
      "STOP: TOTAL NO. of ITERATIONS REACHED LIMIT.\n",
      "\n",
      "Increase the number of iterations (max_iter) or scale the data as shown in:\n",
      "    https://scikit-learn.org/stable/modules/preprocessing.html\n",
      "  self.n_iter_ = _check_optimize_result(\"lbfgs\", opt_res, self.max_iter)\n",
      "D:\\anaconda\\envs\\tensorflow\\lib\\site-packages\\sklearn\\neural_network\\_multilayer_perceptron.py:559: ConvergenceWarning: lbfgs failed to converge (status=1):\n",
      "STOP: TOTAL NO. of ITERATIONS REACHED LIMIT.\n",
      "\n",
      "Increase the number of iterations (max_iter) or scale the data as shown in:\n",
      "    https://scikit-learn.org/stable/modules/preprocessing.html\n",
      "  self.n_iter_ = _check_optimize_result(\"lbfgs\", opt_res, self.max_iter)\n",
      "D:\\anaconda\\envs\\tensorflow\\lib\\site-packages\\sklearn\\neural_network\\_multilayer_perceptron.py:559: ConvergenceWarning: lbfgs failed to converge (status=1):\n",
      "STOP: TOTAL NO. of ITERATIONS REACHED LIMIT.\n",
      "\n",
      "Increase the number of iterations (max_iter) or scale the data as shown in:\n",
      "    https://scikit-learn.org/stable/modules/preprocessing.html\n",
      "  self.n_iter_ = _check_optimize_result(\"lbfgs\", opt_res, self.max_iter)\n",
      "D:\\anaconda\\envs\\tensorflow\\lib\\site-packages\\sklearn\\neural_network\\_multilayer_perceptron.py:559: ConvergenceWarning: lbfgs failed to converge (status=1):\n",
      "STOP: TOTAL NO. of ITERATIONS REACHED LIMIT.\n",
      "\n",
      "Increase the number of iterations (max_iter) or scale the data as shown in:\n",
      "    https://scikit-learn.org/stable/modules/preprocessing.html\n",
      "  self.n_iter_ = _check_optimize_result(\"lbfgs\", opt_res, self.max_iter)\n",
      "D:\\anaconda\\envs\\tensorflow\\lib\\site-packages\\sklearn\\neural_network\\_multilayer_perceptron.py:559: ConvergenceWarning: lbfgs failed to converge (status=1):\n",
      "STOP: TOTAL NO. of ITERATIONS REACHED LIMIT.\n",
      "\n",
      "Increase the number of iterations (max_iter) or scale the data as shown in:\n",
      "    https://scikit-learn.org/stable/modules/preprocessing.html\n",
      "  self.n_iter_ = _check_optimize_result(\"lbfgs\", opt_res, self.max_iter)\n",
      "D:\\anaconda\\envs\\tensorflow\\lib\\site-packages\\sklearn\\neural_network\\_multilayer_perceptron.py:559: ConvergenceWarning: lbfgs failed to converge (status=1):\n",
      "STOP: TOTAL NO. of ITERATIONS REACHED LIMIT.\n",
      "\n",
      "Increase the number of iterations (max_iter) or scale the data as shown in:\n",
      "    https://scikit-learn.org/stable/modules/preprocessing.html\n",
      "  self.n_iter_ = _check_optimize_result(\"lbfgs\", opt_res, self.max_iter)\n",
      "D:\\anaconda\\envs\\tensorflow\\lib\\site-packages\\sklearn\\neural_network\\_multilayer_perceptron.py:559: ConvergenceWarning: lbfgs failed to converge (status=1):\n",
      "STOP: TOTAL NO. of ITERATIONS REACHED LIMIT.\n",
      "\n",
      "Increase the number of iterations (max_iter) or scale the data as shown in:\n",
      "    https://scikit-learn.org/stable/modules/preprocessing.html\n",
      "  self.n_iter_ = _check_optimize_result(\"lbfgs\", opt_res, self.max_iter)\n"
     ]
    },
    {
     "name": "stdout",
     "output_type": "stream",
     "text": [
      "Iteration 1, loss = 1.20980137\n",
      "Iteration 2, loss = 0.67521052\n",
      "Iteration 3, loss = 0.53604710\n",
      "Iteration 4, loss = 0.47359285\n",
      "Iteration 5, loss = 0.43298949\n",
      "Iteration 6, loss = 0.40459856\n",
      "Iteration 7, loss = 0.38201953\n",
      "Iteration 8, loss = 0.36359531\n",
      "Iteration 9, loss = 0.34769844\n",
      "Iteration 10, loss = 0.33382872\n",
      "Iteration 11, loss = 0.32161448\n",
      "Iteration 12, loss = 0.31030847\n",
      "Iteration 13, loss = 0.29992816\n",
      "Iteration 14, loss = 0.28969547\n",
      "Iteration 15, loss = 0.28157266\n",
      "Iteration 16, loss = 0.27301442\n",
      "Iteration 17, loss = 0.26464029\n",
      "Iteration 18, loss = 0.25788596\n",
      "Iteration 19, loss = 0.25050087\n",
      "Iteration 20, loss = 0.24323566\n",
      "Iteration 1, loss = 1.21716802\n",
      "Iteration 2, loss = 0.67761392\n",
      "Iteration 3, loss = 0.53750608\n",
      "Iteration 4, loss = 0.47410685\n",
      "Iteration 5, loss = 0.43367290\n",
      "Iteration 6, loss = 0.40534464\n",
      "Iteration 7, loss = 0.38248322\n",
      "Iteration 8, loss = 0.36377427\n",
      "Iteration 9, loss = 0.34792607\n"
     ]
    },
    {
     "name": "stderr",
     "output_type": "stream",
     "text": [
      "D:\\anaconda\\envs\\tensorflow\\lib\\site-packages\\sklearn\\neural_network\\_multilayer_perceptron.py:702: ConvergenceWarning: Stochastic Optimizer: Maximum iterations (20) reached and the optimization hasn't converged yet.\n",
      "  warnings.warn(\n"
     ]
    },
    {
     "name": "stdout",
     "output_type": "stream",
     "text": [
      "Iteration 10, loss = 0.33401263\n",
      "Iteration 11, loss = 0.32175681\n",
      "Iteration 12, loss = 0.31039494\n",
      "Iteration 13, loss = 0.30025061\n",
      "Iteration 14, loss = 0.28989215\n",
      "Iteration 15, loss = 0.28158068\n",
      "Iteration 16, loss = 0.27336816\n",
      "Iteration 17, loss = 0.26509219\n",
      "Iteration 18, loss = 0.25766232\n",
      "Iteration 19, loss = 0.25039890\n",
      "Iteration 20, loss = 0.24294680\n",
      "Iteration 1, loss = 1.21516265\n",
      "Iteration 2, loss = 0.67777669\n",
      "Iteration 3, loss = 0.53880893\n",
      "Iteration 4, loss = 0.47674627\n",
      "Iteration 5, loss = 0.43674430\n",
      "Iteration 6, loss = 0.40839369\n",
      "Iteration 7, loss = 0.38580656\n",
      "Iteration 8, loss = 0.36719627\n"
     ]
    },
    {
     "name": "stderr",
     "output_type": "stream",
     "text": [
      "D:\\anaconda\\envs\\tensorflow\\lib\\site-packages\\sklearn\\neural_network\\_multilayer_perceptron.py:702: ConvergenceWarning: Stochastic Optimizer: Maximum iterations (20) reached and the optimization hasn't converged yet.\n",
      "  warnings.warn(\n"
     ]
    },
    {
     "name": "stdout",
     "output_type": "stream",
     "text": [
      "Iteration 9, loss = 0.35112896\n",
      "Iteration 10, loss = 0.33679473\n",
      "Iteration 11, loss = 0.32449583\n",
      "Iteration 12, loss = 0.31321296\n",
      "Iteration 13, loss = 0.30302316\n",
      "Iteration 14, loss = 0.29242900\n",
      "Iteration 15, loss = 0.28393492\n",
      "Iteration 16, loss = 0.27561009\n",
      "Iteration 17, loss = 0.26716139\n",
      "Iteration 18, loss = 0.25948313\n",
      "Iteration 19, loss = 0.25224587\n",
      "Iteration 20, loss = 0.24497527\n",
      "Iteration 1, loss = 1.19800711\n",
      "Iteration 2, loss = 0.67090672\n",
      "Iteration 3, loss = 0.53585067\n",
      "Iteration 4, loss = 0.47219417\n"
     ]
    },
    {
     "name": "stderr",
     "output_type": "stream",
     "text": [
      "D:\\anaconda\\envs\\tensorflow\\lib\\site-packages\\sklearn\\neural_network\\_multilayer_perceptron.py:702: ConvergenceWarning: Stochastic Optimizer: Maximum iterations (20) reached and the optimization hasn't converged yet.\n",
      "  warnings.warn(\n"
     ]
    },
    {
     "name": "stdout",
     "output_type": "stream",
     "text": [
      "Iteration 5, loss = 0.43175854\n",
      "Iteration 6, loss = 0.40309242\n",
      "Iteration 7, loss = 0.38037437\n",
      "Iteration 8, loss = 0.36153235\n",
      "Iteration 9, loss = 0.34531338\n",
      "Iteration 10, loss = 0.33122971\n",
      "Iteration 11, loss = 0.31897674\n",
      "Iteration 12, loss = 0.30754500\n",
      "Iteration 13, loss = 0.29733991\n",
      "Iteration 14, loss = 0.28727586\n",
      "Iteration 15, loss = 0.27855586\n",
      "Iteration 16, loss = 0.27044947\n",
      "Iteration 17, loss = 0.26218613\n",
      "Iteration 18, loss = 0.25485327\n",
      "Iteration 19, loss = 0.24769686\n",
      "Iteration 20, loss = 0.24096756\n",
      "Iteration 1, loss = 1.21519117\n",
      "Iteration 2, loss = 0.67303030\n"
     ]
    },
    {
     "name": "stderr",
     "output_type": "stream",
     "text": [
      "D:\\anaconda\\envs\\tensorflow\\lib\\site-packages\\sklearn\\neural_network\\_multilayer_perceptron.py:702: ConvergenceWarning: Stochastic Optimizer: Maximum iterations (20) reached and the optimization hasn't converged yet.\n",
      "  warnings.warn(\n"
     ]
    },
    {
     "name": "stdout",
     "output_type": "stream",
     "text": [
      "Iteration 3, loss = 0.53432722\n",
      "Iteration 4, loss = 0.47140529\n",
      "Iteration 5, loss = 0.43126880\n",
      "Iteration 6, loss = 0.40308637\n",
      "Iteration 7, loss = 0.38069065\n",
      "Iteration 8, loss = 0.36252319\n",
      "Iteration 9, loss = 0.34678610\n",
      "Iteration 10, loss = 0.33246103\n",
      "Iteration 11, loss = 0.32023984\n",
      "Iteration 12, loss = 0.30898499\n",
      "Iteration 13, loss = 0.29877719\n",
      "Iteration 14, loss = 0.28887491\n",
      "Iteration 15, loss = 0.27993570\n",
      "Iteration 16, loss = 0.27217632\n",
      "Iteration 17, loss = 0.26362769\n",
      "Iteration 18, loss = 0.25608165\n",
      "Iteration 19, loss = 0.24913747\n",
      "Iteration 20, loss = 0.24211014\n",
      "Iteration 1, loss = 1.20838726\n",
      "Iteration 2, loss = 0.67291558\n",
      "Iteration 3, loss = 0.53560782\n",
      "Iteration 4, loss = 0.47229405\n",
      "Iteration 5, loss = 0.43177465\n",
      "Iteration 6, loss = 0.40318723\n",
      "Iteration 7, loss = 0.38067898\n",
      "Iteration 8, loss = 0.36230158\n"
     ]
    },
    {
     "name": "stderr",
     "output_type": "stream",
     "text": [
      "D:\\anaconda\\envs\\tensorflow\\lib\\site-packages\\sklearn\\neural_network\\_multilayer_perceptron.py:702: ConvergenceWarning: Stochastic Optimizer: Maximum iterations (20) reached and the optimization hasn't converged yet.\n",
      "  warnings.warn(\n"
     ]
    },
    {
     "name": "stdout",
     "output_type": "stream",
     "text": [
      "Iteration 9, loss = 0.34670160\n",
      "Iteration 10, loss = 0.33212536\n",
      "Iteration 11, loss = 0.32002009\n",
      "Iteration 12, loss = 0.30925926\n",
      "Iteration 13, loss = 0.29907816\n",
      "Iteration 14, loss = 0.28926940\n",
      "Iteration 15, loss = 0.28023289\n",
      "Iteration 16, loss = 0.27261296\n",
      "Iteration 17, loss = 0.26429710\n",
      "Iteration 18, loss = 0.25680889\n",
      "Iteration 19, loss = 0.24978439\n",
      "Iteration 20, loss = 0.24272589\n",
      "Iteration 1, loss = 1.19917995\n",
      "Iteration 2, loss = 0.66914438\n",
      "Iteration 3, loss = 0.53300005\n",
      "Iteration 4, loss = 0.46903819\n",
      "Iteration 5, loss = 0.42873744\n"
     ]
    },
    {
     "name": "stderr",
     "output_type": "stream",
     "text": [
      "D:\\anaconda\\envs\\tensorflow\\lib\\site-packages\\sklearn\\neural_network\\_multilayer_perceptron.py:702: ConvergenceWarning: Stochastic Optimizer: Maximum iterations (20) reached and the optimization hasn't converged yet.\n",
      "  warnings.warn(\n"
     ]
    },
    {
     "name": "stdout",
     "output_type": "stream",
     "text": [
      "Iteration 6, loss = 0.40013952\n",
      "Iteration 7, loss = 0.37733229\n",
      "Iteration 8, loss = 0.35863902\n",
      "Iteration 9, loss = 0.34292208\n",
      "Iteration 10, loss = 0.32839035\n",
      "Iteration 11, loss = 0.31601094\n",
      "Iteration 12, loss = 0.30490302\n",
      "Iteration 13, loss = 0.29486444\n",
      "Iteration 14, loss = 0.28518963\n",
      "Iteration 15, loss = 0.27663248\n",
      "Iteration 16, loss = 0.26895128\n",
      "Iteration 17, loss = 0.26050869\n",
      "Iteration 18, loss = 0.25299470\n",
      "Iteration 19, loss = 0.24611976\n",
      "Iteration 20, loss = 0.23932593\n",
      "Iteration 1, loss = 1.18668137\n",
      "Iteration 2, loss = 0.66687631\n"
     ]
    },
    {
     "name": "stderr",
     "output_type": "stream",
     "text": [
      "D:\\anaconda\\envs\\tensorflow\\lib\\site-packages\\sklearn\\neural_network\\_multilayer_perceptron.py:702: ConvergenceWarning: Stochastic Optimizer: Maximum iterations (20) reached and the optimization hasn't converged yet.\n",
      "  warnings.warn(\n"
     ]
    },
    {
     "name": "stdout",
     "output_type": "stream",
     "text": [
      "Iteration 3, loss = 0.53544652\n",
      "Iteration 4, loss = 0.47182598\n",
      "Iteration 5, loss = 0.43176991\n",
      "Iteration 6, loss = 0.40307153\n",
      "Iteration 7, loss = 0.38027595\n",
      "Iteration 8, loss = 0.36185718\n",
      "Iteration 9, loss = 0.34566123\n",
      "Iteration 10, loss = 0.33153584\n",
      "Iteration 11, loss = 0.31925042\n",
      "Iteration 12, loss = 0.30806925\n",
      "Iteration 13, loss = 0.29803002\n",
      "Iteration 14, loss = 0.28816018\n",
      "Iteration 15, loss = 0.27963871\n",
      "Iteration 16, loss = 0.27176129\n",
      "Iteration 17, loss = 0.26317382\n",
      "Iteration 18, loss = 0.25595557\n",
      "Iteration 19, loss = 0.24880225\n",
      "Iteration 20, loss = 0.24246998\n",
      "Iteration 1, loss = 1.20175764\n",
      "Iteration 2, loss = 0.67093271\n",
      "Iteration 3, loss = 0.53432279\n",
      "Iteration 4, loss = 0.47122125\n",
      "Iteration 5, loss = 0.43147065\n",
      "Iteration 6, loss = 0.40335990\n",
      "Iteration 7, loss = 0.38076380\n"
     ]
    },
    {
     "name": "stderr",
     "output_type": "stream",
     "text": [
      "D:\\anaconda\\envs\\tensorflow\\lib\\site-packages\\sklearn\\neural_network\\_multilayer_perceptron.py:702: ConvergenceWarning: Stochastic Optimizer: Maximum iterations (20) reached and the optimization hasn't converged yet.\n",
      "  warnings.warn(\n"
     ]
    },
    {
     "name": "stdout",
     "output_type": "stream",
     "text": [
      "Iteration 8, loss = 0.36193170\n",
      "Iteration 9, loss = 0.34626756\n",
      "Iteration 10, loss = 0.33270666\n",
      "Iteration 11, loss = 0.32057680\n",
      "Iteration 12, loss = 0.30891972\n",
      "Iteration 13, loss = 0.29877279\n",
      "Iteration 14, loss = 0.28952003\n",
      "Iteration 15, loss = 0.28054288\n",
      "Iteration 16, loss = 0.27273088\n",
      "Iteration 17, loss = 0.26462606\n",
      "Iteration 18, loss = 0.25693602\n",
      "Iteration 19, loss = 0.24960316\n",
      "Iteration 20, loss = 0.24282440\n",
      "Iteration 1, loss = 1.19926466\n",
      "Iteration 2, loss = 0.67126694\n",
      "Iteration 3, loss = 0.53794936\n",
      "Iteration 4, loss = 0.47530258\n",
      "Iteration 5, loss = 0.43591396\n"
     ]
    },
    {
     "name": "stderr",
     "output_type": "stream",
     "text": [
      "D:\\anaconda\\envs\\tensorflow\\lib\\site-packages\\sklearn\\neural_network\\_multilayer_perceptron.py:702: ConvergenceWarning: Stochastic Optimizer: Maximum iterations (20) reached and the optimization hasn't converged yet.\n",
      "  warnings.warn(\n"
     ]
    },
    {
     "name": "stdout",
     "output_type": "stream",
     "text": [
      "Iteration 6, loss = 0.40801758\n",
      "Iteration 7, loss = 0.38571804\n",
      "Iteration 8, loss = 0.36710054\n",
      "Iteration 9, loss = 0.35130976\n",
      "Iteration 10, loss = 0.33745213\n",
      "Iteration 11, loss = 0.32523603\n",
      "Iteration 12, loss = 0.31354503\n",
      "Iteration 13, loss = 0.30303085\n",
      "Iteration 14, loss = 0.29386142\n",
      "Iteration 15, loss = 0.28466510\n",
      "Iteration 16, loss = 0.27689549\n",
      "Iteration 17, loss = 0.26893465\n",
      "Iteration 18, loss = 0.26089458\n",
      "Iteration 19, loss = 0.25365849\n",
      "Iteration 20, loss = 0.24679149\n",
      "Iteration 1, loss = 1.30912794\n",
      "Iteration 2, loss = 0.81485969\n",
      "Iteration 3, loss = 0.74030353\n"
     ]
    },
    {
     "name": "stderr",
     "output_type": "stream",
     "text": [
      "D:\\anaconda\\envs\\tensorflow\\lib\\site-packages\\sklearn\\neural_network\\_multilayer_perceptron.py:702: ConvergenceWarning: Stochastic Optimizer: Maximum iterations (20) reached and the optimization hasn't converged yet.\n",
      "  warnings.warn(\n"
     ]
    },
    {
     "name": "stdout",
     "output_type": "stream",
     "text": [
      "Iteration 4, loss = 0.69733927\n",
      "Iteration 5, loss = 0.67097443\n",
      "Iteration 6, loss = 0.65085083\n",
      "Iteration 7, loss = 0.63444979\n",
      "Iteration 8, loss = 0.62041201\n",
      "Iteration 9, loss = 0.60722015\n",
      "Iteration 10, loss = 0.59623421\n",
      "Iteration 11, loss = 0.58578458\n",
      "Iteration 12, loss = 0.57652174\n",
      "Iteration 13, loss = 0.56798985\n",
      "Iteration 14, loss = 0.56007664\n",
      "Iteration 15, loss = 0.55275392\n",
      "Iteration 16, loss = 0.54582034\n",
      "Iteration 17, loss = 0.53910261\n",
      "Iteration 18, loss = 0.53332851\n",
      "Iteration 19, loss = 0.52763739\n",
      "Iteration 20, loss = 0.52179084\n",
      "Iteration 1, loss = 1.31678810\n",
      "Iteration 2, loss = 0.81798575\n",
      "Iteration 3, loss = 0.74434025\n"
     ]
    },
    {
     "name": "stderr",
     "output_type": "stream",
     "text": [
      "D:\\anaconda\\envs\\tensorflow\\lib\\site-packages\\sklearn\\neural_network\\_multilayer_perceptron.py:702: ConvergenceWarning: Stochastic Optimizer: Maximum iterations (20) reached and the optimization hasn't converged yet.\n",
      "  warnings.warn(\n"
     ]
    },
    {
     "name": "stdout",
     "output_type": "stream",
     "text": [
      "Iteration 4, loss = 0.70066288\n",
      "Iteration 5, loss = 0.67452028\n",
      "Iteration 6, loss = 0.65443329\n",
      "Iteration 7, loss = 0.63815080\n",
      "Iteration 8, loss = 0.62419376\n",
      "Iteration 9, loss = 0.61134853\n",
      "Iteration 10, loss = 0.60051877\n",
      "Iteration 11, loss = 0.59001323\n",
      "Iteration 12, loss = 0.58089417\n",
      "Iteration 13, loss = 0.57242191\n",
      "Iteration 14, loss = 0.56425141\n",
      "Iteration 15, loss = 0.55706304\n",
      "Iteration 16, loss = 0.55016255\n",
      "Iteration 17, loss = 0.54338772\n",
      "Iteration 18, loss = 0.53749563\n",
      "Iteration 19, loss = 0.53150093\n",
      "Iteration 20, loss = 0.52563068\n"
     ]
    },
    {
     "name": "stderr",
     "output_type": "stream",
     "text": [
      "D:\\anaconda\\envs\\tensorflow\\lib\\site-packages\\sklearn\\neural_network\\_multilayer_perceptron.py:702: ConvergenceWarning: Stochastic Optimizer: Maximum iterations (20) reached and the optimization hasn't converged yet.\n",
      "  warnings.warn(\n"
     ]
    },
    {
     "name": "stdout",
     "output_type": "stream",
     "text": [
      "Iteration 1, loss = 1.31685784\n",
      "Iteration 2, loss = 0.81705215\n",
      "Iteration 3, loss = 0.74429719\n",
      "Iteration 4, loss = 0.70150234\n",
      "Iteration 5, loss = 0.67590445\n",
      "Iteration 6, loss = 0.65593119\n",
      "Iteration 7, loss = 0.63981571\n",
      "Iteration 8, loss = 0.62602609\n",
      "Iteration 9, loss = 0.61335331\n",
      "Iteration 10, loss = 0.60246998\n",
      "Iteration 11, loss = 0.59225478\n",
      "Iteration 12, loss = 0.58333679\n",
      "Iteration 13, loss = 0.57510129\n",
      "Iteration 14, loss = 0.56686811\n",
      "Iteration 15, loss = 0.55965850\n",
      "Iteration 16, loss = 0.55284247\n",
      "Iteration 17, loss = 0.54634371\n",
      "Iteration 18, loss = 0.54052991\n",
      "Iteration 19, loss = 0.53453077\n",
      "Iteration 20, loss = 0.52881957\n",
      "Iteration 1, loss = 1.30231907\n",
      "Iteration 2, loss = 0.81427667\n",
      "Iteration 3, loss = 0.74257517\n",
      "Iteration 4, loss = 0.69925761\n",
      "Iteration 5, loss = 0.67308261\n"
     ]
    },
    {
     "name": "stderr",
     "output_type": "stream",
     "text": [
      "D:\\anaconda\\envs\\tensorflow\\lib\\site-packages\\sklearn\\neural_network\\_multilayer_perceptron.py:702: ConvergenceWarning: Stochastic Optimizer: Maximum iterations (20) reached and the optimization hasn't converged yet.\n",
      "  warnings.warn(\n"
     ]
    },
    {
     "name": "stdout",
     "output_type": "stream",
     "text": [
      "Iteration 6, loss = 0.65305256\n",
      "Iteration 7, loss = 0.63659260\n",
      "Iteration 8, loss = 0.62231105\n",
      "Iteration 9, loss = 0.60938894\n",
      "Iteration 10, loss = 0.59813070\n",
      "Iteration 11, loss = 0.58775775\n",
      "Iteration 12, loss = 0.57863217\n",
      "Iteration 13, loss = 0.57008047\n",
      "Iteration 14, loss = 0.56177079\n",
      "Iteration 15, loss = 0.55448071\n",
      "Iteration 16, loss = 0.54734156\n",
      "Iteration 17, loss = 0.54082617\n",
      "Iteration 18, loss = 0.53477951\n",
      "Iteration 19, loss = 0.52858820\n",
      "Iteration 20, loss = 0.52285316\n",
      "Iteration 1, loss = 1.31937578\n",
      "Iteration 2, loss = 0.81589489\n",
      "Iteration 3, loss = 0.74425526\n",
      "Iteration 4, loss = 0.69991250\n"
     ]
    },
    {
     "name": "stderr",
     "output_type": "stream",
     "text": [
      "D:\\anaconda\\envs\\tensorflow\\lib\\site-packages\\sklearn\\neural_network\\_multilayer_perceptron.py:702: ConvergenceWarning: Stochastic Optimizer: Maximum iterations (20) reached and the optimization hasn't converged yet.\n",
      "  warnings.warn(\n"
     ]
    },
    {
     "name": "stdout",
     "output_type": "stream",
     "text": [
      "Iteration 5, loss = 0.67361780\n",
      "Iteration 6, loss = 0.65323049\n",
      "Iteration 7, loss = 0.63653963\n",
      "Iteration 8, loss = 0.62217686\n",
      "Iteration 9, loss = 0.60932683\n",
      "Iteration 10, loss = 0.59773644\n",
      "Iteration 11, loss = 0.58743176\n",
      "Iteration 12, loss = 0.57815987\n",
      "Iteration 13, loss = 0.56964348\n",
      "Iteration 14, loss = 0.56136665\n",
      "Iteration 15, loss = 0.55399884\n",
      "Iteration 16, loss = 0.54693735\n",
      "Iteration 17, loss = 0.54035234\n",
      "Iteration 18, loss = 0.53423749\n",
      "Iteration 19, loss = 0.52810523\n",
      "Iteration 20, loss = 0.52247671\n",
      "Iteration 1, loss = 1.31337463\n"
     ]
    },
    {
     "name": "stderr",
     "output_type": "stream",
     "text": [
      "D:\\anaconda\\envs\\tensorflow\\lib\\site-packages\\sklearn\\neural_network\\_multilayer_perceptron.py:702: ConvergenceWarning: Stochastic Optimizer: Maximum iterations (20) reached and the optimization hasn't converged yet.\n",
      "  warnings.warn(\n"
     ]
    },
    {
     "name": "stdout",
     "output_type": "stream",
     "text": [
      "Iteration 2, loss = 0.81706506\n",
      "Iteration 3, loss = 0.74506996\n",
      "Iteration 4, loss = 0.70126851\n",
      "Iteration 5, loss = 0.67547413\n",
      "Iteration 6, loss = 0.65536674\n",
      "Iteration 7, loss = 0.63911827\n",
      "Iteration 8, loss = 0.62503704\n",
      "Iteration 9, loss = 0.61275416\n",
      "Iteration 10, loss = 0.60118948\n",
      "Iteration 11, loss = 0.59117519\n",
      "Iteration 12, loss = 0.58216215\n",
      "Iteration 13, loss = 0.57330923\n",
      "Iteration 14, loss = 0.56518399\n",
      "Iteration 15, loss = 0.55787397\n",
      "Iteration 16, loss = 0.55063288\n",
      "Iteration 17, loss = 0.54424042\n",
      "Iteration 18, loss = 0.53803816\n",
      "Iteration 19, loss = 0.53190725\n",
      "Iteration 20, loss = 0.52617068\n"
     ]
    },
    {
     "name": "stderr",
     "output_type": "stream",
     "text": [
      "D:\\anaconda\\envs\\tensorflow\\lib\\site-packages\\sklearn\\neural_network\\_multilayer_perceptron.py:702: ConvergenceWarning: Stochastic Optimizer: Maximum iterations (20) reached and the optimization hasn't converged yet.\n",
      "  warnings.warn(\n"
     ]
    },
    {
     "name": "stdout",
     "output_type": "stream",
     "text": [
      "Iteration 1, loss = 1.30908466\n",
      "Iteration 2, loss = 0.81500464\n",
      "Iteration 3, loss = 0.74252309\n",
      "Iteration 4, loss = 0.69791668\n",
      "Iteration 5, loss = 0.67183816\n",
      "Iteration 6, loss = 0.65182085\n",
      "Iteration 7, loss = 0.63544863\n",
      "Iteration 8, loss = 0.62127382\n",
      "Iteration 9, loss = 0.60926505\n",
      "Iteration 10, loss = 0.59745251\n",
      "Iteration 11, loss = 0.58750454\n",
      "Iteration 12, loss = 0.57843416\n",
      "Iteration 13, loss = 0.56987367\n",
      "Iteration 14, loss = 0.56205681\n",
      "Iteration 15, loss = 0.55495348\n",
      "Iteration 16, loss = 0.54774092\n",
      "Iteration 17, loss = 0.54150971\n",
      "Iteration 18, loss = 0.53531967\n",
      "Iteration 19, loss = 0.52932747\n",
      "Iteration 20, loss = 0.52393471\n",
      "Iteration 1, loss = 1.30051755\n",
      "Iteration 2, loss = 0.81450161\n",
      "Iteration 3, loss = 0.74451208\n",
      "Iteration 4, loss = 0.70065130\n",
      "Iteration 5, loss = 0.67468739\n",
      "Iteration 6, loss = 0.65454373\n"
     ]
    },
    {
     "name": "stderr",
     "output_type": "stream",
     "text": [
      "D:\\anaconda\\envs\\tensorflow\\lib\\site-packages\\sklearn\\neural_network\\_multilayer_perceptron.py:702: ConvergenceWarning: Stochastic Optimizer: Maximum iterations (20) reached and the optimization hasn't converged yet.\n",
      "  warnings.warn(\n"
     ]
    },
    {
     "name": "stdout",
     "output_type": "stream",
     "text": [
      "Iteration 7, loss = 0.63815622\n",
      "Iteration 8, loss = 0.62392485\n",
      "Iteration 9, loss = 0.61147057\n",
      "Iteration 10, loss = 0.59987148\n",
      "Iteration 11, loss = 0.58988980\n",
      "Iteration 12, loss = 0.58050757\n",
      "Iteration 13, loss = 0.57201343\n",
      "Iteration 14, loss = 0.56401029\n",
      "Iteration 15, loss = 0.55681336\n",
      "Iteration 16, loss = 0.54963168\n",
      "Iteration 17, loss = 0.54316498\n",
      "Iteration 18, loss = 0.53678704\n",
      "Iteration 19, loss = 0.53081684\n",
      "Iteration 20, loss = 0.52544993\n",
      "Iteration 1, loss = 1.31145623\n",
      "Iteration 2, loss = 0.81674393\n",
      "Iteration 3, loss = 0.74112427\n"
     ]
    },
    {
     "name": "stderr",
     "output_type": "stream",
     "text": [
      "D:\\anaconda\\envs\\tensorflow\\lib\\site-packages\\sklearn\\neural_network\\_multilayer_perceptron.py:702: ConvergenceWarning: Stochastic Optimizer: Maximum iterations (20) reached and the optimization hasn't converged yet.\n",
      "  warnings.warn(\n"
     ]
    },
    {
     "name": "stdout",
     "output_type": "stream",
     "text": [
      "Iteration 4, loss = 0.69765609\n",
      "Iteration 5, loss = 0.67117886\n",
      "Iteration 6, loss = 0.65111904\n",
      "Iteration 7, loss = 0.63473427\n",
      "Iteration 8, loss = 0.62059763\n",
      "Iteration 9, loss = 0.60813140\n",
      "Iteration 10, loss = 0.59675779\n",
      "Iteration 11, loss = 0.58659739\n",
      "Iteration 12, loss = 0.57701102\n",
      "Iteration 13, loss = 0.56841731\n",
      "Iteration 14, loss = 0.56033713\n",
      "Iteration 15, loss = 0.55309478\n",
      "Iteration 16, loss = 0.54596607\n",
      "Iteration 17, loss = 0.53944005\n",
      "Iteration 18, loss = 0.53312646\n",
      "Iteration 19, loss = 0.52725050\n",
      "Iteration 20, loss = 0.52152547\n"
     ]
    },
    {
     "name": "stderr",
     "output_type": "stream",
     "text": [
      "D:\\anaconda\\envs\\tensorflow\\lib\\site-packages\\sklearn\\neural_network\\_multilayer_perceptron.py:702: ConvergenceWarning: Stochastic Optimizer: Maximum iterations (20) reached and the optimization hasn't converged yet.\n",
      "  warnings.warn(\n"
     ]
    },
    {
     "name": "stdout",
     "output_type": "stream",
     "text": [
      "Iteration 1, loss = 1.31338946\n",
      "Iteration 2, loss = 0.82042931\n",
      "Iteration 3, loss = 0.74828454\n",
      "Iteration 4, loss = 0.70542617\n",
      "Iteration 5, loss = 0.67869904\n",
      "Iteration 6, loss = 0.65871172\n",
      "Iteration 7, loss = 0.64220630\n",
      "Iteration 8, loss = 0.62813545\n",
      "Iteration 9, loss = 0.61560161\n",
      "Iteration 10, loss = 0.60423548\n",
      "Iteration 11, loss = 0.59411927\n",
      "Iteration 12, loss = 0.58453721\n",
      "Iteration 13, loss = 0.57571891\n",
      "Iteration 14, loss = 0.56759116\n",
      "Iteration 15, loss = 0.56014753\n",
      "Iteration 16, loss = 0.55296394\n",
      "Iteration 17, loss = 0.54633355\n",
      "Iteration 18, loss = 0.54012854\n",
      "Iteration 19, loss = 0.53422026\n",
      "Iteration 20, loss = 0.52840005\n"
     ]
    },
    {
     "name": "stderr",
     "output_type": "stream",
     "text": [
      "D:\\anaconda\\envs\\tensorflow\\lib\\site-packages\\sklearn\\neural_network\\_multilayer_perceptron.py:702: ConvergenceWarning: Stochastic Optimizer: Maximum iterations (20) reached and the optimization hasn't converged yet.\n",
      "  warnings.warn(\n",
      "D:\\anaconda\\envs\\tensorflow\\lib\\site-packages\\sklearn\\neural_network\\_multilayer_perceptron.py:559: ConvergenceWarning: lbfgs failed to converge (status=1):\n",
      "STOP: TOTAL NO. of ITERATIONS REACHED LIMIT.\n",
      "\n",
      "Increase the number of iterations (max_iter) or scale the data as shown in:\n",
      "    https://scikit-learn.org/stable/modules/preprocessing.html\n",
      "  self.n_iter_ = _check_optimize_result(\"lbfgs\", opt_res, self.max_iter)\n",
      "D:\\anaconda\\envs\\tensorflow\\lib\\site-packages\\sklearn\\neural_network\\_multilayer_perceptron.py:559: ConvergenceWarning: lbfgs failed to converge (status=1):\n",
      "STOP: TOTAL NO. of ITERATIONS REACHED LIMIT.\n",
      "\n",
      "Increase the number of iterations (max_iter) or scale the data as shown in:\n",
      "    https://scikit-learn.org/stable/modules/preprocessing.html\n",
      "  self.n_iter_ = _check_optimize_result(\"lbfgs\", opt_res, self.max_iter)\n",
      "D:\\anaconda\\envs\\tensorflow\\lib\\site-packages\\sklearn\\neural_network\\_multilayer_perceptron.py:559: ConvergenceWarning: lbfgs failed to converge (status=1):\n",
      "STOP: TOTAL NO. of ITERATIONS REACHED LIMIT.\n",
      "\n",
      "Increase the number of iterations (max_iter) or scale the data as shown in:\n",
      "    https://scikit-learn.org/stable/modules/preprocessing.html\n",
      "  self.n_iter_ = _check_optimize_result(\"lbfgs\", opt_res, self.max_iter)\n",
      "D:\\anaconda\\envs\\tensorflow\\lib\\site-packages\\sklearn\\neural_network\\_multilayer_perceptron.py:559: ConvergenceWarning: lbfgs failed to converge (status=1):\n",
      "STOP: TOTAL NO. of ITERATIONS REACHED LIMIT.\n",
      "\n",
      "Increase the number of iterations (max_iter) or scale the data as shown in:\n",
      "    https://scikit-learn.org/stable/modules/preprocessing.html\n",
      "  self.n_iter_ = _check_optimize_result(\"lbfgs\", opt_res, self.max_iter)\n",
      "D:\\anaconda\\envs\\tensorflow\\lib\\site-packages\\sklearn\\neural_network\\_multilayer_perceptron.py:559: ConvergenceWarning: lbfgs failed to converge (status=1):\n",
      "STOP: TOTAL NO. of ITERATIONS REACHED LIMIT.\n",
      "\n",
      "Increase the number of iterations (max_iter) or scale the data as shown in:\n",
      "    https://scikit-learn.org/stable/modules/preprocessing.html\n",
      "  self.n_iter_ = _check_optimize_result(\"lbfgs\", opt_res, self.max_iter)\n",
      "D:\\anaconda\\envs\\tensorflow\\lib\\site-packages\\sklearn\\neural_network\\_multilayer_perceptron.py:559: ConvergenceWarning: lbfgs failed to converge (status=1):\n",
      "STOP: TOTAL NO. of ITERATIONS REACHED LIMIT.\n",
      "\n",
      "Increase the number of iterations (max_iter) or scale the data as shown in:\n",
      "    https://scikit-learn.org/stable/modules/preprocessing.html\n",
      "  self.n_iter_ = _check_optimize_result(\"lbfgs\", opt_res, self.max_iter)\n",
      "D:\\anaconda\\envs\\tensorflow\\lib\\site-packages\\sklearn\\neural_network\\_multilayer_perceptron.py:559: ConvergenceWarning: lbfgs failed to converge (status=1):\n",
      "STOP: TOTAL NO. of ITERATIONS REACHED LIMIT.\n",
      "\n",
      "Increase the number of iterations (max_iter) or scale the data as shown in:\n",
      "    https://scikit-learn.org/stable/modules/preprocessing.html\n",
      "  self.n_iter_ = _check_optimize_result(\"lbfgs\", opt_res, self.max_iter)\n",
      "D:\\anaconda\\envs\\tensorflow\\lib\\site-packages\\sklearn\\neural_network\\_multilayer_perceptron.py:559: ConvergenceWarning: lbfgs failed to converge (status=1):\n",
      "STOP: TOTAL NO. of ITERATIONS REACHED LIMIT.\n",
      "\n",
      "Increase the number of iterations (max_iter) or scale the data as shown in:\n",
      "    https://scikit-learn.org/stable/modules/preprocessing.html\n",
      "  self.n_iter_ = _check_optimize_result(\"lbfgs\", opt_res, self.max_iter)\n",
      "D:\\anaconda\\envs\\tensorflow\\lib\\site-packages\\sklearn\\neural_network\\_multilayer_perceptron.py:559: ConvergenceWarning: lbfgs failed to converge (status=1):\n",
      "STOP: TOTAL NO. of ITERATIONS REACHED LIMIT.\n",
      "\n",
      "Increase the number of iterations (max_iter) or scale the data as shown in:\n",
      "    https://scikit-learn.org/stable/modules/preprocessing.html\n",
      "  self.n_iter_ = _check_optimize_result(\"lbfgs\", opt_res, self.max_iter)\n",
      "D:\\anaconda\\envs\\tensorflow\\lib\\site-packages\\sklearn\\neural_network\\_multilayer_perceptron.py:559: ConvergenceWarning: lbfgs failed to converge (status=1):\n",
      "STOP: TOTAL NO. of ITERATIONS REACHED LIMIT.\n",
      "\n",
      "Increase the number of iterations (max_iter) or scale the data as shown in:\n",
      "    https://scikit-learn.org/stable/modules/preprocessing.html\n",
      "  self.n_iter_ = _check_optimize_result(\"lbfgs\", opt_res, self.max_iter)\n"
     ]
    },
    {
     "name": "stdout",
     "output_type": "stream",
     "text": [
      "Iteration 1, loss = 0.67241559\n",
      "Iteration 2, loss = 0.52301593\n",
      "Iteration 3, loss = 0.44141355\n",
      "Iteration 4, loss = 0.38012596\n",
      "Iteration 5, loss = 0.33759890\n",
      "Iteration 6, loss = 0.30786845\n",
      "Iteration 7, loss = 0.28263774\n",
      "Iteration 8, loss = 0.26275939\n",
      "Iteration 9, loss = 0.24301000\n",
      "Iteration 10, loss = 0.22795748\n",
      "Iteration 11, loss = 0.21289033\n",
      "Iteration 12, loss = 0.20200811\n",
      "Iteration 13, loss = 0.18747083\n",
      "Iteration 14, loss = 0.17278115\n",
      "Iteration 15, loss = 0.16265159\n",
      "Iteration 16, loss = 0.15236977\n",
      "Iteration 17, loss = 0.14038690\n",
      "Iteration 18, loss = 0.13217428\n",
      "Iteration 19, loss = 0.12584466\n",
      "Iteration 20, loss = 0.11543426\n",
      "Iteration 1, loss = 0.67901120\n"
     ]
    },
    {
     "name": "stderr",
     "output_type": "stream",
     "text": [
      "D:\\anaconda\\envs\\tensorflow\\lib\\site-packages\\sklearn\\neural_network\\_multilayer_perceptron.py:702: ConvergenceWarning: Stochastic Optimizer: Maximum iterations (20) reached and the optimization hasn't converged yet.\n",
      "  warnings.warn(\n"
     ]
    },
    {
     "name": "stdout",
     "output_type": "stream",
     "text": [
      "Iteration 2, loss = 0.52773974\n",
      "Iteration 3, loss = 0.44480774\n",
      "Iteration 4, loss = 0.38323944\n",
      "Iteration 5, loss = 0.34046736\n",
      "Iteration 6, loss = 0.31255559\n",
      "Iteration 7, loss = 0.28663348\n",
      "Iteration 8, loss = 0.26646158\n",
      "Iteration 9, loss = 0.24664121\n",
      "Iteration 10, loss = 0.23250278\n",
      "Iteration 11, loss = 0.21826619\n",
      "Iteration 12, loss = 0.20397677\n",
      "Iteration 13, loss = 0.19068850\n",
      "Iteration 14, loss = 0.17737847\n",
      "Iteration 15, loss = 0.16668363\n",
      "Iteration 16, loss = 0.15649490\n",
      "Iteration 17, loss = 0.14421058\n",
      "Iteration 18, loss = 0.13389022\n",
      "Iteration 19, loss = 0.12630257\n",
      "Iteration 20, loss = 0.11698389\n",
      "Iteration 1, loss = 0.67602551\n",
      "Iteration 2, loss = 0.52868850\n",
      "Iteration 3, loss = 0.44635077\n",
      "Iteration 4, loss = 0.38647198\n"
     ]
    },
    {
     "name": "stderr",
     "output_type": "stream",
     "text": [
      "D:\\anaconda\\envs\\tensorflow\\lib\\site-packages\\sklearn\\neural_network\\_multilayer_perceptron.py:702: ConvergenceWarning: Stochastic Optimizer: Maximum iterations (20) reached and the optimization hasn't converged yet.\n",
      "  warnings.warn(\n"
     ]
    },
    {
     "name": "stdout",
     "output_type": "stream",
     "text": [
      "Iteration 5, loss = 0.34455576\n",
      "Iteration 6, loss = 0.31483805\n",
      "Iteration 7, loss = 0.28771876\n",
      "Iteration 8, loss = 0.26589847\n",
      "Iteration 9, loss = 0.24691956\n",
      "Iteration 10, loss = 0.23240053\n",
      "Iteration 11, loss = 0.21688599\n",
      "Iteration 12, loss = 0.20256465\n",
      "Iteration 13, loss = 0.18844979\n",
      "Iteration 14, loss = 0.17592790\n",
      "Iteration 15, loss = 0.16407819\n",
      "Iteration 16, loss = 0.15324140\n",
      "Iteration 17, loss = 0.14212914\n",
      "Iteration 18, loss = 0.13152220\n",
      "Iteration 19, loss = 0.12284268\n",
      "Iteration 20, loss = 0.11344680\n"
     ]
    },
    {
     "name": "stderr",
     "output_type": "stream",
     "text": [
      "D:\\anaconda\\envs\\tensorflow\\lib\\site-packages\\sklearn\\neural_network\\_multilayer_perceptron.py:702: ConvergenceWarning: Stochastic Optimizer: Maximum iterations (20) reached and the optimization hasn't converged yet.\n",
      "  warnings.warn(\n"
     ]
    },
    {
     "name": "stdout",
     "output_type": "stream",
     "text": [
      "Iteration 1, loss = 0.67811576\n",
      "Iteration 2, loss = 0.52814017\n",
      "Iteration 3, loss = 0.44561166\n",
      "Iteration 4, loss = 0.38480432\n",
      "Iteration 5, loss = 0.34319450\n",
      "Iteration 6, loss = 0.31309786\n",
      "Iteration 7, loss = 0.28461312\n",
      "Iteration 8, loss = 0.26431021\n",
      "Iteration 9, loss = 0.24674509\n",
      "Iteration 10, loss = 0.23291088\n",
      "Iteration 11, loss = 0.21769242\n",
      "Iteration 12, loss = 0.20175880\n",
      "Iteration 13, loss = 0.18868856\n",
      "Iteration 14, loss = 0.17634953\n",
      "Iteration 15, loss = 0.16544831\n",
      "Iteration 16, loss = 0.15583615\n",
      "Iteration 17, loss = 0.14489100\n",
      "Iteration 18, loss = 0.13364746\n",
      "Iteration 19, loss = 0.12481733\n",
      "Iteration 20, loss = 0.11648698\n",
      "Iteration 1, loss = 0.67416905\n"
     ]
    },
    {
     "name": "stderr",
     "output_type": "stream",
     "text": [
      "D:\\anaconda\\envs\\tensorflow\\lib\\site-packages\\sklearn\\neural_network\\_multilayer_perceptron.py:702: ConvergenceWarning: Stochastic Optimizer: Maximum iterations (20) reached and the optimization hasn't converged yet.\n",
      "  warnings.warn(\n"
     ]
    },
    {
     "name": "stdout",
     "output_type": "stream",
     "text": [
      "Iteration 2, loss = 0.52323810\n",
      "Iteration 3, loss = 0.44150953\n",
      "Iteration 4, loss = 0.38229521\n",
      "Iteration 5, loss = 0.34148389\n",
      "Iteration 6, loss = 0.31260766\n",
      "Iteration 7, loss = 0.28420782\n",
      "Iteration 8, loss = 0.26437583\n",
      "Iteration 9, loss = 0.24661202\n",
      "Iteration 10, loss = 0.23156476\n",
      "Iteration 11, loss = 0.21595824\n",
      "Iteration 12, loss = 0.19969423\n",
      "Iteration 13, loss = 0.18696859\n",
      "Iteration 14, loss = 0.17391724\n",
      "Iteration 15, loss = 0.16349748\n",
      "Iteration 16, loss = 0.15239127\n",
      "Iteration 17, loss = 0.14091435\n",
      "Iteration 18, loss = 0.12981666\n",
      "Iteration 19, loss = 0.12066915\n",
      "Iteration 20, loss = 0.11242131\n",
      "Iteration 1, loss = 0.67702955\n",
      "Iteration 2, loss = 0.52567169\n",
      "Iteration 3, loss = 0.44389782\n",
      "Iteration 4, loss = 0.38338356\n",
      "Iteration 5, loss = 0.34178387\n"
     ]
    },
    {
     "name": "stderr",
     "output_type": "stream",
     "text": [
      "D:\\anaconda\\envs\\tensorflow\\lib\\site-packages\\sklearn\\neural_network\\_multilayer_perceptron.py:702: ConvergenceWarning: Stochastic Optimizer: Maximum iterations (20) reached and the optimization hasn't converged yet.\n",
      "  warnings.warn(\n"
     ]
    },
    {
     "name": "stdout",
     "output_type": "stream",
     "text": [
      "Iteration 6, loss = 0.31448715\n",
      "Iteration 7, loss = 0.28540175\n",
      "Iteration 8, loss = 0.26541291\n",
      "Iteration 9, loss = 0.24685345\n",
      "Iteration 10, loss = 0.23220142\n",
      "Iteration 11, loss = 0.21724321\n",
      "Iteration 12, loss = 0.20107427\n",
      "Iteration 13, loss = 0.18853092\n",
      "Iteration 14, loss = 0.17743382\n",
      "Iteration 15, loss = 0.16513271\n",
      "Iteration 16, loss = 0.15376473\n",
      "Iteration 17, loss = 0.14323834\n",
      "Iteration 18, loss = 0.13389086\n",
      "Iteration 19, loss = 0.12437743\n",
      "Iteration 20, loss = 0.11602571\n",
      "Iteration 1, loss = 0.67547452\n",
      "Iteration 2, loss = 0.52203560\n",
      "Iteration 3, loss = 0.43898524\n"
     ]
    },
    {
     "name": "stderr",
     "output_type": "stream",
     "text": [
      "D:\\anaconda\\envs\\tensorflow\\lib\\site-packages\\sklearn\\neural_network\\_multilayer_perceptron.py:702: ConvergenceWarning: Stochastic Optimizer: Maximum iterations (20) reached and the optimization hasn't converged yet.\n",
      "  warnings.warn(\n"
     ]
    },
    {
     "name": "stdout",
     "output_type": "stream",
     "text": [
      "Iteration 4, loss = 0.37787108\n",
      "Iteration 5, loss = 0.33421533\n",
      "Iteration 6, loss = 0.30440241\n",
      "Iteration 7, loss = 0.27682280\n",
      "Iteration 8, loss = 0.25700182\n",
      "Iteration 9, loss = 0.23799500\n",
      "Iteration 10, loss = 0.22512497\n",
      "Iteration 11, loss = 0.20991649\n",
      "Iteration 12, loss = 0.19552559\n",
      "Iteration 13, loss = 0.18335570\n",
      "Iteration 14, loss = 0.17192767\n",
      "Iteration 15, loss = 0.15931067\n",
      "Iteration 16, loss = 0.14897651\n",
      "Iteration 17, loss = 0.13906384\n",
      "Iteration 18, loss = 0.12957921\n",
      "Iteration 19, loss = 0.11925226\n",
      "Iteration 20, loss = 0.11250632\n",
      "Iteration 1, loss = 0.67348269\n",
      "Iteration 2, loss = 0.52378150\n",
      "Iteration 3, loss = 0.44155297\n",
      "Iteration 4, loss = 0.38307672\n",
      "Iteration 5, loss = 0.34148089\n",
      "Iteration 6, loss = 0.31229351\n"
     ]
    },
    {
     "name": "stderr",
     "output_type": "stream",
     "text": [
      "D:\\anaconda\\envs\\tensorflow\\lib\\site-packages\\sklearn\\neural_network\\_multilayer_perceptron.py:702: ConvergenceWarning: Stochastic Optimizer: Maximum iterations (20) reached and the optimization hasn't converged yet.\n",
      "  warnings.warn(\n"
     ]
    },
    {
     "name": "stdout",
     "output_type": "stream",
     "text": [
      "Iteration 7, loss = 0.28582840\n",
      "Iteration 8, loss = 0.26605176\n",
      "Iteration 9, loss = 0.24666534\n",
      "Iteration 10, loss = 0.23211566\n",
      "Iteration 11, loss = 0.21781631\n",
      "Iteration 12, loss = 0.20243375\n",
      "Iteration 13, loss = 0.19080432\n",
      "Iteration 14, loss = 0.18056205\n",
      "Iteration 15, loss = 0.16753742\n",
      "Iteration 16, loss = 0.15702044\n",
      "Iteration 17, loss = 0.14598848\n",
      "Iteration 18, loss = 0.13546222\n",
      "Iteration 19, loss = 0.12520405\n",
      "Iteration 20, loss = 0.11653813\n",
      "Iteration 1, loss = 0.66984707\n",
      "Iteration 2, loss = 0.52075661\n"
     ]
    },
    {
     "name": "stderr",
     "output_type": "stream",
     "text": [
      "D:\\anaconda\\envs\\tensorflow\\lib\\site-packages\\sklearn\\neural_network\\_multilayer_perceptron.py:702: ConvergenceWarning: Stochastic Optimizer: Maximum iterations (20) reached and the optimization hasn't converged yet.\n",
      "  warnings.warn(\n"
     ]
    },
    {
     "name": "stdout",
     "output_type": "stream",
     "text": [
      "Iteration 3, loss = 0.43880666\n",
      "Iteration 4, loss = 0.38131415\n",
      "Iteration 5, loss = 0.33780713\n",
      "Iteration 6, loss = 0.30745951\n",
      "Iteration 7, loss = 0.28466399\n",
      "Iteration 8, loss = 0.26484966\n",
      "Iteration 9, loss = 0.24667423\n",
      "Iteration 10, loss = 0.23218409\n",
      "Iteration 11, loss = 0.21665867\n",
      "Iteration 12, loss = 0.20181995\n",
      "Iteration 13, loss = 0.19036060\n",
      "Iteration 14, loss = 0.17774013\n",
      "Iteration 15, loss = 0.16540230\n",
      "Iteration 16, loss = 0.15425283\n",
      "Iteration 17, loss = 0.14298692\n",
      "Iteration 18, loss = 0.13426200\n",
      "Iteration 19, loss = 0.12401083\n",
      "Iteration 20, loss = 0.11574431\n",
      "Iteration 1, loss = 0.67297882\n"
     ]
    },
    {
     "name": "stderr",
     "output_type": "stream",
     "text": [
      "D:\\anaconda\\envs\\tensorflow\\lib\\site-packages\\sklearn\\neural_network\\_multilayer_perceptron.py:702: ConvergenceWarning: Stochastic Optimizer: Maximum iterations (20) reached and the optimization hasn't converged yet.\n",
      "  warnings.warn(\n"
     ]
    },
    {
     "name": "stdout",
     "output_type": "stream",
     "text": [
      "Iteration 2, loss = 0.52754594\n",
      "Iteration 3, loss = 0.44694999\n",
      "Iteration 4, loss = 0.38884900\n",
      "Iteration 5, loss = 0.34504221\n",
      "Iteration 6, loss = 0.31424836\n",
      "Iteration 7, loss = 0.28989534\n",
      "Iteration 8, loss = 0.26890064\n",
      "Iteration 9, loss = 0.25131891\n",
      "Iteration 10, loss = 0.23740556\n",
      "Iteration 11, loss = 0.22067903\n",
      "Iteration 12, loss = 0.20492496\n",
      "Iteration 13, loss = 0.19261716\n",
      "Iteration 14, loss = 0.17903638\n",
      "Iteration 15, loss = 0.16692804\n",
      "Iteration 16, loss = 0.15548239\n",
      "Iteration 17, loss = 0.14428809\n",
      "Iteration 18, loss = 0.13582087\n",
      "Iteration 19, loss = 0.12449063\n",
      "Iteration 20, loss = 0.11603353\n",
      "Iteration 1, loss = 0.76413175\n"
     ]
    },
    {
     "name": "stderr",
     "output_type": "stream",
     "text": [
      "D:\\anaconda\\envs\\tensorflow\\lib\\site-packages\\sklearn\\neural_network\\_multilayer_perceptron.py:702: ConvergenceWarning: Stochastic Optimizer: Maximum iterations (20) reached and the optimization hasn't converged yet.\n",
      "  warnings.warn(\n"
     ]
    },
    {
     "name": "stdout",
     "output_type": "stream",
     "text": [
      "Iteration 2, loss = 0.71941970\n",
      "Iteration 3, loss = 0.68471711\n",
      "Iteration 4, loss = 0.65776830\n",
      "Iteration 5, loss = 0.63857542\n",
      "Iteration 6, loss = 0.62293355\n",
      "Iteration 7, loss = 0.60967380\n",
      "Iteration 8, loss = 0.59827356\n",
      "Iteration 9, loss = 0.58690272\n",
      "Iteration 10, loss = 0.57756106\n",
      "Iteration 11, loss = 0.56797453\n",
      "Iteration 12, loss = 0.55947613\n",
      "Iteration 13, loss = 0.55120171\n",
      "Iteration 14, loss = 0.54324976\n",
      "Iteration 15, loss = 0.53535085\n",
      "Iteration 16, loss = 0.52786647\n",
      "Iteration 17, loss = 0.52061651\n",
      "Iteration 18, loss = 0.51409230\n",
      "Iteration 19, loss = 0.50726864\n",
      "Iteration 20, loss = 0.50062075\n",
      "Iteration 1, loss = 0.76637311\n",
      "Iteration 2, loss = 0.72196035\n"
     ]
    },
    {
     "name": "stderr",
     "output_type": "stream",
     "text": [
      "D:\\anaconda\\envs\\tensorflow\\lib\\site-packages\\sklearn\\neural_network\\_multilayer_perceptron.py:702: ConvergenceWarning: Stochastic Optimizer: Maximum iterations (20) reached and the optimization hasn't converged yet.\n",
      "  warnings.warn(\n"
     ]
    },
    {
     "name": "stdout",
     "output_type": "stream",
     "text": [
      "Iteration 3, loss = 0.68780615\n",
      "Iteration 4, loss = 0.66131568\n",
      "Iteration 5, loss = 0.64210622\n",
      "Iteration 6, loss = 0.62671110\n",
      "Iteration 7, loss = 0.61329339\n",
      "Iteration 8, loss = 0.60204921\n",
      "Iteration 9, loss = 0.59104258\n",
      "Iteration 10, loss = 0.58171929\n",
      "Iteration 11, loss = 0.57226306\n",
      "Iteration 12, loss = 0.56386268\n",
      "Iteration 13, loss = 0.55576785\n",
      "Iteration 14, loss = 0.54814137\n",
      "Iteration 15, loss = 0.54040220\n",
      "Iteration 16, loss = 0.53299867\n",
      "Iteration 17, loss = 0.52578218\n",
      "Iteration 18, loss = 0.51915393\n",
      "Iteration 19, loss = 0.51231347\n",
      "Iteration 20, loss = 0.50566533\n",
      "Iteration 1, loss = 0.76291073\n",
      "Iteration 2, loss = 0.71951332\n",
      "Iteration 3, loss = 0.68613731\n",
      "Iteration 4, loss = 0.66025464\n"
     ]
    },
    {
     "name": "stderr",
     "output_type": "stream",
     "text": [
      "D:\\anaconda\\envs\\tensorflow\\lib\\site-packages\\sklearn\\neural_network\\_multilayer_perceptron.py:702: ConvergenceWarning: Stochastic Optimizer: Maximum iterations (20) reached and the optimization hasn't converged yet.\n",
      "  warnings.warn(\n"
     ]
    },
    {
     "name": "stdout",
     "output_type": "stream",
     "text": [
      "Iteration 5, loss = 0.64159282\n",
      "Iteration 6, loss = 0.62634809\n",
      "Iteration 7, loss = 0.61317262\n",
      "Iteration 8, loss = 0.60207335\n",
      "Iteration 9, loss = 0.59163856\n",
      "Iteration 10, loss = 0.58219662\n",
      "Iteration 11, loss = 0.57292361\n",
      "Iteration 12, loss = 0.56458132\n",
      "Iteration 13, loss = 0.55672734\n",
      "Iteration 14, loss = 0.54897561\n",
      "Iteration 15, loss = 0.54122382\n",
      "Iteration 16, loss = 0.53391571\n",
      "Iteration 17, loss = 0.52687510\n",
      "Iteration 18, loss = 0.52003209\n",
      "Iteration 19, loss = 0.51320684\n",
      "Iteration 20, loss = 0.50669695\n",
      "Iteration 1, loss = 0.76556164\n"
     ]
    },
    {
     "name": "stderr",
     "output_type": "stream",
     "text": [
      "D:\\anaconda\\envs\\tensorflow\\lib\\site-packages\\sklearn\\neural_network\\_multilayer_perceptron.py:702: ConvergenceWarning: Stochastic Optimizer: Maximum iterations (20) reached and the optimization hasn't converged yet.\n",
      "  warnings.warn(\n"
     ]
    },
    {
     "name": "stdout",
     "output_type": "stream",
     "text": [
      "Iteration 2, loss = 0.72133703\n",
      "Iteration 3, loss = 0.68707541\n",
      "Iteration 4, loss = 0.66052218\n",
      "Iteration 5, loss = 0.64143222\n",
      "Iteration 6, loss = 0.62578003\n",
      "Iteration 7, loss = 0.61230861\n",
      "Iteration 8, loss = 0.60097122\n",
      "Iteration 9, loss = 0.59032574\n",
      "Iteration 10, loss = 0.58061931\n",
      "Iteration 11, loss = 0.57115864\n",
      "Iteration 12, loss = 0.56252477\n",
      "Iteration 13, loss = 0.55448021\n",
      "Iteration 14, loss = 0.54652624\n",
      "Iteration 15, loss = 0.53852434\n",
      "Iteration 16, loss = 0.53115344\n",
      "Iteration 17, loss = 0.52404650\n",
      "Iteration 18, loss = 0.51718919\n",
      "Iteration 19, loss = 0.51027322\n",
      "Iteration 20, loss = 0.50343411\n",
      "Iteration 1, loss = 0.76279580\n",
      "Iteration 2, loss = 0.71691572\n",
      "Iteration 3, loss = 0.68278159\n",
      "Iteration 4, loss = 0.65613933\n",
      "Iteration 5, loss = 0.63720852\n",
      "Iteration 6, loss = 0.62156298\n",
      "Iteration 7, loss = 0.60815320\n"
     ]
    },
    {
     "name": "stderr",
     "output_type": "stream",
     "text": [
      "D:\\anaconda\\envs\\tensorflow\\lib\\site-packages\\sklearn\\neural_network\\_multilayer_perceptron.py:702: ConvergenceWarning: Stochastic Optimizer: Maximum iterations (20) reached and the optimization hasn't converged yet.\n",
      "  warnings.warn(\n"
     ]
    },
    {
     "name": "stdout",
     "output_type": "stream",
     "text": [
      "Iteration 8, loss = 0.59664109\n",
      "Iteration 9, loss = 0.58620005\n",
      "Iteration 10, loss = 0.57639452\n",
      "Iteration 11, loss = 0.56679583\n",
      "Iteration 12, loss = 0.55817386\n",
      "Iteration 13, loss = 0.55043754\n",
      "Iteration 14, loss = 0.54228590\n",
      "Iteration 15, loss = 0.53459528\n",
      "Iteration 16, loss = 0.52712543\n",
      "Iteration 17, loss = 0.52006467\n",
      "Iteration 18, loss = 0.51311078\n",
      "Iteration 19, loss = 0.50627948\n",
      "Iteration 20, loss = 0.49940751\n",
      "Iteration 1, loss = 0.76518659\n",
      "Iteration 2, loss = 0.71991261\n",
      "Iteration 3, loss = 0.68596534\n",
      "Iteration 4, loss = 0.65925123\n"
     ]
    },
    {
     "name": "stderr",
     "output_type": "stream",
     "text": [
      "D:\\anaconda\\envs\\tensorflow\\lib\\site-packages\\sklearn\\neural_network\\_multilayer_perceptron.py:702: ConvergenceWarning: Stochastic Optimizer: Maximum iterations (20) reached and the optimization hasn't converged yet.\n",
      "  warnings.warn(\n"
     ]
    },
    {
     "name": "stdout",
     "output_type": "stream",
     "text": [
      "Iteration 5, loss = 0.64006799\n",
      "Iteration 6, loss = 0.62444359\n",
      "Iteration 7, loss = 0.61119741\n",
      "Iteration 8, loss = 0.59964232\n",
      "Iteration 9, loss = 0.58933215\n",
      "Iteration 10, loss = 0.57977556\n",
      "Iteration 11, loss = 0.57034841\n",
      "Iteration 12, loss = 0.56178256\n",
      "Iteration 13, loss = 0.55413739\n",
      "Iteration 14, loss = 0.54583764\n",
      "Iteration 15, loss = 0.53825981\n",
      "Iteration 16, loss = 0.53089686\n",
      "Iteration 17, loss = 0.52371790\n",
      "Iteration 18, loss = 0.51698455\n",
      "Iteration 19, loss = 0.51001548\n",
      "Iteration 20, loss = 0.50321614\n",
      "Iteration 1, loss = 0.76733043\n"
     ]
    },
    {
     "name": "stderr",
     "output_type": "stream",
     "text": [
      "D:\\anaconda\\envs\\tensorflow\\lib\\site-packages\\sklearn\\neural_network\\_multilayer_perceptron.py:702: ConvergenceWarning: Stochastic Optimizer: Maximum iterations (20) reached and the optimization hasn't converged yet.\n",
      "  warnings.warn(\n"
     ]
    },
    {
     "name": "stdout",
     "output_type": "stream",
     "text": [
      "Iteration 2, loss = 0.72001795\n",
      "Iteration 3, loss = 0.68439136\n",
      "Iteration 4, loss = 0.65711276\n",
      "Iteration 5, loss = 0.63770914\n",
      "Iteration 6, loss = 0.62203656\n",
      "Iteration 7, loss = 0.60859144\n",
      "Iteration 8, loss = 0.59696718\n",
      "Iteration 9, loss = 0.58637145\n",
      "Iteration 10, loss = 0.57685683\n",
      "Iteration 11, loss = 0.56742495\n",
      "Iteration 12, loss = 0.55896860\n",
      "Iteration 13, loss = 0.55107982\n",
      "Iteration 14, loss = 0.54284085\n",
      "Iteration 15, loss = 0.53504978\n",
      "Iteration 16, loss = 0.52799506\n",
      "Iteration 17, loss = 0.52057241\n",
      "Iteration 18, loss = 0.51393880\n",
      "Iteration 19, loss = 0.50712494\n",
      "Iteration 20, loss = 0.50014746\n",
      "Iteration 1, loss = 0.76173677\n",
      "Iteration 2, loss = 0.71797355\n",
      "Iteration 3, loss = 0.68435578\n",
      "Iteration 4, loss = 0.65907628\n",
      "Iteration 5, loss = 0.64012223\n",
      "Iteration 6, loss = 0.62466721\n",
      "Iteration 7, loss = 0.61136287\n"
     ]
    },
    {
     "name": "stderr",
     "output_type": "stream",
     "text": [
      "D:\\anaconda\\envs\\tensorflow\\lib\\site-packages\\sklearn\\neural_network\\_multilayer_perceptron.py:702: ConvergenceWarning: Stochastic Optimizer: Maximum iterations (20) reached and the optimization hasn't converged yet.\n",
      "  warnings.warn(\n"
     ]
    },
    {
     "name": "stdout",
     "output_type": "stream",
     "text": [
      "Iteration 8, loss = 0.59972945\n",
      "Iteration 9, loss = 0.58908111\n",
      "Iteration 10, loss = 0.57948984\n",
      "Iteration 11, loss = 0.56996581\n",
      "Iteration 12, loss = 0.56132756\n",
      "Iteration 13, loss = 0.55327300\n",
      "Iteration 14, loss = 0.54524506\n",
      "Iteration 15, loss = 0.53708533\n",
      "Iteration 16, loss = 0.53014960\n",
      "Iteration 17, loss = 0.52237406\n",
      "Iteration 18, loss = 0.51541789\n",
      "Iteration 19, loss = 0.50852513\n",
      "Iteration 20, loss = 0.50171680\n",
      "Iteration 1, loss = 0.76100851\n",
      "Iteration 2, loss = 0.71568808\n",
      "Iteration 3, loss = 0.68107640\n",
      "Iteration 4, loss = 0.65515892\n",
      "Iteration 5, loss = 0.63621630\n"
     ]
    },
    {
     "name": "stderr",
     "output_type": "stream",
     "text": [
      "D:\\anaconda\\envs\\tensorflow\\lib\\site-packages\\sklearn\\neural_network\\_multilayer_perceptron.py:702: ConvergenceWarning: Stochastic Optimizer: Maximum iterations (20) reached and the optimization hasn't converged yet.\n",
      "  warnings.warn(\n"
     ]
    },
    {
     "name": "stdout",
     "output_type": "stream",
     "text": [
      "Iteration 6, loss = 0.62042535\n",
      "Iteration 7, loss = 0.60738822\n",
      "Iteration 8, loss = 0.59569213\n",
      "Iteration 9, loss = 0.58530000\n",
      "Iteration 10, loss = 0.57546643\n",
      "Iteration 11, loss = 0.56598853\n",
      "Iteration 12, loss = 0.55760125\n",
      "Iteration 13, loss = 0.54924465\n",
      "Iteration 14, loss = 0.54177186\n",
      "Iteration 15, loss = 0.53372748\n",
      "Iteration 16, loss = 0.52594605\n",
      "Iteration 17, loss = 0.51901587\n",
      "Iteration 18, loss = 0.51179683\n",
      "Iteration 19, loss = 0.50524366\n",
      "Iteration 20, loss = 0.49859500\n",
      "Iteration 1, loss = 0.76024809\n",
      "Iteration 2, loss = 0.71793070\n",
      "Iteration 3, loss = 0.68474431\n"
     ]
    },
    {
     "name": "stderr",
     "output_type": "stream",
     "text": [
      "D:\\anaconda\\envs\\tensorflow\\lib\\site-packages\\sklearn\\neural_network\\_multilayer_perceptron.py:702: ConvergenceWarning: Stochastic Optimizer: Maximum iterations (20) reached and the optimization hasn't converged yet.\n",
      "  warnings.warn(\n"
     ]
    },
    {
     "name": "stdout",
     "output_type": "stream",
     "text": [
      "Iteration 4, loss = 0.65965264\n",
      "Iteration 5, loss = 0.64105860\n",
      "Iteration 6, loss = 0.62564323\n",
      "Iteration 7, loss = 0.61260089\n",
      "Iteration 8, loss = 0.60119503\n",
      "Iteration 9, loss = 0.59085802\n",
      "Iteration 10, loss = 0.58125455\n",
      "Iteration 11, loss = 0.57211726\n",
      "Iteration 12, loss = 0.56398499\n",
      "Iteration 13, loss = 0.55600616\n",
      "Iteration 14, loss = 0.54852708\n",
      "Iteration 15, loss = 0.54105829\n",
      "Iteration 16, loss = 0.53341201\n",
      "Iteration 17, loss = 0.52667182\n",
      "Iteration 18, loss = 0.51947956\n",
      "Iteration 19, loss = 0.51308013\n",
      "Iteration 20, loss = 0.50661567\n"
     ]
    },
    {
     "name": "stderr",
     "output_type": "stream",
     "text": [
      "D:\\anaconda\\envs\\tensorflow\\lib\\site-packages\\sklearn\\neural_network\\_multilayer_perceptron.py:702: ConvergenceWarning: Stochastic Optimizer: Maximum iterations (20) reached and the optimization hasn't converged yet.\n",
      "  warnings.warn(\n",
      "D:\\anaconda\\envs\\tensorflow\\lib\\site-packages\\sklearn\\neural_network\\_multilayer_perceptron.py:559: ConvergenceWarning: lbfgs failed to converge (status=1):\n",
      "STOP: TOTAL NO. of ITERATIONS REACHED LIMIT.\n",
      "\n",
      "Increase the number of iterations (max_iter) or scale the data as shown in:\n",
      "    https://scikit-learn.org/stable/modules/preprocessing.html\n",
      "  self.n_iter_ = _check_optimize_result(\"lbfgs\", opt_res, self.max_iter)\n",
      "D:\\anaconda\\envs\\tensorflow\\lib\\site-packages\\sklearn\\neural_network\\_multilayer_perceptron.py:559: ConvergenceWarning: lbfgs failed to converge (status=1):\n",
      "STOP: TOTAL NO. of ITERATIONS REACHED LIMIT.\n",
      "\n",
      "Increase the number of iterations (max_iter) or scale the data as shown in:\n",
      "    https://scikit-learn.org/stable/modules/preprocessing.html\n",
      "  self.n_iter_ = _check_optimize_result(\"lbfgs\", opt_res, self.max_iter)\n",
      "D:\\anaconda\\envs\\tensorflow\\lib\\site-packages\\sklearn\\neural_network\\_multilayer_perceptron.py:559: ConvergenceWarning: lbfgs failed to converge (status=1):\n",
      "STOP: TOTAL NO. of ITERATIONS REACHED LIMIT.\n",
      "\n",
      "Increase the number of iterations (max_iter) or scale the data as shown in:\n",
      "    https://scikit-learn.org/stable/modules/preprocessing.html\n",
      "  self.n_iter_ = _check_optimize_result(\"lbfgs\", opt_res, self.max_iter)\n",
      "D:\\anaconda\\envs\\tensorflow\\lib\\site-packages\\sklearn\\neural_network\\_multilayer_perceptron.py:559: ConvergenceWarning: lbfgs failed to converge (status=1):\n",
      "STOP: TOTAL NO. of ITERATIONS REACHED LIMIT.\n",
      "\n",
      "Increase the number of iterations (max_iter) or scale the data as shown in:\n",
      "    https://scikit-learn.org/stable/modules/preprocessing.html\n",
      "  self.n_iter_ = _check_optimize_result(\"lbfgs\", opt_res, self.max_iter)\n",
      "D:\\anaconda\\envs\\tensorflow\\lib\\site-packages\\sklearn\\neural_network\\_multilayer_perceptron.py:559: ConvergenceWarning: lbfgs failed to converge (status=1):\n",
      "STOP: TOTAL NO. of ITERATIONS REACHED LIMIT.\n",
      "\n",
      "Increase the number of iterations (max_iter) or scale the data as shown in:\n",
      "    https://scikit-learn.org/stable/modules/preprocessing.html\n",
      "  self.n_iter_ = _check_optimize_result(\"lbfgs\", opt_res, self.max_iter)\n",
      "D:\\anaconda\\envs\\tensorflow\\lib\\site-packages\\sklearn\\neural_network\\_multilayer_perceptron.py:559: ConvergenceWarning: lbfgs failed to converge (status=1):\n",
      "STOP: TOTAL NO. of ITERATIONS REACHED LIMIT.\n",
      "\n",
      "Increase the number of iterations (max_iter) or scale the data as shown in:\n",
      "    https://scikit-learn.org/stable/modules/preprocessing.html\n",
      "  self.n_iter_ = _check_optimize_result(\"lbfgs\", opt_res, self.max_iter)\n",
      "D:\\anaconda\\envs\\tensorflow\\lib\\site-packages\\sklearn\\neural_network\\_multilayer_perceptron.py:559: ConvergenceWarning: lbfgs failed to converge (status=1):\n",
      "STOP: TOTAL NO. of ITERATIONS REACHED LIMIT.\n",
      "\n",
      "Increase the number of iterations (max_iter) or scale the data as shown in:\n",
      "    https://scikit-learn.org/stable/modules/preprocessing.html\n",
      "  self.n_iter_ = _check_optimize_result(\"lbfgs\", opt_res, self.max_iter)\n",
      "D:\\anaconda\\envs\\tensorflow\\lib\\site-packages\\sklearn\\neural_network\\_multilayer_perceptron.py:559: ConvergenceWarning: lbfgs failed to converge (status=1):\n",
      "STOP: TOTAL NO. of ITERATIONS REACHED LIMIT.\n",
      "\n",
      "Increase the number of iterations (max_iter) or scale the data as shown in:\n",
      "    https://scikit-learn.org/stable/modules/preprocessing.html\n",
      "  self.n_iter_ = _check_optimize_result(\"lbfgs\", opt_res, self.max_iter)\n",
      "D:\\anaconda\\envs\\tensorflow\\lib\\site-packages\\sklearn\\neural_network\\_multilayer_perceptron.py:559: ConvergenceWarning: lbfgs failed to converge (status=1):\n",
      "STOP: TOTAL NO. of ITERATIONS REACHED LIMIT.\n",
      "\n",
      "Increase the number of iterations (max_iter) or scale the data as shown in:\n",
      "    https://scikit-learn.org/stable/modules/preprocessing.html\n",
      "  self.n_iter_ = _check_optimize_result(\"lbfgs\", opt_res, self.max_iter)\n",
      "D:\\anaconda\\envs\\tensorflow\\lib\\site-packages\\sklearn\\neural_network\\_multilayer_perceptron.py:559: ConvergenceWarning: lbfgs failed to converge (status=1):\n",
      "STOP: TOTAL NO. of ITERATIONS REACHED LIMIT.\n",
      "\n",
      "Increase the number of iterations (max_iter) or scale the data as shown in:\n",
      "    https://scikit-learn.org/stable/modules/preprocessing.html\n",
      "  self.n_iter_ = _check_optimize_result(\"lbfgs\", opt_res, self.max_iter)\n"
     ]
    },
    {
     "name": "stdout",
     "output_type": "stream",
     "text": [
      "Iteration 1, loss = 0.93715005\n",
      "Iteration 2, loss = 0.91610869\n",
      "Iteration 3, loss = 0.89998014\n",
      "Iteration 4, loss = 0.88784181\n",
      "Iteration 5, loss = 0.87833420\n",
      "Iteration 6, loss = 0.87081649\n",
      "Iteration 7, loss = 0.86440241\n",
      "Iteration 8, loss = 0.85872410\n",
      "Iteration 9, loss = 0.85366424\n",
      "Iteration 10, loss = 0.84890386\n",
      "Iteration 11, loss = 0.84438783\n",
      "Iteration 12, loss = 0.84012139\n",
      "Iteration 13, loss = 0.83588473\n",
      "Iteration 14, loss = 0.83172844\n",
      "Iteration 15, loss = 0.82767972\n",
      "Iteration 16, loss = 0.82362541\n",
      "Iteration 17, loss = 0.81957957\n",
      "Iteration 18, loss = 0.81547408\n",
      "Iteration 19, loss = 0.81126050\n",
      "Iteration 20, loss = 0.80683423\n",
      "Iteration 1, loss = 0.93236632\n",
      "Iteration 2, loss = 0.91144172\n",
      "Iteration 3, loss = 0.89533984\n",
      "Iteration 4, loss = 0.88325595\n",
      "Iteration 5, loss = 0.87382198\n",
      "Iteration 6, loss = 0.86631934\n",
      "Iteration 7, loss = 0.85990747\n",
      "Iteration 8, loss = 0.85427018\n",
      "Iteration 9, loss = 0.84926280\n",
      "Iteration 10, loss = 0.84460898\n",
      "Iteration 11, loss = 0.84016073\n",
      "Iteration 12, loss = 0.83593413\n"
     ]
    },
    {
     "name": "stderr",
     "output_type": "stream",
     "text": [
      "D:\\anaconda\\envs\\tensorflow\\lib\\site-packages\\sklearn\\neural_network\\_multilayer_perceptron.py:702: ConvergenceWarning: Stochastic Optimizer: Maximum iterations (20) reached and the optimization hasn't converged yet.\n",
      "  warnings.warn(\n"
     ]
    },
    {
     "name": "stdout",
     "output_type": "stream",
     "text": [
      "Iteration 13, loss = 0.83180634\n",
      "Iteration 14, loss = 0.82774201\n",
      "Iteration 15, loss = 0.82379459\n",
      "Iteration 16, loss = 0.81987295\n",
      "Iteration 17, loss = 0.81596785\n",
      "Iteration 18, loss = 0.81204463\n",
      "Iteration 19, loss = 0.80806390\n",
      "Iteration 20, loss = 0.80394790\n",
      "Iteration 1, loss = 0.92752383\n",
      "Iteration 2, loss = 0.90702616\n",
      "Iteration 3, loss = 0.89136194\n",
      "Iteration 4, loss = 0.87961161\n",
      "Iteration 5, loss = 0.87035896\n",
      "Iteration 6, loss = 0.86305212\n",
      "Iteration 7, loss = 0.85676829\n",
      "Iteration 8, loss = 0.85122951\n"
     ]
    },
    {
     "name": "stderr",
     "output_type": "stream",
     "text": [
      "D:\\anaconda\\envs\\tensorflow\\lib\\site-packages\\sklearn\\neural_network\\_multilayer_perceptron.py:702: ConvergenceWarning: Stochastic Optimizer: Maximum iterations (20) reached and the optimization hasn't converged yet.\n",
      "  warnings.warn(\n"
     ]
    },
    {
     "name": "stdout",
     "output_type": "stream",
     "text": [
      "Iteration 9, loss = 0.84628647\n",
      "Iteration 10, loss = 0.84169518\n",
      "Iteration 11, loss = 0.83732310\n",
      "Iteration 12, loss = 0.83313161\n",
      "Iteration 13, loss = 0.82905000\n",
      "Iteration 14, loss = 0.82503142\n",
      "Iteration 15, loss = 0.82108491\n",
      "Iteration 16, loss = 0.81717824\n",
      "Iteration 17, loss = 0.81325852\n",
      "Iteration 18, loss = 0.80927818\n",
      "Iteration 19, loss = 0.80521195\n",
      "Iteration 20, loss = 0.80096969\n",
      "Iteration 1, loss = 0.93613262\n",
      "Iteration 2, loss = 0.91497864\n",
      "Iteration 3, loss = 0.89884357\n"
     ]
    },
    {
     "name": "stderr",
     "output_type": "stream",
     "text": [
      "D:\\anaconda\\envs\\tensorflow\\lib\\site-packages\\sklearn\\neural_network\\_multilayer_perceptron.py:702: ConvergenceWarning: Stochastic Optimizer: Maximum iterations (20) reached and the optimization hasn't converged yet.\n",
      "  warnings.warn(\n"
     ]
    },
    {
     "name": "stdout",
     "output_type": "stream",
     "text": [
      "Iteration 4, loss = 0.88673760\n",
      "Iteration 5, loss = 0.87721115\n",
      "Iteration 6, loss = 0.86966430\n",
      "Iteration 7, loss = 0.86322585\n",
      "Iteration 8, loss = 0.85754629\n",
      "Iteration 9, loss = 0.85247797\n",
      "Iteration 10, loss = 0.84776400\n",
      "Iteration 11, loss = 0.84332441\n",
      "Iteration 12, loss = 0.83904026\n",
      "Iteration 13, loss = 0.83486200\n",
      "Iteration 14, loss = 0.83080470\n",
      "Iteration 15, loss = 0.82677825\n",
      "Iteration 16, loss = 0.82287451\n",
      "Iteration 17, loss = 0.81895252\n",
      "Iteration 18, loss = 0.81505885\n",
      "Iteration 19, loss = 0.81111051\n",
      "Iteration 20, loss = 0.80712453\n",
      "Iteration 1, loss = 0.92737019\n",
      "Iteration 2, loss = 0.90665809\n",
      "Iteration 3, loss = 0.89091541\n",
      "Iteration 4, loss = 0.87911751\n",
      "Iteration 5, loss = 0.86976465\n",
      "Iteration 6, loss = 0.86243270\n",
      "Iteration 7, loss = 0.85611826\n",
      "Iteration 8, loss = 0.85063515\n",
      "Iteration 9, loss = 0.84568699\n",
      "Iteration 10, loss = 0.84114327\n",
      "Iteration 11, loss = 0.83677804\n",
      "Iteration 12, loss = 0.83259889\n",
      "Iteration 13, loss = 0.82847659\n",
      "Iteration 14, loss = 0.82444477\n",
      "Iteration 15, loss = 0.82039294\n"
     ]
    },
    {
     "name": "stderr",
     "output_type": "stream",
     "text": [
      "D:\\anaconda\\envs\\tensorflow\\lib\\site-packages\\sklearn\\neural_network\\_multilayer_perceptron.py:702: ConvergenceWarning: Stochastic Optimizer: Maximum iterations (20) reached and the optimization hasn't converged yet.\n",
      "  warnings.warn(\n"
     ]
    },
    {
     "name": "stdout",
     "output_type": "stream",
     "text": [
      "Iteration 16, loss = 0.81636886\n",
      "Iteration 17, loss = 0.81223100\n",
      "Iteration 18, loss = 0.80799723\n",
      "Iteration 19, loss = 0.80349268\n",
      "Iteration 20, loss = 0.79879213\n",
      "Iteration 1, loss = 0.93272986\n",
      "Iteration 2, loss = 0.91192001\n",
      "Iteration 3, loss = 0.89596197\n",
      "Iteration 4, loss = 0.88405886\n",
      "Iteration 5, loss = 0.87465514\n",
      "Iteration 6, loss = 0.86722245\n",
      "Iteration 7, loss = 0.86080670\n",
      "Iteration 8, loss = 0.85530692\n",
      "Iteration 9, loss = 0.85022311\n",
      "Iteration 10, loss = 0.84561925\n",
      "Iteration 11, loss = 0.84119740\n"
     ]
    },
    {
     "name": "stderr",
     "output_type": "stream",
     "text": [
      "D:\\anaconda\\envs\\tensorflow\\lib\\site-packages\\sklearn\\neural_network\\_multilayer_perceptron.py:702: ConvergenceWarning: Stochastic Optimizer: Maximum iterations (20) reached and the optimization hasn't converged yet.\n",
      "  warnings.warn(\n"
     ]
    },
    {
     "name": "stdout",
     "output_type": "stream",
     "text": [
      "Iteration 12, loss = 0.83693285\n",
      "Iteration 13, loss = 0.83277973\n",
      "Iteration 14, loss = 0.82874002\n",
      "Iteration 15, loss = 0.82465296\n",
      "Iteration 16, loss = 0.82070804\n",
      "Iteration 17, loss = 0.81664577\n",
      "Iteration 18, loss = 0.81261651\n",
      "Iteration 19, loss = 0.80840405\n",
      "Iteration 20, loss = 0.80401998\n",
      "Iteration 1, loss = 0.93671977\n",
      "Iteration 2, loss = 0.91578226\n",
      "Iteration 3, loss = 0.89965175\n",
      "Iteration 4, loss = 0.88759672\n",
      "Iteration 5, loss = 0.87800748\n",
      "Iteration 6, loss = 0.87046517\n",
      "Iteration 7, loss = 0.86391730\n",
      "Iteration 8, loss = 0.85837596\n"
     ]
    },
    {
     "name": "stderr",
     "output_type": "stream",
     "text": [
      "D:\\anaconda\\envs\\tensorflow\\lib\\site-packages\\sklearn\\neural_network\\_multilayer_perceptron.py:702: ConvergenceWarning: Stochastic Optimizer: Maximum iterations (20) reached and the optimization hasn't converged yet.\n",
      "  warnings.warn(\n"
     ]
    },
    {
     "name": "stdout",
     "output_type": "stream",
     "text": [
      "Iteration 9, loss = 0.85320945\n",
      "Iteration 10, loss = 0.84855137\n",
      "Iteration 11, loss = 0.84408175\n",
      "Iteration 12, loss = 0.83975255\n",
      "Iteration 13, loss = 0.83557423\n",
      "Iteration 14, loss = 0.83148559\n",
      "Iteration 15, loss = 0.82736884\n",
      "Iteration 16, loss = 0.82338378\n",
      "Iteration 17, loss = 0.81930987\n",
      "Iteration 18, loss = 0.81530784\n",
      "Iteration 19, loss = 0.81111053\n",
      "Iteration 20, loss = 0.80680363\n",
      "Iteration 1, loss = 0.94130575\n",
      "Iteration 2, loss = 0.92001577\n",
      "Iteration 3, loss = 0.90361338\n",
      "Iteration 4, loss = 0.89137616\n",
      "Iteration 5, loss = 0.88172991\n",
      "Iteration 6, loss = 0.87410120\n",
      "Iteration 7, loss = 0.86750453\n",
      "Iteration 8, loss = 0.86188693\n",
      "Iteration 9, loss = 0.85667555\n"
     ]
    },
    {
     "name": "stderr",
     "output_type": "stream",
     "text": [
      "D:\\anaconda\\envs\\tensorflow\\lib\\site-packages\\sklearn\\neural_network\\_multilayer_perceptron.py:702: ConvergenceWarning: Stochastic Optimizer: Maximum iterations (20) reached and the optimization hasn't converged yet.\n",
      "  warnings.warn(\n",
      "D:\\anaconda\\envs\\tensorflow\\lib\\site-packages\\sklearn\\neural_network\\_multilayer_perceptron.py:702: ConvergenceWarning: Stochastic Optimizer: Maximum iterations (20) reached and the optimization hasn't converged yet.\n",
      "  warnings.warn(\n"
     ]
    },
    {
     "name": "stdout",
     "output_type": "stream",
     "text": [
      "Iteration 10, loss = 0.85193141\n",
      "Iteration 11, loss = 0.84737998\n",
      "Iteration 12, loss = 0.84300507\n",
      "Iteration 13, loss = 0.83877705\n",
      "Iteration 14, loss = 0.83463531\n",
      "Iteration 15, loss = 0.83047650\n",
      "Iteration 16, loss = 0.82645918\n",
      "Iteration 17, loss = 0.82236797\n",
      "Iteration 18, loss = 0.81833439\n",
      "Iteration 19, loss = 0.81417635\n",
      "Iteration 20, loss = 0.80988837\n",
      "Iteration 1, loss = 0.93233318\n",
      "Iteration 2, loss = 0.91158249\n",
      "Iteration 3, loss = 0.89571197\n",
      "Iteration 4, loss = 0.88348132\n",
      "Iteration 5, loss = 0.87425970\n",
      "Iteration 6, loss = 0.86667432\n",
      "Iteration 7, loss = 0.86026911\n",
      "Iteration 8, loss = 0.85476430\n",
      "Iteration 9, loss = 0.84974322\n",
      "Iteration 10, loss = 0.84512854\n",
      "Iteration 11, loss = 0.84062374\n",
      "Iteration 12, loss = 0.83644908\n",
      "Iteration 13, loss = 0.83232936\n",
      "Iteration 14, loss = 0.82832757\n",
      "Iteration 15, loss = 0.82429856\n",
      "Iteration 16, loss = 0.82035010\n",
      "Iteration 17, loss = 0.81642166\n",
      "Iteration 18, loss = 0.81240776\n",
      "Iteration 19, loss = 0.80833390\n",
      "Iteration 20, loss = 0.80409806\n",
      "Iteration 1, loss = 0.93309525\n",
      "Iteration 2, loss = 0.91241446\n",
      "Iteration 3, loss = 0.89660083\n",
      "Iteration 4, loss = 0.88447057\n",
      "Iteration 5, loss = 0.87527118\n",
      "Iteration 6, loss = 0.86766191\n",
      "Iteration 7, loss = 0.86130505\n",
      "Iteration 8, loss = 0.85577850\n"
     ]
    },
    {
     "name": "stderr",
     "output_type": "stream",
     "text": [
      "D:\\anaconda\\envs\\tensorflow\\lib\\site-packages\\sklearn\\neural_network\\_multilayer_perceptron.py:702: ConvergenceWarning: Stochastic Optimizer: Maximum iterations (20) reached and the optimization hasn't converged yet.\n",
      "  warnings.warn(\n"
     ]
    },
    {
     "name": "stdout",
     "output_type": "stream",
     "text": [
      "Iteration 9, loss = 0.85072528\n",
      "Iteration 10, loss = 0.84608804\n",
      "Iteration 11, loss = 0.84157577\n",
      "Iteration 12, loss = 0.83738219\n",
      "Iteration 13, loss = 0.83325184\n",
      "Iteration 14, loss = 0.82922888\n",
      "Iteration 15, loss = 0.82518751\n",
      "Iteration 16, loss = 0.82124692\n",
      "Iteration 17, loss = 0.81730752\n",
      "Iteration 18, loss = 0.81326366\n",
      "Iteration 19, loss = 0.80920487\n",
      "Iteration 20, loss = 0.80496912\n",
      "Iteration 1, loss = 0.93254971\n",
      "Iteration 2, loss = 0.88318456\n",
      "Iteration 3, loss = 0.83982771\n",
      "Iteration 4, loss = 0.80908805\n",
      "Iteration 5, loss = 0.78809026\n",
      "Iteration 6, loss = 0.77436760\n",
      "Iteration 7, loss = 0.76476466\n"
     ]
    },
    {
     "name": "stderr",
     "output_type": "stream",
     "text": [
      "D:\\anaconda\\envs\\tensorflow\\lib\\site-packages\\sklearn\\neural_network\\_multilayer_perceptron.py:702: ConvergenceWarning: Stochastic Optimizer: Maximum iterations (20) reached and the optimization hasn't converged yet.\n",
      "  warnings.warn(\n",
      "D:\\anaconda\\envs\\tensorflow\\lib\\site-packages\\sklearn\\neural_network\\_multilayer_perceptron.py:702: ConvergenceWarning: Stochastic Optimizer: Maximum iterations (20) reached and the optimization hasn't converged yet.\n",
      "  warnings.warn(\n"
     ]
    },
    {
     "name": "stdout",
     "output_type": "stream",
     "text": [
      "Iteration 8, loss = 0.75735179\n",
      "Iteration 9, loss = 0.75139233\n",
      "Iteration 10, loss = 0.74587620\n",
      "Iteration 11, loss = 0.74081997\n",
      "Iteration 12, loss = 0.73612154\n",
      "Iteration 13, loss = 0.73132542\n",
      "Iteration 14, loss = 0.72653433\n",
      "Iteration 15, loss = 0.72197515\n",
      "Iteration 16, loss = 0.71757230\n",
      "Iteration 17, loss = 0.71314269\n",
      "Iteration 18, loss = 0.70868735\n",
      "Iteration 19, loss = 0.70441671\n",
      "Iteration 20, loss = 0.70021101\n",
      "Iteration 1, loss = 0.92781866\n",
      "Iteration 2, loss = 0.87848250\n",
      "Iteration 3, loss = 0.83538436\n",
      "Iteration 4, loss = 0.80510706\n",
      "Iteration 5, loss = 0.78474433\n",
      "Iteration 6, loss = 0.77160154\n",
      "Iteration 7, loss = 0.76240931\n",
      "Iteration 8, loss = 0.75543071\n",
      "Iteration 9, loss = 0.74985764\n",
      "Iteration 10, loss = 0.74479314\n",
      "Iteration 11, loss = 0.74006455\n",
      "Iteration 12, loss = 0.73558794\n",
      "Iteration 13, loss = 0.73122298\n",
      "Iteration 14, loss = 0.72687135\n",
      "Iteration 15, loss = 0.72260795\n",
      "Iteration 16, loss = 0.71869113\n",
      "Iteration 17, loss = 0.71463413\n",
      "Iteration 18, loss = 0.71062421\n",
      "Iteration 19, loss = 0.70667813\n",
      "Iteration 20, loss = 0.70267195\n",
      "Iteration 1, loss = 0.92351878\n",
      "Iteration 2, loss = 0.87650772\n",
      "Iteration 3, loss = 0.83515388\n",
      "Iteration 4, loss = 0.80587242\n",
      "Iteration 5, loss = 0.78562991\n",
      "Iteration 6, loss = 0.77257691\n",
      "Iteration 7, loss = 0.76322633\n",
      "Iteration 8, loss = 0.75611607\n",
      "Iteration 9, loss = 0.75040419\n",
      "Iteration 10, loss = 0.74527491\n",
      "Iteration 11, loss = 0.74051005\n",
      "Iteration 12, loss = 0.73598285\n"
     ]
    },
    {
     "name": "stderr",
     "output_type": "stream",
     "text": [
      "D:\\anaconda\\envs\\tensorflow\\lib\\site-packages\\sklearn\\neural_network\\_multilayer_perceptron.py:702: ConvergenceWarning: Stochastic Optimizer: Maximum iterations (20) reached and the optimization hasn't converged yet.\n",
      "  warnings.warn(\n",
      "D:\\anaconda\\envs\\tensorflow\\lib\\site-packages\\sklearn\\neural_network\\_multilayer_perceptron.py:702: ConvergenceWarning: Stochastic Optimizer: Maximum iterations (20) reached and the optimization hasn't converged yet.\n",
      "  warnings.warn(\n"
     ]
    },
    {
     "name": "stdout",
     "output_type": "stream",
     "text": [
      "Iteration 13, loss = 0.73162080\n",
      "Iteration 14, loss = 0.72728817\n",
      "Iteration 15, loss = 0.72318356\n",
      "Iteration 16, loss = 0.71938617\n",
      "Iteration 17, loss = 0.71549457\n",
      "Iteration 18, loss = 0.71158841\n",
      "Iteration 19, loss = 0.70782273\n",
      "Iteration 20, loss = 0.70401124\n",
      "Iteration 1, loss = 0.93144567\n",
      "Iteration 2, loss = 0.88164260\n",
      "Iteration 3, loss = 0.83829163\n",
      "Iteration 4, loss = 0.80775749\n",
      "Iteration 5, loss = 0.78677769\n",
      "Iteration 6, loss = 0.77328502\n",
      "Iteration 7, loss = 0.76386663\n",
      "Iteration 8, loss = 0.75662022\n",
      "Iteration 9, loss = 0.75078102\n",
      "Iteration 10, loss = 0.74547102\n",
      "Iteration 11, loss = 0.74058581\n",
      "Iteration 12, loss = 0.73588360\n",
      "Iteration 13, loss = 0.73124863\n",
      "Iteration 14, loss = 0.72668355\n",
      "Iteration 15, loss = 0.72219599\n",
      "Iteration 16, loss = 0.71804055\n",
      "Iteration 17, loss = 0.71379292\n",
      "Iteration 18, loss = 0.70956085\n",
      "Iteration 19, loss = 0.70539935\n",
      "Iteration 20, loss = 0.70144551\n",
      "Iteration 1, loss = 0.92303614\n",
      "Iteration 2, loss = 0.87547965\n",
      "Iteration 3, loss = 0.83403293\n",
      "Iteration 4, loss = 0.80470216\n",
      "Iteration 5, loss = 0.78418185\n",
      "Iteration 6, loss = 0.77109698\n",
      "Iteration 7, loss = 0.76176639\n",
      "Iteration 8, loss = 0.75483911\n",
      "Iteration 9, loss = 0.74913776\n",
      "Iteration 10, loss = 0.74416251\n"
     ]
    },
    {
     "name": "stderr",
     "output_type": "stream",
     "text": [
      "D:\\anaconda\\envs\\tensorflow\\lib\\site-packages\\sklearn\\neural_network\\_multilayer_perceptron.py:702: ConvergenceWarning: Stochastic Optimizer: Maximum iterations (20) reached and the optimization hasn't converged yet.\n",
      "  warnings.warn(\n"
     ]
    },
    {
     "name": "stdout",
     "output_type": "stream",
     "text": [
      "Iteration 11, loss = 0.73936741\n",
      "Iteration 12, loss = 0.73490510\n",
      "Iteration 13, loss = 0.73038552\n",
      "Iteration 14, loss = 0.72590038\n",
      "Iteration 15, loss = 0.72152518\n",
      "Iteration 16, loss = 0.71734541\n",
      "Iteration 17, loss = 0.71302279\n",
      "Iteration 18, loss = 0.70876356\n",
      "Iteration 19, loss = 0.70466346\n",
      "Iteration 20, loss = 0.70076395\n",
      "Iteration 1, loss = 0.92820028\n",
      "Iteration 2, loss = 0.88003107\n",
      "Iteration 3, loss = 0.83766382\n",
      "Iteration 4, loss = 0.80771335\n",
      "Iteration 5, loss = 0.78686320\n",
      "Iteration 6, loss = 0.77344842\n",
      "Iteration 7, loss = 0.76382372\n"
     ]
    },
    {
     "name": "stderr",
     "output_type": "stream",
     "text": [
      "D:\\anaconda\\envs\\tensorflow\\lib\\site-packages\\sklearn\\neural_network\\_multilayer_perceptron.py:702: ConvergenceWarning: Stochastic Optimizer: Maximum iterations (20) reached and the optimization hasn't converged yet.\n",
      "  warnings.warn(\n"
     ]
    },
    {
     "name": "stdout",
     "output_type": "stream",
     "text": [
      "Iteration 8, loss = 0.75694554\n",
      "Iteration 9, loss = 0.75091998\n",
      "Iteration 10, loss = 0.74579250\n",
      "Iteration 11, loss = 0.74082544\n",
      "Iteration 12, loss = 0.73614909\n",
      "Iteration 13, loss = 0.73160493\n",
      "Iteration 14, loss = 0.72700256\n",
      "Iteration 15, loss = 0.72232144\n",
      "Iteration 16, loss = 0.71808433\n",
      "Iteration 17, loss = 0.71359816\n",
      "Iteration 18, loss = 0.70922225\n",
      "Iteration 19, loss = 0.70497861\n",
      "Iteration 20, loss = 0.70092352\n",
      "Iteration 1, loss = 0.93188627\n",
      "Iteration 2, loss = 0.88286000\n",
      "Iteration 3, loss = 0.83972950\n"
     ]
    },
    {
     "name": "stderr",
     "output_type": "stream",
     "text": [
      "D:\\anaconda\\envs\\tensorflow\\lib\\site-packages\\sklearn\\neural_network\\_multilayer_perceptron.py:702: ConvergenceWarning: Stochastic Optimizer: Maximum iterations (20) reached and the optimization hasn't converged yet.\n",
      "  warnings.warn(\n"
     ]
    },
    {
     "name": "stdout",
     "output_type": "stream",
     "text": [
      "Iteration 4, loss = 0.80923941\n",
      "Iteration 5, loss = 0.78790323\n",
      "Iteration 6, loss = 0.77431024\n",
      "Iteration 7, loss = 0.76437813\n",
      "Iteration 8, loss = 0.75747561\n",
      "Iteration 9, loss = 0.75116601\n",
      "Iteration 10, loss = 0.74585468\n",
      "Iteration 11, loss = 0.74069218\n",
      "Iteration 12, loss = 0.73574641\n",
      "Iteration 13, loss = 0.73083837\n",
      "Iteration 14, loss = 0.72597863\n",
      "Iteration 15, loss = 0.72124112\n",
      "Iteration 16, loss = 0.71666195\n",
      "Iteration 17, loss = 0.71191387\n",
      "Iteration 18, loss = 0.70722907\n",
      "Iteration 19, loss = 0.70280843\n",
      "Iteration 20, loss = 0.69850382\n",
      "Iteration 1, loss = 0.93640854\n"
     ]
    },
    {
     "name": "stderr",
     "output_type": "stream",
     "text": [
      "D:\\anaconda\\envs\\tensorflow\\lib\\site-packages\\sklearn\\neural_network\\_multilayer_perceptron.py:702: ConvergenceWarning: Stochastic Optimizer: Maximum iterations (20) reached and the optimization hasn't converged yet.\n",
      "  warnings.warn(\n"
     ]
    },
    {
     "name": "stdout",
     "output_type": "stream",
     "text": [
      "Iteration 2, loss = 0.88595463\n",
      "Iteration 3, loss = 0.84134782\n",
      "Iteration 4, loss = 0.81001356\n",
      "Iteration 5, loss = 0.78838082\n",
      "Iteration 6, loss = 0.77466152\n",
      "Iteration 7, loss = 0.76467206\n",
      "Iteration 8, loss = 0.75778832\n",
      "Iteration 9, loss = 0.75152535\n",
      "Iteration 10, loss = 0.74621381\n",
      "Iteration 11, loss = 0.74106374\n",
      "Iteration 12, loss = 0.73624758\n",
      "Iteration 13, loss = 0.73155549\n",
      "Iteration 14, loss = 0.72689319\n",
      "Iteration 15, loss = 0.72234599\n",
      "Iteration 16, loss = 0.71810009\n",
      "Iteration 17, loss = 0.71372827\n",
      "Iteration 18, loss = 0.70946502\n",
      "Iteration 19, loss = 0.70525013\n",
      "Iteration 20, loss = 0.70132607\n",
      "Iteration 1, loss = 0.92771867\n",
      "Iteration 2, loss = 0.87980049\n",
      "Iteration 3, loss = 0.83760746\n",
      "Iteration 4, loss = 0.80692061\n",
      "Iteration 5, loss = 0.78695430\n",
      "Iteration 6, loss = 0.77334409\n",
      "Iteration 7, loss = 0.76373423\n",
      "Iteration 8, loss = 0.75688217\n",
      "Iteration 9, loss = 0.75108907\n",
      "Iteration 10, loss = 0.74586568\n",
      "Iteration 11, loss = 0.74081982\n",
      "Iteration 12, loss = 0.73621603\n",
      "Iteration 13, loss = 0.73153471\n",
      "Iteration 14, loss = 0.72699083\n",
      "Iteration 15, loss = 0.72237234\n",
      "Iteration 16, loss = 0.71795905\n",
      "Iteration 17, loss = 0.71362019\n",
      "Iteration 18, loss = 0.70922980\n",
      "Iteration 19, loss = 0.70497205\n",
      "Iteration 20, loss = 0.70101428\n",
      "Iteration 1, loss = 0.92840198\n",
      "Iteration 2, loss = 0.88088230\n"
     ]
    },
    {
     "name": "stderr",
     "output_type": "stream",
     "text": [
      "D:\\anaconda\\envs\\tensorflow\\lib\\site-packages\\sklearn\\neural_network\\_multilayer_perceptron.py:702: ConvergenceWarning: Stochastic Optimizer: Maximum iterations (20) reached and the optimization hasn't converged yet.\n",
      "  warnings.warn(\n",
      "D:\\anaconda\\envs\\tensorflow\\lib\\site-packages\\sklearn\\neural_network\\_multilayer_perceptron.py:702: ConvergenceWarning: Stochastic Optimizer: Maximum iterations (20) reached and the optimization hasn't converged yet.\n",
      "  warnings.warn(\n"
     ]
    },
    {
     "name": "stdout",
     "output_type": "stream",
     "text": [
      "Iteration 3, loss = 0.83910006\n",
      "Iteration 4, loss = 0.80879894\n",
      "Iteration 5, loss = 0.78872920\n",
      "Iteration 6, loss = 0.77489304\n",
      "Iteration 7, loss = 0.76544299\n",
      "Iteration 8, loss = 0.75864014\n",
      "Iteration 9, loss = 0.75292026\n",
      "Iteration 10, loss = 0.74783102\n",
      "Iteration 11, loss = 0.74287304\n",
      "Iteration 12, loss = 0.73839603\n",
      "Iteration 13, loss = 0.73386742\n",
      "Iteration 14, loss = 0.72950336\n",
      "Iteration 15, loss = 0.72517462\n",
      "Iteration 16, loss = 0.72108958\n",
      "Iteration 17, loss = 0.71702463\n",
      "Iteration 18, loss = 0.71294566\n",
      "Iteration 19, loss = 0.70896200\n",
      "Iteration 20, loss = 0.70521228\n"
     ]
    },
    {
     "name": "stderr",
     "output_type": "stream",
     "text": [
      "D:\\anaconda\\envs\\tensorflow\\lib\\site-packages\\sklearn\\neural_network\\_multilayer_perceptron.py:702: ConvergenceWarning: Stochastic Optimizer: Maximum iterations (20) reached and the optimization hasn't converged yet.\n",
      "  warnings.warn(\n",
      "D:\\anaconda\\envs\\tensorflow\\lib\\site-packages\\sklearn\\neural_network\\_multilayer_perceptron.py:559: ConvergenceWarning: lbfgs failed to converge (status=1):\n",
      "STOP: TOTAL NO. of ITERATIONS REACHED LIMIT.\n",
      "\n",
      "Increase the number of iterations (max_iter) or scale the data as shown in:\n",
      "    https://scikit-learn.org/stable/modules/preprocessing.html\n",
      "  self.n_iter_ = _check_optimize_result(\"lbfgs\", opt_res, self.max_iter)\n",
      "D:\\anaconda\\envs\\tensorflow\\lib\\site-packages\\sklearn\\neural_network\\_multilayer_perceptron.py:559: ConvergenceWarning: lbfgs failed to converge (status=1):\n",
      "STOP: TOTAL NO. of ITERATIONS REACHED LIMIT.\n",
      "\n",
      "Increase the number of iterations (max_iter) or scale the data as shown in:\n",
      "    https://scikit-learn.org/stable/modules/preprocessing.html\n",
      "  self.n_iter_ = _check_optimize_result(\"lbfgs\", opt_res, self.max_iter)\n",
      "D:\\anaconda\\envs\\tensorflow\\lib\\site-packages\\sklearn\\neural_network\\_multilayer_perceptron.py:559: ConvergenceWarning: lbfgs failed to converge (status=1):\n",
      "STOP: TOTAL NO. of ITERATIONS REACHED LIMIT.\n",
      "\n",
      "Increase the number of iterations (max_iter) or scale the data as shown in:\n",
      "    https://scikit-learn.org/stable/modules/preprocessing.html\n",
      "  self.n_iter_ = _check_optimize_result(\"lbfgs\", opt_res, self.max_iter)\n",
      "D:\\anaconda\\envs\\tensorflow\\lib\\site-packages\\sklearn\\neural_network\\_multilayer_perceptron.py:559: ConvergenceWarning: lbfgs failed to converge (status=1):\n",
      "STOP: TOTAL NO. of ITERATIONS REACHED LIMIT.\n",
      "\n",
      "Increase the number of iterations (max_iter) or scale the data as shown in:\n",
      "    https://scikit-learn.org/stable/modules/preprocessing.html\n",
      "  self.n_iter_ = _check_optimize_result(\"lbfgs\", opt_res, self.max_iter)\n",
      "D:\\anaconda\\envs\\tensorflow\\lib\\site-packages\\sklearn\\neural_network\\_multilayer_perceptron.py:559: ConvergenceWarning: lbfgs failed to converge (status=1):\n",
      "STOP: TOTAL NO. of ITERATIONS REACHED LIMIT.\n",
      "\n",
      "Increase the number of iterations (max_iter) or scale the data as shown in:\n",
      "    https://scikit-learn.org/stable/modules/preprocessing.html\n",
      "  self.n_iter_ = _check_optimize_result(\"lbfgs\", opt_res, self.max_iter)\n",
      "D:\\anaconda\\envs\\tensorflow\\lib\\site-packages\\sklearn\\neural_network\\_multilayer_perceptron.py:559: ConvergenceWarning: lbfgs failed to converge (status=1):\n",
      "STOP: TOTAL NO. of ITERATIONS REACHED LIMIT.\n",
      "\n",
      "Increase the number of iterations (max_iter) or scale the data as shown in:\n",
      "    https://scikit-learn.org/stable/modules/preprocessing.html\n",
      "  self.n_iter_ = _check_optimize_result(\"lbfgs\", opt_res, self.max_iter)\n",
      "D:\\anaconda\\envs\\tensorflow\\lib\\site-packages\\sklearn\\neural_network\\_multilayer_perceptron.py:559: ConvergenceWarning: lbfgs failed to converge (status=1):\n",
      "STOP: TOTAL NO. of ITERATIONS REACHED LIMIT.\n",
      "\n",
      "Increase the number of iterations (max_iter) or scale the data as shown in:\n",
      "    https://scikit-learn.org/stable/modules/preprocessing.html\n",
      "  self.n_iter_ = _check_optimize_result(\"lbfgs\", opt_res, self.max_iter)\n",
      "D:\\anaconda\\envs\\tensorflow\\lib\\site-packages\\sklearn\\neural_network\\_multilayer_perceptron.py:559: ConvergenceWarning: lbfgs failed to converge (status=1):\n",
      "STOP: TOTAL NO. of ITERATIONS REACHED LIMIT.\n",
      "\n",
      "Increase the number of iterations (max_iter) or scale the data as shown in:\n",
      "    https://scikit-learn.org/stable/modules/preprocessing.html\n",
      "  self.n_iter_ = _check_optimize_result(\"lbfgs\", opt_res, self.max_iter)\n",
      "D:\\anaconda\\envs\\tensorflow\\lib\\site-packages\\sklearn\\neural_network\\_multilayer_perceptron.py:559: ConvergenceWarning: lbfgs failed to converge (status=1):\n",
      "STOP: TOTAL NO. of ITERATIONS REACHED LIMIT.\n",
      "\n",
      "Increase the number of iterations (max_iter) or scale the data as shown in:\n",
      "    https://scikit-learn.org/stable/modules/preprocessing.html\n",
      "  self.n_iter_ = _check_optimize_result(\"lbfgs\", opt_res, self.max_iter)\n",
      "D:\\anaconda\\envs\\tensorflow\\lib\\site-packages\\sklearn\\neural_network\\_multilayer_perceptron.py:559: ConvergenceWarning: lbfgs failed to converge (status=1):\n",
      "STOP: TOTAL NO. of ITERATIONS REACHED LIMIT.\n",
      "\n",
      "Increase the number of iterations (max_iter) or scale the data as shown in:\n",
      "    https://scikit-learn.org/stable/modules/preprocessing.html\n",
      "  self.n_iter_ = _check_optimize_result(\"lbfgs\", opt_res, self.max_iter)\n"
     ]
    },
    {
     "name": "stdout",
     "output_type": "stream",
     "text": [
      "Iteration 1, loss = 1.20980373\n",
      "Iteration 2, loss = 0.67521286\n",
      "Iteration 3, loss = 0.53604945\n",
      "Iteration 4, loss = 0.47359524\n",
      "Iteration 5, loss = 0.43299194\n",
      "Iteration 6, loss = 0.40460108\n",
      "Iteration 7, loss = 0.38202212\n",
      "Iteration 8, loss = 0.36359797\n",
      "Iteration 9, loss = 0.34770117\n",
      "Iteration 10, loss = 0.33383152\n",
      "Iteration 11, loss = 0.32161736\n",
      "Iteration 12, loss = 0.31031143\n",
      "Iteration 13, loss = 0.29993119\n",
      "Iteration 14, loss = 0.28969858\n",
      "Iteration 15, loss = 0.28157587\n",
      "Iteration 16, loss = 0.27301779\n",
      "Iteration 17, loss = 0.26464381\n",
      "Iteration 18, loss = 0.25788950\n",
      "Iteration 19, loss = 0.25050434\n",
      "Iteration 20, loss = 0.24323974\n",
      "Iteration 1, loss = 1.21717039\n",
      "Iteration 2, loss = 0.67761626\n",
      "Iteration 3, loss = 0.53750843\n",
      "Iteration 4, loss = 0.47410925\n",
      "Iteration 5, loss = 0.43367536\n",
      "Iteration 6, loss = 0.40534717\n"
     ]
    },
    {
     "name": "stderr",
     "output_type": "stream",
     "text": [
      "D:\\anaconda\\envs\\tensorflow\\lib\\site-packages\\sklearn\\neural_network\\_multilayer_perceptron.py:702: ConvergenceWarning: Stochastic Optimizer: Maximum iterations (20) reached and the optimization hasn't converged yet.\n",
      "  warnings.warn(\n"
     ]
    },
    {
     "name": "stdout",
     "output_type": "stream",
     "text": [
      "Iteration 7, loss = 0.38248582\n",
      "Iteration 8, loss = 0.36377694\n",
      "Iteration 9, loss = 0.34792881\n",
      "Iteration 10, loss = 0.33401545\n",
      "Iteration 11, loss = 0.32175973\n",
      "Iteration 12, loss = 0.31039799\n",
      "Iteration 13, loss = 0.30025427\n",
      "Iteration 14, loss = 0.28989595\n",
      "Iteration 15, loss = 0.28158412\n",
      "Iteration 16, loss = 0.27337162\n",
      "Iteration 17, loss = 0.26509567\n",
      "Iteration 18, loss = 0.25766696\n",
      "Iteration 19, loss = 0.25039954\n",
      "Iteration 20, loss = 0.24294866\n",
      "Iteration 1, loss = 1.21516501\n",
      "Iteration 2, loss = 0.67777902\n",
      "Iteration 3, loss = 0.53881128\n",
      "Iteration 4, loss = 0.47674866\n"
     ]
    },
    {
     "name": "stderr",
     "output_type": "stream",
     "text": [
      "D:\\anaconda\\envs\\tensorflow\\lib\\site-packages\\sklearn\\neural_network\\_multilayer_perceptron.py:702: ConvergenceWarning: Stochastic Optimizer: Maximum iterations (20) reached and the optimization hasn't converged yet.\n",
      "  warnings.warn(\n"
     ]
    },
    {
     "name": "stdout",
     "output_type": "stream",
     "text": [
      "Iteration 5, loss = 0.43674676\n",
      "Iteration 6, loss = 0.40839624\n",
      "Iteration 7, loss = 0.38580923\n",
      "Iteration 8, loss = 0.36719902\n",
      "Iteration 9, loss = 0.35113179\n",
      "Iteration 10, loss = 0.33679765\n",
      "Iteration 11, loss = 0.32449885\n",
      "Iteration 12, loss = 0.31321605\n",
      "Iteration 13, loss = 0.30302641\n",
      "Iteration 14, loss = 0.29243239\n",
      "Iteration 15, loss = 0.28393842\n",
      "Iteration 16, loss = 0.27561365\n",
      "Iteration 17, loss = 0.26716661\n",
      "Iteration 18, loss = 0.25948862\n",
      "Iteration 19, loss = 0.25225274\n",
      "Iteration 20, loss = 0.24498289\n",
      "Iteration 1, loss = 1.19800947\n",
      "Iteration 2, loss = 0.67090905\n",
      "Iteration 3, loss = 0.53585302\n"
     ]
    },
    {
     "name": "stderr",
     "output_type": "stream",
     "text": [
      "D:\\anaconda\\envs\\tensorflow\\lib\\site-packages\\sklearn\\neural_network\\_multilayer_perceptron.py:702: ConvergenceWarning: Stochastic Optimizer: Maximum iterations (20) reached and the optimization hasn't converged yet.\n",
      "  warnings.warn(\n"
     ]
    },
    {
     "name": "stdout",
     "output_type": "stream",
     "text": [
      "Iteration 4, loss = 0.47219656\n",
      "Iteration 5, loss = 0.43176100\n",
      "Iteration 6, loss = 0.40309494\n",
      "Iteration 7, loss = 0.38037696\n",
      "Iteration 8, loss = 0.36153501\n",
      "Iteration 9, loss = 0.34531612\n",
      "Iteration 10, loss = 0.33123252\n",
      "Iteration 11, loss = 0.31897963\n",
      "Iteration 12, loss = 0.30754797\n",
      "Iteration 13, loss = 0.29734297\n",
      "Iteration 14, loss = 0.28727900\n",
      "Iteration 15, loss = 0.27855908\n",
      "Iteration 16, loss = 0.27045277\n",
      "Iteration 17, loss = 0.26218952\n",
      "Iteration 18, loss = 0.25485673\n",
      "Iteration 19, loss = 0.24770043\n",
      "Iteration 20, loss = 0.24097111\n",
      "Iteration 1, loss = 1.21519354\n"
     ]
    },
    {
     "name": "stderr",
     "output_type": "stream",
     "text": [
      "D:\\anaconda\\envs\\tensorflow\\lib\\site-packages\\sklearn\\neural_network\\_multilayer_perceptron.py:702: ConvergenceWarning: Stochastic Optimizer: Maximum iterations (20) reached and the optimization hasn't converged yet.\n",
      "  warnings.warn(\n"
     ]
    },
    {
     "name": "stdout",
     "output_type": "stream",
     "text": [
      "Iteration 2, loss = 0.67303263\n",
      "Iteration 3, loss = 0.53432957\n",
      "Iteration 4, loss = 0.47140769\n",
      "Iteration 5, loss = 0.43127126\n",
      "Iteration 6, loss = 0.40308889\n",
      "Iteration 7, loss = 0.38069326\n",
      "Iteration 8, loss = 0.36252604\n",
      "Iteration 9, loss = 0.34678939\n",
      "Iteration 10, loss = 0.33246427\n",
      "Iteration 11, loss = 0.32024309\n",
      "Iteration 12, loss = 0.30898828\n",
      "Iteration 13, loss = 0.29878044\n",
      "Iteration 14, loss = 0.28887814\n",
      "Iteration 15, loss = 0.27993926\n",
      "Iteration 16, loss = 0.27217757\n",
      "Iteration 17, loss = 0.26363165\n",
      "Iteration 18, loss = 0.25608299\n",
      "Iteration 19, loss = 0.24914046\n",
      "Iteration 20, loss = 0.24211194\n",
      "Iteration 1, loss = 1.20838962\n",
      "Iteration 2, loss = 0.67291791\n",
      "Iteration 3, loss = 0.53561016\n",
      "Iteration 4, loss = 0.47229644\n",
      "Iteration 5, loss = 0.43177711\n",
      "Iteration 6, loss = 0.40318975\n"
     ]
    },
    {
     "name": "stderr",
     "output_type": "stream",
     "text": [
      "D:\\anaconda\\envs\\tensorflow\\lib\\site-packages\\sklearn\\neural_network\\_multilayer_perceptron.py:702: ConvergenceWarning: Stochastic Optimizer: Maximum iterations (20) reached and the optimization hasn't converged yet.\n",
      "  warnings.warn(\n"
     ]
    },
    {
     "name": "stdout",
     "output_type": "stream",
     "text": [
      "Iteration 7, loss = 0.38068157\n",
      "Iteration 8, loss = 0.36230424\n",
      "Iteration 9, loss = 0.34670434\n",
      "Iteration 10, loss = 0.33212817\n",
      "Iteration 11, loss = 0.32002297\n",
      "Iteration 12, loss = 0.30926217\n",
      "Iteration 13, loss = 0.29908107\n",
      "Iteration 14, loss = 0.28927240\n",
      "Iteration 15, loss = 0.28023601\n",
      "Iteration 16, loss = 0.27261624\n",
      "Iteration 17, loss = 0.26430050\n",
      "Iteration 18, loss = 0.25681235\n",
      "Iteration 19, loss = 0.24978786\n",
      "Iteration 20, loss = 0.24272958\n",
      "Iteration 1, loss = 1.19918232\n",
      "Iteration 2, loss = 0.66914671\n",
      "Iteration 3, loss = 0.53300240\n",
      "Iteration 4, loss = 0.46904059\n"
     ]
    },
    {
     "name": "stderr",
     "output_type": "stream",
     "text": [
      "D:\\anaconda\\envs\\tensorflow\\lib\\site-packages\\sklearn\\neural_network\\_multilayer_perceptron.py:702: ConvergenceWarning: Stochastic Optimizer: Maximum iterations (20) reached and the optimization hasn't converged yet.\n",
      "  warnings.warn(\n"
     ]
    },
    {
     "name": "stdout",
     "output_type": "stream",
     "text": [
      "Iteration 5, loss = 0.42873989\n",
      "Iteration 6, loss = 0.40014205\n",
      "Iteration 7, loss = 0.37733489\n",
      "Iteration 8, loss = 0.35864169\n",
      "Iteration 9, loss = 0.34292482\n",
      "Iteration 10, loss = 0.32839316\n",
      "Iteration 11, loss = 0.31601383\n",
      "Iteration 12, loss = 0.30490598\n",
      "Iteration 13, loss = 0.29486743\n",
      "Iteration 14, loss = 0.28519284\n",
      "Iteration 15, loss = 0.27663568\n",
      "Iteration 16, loss = 0.26895452\n",
      "Iteration 17, loss = 0.26050931\n",
      "Iteration 18, loss = 0.25299586\n",
      "Iteration 19, loss = 0.24612316\n",
      "Iteration 20, loss = 0.23932927\n",
      "Iteration 1, loss = 1.18668374\n",
      "Iteration 2, loss = 0.66687865\n"
     ]
    },
    {
     "name": "stderr",
     "output_type": "stream",
     "text": [
      "D:\\anaconda\\envs\\tensorflow\\lib\\site-packages\\sklearn\\neural_network\\_multilayer_perceptron.py:702: ConvergenceWarning: Stochastic Optimizer: Maximum iterations (20) reached and the optimization hasn't converged yet.\n",
      "  warnings.warn(\n"
     ]
    },
    {
     "name": "stdout",
     "output_type": "stream",
     "text": [
      "Iteration 3, loss = 0.53544887\n",
      "Iteration 4, loss = 0.47182839\n",
      "Iteration 5, loss = 0.43177238\n",
      "Iteration 6, loss = 0.40307407\n",
      "Iteration 7, loss = 0.38027854\n",
      "Iteration 8, loss = 0.36185989\n",
      "Iteration 9, loss = 0.34566403\n",
      "Iteration 10, loss = 0.33153862\n",
      "Iteration 11, loss = 0.31925294\n",
      "Iteration 12, loss = 0.30807281\n",
      "Iteration 13, loss = 0.29803250\n",
      "Iteration 14, loss = 0.28816305\n",
      "Iteration 15, loss = 0.27964272\n",
      "Iteration 16, loss = 0.27176493\n",
      "Iteration 17, loss = 0.26317767\n",
      "Iteration 18, loss = 0.25595999\n",
      "Iteration 19, loss = 0.24880982\n",
      "Iteration 20, loss = 0.24247684\n"
     ]
    },
    {
     "name": "stderr",
     "output_type": "stream",
     "text": [
      "D:\\anaconda\\envs\\tensorflow\\lib\\site-packages\\sklearn\\neural_network\\_multilayer_perceptron.py:702: ConvergenceWarning: Stochastic Optimizer: Maximum iterations (20) reached and the optimization hasn't converged yet.\n",
      "  warnings.warn(\n"
     ]
    },
    {
     "name": "stdout",
     "output_type": "stream",
     "text": [
      "Iteration 1, loss = 1.20176000\n",
      "Iteration 2, loss = 0.67093476\n",
      "Iteration 3, loss = 0.53432452\n",
      "Iteration 4, loss = 0.47122363\n",
      "Iteration 5, loss = 0.43147360\n",
      "Iteration 6, loss = 0.40336356\n",
      "Iteration 7, loss = 0.38076634\n",
      "Iteration 8, loss = 0.36193440\n",
      "Iteration 9, loss = 0.34626967\n",
      "Iteration 10, loss = 0.33270837\n",
      "Iteration 11, loss = 0.32058063\n",
      "Iteration 12, loss = 0.30892403\n",
      "Iteration 13, loss = 0.29877320\n",
      "Iteration 14, loss = 0.28952193\n",
      "Iteration 15, loss = 0.28054987\n",
      "Iteration 16, loss = 0.27274313\n",
      "Iteration 17, loss = 0.26463550\n",
      "Iteration 18, loss = 0.25694542\n",
      "Iteration 19, loss = 0.24960637\n",
      "Iteration 20, loss = 0.24282875\n",
      "Iteration 1, loss = 1.19926703\n",
      "Iteration 2, loss = 0.67126928\n",
      "Iteration 3, loss = 0.53795171\n",
      "Iteration 4, loss = 0.47530498\n",
      "Iteration 5, loss = 0.43591643\n",
      "Iteration 6, loss = 0.40802010\n"
     ]
    },
    {
     "name": "stderr",
     "output_type": "stream",
     "text": [
      "D:\\anaconda\\envs\\tensorflow\\lib\\site-packages\\sklearn\\neural_network\\_multilayer_perceptron.py:702: ConvergenceWarning: Stochastic Optimizer: Maximum iterations (20) reached and the optimization hasn't converged yet.\n",
      "  warnings.warn(\n"
     ]
    },
    {
     "name": "stdout",
     "output_type": "stream",
     "text": [
      "Iteration 7, loss = 0.38572063\n",
      "Iteration 8, loss = 0.36710320\n",
      "Iteration 9, loss = 0.35131250\n",
      "Iteration 10, loss = 0.33745494\n",
      "Iteration 11, loss = 0.32523891\n",
      "Iteration 12, loss = 0.31354813\n",
      "Iteration 13, loss = 0.30303329\n",
      "Iteration 14, loss = 0.29386455\n",
      "Iteration 15, loss = 0.28466853\n",
      "Iteration 16, loss = 0.27689952\n",
      "Iteration 17, loss = 0.26893857\n",
      "Iteration 18, loss = 0.26089873\n",
      "Iteration 19, loss = 0.25366225\n",
      "Iteration 20, loss = 0.24679654\n",
      "Iteration 1, loss = 1.30913032\n",
      "Iteration 2, loss = 0.81486207\n",
      "Iteration 3, loss = 0.74030590\n",
      "Iteration 4, loss = 0.69734164\n"
     ]
    },
    {
     "name": "stderr",
     "output_type": "stream",
     "text": [
      "D:\\anaconda\\envs\\tensorflow\\lib\\site-packages\\sklearn\\neural_network\\_multilayer_perceptron.py:702: ConvergenceWarning: Stochastic Optimizer: Maximum iterations (20) reached and the optimization hasn't converged yet.\n",
      "  warnings.warn(\n"
     ]
    },
    {
     "name": "stdout",
     "output_type": "stream",
     "text": [
      "Iteration 5, loss = 0.67097680\n",
      "Iteration 6, loss = 0.65085320\n",
      "Iteration 7, loss = 0.63445216\n",
      "Iteration 8, loss = 0.62041438\n",
      "Iteration 9, loss = 0.60722252\n",
      "Iteration 10, loss = 0.59623658\n",
      "Iteration 11, loss = 0.58578696\n",
      "Iteration 12, loss = 0.57652411\n",
      "Iteration 13, loss = 0.56799223\n",
      "Iteration 14, loss = 0.56007902\n",
      "Iteration 15, loss = 0.55275630\n",
      "Iteration 16, loss = 0.54582273\n",
      "Iteration 17, loss = 0.53910500\n",
      "Iteration 18, loss = 0.53333090\n",
      "Iteration 19, loss = 0.52763979\n",
      "Iteration 20, loss = 0.52179324\n",
      "Iteration 1, loss = 1.31679048\n"
     ]
    },
    {
     "name": "stderr",
     "output_type": "stream",
     "text": [
      "D:\\anaconda\\envs\\tensorflow\\lib\\site-packages\\sklearn\\neural_network\\_multilayer_perceptron.py:702: ConvergenceWarning: Stochastic Optimizer: Maximum iterations (20) reached and the optimization hasn't converged yet.\n",
      "  warnings.warn(\n"
     ]
    },
    {
     "name": "stdout",
     "output_type": "stream",
     "text": [
      "Iteration 2, loss = 0.81798813\n",
      "Iteration 3, loss = 0.74434263\n",
      "Iteration 4, loss = 0.70066525\n",
      "Iteration 5, loss = 0.67452265\n",
      "Iteration 6, loss = 0.65443566\n",
      "Iteration 7, loss = 0.63815317\n",
      "Iteration 8, loss = 0.62419614\n",
      "Iteration 9, loss = 0.61135090\n",
      "Iteration 10, loss = 0.60052114\n",
      "Iteration 11, loss = 0.59001560\n",
      "Iteration 12, loss = 0.58089655\n",
      "Iteration 13, loss = 0.57242429\n",
      "Iteration 14, loss = 0.56425379\n",
      "Iteration 15, loss = 0.55706542\n",
      "Iteration 16, loss = 0.55016494\n",
      "Iteration 17, loss = 0.54339011\n",
      "Iteration 18, loss = 0.53749802\n",
      "Iteration 19, loss = 0.53150332\n",
      "Iteration 20, loss = 0.52563307\n"
     ]
    },
    {
     "name": "stderr",
     "output_type": "stream",
     "text": [
      "D:\\anaconda\\envs\\tensorflow\\lib\\site-packages\\sklearn\\neural_network\\_multilayer_perceptron.py:702: ConvergenceWarning: Stochastic Optimizer: Maximum iterations (20) reached and the optimization hasn't converged yet.\n",
      "  warnings.warn(\n"
     ]
    },
    {
     "name": "stdout",
     "output_type": "stream",
     "text": [
      "Iteration 1, loss = 1.31686023\n",
      "Iteration 2, loss = 0.81705453\n",
      "Iteration 3, loss = 0.74429956\n",
      "Iteration 4, loss = 0.70150471\n",
      "Iteration 5, loss = 0.67590682\n",
      "Iteration 6, loss = 0.65593356\n",
      "Iteration 7, loss = 0.63981808\n",
      "Iteration 8, loss = 0.62602846\n",
      "Iteration 9, loss = 0.61335568\n",
      "Iteration 10, loss = 0.60247236\n",
      "Iteration 11, loss = 0.59225715\n",
      "Iteration 12, loss = 0.58333916\n",
      "Iteration 13, loss = 0.57510366\n",
      "Iteration 14, loss = 0.56687049\n",
      "Iteration 15, loss = 0.55966088\n",
      "Iteration 16, loss = 0.55284485\n",
      "Iteration 17, loss = 0.54634610\n",
      "Iteration 18, loss = 0.54053230\n",
      "Iteration 19, loss = 0.53453316\n",
      "Iteration 20, loss = 0.52882197\n",
      "Iteration 1, loss = 1.30232146\n",
      "Iteration 2, loss = 0.81427905\n",
      "Iteration 3, loss = 0.74257755\n",
      "Iteration 4, loss = 0.69925998\n",
      "Iteration 5, loss = 0.67308499\n",
      "Iteration 6, loss = 0.65305493\n",
      "Iteration 7, loss = 0.63659497\n",
      "Iteration 8, loss = 0.62231342\n"
     ]
    },
    {
     "name": "stderr",
     "output_type": "stream",
     "text": [
      "D:\\anaconda\\envs\\tensorflow\\lib\\site-packages\\sklearn\\neural_network\\_multilayer_perceptron.py:702: ConvergenceWarning: Stochastic Optimizer: Maximum iterations (20) reached and the optimization hasn't converged yet.\n",
      "  warnings.warn(\n"
     ]
    },
    {
     "name": "stdout",
     "output_type": "stream",
     "text": [
      "Iteration 9, loss = 0.60939131\n",
      "Iteration 10, loss = 0.59813308\n",
      "Iteration 11, loss = 0.58776013\n",
      "Iteration 12, loss = 0.57863454\n",
      "Iteration 13, loss = 0.57008285\n",
      "Iteration 14, loss = 0.56177317\n",
      "Iteration 15, loss = 0.55448309\n",
      "Iteration 16, loss = 0.54734395\n",
      "Iteration 17, loss = 0.54082855\n",
      "Iteration 18, loss = 0.53478190\n",
      "Iteration 19, loss = 0.52859059\n",
      "Iteration 20, loss = 0.52285556\n",
      "Iteration 1, loss = 1.31937816\n",
      "Iteration 2, loss = 0.81589726\n",
      "Iteration 3, loss = 0.74425763\n",
      "Iteration 4, loss = 0.69991488\n",
      "Iteration 5, loss = 0.67362017\n",
      "Iteration 6, loss = 0.65323286\n",
      "Iteration 7, loss = 0.63654201\n",
      "Iteration 8, loss = 0.62217923\n"
     ]
    },
    {
     "name": "stderr",
     "output_type": "stream",
     "text": [
      "D:\\anaconda\\envs\\tensorflow\\lib\\site-packages\\sklearn\\neural_network\\_multilayer_perceptron.py:702: ConvergenceWarning: Stochastic Optimizer: Maximum iterations (20) reached and the optimization hasn't converged yet.\n",
      "  warnings.warn(\n"
     ]
    },
    {
     "name": "stdout",
     "output_type": "stream",
     "text": [
      "Iteration 9, loss = 0.60932920\n",
      "Iteration 10, loss = 0.59773882\n",
      "Iteration 11, loss = 0.58743414\n",
      "Iteration 12, loss = 0.57816225\n",
      "Iteration 13, loss = 0.56964586\n",
      "Iteration 14, loss = 0.56136903\n",
      "Iteration 15, loss = 0.55400122\n",
      "Iteration 16, loss = 0.54693974\n",
      "Iteration 17, loss = 0.54035473\n",
      "Iteration 18, loss = 0.53423988\n",
      "Iteration 19, loss = 0.52810763\n",
      "Iteration 20, loss = 0.52247911\n",
      "Iteration 1, loss = 1.31337701\n",
      "Iteration 2, loss = 0.81706743\n",
      "Iteration 3, loss = 0.74507233\n",
      "Iteration 4, loss = 0.70127088\n",
      "Iteration 5, loss = 0.67547650\n",
      "Iteration 6, loss = 0.65536911\n",
      "Iteration 7, loss = 0.63912064\n",
      "Iteration 8, loss = 0.62503942\n"
     ]
    },
    {
     "name": "stderr",
     "output_type": "stream",
     "text": [
      "D:\\anaconda\\envs\\tensorflow\\lib\\site-packages\\sklearn\\neural_network\\_multilayer_perceptron.py:702: ConvergenceWarning: Stochastic Optimizer: Maximum iterations (20) reached and the optimization hasn't converged yet.\n",
      "  warnings.warn(\n"
     ]
    },
    {
     "name": "stdout",
     "output_type": "stream",
     "text": [
      "Iteration 9, loss = 0.61275654\n",
      "Iteration 10, loss = 0.60119185\n",
      "Iteration 11, loss = 0.59117757\n",
      "Iteration 12, loss = 0.58216453\n",
      "Iteration 13, loss = 0.57331161\n",
      "Iteration 14, loss = 0.56518638\n",
      "Iteration 15, loss = 0.55787635\n",
      "Iteration 16, loss = 0.55063527\n",
      "Iteration 17, loss = 0.54424281\n",
      "Iteration 18, loss = 0.53804055\n",
      "Iteration 19, loss = 0.53190964\n",
      "Iteration 20, loss = 0.52617307\n",
      "Iteration 1, loss = 1.30908705\n",
      "Iteration 2, loss = 0.81500702\n",
      "Iteration 3, loss = 0.74252546\n",
      "Iteration 4, loss = 0.69791905\n",
      "Iteration 5, loss = 0.67184053\n",
      "Iteration 6, loss = 0.65182322\n",
      "Iteration 7, loss = 0.63545100\n",
      "Iteration 8, loss = 0.62127620\n",
      "Iteration 9, loss = 0.60926743\n"
     ]
    },
    {
     "name": "stderr",
     "output_type": "stream",
     "text": [
      "D:\\anaconda\\envs\\tensorflow\\lib\\site-packages\\sklearn\\neural_network\\_multilayer_perceptron.py:702: ConvergenceWarning: Stochastic Optimizer: Maximum iterations (20) reached and the optimization hasn't converged yet.\n",
      "  warnings.warn(\n"
     ]
    },
    {
     "name": "stdout",
     "output_type": "stream",
     "text": [
      "Iteration 10, loss = 0.59745488\n",
      "Iteration 11, loss = 0.58750691\n",
      "Iteration 12, loss = 0.57843654\n",
      "Iteration 13, loss = 0.56987604\n",
      "Iteration 14, loss = 0.56205919\n",
      "Iteration 15, loss = 0.55495587\n",
      "Iteration 16, loss = 0.54774331\n",
      "Iteration 17, loss = 0.54151209\n",
      "Iteration 18, loss = 0.53532206\n",
      "Iteration 19, loss = 0.52932986\n",
      "Iteration 20, loss = 0.52393710\n",
      "Iteration 1, loss = 1.30051993\n",
      "Iteration 2, loss = 0.81450399\n",
      "Iteration 3, loss = 0.74451445\n",
      "Iteration 4, loss = 0.70065367\n",
      "Iteration 5, loss = 0.67468976\n",
      "Iteration 6, loss = 0.65454610\n",
      "Iteration 7, loss = 0.63815859\n",
      "Iteration 8, loss = 0.62392722\n",
      "Iteration 9, loss = 0.61147295\n"
     ]
    },
    {
     "name": "stderr",
     "output_type": "stream",
     "text": [
      "D:\\anaconda\\envs\\tensorflow\\lib\\site-packages\\sklearn\\neural_network\\_multilayer_perceptron.py:702: ConvergenceWarning: Stochastic Optimizer: Maximum iterations (20) reached and the optimization hasn't converged yet.\n",
      "  warnings.warn(\n"
     ]
    },
    {
     "name": "stdout",
     "output_type": "stream",
     "text": [
      "Iteration 10, loss = 0.59987385\n",
      "Iteration 11, loss = 0.58989218\n",
      "Iteration 12, loss = 0.58050995\n",
      "Iteration 13, loss = 0.57201581\n",
      "Iteration 14, loss = 0.56401267\n",
      "Iteration 15, loss = 0.55681574\n",
      "Iteration 16, loss = 0.54963406\n",
      "Iteration 17, loss = 0.54316736\n",
      "Iteration 18, loss = 0.53678943\n",
      "Iteration 19, loss = 0.53081923\n",
      "Iteration 20, loss = 0.52545232\n",
      "Iteration 1, loss = 1.31145862\n",
      "Iteration 2, loss = 0.81674631\n",
      "Iteration 3, loss = 0.74112665\n",
      "Iteration 4, loss = 0.69765846\n",
      "Iteration 5, loss = 0.67118123\n",
      "Iteration 6, loss = 0.65112141\n",
      "Iteration 7, loss = 0.63473664\n"
     ]
    },
    {
     "name": "stderr",
     "output_type": "stream",
     "text": [
      "D:\\anaconda\\envs\\tensorflow\\lib\\site-packages\\sklearn\\neural_network\\_multilayer_perceptron.py:702: ConvergenceWarning: Stochastic Optimizer: Maximum iterations (20) reached and the optimization hasn't converged yet.\n",
      "  warnings.warn(\n"
     ]
    },
    {
     "name": "stdout",
     "output_type": "stream",
     "text": [
      "Iteration 8, loss = 0.62060000\n",
      "Iteration 9, loss = 0.60813378\n",
      "Iteration 10, loss = 0.59676016\n",
      "Iteration 11, loss = 0.58659977\n",
      "Iteration 12, loss = 0.57701339\n",
      "Iteration 13, loss = 0.56841969\n",
      "Iteration 14, loss = 0.56033951\n",
      "Iteration 15, loss = 0.55309716\n",
      "Iteration 16, loss = 0.54596846\n",
      "Iteration 17, loss = 0.53944244\n",
      "Iteration 18, loss = 0.53312885\n",
      "Iteration 19, loss = 0.52725289\n",
      "Iteration 20, loss = 0.52152786\n",
      "Iteration 1, loss = 1.31339185\n",
      "Iteration 2, loss = 0.82043169\n",
      "Iteration 3, loss = 0.74828691\n",
      "Iteration 4, loss = 0.70542854\n",
      "Iteration 5, loss = 0.67870141\n",
      "Iteration 6, loss = 0.65871409\n",
      "Iteration 7, loss = 0.64220867\n"
     ]
    },
    {
     "name": "stderr",
     "output_type": "stream",
     "text": [
      "D:\\anaconda\\envs\\tensorflow\\lib\\site-packages\\sklearn\\neural_network\\_multilayer_perceptron.py:702: ConvergenceWarning: Stochastic Optimizer: Maximum iterations (20) reached and the optimization hasn't converged yet.\n",
      "  warnings.warn(\n"
     ]
    },
    {
     "name": "stdout",
     "output_type": "stream",
     "text": [
      "Iteration 8, loss = 0.62813782\n",
      "Iteration 9, loss = 0.61560398\n",
      "Iteration 10, loss = 0.60423786\n",
      "Iteration 11, loss = 0.59412164\n",
      "Iteration 12, loss = 0.58453959\n",
      "Iteration 13, loss = 0.57572129\n",
      "Iteration 14, loss = 0.56759354\n",
      "Iteration 15, loss = 0.56014991\n",
      "Iteration 16, loss = 0.55296632\n",
      "Iteration 17, loss = 0.54633594\n",
      "Iteration 18, loss = 0.54013093\n",
      "Iteration 19, loss = 0.53422265\n",
      "Iteration 20, loss = 0.52840245\n"
     ]
    },
    {
     "name": "stderr",
     "output_type": "stream",
     "text": [
      "D:\\anaconda\\envs\\tensorflow\\lib\\site-packages\\sklearn\\neural_network\\_multilayer_perceptron.py:702: ConvergenceWarning: Stochastic Optimizer: Maximum iterations (20) reached and the optimization hasn't converged yet.\n",
      "  warnings.warn(\n",
      "D:\\anaconda\\envs\\tensorflow\\lib\\site-packages\\sklearn\\neural_network\\_multilayer_perceptron.py:559: ConvergenceWarning: lbfgs failed to converge (status=1):\n",
      "STOP: TOTAL NO. of ITERATIONS REACHED LIMIT.\n",
      "\n",
      "Increase the number of iterations (max_iter) or scale the data as shown in:\n",
      "    https://scikit-learn.org/stable/modules/preprocessing.html\n",
      "  self.n_iter_ = _check_optimize_result(\"lbfgs\", opt_res, self.max_iter)\n",
      "D:\\anaconda\\envs\\tensorflow\\lib\\site-packages\\sklearn\\neural_network\\_multilayer_perceptron.py:559: ConvergenceWarning: lbfgs failed to converge (status=1):\n",
      "STOP: TOTAL NO. of ITERATIONS REACHED LIMIT.\n",
      "\n",
      "Increase the number of iterations (max_iter) or scale the data as shown in:\n",
      "    https://scikit-learn.org/stable/modules/preprocessing.html\n",
      "  self.n_iter_ = _check_optimize_result(\"lbfgs\", opt_res, self.max_iter)\n",
      "D:\\anaconda\\envs\\tensorflow\\lib\\site-packages\\sklearn\\neural_network\\_multilayer_perceptron.py:559: ConvergenceWarning: lbfgs failed to converge (status=1):\n",
      "STOP: TOTAL NO. of ITERATIONS REACHED LIMIT.\n",
      "\n",
      "Increase the number of iterations (max_iter) or scale the data as shown in:\n",
      "    https://scikit-learn.org/stable/modules/preprocessing.html\n",
      "  self.n_iter_ = _check_optimize_result(\"lbfgs\", opt_res, self.max_iter)\n",
      "D:\\anaconda\\envs\\tensorflow\\lib\\site-packages\\sklearn\\neural_network\\_multilayer_perceptron.py:559: ConvergenceWarning: lbfgs failed to converge (status=1):\n",
      "STOP: TOTAL NO. of ITERATIONS REACHED LIMIT.\n",
      "\n",
      "Increase the number of iterations (max_iter) or scale the data as shown in:\n",
      "    https://scikit-learn.org/stable/modules/preprocessing.html\n",
      "  self.n_iter_ = _check_optimize_result(\"lbfgs\", opt_res, self.max_iter)\n",
      "D:\\anaconda\\envs\\tensorflow\\lib\\site-packages\\sklearn\\neural_network\\_multilayer_perceptron.py:559: ConvergenceWarning: lbfgs failed to converge (status=1):\n",
      "STOP: TOTAL NO. of ITERATIONS REACHED LIMIT.\n",
      "\n",
      "Increase the number of iterations (max_iter) or scale the data as shown in:\n",
      "    https://scikit-learn.org/stable/modules/preprocessing.html\n",
      "  self.n_iter_ = _check_optimize_result(\"lbfgs\", opt_res, self.max_iter)\n",
      "D:\\anaconda\\envs\\tensorflow\\lib\\site-packages\\sklearn\\neural_network\\_multilayer_perceptron.py:559: ConvergenceWarning: lbfgs failed to converge (status=1):\n",
      "STOP: TOTAL NO. of ITERATIONS REACHED LIMIT.\n",
      "\n",
      "Increase the number of iterations (max_iter) or scale the data as shown in:\n",
      "    https://scikit-learn.org/stable/modules/preprocessing.html\n",
      "  self.n_iter_ = _check_optimize_result(\"lbfgs\", opt_res, self.max_iter)\n",
      "D:\\anaconda\\envs\\tensorflow\\lib\\site-packages\\sklearn\\neural_network\\_multilayer_perceptron.py:559: ConvergenceWarning: lbfgs failed to converge (status=1):\n",
      "STOP: TOTAL NO. of ITERATIONS REACHED LIMIT.\n",
      "\n",
      "Increase the number of iterations (max_iter) or scale the data as shown in:\n",
      "    https://scikit-learn.org/stable/modules/preprocessing.html\n",
      "  self.n_iter_ = _check_optimize_result(\"lbfgs\", opt_res, self.max_iter)\n",
      "D:\\anaconda\\envs\\tensorflow\\lib\\site-packages\\sklearn\\neural_network\\_multilayer_perceptron.py:559: ConvergenceWarning: lbfgs failed to converge (status=1):\n",
      "STOP: TOTAL NO. of ITERATIONS REACHED LIMIT.\n",
      "\n",
      "Increase the number of iterations (max_iter) or scale the data as shown in:\n",
      "    https://scikit-learn.org/stable/modules/preprocessing.html\n",
      "  self.n_iter_ = _check_optimize_result(\"lbfgs\", opt_res, self.max_iter)\n",
      "D:\\anaconda\\envs\\tensorflow\\lib\\site-packages\\sklearn\\neural_network\\_multilayer_perceptron.py:559: ConvergenceWarning: lbfgs failed to converge (status=1):\n",
      "STOP: TOTAL NO. of ITERATIONS REACHED LIMIT.\n",
      "\n",
      "Increase the number of iterations (max_iter) or scale the data as shown in:\n",
      "    https://scikit-learn.org/stable/modules/preprocessing.html\n",
      "  self.n_iter_ = _check_optimize_result(\"lbfgs\", opt_res, self.max_iter)\n",
      "D:\\anaconda\\envs\\tensorflow\\lib\\site-packages\\sklearn\\neural_network\\_multilayer_perceptron.py:559: ConvergenceWarning: lbfgs failed to converge (status=1):\n",
      "STOP: TOTAL NO. of ITERATIONS REACHED LIMIT.\n",
      "\n",
      "Increase the number of iterations (max_iter) or scale the data as shown in:\n",
      "    https://scikit-learn.org/stable/modules/preprocessing.html\n",
      "  self.n_iter_ = _check_optimize_result(\"lbfgs\", opt_res, self.max_iter)\n"
     ]
    },
    {
     "name": "stdout",
     "output_type": "stream",
     "text": [
      "Iteration 1, loss = 0.67241917\n",
      "Iteration 2, loss = 0.52301955\n",
      "Iteration 3, loss = 0.44141724\n",
      "Iteration 4, loss = 0.38012973\n",
      "Iteration 5, loss = 0.33760275\n",
      "Iteration 6, loss = 0.30787239\n",
      "Iteration 7, loss = 0.28264175\n",
      "Iteration 8, loss = 0.26276213\n",
      "Iteration 9, loss = 0.24301850\n",
      "Iteration 10, loss = 0.22795680\n",
      "Iteration 11, loss = 0.21289922\n",
      "Iteration 12, loss = 0.20204445\n",
      "Iteration 13, loss = 0.18751152\n",
      "Iteration 14, loss = 0.17280068\n",
      "Iteration 15, loss = 0.16271917\n",
      "Iteration 16, loss = 0.15242331\n",
      "Iteration 17, loss = 0.14043403\n",
      "Iteration 18, loss = 0.13212388\n",
      "Iteration 19, loss = 0.12588714\n",
      "Iteration 20, loss = 0.11541952\n",
      "Iteration 1, loss = 0.67901461\n"
     ]
    },
    {
     "name": "stderr",
     "output_type": "stream",
     "text": [
      "D:\\anaconda\\envs\\tensorflow\\lib\\site-packages\\sklearn\\neural_network\\_multilayer_perceptron.py:702: ConvergenceWarning: Stochastic Optimizer: Maximum iterations (20) reached and the optimization hasn't converged yet.\n",
      "  warnings.warn(\n"
     ]
    },
    {
     "name": "stdout",
     "output_type": "stream",
     "text": [
      "Iteration 2, loss = 0.52774473\n",
      "Iteration 3, loss = 0.44481061\n",
      "Iteration 4, loss = 0.38327236\n",
      "Iteration 5, loss = 0.34045952\n",
      "Iteration 6, loss = 0.31246917\n",
      "Iteration 7, loss = 0.28666314\n",
      "Iteration 8, loss = 0.26651124\n",
      "Iteration 9, loss = 0.24673306\n",
      "Iteration 10, loss = 0.23246321\n",
      "Iteration 11, loss = 0.21826790\n",
      "Iteration 12, loss = 0.20396307\n",
      "Iteration 13, loss = 0.19060400\n",
      "Iteration 14, loss = 0.17728797\n",
      "Iteration 15, loss = 0.16682724\n",
      "Iteration 16, loss = 0.15675030\n",
      "Iteration 17, loss = 0.14417072\n",
      "Iteration 18, loss = 0.13379415\n",
      "Iteration 19, loss = 0.12621143\n",
      "Iteration 20, loss = 0.11684838\n",
      "Iteration 1, loss = 0.67602909\n",
      "Iteration 2, loss = 0.52869213\n",
      "Iteration 3, loss = 0.44635446\n",
      "Iteration 4, loss = 0.38647575\n"
     ]
    },
    {
     "name": "stderr",
     "output_type": "stream",
     "text": [
      "D:\\anaconda\\envs\\tensorflow\\lib\\site-packages\\sklearn\\neural_network\\_multilayer_perceptron.py:702: ConvergenceWarning: Stochastic Optimizer: Maximum iterations (20) reached and the optimization hasn't converged yet.\n",
      "  warnings.warn(\n"
     ]
    },
    {
     "name": "stdout",
     "output_type": "stream",
     "text": [
      "Iteration 5, loss = 0.34455961\n",
      "Iteration 6, loss = 0.31484198\n",
      "Iteration 7, loss = 0.28772133\n",
      "Iteration 8, loss = 0.26590282\n",
      "Iteration 9, loss = 0.24691469\n",
      "Iteration 10, loss = 0.23239392\n",
      "Iteration 11, loss = 0.21688486\n",
      "Iteration 12, loss = 0.20254313\n",
      "Iteration 13, loss = 0.18837221\n",
      "Iteration 14, loss = 0.17586672\n",
      "Iteration 15, loss = 0.16409175\n",
      "Iteration 16, loss = 0.15333569\n",
      "Iteration 17, loss = 0.14220724\n",
      "Iteration 18, loss = 0.13164867\n",
      "Iteration 19, loss = 0.12288833\n",
      "Iteration 20, loss = 0.11347297\n",
      "Iteration 1, loss = 0.67811934\n",
      "Iteration 2, loss = 0.52814378\n",
      "Iteration 3, loss = 0.44561534\n",
      "Iteration 4, loss = 0.38480809\n",
      "Iteration 5, loss = 0.34319835\n"
     ]
    },
    {
     "name": "stderr",
     "output_type": "stream",
     "text": [
      "D:\\anaconda\\envs\\tensorflow\\lib\\site-packages\\sklearn\\neural_network\\_multilayer_perceptron.py:702: ConvergenceWarning: Stochastic Optimizer: Maximum iterations (20) reached and the optimization hasn't converged yet.\n",
      "  warnings.warn(\n"
     ]
    },
    {
     "name": "stdout",
     "output_type": "stream",
     "text": [
      "Iteration 6, loss = 0.31310181\n",
      "Iteration 7, loss = 0.28461714\n",
      "Iteration 8, loss = 0.26431431\n",
      "Iteration 9, loss = 0.24674929\n",
      "Iteration 10, loss = 0.23291516\n",
      "Iteration 11, loss = 0.21769680\n",
      "Iteration 12, loss = 0.20176329\n",
      "Iteration 13, loss = 0.18869312\n",
      "Iteration 14, loss = 0.17635569\n",
      "Iteration 15, loss = 0.16545660\n",
      "Iteration 16, loss = 0.15584734\n",
      "Iteration 17, loss = 0.14488558\n",
      "Iteration 18, loss = 0.13364631\n",
      "Iteration 19, loss = 0.12484882\n",
      "Iteration 20, loss = 0.11655338\n",
      "Iteration 1, loss = 0.67417263\n",
      "Iteration 2, loss = 0.52324172\n",
      "Iteration 3, loss = 0.44151322\n",
      "Iteration 4, loss = 0.38229898\n",
      "Iteration 5, loss = 0.34148775\n"
     ]
    },
    {
     "name": "stderr",
     "output_type": "stream",
     "text": [
      "D:\\anaconda\\envs\\tensorflow\\lib\\site-packages\\sklearn\\neural_network\\_multilayer_perceptron.py:702: ConvergenceWarning: Stochastic Optimizer: Maximum iterations (20) reached and the optimization hasn't converged yet.\n",
      "  warnings.warn(\n"
     ]
    },
    {
     "name": "stdout",
     "output_type": "stream",
     "text": [
      "Iteration 6, loss = 0.31261161\n",
      "Iteration 7, loss = 0.28421191\n",
      "Iteration 8, loss = 0.26437781\n",
      "Iteration 9, loss = 0.24660395\n",
      "Iteration 10, loss = 0.23156427\n",
      "Iteration 11, loss = 0.21595758\n",
      "Iteration 12, loss = 0.19969184\n",
      "Iteration 13, loss = 0.18698205\n",
      "Iteration 14, loss = 0.17391351\n",
      "Iteration 15, loss = 0.16349014\n",
      "Iteration 16, loss = 0.15234240\n",
      "Iteration 17, loss = 0.14091835\n",
      "Iteration 18, loss = 0.12982848\n",
      "Iteration 19, loss = 0.12063149\n",
      "Iteration 20, loss = 0.11238537\n",
      "Iteration 1, loss = 0.67703313\n"
     ]
    },
    {
     "name": "stderr",
     "output_type": "stream",
     "text": [
      "D:\\anaconda\\envs\\tensorflow\\lib\\site-packages\\sklearn\\neural_network\\_multilayer_perceptron.py:702: ConvergenceWarning: Stochastic Optimizer: Maximum iterations (20) reached and the optimization hasn't converged yet.\n",
      "  warnings.warn(\n"
     ]
    },
    {
     "name": "stdout",
     "output_type": "stream",
     "text": [
      "Iteration 2, loss = 0.52567531\n",
      "Iteration 3, loss = 0.44390151\n",
      "Iteration 4, loss = 0.38338733\n",
      "Iteration 5, loss = 0.34178773\n",
      "Iteration 6, loss = 0.31449109\n",
      "Iteration 7, loss = 0.28540578\n",
      "Iteration 8, loss = 0.26541703\n",
      "Iteration 9, loss = 0.24685765\n",
      "Iteration 10, loss = 0.23220573\n",
      "Iteration 11, loss = 0.21724760\n",
      "Iteration 12, loss = 0.20107876\n",
      "Iteration 13, loss = 0.18853553\n",
      "Iteration 14, loss = 0.17743822\n",
      "Iteration 15, loss = 0.16514190\n",
      "Iteration 16, loss = 0.15376903\n",
      "Iteration 17, loss = 0.14327551\n",
      "Iteration 18, loss = 0.13390872\n",
      "Iteration 19, loss = 0.12442036\n",
      "Iteration 20, loss = 0.11605698\n",
      "Iteration 1, loss = 0.67547810\n",
      "Iteration 2, loss = 0.52203922\n",
      "Iteration 3, loss = 0.43898893\n",
      "Iteration 4, loss = 0.37787485\n"
     ]
    },
    {
     "name": "stderr",
     "output_type": "stream",
     "text": [
      "D:\\anaconda\\envs\\tensorflow\\lib\\site-packages\\sklearn\\neural_network\\_multilayer_perceptron.py:702: ConvergenceWarning: Stochastic Optimizer: Maximum iterations (20) reached and the optimization hasn't converged yet.\n",
      "  warnings.warn(\n"
     ]
    },
    {
     "name": "stdout",
     "output_type": "stream",
     "text": [
      "Iteration 5, loss = 0.33421919\n",
      "Iteration 6, loss = 0.30440635\n",
      "Iteration 7, loss = 0.27682695\n",
      "Iteration 8, loss = 0.25700646\n",
      "Iteration 9, loss = 0.23799675\n",
      "Iteration 10, loss = 0.22512143\n",
      "Iteration 11, loss = 0.20989319\n",
      "Iteration 12, loss = 0.19553439\n",
      "Iteration 13, loss = 0.18336793\n",
      "Iteration 14, loss = 0.17197004\n",
      "Iteration 15, loss = 0.15930532\n",
      "Iteration 16, loss = 0.14907774\n",
      "Iteration 17, loss = 0.13913217\n",
      "Iteration 18, loss = 0.12957463\n",
      "Iteration 19, loss = 0.11933134\n",
      "Iteration 20, loss = 0.11267476\n",
      "Iteration 1, loss = 0.67348626\n",
      "Iteration 2, loss = 0.52378511\n",
      "Iteration 3, loss = 0.44155665\n",
      "Iteration 4, loss = 0.38308048\n",
      "Iteration 5, loss = 0.34148475\n"
     ]
    },
    {
     "name": "stderr",
     "output_type": "stream",
     "text": [
      "D:\\anaconda\\envs\\tensorflow\\lib\\site-packages\\sklearn\\neural_network\\_multilayer_perceptron.py:702: ConvergenceWarning: Stochastic Optimizer: Maximum iterations (20) reached and the optimization hasn't converged yet.\n",
      "  warnings.warn(\n"
     ]
    },
    {
     "name": "stdout",
     "output_type": "stream",
     "text": [
      "Iteration 6, loss = 0.31229745\n",
      "Iteration 7, loss = 0.28583242\n",
      "Iteration 8, loss = 0.26605586\n",
      "Iteration 9, loss = 0.24666944\n",
      "Iteration 10, loss = 0.23212151\n",
      "Iteration 11, loss = 0.21782612\n",
      "Iteration 12, loss = 0.20244019\n",
      "Iteration 13, loss = 0.19077786\n",
      "Iteration 14, loss = 0.18055350\n",
      "Iteration 15, loss = 0.16745979\n",
      "Iteration 16, loss = 0.15691545\n",
      "Iteration 17, loss = 0.14592030\n",
      "Iteration 18, loss = 0.13535328\n",
      "Iteration 19, loss = 0.12502776\n",
      "Iteration 20, loss = 0.11647189\n",
      "Iteration 1, loss = 0.66985065\n"
     ]
    },
    {
     "name": "stderr",
     "output_type": "stream",
     "text": [
      "D:\\anaconda\\envs\\tensorflow\\lib\\site-packages\\sklearn\\neural_network\\_multilayer_perceptron.py:702: ConvergenceWarning: Stochastic Optimizer: Maximum iterations (20) reached and the optimization hasn't converged yet.\n",
      "  warnings.warn(\n"
     ]
    },
    {
     "name": "stdout",
     "output_type": "stream",
     "text": [
      "Iteration 2, loss = 0.52076023\n",
      "Iteration 3, loss = 0.43881035\n",
      "Iteration 4, loss = 0.38131791\n",
      "Iteration 5, loss = 0.33781099\n",
      "Iteration 6, loss = 0.30746346\n",
      "Iteration 7, loss = 0.28466801\n",
      "Iteration 8, loss = 0.26485378\n",
      "Iteration 9, loss = 0.24667843\n",
      "Iteration 10, loss = 0.23218839\n",
      "Iteration 11, loss = 0.21666305\n",
      "Iteration 12, loss = 0.20182442\n",
      "Iteration 13, loss = 0.19036520\n",
      "Iteration 14, loss = 0.17774481\n",
      "Iteration 15, loss = 0.16540760\n",
      "Iteration 16, loss = 0.15425759\n",
      "Iteration 17, loss = 0.14299129\n",
      "Iteration 18, loss = 0.13426230\n",
      "Iteration 19, loss = 0.12402940\n",
      "Iteration 20, loss = 0.11573012\n",
      "Iteration 1, loss = 0.67298237\n"
     ]
    },
    {
     "name": "stderr",
     "output_type": "stream",
     "text": [
      "D:\\anaconda\\envs\\tensorflow\\lib\\site-packages\\sklearn\\neural_network\\_multilayer_perceptron.py:702: ConvergenceWarning: Stochastic Optimizer: Maximum iterations (20) reached and the optimization hasn't converged yet.\n",
      "  warnings.warn(\n"
     ]
    },
    {
     "name": "stdout",
     "output_type": "stream",
     "text": [
      "Iteration 2, loss = 0.52754955\n",
      "Iteration 3, loss = 0.44695369\n",
      "Iteration 4, loss = 0.38885278\n",
      "Iteration 5, loss = 0.34504676\n",
      "Iteration 6, loss = 0.31425093\n",
      "Iteration 7, loss = 0.28988999\n",
      "Iteration 8, loss = 0.26886798\n",
      "Iteration 9, loss = 0.25128188\n",
      "Iteration 10, loss = 0.23743348\n",
      "Iteration 11, loss = 0.22065111\n",
      "Iteration 12, loss = 0.20483638\n",
      "Iteration 13, loss = 0.19256661\n",
      "Iteration 14, loss = 0.17899404\n",
      "Iteration 15, loss = 0.16684250\n",
      "Iteration 16, loss = 0.15540038\n",
      "Iteration 17, loss = 0.14427891\n",
      "Iteration 18, loss = 0.13576925\n",
      "Iteration 19, loss = 0.12440505\n",
      "Iteration 20, loss = 0.11606020\n"
     ]
    },
    {
     "name": "stderr",
     "output_type": "stream",
     "text": [
      "D:\\anaconda\\envs\\tensorflow\\lib\\site-packages\\sklearn\\neural_network\\_multilayer_perceptron.py:702: ConvergenceWarning: Stochastic Optimizer: Maximum iterations (20) reached and the optimization hasn't converged yet.\n",
      "  warnings.warn(\n"
     ]
    },
    {
     "name": "stdout",
     "output_type": "stream",
     "text": [
      "Iteration 1, loss = 0.76413533\n",
      "Iteration 2, loss = 0.71942326\n",
      "Iteration 3, loss = 0.68472067\n",
      "Iteration 4, loss = 0.65777186\n",
      "Iteration 5, loss = 0.63857898\n",
      "Iteration 6, loss = 0.62293712\n",
      "Iteration 7, loss = 0.60967737\n",
      "Iteration 8, loss = 0.59827714\n",
      "Iteration 9, loss = 0.58690630\n",
      "Iteration 10, loss = 0.57756465\n",
      "Iteration 11, loss = 0.56797811\n",
      "Iteration 12, loss = 0.55947972\n",
      "Iteration 13, loss = 0.55120531\n",
      "Iteration 14, loss = 0.54325336\n",
      "Iteration 15, loss = 0.53535445\n",
      "Iteration 16, loss = 0.52787008\n",
      "Iteration 17, loss = 0.52062012\n",
      "Iteration 18, loss = 0.51409591\n",
      "Iteration 19, loss = 0.50727226\n",
      "Iteration 20, loss = 0.50062437\n"
     ]
    },
    {
     "name": "stderr",
     "output_type": "stream",
     "text": [
      "D:\\anaconda\\envs\\tensorflow\\lib\\site-packages\\sklearn\\neural_network\\_multilayer_perceptron.py:702: ConvergenceWarning: Stochastic Optimizer: Maximum iterations (20) reached and the optimization hasn't converged yet.\n",
      "  warnings.warn(\n"
     ]
    },
    {
     "name": "stdout",
     "output_type": "stream",
     "text": [
      "Iteration 1, loss = 0.76637668\n",
      "Iteration 2, loss = 0.72196392\n",
      "Iteration 3, loss = 0.68780971\n",
      "Iteration 4, loss = 0.66131924\n",
      "Iteration 5, loss = 0.64210979\n",
      "Iteration 6, loss = 0.62671467\n",
      "Iteration 7, loss = 0.61329696\n",
      "Iteration 8, loss = 0.60205278\n",
      "Iteration 9, loss = 0.59104616\n",
      "Iteration 10, loss = 0.58172287\n",
      "Iteration 11, loss = 0.57226664\n",
      "Iteration 12, loss = 0.56386628\n",
      "Iteration 13, loss = 0.55577144\n",
      "Iteration 14, loss = 0.54814497\n",
      "Iteration 15, loss = 0.54040581\n",
      "Iteration 16, loss = 0.53300228\n",
      "Iteration 17, loss = 0.52578579\n",
      "Iteration 18, loss = 0.51915755\n",
      "Iteration 19, loss = 0.51231709\n",
      "Iteration 20, loss = 0.50566896\n",
      "Iteration 1, loss = 0.76291430\n",
      "Iteration 2, loss = 0.71951689\n",
      "Iteration 3, loss = 0.68614088\n"
     ]
    },
    {
     "name": "stderr",
     "output_type": "stream",
     "text": [
      "D:\\anaconda\\envs\\tensorflow\\lib\\site-packages\\sklearn\\neural_network\\_multilayer_perceptron.py:702: ConvergenceWarning: Stochastic Optimizer: Maximum iterations (20) reached and the optimization hasn't converged yet.\n",
      "  warnings.warn(\n"
     ]
    },
    {
     "name": "stdout",
     "output_type": "stream",
     "text": [
      "Iteration 4, loss = 0.66025821\n",
      "Iteration 5, loss = 0.64159639\n",
      "Iteration 6, loss = 0.62635166\n",
      "Iteration 7, loss = 0.61317620\n",
      "Iteration 8, loss = 0.60207693\n",
      "Iteration 9, loss = 0.59164214\n",
      "Iteration 10, loss = 0.58220020\n",
      "Iteration 11, loss = 0.57292719\n",
      "Iteration 12, loss = 0.56458491\n",
      "Iteration 13, loss = 0.55673094\n",
      "Iteration 14, loss = 0.54897921\n",
      "Iteration 15, loss = 0.54122742\n",
      "Iteration 16, loss = 0.53391932\n",
      "Iteration 17, loss = 0.52687871\n",
      "Iteration 18, loss = 0.52003570\n",
      "Iteration 19, loss = 0.51321046\n",
      "Iteration 20, loss = 0.50670057\n",
      "Iteration 1, loss = 0.76556521\n",
      "Iteration 2, loss = 0.72134060\n",
      "Iteration 3, loss = 0.68707897\n",
      "Iteration 4, loss = 0.66052575\n",
      "Iteration 5, loss = 0.64143579\n",
      "Iteration 6, loss = 0.62578360\n",
      "Iteration 7, loss = 0.61231219\n",
      "Iteration 8, loss = 0.60097480\n"
     ]
    },
    {
     "name": "stderr",
     "output_type": "stream",
     "text": [
      "D:\\anaconda\\envs\\tensorflow\\lib\\site-packages\\sklearn\\neural_network\\_multilayer_perceptron.py:702: ConvergenceWarning: Stochastic Optimizer: Maximum iterations (20) reached and the optimization hasn't converged yet.\n",
      "  warnings.warn(\n"
     ]
    },
    {
     "name": "stdout",
     "output_type": "stream",
     "text": [
      "Iteration 9, loss = 0.59032932\n",
      "Iteration 10, loss = 0.58062289\n",
      "Iteration 11, loss = 0.57116223\n",
      "Iteration 12, loss = 0.56252836\n",
      "Iteration 13, loss = 0.55448381\n",
      "Iteration 14, loss = 0.54652984\n",
      "Iteration 15, loss = 0.53852794\n",
      "Iteration 16, loss = 0.53115705\n",
      "Iteration 17, loss = 0.52405011\n",
      "Iteration 18, loss = 0.51719281\n",
      "Iteration 19, loss = 0.51027684\n",
      "Iteration 20, loss = 0.50343773\n",
      "Iteration 1, loss = 0.76279937\n",
      "Iteration 2, loss = 0.71691929\n",
      "Iteration 3, loss = 0.68278515\n",
      "Iteration 4, loss = 0.65614289\n",
      "Iteration 5, loss = 0.63721209\n"
     ]
    },
    {
     "name": "stderr",
     "output_type": "stream",
     "text": [
      "D:\\anaconda\\envs\\tensorflow\\lib\\site-packages\\sklearn\\neural_network\\_multilayer_perceptron.py:702: ConvergenceWarning: Stochastic Optimizer: Maximum iterations (20) reached and the optimization hasn't converged yet.\n",
      "  warnings.warn(\n"
     ]
    },
    {
     "name": "stdout",
     "output_type": "stream",
     "text": [
      "Iteration 6, loss = 0.62156655\n",
      "Iteration 7, loss = 0.60815678\n",
      "Iteration 8, loss = 0.59664466\n",
      "Iteration 9, loss = 0.58620363\n",
      "Iteration 10, loss = 0.57639810\n",
      "Iteration 11, loss = 0.56679942\n",
      "Iteration 12, loss = 0.55817745\n",
      "Iteration 13, loss = 0.55044114\n",
      "Iteration 14, loss = 0.54228950\n",
      "Iteration 15, loss = 0.53459889\n",
      "Iteration 16, loss = 0.52712904\n",
      "Iteration 17, loss = 0.52006829\n",
      "Iteration 18, loss = 0.51311439\n",
      "Iteration 19, loss = 0.50628310\n",
      "Iteration 20, loss = 0.49941114\n",
      "Iteration 1, loss = 0.76519016\n",
      "Iteration 2, loss = 0.71991617\n",
      "Iteration 3, loss = 0.68596891\n",
      "Iteration 4, loss = 0.65925479\n",
      "Iteration 5, loss = 0.64007156\n",
      "Iteration 6, loss = 0.62444716\n"
     ]
    },
    {
     "name": "stderr",
     "output_type": "stream",
     "text": [
      "D:\\anaconda\\envs\\tensorflow\\lib\\site-packages\\sklearn\\neural_network\\_multilayer_perceptron.py:702: ConvergenceWarning: Stochastic Optimizer: Maximum iterations (20) reached and the optimization hasn't converged yet.\n",
      "  warnings.warn(\n"
     ]
    },
    {
     "name": "stdout",
     "output_type": "stream",
     "text": [
      "Iteration 7, loss = 0.61120098\n",
      "Iteration 8, loss = 0.59964590\n",
      "Iteration 9, loss = 0.58933573\n",
      "Iteration 10, loss = 0.57977914\n",
      "Iteration 11, loss = 0.57035200\n",
      "Iteration 12, loss = 0.56178615\n",
      "Iteration 13, loss = 0.55414098\n",
      "Iteration 14, loss = 0.54584124\n",
      "Iteration 15, loss = 0.53826341\n",
      "Iteration 16, loss = 0.53090047\n",
      "Iteration 17, loss = 0.52372151\n",
      "Iteration 18, loss = 0.51698816\n",
      "Iteration 19, loss = 0.51001910\n",
      "Iteration 20, loss = 0.50321976\n",
      "Iteration 1, loss = 0.76733400\n",
      "Iteration 2, loss = 0.72002152\n",
      "Iteration 3, loss = 0.68439493\n"
     ]
    },
    {
     "name": "stderr",
     "output_type": "stream",
     "text": [
      "D:\\anaconda\\envs\\tensorflow\\lib\\site-packages\\sklearn\\neural_network\\_multilayer_perceptron.py:702: ConvergenceWarning: Stochastic Optimizer: Maximum iterations (20) reached and the optimization hasn't converged yet.\n",
      "  warnings.warn(\n"
     ]
    },
    {
     "name": "stdout",
     "output_type": "stream",
     "text": [
      "Iteration 4, loss = 0.65711633\n",
      "Iteration 5, loss = 0.63771271\n",
      "Iteration 6, loss = 0.62204013\n",
      "Iteration 7, loss = 0.60859501\n",
      "Iteration 8, loss = 0.59697076\n",
      "Iteration 9, loss = 0.58637503\n",
      "Iteration 10, loss = 0.57686041\n",
      "Iteration 11, loss = 0.56742854\n",
      "Iteration 12, loss = 0.55897219\n",
      "Iteration 13, loss = 0.55108342\n",
      "Iteration 14, loss = 0.54284444\n",
      "Iteration 15, loss = 0.53505338\n",
      "Iteration 16, loss = 0.52799867\n",
      "Iteration 17, loss = 0.52057602\n",
      "Iteration 18, loss = 0.51394242\n",
      "Iteration 19, loss = 0.50712856\n",
      "Iteration 20, loss = 0.50015108\n",
      "Iteration 1, loss = 0.76174034\n",
      "Iteration 2, loss = 0.71797712\n",
      "Iteration 3, loss = 0.68435935\n",
      "Iteration 4, loss = 0.65907985\n",
      "Iteration 5, loss = 0.64012580\n"
     ]
    },
    {
     "name": "stderr",
     "output_type": "stream",
     "text": [
      "D:\\anaconda\\envs\\tensorflow\\lib\\site-packages\\sklearn\\neural_network\\_multilayer_perceptron.py:702: ConvergenceWarning: Stochastic Optimizer: Maximum iterations (20) reached and the optimization hasn't converged yet.\n",
      "  warnings.warn(\n"
     ]
    },
    {
     "name": "stdout",
     "output_type": "stream",
     "text": [
      "Iteration 6, loss = 0.62467078\n",
      "Iteration 7, loss = 0.61136645\n",
      "Iteration 8, loss = 0.59973302\n",
      "Iteration 9, loss = 0.58908469\n",
      "Iteration 10, loss = 0.57949342\n",
      "Iteration 11, loss = 0.56996940\n",
      "Iteration 12, loss = 0.56133115\n",
      "Iteration 13, loss = 0.55327660\n",
      "Iteration 14, loss = 0.54524865\n",
      "Iteration 15, loss = 0.53708893\n",
      "Iteration 16, loss = 0.53015321\n",
      "Iteration 17, loss = 0.52237767\n",
      "Iteration 18, loss = 0.51542150\n",
      "Iteration 19, loss = 0.50852875\n",
      "Iteration 20, loss = 0.50172042\n",
      "Iteration 1, loss = 0.76101208\n",
      "Iteration 2, loss = 0.71569165\n",
      "Iteration 3, loss = 0.68107996\n"
     ]
    },
    {
     "name": "stderr",
     "output_type": "stream",
     "text": [
      "D:\\anaconda\\envs\\tensorflow\\lib\\site-packages\\sklearn\\neural_network\\_multilayer_perceptron.py:702: ConvergenceWarning: Stochastic Optimizer: Maximum iterations (20) reached and the optimization hasn't converged yet.\n",
      "  warnings.warn(\n"
     ]
    },
    {
     "name": "stdout",
     "output_type": "stream",
     "text": [
      "Iteration 4, loss = 0.65516249\n",
      "Iteration 5, loss = 0.63621986\n",
      "Iteration 6, loss = 0.62042892\n",
      "Iteration 7, loss = 0.60739179\n",
      "Iteration 8, loss = 0.59569570\n",
      "Iteration 9, loss = 0.58530358\n",
      "Iteration 10, loss = 0.57547001\n",
      "Iteration 11, loss = 0.56599212\n",
      "Iteration 12, loss = 0.55760484\n",
      "Iteration 13, loss = 0.54924824\n",
      "Iteration 14, loss = 0.54177546\n",
      "Iteration 15, loss = 0.53373108\n",
      "Iteration 16, loss = 0.52594965\n",
      "Iteration 17, loss = 0.51901948\n",
      "Iteration 18, loss = 0.51180045\n",
      "Iteration 19, loss = 0.50524728\n",
      "Iteration 20, loss = 0.49859863\n",
      "Iteration 1, loss = 0.76025166\n",
      "Iteration 2, loss = 0.71793426\n"
     ]
    },
    {
     "name": "stderr",
     "output_type": "stream",
     "text": [
      "D:\\anaconda\\envs\\tensorflow\\lib\\site-packages\\sklearn\\neural_network\\_multilayer_perceptron.py:702: ConvergenceWarning: Stochastic Optimizer: Maximum iterations (20) reached and the optimization hasn't converged yet.\n",
      "  warnings.warn(\n"
     ]
    },
    {
     "name": "stdout",
     "output_type": "stream",
     "text": [
      "Iteration 3, loss = 0.68474788\n",
      "Iteration 4, loss = 0.65965620\n",
      "Iteration 5, loss = 0.64106217\n",
      "Iteration 6, loss = 0.62564680\n",
      "Iteration 7, loss = 0.61260447\n",
      "Iteration 8, loss = 0.60119860\n",
      "Iteration 9, loss = 0.59086160\n",
      "Iteration 10, loss = 0.58125813\n",
      "Iteration 11, loss = 0.57212085\n",
      "Iteration 12, loss = 0.56398858\n",
      "Iteration 13, loss = 0.55600976\n",
      "Iteration 14, loss = 0.54853067\n",
      "Iteration 15, loss = 0.54106189\n",
      "Iteration 16, loss = 0.53341562\n",
      "Iteration 17, loss = 0.52667543\n",
      "Iteration 18, loss = 0.51948318\n",
      "Iteration 19, loss = 0.51308375\n",
      "Iteration 20, loss = 0.50661930\n"
     ]
    },
    {
     "name": "stderr",
     "output_type": "stream",
     "text": [
      "D:\\anaconda\\envs\\tensorflow\\lib\\site-packages\\sklearn\\neural_network\\_multilayer_perceptron.py:702: ConvergenceWarning: Stochastic Optimizer: Maximum iterations (20) reached and the optimization hasn't converged yet.\n",
      "  warnings.warn(\n",
      "D:\\anaconda\\envs\\tensorflow\\lib\\site-packages\\sklearn\\neural_network\\_multilayer_perceptron.py:559: ConvergenceWarning: lbfgs failed to converge (status=1):\n",
      "STOP: TOTAL NO. of ITERATIONS REACHED LIMIT.\n",
      "\n",
      "Increase the number of iterations (max_iter) or scale the data as shown in:\n",
      "    https://scikit-learn.org/stable/modules/preprocessing.html\n",
      "  self.n_iter_ = _check_optimize_result(\"lbfgs\", opt_res, self.max_iter)\n",
      "D:\\anaconda\\envs\\tensorflow\\lib\\site-packages\\sklearn\\neural_network\\_multilayer_perceptron.py:559: ConvergenceWarning: lbfgs failed to converge (status=1):\n",
      "STOP: TOTAL NO. of ITERATIONS REACHED LIMIT.\n",
      "\n",
      "Increase the number of iterations (max_iter) or scale the data as shown in:\n",
      "    https://scikit-learn.org/stable/modules/preprocessing.html\n",
      "  self.n_iter_ = _check_optimize_result(\"lbfgs\", opt_res, self.max_iter)\n",
      "D:\\anaconda\\envs\\tensorflow\\lib\\site-packages\\sklearn\\neural_network\\_multilayer_perceptron.py:559: ConvergenceWarning: lbfgs failed to converge (status=1):\n",
      "STOP: TOTAL NO. of ITERATIONS REACHED LIMIT.\n",
      "\n",
      "Increase the number of iterations (max_iter) or scale the data as shown in:\n",
      "    https://scikit-learn.org/stable/modules/preprocessing.html\n",
      "  self.n_iter_ = _check_optimize_result(\"lbfgs\", opt_res, self.max_iter)\n",
      "D:\\anaconda\\envs\\tensorflow\\lib\\site-packages\\sklearn\\neural_network\\_multilayer_perceptron.py:559: ConvergenceWarning: lbfgs failed to converge (status=1):\n",
      "STOP: TOTAL NO. of ITERATIONS REACHED LIMIT.\n",
      "\n",
      "Increase the number of iterations (max_iter) or scale the data as shown in:\n",
      "    https://scikit-learn.org/stable/modules/preprocessing.html\n",
      "  self.n_iter_ = _check_optimize_result(\"lbfgs\", opt_res, self.max_iter)\n",
      "D:\\anaconda\\envs\\tensorflow\\lib\\site-packages\\sklearn\\neural_network\\_multilayer_perceptron.py:559: ConvergenceWarning: lbfgs failed to converge (status=1):\n",
      "STOP: TOTAL NO. of ITERATIONS REACHED LIMIT.\n",
      "\n",
      "Increase the number of iterations (max_iter) or scale the data as shown in:\n",
      "    https://scikit-learn.org/stable/modules/preprocessing.html\n",
      "  self.n_iter_ = _check_optimize_result(\"lbfgs\", opt_res, self.max_iter)\n",
      "D:\\anaconda\\envs\\tensorflow\\lib\\site-packages\\sklearn\\neural_network\\_multilayer_perceptron.py:559: ConvergenceWarning: lbfgs failed to converge (status=1):\n",
      "STOP: TOTAL NO. of ITERATIONS REACHED LIMIT.\n",
      "\n",
      "Increase the number of iterations (max_iter) or scale the data as shown in:\n",
      "    https://scikit-learn.org/stable/modules/preprocessing.html\n",
      "  self.n_iter_ = _check_optimize_result(\"lbfgs\", opt_res, self.max_iter)\n",
      "D:\\anaconda\\envs\\tensorflow\\lib\\site-packages\\sklearn\\neural_network\\_multilayer_perceptron.py:559: ConvergenceWarning: lbfgs failed to converge (status=1):\n",
      "STOP: TOTAL NO. of ITERATIONS REACHED LIMIT.\n",
      "\n",
      "Increase the number of iterations (max_iter) or scale the data as shown in:\n",
      "    https://scikit-learn.org/stable/modules/preprocessing.html\n",
      "  self.n_iter_ = _check_optimize_result(\"lbfgs\", opt_res, self.max_iter)\n",
      "D:\\anaconda\\envs\\tensorflow\\lib\\site-packages\\sklearn\\neural_network\\_multilayer_perceptron.py:559: ConvergenceWarning: lbfgs failed to converge (status=1):\n",
      "STOP: TOTAL NO. of ITERATIONS REACHED LIMIT.\n",
      "\n",
      "Increase the number of iterations (max_iter) or scale the data as shown in:\n",
      "    https://scikit-learn.org/stable/modules/preprocessing.html\n",
      "  self.n_iter_ = _check_optimize_result(\"lbfgs\", opt_res, self.max_iter)\n",
      "D:\\anaconda\\envs\\tensorflow\\lib\\site-packages\\sklearn\\neural_network\\_multilayer_perceptron.py:559: ConvergenceWarning: lbfgs failed to converge (status=1):\n",
      "STOP: TOTAL NO. of ITERATIONS REACHED LIMIT.\n",
      "\n",
      "Increase the number of iterations (max_iter) or scale the data as shown in:\n",
      "    https://scikit-learn.org/stable/modules/preprocessing.html\n",
      "  self.n_iter_ = _check_optimize_result(\"lbfgs\", opt_res, self.max_iter)\n",
      "D:\\anaconda\\envs\\tensorflow\\lib\\site-packages\\sklearn\\neural_network\\_multilayer_perceptron.py:559: ConvergenceWarning: lbfgs failed to converge (status=1):\n",
      "STOP: TOTAL NO. of ITERATIONS REACHED LIMIT.\n",
      "\n",
      "Increase the number of iterations (max_iter) or scale the data as shown in:\n",
      "    https://scikit-learn.org/stable/modules/preprocessing.html\n",
      "  self.n_iter_ = _check_optimize_result(\"lbfgs\", opt_res, self.max_iter)\n"
     ]
    },
    {
     "name": "stdout",
     "output_type": "stream",
     "text": [
      "Iteration 1, loss = 0.93715041\n",
      "Iteration 2, loss = 0.91610906\n",
      "Iteration 3, loss = 0.89998050\n",
      "Iteration 4, loss = 0.88784216\n",
      "Iteration 5, loss = 0.87833455\n",
      "Iteration 6, loss = 0.87081684\n",
      "Iteration 7, loss = 0.86440276\n",
      "Iteration 8, loss = 0.85872445\n",
      "Iteration 9, loss = 0.85366459\n",
      "Iteration 10, loss = 0.84890422\n",
      "Iteration 11, loss = 0.84438819\n",
      "Iteration 12, loss = 0.84012174\n",
      "Iteration 13, loss = 0.83588508\n",
      "Iteration 14, loss = 0.83172880\n",
      "Iteration 15, loss = 0.82768008\n",
      "Iteration 16, loss = 0.82362577\n",
      "Iteration 17, loss = 0.81957994\n",
      "Iteration 18, loss = 0.81547446\n",
      "Iteration 19, loss = 0.81126090\n",
      "Iteration 20, loss = 0.80683467\n",
      "Iteration 1, loss = 0.93236669\n",
      "Iteration 2, loss = 0.91144208\n",
      "Iteration 3, loss = 0.89534020\n",
      "Iteration 4, loss = 0.88325631\n",
      "Iteration 5, loss = 0.87382233\n",
      "Iteration 6, loss = 0.86631969\n",
      "Iteration 7, loss = 0.85990782\n",
      "Iteration 8, loss = 0.85427053\n",
      "Iteration 9, loss = 0.84926316\n",
      "Iteration 10, loss = 0.84460933\n",
      "Iteration 11, loss = 0.84016109\n"
     ]
    },
    {
     "name": "stderr",
     "output_type": "stream",
     "text": [
      "D:\\anaconda\\envs\\tensorflow\\lib\\site-packages\\sklearn\\neural_network\\_multilayer_perceptron.py:702: ConvergenceWarning: Stochastic Optimizer: Maximum iterations (20) reached and the optimization hasn't converged yet.\n",
      "  warnings.warn(\n"
     ]
    },
    {
     "name": "stdout",
     "output_type": "stream",
     "text": [
      "Iteration 12, loss = 0.83593448\n",
      "Iteration 13, loss = 0.83180669\n",
      "Iteration 14, loss = 0.82774236\n",
      "Iteration 15, loss = 0.82379494\n",
      "Iteration 16, loss = 0.81987330\n",
      "Iteration 17, loss = 0.81596822\n",
      "Iteration 18, loss = 0.81204502\n",
      "Iteration 19, loss = 0.80806431\n",
      "Iteration 20, loss = 0.80394839\n",
      "Iteration 1, loss = 0.92752419\n",
      "Iteration 2, loss = 0.90702652\n",
      "Iteration 3, loss = 0.89136230\n",
      "Iteration 4, loss = 0.87961197\n",
      "Iteration 5, loss = 0.87035932\n",
      "Iteration 6, loss = 0.86305248\n"
     ]
    },
    {
     "name": "stderr",
     "output_type": "stream",
     "text": [
      "D:\\anaconda\\envs\\tensorflow\\lib\\site-packages\\sklearn\\neural_network\\_multilayer_perceptron.py:702: ConvergenceWarning: Stochastic Optimizer: Maximum iterations (20) reached and the optimization hasn't converged yet.\n",
      "  warnings.warn(\n"
     ]
    },
    {
     "name": "stdout",
     "output_type": "stream",
     "text": [
      "Iteration 7, loss = 0.85676864\n",
      "Iteration 8, loss = 0.85122987\n",
      "Iteration 9, loss = 0.84628683\n",
      "Iteration 10, loss = 0.84169554\n",
      "Iteration 11, loss = 0.83732347\n",
      "Iteration 12, loss = 0.83313198\n",
      "Iteration 13, loss = 0.82905036\n",
      "Iteration 14, loss = 0.82503178\n",
      "Iteration 15, loss = 0.82108529\n",
      "Iteration 16, loss = 0.81717864\n",
      "Iteration 17, loss = 0.81325894\n",
      "Iteration 18, loss = 0.80927864\n",
      "Iteration 19, loss = 0.80521248\n",
      "Iteration 20, loss = 0.80097031\n",
      "Iteration 1, loss = 0.93613299\n",
      "Iteration 2, loss = 0.91497899\n",
      "Iteration 3, loss = 0.89884393\n",
      "Iteration 4, loss = 0.88673796\n",
      "Iteration 5, loss = 0.87721151\n",
      "Iteration 6, loss = 0.86966466\n"
     ]
    },
    {
     "name": "stderr",
     "output_type": "stream",
     "text": [
      "D:\\anaconda\\envs\\tensorflow\\lib\\site-packages\\sklearn\\neural_network\\_multilayer_perceptron.py:702: ConvergenceWarning: Stochastic Optimizer: Maximum iterations (20) reached and the optimization hasn't converged yet.\n",
      "  warnings.warn(\n"
     ]
    },
    {
     "name": "stdout",
     "output_type": "stream",
     "text": [
      "Iteration 7, loss = 0.86322621\n",
      "Iteration 8, loss = 0.85754664\n",
      "Iteration 9, loss = 0.85247832\n",
      "Iteration 10, loss = 0.84776435\n",
      "Iteration 11, loss = 0.84332476\n",
      "Iteration 12, loss = 0.83904061\n",
      "Iteration 13, loss = 0.83486234\n",
      "Iteration 14, loss = 0.83080504\n",
      "Iteration 15, loss = 0.82677859\n",
      "Iteration 16, loss = 0.82287483\n",
      "Iteration 17, loss = 0.81895284\n",
      "Iteration 18, loss = 0.81505915\n",
      "Iteration 19, loss = 0.81111087\n",
      "Iteration 20, loss = 0.80712505\n",
      "Iteration 1, loss = 0.92737056\n",
      "Iteration 2, loss = 0.90665845\n",
      "Iteration 3, loss = 0.89091577\n",
      "Iteration 4, loss = 0.87911787\n",
      "Iteration 5, loss = 0.86976501\n",
      "Iteration 6, loss = 0.86243305\n",
      "Iteration 7, loss = 0.85611862\n",
      "Iteration 8, loss = 0.85063550\n",
      "Iteration 9, loss = 0.84568734\n",
      "Iteration 10, loss = 0.84114362\n",
      "Iteration 11, loss = 0.83677839\n",
      "Iteration 12, loss = 0.83259924\n",
      "Iteration 13, loss = 0.82847694\n",
      "Iteration 14, loss = 0.82444513\n",
      "Iteration 15, loss = 0.82039329\n",
      "Iteration 16, loss = 0.81636922\n"
     ]
    },
    {
     "name": "stderr",
     "output_type": "stream",
     "text": [
      "D:\\anaconda\\envs\\tensorflow\\lib\\site-packages\\sklearn\\neural_network\\_multilayer_perceptron.py:702: ConvergenceWarning: Stochastic Optimizer: Maximum iterations (20) reached and the optimization hasn't converged yet.\n",
      "  warnings.warn(\n"
     ]
    },
    {
     "name": "stdout",
     "output_type": "stream",
     "text": [
      "Iteration 17, loss = 0.81223136\n",
      "Iteration 18, loss = 0.80799761\n",
      "Iteration 19, loss = 0.80349307\n",
      "Iteration 20, loss = 0.79879252\n",
      "Iteration 1, loss = 0.93273022\n",
      "Iteration 2, loss = 0.91192037\n",
      "Iteration 3, loss = 0.89596233\n",
      "Iteration 4, loss = 0.88405921\n",
      "Iteration 5, loss = 0.87465550\n",
      "Iteration 6, loss = 0.86722280\n",
      "Iteration 7, loss = 0.86080705\n",
      "Iteration 8, loss = 0.85530727\n",
      "Iteration 9, loss = 0.85022347\n",
      "Iteration 10, loss = 0.84561960\n",
      "Iteration 11, loss = 0.84119775\n"
     ]
    },
    {
     "name": "stderr",
     "output_type": "stream",
     "text": [
      "D:\\anaconda\\envs\\tensorflow\\lib\\site-packages\\sklearn\\neural_network\\_multilayer_perceptron.py:702: ConvergenceWarning: Stochastic Optimizer: Maximum iterations (20) reached and the optimization hasn't converged yet.\n",
      "  warnings.warn(\n"
     ]
    },
    {
     "name": "stdout",
     "output_type": "stream",
     "text": [
      "Iteration 12, loss = 0.83693320\n",
      "Iteration 13, loss = 0.83278008\n",
      "Iteration 14, loss = 0.82874037\n",
      "Iteration 15, loss = 0.82465332\n",
      "Iteration 16, loss = 0.82070840\n",
      "Iteration 17, loss = 0.81664614\n",
      "Iteration 18, loss = 0.81261689\n",
      "Iteration 19, loss = 0.80840445\n",
      "Iteration 20, loss = 0.80402045\n",
      "Iteration 1, loss = 0.93672014\n",
      "Iteration 2, loss = 0.91578262\n",
      "Iteration 3, loss = 0.89965210\n",
      "Iteration 4, loss = 0.88759708\n",
      "Iteration 5, loss = 0.87800783\n"
     ]
    },
    {
     "name": "stderr",
     "output_type": "stream",
     "text": [
      "D:\\anaconda\\envs\\tensorflow\\lib\\site-packages\\sklearn\\neural_network\\_multilayer_perceptron.py:702: ConvergenceWarning: Stochastic Optimizer: Maximum iterations (20) reached and the optimization hasn't converged yet.\n",
      "  warnings.warn(\n"
     ]
    },
    {
     "name": "stdout",
     "output_type": "stream",
     "text": [
      "Iteration 6, loss = 0.87046553\n",
      "Iteration 7, loss = 0.86391766\n",
      "Iteration 8, loss = 0.85837632\n",
      "Iteration 9, loss = 0.85320980\n",
      "Iteration 10, loss = 0.84855172\n",
      "Iteration 11, loss = 0.84408210\n",
      "Iteration 12, loss = 0.83975291\n",
      "Iteration 13, loss = 0.83557459\n",
      "Iteration 14, loss = 0.83148594\n",
      "Iteration 15, loss = 0.82736919\n",
      "Iteration 16, loss = 0.82338414\n",
      "Iteration 17, loss = 0.81931024\n",
      "Iteration 18, loss = 0.81530823\n",
      "Iteration 19, loss = 0.81111075\n",
      "Iteration 20, loss = 0.80680349\n"
     ]
    },
    {
     "name": "stderr",
     "output_type": "stream",
     "text": [
      "D:\\anaconda\\envs\\tensorflow\\lib\\site-packages\\sklearn\\neural_network\\_multilayer_perceptron.py:702: ConvergenceWarning: Stochastic Optimizer: Maximum iterations (20) reached and the optimization hasn't converged yet.\n",
      "  warnings.warn(\n"
     ]
    },
    {
     "name": "stdout",
     "output_type": "stream",
     "text": [
      "Iteration 1, loss = 0.94130612\n",
      "Iteration 2, loss = 0.92001613\n",
      "Iteration 3, loss = 0.90361374\n",
      "Iteration 4, loss = 0.89137651\n",
      "Iteration 5, loss = 0.88173027\n",
      "Iteration 6, loss = 0.87410155\n",
      "Iteration 7, loss = 0.86750488\n",
      "Iteration 8, loss = 0.86188728\n",
      "Iteration 9, loss = 0.85667590\n",
      "Iteration 10, loss = 0.85193177\n",
      "Iteration 11, loss = 0.84738034\n",
      "Iteration 12, loss = 0.84300542\n",
      "Iteration 13, loss = 0.83877740\n",
      "Iteration 14, loss = 0.83463566\n",
      "Iteration 15, loss = 0.83047685\n",
      "Iteration 16, loss = 0.82645954\n",
      "Iteration 17, loss = 0.82236833\n",
      "Iteration 18, loss = 0.81833475\n",
      "Iteration 19, loss = 0.81417673\n",
      "Iteration 20, loss = 0.80988877\n",
      "Iteration 1, loss = 0.93233354\n",
      "Iteration 2, loss = 0.91158285\n",
      "Iteration 3, loss = 0.89571233\n",
      "Iteration 4, loss = 0.88348168\n",
      "Iteration 5, loss = 0.87426006\n",
      "Iteration 6, loss = 0.86667467\n",
      "Iteration 7, loss = 0.86026946\n",
      "Iteration 8, loss = 0.85476466\n"
     ]
    },
    {
     "name": "stderr",
     "output_type": "stream",
     "text": [
      "D:\\anaconda\\envs\\tensorflow\\lib\\site-packages\\sklearn\\neural_network\\_multilayer_perceptron.py:702: ConvergenceWarning: Stochastic Optimizer: Maximum iterations (20) reached and the optimization hasn't converged yet.\n",
      "  warnings.warn(\n"
     ]
    },
    {
     "name": "stdout",
     "output_type": "stream",
     "text": [
      "Iteration 9, loss = 0.84974357\n",
      "Iteration 10, loss = 0.84512889\n",
      "Iteration 11, loss = 0.84062409\n",
      "Iteration 12, loss = 0.83644943\n",
      "Iteration 13, loss = 0.83232971\n",
      "Iteration 14, loss = 0.82832792\n",
      "Iteration 15, loss = 0.82429891\n",
      "Iteration 16, loss = 0.82035046\n",
      "Iteration 17, loss = 0.81642202\n",
      "Iteration 18, loss = 0.81240813\n",
      "Iteration 19, loss = 0.80833429\n",
      "Iteration 20, loss = 0.80409847\n",
      "Iteration 1, loss = 0.93309561\n"
     ]
    },
    {
     "name": "stderr",
     "output_type": "stream",
     "text": [
      "D:\\anaconda\\envs\\tensorflow\\lib\\site-packages\\sklearn\\neural_network\\_multilayer_perceptron.py:702: ConvergenceWarning: Stochastic Optimizer: Maximum iterations (20) reached and the optimization hasn't converged yet.\n",
      "  warnings.warn(\n"
     ]
    },
    {
     "name": "stdout",
     "output_type": "stream",
     "text": [
      "Iteration 2, loss = 0.91241482\n",
      "Iteration 3, loss = 0.89660118\n",
      "Iteration 4, loss = 0.88447092\n",
      "Iteration 5, loss = 0.87527154\n",
      "Iteration 6, loss = 0.86766227\n",
      "Iteration 7, loss = 0.86130540\n",
      "Iteration 8, loss = 0.85577885\n",
      "Iteration 9, loss = 0.85072564\n",
      "Iteration 10, loss = 0.84608840\n",
      "Iteration 11, loss = 0.84157612\n",
      "Iteration 12, loss = 0.83738254\n",
      "Iteration 13, loss = 0.83325219\n",
      "Iteration 14, loss = 0.82922924\n",
      "Iteration 15, loss = 0.82518787\n",
      "Iteration 16, loss = 0.82124727\n",
      "Iteration 17, loss = 0.81730789\n",
      "Iteration 18, loss = 0.81326403\n",
      "Iteration 19, loss = 0.80920526\n",
      "Iteration 20, loss = 0.80496954\n",
      "Iteration 1, loss = 0.93255007\n",
      "Iteration 2, loss = 0.88318493\n",
      "Iteration 3, loss = 0.83982808\n",
      "Iteration 4, loss = 0.80908841\n",
      "Iteration 5, loss = 0.78809063\n",
      "Iteration 6, loss = 0.77436797\n",
      "Iteration 7, loss = 0.76476503\n",
      "Iteration 8, loss = 0.75735216\n",
      "Iteration 9, loss = 0.75139270\n",
      "Iteration 10, loss = 0.74587657\n"
     ]
    },
    {
     "name": "stderr",
     "output_type": "stream",
     "text": [
      "D:\\anaconda\\envs\\tensorflow\\lib\\site-packages\\sklearn\\neural_network\\_multilayer_perceptron.py:702: ConvergenceWarning: Stochastic Optimizer: Maximum iterations (20) reached and the optimization hasn't converged yet.\n",
      "  warnings.warn(\n"
     ]
    },
    {
     "name": "stdout",
     "output_type": "stream",
     "text": [
      "Iteration 11, loss = 0.74082034\n",
      "Iteration 12, loss = 0.73612191\n",
      "Iteration 13, loss = 0.73132579\n",
      "Iteration 14, loss = 0.72653470\n",
      "Iteration 15, loss = 0.72197552\n",
      "Iteration 16, loss = 0.71757267\n",
      "Iteration 17, loss = 0.71314306\n",
      "Iteration 18, loss = 0.70868772\n",
      "Iteration 19, loss = 0.70441708\n",
      "Iteration 20, loss = 0.70021138\n",
      "Iteration 1, loss = 0.92781903\n",
      "Iteration 2, loss = 0.87848287\n",
      "Iteration 3, loss = 0.83538472\n",
      "Iteration 4, loss = 0.80510743\n",
      "Iteration 5, loss = 0.78474470\n",
      "Iteration 6, loss = 0.77160191\n"
     ]
    },
    {
     "name": "stderr",
     "output_type": "stream",
     "text": [
      "D:\\anaconda\\envs\\tensorflow\\lib\\site-packages\\sklearn\\neural_network\\_multilayer_perceptron.py:702: ConvergenceWarning: Stochastic Optimizer: Maximum iterations (20) reached and the optimization hasn't converged yet.\n",
      "  warnings.warn(\n"
     ]
    },
    {
     "name": "stdout",
     "output_type": "stream",
     "text": [
      "Iteration 7, loss = 0.76240968\n",
      "Iteration 8, loss = 0.75543108\n",
      "Iteration 9, loss = 0.74985801\n",
      "Iteration 10, loss = 0.74479351\n",
      "Iteration 11, loss = 0.74006492\n",
      "Iteration 12, loss = 0.73558831\n",
      "Iteration 13, loss = 0.73122335\n",
      "Iteration 14, loss = 0.72687172\n",
      "Iteration 15, loss = 0.72260832\n",
      "Iteration 16, loss = 0.71869149\n",
      "Iteration 17, loss = 0.71463450\n",
      "Iteration 18, loss = 0.71062458\n",
      "Iteration 19, loss = 0.70667850\n",
      "Iteration 20, loss = 0.70267232\n",
      "Iteration 1, loss = 0.92351914\n",
      "Iteration 2, loss = 0.87650808\n"
     ]
    },
    {
     "name": "stderr",
     "output_type": "stream",
     "text": [
      "D:\\anaconda\\envs\\tensorflow\\lib\\site-packages\\sklearn\\neural_network\\_multilayer_perceptron.py:702: ConvergenceWarning: Stochastic Optimizer: Maximum iterations (20) reached and the optimization hasn't converged yet.\n",
      "  warnings.warn(\n"
     ]
    },
    {
     "name": "stdout",
     "output_type": "stream",
     "text": [
      "Iteration 3, loss = 0.83515425\n",
      "Iteration 4, loss = 0.80587279\n",
      "Iteration 5, loss = 0.78563028\n",
      "Iteration 6, loss = 0.77257728\n",
      "Iteration 7, loss = 0.76322670\n",
      "Iteration 8, loss = 0.75611644\n",
      "Iteration 9, loss = 0.75040456\n",
      "Iteration 10, loss = 0.74527528\n",
      "Iteration 11, loss = 0.74051042\n",
      "Iteration 12, loss = 0.73598322\n",
      "Iteration 13, loss = 0.73162117\n",
      "Iteration 14, loss = 0.72728854\n",
      "Iteration 15, loss = 0.72318393\n",
      "Iteration 16, loss = 0.71938654\n",
      "Iteration 17, loss = 0.71549494\n",
      "Iteration 18, loss = 0.71158878\n",
      "Iteration 19, loss = 0.70782310\n",
      "Iteration 20, loss = 0.70401161\n",
      "Iteration 1, loss = 0.93144603\n"
     ]
    },
    {
     "name": "stderr",
     "output_type": "stream",
     "text": [
      "D:\\anaconda\\envs\\tensorflow\\lib\\site-packages\\sklearn\\neural_network\\_multilayer_perceptron.py:702: ConvergenceWarning: Stochastic Optimizer: Maximum iterations (20) reached and the optimization hasn't converged yet.\n",
      "  warnings.warn(\n",
      "D:\\anaconda\\envs\\tensorflow\\lib\\site-packages\\sklearn\\neural_network\\_multilayer_perceptron.py:702: ConvergenceWarning: Stochastic Optimizer: Maximum iterations (20) reached and the optimization hasn't converged yet.\n",
      "  warnings.warn(\n"
     ]
    },
    {
     "name": "stdout",
     "output_type": "stream",
     "text": [
      "Iteration 2, loss = 0.88164297\n",
      "Iteration 3, loss = 0.83829199\n",
      "Iteration 4, loss = 0.80775785\n",
      "Iteration 5, loss = 0.78677806\n",
      "Iteration 6, loss = 0.77328539\n",
      "Iteration 7, loss = 0.76386700\n",
      "Iteration 8, loss = 0.75662059\n",
      "Iteration 9, loss = 0.75078139\n",
      "Iteration 10, loss = 0.74547139\n",
      "Iteration 11, loss = 0.74058618\n",
      "Iteration 12, loss = 0.73588397\n",
      "Iteration 13, loss = 0.73124900\n",
      "Iteration 14, loss = 0.72668392\n",
      "Iteration 15, loss = 0.72219636\n",
      "Iteration 16, loss = 0.71804092\n",
      "Iteration 17, loss = 0.71379329\n",
      "Iteration 18, loss = 0.70956122\n",
      "Iteration 19, loss = 0.70539972\n",
      "Iteration 20, loss = 0.70144588\n",
      "Iteration 1, loss = 0.92303651\n",
      "Iteration 2, loss = 0.87548001\n",
      "Iteration 3, loss = 0.83403330\n",
      "Iteration 4, loss = 0.80470253\n",
      "Iteration 5, loss = 0.78418222\n",
      "Iteration 6, loss = 0.77109735\n",
      "Iteration 7, loss = 0.76176676\n",
      "Iteration 8, loss = 0.75483948\n",
      "Iteration 9, loss = 0.74913813\n",
      "Iteration 10, loss = 0.74416288\n",
      "Iteration 11, loss = 0.73936778\n",
      "Iteration 12, loss = 0.73490547\n",
      "Iteration 13, loss = 0.73038589\n",
      "Iteration 14, loss = 0.72590075\n",
      "Iteration 15, loss = 0.72152555\n",
      "Iteration 16, loss = 0.71734578\n",
      "Iteration 17, loss = 0.71302316\n",
      "Iteration 18, loss = 0.70876393\n",
      "Iteration 19, loss = 0.70466383\n",
      "Iteration 20, loss = 0.70076432\n",
      "Iteration 1, loss = 0.92820065\n",
      "Iteration 2, loss = 0.88003143\n"
     ]
    },
    {
     "name": "stderr",
     "output_type": "stream",
     "text": [
      "D:\\anaconda\\envs\\tensorflow\\lib\\site-packages\\sklearn\\neural_network\\_multilayer_perceptron.py:702: ConvergenceWarning: Stochastic Optimizer: Maximum iterations (20) reached and the optimization hasn't converged yet.\n",
      "  warnings.warn(\n"
     ]
    },
    {
     "name": "stdout",
     "output_type": "stream",
     "text": [
      "Iteration 3, loss = 0.83766419\n",
      "Iteration 4, loss = 0.80771372\n",
      "Iteration 5, loss = 0.78686357\n",
      "Iteration 6, loss = 0.77344879\n",
      "Iteration 7, loss = 0.76382409\n",
      "Iteration 8, loss = 0.75694591\n",
      "Iteration 9, loss = 0.75092035\n",
      "Iteration 10, loss = 0.74579287\n",
      "Iteration 11, loss = 0.74082581\n",
      "Iteration 12, loss = 0.73614946\n",
      "Iteration 13, loss = 0.73160530\n",
      "Iteration 14, loss = 0.72700293\n",
      "Iteration 15, loss = 0.72232181\n",
      "Iteration 16, loss = 0.71808470\n",
      "Iteration 17, loss = 0.71359853\n",
      "Iteration 18, loss = 0.70922262\n",
      "Iteration 19, loss = 0.70497898\n",
      "Iteration 20, loss = 0.70092389\n",
      "Iteration 1, loss = 0.93188663\n"
     ]
    },
    {
     "name": "stderr",
     "output_type": "stream",
     "text": [
      "D:\\anaconda\\envs\\tensorflow\\lib\\site-packages\\sklearn\\neural_network\\_multilayer_perceptron.py:702: ConvergenceWarning: Stochastic Optimizer: Maximum iterations (20) reached and the optimization hasn't converged yet.\n",
      "  warnings.warn(\n",
      "D:\\anaconda\\envs\\tensorflow\\lib\\site-packages\\sklearn\\neural_network\\_multilayer_perceptron.py:702: ConvergenceWarning: Stochastic Optimizer: Maximum iterations (20) reached and the optimization hasn't converged yet.\n",
      "  warnings.warn(\n"
     ]
    },
    {
     "name": "stdout",
     "output_type": "stream",
     "text": [
      "Iteration 2, loss = 0.88286036\n",
      "Iteration 3, loss = 0.83972987\n",
      "Iteration 4, loss = 0.80923977\n",
      "Iteration 5, loss = 0.78790360\n",
      "Iteration 6, loss = 0.77431061\n",
      "Iteration 7, loss = 0.76437850\n",
      "Iteration 8, loss = 0.75747598\n",
      "Iteration 9, loss = 0.75116638\n",
      "Iteration 10, loss = 0.74585505\n",
      "Iteration 11, loss = 0.74069255\n",
      "Iteration 12, loss = 0.73574678\n",
      "Iteration 13, loss = 0.73083874\n",
      "Iteration 14, loss = 0.72597900\n",
      "Iteration 15, loss = 0.72124149\n",
      "Iteration 16, loss = 0.71666232\n",
      "Iteration 17, loss = 0.71191424\n",
      "Iteration 18, loss = 0.70722944\n",
      "Iteration 19, loss = 0.70280880\n",
      "Iteration 20, loss = 0.69850419\n",
      "Iteration 1, loss = 0.93640891\n",
      "Iteration 2, loss = 0.88595499\n",
      "Iteration 3, loss = 0.84134819\n",
      "Iteration 4, loss = 0.81001392\n",
      "Iteration 5, loss = 0.78838119\n",
      "Iteration 6, loss = 0.77466189\n",
      "Iteration 7, loss = 0.76467243\n",
      "Iteration 8, loss = 0.75778869\n",
      "Iteration 9, loss = 0.75152572\n",
      "Iteration 10, loss = 0.74621418\n",
      "Iteration 11, loss = 0.74106411\n",
      "Iteration 12, loss = 0.73624795\n",
      "Iteration 13, loss = 0.73155586\n",
      "Iteration 14, loss = 0.72689356\n",
      "Iteration 15, loss = 0.72234636\n",
      "Iteration 16, loss = 0.71810046\n",
      "Iteration 17, loss = 0.71372864\n",
      "Iteration 18, loss = 0.70946539\n",
      "Iteration 19, loss = 0.70525050\n",
      "Iteration 20, loss = 0.70132644\n",
      "Iteration 1, loss = 0.92771904\n",
      "Iteration 2, loss = 0.87980086\n",
      "Iteration 3, loss = 0.83760783\n",
      "Iteration 4, loss = 0.80692097\n"
     ]
    },
    {
     "name": "stderr",
     "output_type": "stream",
     "text": [
      "D:\\anaconda\\envs\\tensorflow\\lib\\site-packages\\sklearn\\neural_network\\_multilayer_perceptron.py:702: ConvergenceWarning: Stochastic Optimizer: Maximum iterations (20) reached and the optimization hasn't converged yet.\n",
      "  warnings.warn(\n"
     ]
    },
    {
     "name": "stdout",
     "output_type": "stream",
     "text": [
      "Iteration 5, loss = 0.78695467\n",
      "Iteration 6, loss = 0.77334446\n",
      "Iteration 7, loss = 0.76373460\n",
      "Iteration 8, loss = 0.75688254\n",
      "Iteration 9, loss = 0.75108944\n",
      "Iteration 10, loss = 0.74586605\n",
      "Iteration 11, loss = 0.74082019\n",
      "Iteration 12, loss = 0.73621640\n",
      "Iteration 13, loss = 0.73153508\n",
      "Iteration 14, loss = 0.72699120\n",
      "Iteration 15, loss = 0.72237271\n",
      "Iteration 16, loss = 0.71795941\n",
      "Iteration 17, loss = 0.71362056\n",
      "Iteration 18, loss = 0.70923017\n",
      "Iteration 19, loss = 0.70497242\n",
      "Iteration 20, loss = 0.70101465\n"
     ]
    },
    {
     "name": "stderr",
     "output_type": "stream",
     "text": [
      "D:\\anaconda\\envs\\tensorflow\\lib\\site-packages\\sklearn\\neural_network\\_multilayer_perceptron.py:702: ConvergenceWarning: Stochastic Optimizer: Maximum iterations (20) reached and the optimization hasn't converged yet.\n",
      "  warnings.warn(\n"
     ]
    },
    {
     "name": "stdout",
     "output_type": "stream",
     "text": [
      "Iteration 1, loss = 0.92840235\n",
      "Iteration 2, loss = 0.88088267\n",
      "Iteration 3, loss = 0.83910042\n",
      "Iteration 4, loss = 0.80879930\n",
      "Iteration 5, loss = 0.78872957\n",
      "Iteration 6, loss = 0.77489341\n",
      "Iteration 7, loss = 0.76544336\n",
      "Iteration 8, loss = 0.75864051\n",
      "Iteration 9, loss = 0.75292063\n",
      "Iteration 10, loss = 0.74783139\n",
      "Iteration 11, loss = 0.74287341\n",
      "Iteration 12, loss = 0.73839640\n",
      "Iteration 13, loss = 0.73386779\n",
      "Iteration 14, loss = 0.72950373\n",
      "Iteration 15, loss = 0.72517498\n",
      "Iteration 16, loss = 0.72108994\n",
      "Iteration 17, loss = 0.71702500\n",
      "Iteration 18, loss = 0.71294603\n",
      "Iteration 19, loss = 0.70896237\n",
      "Iteration 20, loss = 0.70521265\n"
     ]
    },
    {
     "name": "stderr",
     "output_type": "stream",
     "text": [
      "D:\\anaconda\\envs\\tensorflow\\lib\\site-packages\\sklearn\\neural_network\\_multilayer_perceptron.py:702: ConvergenceWarning: Stochastic Optimizer: Maximum iterations (20) reached and the optimization hasn't converged yet.\n",
      "  warnings.warn(\n",
      "D:\\anaconda\\envs\\tensorflow\\lib\\site-packages\\sklearn\\neural_network\\_multilayer_perceptron.py:559: ConvergenceWarning: lbfgs failed to converge (status=1):\n",
      "STOP: TOTAL NO. of ITERATIONS REACHED LIMIT.\n",
      "\n",
      "Increase the number of iterations (max_iter) or scale the data as shown in:\n",
      "    https://scikit-learn.org/stable/modules/preprocessing.html\n",
      "  self.n_iter_ = _check_optimize_result(\"lbfgs\", opt_res, self.max_iter)\n",
      "D:\\anaconda\\envs\\tensorflow\\lib\\site-packages\\sklearn\\neural_network\\_multilayer_perceptron.py:559: ConvergenceWarning: lbfgs failed to converge (status=1):\n",
      "STOP: TOTAL NO. of ITERATIONS REACHED LIMIT.\n",
      "\n",
      "Increase the number of iterations (max_iter) or scale the data as shown in:\n",
      "    https://scikit-learn.org/stable/modules/preprocessing.html\n",
      "  self.n_iter_ = _check_optimize_result(\"lbfgs\", opt_res, self.max_iter)\n",
      "D:\\anaconda\\envs\\tensorflow\\lib\\site-packages\\sklearn\\neural_network\\_multilayer_perceptron.py:559: ConvergenceWarning: lbfgs failed to converge (status=1):\n",
      "STOP: TOTAL NO. of ITERATIONS REACHED LIMIT.\n",
      "\n",
      "Increase the number of iterations (max_iter) or scale the data as shown in:\n",
      "    https://scikit-learn.org/stable/modules/preprocessing.html\n",
      "  self.n_iter_ = _check_optimize_result(\"lbfgs\", opt_res, self.max_iter)\n",
      "D:\\anaconda\\envs\\tensorflow\\lib\\site-packages\\sklearn\\neural_network\\_multilayer_perceptron.py:559: ConvergenceWarning: lbfgs failed to converge (status=1):\n",
      "STOP: TOTAL NO. of ITERATIONS REACHED LIMIT.\n",
      "\n",
      "Increase the number of iterations (max_iter) or scale the data as shown in:\n",
      "    https://scikit-learn.org/stable/modules/preprocessing.html\n",
      "  self.n_iter_ = _check_optimize_result(\"lbfgs\", opt_res, self.max_iter)\n",
      "D:\\anaconda\\envs\\tensorflow\\lib\\site-packages\\sklearn\\neural_network\\_multilayer_perceptron.py:559: ConvergenceWarning: lbfgs failed to converge (status=1):\n",
      "STOP: TOTAL NO. of ITERATIONS REACHED LIMIT.\n",
      "\n",
      "Increase the number of iterations (max_iter) or scale the data as shown in:\n",
      "    https://scikit-learn.org/stable/modules/preprocessing.html\n",
      "  self.n_iter_ = _check_optimize_result(\"lbfgs\", opt_res, self.max_iter)\n",
      "D:\\anaconda\\envs\\tensorflow\\lib\\site-packages\\sklearn\\neural_network\\_multilayer_perceptron.py:559: ConvergenceWarning: lbfgs failed to converge (status=1):\n",
      "STOP: TOTAL NO. of ITERATIONS REACHED LIMIT.\n",
      "\n",
      "Increase the number of iterations (max_iter) or scale the data as shown in:\n",
      "    https://scikit-learn.org/stable/modules/preprocessing.html\n",
      "  self.n_iter_ = _check_optimize_result(\"lbfgs\", opt_res, self.max_iter)\n",
      "D:\\anaconda\\envs\\tensorflow\\lib\\site-packages\\sklearn\\neural_network\\_multilayer_perceptron.py:559: ConvergenceWarning: lbfgs failed to converge (status=1):\n",
      "STOP: TOTAL NO. of ITERATIONS REACHED LIMIT.\n",
      "\n",
      "Increase the number of iterations (max_iter) or scale the data as shown in:\n",
      "    https://scikit-learn.org/stable/modules/preprocessing.html\n",
      "  self.n_iter_ = _check_optimize_result(\"lbfgs\", opt_res, self.max_iter)\n",
      "D:\\anaconda\\envs\\tensorflow\\lib\\site-packages\\sklearn\\neural_network\\_multilayer_perceptron.py:559: ConvergenceWarning: lbfgs failed to converge (status=1):\n",
      "STOP: TOTAL NO. of ITERATIONS REACHED LIMIT.\n",
      "\n",
      "Increase the number of iterations (max_iter) or scale the data as shown in:\n",
      "    https://scikit-learn.org/stable/modules/preprocessing.html\n",
      "  self.n_iter_ = _check_optimize_result(\"lbfgs\", opt_res, self.max_iter)\n",
      "D:\\anaconda\\envs\\tensorflow\\lib\\site-packages\\sklearn\\neural_network\\_multilayer_perceptron.py:559: ConvergenceWarning: lbfgs failed to converge (status=1):\n",
      "STOP: TOTAL NO. of ITERATIONS REACHED LIMIT.\n",
      "\n",
      "Increase the number of iterations (max_iter) or scale the data as shown in:\n",
      "    https://scikit-learn.org/stable/modules/preprocessing.html\n",
      "  self.n_iter_ = _check_optimize_result(\"lbfgs\", opt_res, self.max_iter)\n",
      "D:\\anaconda\\envs\\tensorflow\\lib\\site-packages\\sklearn\\neural_network\\_multilayer_perceptron.py:559: ConvergenceWarning: lbfgs failed to converge (status=1):\n",
      "STOP: TOTAL NO. of ITERATIONS REACHED LIMIT.\n",
      "\n",
      "Increase the number of iterations (max_iter) or scale the data as shown in:\n",
      "    https://scikit-learn.org/stable/modules/preprocessing.html\n",
      "  self.n_iter_ = _check_optimize_result(\"lbfgs\", opt_res, self.max_iter)\n"
     ]
    },
    {
     "name": "stdout",
     "output_type": "stream",
     "text": [
      "Iteration 1, loss = 1.20980609\n",
      "Iteration 2, loss = 0.67521519\n",
      "Iteration 3, loss = 0.53605180\n",
      "Iteration 4, loss = 0.47359764\n",
      "Iteration 5, loss = 0.43299440\n",
      "Iteration 6, loss = 0.40460360\n",
      "Iteration 7, loss = 0.38202471\n",
      "Iteration 8, loss = 0.36360063\n",
      "Iteration 9, loss = 0.34770390\n",
      "Iteration 10, loss = 0.33383432\n",
      "Iteration 11, loss = 0.32162024\n",
      "Iteration 12, loss = 0.31031439\n",
      "Iteration 13, loss = 0.29993421\n",
      "Iteration 14, loss = 0.28970168\n",
      "Iteration 15, loss = 0.28157920\n",
      "Iteration 16, loss = 0.27302104\n",
      "Iteration 17, loss = 0.26464727\n",
      "Iteration 18, loss = 0.25789306\n",
      "Iteration 19, loss = 0.25050730\n",
      "Iteration 20, loss = 0.24324348\n",
      "Iteration 1, loss = 1.21717275\n",
      "Iteration 2, loss = 0.67761860\n",
      "Iteration 3, loss = 0.53751078\n",
      "Iteration 4, loss = 0.47411165\n"
     ]
    },
    {
     "name": "stderr",
     "output_type": "stream",
     "text": [
      "D:\\anaconda\\envs\\tensorflow\\lib\\site-packages\\sklearn\\neural_network\\_multilayer_perceptron.py:702: ConvergenceWarning: Stochastic Optimizer: Maximum iterations (20) reached and the optimization hasn't converged yet.\n",
      "  warnings.warn(\n"
     ]
    },
    {
     "name": "stdout",
     "output_type": "stream",
     "text": [
      "Iteration 5, loss = 0.43367782\n",
      "Iteration 6, loss = 0.40534969\n",
      "Iteration 7, loss = 0.38248842\n",
      "Iteration 8, loss = 0.36377961\n",
      "Iteration 9, loss = 0.34793156\n",
      "Iteration 10, loss = 0.33401827\n",
      "Iteration 11, loss = 0.32176263\n",
      "Iteration 12, loss = 0.31040094\n",
      "Iteration 13, loss = 0.30025721\n",
      "Iteration 14, loss = 0.28989901\n",
      "Iteration 15, loss = 0.28158727\n",
      "Iteration 16, loss = 0.27337488\n",
      "Iteration 17, loss = 0.26509903\n",
      "Iteration 18, loss = 0.25767041\n",
      "Iteration 19, loss = 0.25040304\n",
      "Iteration 20, loss = 0.24295252\n",
      "Iteration 1, loss = 1.21516737\n"
     ]
    },
    {
     "name": "stderr",
     "output_type": "stream",
     "text": [
      "D:\\anaconda\\envs\\tensorflow\\lib\\site-packages\\sklearn\\neural_network\\_multilayer_perceptron.py:702: ConvergenceWarning: Stochastic Optimizer: Maximum iterations (20) reached and the optimization hasn't converged yet.\n",
      "  warnings.warn(\n"
     ]
    },
    {
     "name": "stdout",
     "output_type": "stream",
     "text": [
      "Iteration 2, loss = 0.67778136\n",
      "Iteration 3, loss = 0.53881363\n",
      "Iteration 4, loss = 0.47675106\n",
      "Iteration 5, loss = 0.43674922\n",
      "Iteration 6, loss = 0.40839877\n",
      "Iteration 7, loss = 0.38581183\n",
      "Iteration 8, loss = 0.36720170\n",
      "Iteration 9, loss = 0.35113454\n",
      "Iteration 10, loss = 0.33680048\n",
      "Iteration 11, loss = 0.32450176\n",
      "Iteration 12, loss = 0.31321903\n",
      "Iteration 13, loss = 0.30302921\n",
      "Iteration 14, loss = 0.29243555\n",
      "Iteration 15, loss = 0.28394155\n",
      "Iteration 16, loss = 0.27561673\n",
      "Iteration 17, loss = 0.26716971\n",
      "Iteration 18, loss = 0.25949187\n",
      "Iteration 19, loss = 0.25225601\n",
      "Iteration 20, loss = 0.24498616\n",
      "Iteration 1, loss = 1.19801183\n",
      "Iteration 2, loss = 0.67091139\n",
      "Iteration 3, loss = 0.53585537\n",
      "Iteration 4, loss = 0.47219896\n"
     ]
    },
    {
     "name": "stderr",
     "output_type": "stream",
     "text": [
      "D:\\anaconda\\envs\\tensorflow\\lib\\site-packages\\sklearn\\neural_network\\_multilayer_perceptron.py:702: ConvergenceWarning: Stochastic Optimizer: Maximum iterations (20) reached and the optimization hasn't converged yet.\n",
      "  warnings.warn(\n"
     ]
    },
    {
     "name": "stdout",
     "output_type": "stream",
     "text": [
      "Iteration 5, loss = 0.43176345\n",
      "Iteration 6, loss = 0.40309746\n",
      "Iteration 7, loss = 0.38037955\n",
      "Iteration 8, loss = 0.36153768\n",
      "Iteration 9, loss = 0.34531886\n",
      "Iteration 10, loss = 0.33123536\n",
      "Iteration 11, loss = 0.31898256\n",
      "Iteration 12, loss = 0.30755101\n",
      "Iteration 13, loss = 0.29734568\n",
      "Iteration 14, loss = 0.28728157\n",
      "Iteration 15, loss = 0.27856174\n",
      "Iteration 16, loss = 0.27045422\n",
      "Iteration 17, loss = 0.26219122\n",
      "Iteration 18, loss = 0.25485903\n",
      "Iteration 19, loss = 0.24770276\n",
      "Iteration 20, loss = 0.24097255\n",
      "Iteration 1, loss = 1.21519590\n",
      "Iteration 2, loss = 0.67303497\n",
      "Iteration 3, loss = 0.53433192\n",
      "Iteration 4, loss = 0.47141008\n",
      "Iteration 5, loss = 0.43127371\n",
      "Iteration 6, loss = 0.40309142\n"
     ]
    },
    {
     "name": "stderr",
     "output_type": "stream",
     "text": [
      "D:\\anaconda\\envs\\tensorflow\\lib\\site-packages\\sklearn\\neural_network\\_multilayer_perceptron.py:702: ConvergenceWarning: Stochastic Optimizer: Maximum iterations (20) reached and the optimization hasn't converged yet.\n",
      "  warnings.warn(\n"
     ]
    },
    {
     "name": "stdout",
     "output_type": "stream",
     "text": [
      "Iteration 7, loss = 0.38069585\n",
      "Iteration 8, loss = 0.36252873\n",
      "Iteration 9, loss = 0.34679176\n",
      "Iteration 10, loss = 0.33246750\n",
      "Iteration 11, loss = 0.32024638\n",
      "Iteration 12, loss = 0.30899156\n",
      "Iteration 13, loss = 0.29878389\n",
      "Iteration 14, loss = 0.28888260\n",
      "Iteration 15, loss = 0.27994429\n",
      "Iteration 16, loss = 0.27218284\n",
      "Iteration 17, loss = 0.26363846\n",
      "Iteration 18, loss = 0.25608664\n",
      "Iteration 19, loss = 0.24914176\n",
      "Iteration 20, loss = 0.24211505\n",
      "Iteration 1, loss = 1.20839198\n",
      "Iteration 2, loss = 0.67292025\n"
     ]
    },
    {
     "name": "stderr",
     "output_type": "stream",
     "text": [
      "D:\\anaconda\\envs\\tensorflow\\lib\\site-packages\\sklearn\\neural_network\\_multilayer_perceptron.py:702: ConvergenceWarning: Stochastic Optimizer: Maximum iterations (20) reached and the optimization hasn't converged yet.\n",
      "  warnings.warn(\n"
     ]
    },
    {
     "name": "stdout",
     "output_type": "stream",
     "text": [
      "Iteration 3, loss = 0.53561250\n",
      "Iteration 4, loss = 0.47229884\n",
      "Iteration 5, loss = 0.43177956\n",
      "Iteration 6, loss = 0.40319227\n",
      "Iteration 7, loss = 0.38068416\n",
      "Iteration 8, loss = 0.36230690\n",
      "Iteration 9, loss = 0.34670707\n",
      "Iteration 10, loss = 0.33213099\n",
      "Iteration 11, loss = 0.32002568\n",
      "Iteration 12, loss = 0.30926501\n",
      "Iteration 13, loss = 0.29908475\n",
      "Iteration 14, loss = 0.28927575\n",
      "Iteration 15, loss = 0.28023875\n",
      "Iteration 16, loss = 0.27261873\n",
      "Iteration 17, loss = 0.26430358\n",
      "Iteration 18, loss = 0.25681322\n",
      "Iteration 19, loss = 0.24978950\n",
      "Iteration 20, loss = 0.24273066\n",
      "Iteration 1, loss = 1.19918468\n",
      "Iteration 2, loss = 0.66914905\n",
      "Iteration 3, loss = 0.53300475\n",
      "Iteration 4, loss = 0.46904299\n",
      "Iteration 5, loss = 0.42874235\n",
      "Iteration 6, loss = 0.40014466\n",
      "Iteration 7, loss = 0.37733781\n",
      "Iteration 8, loss = 0.35864455\n"
     ]
    },
    {
     "name": "stderr",
     "output_type": "stream",
     "text": [
      "D:\\anaconda\\envs\\tensorflow\\lib\\site-packages\\sklearn\\neural_network\\_multilayer_perceptron.py:702: ConvergenceWarning: Stochastic Optimizer: Maximum iterations (20) reached and the optimization hasn't converged yet.\n",
      "  warnings.warn(\n"
     ]
    },
    {
     "name": "stdout",
     "output_type": "stream",
     "text": [
      "Iteration 9, loss = 0.34292769\n",
      "Iteration 10, loss = 0.32839629\n",
      "Iteration 11, loss = 0.31601728\n",
      "Iteration 12, loss = 0.30490958\n",
      "Iteration 13, loss = 0.29487023\n",
      "Iteration 14, loss = 0.28519775\n",
      "Iteration 15, loss = 0.27663978\n",
      "Iteration 16, loss = 0.26895955\n",
      "Iteration 17, loss = 0.26051461\n",
      "Iteration 18, loss = 0.25300307\n",
      "Iteration 19, loss = 0.24613115\n",
      "Iteration 20, loss = 0.23933651\n",
      "Iteration 1, loss = 1.18668610\n",
      "Iteration 2, loss = 0.66688099\n",
      "Iteration 3, loss = 0.53545123\n",
      "Iteration 4, loss = 0.47183079\n",
      "Iteration 5, loss = 0.43177484\n",
      "Iteration 6, loss = 0.40307660\n",
      "Iteration 7, loss = 0.38028114\n"
     ]
    },
    {
     "name": "stderr",
     "output_type": "stream",
     "text": [
      "D:\\anaconda\\envs\\tensorflow\\lib\\site-packages\\sklearn\\neural_network\\_multilayer_perceptron.py:702: ConvergenceWarning: Stochastic Optimizer: Maximum iterations (20) reached and the optimization hasn't converged yet.\n",
      "  warnings.warn(\n"
     ]
    },
    {
     "name": "stdout",
     "output_type": "stream",
     "text": [
      "Iteration 8, loss = 0.36186256\n",
      "Iteration 9, loss = 0.34566678\n",
      "Iteration 10, loss = 0.33154144\n",
      "Iteration 11, loss = 0.31925585\n",
      "Iteration 12, loss = 0.30807579\n",
      "Iteration 13, loss = 0.29803555\n",
      "Iteration 14, loss = 0.28816613\n",
      "Iteration 15, loss = 0.27964597\n",
      "Iteration 16, loss = 0.27176832\n",
      "Iteration 17, loss = 0.26318117\n",
      "Iteration 18, loss = 0.25596408\n",
      "Iteration 19, loss = 0.24881389\n",
      "Iteration 20, loss = 0.24248019\n",
      "Iteration 1, loss = 1.20176236\n",
      "Iteration 2, loss = 0.67093709\n",
      "Iteration 3, loss = 0.53432687\n",
      "Iteration 4, loss = 0.47122603\n"
     ]
    },
    {
     "name": "stderr",
     "output_type": "stream",
     "text": [
      "D:\\anaconda\\envs\\tensorflow\\lib\\site-packages\\sklearn\\neural_network\\_multilayer_perceptron.py:702: ConvergenceWarning: Stochastic Optimizer: Maximum iterations (20) reached and the optimization hasn't converged yet.\n",
      "  warnings.warn(\n"
     ]
    },
    {
     "name": "stdout",
     "output_type": "stream",
     "text": [
      "Iteration 5, loss = 0.43147606\n",
      "Iteration 6, loss = 0.40336609\n",
      "Iteration 7, loss = 0.38076893\n",
      "Iteration 8, loss = 0.36193707\n",
      "Iteration 9, loss = 0.34627241\n",
      "Iteration 10, loss = 0.33271118\n",
      "Iteration 11, loss = 0.32058354\n",
      "Iteration 12, loss = 0.30892728\n",
      "Iteration 13, loss = 0.29877705\n",
      "Iteration 14, loss = 0.28952612\n",
      "Iteration 15, loss = 0.28055390\n",
      "Iteration 16, loss = 0.27274723\n",
      "Iteration 17, loss = 0.26464072\n",
      "Iteration 18, loss = 0.25695061\n",
      "Iteration 19, loss = 0.24961155\n",
      "Iteration 20, loss = 0.24283347\n",
      "Iteration 1, loss = 1.19926939\n",
      "Iteration 2, loss = 0.67127162\n",
      "Iteration 3, loss = 0.53795406\n"
     ]
    },
    {
     "name": "stderr",
     "output_type": "stream",
     "text": [
      "D:\\anaconda\\envs\\tensorflow\\lib\\site-packages\\sklearn\\neural_network\\_multilayer_perceptron.py:702: ConvergenceWarning: Stochastic Optimizer: Maximum iterations (20) reached and the optimization hasn't converged yet.\n",
      "  warnings.warn(\n"
     ]
    },
    {
     "name": "stdout",
     "output_type": "stream",
     "text": [
      "Iteration 4, loss = 0.47530738\n",
      "Iteration 5, loss = 0.43591889\n",
      "Iteration 6, loss = 0.40802263\n",
      "Iteration 7, loss = 0.38572323\n",
      "Iteration 8, loss = 0.36710588\n",
      "Iteration 9, loss = 0.35131525\n",
      "Iteration 10, loss = 0.33745776\n",
      "Iteration 11, loss = 0.32524180\n",
      "Iteration 12, loss = 0.31355110\n",
      "Iteration 13, loss = 0.30303633\n",
      "Iteration 14, loss = 0.29386770\n",
      "Iteration 15, loss = 0.28467175\n",
      "Iteration 16, loss = 0.27690281\n",
      "Iteration 17, loss = 0.26894195\n",
      "Iteration 18, loss = 0.26090213\n",
      "Iteration 19, loss = 0.25366616\n",
      "Iteration 20, loss = 0.24680034\n",
      "Iteration 1, loss = 1.30913271\n",
      "Iteration 2, loss = 0.81486445\n",
      "Iteration 3, loss = 0.74030827\n",
      "Iteration 4, loss = 0.69734401\n",
      "Iteration 5, loss = 0.67097917\n",
      "Iteration 6, loss = 0.65085557\n"
     ]
    },
    {
     "name": "stderr",
     "output_type": "stream",
     "text": [
      "D:\\anaconda\\envs\\tensorflow\\lib\\site-packages\\sklearn\\neural_network\\_multilayer_perceptron.py:702: ConvergenceWarning: Stochastic Optimizer: Maximum iterations (20) reached and the optimization hasn't converged yet.\n",
      "  warnings.warn(\n"
     ]
    },
    {
     "name": "stdout",
     "output_type": "stream",
     "text": [
      "Iteration 7, loss = 0.63445454\n",
      "Iteration 8, loss = 0.62041675\n",
      "Iteration 9, loss = 0.60722490\n",
      "Iteration 10, loss = 0.59623896\n",
      "Iteration 11, loss = 0.58578933\n",
      "Iteration 12, loss = 0.57652649\n",
      "Iteration 13, loss = 0.56799461\n",
      "Iteration 14, loss = 0.56008140\n",
      "Iteration 15, loss = 0.55275868\n",
      "Iteration 16, loss = 0.54582511\n",
      "Iteration 17, loss = 0.53910739\n",
      "Iteration 18, loss = 0.53333329\n",
      "Iteration 19, loss = 0.52764218\n",
      "Iteration 20, loss = 0.52179563\n",
      "Iteration 1, loss = 1.31679287\n",
      "Iteration 2, loss = 0.81799051\n",
      "Iteration 3, loss = 0.74434500\n",
      "Iteration 4, loss = 0.70066762\n"
     ]
    },
    {
     "name": "stderr",
     "output_type": "stream",
     "text": [
      "D:\\anaconda\\envs\\tensorflow\\lib\\site-packages\\sklearn\\neural_network\\_multilayer_perceptron.py:702: ConvergenceWarning: Stochastic Optimizer: Maximum iterations (20) reached and the optimization hasn't converged yet.\n",
      "  warnings.warn(\n"
     ]
    },
    {
     "name": "stdout",
     "output_type": "stream",
     "text": [
      "Iteration 5, loss = 0.67452503\n",
      "Iteration 6, loss = 0.65443803\n",
      "Iteration 7, loss = 0.63815554\n",
      "Iteration 8, loss = 0.62419851\n",
      "Iteration 9, loss = 0.61135328\n",
      "Iteration 10, loss = 0.60052352\n",
      "Iteration 11, loss = 0.59001798\n",
      "Iteration 12, loss = 0.58089893\n",
      "Iteration 13, loss = 0.57242667\n",
      "Iteration 14, loss = 0.56425617\n",
      "Iteration 15, loss = 0.55706780\n",
      "Iteration 16, loss = 0.55016733\n",
      "Iteration 17, loss = 0.54339250\n",
      "Iteration 18, loss = 0.53750041\n",
      "Iteration 19, loss = 0.53150571\n",
      "Iteration 20, loss = 0.52563547\n",
      "Iteration 1, loss = 1.31686262\n",
      "Iteration 2, loss = 0.81705690\n"
     ]
    },
    {
     "name": "stderr",
     "output_type": "stream",
     "text": [
      "D:\\anaconda\\envs\\tensorflow\\lib\\site-packages\\sklearn\\neural_network\\_multilayer_perceptron.py:702: ConvergenceWarning: Stochastic Optimizer: Maximum iterations (20) reached and the optimization hasn't converged yet.\n",
      "  warnings.warn(\n"
     ]
    },
    {
     "name": "stdout",
     "output_type": "stream",
     "text": [
      "Iteration 3, loss = 0.74430194\n",
      "Iteration 4, loss = 0.70150708\n",
      "Iteration 5, loss = 0.67590919\n",
      "Iteration 6, loss = 0.65593593\n",
      "Iteration 7, loss = 0.63982045\n",
      "Iteration 8, loss = 0.62603083\n",
      "Iteration 9, loss = 0.61335805\n",
      "Iteration 10, loss = 0.60247473\n",
      "Iteration 11, loss = 0.59225953\n",
      "Iteration 12, loss = 0.58334154\n",
      "Iteration 13, loss = 0.57510604\n",
      "Iteration 14, loss = 0.56687287\n",
      "Iteration 15, loss = 0.55966327\n",
      "Iteration 16, loss = 0.55284724\n",
      "Iteration 17, loss = 0.54634849\n",
      "Iteration 18, loss = 0.54053469\n",
      "Iteration 19, loss = 0.53453555\n",
      "Iteration 20, loss = 0.52882436\n",
      "Iteration 1, loss = 1.30232384\n",
      "Iteration 2, loss = 0.81428143\n",
      "Iteration 3, loss = 0.74257992\n",
      "Iteration 4, loss = 0.69926236\n",
      "Iteration 5, loss = 0.67308736\n",
      "Iteration 6, loss = 0.65305730\n",
      "Iteration 7, loss = 0.63659734\n",
      "Iteration 8, loss = 0.62231579\n"
     ]
    },
    {
     "name": "stderr",
     "output_type": "stream",
     "text": [
      "D:\\anaconda\\envs\\tensorflow\\lib\\site-packages\\sklearn\\neural_network\\_multilayer_perceptron.py:702: ConvergenceWarning: Stochastic Optimizer: Maximum iterations (20) reached and the optimization hasn't converged yet.\n",
      "  warnings.warn(\n"
     ]
    },
    {
     "name": "stdout",
     "output_type": "stream",
     "text": [
      "Iteration 9, loss = 0.60939369\n",
      "Iteration 10, loss = 0.59813545\n",
      "Iteration 11, loss = 0.58776250\n",
      "Iteration 12, loss = 0.57863692\n",
      "Iteration 13, loss = 0.57008523\n",
      "Iteration 14, loss = 0.56177555\n",
      "Iteration 15, loss = 0.55448547\n",
      "Iteration 16, loss = 0.54734633\n",
      "Iteration 17, loss = 0.54083094\n",
      "Iteration 18, loss = 0.53478429\n",
      "Iteration 19, loss = 0.52859298\n",
      "Iteration 20, loss = 0.52285795\n",
      "Iteration 1, loss = 1.31938055\n",
      "Iteration 2, loss = 0.81589964\n",
      "Iteration 3, loss = 0.74426000\n"
     ]
    },
    {
     "name": "stderr",
     "output_type": "stream",
     "text": [
      "D:\\anaconda\\envs\\tensorflow\\lib\\site-packages\\sklearn\\neural_network\\_multilayer_perceptron.py:702: ConvergenceWarning: Stochastic Optimizer: Maximum iterations (20) reached and the optimization hasn't converged yet.\n",
      "  warnings.warn(\n"
     ]
    },
    {
     "name": "stdout",
     "output_type": "stream",
     "text": [
      "Iteration 4, loss = 0.69991725\n",
      "Iteration 5, loss = 0.67362254\n",
      "Iteration 6, loss = 0.65323523\n",
      "Iteration 7, loss = 0.63654438\n",
      "Iteration 8, loss = 0.62218160\n",
      "Iteration 9, loss = 0.60933157\n",
      "Iteration 10, loss = 0.59774119\n",
      "Iteration 11, loss = 0.58743651\n",
      "Iteration 12, loss = 0.57816463\n",
      "Iteration 13, loss = 0.56964824\n",
      "Iteration 14, loss = 0.56137141\n",
      "Iteration 15, loss = 0.55400361\n",
      "Iteration 16, loss = 0.54694212\n",
      "Iteration 17, loss = 0.54035712\n",
      "Iteration 18, loss = 0.53424227\n",
      "Iteration 19, loss = 0.52811002\n",
      "Iteration 20, loss = 0.52248150\n",
      "Iteration 1, loss = 1.31337940\n",
      "Iteration 2, loss = 0.81706981\n",
      "Iteration 3, loss = 0.74507470\n",
      "Iteration 4, loss = 0.70127325\n",
      "Iteration 5, loss = 0.67547887\n"
     ]
    },
    {
     "name": "stderr",
     "output_type": "stream",
     "text": [
      "D:\\anaconda\\envs\\tensorflow\\lib\\site-packages\\sklearn\\neural_network\\_multilayer_perceptron.py:702: ConvergenceWarning: Stochastic Optimizer: Maximum iterations (20) reached and the optimization hasn't converged yet.\n",
      "  warnings.warn(\n"
     ]
    },
    {
     "name": "stdout",
     "output_type": "stream",
     "text": [
      "Iteration 6, loss = 0.65537149\n",
      "Iteration 7, loss = 0.63912301\n",
      "Iteration 8, loss = 0.62504177\n",
      "Iteration 9, loss = 0.61275892\n",
      "Iteration 10, loss = 0.60119424\n",
      "Iteration 11, loss = 0.59117997\n",
      "Iteration 12, loss = 0.58216694\n",
      "Iteration 13, loss = 0.57331403\n",
      "Iteration 14, loss = 0.56518881\n",
      "Iteration 15, loss = 0.55787878\n",
      "Iteration 16, loss = 0.55063770\n",
      "Iteration 17, loss = 0.54424525\n",
      "Iteration 18, loss = 0.53804299\n",
      "Iteration 19, loss = 0.53191209\n",
      "Iteration 20, loss = 0.52617553\n",
      "Iteration 1, loss = 1.30908944\n",
      "Iteration 2, loss = 0.81500939\n"
     ]
    },
    {
     "name": "stderr",
     "output_type": "stream",
     "text": [
      "D:\\anaconda\\envs\\tensorflow\\lib\\site-packages\\sklearn\\neural_network\\_multilayer_perceptron.py:702: ConvergenceWarning: Stochastic Optimizer: Maximum iterations (20) reached and the optimization hasn't converged yet.\n",
      "  warnings.warn(\n"
     ]
    },
    {
     "name": "stdout",
     "output_type": "stream",
     "text": [
      "Iteration 3, loss = 0.74252783\n",
      "Iteration 4, loss = 0.69792142\n",
      "Iteration 5, loss = 0.67184290\n",
      "Iteration 6, loss = 0.65182559\n",
      "Iteration 7, loss = 0.63545337\n",
      "Iteration 8, loss = 0.62127857\n",
      "Iteration 9, loss = 0.60926980\n",
      "Iteration 10, loss = 0.59745726\n",
      "Iteration 11, loss = 0.58750929\n",
      "Iteration 12, loss = 0.57843891\n",
      "Iteration 13, loss = 0.56987842\n",
      "Iteration 14, loss = 0.56206157\n",
      "Iteration 15, loss = 0.55495825\n",
      "Iteration 16, loss = 0.54774569\n",
      "Iteration 17, loss = 0.54151448\n",
      "Iteration 18, loss = 0.53532445\n",
      "Iteration 19, loss = 0.52933225\n",
      "Iteration 20, loss = 0.52393949\n"
     ]
    },
    {
     "name": "stderr",
     "output_type": "stream",
     "text": [
      "D:\\anaconda\\envs\\tensorflow\\lib\\site-packages\\sklearn\\neural_network\\_multilayer_perceptron.py:702: ConvergenceWarning: Stochastic Optimizer: Maximum iterations (20) reached and the optimization hasn't converged yet.\n",
      "  warnings.warn(\n"
     ]
    },
    {
     "name": "stdout",
     "output_type": "stream",
     "text": [
      "Iteration 1, loss = 1.30052232\n",
      "Iteration 2, loss = 0.81450636\n",
      "Iteration 3, loss = 0.74451682\n",
      "Iteration 4, loss = 0.70065604\n",
      "Iteration 5, loss = 0.67469213\n",
      "Iteration 6, loss = 0.65454847\n",
      "Iteration 7, loss = 0.63816096\n",
      "Iteration 8, loss = 0.62392959\n",
      "Iteration 9, loss = 0.61147532\n",
      "Iteration 10, loss = 0.59987623\n",
      "Iteration 11, loss = 0.58989455\n",
      "Iteration 12, loss = 0.58051232\n",
      "Iteration 13, loss = 0.57201819\n",
      "Iteration 14, loss = 0.56401505\n",
      "Iteration 15, loss = 0.55681813\n",
      "Iteration 16, loss = 0.54963645\n",
      "Iteration 17, loss = 0.54316975\n",
      "Iteration 18, loss = 0.53679182\n",
      "Iteration 19, loss = 0.53082162\n",
      "Iteration 20, loss = 0.52545472\n",
      "Iteration 1, loss = 1.31146101\n",
      "Iteration 2, loss = 0.81674868\n",
      "Iteration 3, loss = 0.74112902\n",
      "Iteration 4, loss = 0.69766083\n",
      "Iteration 5, loss = 0.67118360\n",
      "Iteration 6, loss = 0.65112378\n"
     ]
    },
    {
     "name": "stderr",
     "output_type": "stream",
     "text": [
      "D:\\anaconda\\envs\\tensorflow\\lib\\site-packages\\sklearn\\neural_network\\_multilayer_perceptron.py:702: ConvergenceWarning: Stochastic Optimizer: Maximum iterations (20) reached and the optimization hasn't converged yet.\n",
      "  warnings.warn(\n"
     ]
    },
    {
     "name": "stdout",
     "output_type": "stream",
     "text": [
      "Iteration 7, loss = 0.63473901\n",
      "Iteration 8, loss = 0.62060237\n",
      "Iteration 9, loss = 0.60813615\n",
      "Iteration 10, loss = 0.59676253\n",
      "Iteration 11, loss = 0.58660214\n",
      "Iteration 12, loss = 0.57701577\n",
      "Iteration 13, loss = 0.56842207\n",
      "Iteration 14, loss = 0.56034189\n",
      "Iteration 15, loss = 0.55309954\n",
      "Iteration 16, loss = 0.54597084\n",
      "Iteration 17, loss = 0.53944482\n",
      "Iteration 18, loss = 0.53313124\n",
      "Iteration 19, loss = 0.52725528\n",
      "Iteration 20, loss = 0.52153025\n",
      "Iteration 1, loss = 1.31339424\n",
      "Iteration 2, loss = 0.82043406\n",
      "Iteration 3, loss = 0.74828928\n"
     ]
    },
    {
     "name": "stderr",
     "output_type": "stream",
     "text": [
      "D:\\anaconda\\envs\\tensorflow\\lib\\site-packages\\sklearn\\neural_network\\_multilayer_perceptron.py:702: ConvergenceWarning: Stochastic Optimizer: Maximum iterations (20) reached and the optimization hasn't converged yet.\n",
      "  warnings.warn(\n"
     ]
    },
    {
     "name": "stdout",
     "output_type": "stream",
     "text": [
      "Iteration 4, loss = 0.70543091\n",
      "Iteration 5, loss = 0.67870378\n",
      "Iteration 6, loss = 0.65871646\n",
      "Iteration 7, loss = 0.64221104\n",
      "Iteration 8, loss = 0.62814019\n",
      "Iteration 9, loss = 0.61560636\n",
      "Iteration 10, loss = 0.60424023\n",
      "Iteration 11, loss = 0.59412402\n",
      "Iteration 12, loss = 0.58454196\n",
      "Iteration 13, loss = 0.57572366\n",
      "Iteration 14, loss = 0.56759592\n",
      "Iteration 15, loss = 0.56015229\n",
      "Iteration 16, loss = 0.55296870\n",
      "Iteration 17, loss = 0.54633832\n",
      "Iteration 18, loss = 0.54013332\n",
      "Iteration 19, loss = 0.53422504\n",
      "Iteration 20, loss = 0.52840484\n"
     ]
    },
    {
     "name": "stderr",
     "output_type": "stream",
     "text": [
      "D:\\anaconda\\envs\\tensorflow\\lib\\site-packages\\sklearn\\neural_network\\_multilayer_perceptron.py:702: ConvergenceWarning: Stochastic Optimizer: Maximum iterations (20) reached and the optimization hasn't converged yet.\n",
      "  warnings.warn(\n",
      "D:\\anaconda\\envs\\tensorflow\\lib\\site-packages\\sklearn\\neural_network\\_multilayer_perceptron.py:559: ConvergenceWarning: lbfgs failed to converge (status=1):\n",
      "STOP: TOTAL NO. of ITERATIONS REACHED LIMIT.\n",
      "\n",
      "Increase the number of iterations (max_iter) or scale the data as shown in:\n",
      "    https://scikit-learn.org/stable/modules/preprocessing.html\n",
      "  self.n_iter_ = _check_optimize_result(\"lbfgs\", opt_res, self.max_iter)\n",
      "D:\\anaconda\\envs\\tensorflow\\lib\\site-packages\\sklearn\\neural_network\\_multilayer_perceptron.py:559: ConvergenceWarning: lbfgs failed to converge (status=1):\n",
      "STOP: TOTAL NO. of ITERATIONS REACHED LIMIT.\n",
      "\n",
      "Increase the number of iterations (max_iter) or scale the data as shown in:\n",
      "    https://scikit-learn.org/stable/modules/preprocessing.html\n",
      "  self.n_iter_ = _check_optimize_result(\"lbfgs\", opt_res, self.max_iter)\n",
      "D:\\anaconda\\envs\\tensorflow\\lib\\site-packages\\sklearn\\neural_network\\_multilayer_perceptron.py:559: ConvergenceWarning: lbfgs failed to converge (status=1):\n",
      "STOP: TOTAL NO. of ITERATIONS REACHED LIMIT.\n",
      "\n",
      "Increase the number of iterations (max_iter) or scale the data as shown in:\n",
      "    https://scikit-learn.org/stable/modules/preprocessing.html\n",
      "  self.n_iter_ = _check_optimize_result(\"lbfgs\", opt_res, self.max_iter)\n",
      "D:\\anaconda\\envs\\tensorflow\\lib\\site-packages\\sklearn\\neural_network\\_multilayer_perceptron.py:559: ConvergenceWarning: lbfgs failed to converge (status=1):\n",
      "STOP: TOTAL NO. of ITERATIONS REACHED LIMIT.\n",
      "\n",
      "Increase the number of iterations (max_iter) or scale the data as shown in:\n",
      "    https://scikit-learn.org/stable/modules/preprocessing.html\n",
      "  self.n_iter_ = _check_optimize_result(\"lbfgs\", opt_res, self.max_iter)\n",
      "D:\\anaconda\\envs\\tensorflow\\lib\\site-packages\\sklearn\\neural_network\\_multilayer_perceptron.py:559: ConvergenceWarning: lbfgs failed to converge (status=1):\n",
      "STOP: TOTAL NO. of ITERATIONS REACHED LIMIT.\n",
      "\n",
      "Increase the number of iterations (max_iter) or scale the data as shown in:\n",
      "    https://scikit-learn.org/stable/modules/preprocessing.html\n",
      "  self.n_iter_ = _check_optimize_result(\"lbfgs\", opt_res, self.max_iter)\n",
      "D:\\anaconda\\envs\\tensorflow\\lib\\site-packages\\sklearn\\neural_network\\_multilayer_perceptron.py:559: ConvergenceWarning: lbfgs failed to converge (status=1):\n",
      "STOP: TOTAL NO. of ITERATIONS REACHED LIMIT.\n",
      "\n",
      "Increase the number of iterations (max_iter) or scale the data as shown in:\n",
      "    https://scikit-learn.org/stable/modules/preprocessing.html\n",
      "  self.n_iter_ = _check_optimize_result(\"lbfgs\", opt_res, self.max_iter)\n",
      "D:\\anaconda\\envs\\tensorflow\\lib\\site-packages\\sklearn\\neural_network\\_multilayer_perceptron.py:559: ConvergenceWarning: lbfgs failed to converge (status=1):\n",
      "STOP: TOTAL NO. of ITERATIONS REACHED LIMIT.\n",
      "\n",
      "Increase the number of iterations (max_iter) or scale the data as shown in:\n",
      "    https://scikit-learn.org/stable/modules/preprocessing.html\n",
      "  self.n_iter_ = _check_optimize_result(\"lbfgs\", opt_res, self.max_iter)\n",
      "D:\\anaconda\\envs\\tensorflow\\lib\\site-packages\\sklearn\\neural_network\\_multilayer_perceptron.py:559: ConvergenceWarning: lbfgs failed to converge (status=1):\n",
      "STOP: TOTAL NO. of ITERATIONS REACHED LIMIT.\n",
      "\n",
      "Increase the number of iterations (max_iter) or scale the data as shown in:\n",
      "    https://scikit-learn.org/stable/modules/preprocessing.html\n",
      "  self.n_iter_ = _check_optimize_result(\"lbfgs\", opt_res, self.max_iter)\n",
      "D:\\anaconda\\envs\\tensorflow\\lib\\site-packages\\sklearn\\neural_network\\_multilayer_perceptron.py:559: ConvergenceWarning: lbfgs failed to converge (status=1):\n",
      "STOP: TOTAL NO. of ITERATIONS REACHED LIMIT.\n",
      "\n",
      "Increase the number of iterations (max_iter) or scale the data as shown in:\n",
      "    https://scikit-learn.org/stable/modules/preprocessing.html\n",
      "  self.n_iter_ = _check_optimize_result(\"lbfgs\", opt_res, self.max_iter)\n",
      "D:\\anaconda\\envs\\tensorflow\\lib\\site-packages\\sklearn\\neural_network\\_multilayer_perceptron.py:559: ConvergenceWarning: lbfgs failed to converge (status=1):\n",
      "STOP: TOTAL NO. of ITERATIONS REACHED LIMIT.\n",
      "\n",
      "Increase the number of iterations (max_iter) or scale the data as shown in:\n",
      "    https://scikit-learn.org/stable/modules/preprocessing.html\n",
      "  self.n_iter_ = _check_optimize_result(\"lbfgs\", opt_res, self.max_iter)\n"
     ]
    },
    {
     "name": "stdout",
     "output_type": "stream",
     "text": [
      "Iteration 1, loss = 0.67242275\n",
      "Iteration 2, loss = 0.52302317\n",
      "Iteration 3, loss = 0.44142092\n",
      "Iteration 4, loss = 0.38013350\n",
      "Iteration 5, loss = 0.33760661\n",
      "Iteration 6, loss = 0.30787633\n",
      "Iteration 7, loss = 0.28264579\n",
      "Iteration 8, loss = 0.26276939\n",
      "Iteration 9, loss = 0.24301601\n",
      "Iteration 10, loss = 0.22795135\n",
      "Iteration 11, loss = 0.21286504\n",
      "Iteration 12, loss = 0.20198683\n",
      "Iteration 13, loss = 0.18748338\n",
      "Iteration 14, loss = 0.17285375\n",
      "Iteration 15, loss = 0.16261681\n",
      "Iteration 16, loss = 0.15232466\n",
      "Iteration 17, loss = 0.14032508\n",
      "Iteration 18, loss = 0.13194968\n",
      "Iteration 19, loss = 0.12565202\n",
      "Iteration 20, loss = 0.11529538\n",
      "Iteration 1, loss = 0.67901819\n"
     ]
    },
    {
     "name": "stderr",
     "output_type": "stream",
     "text": [
      "D:\\anaconda\\envs\\tensorflow\\lib\\site-packages\\sklearn\\neural_network\\_multilayer_perceptron.py:702: ConvergenceWarning: Stochastic Optimizer: Maximum iterations (20) reached and the optimization hasn't converged yet.\n",
      "  warnings.warn(\n"
     ]
    },
    {
     "name": "stdout",
     "output_type": "stream",
     "text": [
      "Iteration 2, loss = 0.52774835\n",
      "Iteration 3, loss = 0.44481430\n",
      "Iteration 4, loss = 0.38327613\n",
      "Iteration 5, loss = 0.34046337\n",
      "Iteration 6, loss = 0.31247311\n",
      "Iteration 7, loss = 0.28667004\n",
      "Iteration 8, loss = 0.26650957\n",
      "Iteration 9, loss = 0.24673969\n",
      "Iteration 10, loss = 0.23247249\n",
      "Iteration 11, loss = 0.21825813\n",
      "Iteration 12, loss = 0.20398354\n",
      "Iteration 13, loss = 0.19069704\n",
      "Iteration 14, loss = 0.17742495\n",
      "Iteration 15, loss = 0.16690312\n",
      "Iteration 16, loss = 0.15682401\n",
      "Iteration 17, loss = 0.14429163\n",
      "Iteration 18, loss = 0.13389511\n",
      "Iteration 19, loss = 0.12629921\n",
      "Iteration 20, loss = 0.11685784\n",
      "Iteration 1, loss = 0.67603267\n",
      "Iteration 2, loss = 0.52869575\n",
      "Iteration 3, loss = 0.44635815\n"
     ]
    },
    {
     "name": "stderr",
     "output_type": "stream",
     "text": [
      "D:\\anaconda\\envs\\tensorflow\\lib\\site-packages\\sklearn\\neural_network\\_multilayer_perceptron.py:702: ConvergenceWarning: Stochastic Optimizer: Maximum iterations (20) reached and the optimization hasn't converged yet.\n",
      "  warnings.warn(\n"
     ]
    },
    {
     "name": "stdout",
     "output_type": "stream",
     "text": [
      "Iteration 4, loss = 0.38647953\n",
      "Iteration 5, loss = 0.34456347\n",
      "Iteration 6, loss = 0.31484593\n",
      "Iteration 7, loss = 0.28772536\n",
      "Iteration 8, loss = 0.26590694\n",
      "Iteration 9, loss = 0.24691891\n",
      "Iteration 10, loss = 0.23239832\n",
      "Iteration 11, loss = 0.21688876\n",
      "Iteration 12, loss = 0.20254747\n",
      "Iteration 13, loss = 0.18837707\n",
      "Iteration 14, loss = 0.17588775\n",
      "Iteration 15, loss = 0.16399838\n",
      "Iteration 16, loss = 0.15325625\n",
      "Iteration 17, loss = 0.14216111\n",
      "Iteration 18, loss = 0.13154809\n",
      "Iteration 19, loss = 0.12283620\n",
      "Iteration 20, loss = 0.11341283\n",
      "Iteration 1, loss = 0.67812291\n",
      "Iteration 2, loss = 0.52814740\n",
      "Iteration 3, loss = 0.44561902\n",
      "Iteration 4, loss = 0.38481185\n",
      "Iteration 5, loss = 0.34320220\n"
     ]
    },
    {
     "name": "stderr",
     "output_type": "stream",
     "text": [
      "D:\\anaconda\\envs\\tensorflow\\lib\\site-packages\\sklearn\\neural_network\\_multilayer_perceptron.py:702: ConvergenceWarning: Stochastic Optimizer: Maximum iterations (20) reached and the optimization hasn't converged yet.\n",
      "  warnings.warn(\n"
     ]
    },
    {
     "name": "stdout",
     "output_type": "stream",
     "text": [
      "Iteration 6, loss = 0.31310499\n",
      "Iteration 7, loss = 0.28461636\n",
      "Iteration 8, loss = 0.26432797\n",
      "Iteration 9, loss = 0.24675719\n",
      "Iteration 10, loss = 0.23290617\n",
      "Iteration 11, loss = 0.21769343\n",
      "Iteration 12, loss = 0.20175472\n",
      "Iteration 13, loss = 0.18867996\n",
      "Iteration 14, loss = 0.17634229\n",
      "Iteration 15, loss = 0.16542448\n",
      "Iteration 16, loss = 0.15581879\n",
      "Iteration 17, loss = 0.14488305\n",
      "Iteration 18, loss = 0.13361002\n",
      "Iteration 19, loss = 0.12483157\n",
      "Iteration 20, loss = 0.11645666\n",
      "Iteration 1, loss = 0.67417621\n"
     ]
    },
    {
     "name": "stderr",
     "output_type": "stream",
     "text": [
      "D:\\anaconda\\envs\\tensorflow\\lib\\site-packages\\sklearn\\neural_network\\_multilayer_perceptron.py:702: ConvergenceWarning: Stochastic Optimizer: Maximum iterations (20) reached and the optimization hasn't converged yet.\n",
      "  warnings.warn(\n"
     ]
    },
    {
     "name": "stdout",
     "output_type": "stream",
     "text": [
      "Iteration 2, loss = 0.52324534\n",
      "Iteration 3, loss = 0.44151691\n",
      "Iteration 4, loss = 0.38230328\n",
      "Iteration 5, loss = 0.34148927\n",
      "Iteration 6, loss = 0.31261039\n",
      "Iteration 7, loss = 0.28420566\n",
      "Iteration 8, loss = 0.26438598\n",
      "Iteration 9, loss = 0.24658758\n",
      "Iteration 10, loss = 0.23158217\n",
      "Iteration 11, loss = 0.21599562\n",
      "Iteration 12, loss = 0.19973929\n",
      "Iteration 13, loss = 0.18697264\n",
      "Iteration 14, loss = 0.17375500\n",
      "Iteration 15, loss = 0.16334115\n",
      "Iteration 16, loss = 0.15229921\n",
      "Iteration 17, loss = 0.14081963\n",
      "Iteration 18, loss = 0.12972548\n",
      "Iteration 19, loss = 0.12053861\n",
      "Iteration 20, loss = 0.11240529\n",
      "Iteration 1, loss = 0.67703671\n",
      "Iteration 2, loss = 0.52567822\n",
      "Iteration 3, loss = 0.44389982\n"
     ]
    },
    {
     "name": "stderr",
     "output_type": "stream",
     "text": [
      "D:\\anaconda\\envs\\tensorflow\\lib\\site-packages\\sklearn\\neural_network\\_multilayer_perceptron.py:702: ConvergenceWarning: Stochastic Optimizer: Maximum iterations (20) reached and the optimization hasn't converged yet.\n",
      "  warnings.warn(\n"
     ]
    },
    {
     "name": "stdout",
     "output_type": "stream",
     "text": [
      "Iteration 4, loss = 0.38342640\n",
      "Iteration 5, loss = 0.34179035\n",
      "Iteration 6, loss = 0.31416538\n",
      "Iteration 7, loss = 0.28521787\n",
      "Iteration 8, loss = 0.26522613\n",
      "Iteration 9, loss = 0.24656565\n",
      "Iteration 10, loss = 0.23174506\n",
      "Iteration 11, loss = 0.21682468\n",
      "Iteration 12, loss = 0.20071621\n",
      "Iteration 13, loss = 0.18819676\n",
      "Iteration 14, loss = 0.17721116\n",
      "Iteration 15, loss = 0.16482262\n",
      "Iteration 16, loss = 0.15347342\n",
      "Iteration 17, loss = 0.14296691\n",
      "Iteration 18, loss = 0.13357318\n",
      "Iteration 19, loss = 0.12410944\n",
      "Iteration 20, loss = 0.11557604\n",
      "Iteration 1, loss = 0.67548167\n",
      "Iteration 2, loss = 0.52204284\n",
      "Iteration 3, loss = 0.43899261\n",
      "Iteration 4, loss = 0.37787862\n"
     ]
    },
    {
     "name": "stderr",
     "output_type": "stream",
     "text": [
      "D:\\anaconda\\envs\\tensorflow\\lib\\site-packages\\sklearn\\neural_network\\_multilayer_perceptron.py:702: ConvergenceWarning: Stochastic Optimizer: Maximum iterations (20) reached and the optimization hasn't converged yet.\n",
      "  warnings.warn(\n"
     ]
    },
    {
     "name": "stdout",
     "output_type": "stream",
     "text": [
      "Iteration 5, loss = 0.33422305\n",
      "Iteration 6, loss = 0.30441030\n",
      "Iteration 7, loss = 0.27683098\n",
      "Iteration 8, loss = 0.25701057\n",
      "Iteration 9, loss = 0.23800096\n",
      "Iteration 10, loss = 0.22512573\n",
      "Iteration 11, loss = 0.20989758\n",
      "Iteration 12, loss = 0.19553886\n",
      "Iteration 13, loss = 0.18337251\n",
      "Iteration 14, loss = 0.17197472\n",
      "Iteration 15, loss = 0.15930956\n",
      "Iteration 16, loss = 0.14908416\n",
      "Iteration 17, loss = 0.13913882\n",
      "Iteration 18, loss = 0.12958285\n",
      "Iteration 19, loss = 0.11934086\n",
      "Iteration 20, loss = 0.11268955\n"
     ]
    },
    {
     "name": "stderr",
     "output_type": "stream",
     "text": [
      "D:\\anaconda\\envs\\tensorflow\\lib\\site-packages\\sklearn\\neural_network\\_multilayer_perceptron.py:702: ConvergenceWarning: Stochastic Optimizer: Maximum iterations (20) reached and the optimization hasn't converged yet.\n",
      "  warnings.warn(\n"
     ]
    },
    {
     "name": "stdout",
     "output_type": "stream",
     "text": [
      "Iteration 1, loss = 0.67348984\n",
      "Iteration 2, loss = 0.52378873\n",
      "Iteration 3, loss = 0.44156034\n",
      "Iteration 4, loss = 0.38308425\n",
      "Iteration 5, loss = 0.34148861\n",
      "Iteration 6, loss = 0.31230139\n",
      "Iteration 7, loss = 0.28583644\n",
      "Iteration 8, loss = 0.26605997\n",
      "Iteration 9, loss = 0.24667364\n",
      "Iteration 10, loss = 0.23212581\n",
      "Iteration 11, loss = 0.21783064\n",
      "Iteration 12, loss = 0.20244519\n",
      "Iteration 13, loss = 0.19078377\n",
      "Iteration 14, loss = 0.18055461\n",
      "Iteration 15, loss = 0.16749116\n",
      "Iteration 16, loss = 0.15697604\n",
      "Iteration 17, loss = 0.14595544\n",
      "Iteration 18, loss = 0.13539437\n",
      "Iteration 19, loss = 0.12505997\n",
      "Iteration 20, loss = 0.11647459\n",
      "Iteration 1, loss = 0.66985422\n",
      "Iteration 2, loss = 0.52076384\n",
      "Iteration 3, loss = 0.43881404\n",
      "Iteration 4, loss = 0.38132168\n",
      "Iteration 5, loss = 0.33781485\n",
      "Iteration 6, loss = 0.30746741\n",
      "Iteration 7, loss = 0.28467204\n"
     ]
    },
    {
     "name": "stderr",
     "output_type": "stream",
     "text": [
      "D:\\anaconda\\envs\\tensorflow\\lib\\site-packages\\sklearn\\neural_network\\_multilayer_perceptron.py:702: ConvergenceWarning: Stochastic Optimizer: Maximum iterations (20) reached and the optimization hasn't converged yet.\n",
      "  warnings.warn(\n"
     ]
    },
    {
     "name": "stdout",
     "output_type": "stream",
     "text": [
      "Iteration 8, loss = 0.26485790\n",
      "Iteration 9, loss = 0.24668263\n",
      "Iteration 10, loss = 0.23219270\n",
      "Iteration 11, loss = 0.21666401\n",
      "Iteration 12, loss = 0.20182600\n",
      "Iteration 13, loss = 0.19037611\n",
      "Iteration 14, loss = 0.17774722\n",
      "Iteration 15, loss = 0.16542658\n",
      "Iteration 16, loss = 0.15427696\n",
      "Iteration 17, loss = 0.14299442\n",
      "Iteration 18, loss = 0.13427844\n",
      "Iteration 19, loss = 0.12402171\n",
      "Iteration 20, loss = 0.11573791\n"
     ]
    },
    {
     "name": "stderr",
     "output_type": "stream",
     "text": [
      "D:\\anaconda\\envs\\tensorflow\\lib\\site-packages\\sklearn\\neural_network\\_multilayer_perceptron.py:702: ConvergenceWarning: Stochastic Optimizer: Maximum iterations (20) reached and the optimization hasn't converged yet.\n",
      "  warnings.warn(\n"
     ]
    },
    {
     "name": "stdout",
     "output_type": "stream",
     "text": [
      "Iteration 1, loss = 0.67298593\n",
      "Iteration 2, loss = 0.52755316\n",
      "Iteration 3, loss = 0.44695739\n",
      "Iteration 4, loss = 0.38885655\n",
      "Iteration 5, loss = 0.34505062\n",
      "Iteration 6, loss = 0.31425487\n",
      "Iteration 7, loss = 0.28989402\n",
      "Iteration 8, loss = 0.26887209\n",
      "Iteration 9, loss = 0.25128609\n",
      "Iteration 10, loss = 0.23743781\n",
      "Iteration 11, loss = 0.22065553\n",
      "Iteration 12, loss = 0.20484088\n",
      "Iteration 13, loss = 0.19257123\n",
      "Iteration 14, loss = 0.17899784\n",
      "Iteration 15, loss = 0.16685021\n",
      "Iteration 16, loss = 0.15543184\n",
      "Iteration 17, loss = 0.14430669\n",
      "Iteration 18, loss = 0.13581155\n",
      "Iteration 19, loss = 0.12446014\n",
      "Iteration 20, loss = 0.11606327\n"
     ]
    },
    {
     "name": "stderr",
     "output_type": "stream",
     "text": [
      "D:\\anaconda\\envs\\tensorflow\\lib\\site-packages\\sklearn\\neural_network\\_multilayer_perceptron.py:702: ConvergenceWarning: Stochastic Optimizer: Maximum iterations (20) reached and the optimization hasn't converged yet.\n",
      "  warnings.warn(\n"
     ]
    },
    {
     "name": "stdout",
     "output_type": "stream",
     "text": [
      "Iteration 1, loss = 0.76413890\n",
      "Iteration 2, loss = 0.71942683\n",
      "Iteration 3, loss = 0.68472424\n",
      "Iteration 4, loss = 0.65777543\n",
      "Iteration 5, loss = 0.63858255\n",
      "Iteration 6, loss = 0.62294069\n",
      "Iteration 7, loss = 0.60968094\n",
      "Iteration 8, loss = 0.59828072\n",
      "Iteration 9, loss = 0.58690988\n",
      "Iteration 10, loss = 0.57756823\n",
      "Iteration 11, loss = 0.56798170\n",
      "Iteration 12, loss = 0.55948331\n",
      "Iteration 13, loss = 0.55120890\n",
      "Iteration 14, loss = 0.54325696\n",
      "Iteration 15, loss = 0.53535806\n",
      "Iteration 16, loss = 0.52787369\n",
      "Iteration 17, loss = 0.52062373\n",
      "Iteration 18, loss = 0.51409953\n",
      "Iteration 19, loss = 0.50727588\n",
      "Iteration 20, loss = 0.50062799\n",
      "Iteration 1, loss = 0.76638025\n",
      "Iteration 2, loss = 0.72196748\n",
      "Iteration 3, loss = 0.68781328\n"
     ]
    },
    {
     "name": "stderr",
     "output_type": "stream",
     "text": [
      "D:\\anaconda\\envs\\tensorflow\\lib\\site-packages\\sklearn\\neural_network\\_multilayer_perceptron.py:702: ConvergenceWarning: Stochastic Optimizer: Maximum iterations (20) reached and the optimization hasn't converged yet.\n",
      "  warnings.warn(\n"
     ]
    },
    {
     "name": "stdout",
     "output_type": "stream",
     "text": [
      "Iteration 4, loss = 0.66132281\n",
      "Iteration 5, loss = 0.64211336\n",
      "Iteration 6, loss = 0.62671824\n",
      "Iteration 7, loss = 0.61330054\n",
      "Iteration 8, loss = 0.60205636\n",
      "Iteration 9, loss = 0.59104974\n",
      "Iteration 10, loss = 0.58172646\n",
      "Iteration 11, loss = 0.57227023\n",
      "Iteration 12, loss = 0.56386987\n",
      "Iteration 13, loss = 0.55577504\n",
      "Iteration 14, loss = 0.54814855\n",
      "Iteration 15, loss = 0.54040930\n",
      "Iteration 16, loss = 0.53300577\n",
      "Iteration 17, loss = 0.52578929\n",
      "Iteration 18, loss = 0.51916106\n",
      "Iteration 19, loss = 0.51232061\n",
      "Iteration 20, loss = 0.50567249\n",
      "Iteration 1, loss = 0.76291787\n",
      "Iteration 2, loss = 0.71952045\n",
      "Iteration 3, loss = 0.68614444\n",
      "Iteration 4, loss = 0.66026178\n"
     ]
    },
    {
     "name": "stderr",
     "output_type": "stream",
     "text": [
      "D:\\anaconda\\envs\\tensorflow\\lib\\site-packages\\sklearn\\neural_network\\_multilayer_perceptron.py:702: ConvergenceWarning: Stochastic Optimizer: Maximum iterations (20) reached and the optimization hasn't converged yet.\n",
      "  warnings.warn(\n"
     ]
    },
    {
     "name": "stdout",
     "output_type": "stream",
     "text": [
      "Iteration 5, loss = 0.64159996\n",
      "Iteration 6, loss = 0.62635523\n",
      "Iteration 7, loss = 0.61317977\n",
      "Iteration 8, loss = 0.60208051\n",
      "Iteration 9, loss = 0.59164572\n",
      "Iteration 10, loss = 0.58220379\n",
      "Iteration 11, loss = 0.57293078\n",
      "Iteration 12, loss = 0.56458850\n",
      "Iteration 13, loss = 0.55673453\n",
      "Iteration 14, loss = 0.54898281\n",
      "Iteration 15, loss = 0.54123102\n",
      "Iteration 16, loss = 0.53392292\n",
      "Iteration 17, loss = 0.52688232\n",
      "Iteration 18, loss = 0.52003932\n",
      "Iteration 19, loss = 0.51321408\n",
      "Iteration 20, loss = 0.50670420\n",
      "Iteration 1, loss = 0.76556878\n",
      "Iteration 2, loss = 0.72134416\n"
     ]
    },
    {
     "name": "stderr",
     "output_type": "stream",
     "text": [
      "D:\\anaconda\\envs\\tensorflow\\lib\\site-packages\\sklearn\\neural_network\\_multilayer_perceptron.py:702: ConvergenceWarning: Stochastic Optimizer: Maximum iterations (20) reached and the optimization hasn't converged yet.\n",
      "  warnings.warn(\n"
     ]
    },
    {
     "name": "stdout",
     "output_type": "stream",
     "text": [
      "Iteration 3, loss = 0.68708254\n",
      "Iteration 4, loss = 0.66052931\n",
      "Iteration 5, loss = 0.64143936\n",
      "Iteration 6, loss = 0.62578717\n",
      "Iteration 7, loss = 0.61231576\n",
      "Iteration 8, loss = 0.60097837\n",
      "Iteration 9, loss = 0.59033290\n",
      "Iteration 10, loss = 0.58062647\n",
      "Iteration 11, loss = 0.57116582\n",
      "Iteration 12, loss = 0.56253195\n",
      "Iteration 13, loss = 0.55448740\n",
      "Iteration 14, loss = 0.54653344\n",
      "Iteration 15, loss = 0.53853154\n",
      "Iteration 16, loss = 0.53116065\n",
      "Iteration 17, loss = 0.52405372\n",
      "Iteration 18, loss = 0.51719642\n",
      "Iteration 19, loss = 0.51028046\n",
      "Iteration 20, loss = 0.50344135\n",
      "Iteration 1, loss = 0.76280295\n",
      "Iteration 2, loss = 0.71692286\n"
     ]
    },
    {
     "name": "stderr",
     "output_type": "stream",
     "text": [
      "D:\\anaconda\\envs\\tensorflow\\lib\\site-packages\\sklearn\\neural_network\\_multilayer_perceptron.py:702: ConvergenceWarning: Stochastic Optimizer: Maximum iterations (20) reached and the optimization hasn't converged yet.\n",
      "  warnings.warn(\n"
     ]
    },
    {
     "name": "stdout",
     "output_type": "stream",
     "text": [
      "Iteration 3, loss = 0.68278872\n",
      "Iteration 4, loss = 0.65614646\n",
      "Iteration 5, loss = 0.63721566\n",
      "Iteration 6, loss = 0.62157012\n",
      "Iteration 7, loss = 0.60816035\n",
      "Iteration 8, loss = 0.59664824\n",
      "Iteration 9, loss = 0.58620721\n",
      "Iteration 10, loss = 0.57640169\n",
      "Iteration 11, loss = 0.56680301\n",
      "Iteration 12, loss = 0.55818104\n",
      "Iteration 13, loss = 0.55044473\n",
      "Iteration 14, loss = 0.54229310\n",
      "Iteration 15, loss = 0.53460249\n",
      "Iteration 16, loss = 0.52713265\n",
      "Iteration 17, loss = 0.52007190\n",
      "Iteration 18, loss = 0.51311801\n",
      "Iteration 19, loss = 0.50628672\n",
      "Iteration 20, loss = 0.49941476\n",
      "Iteration 1, loss = 0.76519373\n",
      "Iteration 2, loss = 0.71991974\n",
      "Iteration 3, loss = 0.68597247\n"
     ]
    },
    {
     "name": "stderr",
     "output_type": "stream",
     "text": [
      "D:\\anaconda\\envs\\tensorflow\\lib\\site-packages\\sklearn\\neural_network\\_multilayer_perceptron.py:702: ConvergenceWarning: Stochastic Optimizer: Maximum iterations (20) reached and the optimization hasn't converged yet.\n",
      "  warnings.warn(\n"
     ]
    },
    {
     "name": "stdout",
     "output_type": "stream",
     "text": [
      "Iteration 4, loss = 0.65925836\n",
      "Iteration 5, loss = 0.64007513\n",
      "Iteration 6, loss = 0.62445073\n",
      "Iteration 7, loss = 0.61120456\n",
      "Iteration 8, loss = 0.59964948\n",
      "Iteration 9, loss = 0.58933931\n",
      "Iteration 10, loss = 0.57978272\n",
      "Iteration 11, loss = 0.57035558\n",
      "Iteration 12, loss = 0.56178974\n",
      "Iteration 13, loss = 0.55414458\n",
      "Iteration 14, loss = 0.54584484\n",
      "Iteration 15, loss = 0.53826702\n",
      "Iteration 16, loss = 0.53090407\n",
      "Iteration 17, loss = 0.52372512\n",
      "Iteration 18, loss = 0.51699178\n",
      "Iteration 19, loss = 0.51002272\n",
      "Iteration 20, loss = 0.50322339\n",
      "Iteration 1, loss = 0.76733757\n",
      "Iteration 2, loss = 0.72002508\n"
     ]
    },
    {
     "name": "stderr",
     "output_type": "stream",
     "text": [
      "D:\\anaconda\\envs\\tensorflow\\lib\\site-packages\\sklearn\\neural_network\\_multilayer_perceptron.py:702: ConvergenceWarning: Stochastic Optimizer: Maximum iterations (20) reached and the optimization hasn't converged yet.\n",
      "  warnings.warn(\n"
     ]
    },
    {
     "name": "stdout",
     "output_type": "stream",
     "text": [
      "Iteration 3, loss = 0.68439849\n",
      "Iteration 4, loss = 0.65711989\n",
      "Iteration 5, loss = 0.63771627\n",
      "Iteration 6, loss = 0.62204370\n",
      "Iteration 7, loss = 0.60859858\n",
      "Iteration 8, loss = 0.59697434\n",
      "Iteration 9, loss = 0.58637861\n",
      "Iteration 10, loss = 0.57686399\n",
      "Iteration 11, loss = 0.56743212\n",
      "Iteration 12, loss = 0.55897578\n",
      "Iteration 13, loss = 0.55108701\n",
      "Iteration 14, loss = 0.54284804\n",
      "Iteration 15, loss = 0.53505698\n",
      "Iteration 16, loss = 0.52800227\n",
      "Iteration 17, loss = 0.52057963\n",
      "Iteration 18, loss = 0.51394603\n",
      "Iteration 19, loss = 0.50713218\n",
      "Iteration 20, loss = 0.50015471\n",
      "Iteration 1, loss = 0.76174391\n",
      "Iteration 2, loss = 0.71798069\n",
      "Iteration 3, loss = 0.68436291\n",
      "Iteration 4, loss = 0.65908341\n",
      "Iteration 5, loss = 0.64012936\n",
      "Iteration 6, loss = 0.62467435\n",
      "Iteration 7, loss = 0.61137002\n"
     ]
    },
    {
     "name": "stderr",
     "output_type": "stream",
     "text": [
      "D:\\anaconda\\envs\\tensorflow\\lib\\site-packages\\sklearn\\neural_network\\_multilayer_perceptron.py:702: ConvergenceWarning: Stochastic Optimizer: Maximum iterations (20) reached and the optimization hasn't converged yet.\n",
      "  warnings.warn(\n"
     ]
    },
    {
     "name": "stdout",
     "output_type": "stream",
     "text": [
      "Iteration 8, loss = 0.59973660\n",
      "Iteration 9, loss = 0.58908827\n",
      "Iteration 10, loss = 0.57949700\n",
      "Iteration 11, loss = 0.56997298\n",
      "Iteration 12, loss = 0.56133474\n",
      "Iteration 13, loss = 0.55328019\n",
      "Iteration 14, loss = 0.54525225\n",
      "Iteration 15, loss = 0.53709253\n",
      "Iteration 16, loss = 0.53015682\n",
      "Iteration 17, loss = 0.52238128\n",
      "Iteration 18, loss = 0.51542512\n",
      "Iteration 19, loss = 0.50853237\n",
      "Iteration 20, loss = 0.50172404\n"
     ]
    },
    {
     "name": "stderr",
     "output_type": "stream",
     "text": [
      "D:\\anaconda\\envs\\tensorflow\\lib\\site-packages\\sklearn\\neural_network\\_multilayer_perceptron.py:702: ConvergenceWarning: Stochastic Optimizer: Maximum iterations (20) reached and the optimization hasn't converged yet.\n",
      "  warnings.warn(\n"
     ]
    },
    {
     "name": "stdout",
     "output_type": "stream",
     "text": [
      "Iteration 1, loss = 0.76101565\n",
      "Iteration 2, loss = 0.71569521\n",
      "Iteration 3, loss = 0.68108353\n",
      "Iteration 4, loss = 0.65516605\n",
      "Iteration 5, loss = 0.63622343\n",
      "Iteration 6, loss = 0.62043249\n",
      "Iteration 7, loss = 0.60739536\n",
      "Iteration 8, loss = 0.59569928\n",
      "Iteration 9, loss = 0.58530716\n",
      "Iteration 10, loss = 0.57547359\n",
      "Iteration 11, loss = 0.56599571\n",
      "Iteration 12, loss = 0.55760843\n",
      "Iteration 13, loss = 0.54925184\n",
      "Iteration 14, loss = 0.54177906\n",
      "Iteration 15, loss = 0.53373468\n",
      "Iteration 16, loss = 0.52595326\n",
      "Iteration 17, loss = 0.51902309\n",
      "Iteration 18, loss = 0.51180406\n",
      "Iteration 19, loss = 0.50525090\n",
      "Iteration 20, loss = 0.49860225\n",
      "Iteration 1, loss = 0.76025523\n",
      "Iteration 2, loss = 0.71793783\n",
      "Iteration 3, loss = 0.68475144\n"
     ]
    },
    {
     "name": "stderr",
     "output_type": "stream",
     "text": [
      "D:\\anaconda\\envs\\tensorflow\\lib\\site-packages\\sklearn\\neural_network\\_multilayer_perceptron.py:702: ConvergenceWarning: Stochastic Optimizer: Maximum iterations (20) reached and the optimization hasn't converged yet.\n",
      "  warnings.warn(\n"
     ]
    },
    {
     "name": "stdout",
     "output_type": "stream",
     "text": [
      "Iteration 4, loss = 0.65965977\n",
      "Iteration 5, loss = 0.64106573\n",
      "Iteration 6, loss = 0.62565037\n",
      "Iteration 7, loss = 0.61260804\n",
      "Iteration 8, loss = 0.60120218\n",
      "Iteration 9, loss = 0.59086518\n",
      "Iteration 10, loss = 0.58126171\n",
      "Iteration 11, loss = 0.57212444\n",
      "Iteration 12, loss = 0.56399217\n",
      "Iteration 13, loss = 0.55601335\n",
      "Iteration 14, loss = 0.54853427\n",
      "Iteration 15, loss = 0.54106549\n",
      "Iteration 16, loss = 0.53341923\n",
      "Iteration 17, loss = 0.52667904\n",
      "Iteration 18, loss = 0.51948679\n",
      "Iteration 19, loss = 0.51308737\n",
      "Iteration 20, loss = 0.50662292\n"
     ]
    },
    {
     "name": "stderr",
     "output_type": "stream",
     "text": [
      "D:\\anaconda\\envs\\tensorflow\\lib\\site-packages\\sklearn\\neural_network\\_multilayer_perceptron.py:702: ConvergenceWarning: Stochastic Optimizer: Maximum iterations (20) reached and the optimization hasn't converged yet.\n",
      "  warnings.warn(\n",
      "D:\\anaconda\\envs\\tensorflow\\lib\\site-packages\\sklearn\\neural_network\\_multilayer_perceptron.py:559: ConvergenceWarning: lbfgs failed to converge (status=1):\n",
      "STOP: TOTAL NO. of ITERATIONS REACHED LIMIT.\n",
      "\n",
      "Increase the number of iterations (max_iter) or scale the data as shown in:\n",
      "    https://scikit-learn.org/stable/modules/preprocessing.html\n",
      "  self.n_iter_ = _check_optimize_result(\"lbfgs\", opt_res, self.max_iter)\n",
      "D:\\anaconda\\envs\\tensorflow\\lib\\site-packages\\sklearn\\neural_network\\_multilayer_perceptron.py:559: ConvergenceWarning: lbfgs failed to converge (status=1):\n",
      "STOP: TOTAL NO. of ITERATIONS REACHED LIMIT.\n",
      "\n",
      "Increase the number of iterations (max_iter) or scale the data as shown in:\n",
      "    https://scikit-learn.org/stable/modules/preprocessing.html\n",
      "  self.n_iter_ = _check_optimize_result(\"lbfgs\", opt_res, self.max_iter)\n",
      "D:\\anaconda\\envs\\tensorflow\\lib\\site-packages\\sklearn\\neural_network\\_multilayer_perceptron.py:559: ConvergenceWarning: lbfgs failed to converge (status=1):\n",
      "STOP: TOTAL NO. of ITERATIONS REACHED LIMIT.\n",
      "\n",
      "Increase the number of iterations (max_iter) or scale the data as shown in:\n",
      "    https://scikit-learn.org/stable/modules/preprocessing.html\n",
      "  self.n_iter_ = _check_optimize_result(\"lbfgs\", opt_res, self.max_iter)\n",
      "D:\\anaconda\\envs\\tensorflow\\lib\\site-packages\\sklearn\\neural_network\\_multilayer_perceptron.py:559: ConvergenceWarning: lbfgs failed to converge (status=1):\n",
      "STOP: TOTAL NO. of ITERATIONS REACHED LIMIT.\n",
      "\n",
      "Increase the number of iterations (max_iter) or scale the data as shown in:\n",
      "    https://scikit-learn.org/stable/modules/preprocessing.html\n",
      "  self.n_iter_ = _check_optimize_result(\"lbfgs\", opt_res, self.max_iter)\n",
      "D:\\anaconda\\envs\\tensorflow\\lib\\site-packages\\sklearn\\neural_network\\_multilayer_perceptron.py:559: ConvergenceWarning: lbfgs failed to converge (status=1):\n",
      "STOP: TOTAL NO. of ITERATIONS REACHED LIMIT.\n",
      "\n",
      "Increase the number of iterations (max_iter) or scale the data as shown in:\n",
      "    https://scikit-learn.org/stable/modules/preprocessing.html\n",
      "  self.n_iter_ = _check_optimize_result(\"lbfgs\", opt_res, self.max_iter)\n",
      "D:\\anaconda\\envs\\tensorflow\\lib\\site-packages\\sklearn\\neural_network\\_multilayer_perceptron.py:559: ConvergenceWarning: lbfgs failed to converge (status=1):\n",
      "STOP: TOTAL NO. of ITERATIONS REACHED LIMIT.\n",
      "\n",
      "Increase the number of iterations (max_iter) or scale the data as shown in:\n",
      "    https://scikit-learn.org/stable/modules/preprocessing.html\n",
      "  self.n_iter_ = _check_optimize_result(\"lbfgs\", opt_res, self.max_iter)\n",
      "D:\\anaconda\\envs\\tensorflow\\lib\\site-packages\\sklearn\\neural_network\\_multilayer_perceptron.py:559: ConvergenceWarning: lbfgs failed to converge (status=1):\n",
      "STOP: TOTAL NO. of ITERATIONS REACHED LIMIT.\n",
      "\n",
      "Increase the number of iterations (max_iter) or scale the data as shown in:\n",
      "    https://scikit-learn.org/stable/modules/preprocessing.html\n",
      "  self.n_iter_ = _check_optimize_result(\"lbfgs\", opt_res, self.max_iter)\n",
      "D:\\anaconda\\envs\\tensorflow\\lib\\site-packages\\sklearn\\neural_network\\_multilayer_perceptron.py:559: ConvergenceWarning: lbfgs failed to converge (status=1):\n",
      "STOP: TOTAL NO. of ITERATIONS REACHED LIMIT.\n",
      "\n",
      "Increase the number of iterations (max_iter) or scale the data as shown in:\n",
      "    https://scikit-learn.org/stable/modules/preprocessing.html\n",
      "  self.n_iter_ = _check_optimize_result(\"lbfgs\", opt_res, self.max_iter)\n",
      "D:\\anaconda\\envs\\tensorflow\\lib\\site-packages\\sklearn\\neural_network\\_multilayer_perceptron.py:559: ConvergenceWarning: lbfgs failed to converge (status=1):\n",
      "STOP: TOTAL NO. of ITERATIONS REACHED LIMIT.\n",
      "\n",
      "Increase the number of iterations (max_iter) or scale the data as shown in:\n",
      "    https://scikit-learn.org/stable/modules/preprocessing.html\n",
      "  self.n_iter_ = _check_optimize_result(\"lbfgs\", opt_res, self.max_iter)\n",
      "D:\\anaconda\\envs\\tensorflow\\lib\\site-packages\\sklearn\\neural_network\\_multilayer_perceptron.py:559: ConvergenceWarning: lbfgs failed to converge (status=1):\n",
      "STOP: TOTAL NO. of ITERATIONS REACHED LIMIT.\n",
      "\n",
      "Increase the number of iterations (max_iter) or scale the data as shown in:\n",
      "    https://scikit-learn.org/stable/modules/preprocessing.html\n",
      "  self.n_iter_ = _check_optimize_result(\"lbfgs\", opt_res, self.max_iter)\n"
     ]
    },
    {
     "name": "stdout",
     "output_type": "stream",
     "text": [
      "Iteration 1, loss = 0.93715078\n",
      "Iteration 2, loss = 0.91610942\n",
      "Iteration 3, loss = 0.89998086\n",
      "Iteration 4, loss = 0.88784252\n",
      "Iteration 5, loss = 0.87833491\n",
      "Iteration 6, loss = 0.87081720\n",
      "Iteration 7, loss = 0.86440312\n",
      "Iteration 8, loss = 0.85872481\n",
      "Iteration 9, loss = 0.85366495\n",
      "Iteration 10, loss = 0.84890458\n",
      "Iteration 11, loss = 0.84438854\n",
      "Iteration 12, loss = 0.84012210\n",
      "Iteration 13, loss = 0.83588543\n",
      "Iteration 14, loss = 0.83172915\n",
      "Iteration 15, loss = 0.82768044\n",
      "Iteration 16, loss = 0.82362614\n",
      "Iteration 17, loss = 0.81958031\n",
      "Iteration 18, loss = 0.81547484\n",
      "Iteration 19, loss = 0.81126131\n",
      "Iteration 20, loss = 0.80683510\n",
      "Iteration 1, loss = 0.93236705\n",
      "Iteration 2, loss = 0.91144244\n",
      "Iteration 3, loss = 0.89534056\n",
      "Iteration 4, loss = 0.88325667\n",
      "Iteration 5, loss = 0.87382269\n",
      "Iteration 6, loss = 0.86632005\n",
      "Iteration 7, loss = 0.85990817\n",
      "Iteration 8, loss = 0.85427089\n",
      "Iteration 9, loss = 0.84926351\n",
      "Iteration 10, loss = 0.84460968\n",
      "Iteration 11, loss = 0.84016144\n",
      "Iteration 12, loss = 0.83593484\n",
      "Iteration 13, loss = 0.83180704\n",
      "Iteration 14, loss = 0.82774271\n",
      "Iteration 15, loss = 0.82379529\n",
      "Iteration 16, loss = 0.81987365\n",
      "Iteration 17, loss = 0.81596859\n",
      "Iteration 18, loss = 0.81204537\n",
      "Iteration 19, loss = 0.80806464\n"
     ]
    },
    {
     "name": "stderr",
     "output_type": "stream",
     "text": [
      "D:\\anaconda\\envs\\tensorflow\\lib\\site-packages\\sklearn\\neural_network\\_multilayer_perceptron.py:702: ConvergenceWarning: Stochastic Optimizer: Maximum iterations (20) reached and the optimization hasn't converged yet.\n",
      "  warnings.warn(\n"
     ]
    },
    {
     "name": "stdout",
     "output_type": "stream",
     "text": [
      "Iteration 20, loss = 0.80394869\n",
      "Iteration 1, loss = 0.92752456\n",
      "Iteration 2, loss = 0.90702688\n",
      "Iteration 3, loss = 0.89136265\n",
      "Iteration 4, loss = 0.87961233\n",
      "Iteration 5, loss = 0.87035968\n",
      "Iteration 6, loss = 0.86305284\n",
      "Iteration 7, loss = 0.85676900\n",
      "Iteration 8, loss = 0.85123022\n",
      "Iteration 9, loss = 0.84628719\n",
      "Iteration 10, loss = 0.84169590\n",
      "Iteration 11, loss = 0.83732382\n",
      "Iteration 12, loss = 0.83313233\n",
      "Iteration 13, loss = 0.82905071\n",
      "Iteration 14, loss = 0.82503214\n",
      "Iteration 15, loss = 0.82108565\n"
     ]
    },
    {
     "name": "stderr",
     "output_type": "stream",
     "text": [
      "D:\\anaconda\\envs\\tensorflow\\lib\\site-packages\\sklearn\\neural_network\\_multilayer_perceptron.py:702: ConvergenceWarning: Stochastic Optimizer: Maximum iterations (20) reached and the optimization hasn't converged yet.\n",
      "  warnings.warn(\n"
     ]
    },
    {
     "name": "stdout",
     "output_type": "stream",
     "text": [
      "Iteration 16, loss = 0.81717900\n",
      "Iteration 17, loss = 0.81325931\n",
      "Iteration 18, loss = 0.80927901\n",
      "Iteration 19, loss = 0.80521286\n",
      "Iteration 20, loss = 0.80097072\n",
      "Iteration 1, loss = 0.93613335\n",
      "Iteration 2, loss = 0.91497935\n",
      "Iteration 3, loss = 0.89884428\n",
      "Iteration 4, loss = 0.88673831\n",
      "Iteration 5, loss = 0.87721186\n",
      "Iteration 6, loss = 0.86966501\n",
      "Iteration 7, loss = 0.86322658\n",
      "Iteration 8, loss = 0.85754701\n",
      "Iteration 9, loss = 0.85247868\n",
      "Iteration 10, loss = 0.84776471\n",
      "Iteration 11, loss = 0.84332512\n"
     ]
    },
    {
     "name": "stderr",
     "output_type": "stream",
     "text": [
      "D:\\anaconda\\envs\\tensorflow\\lib\\site-packages\\sklearn\\neural_network\\_multilayer_perceptron.py:702: ConvergenceWarning: Stochastic Optimizer: Maximum iterations (20) reached and the optimization hasn't converged yet.\n",
      "  warnings.warn(\n"
     ]
    },
    {
     "name": "stdout",
     "output_type": "stream",
     "text": [
      "Iteration 12, loss = 0.83904097\n",
      "Iteration 13, loss = 0.83486270\n",
      "Iteration 14, loss = 0.83080540\n",
      "Iteration 15, loss = 0.82677896\n",
      "Iteration 16, loss = 0.82287522\n",
      "Iteration 17, loss = 0.81895325\n",
      "Iteration 18, loss = 0.81505961\n",
      "Iteration 19, loss = 0.81111131\n",
      "Iteration 20, loss = 0.80712542\n",
      "Iteration 1, loss = 0.92737092\n",
      "Iteration 2, loss = 0.90665881\n",
      "Iteration 3, loss = 0.89091612\n",
      "Iteration 4, loss = 0.87911822\n",
      "Iteration 5, loss = 0.86976536\n",
      "Iteration 6, loss = 0.86243341\n",
      "Iteration 7, loss = 0.85611897\n"
     ]
    },
    {
     "name": "stderr",
     "output_type": "stream",
     "text": [
      "D:\\anaconda\\envs\\tensorflow\\lib\\site-packages\\sklearn\\neural_network\\_multilayer_perceptron.py:702: ConvergenceWarning: Stochastic Optimizer: Maximum iterations (20) reached and the optimization hasn't converged yet.\n",
      "  warnings.warn(\n"
     ]
    },
    {
     "name": "stdout",
     "output_type": "stream",
     "text": [
      "Iteration 8, loss = 0.85063585\n",
      "Iteration 9, loss = 0.84568770\n",
      "Iteration 10, loss = 0.84114397\n",
      "Iteration 11, loss = 0.83677874\n",
      "Iteration 12, loss = 0.83259959\n",
      "Iteration 13, loss = 0.82847729\n",
      "Iteration 14, loss = 0.82444547\n",
      "Iteration 15, loss = 0.82039360\n",
      "Iteration 16, loss = 0.81636949\n",
      "Iteration 17, loss = 0.81223160\n",
      "Iteration 18, loss = 0.80799777\n",
      "Iteration 19, loss = 0.80349318\n",
      "Iteration 20, loss = 0.79879237\n",
      "Iteration 1, loss = 0.93273059\n",
      "Iteration 2, loss = 0.91192073\n",
      "Iteration 3, loss = 0.89596269\n"
     ]
    },
    {
     "name": "stderr",
     "output_type": "stream",
     "text": [
      "D:\\anaconda\\envs\\tensorflow\\lib\\site-packages\\sklearn\\neural_network\\_multilayer_perceptron.py:702: ConvergenceWarning: Stochastic Optimizer: Maximum iterations (20) reached and the optimization hasn't converged yet.\n",
      "  warnings.warn(\n"
     ]
    },
    {
     "name": "stdout",
     "output_type": "stream",
     "text": [
      "Iteration 4, loss = 0.88405957\n",
      "Iteration 5, loss = 0.87465585\n",
      "Iteration 6, loss = 0.86722316\n",
      "Iteration 7, loss = 0.86080741\n",
      "Iteration 8, loss = 0.85530763\n",
      "Iteration 9, loss = 0.85022382\n",
      "Iteration 10, loss = 0.84561996\n",
      "Iteration 11, loss = 0.84119811\n",
      "Iteration 12, loss = 0.83693356\n",
      "Iteration 13, loss = 0.83278044\n",
      "Iteration 14, loss = 0.82874072\n",
      "Iteration 15, loss = 0.82465367\n",
      "Iteration 16, loss = 0.82070876\n",
      "Iteration 17, loss = 0.81664650\n",
      "Iteration 18, loss = 0.81261726\n",
      "Iteration 19, loss = 0.80840484\n",
      "Iteration 20, loss = 0.80402088\n",
      "Iteration 1, loss = 0.93672050\n",
      "Iteration 2, loss = 0.91578298\n",
      "Iteration 3, loss = 0.89965246\n",
      "Iteration 4, loss = 0.88759743\n",
      "Iteration 5, loss = 0.87800819\n",
      "Iteration 6, loss = 0.87046588\n",
      "Iteration 7, loss = 0.86391801\n",
      "Iteration 8, loss = 0.85837667\n",
      "Iteration 9, loss = 0.85321016\n",
      "Iteration 10, loss = 0.84855208\n",
      "Iteration 11, loss = 0.84408246\n",
      "Iteration 12, loss = 0.83975326\n",
      "Iteration 13, loss = 0.83557494\n",
      "Iteration 14, loss = 0.83148630\n",
      "Iteration 15, loss = 0.82736955\n",
      "Iteration 16, loss = 0.82338450\n",
      "Iteration 17, loss = 0.81931060\n",
      "Iteration 18, loss = 0.81530860\n"
     ]
    },
    {
     "name": "stderr",
     "output_type": "stream",
     "text": [
      "D:\\anaconda\\envs\\tensorflow\\lib\\site-packages\\sklearn\\neural_network\\_multilayer_perceptron.py:702: ConvergenceWarning: Stochastic Optimizer: Maximum iterations (20) reached and the optimization hasn't converged yet.\n",
      "  warnings.warn(\n"
     ]
    },
    {
     "name": "stdout",
     "output_type": "stream",
     "text": [
      "Iteration 19, loss = 0.81111114\n",
      "Iteration 20, loss = 0.80680392\n",
      "Iteration 1, loss = 0.94130648\n",
      "Iteration 2, loss = 0.92001649\n",
      "Iteration 3, loss = 0.90361410\n",
      "Iteration 4, loss = 0.89137687\n",
      "Iteration 5, loss = 0.88173062\n",
      "Iteration 6, loss = 0.87410191\n",
      "Iteration 7, loss = 0.86750523\n",
      "Iteration 8, loss = 0.86188764\n",
      "Iteration 9, loss = 0.85667626\n",
      "Iteration 10, loss = 0.85193212\n",
      "Iteration 11, loss = 0.84738069\n",
      "Iteration 12, loss = 0.84300577\n",
      "Iteration 13, loss = 0.83877775\n"
     ]
    },
    {
     "name": "stderr",
     "output_type": "stream",
     "text": [
      "D:\\anaconda\\envs\\tensorflow\\lib\\site-packages\\sklearn\\neural_network\\_multilayer_perceptron.py:702: ConvergenceWarning: Stochastic Optimizer: Maximum iterations (20) reached and the optimization hasn't converged yet.\n",
      "  warnings.warn(\n"
     ]
    },
    {
     "name": "stdout",
     "output_type": "stream",
     "text": [
      "Iteration 14, loss = 0.83463601\n",
      "Iteration 15, loss = 0.83047720\n",
      "Iteration 16, loss = 0.82645989\n",
      "Iteration 17, loss = 0.82236868\n",
      "Iteration 18, loss = 0.81833511\n",
      "Iteration 19, loss = 0.81417710\n",
      "Iteration 20, loss = 0.80988917\n",
      "Iteration 1, loss = 0.93233391\n",
      "Iteration 2, loss = 0.91158321\n",
      "Iteration 3, loss = 0.89571269\n",
      "Iteration 4, loss = 0.88348204\n",
      "Iteration 5, loss = 0.87426041\n",
      "Iteration 6, loss = 0.86667503\n",
      "Iteration 7, loss = 0.86026981\n",
      "Iteration 8, loss = 0.85476501\n",
      "Iteration 9, loss = 0.84974392\n",
      "Iteration 10, loss = 0.84512924\n"
     ]
    },
    {
     "name": "stderr",
     "output_type": "stream",
     "text": [
      "D:\\anaconda\\envs\\tensorflow\\lib\\site-packages\\sklearn\\neural_network\\_multilayer_perceptron.py:702: ConvergenceWarning: Stochastic Optimizer: Maximum iterations (20) reached and the optimization hasn't converged yet.\n",
      "  warnings.warn(\n"
     ]
    },
    {
     "name": "stdout",
     "output_type": "stream",
     "text": [
      "Iteration 11, loss = 0.84062445\n",
      "Iteration 12, loss = 0.83644979\n",
      "Iteration 13, loss = 0.83233006\n",
      "Iteration 14, loss = 0.82832828\n",
      "Iteration 15, loss = 0.82429926\n",
      "Iteration 16, loss = 0.82035081\n",
      "Iteration 17, loss = 0.81642238\n",
      "Iteration 18, loss = 0.81240849\n",
      "Iteration 19, loss = 0.80833467\n",
      "Iteration 20, loss = 0.80409888\n",
      "Iteration 1, loss = 0.93309598\n",
      "Iteration 2, loss = 0.91241518\n",
      "Iteration 3, loss = 0.89660154\n",
      "Iteration 4, loss = 0.88447128\n",
      "Iteration 5, loss = 0.87527190\n",
      "Iteration 6, loss = 0.86766263\n",
      "Iteration 7, loss = 0.86130576\n",
      "Iteration 8, loss = 0.85577921\n",
      "Iteration 9, loss = 0.85072600\n"
     ]
    },
    {
     "name": "stderr",
     "output_type": "stream",
     "text": [
      "D:\\anaconda\\envs\\tensorflow\\lib\\site-packages\\sklearn\\neural_network\\_multilayer_perceptron.py:702: ConvergenceWarning: Stochastic Optimizer: Maximum iterations (20) reached and the optimization hasn't converged yet.\n",
      "  warnings.warn(\n"
     ]
    },
    {
     "name": "stdout",
     "output_type": "stream",
     "text": [
      "Iteration 10, loss = 0.84608876\n",
      "Iteration 11, loss = 0.84157648\n",
      "Iteration 12, loss = 0.83738290\n",
      "Iteration 13, loss = 0.83325255\n",
      "Iteration 14, loss = 0.82922960\n",
      "Iteration 15, loss = 0.82518823\n",
      "Iteration 16, loss = 0.82124765\n",
      "Iteration 17, loss = 0.81730828\n",
      "Iteration 18, loss = 0.81326445\n",
      "Iteration 19, loss = 0.80920572\n",
      "Iteration 20, loss = 0.80497006\n",
      "Iteration 1, loss = 0.93255044\n",
      "Iteration 2, loss = 0.88318529\n",
      "Iteration 3, loss = 0.83982844\n",
      "Iteration 4, loss = 0.80908878\n",
      "Iteration 5, loss = 0.78809100\n",
      "Iteration 6, loss = 0.77436834\n",
      "Iteration 7, loss = 0.76476540\n",
      "Iteration 8, loss = 0.75735253\n"
     ]
    },
    {
     "name": "stderr",
     "output_type": "stream",
     "text": [
      "D:\\anaconda\\envs\\tensorflow\\lib\\site-packages\\sklearn\\neural_network\\_multilayer_perceptron.py:702: ConvergenceWarning: Stochastic Optimizer: Maximum iterations (20) reached and the optimization hasn't converged yet.\n",
      "  warnings.warn(\n",
      "D:\\anaconda\\envs\\tensorflow\\lib\\site-packages\\sklearn\\neural_network\\_multilayer_perceptron.py:702: ConvergenceWarning: Stochastic Optimizer: Maximum iterations (20) reached and the optimization hasn't converged yet.\n",
      "  warnings.warn(\n"
     ]
    },
    {
     "name": "stdout",
     "output_type": "stream",
     "text": [
      "Iteration 9, loss = 0.75139307\n",
      "Iteration 10, loss = 0.74587694\n",
      "Iteration 11, loss = 0.74082071\n",
      "Iteration 12, loss = 0.73612228\n",
      "Iteration 13, loss = 0.73132616\n",
      "Iteration 14, loss = 0.72653507\n",
      "Iteration 15, loss = 0.72197589\n",
      "Iteration 16, loss = 0.71757304\n",
      "Iteration 17, loss = 0.71314343\n",
      "Iteration 18, loss = 0.70868809\n",
      "Iteration 19, loss = 0.70441745\n",
      "Iteration 20, loss = 0.70021175\n",
      "Iteration 1, loss = 0.92781939\n",
      "Iteration 2, loss = 0.87848323\n",
      "Iteration 3, loss = 0.83538509\n",
      "Iteration 4, loss = 0.80510780\n",
      "Iteration 5, loss = 0.78474507\n",
      "Iteration 6, loss = 0.77160228\n",
      "Iteration 7, loss = 0.76241005\n",
      "Iteration 8, loss = 0.75543145\n",
      "Iteration 9, loss = 0.74985838\n",
      "Iteration 10, loss = 0.74479388\n",
      "Iteration 11, loss = 0.74006529\n",
      "Iteration 12, loss = 0.73558868\n",
      "Iteration 13, loss = 0.73122372\n",
      "Iteration 14, loss = 0.72687209\n",
      "Iteration 15, loss = 0.72260869\n",
      "Iteration 16, loss = 0.71869186\n",
      "Iteration 17, loss = 0.71463487\n",
      "Iteration 18, loss = 0.71062495\n",
      "Iteration 19, loss = 0.70667887\n",
      "Iteration 20, loss = 0.70267269\n",
      "Iteration 1, loss = 0.92351951\n",
      "Iteration 2, loss = 0.87650845\n",
      "Iteration 3, loss = 0.83515462\n",
      "Iteration 4, loss = 0.80587316\n",
      "Iteration 5, loss = 0.78563065\n",
      "Iteration 6, loss = 0.77257765\n",
      "Iteration 7, loss = 0.76322707\n",
      "Iteration 8, loss = 0.75611681\n",
      "Iteration 9, loss = 0.75040493\n",
      "Iteration 10, loss = 0.74527565\n",
      "Iteration 11, loss = 0.74051079\n"
     ]
    },
    {
     "name": "stderr",
     "output_type": "stream",
     "text": [
      "D:\\anaconda\\envs\\tensorflow\\lib\\site-packages\\sklearn\\neural_network\\_multilayer_perceptron.py:702: ConvergenceWarning: Stochastic Optimizer: Maximum iterations (20) reached and the optimization hasn't converged yet.\n",
      "  warnings.warn(\n",
      "D:\\anaconda\\envs\\tensorflow\\lib\\site-packages\\sklearn\\neural_network\\_multilayer_perceptron.py:702: ConvergenceWarning: Stochastic Optimizer: Maximum iterations (20) reached and the optimization hasn't converged yet.\n",
      "  warnings.warn(\n"
     ]
    },
    {
     "name": "stdout",
     "output_type": "stream",
     "text": [
      "Iteration 12, loss = 0.73598359\n",
      "Iteration 13, loss = 0.73162154\n",
      "Iteration 14, loss = 0.72728891\n",
      "Iteration 15, loss = 0.72318430\n",
      "Iteration 16, loss = 0.71938691\n",
      "Iteration 17, loss = 0.71549531\n",
      "Iteration 18, loss = 0.71158915\n",
      "Iteration 19, loss = 0.70782347\n",
      "Iteration 20, loss = 0.70401198\n",
      "Iteration 1, loss = 0.93144640\n",
      "Iteration 2, loss = 0.88164333\n",
      "Iteration 3, loss = 0.83829236\n",
      "Iteration 4, loss = 0.80775822\n",
      "Iteration 5, loss = 0.78677843\n",
      "Iteration 6, loss = 0.77328576\n",
      "Iteration 7, loss = 0.76386737\n",
      "Iteration 8, loss = 0.75662096\n",
      "Iteration 9, loss = 0.75078176\n",
      "Iteration 10, loss = 0.74547176\n",
      "Iteration 11, loss = 0.74058655\n",
      "Iteration 12, loss = 0.73588434\n",
      "Iteration 13, loss = 0.73124937\n",
      "Iteration 14, loss = 0.72668429\n",
      "Iteration 15, loss = 0.72219673\n",
      "Iteration 16, loss = 0.71804129\n",
      "Iteration 17, loss = 0.71379366\n",
      "Iteration 18, loss = 0.70956159\n",
      "Iteration 19, loss = 0.70540009\n",
      "Iteration 20, loss = 0.70144625\n",
      "Iteration 1, loss = 0.92303687\n",
      "Iteration 2, loss = 0.87548038\n",
      "Iteration 3, loss = 0.83403366\n",
      "Iteration 4, loss = 0.80470290\n",
      "Iteration 5, loss = 0.78418259\n",
      "Iteration 6, loss = 0.77109772\n",
      "Iteration 7, loss = 0.76176713\n",
      "Iteration 8, loss = 0.75483985\n",
      "Iteration 9, loss = 0.74913850\n",
      "Iteration 10, loss = 0.74416325\n",
      "Iteration 11, loss = 0.73936815\n"
     ]
    },
    {
     "name": "stderr",
     "output_type": "stream",
     "text": [
      "D:\\anaconda\\envs\\tensorflow\\lib\\site-packages\\sklearn\\neural_network\\_multilayer_perceptron.py:702: ConvergenceWarning: Stochastic Optimizer: Maximum iterations (20) reached and the optimization hasn't converged yet.\n",
      "  warnings.warn(\n"
     ]
    },
    {
     "name": "stdout",
     "output_type": "stream",
     "text": [
      "Iteration 12, loss = 0.73490584\n",
      "Iteration 13, loss = 0.73038626\n",
      "Iteration 14, loss = 0.72590112\n",
      "Iteration 15, loss = 0.72152591\n",
      "Iteration 16, loss = 0.71734615\n",
      "Iteration 17, loss = 0.71302353\n",
      "Iteration 18, loss = 0.70876430\n",
      "Iteration 19, loss = 0.70466420\n",
      "Iteration 20, loss = 0.70076469\n",
      "Iteration 1, loss = 0.92820102\n",
      "Iteration 2, loss = 0.88003180\n",
      "Iteration 3, loss = 0.83766456\n",
      "Iteration 4, loss = 0.80771409\n",
      "Iteration 5, loss = 0.78686394\n",
      "Iteration 6, loss = 0.77344916\n",
      "Iteration 7, loss = 0.76382446\n",
      "Iteration 8, loss = 0.75694628\n",
      "Iteration 9, loss = 0.75092072\n"
     ]
    },
    {
     "name": "stderr",
     "output_type": "stream",
     "text": [
      "D:\\anaconda\\envs\\tensorflow\\lib\\site-packages\\sklearn\\neural_network\\_multilayer_perceptron.py:702: ConvergenceWarning: Stochastic Optimizer: Maximum iterations (20) reached and the optimization hasn't converged yet.\n",
      "  warnings.warn(\n"
     ]
    },
    {
     "name": "stdout",
     "output_type": "stream",
     "text": [
      "Iteration 10, loss = 0.74579324\n",
      "Iteration 11, loss = 0.74082618\n",
      "Iteration 12, loss = 0.73614983\n",
      "Iteration 13, loss = 0.73160567\n",
      "Iteration 14, loss = 0.72700330\n",
      "Iteration 15, loss = 0.72232218\n",
      "Iteration 16, loss = 0.71808507\n",
      "Iteration 17, loss = 0.71359890\n",
      "Iteration 18, loss = 0.70922299\n",
      "Iteration 19, loss = 0.70497935\n",
      "Iteration 20, loss = 0.70092426\n",
      "Iteration 1, loss = 0.93188700\n",
      "Iteration 2, loss = 0.88286073\n",
      "Iteration 3, loss = 0.83973024\n",
      "Iteration 4, loss = 0.80924014\n",
      "Iteration 5, loss = 0.78790397\n",
      "Iteration 6, loss = 0.77431098\n",
      "Iteration 7, loss = 0.76437887\n",
      "Iteration 8, loss = 0.75747635\n",
      "Iteration 9, loss = 0.75116675\n"
     ]
    },
    {
     "name": "stderr",
     "output_type": "stream",
     "text": [
      "D:\\anaconda\\envs\\tensorflow\\lib\\site-packages\\sklearn\\neural_network\\_multilayer_perceptron.py:702: ConvergenceWarning: Stochastic Optimizer: Maximum iterations (20) reached and the optimization hasn't converged yet.\n",
      "  warnings.warn(\n",
      "D:\\anaconda\\envs\\tensorflow\\lib\\site-packages\\sklearn\\neural_network\\_multilayer_perceptron.py:702: ConvergenceWarning: Stochastic Optimizer: Maximum iterations (20) reached and the optimization hasn't converged yet.\n",
      "  warnings.warn(\n"
     ]
    },
    {
     "name": "stdout",
     "output_type": "stream",
     "text": [
      "Iteration 10, loss = 0.74585542\n",
      "Iteration 11, loss = 0.74069292\n",
      "Iteration 12, loss = 0.73574715\n",
      "Iteration 13, loss = 0.73083911\n",
      "Iteration 14, loss = 0.72597937\n",
      "Iteration 15, loss = 0.72124186\n",
      "Iteration 16, loss = 0.71666269\n",
      "Iteration 17, loss = 0.71191461\n",
      "Iteration 18, loss = 0.70722981\n",
      "Iteration 19, loss = 0.70280917\n",
      "Iteration 20, loss = 0.69850456\n",
      "Iteration 1, loss = 0.93640928\n",
      "Iteration 2, loss = 0.88595536\n",
      "Iteration 3, loss = 0.84134856\n",
      "Iteration 4, loss = 0.81001429\n",
      "Iteration 5, loss = 0.78838156\n",
      "Iteration 6, loss = 0.77466226\n",
      "Iteration 7, loss = 0.76467280\n",
      "Iteration 8, loss = 0.75778906\n",
      "Iteration 9, loss = 0.75152609\n",
      "Iteration 10, loss = 0.74621455\n",
      "Iteration 11, loss = 0.74106448\n",
      "Iteration 12, loss = 0.73624832\n",
      "Iteration 13, loss = 0.73155623\n",
      "Iteration 14, loss = 0.72689393\n",
      "Iteration 15, loss = 0.72234673\n",
      "Iteration 16, loss = 0.71810083\n",
      "Iteration 17, loss = 0.71372901\n",
      "Iteration 18, loss = 0.70946576\n",
      "Iteration 19, loss = 0.70525087\n",
      "Iteration 20, loss = 0.70132681\n",
      "Iteration 1, loss = 0.92771940\n",
      "Iteration 2, loss = 0.87980122\n",
      "Iteration 3, loss = 0.83760819\n",
      "Iteration 4, loss = 0.80692134\n",
      "Iteration 5, loss = 0.78695504\n",
      "Iteration 6, loss = 0.77334483\n",
      "Iteration 7, loss = 0.76373497\n",
      "Iteration 8, loss = 0.75688291\n",
      "Iteration 9, loss = 0.75108981\n",
      "Iteration 10, loss = 0.74586642\n"
     ]
    },
    {
     "name": "stderr",
     "output_type": "stream",
     "text": [
      "D:\\anaconda\\envs\\tensorflow\\lib\\site-packages\\sklearn\\neural_network\\_multilayer_perceptron.py:702: ConvergenceWarning: Stochastic Optimizer: Maximum iterations (20) reached and the optimization hasn't converged yet.\n",
      "  warnings.warn(\n"
     ]
    },
    {
     "name": "stdout",
     "output_type": "stream",
     "text": [
      "Iteration 11, loss = 0.74082056\n",
      "Iteration 12, loss = 0.73621677\n",
      "Iteration 13, loss = 0.73153545\n",
      "Iteration 14, loss = 0.72699157\n",
      "Iteration 15, loss = 0.72237308\n",
      "Iteration 16, loss = 0.71795978\n",
      "Iteration 17, loss = 0.71362093\n",
      "Iteration 18, loss = 0.70923054\n",
      "Iteration 19, loss = 0.70497279\n",
      "Iteration 20, loss = 0.70101502\n",
      "Iteration 1, loss = 0.92840271\n",
      "Iteration 2, loss = 0.88088303\n",
      "Iteration 3, loss = 0.83910079\n",
      "Iteration 4, loss = 0.80879967\n",
      "Iteration 5, loss = 0.78872994\n",
      "Iteration 6, loss = 0.77489378\n",
      "Iteration 7, loss = 0.76544373\n",
      "Iteration 8, loss = 0.75864088\n"
     ]
    },
    {
     "name": "stderr",
     "output_type": "stream",
     "text": [
      "D:\\anaconda\\envs\\tensorflow\\lib\\site-packages\\sklearn\\neural_network\\_multilayer_perceptron.py:702: ConvergenceWarning: Stochastic Optimizer: Maximum iterations (20) reached and the optimization hasn't converged yet.\n",
      "  warnings.warn(\n"
     ]
    },
    {
     "name": "stdout",
     "output_type": "stream",
     "text": [
      "Iteration 9, loss = 0.75292100\n",
      "Iteration 10, loss = 0.74783175\n",
      "Iteration 11, loss = 0.74287377\n",
      "Iteration 12, loss = 0.73839677\n",
      "Iteration 13, loss = 0.73386816\n",
      "Iteration 14, loss = 0.72950410\n",
      "Iteration 15, loss = 0.72517535\n",
      "Iteration 16, loss = 0.72109031\n",
      "Iteration 17, loss = 0.71702536\n",
      "Iteration 18, loss = 0.71294640\n",
      "Iteration 19, loss = 0.70896274\n",
      "Iteration 20, loss = 0.70521302\n"
     ]
    },
    {
     "name": "stderr",
     "output_type": "stream",
     "text": [
      "D:\\anaconda\\envs\\tensorflow\\lib\\site-packages\\sklearn\\neural_network\\_multilayer_perceptron.py:702: ConvergenceWarning: Stochastic Optimizer: Maximum iterations (20) reached and the optimization hasn't converged yet.\n",
      "  warnings.warn(\n",
      "D:\\anaconda\\envs\\tensorflow\\lib\\site-packages\\sklearn\\neural_network\\_multilayer_perceptron.py:559: ConvergenceWarning: lbfgs failed to converge (status=1):\n",
      "STOP: TOTAL NO. of ITERATIONS REACHED LIMIT.\n",
      "\n",
      "Increase the number of iterations (max_iter) or scale the data as shown in:\n",
      "    https://scikit-learn.org/stable/modules/preprocessing.html\n",
      "  self.n_iter_ = _check_optimize_result(\"lbfgs\", opt_res, self.max_iter)\n",
      "D:\\anaconda\\envs\\tensorflow\\lib\\site-packages\\sklearn\\neural_network\\_multilayer_perceptron.py:559: ConvergenceWarning: lbfgs failed to converge (status=1):\n",
      "STOP: TOTAL NO. of ITERATIONS REACHED LIMIT.\n",
      "\n",
      "Increase the number of iterations (max_iter) or scale the data as shown in:\n",
      "    https://scikit-learn.org/stable/modules/preprocessing.html\n",
      "  self.n_iter_ = _check_optimize_result(\"lbfgs\", opt_res, self.max_iter)\n",
      "D:\\anaconda\\envs\\tensorflow\\lib\\site-packages\\sklearn\\neural_network\\_multilayer_perceptron.py:559: ConvergenceWarning: lbfgs failed to converge (status=1):\n",
      "STOP: TOTAL NO. of ITERATIONS REACHED LIMIT.\n",
      "\n",
      "Increase the number of iterations (max_iter) or scale the data as shown in:\n",
      "    https://scikit-learn.org/stable/modules/preprocessing.html\n",
      "  self.n_iter_ = _check_optimize_result(\"lbfgs\", opt_res, self.max_iter)\n",
      "D:\\anaconda\\envs\\tensorflow\\lib\\site-packages\\sklearn\\neural_network\\_multilayer_perceptron.py:559: ConvergenceWarning: lbfgs failed to converge (status=1):\n",
      "STOP: TOTAL NO. of ITERATIONS REACHED LIMIT.\n",
      "\n",
      "Increase the number of iterations (max_iter) or scale the data as shown in:\n",
      "    https://scikit-learn.org/stable/modules/preprocessing.html\n",
      "  self.n_iter_ = _check_optimize_result(\"lbfgs\", opt_res, self.max_iter)\n",
      "D:\\anaconda\\envs\\tensorflow\\lib\\site-packages\\sklearn\\neural_network\\_multilayer_perceptron.py:559: ConvergenceWarning: lbfgs failed to converge (status=1):\n",
      "STOP: TOTAL NO. of ITERATIONS REACHED LIMIT.\n",
      "\n",
      "Increase the number of iterations (max_iter) or scale the data as shown in:\n",
      "    https://scikit-learn.org/stable/modules/preprocessing.html\n",
      "  self.n_iter_ = _check_optimize_result(\"lbfgs\", opt_res, self.max_iter)\n",
      "D:\\anaconda\\envs\\tensorflow\\lib\\site-packages\\sklearn\\neural_network\\_multilayer_perceptron.py:559: ConvergenceWarning: lbfgs failed to converge (status=1):\n",
      "STOP: TOTAL NO. of ITERATIONS REACHED LIMIT.\n",
      "\n",
      "Increase the number of iterations (max_iter) or scale the data as shown in:\n",
      "    https://scikit-learn.org/stable/modules/preprocessing.html\n",
      "  self.n_iter_ = _check_optimize_result(\"lbfgs\", opt_res, self.max_iter)\n",
      "D:\\anaconda\\envs\\tensorflow\\lib\\site-packages\\sklearn\\neural_network\\_multilayer_perceptron.py:559: ConvergenceWarning: lbfgs failed to converge (status=1):\n",
      "STOP: TOTAL NO. of ITERATIONS REACHED LIMIT.\n",
      "\n",
      "Increase the number of iterations (max_iter) or scale the data as shown in:\n",
      "    https://scikit-learn.org/stable/modules/preprocessing.html\n",
      "  self.n_iter_ = _check_optimize_result(\"lbfgs\", opt_res, self.max_iter)\n",
      "D:\\anaconda\\envs\\tensorflow\\lib\\site-packages\\sklearn\\neural_network\\_multilayer_perceptron.py:559: ConvergenceWarning: lbfgs failed to converge (status=1):\n",
      "STOP: TOTAL NO. of ITERATIONS REACHED LIMIT.\n",
      "\n",
      "Increase the number of iterations (max_iter) or scale the data as shown in:\n",
      "    https://scikit-learn.org/stable/modules/preprocessing.html\n",
      "  self.n_iter_ = _check_optimize_result(\"lbfgs\", opt_res, self.max_iter)\n",
      "D:\\anaconda\\envs\\tensorflow\\lib\\site-packages\\sklearn\\neural_network\\_multilayer_perceptron.py:559: ConvergenceWarning: lbfgs failed to converge (status=1):\n",
      "STOP: TOTAL NO. of ITERATIONS REACHED LIMIT.\n",
      "\n",
      "Increase the number of iterations (max_iter) or scale the data as shown in:\n",
      "    https://scikit-learn.org/stable/modules/preprocessing.html\n",
      "  self.n_iter_ = _check_optimize_result(\"lbfgs\", opt_res, self.max_iter)\n",
      "D:\\anaconda\\envs\\tensorflow\\lib\\site-packages\\sklearn\\neural_network\\_multilayer_perceptron.py:559: ConvergenceWarning: lbfgs failed to converge (status=1):\n",
      "STOP: TOTAL NO. of ITERATIONS REACHED LIMIT.\n",
      "\n",
      "Increase the number of iterations (max_iter) or scale the data as shown in:\n",
      "    https://scikit-learn.org/stable/modules/preprocessing.html\n",
      "  self.n_iter_ = _check_optimize_result(\"lbfgs\", opt_res, self.max_iter)\n"
     ]
    },
    {
     "name": "stdout",
     "output_type": "stream",
     "text": [
      "Iteration 1, loss = 1.20980845\n",
      "Iteration 2, loss = 0.67521752\n",
      "Iteration 3, loss = 0.53605414\n",
      "Iteration 4, loss = 0.47360003\n",
      "Iteration 5, loss = 0.43299685\n",
      "Iteration 6, loss = 0.40460612\n",
      "Iteration 7, loss = 0.38202730\n",
      "Iteration 8, loss = 0.36360329\n",
      "Iteration 9, loss = 0.34770663\n",
      "Iteration 10, loss = 0.33383713\n",
      "Iteration 11, loss = 0.32162312\n",
      "Iteration 12, loss = 0.31031732\n",
      "Iteration 13, loss = 0.29993722\n",
      "Iteration 14, loss = 0.28970498\n",
      "Iteration 15, loss = 0.28158261\n",
      "Iteration 16, loss = 0.27302446\n",
      "Iteration 17, loss = 0.26465098\n",
      "Iteration 18, loss = 0.25789655\n",
      "Iteration 19, loss = 0.25051164\n",
      "Iteration 20, loss = 0.24324774\n",
      "Iteration 1, loss = 1.21717512\n",
      "Iteration 2, loss = 0.67762094\n",
      "Iteration 3, loss = 0.53751313\n",
      "Iteration 4, loss = 0.47411405\n",
      "Iteration 5, loss = 0.43368028\n",
      "Iteration 6, loss = 0.40535231\n"
     ]
    },
    {
     "name": "stderr",
     "output_type": "stream",
     "text": [
      "D:\\anaconda\\envs\\tensorflow\\lib\\site-packages\\sklearn\\neural_network\\_multilayer_perceptron.py:702: ConvergenceWarning: Stochastic Optimizer: Maximum iterations (20) reached and the optimization hasn't converged yet.\n",
      "  warnings.warn(\n"
     ]
    },
    {
     "name": "stdout",
     "output_type": "stream",
     "text": [
      "Iteration 7, loss = 0.38249111\n",
      "Iteration 8, loss = 0.36378235\n",
      "Iteration 9, loss = 0.34793437\n",
      "Iteration 10, loss = 0.33402116\n",
      "Iteration 11, loss = 0.32176515\n",
      "Iteration 12, loss = 0.31040354\n",
      "Iteration 13, loss = 0.30025960\n",
      "Iteration 14, loss = 0.28990114\n",
      "Iteration 15, loss = 0.28159027\n",
      "Iteration 16, loss = 0.27337747\n",
      "Iteration 17, loss = 0.26510180\n",
      "Iteration 18, loss = 0.25767461\n",
      "Iteration 19, loss = 0.25040618\n",
      "Iteration 20, loss = 0.24295806\n",
      "Iteration 1, loss = 1.21516974\n",
      "Iteration 2, loss = 0.67778369\n",
      "Iteration 3, loss = 0.53881598\n",
      "Iteration 4, loss = 0.47675346\n"
     ]
    },
    {
     "name": "stderr",
     "output_type": "stream",
     "text": [
      "D:\\anaconda\\envs\\tensorflow\\lib\\site-packages\\sklearn\\neural_network\\_multilayer_perceptron.py:702: ConvergenceWarning: Stochastic Optimizer: Maximum iterations (20) reached and the optimization hasn't converged yet.\n",
      "  warnings.warn(\n"
     ]
    },
    {
     "name": "stdout",
     "output_type": "stream",
     "text": [
      "Iteration 5, loss = 0.43675168\n",
      "Iteration 6, loss = 0.40840129\n",
      "Iteration 7, loss = 0.38581443\n",
      "Iteration 8, loss = 0.36720437\n",
      "Iteration 9, loss = 0.35113728\n",
      "Iteration 10, loss = 0.33680330\n",
      "Iteration 11, loss = 0.32450466\n",
      "Iteration 12, loss = 0.31322207\n",
      "Iteration 13, loss = 0.30303236\n",
      "Iteration 14, loss = 0.29243880\n",
      "Iteration 15, loss = 0.28394495\n",
      "Iteration 16, loss = 0.27562034\n",
      "Iteration 17, loss = 0.26717336\n",
      "Iteration 18, loss = 0.25949578\n",
      "Iteration 19, loss = 0.25225931\n",
      "Iteration 20, loss = 0.24498990\n"
     ]
    },
    {
     "name": "stderr",
     "output_type": "stream",
     "text": [
      "D:\\anaconda\\envs\\tensorflow\\lib\\site-packages\\sklearn\\neural_network\\_multilayer_perceptron.py:702: ConvergenceWarning: Stochastic Optimizer: Maximum iterations (20) reached and the optimization hasn't converged yet.\n",
      "  warnings.warn(\n"
     ]
    },
    {
     "name": "stdout",
     "output_type": "stream",
     "text": [
      "Iteration 1, loss = 1.19801420\n",
      "Iteration 2, loss = 0.67091373\n",
      "Iteration 3, loss = 0.53585771\n",
      "Iteration 4, loss = 0.47220140\n",
      "Iteration 5, loss = 0.43176606\n",
      "Iteration 6, loss = 0.40310068\n",
      "Iteration 7, loss = 0.38038232\n",
      "Iteration 8, loss = 0.36154118\n",
      "Iteration 9, loss = 0.34532217\n",
      "Iteration 10, loss = 0.33123983\n",
      "Iteration 11, loss = 0.31898699\n",
      "Iteration 12, loss = 0.30755401\n",
      "Iteration 13, loss = 0.29734779\n",
      "Iteration 14, loss = 0.28728036\n",
      "Iteration 15, loss = 0.27856427\n",
      "Iteration 16, loss = 0.27045081\n",
      "Iteration 17, loss = 0.26218622\n",
      "Iteration 18, loss = 0.25485737\n",
      "Iteration 19, loss = 0.24769440\n",
      "Iteration 20, loss = 0.24096566\n",
      "Iteration 1, loss = 1.21519826\n",
      "Iteration 2, loss = 0.67303730\n",
      "Iteration 3, loss = 0.53433427\n",
      "Iteration 4, loss = 0.47141240\n",
      "Iteration 5, loss = 0.43127600\n",
      "Iteration 6, loss = 0.40309379\n"
     ]
    },
    {
     "name": "stderr",
     "output_type": "stream",
     "text": [
      "D:\\anaconda\\envs\\tensorflow\\lib\\site-packages\\sklearn\\neural_network\\_multilayer_perceptron.py:702: ConvergenceWarning: Stochastic Optimizer: Maximum iterations (20) reached and the optimization hasn't converged yet.\n",
      "  warnings.warn(\n"
     ]
    },
    {
     "name": "stdout",
     "output_type": "stream",
     "text": [
      "Iteration 7, loss = 0.38069830\n",
      "Iteration 8, loss = 0.36253121\n",
      "Iteration 9, loss = 0.34679390\n",
      "Iteration 10, loss = 0.33246957\n",
      "Iteration 11, loss = 0.32024833\n",
      "Iteration 12, loss = 0.30899362\n",
      "Iteration 13, loss = 0.29878632\n",
      "Iteration 14, loss = 0.28888288\n",
      "Iteration 15, loss = 0.27994444\n",
      "Iteration 16, loss = 0.27218450\n",
      "Iteration 17, loss = 0.26363531\n",
      "Iteration 18, loss = 0.25608751\n",
      "Iteration 19, loss = 0.24914184\n",
      "Iteration 20, loss = 0.24211509\n",
      "Iteration 1, loss = 1.20839433\n",
      "Iteration 2, loss = 0.67292258\n",
      "Iteration 3, loss = 0.53561485\n"
     ]
    },
    {
     "name": "stderr",
     "output_type": "stream",
     "text": [
      "D:\\anaconda\\envs\\tensorflow\\lib\\site-packages\\sklearn\\neural_network\\_multilayer_perceptron.py:702: ConvergenceWarning: Stochastic Optimizer: Maximum iterations (20) reached and the optimization hasn't converged yet.\n",
      "  warnings.warn(\n"
     ]
    },
    {
     "name": "stdout",
     "output_type": "stream",
     "text": [
      "Iteration 4, loss = 0.47230123\n",
      "Iteration 5, loss = 0.43178202\n",
      "Iteration 6, loss = 0.40319479\n",
      "Iteration 7, loss = 0.38068675\n",
      "Iteration 8, loss = 0.36230968\n",
      "Iteration 9, loss = 0.34670998\n",
      "Iteration 10, loss = 0.33213400\n",
      "Iteration 11, loss = 0.32002880\n",
      "Iteration 12, loss = 0.30926812\n",
      "Iteration 13, loss = 0.29908781\n",
      "Iteration 14, loss = 0.28927929\n",
      "Iteration 15, loss = 0.28024247\n",
      "Iteration 16, loss = 0.27262389\n",
      "Iteration 17, loss = 0.26430902\n",
      "Iteration 18, loss = 0.25682036\n",
      "Iteration 19, loss = 0.24979648\n",
      "Iteration 20, loss = 0.24273761\n",
      "Iteration 1, loss = 1.19918705\n",
      "Iteration 2, loss = 0.66915138\n",
      "Iteration 3, loss = 0.53300710\n",
      "Iteration 4, loss = 0.46904539\n",
      "Iteration 5, loss = 0.42874481\n",
      "Iteration 6, loss = 0.40014718\n",
      "Iteration 7, loss = 0.37734041\n",
      "Iteration 8, loss = 0.35864721\n"
     ]
    },
    {
     "name": "stderr",
     "output_type": "stream",
     "text": [
      "D:\\anaconda\\envs\\tensorflow\\lib\\site-packages\\sklearn\\neural_network\\_multilayer_perceptron.py:702: ConvergenceWarning: Stochastic Optimizer: Maximum iterations (20) reached and the optimization hasn't converged yet.\n",
      "  warnings.warn(\n"
     ]
    },
    {
     "name": "stdout",
     "output_type": "stream",
     "text": [
      "Iteration 9, loss = 0.34293043\n",
      "Iteration 10, loss = 0.32839911\n",
      "Iteration 11, loss = 0.31602018\n",
      "Iteration 12, loss = 0.30491257\n",
      "Iteration 13, loss = 0.29487342\n",
      "Iteration 14, loss = 0.28520131\n",
      "Iteration 15, loss = 0.27664464\n",
      "Iteration 16, loss = 0.26896563\n",
      "Iteration 17, loss = 0.26052015\n",
      "Iteration 18, loss = 0.25301202\n",
      "Iteration 19, loss = 0.24614093\n",
      "Iteration 20, loss = 0.23934628\n",
      "Iteration 1, loss = 1.18668847\n",
      "Iteration 2, loss = 0.66688332\n",
      "Iteration 3, loss = 0.53545358\n",
      "Iteration 4, loss = 0.47183319\n",
      "Iteration 5, loss = 0.43177730\n"
     ]
    },
    {
     "name": "stderr",
     "output_type": "stream",
     "text": [
      "D:\\anaconda\\envs\\tensorflow\\lib\\site-packages\\sklearn\\neural_network\\_multilayer_perceptron.py:702: ConvergenceWarning: Stochastic Optimizer: Maximum iterations (20) reached and the optimization hasn't converged yet.\n",
      "  warnings.warn(\n"
     ]
    },
    {
     "name": "stdout",
     "output_type": "stream",
     "text": [
      "Iteration 6, loss = 0.40307913\n",
      "Iteration 7, loss = 0.38028374\n",
      "Iteration 8, loss = 0.36186524\n",
      "Iteration 9, loss = 0.34566962\n",
      "Iteration 10, loss = 0.33154470\n",
      "Iteration 11, loss = 0.31925925\n",
      "Iteration 12, loss = 0.30807859\n",
      "Iteration 13, loss = 0.29803860\n",
      "Iteration 14, loss = 0.28816955\n",
      "Iteration 15, loss = 0.27965067\n",
      "Iteration 16, loss = 0.27177209\n",
      "Iteration 17, loss = 0.26318304\n",
      "Iteration 18, loss = 0.25596522\n",
      "Iteration 19, loss = 0.24881469\n",
      "Iteration 20, loss = 0.24248036\n",
      "Iteration 1, loss = 1.20176469\n",
      "Iteration 2, loss = 0.67093927\n",
      "Iteration 3, loss = 0.53432920\n",
      "Iteration 4, loss = 0.47122863\n"
     ]
    },
    {
     "name": "stderr",
     "output_type": "stream",
     "text": [
      "D:\\anaconda\\envs\\tensorflow\\lib\\site-packages\\sklearn\\neural_network\\_multilayer_perceptron.py:702: ConvergenceWarning: Stochastic Optimizer: Maximum iterations (20) reached and the optimization hasn't converged yet.\n",
      "  warnings.warn(\n"
     ]
    },
    {
     "name": "stdout",
     "output_type": "stream",
     "text": [
      "Iteration 5, loss = 0.43147860\n",
      "Iteration 6, loss = 0.40336860\n",
      "Iteration 7, loss = 0.38077159\n",
      "Iteration 8, loss = 0.36193974\n",
      "Iteration 9, loss = 0.34627508\n",
      "Iteration 10, loss = 0.33271401\n",
      "Iteration 11, loss = 0.32058637\n",
      "Iteration 12, loss = 0.30893007\n",
      "Iteration 13, loss = 0.29877908\n",
      "Iteration 14, loss = 0.28952808\n",
      "Iteration 15, loss = 0.28055693\n",
      "Iteration 16, loss = 0.27275025\n",
      "Iteration 17, loss = 0.26464073\n",
      "Iteration 18, loss = 0.25694942\n",
      "Iteration 19, loss = 0.24961354\n",
      "Iteration 20, loss = 0.24283736\n"
     ]
    },
    {
     "name": "stderr",
     "output_type": "stream",
     "text": [
      "D:\\anaconda\\envs\\tensorflow\\lib\\site-packages\\sklearn\\neural_network\\_multilayer_perceptron.py:702: ConvergenceWarning: Stochastic Optimizer: Maximum iterations (20) reached and the optimization hasn't converged yet.\n",
      "  warnings.warn(\n"
     ]
    },
    {
     "name": "stdout",
     "output_type": "stream",
     "text": [
      "Iteration 1, loss = 1.19927176\n",
      "Iteration 2, loss = 0.67127396\n",
      "Iteration 3, loss = 0.53795641\n",
      "Iteration 4, loss = 0.47530978\n",
      "Iteration 5, loss = 0.43592135\n",
      "Iteration 6, loss = 0.40802516\n",
      "Iteration 7, loss = 0.38572582\n",
      "Iteration 8, loss = 0.36710853\n",
      "Iteration 9, loss = 0.35131806\n",
      "Iteration 10, loss = 0.33746054\n",
      "Iteration 11, loss = 0.32524437\n",
      "Iteration 12, loss = 0.31355349\n",
      "Iteration 13, loss = 0.30303996\n",
      "Iteration 14, loss = 0.29387203\n",
      "Iteration 15, loss = 0.28467531\n",
      "Iteration 16, loss = 0.27690574\n",
      "Iteration 17, loss = 0.26894573\n",
      "Iteration 18, loss = 0.26090733\n",
      "Iteration 19, loss = 0.25367176\n",
      "Iteration 20, loss = 0.24680544\n",
      "Iteration 1, loss = 1.30913510\n",
      "Iteration 2, loss = 0.81486682\n",
      "Iteration 3, loss = 0.74031065\n",
      "Iteration 4, loss = 0.69734638\n"
     ]
    },
    {
     "name": "stderr",
     "output_type": "stream",
     "text": [
      "D:\\anaconda\\envs\\tensorflow\\lib\\site-packages\\sklearn\\neural_network\\_multilayer_perceptron.py:702: ConvergenceWarning: Stochastic Optimizer: Maximum iterations (20) reached and the optimization hasn't converged yet.\n",
      "  warnings.warn(\n"
     ]
    },
    {
     "name": "stdout",
     "output_type": "stream",
     "text": [
      "Iteration 5, loss = 0.67098154\n",
      "Iteration 6, loss = 0.65085794\n",
      "Iteration 7, loss = 0.63445691\n",
      "Iteration 8, loss = 0.62041912\n",
      "Iteration 9, loss = 0.60722727\n",
      "Iteration 10, loss = 0.59624133\n",
      "Iteration 11, loss = 0.58579171\n",
      "Iteration 12, loss = 0.57652887\n",
      "Iteration 13, loss = 0.56799699\n",
      "Iteration 14, loss = 0.56008378\n",
      "Iteration 15, loss = 0.55276107\n",
      "Iteration 16, loss = 0.54582750\n",
      "Iteration 17, loss = 0.53910978\n",
      "Iteration 18, loss = 0.53333568\n",
      "Iteration 19, loss = 0.52764457\n",
      "Iteration 20, loss = 0.52179802\n",
      "Iteration 1, loss = 1.31679526\n",
      "Iteration 2, loss = 0.81799289\n"
     ]
    },
    {
     "name": "stderr",
     "output_type": "stream",
     "text": [
      "D:\\anaconda\\envs\\tensorflow\\lib\\site-packages\\sklearn\\neural_network\\_multilayer_perceptron.py:702: ConvergenceWarning: Stochastic Optimizer: Maximum iterations (20) reached and the optimization hasn't converged yet.\n",
      "  warnings.warn(\n"
     ]
    },
    {
     "name": "stdout",
     "output_type": "stream",
     "text": [
      "Iteration 3, loss = 0.74434737\n",
      "Iteration 4, loss = 0.70066999\n",
      "Iteration 5, loss = 0.67452740\n",
      "Iteration 6, loss = 0.65444040\n",
      "Iteration 7, loss = 0.63815791\n",
      "Iteration 8, loss = 0.62420088\n",
      "Iteration 9, loss = 0.61135565\n",
      "Iteration 10, loss = 0.60052589\n",
      "Iteration 11, loss = 0.59002036\n",
      "Iteration 12, loss = 0.58090130\n",
      "Iteration 13, loss = 0.57242905\n",
      "Iteration 14, loss = 0.56425855\n",
      "Iteration 15, loss = 0.55707019\n",
      "Iteration 16, loss = 0.55016971\n",
      "Iteration 17, loss = 0.54339489\n",
      "Iteration 18, loss = 0.53750280\n",
      "Iteration 19, loss = 0.53150810\n",
      "Iteration 20, loss = 0.52563786\n"
     ]
    },
    {
     "name": "stderr",
     "output_type": "stream",
     "text": [
      "D:\\anaconda\\envs\\tensorflow\\lib\\site-packages\\sklearn\\neural_network\\_multilayer_perceptron.py:702: ConvergenceWarning: Stochastic Optimizer: Maximum iterations (20) reached and the optimization hasn't converged yet.\n",
      "  warnings.warn(\n"
     ]
    },
    {
     "name": "stdout",
     "output_type": "stream",
     "text": [
      "Iteration 1, loss = 1.31686501\n",
      "Iteration 2, loss = 0.81705928\n",
      "Iteration 3, loss = 0.74430431\n",
      "Iteration 4, loss = 0.70150945\n",
      "Iteration 5, loss = 0.67591156\n",
      "Iteration 6, loss = 0.65593830\n",
      "Iteration 7, loss = 0.63982282\n",
      "Iteration 8, loss = 0.62603320\n",
      "Iteration 9, loss = 0.61336043\n",
      "Iteration 10, loss = 0.60247710\n",
      "Iteration 11, loss = 0.59226191\n",
      "Iteration 12, loss = 0.58334392\n",
      "Iteration 13, loss = 0.57510842\n",
      "Iteration 14, loss = 0.56687525\n",
      "Iteration 15, loss = 0.55966565\n",
      "Iteration 16, loss = 0.55284962\n",
      "Iteration 17, loss = 0.54635087\n",
      "Iteration 18, loss = 0.54053708\n",
      "Iteration 19, loss = 0.53453794\n",
      "Iteration 20, loss = 0.52882675\n",
      "Iteration 1, loss = 1.30232623\n",
      "Iteration 2, loss = 0.81428381\n",
      "Iteration 3, loss = 0.74258229\n",
      "Iteration 4, loss = 0.69926473\n"
     ]
    },
    {
     "name": "stderr",
     "output_type": "stream",
     "text": [
      "D:\\anaconda\\envs\\tensorflow\\lib\\site-packages\\sklearn\\neural_network\\_multilayer_perceptron.py:702: ConvergenceWarning: Stochastic Optimizer: Maximum iterations (20) reached and the optimization hasn't converged yet.\n",
      "  warnings.warn(\n"
     ]
    },
    {
     "name": "stdout",
     "output_type": "stream",
     "text": [
      "Iteration 5, loss = 0.67308973\n",
      "Iteration 6, loss = 0.65305967\n",
      "Iteration 7, loss = 0.63659971\n",
      "Iteration 8, loss = 0.62231816\n",
      "Iteration 9, loss = 0.60939606\n",
      "Iteration 10, loss = 0.59813782\n",
      "Iteration 11, loss = 0.58776488\n",
      "Iteration 12, loss = 0.57863930\n",
      "Iteration 13, loss = 0.57008761\n",
      "Iteration 14, loss = 0.56177793\n",
      "Iteration 15, loss = 0.55448786\n",
      "Iteration 16, loss = 0.54734872\n",
      "Iteration 17, loss = 0.54083333\n",
      "Iteration 18, loss = 0.53478668\n",
      "Iteration 19, loss = 0.52859538\n",
      "Iteration 20, loss = 0.52286035\n"
     ]
    },
    {
     "name": "stderr",
     "output_type": "stream",
     "text": [
      "D:\\anaconda\\envs\\tensorflow\\lib\\site-packages\\sklearn\\neural_network\\_multilayer_perceptron.py:702: ConvergenceWarning: Stochastic Optimizer: Maximum iterations (20) reached and the optimization hasn't converged yet.\n",
      "  warnings.warn(\n"
     ]
    },
    {
     "name": "stdout",
     "output_type": "stream",
     "text": [
      "Iteration 1, loss = 1.31938294\n",
      "Iteration 2, loss = 0.81590202\n",
      "Iteration 3, loss = 0.74426238\n",
      "Iteration 4, loss = 0.69991962\n",
      "Iteration 5, loss = 0.67362491\n",
      "Iteration 6, loss = 0.65323760\n",
      "Iteration 7, loss = 0.63654675\n",
      "Iteration 8, loss = 0.62218398\n",
      "Iteration 9, loss = 0.60933395\n",
      "Iteration 10, loss = 0.59774357\n",
      "Iteration 11, loss = 0.58743889\n",
      "Iteration 12, loss = 0.57816701\n",
      "Iteration 13, loss = 0.56965062\n",
      "Iteration 14, loss = 0.56137379\n",
      "Iteration 15, loss = 0.55400599\n",
      "Iteration 16, loss = 0.54694451\n",
      "Iteration 17, loss = 0.54035950\n",
      "Iteration 18, loss = 0.53424466\n",
      "Iteration 19, loss = 0.52811241\n",
      "Iteration 20, loss = 0.52248390\n",
      "Iteration 1, loss = 1.31338179\n"
     ]
    },
    {
     "name": "stderr",
     "output_type": "stream",
     "text": [
      "D:\\anaconda\\envs\\tensorflow\\lib\\site-packages\\sklearn\\neural_network\\_multilayer_perceptron.py:702: ConvergenceWarning: Stochastic Optimizer: Maximum iterations (20) reached and the optimization hasn't converged yet.\n",
      "  warnings.warn(\n"
     ]
    },
    {
     "name": "stdout",
     "output_type": "stream",
     "text": [
      "Iteration 2, loss = 0.81707219\n",
      "Iteration 3, loss = 0.74507707\n",
      "Iteration 4, loss = 0.70127563\n",
      "Iteration 5, loss = 0.67548124\n",
      "Iteration 6, loss = 0.65537386\n",
      "Iteration 7, loss = 0.63912538\n",
      "Iteration 8, loss = 0.62504415\n",
      "Iteration 9, loss = 0.61276130\n",
      "Iteration 10, loss = 0.60119662\n",
      "Iteration 11, loss = 0.59118235\n",
      "Iteration 12, loss = 0.58216932\n",
      "Iteration 13, loss = 0.57331641\n",
      "Iteration 14, loss = 0.56519119\n",
      "Iteration 15, loss = 0.55788117\n",
      "Iteration 16, loss = 0.55064008\n",
      "Iteration 17, loss = 0.54424764\n",
      "Iteration 18, loss = 0.53804538\n",
      "Iteration 19, loss = 0.53191448\n",
      "Iteration 20, loss = 0.52617792\n",
      "Iteration 1, loss = 1.30909182\n",
      "Iteration 2, loss = 0.81501177\n"
     ]
    },
    {
     "name": "stderr",
     "output_type": "stream",
     "text": [
      "D:\\anaconda\\envs\\tensorflow\\lib\\site-packages\\sklearn\\neural_network\\_multilayer_perceptron.py:702: ConvergenceWarning: Stochastic Optimizer: Maximum iterations (20) reached and the optimization hasn't converged yet.\n",
      "  warnings.warn(\n"
     ]
    },
    {
     "name": "stdout",
     "output_type": "stream",
     "text": [
      "Iteration 3, loss = 0.74253021\n",
      "Iteration 4, loss = 0.69792379\n",
      "Iteration 5, loss = 0.67184527\n",
      "Iteration 6, loss = 0.65182797\n",
      "Iteration 7, loss = 0.63545574\n",
      "Iteration 8, loss = 0.62128094\n",
      "Iteration 9, loss = 0.60927217\n",
      "Iteration 10, loss = 0.59745963\n",
      "Iteration 11, loss = 0.58751166\n",
      "Iteration 12, loss = 0.57844129\n",
      "Iteration 13, loss = 0.56988080\n",
      "Iteration 14, loss = 0.56206396\n",
      "Iteration 15, loss = 0.55496063\n",
      "Iteration 16, loss = 0.54774807\n",
      "Iteration 17, loss = 0.54151687\n",
      "Iteration 18, loss = 0.53532684\n",
      "Iteration 19, loss = 0.52933464\n",
      "Iteration 20, loss = 0.52394188\n",
      "Iteration 1, loss = 1.30052471\n",
      "Iteration 2, loss = 0.81450874\n",
      "Iteration 3, loss = 0.74451920\n"
     ]
    },
    {
     "name": "stderr",
     "output_type": "stream",
     "text": [
      "D:\\anaconda\\envs\\tensorflow\\lib\\site-packages\\sklearn\\neural_network\\_multilayer_perceptron.py:702: ConvergenceWarning: Stochastic Optimizer: Maximum iterations (20) reached and the optimization hasn't converged yet.\n",
      "  warnings.warn(\n"
     ]
    },
    {
     "name": "stdout",
     "output_type": "stream",
     "text": [
      "Iteration 4, loss = 0.70065841\n",
      "Iteration 5, loss = 0.67469450\n",
      "Iteration 6, loss = 0.65455084\n",
      "Iteration 7, loss = 0.63816333\n",
      "Iteration 8, loss = 0.62393197\n",
      "Iteration 9, loss = 0.61147769\n",
      "Iteration 10, loss = 0.59987860\n",
      "Iteration 11, loss = 0.58989693\n",
      "Iteration 12, loss = 0.58051470\n",
      "Iteration 13, loss = 0.57202057\n",
      "Iteration 14, loss = 0.56401743\n",
      "Iteration 15, loss = 0.55682051\n",
      "Iteration 16, loss = 0.54963883\n",
      "Iteration 17, loss = 0.54317214\n",
      "Iteration 18, loss = 0.53679421\n",
      "Iteration 19, loss = 0.53082401\n",
      "Iteration 20, loss = 0.52545711\n",
      "Iteration 1, loss = 1.31146339\n",
      "Iteration 2, loss = 0.81675106\n",
      "Iteration 3, loss = 0.74113139\n"
     ]
    },
    {
     "name": "stderr",
     "output_type": "stream",
     "text": [
      "D:\\anaconda\\envs\\tensorflow\\lib\\site-packages\\sklearn\\neural_network\\_multilayer_perceptron.py:702: ConvergenceWarning: Stochastic Optimizer: Maximum iterations (20) reached and the optimization hasn't converged yet.\n",
      "  warnings.warn(\n"
     ]
    },
    {
     "name": "stdout",
     "output_type": "stream",
     "text": [
      "Iteration 4, loss = 0.69766320\n",
      "Iteration 5, loss = 0.67118597\n",
      "Iteration 6, loss = 0.65112615\n",
      "Iteration 7, loss = 0.63474138\n",
      "Iteration 8, loss = 0.62060474\n",
      "Iteration 9, loss = 0.60813852\n",
      "Iteration 10, loss = 0.59676491\n",
      "Iteration 11, loss = 0.58660452\n",
      "Iteration 12, loss = 0.57701815\n",
      "Iteration 13, loss = 0.56842445\n",
      "Iteration 14, loss = 0.56034427\n",
      "Iteration 15, loss = 0.55310192\n",
      "Iteration 16, loss = 0.54597323\n",
      "Iteration 17, loss = 0.53944721\n",
      "Iteration 18, loss = 0.53313363\n",
      "Iteration 19, loss = 0.52725767\n",
      "Iteration 20, loss = 0.52153264\n",
      "Iteration 1, loss = 1.31339663\n",
      "Iteration 2, loss = 0.82043644\n",
      "Iteration 3, loss = 0.74829165\n"
     ]
    },
    {
     "name": "stderr",
     "output_type": "stream",
     "text": [
      "D:\\anaconda\\envs\\tensorflow\\lib\\site-packages\\sklearn\\neural_network\\_multilayer_perceptron.py:702: ConvergenceWarning: Stochastic Optimizer: Maximum iterations (20) reached and the optimization hasn't converged yet.\n",
      "  warnings.warn(\n"
     ]
    },
    {
     "name": "stdout",
     "output_type": "stream",
     "text": [
      "Iteration 4, loss = 0.70543328\n",
      "Iteration 5, loss = 0.67870615\n",
      "Iteration 6, loss = 0.65871882\n",
      "Iteration 7, loss = 0.64221341\n",
      "Iteration 8, loss = 0.62814256\n",
      "Iteration 9, loss = 0.61560873\n",
      "Iteration 10, loss = 0.60424260\n",
      "Iteration 11, loss = 0.59412639\n",
      "Iteration 12, loss = 0.58454434\n",
      "Iteration 13, loss = 0.57572604\n",
      "Iteration 14, loss = 0.56759830\n",
      "Iteration 15, loss = 0.56015467\n",
      "Iteration 16, loss = 0.55297109\n",
      "Iteration 17, loss = 0.54634071\n",
      "Iteration 18, loss = 0.54013570\n",
      "Iteration 19, loss = 0.53422743\n",
      "Iteration 20, loss = 0.52840723\n"
     ]
    },
    {
     "name": "stderr",
     "output_type": "stream",
     "text": [
      "D:\\anaconda\\envs\\tensorflow\\lib\\site-packages\\sklearn\\neural_network\\_multilayer_perceptron.py:702: ConvergenceWarning: Stochastic Optimizer: Maximum iterations (20) reached and the optimization hasn't converged yet.\n",
      "  warnings.warn(\n",
      "D:\\anaconda\\envs\\tensorflow\\lib\\site-packages\\sklearn\\neural_network\\_multilayer_perceptron.py:559: ConvergenceWarning: lbfgs failed to converge (status=1):\n",
      "STOP: TOTAL NO. of ITERATIONS REACHED LIMIT.\n",
      "\n",
      "Increase the number of iterations (max_iter) or scale the data as shown in:\n",
      "    https://scikit-learn.org/stable/modules/preprocessing.html\n",
      "  self.n_iter_ = _check_optimize_result(\"lbfgs\", opt_res, self.max_iter)\n",
      "D:\\anaconda\\envs\\tensorflow\\lib\\site-packages\\sklearn\\neural_network\\_multilayer_perceptron.py:559: ConvergenceWarning: lbfgs failed to converge (status=1):\n",
      "STOP: TOTAL NO. of ITERATIONS REACHED LIMIT.\n",
      "\n",
      "Increase the number of iterations (max_iter) or scale the data as shown in:\n",
      "    https://scikit-learn.org/stable/modules/preprocessing.html\n",
      "  self.n_iter_ = _check_optimize_result(\"lbfgs\", opt_res, self.max_iter)\n",
      "D:\\anaconda\\envs\\tensorflow\\lib\\site-packages\\sklearn\\neural_network\\_multilayer_perceptron.py:559: ConvergenceWarning: lbfgs failed to converge (status=1):\n",
      "STOP: TOTAL NO. of ITERATIONS REACHED LIMIT.\n",
      "\n",
      "Increase the number of iterations (max_iter) or scale the data as shown in:\n",
      "    https://scikit-learn.org/stable/modules/preprocessing.html\n",
      "  self.n_iter_ = _check_optimize_result(\"lbfgs\", opt_res, self.max_iter)\n",
      "D:\\anaconda\\envs\\tensorflow\\lib\\site-packages\\sklearn\\neural_network\\_multilayer_perceptron.py:559: ConvergenceWarning: lbfgs failed to converge (status=1):\n",
      "STOP: TOTAL NO. of ITERATIONS REACHED LIMIT.\n",
      "\n",
      "Increase the number of iterations (max_iter) or scale the data as shown in:\n",
      "    https://scikit-learn.org/stable/modules/preprocessing.html\n",
      "  self.n_iter_ = _check_optimize_result(\"lbfgs\", opt_res, self.max_iter)\n",
      "D:\\anaconda\\envs\\tensorflow\\lib\\site-packages\\sklearn\\neural_network\\_multilayer_perceptron.py:559: ConvergenceWarning: lbfgs failed to converge (status=1):\n",
      "STOP: TOTAL NO. of ITERATIONS REACHED LIMIT.\n",
      "\n",
      "Increase the number of iterations (max_iter) or scale the data as shown in:\n",
      "    https://scikit-learn.org/stable/modules/preprocessing.html\n",
      "  self.n_iter_ = _check_optimize_result(\"lbfgs\", opt_res, self.max_iter)\n",
      "D:\\anaconda\\envs\\tensorflow\\lib\\site-packages\\sklearn\\neural_network\\_multilayer_perceptron.py:559: ConvergenceWarning: lbfgs failed to converge (status=1):\n",
      "STOP: TOTAL NO. of ITERATIONS REACHED LIMIT.\n",
      "\n",
      "Increase the number of iterations (max_iter) or scale the data as shown in:\n",
      "    https://scikit-learn.org/stable/modules/preprocessing.html\n",
      "  self.n_iter_ = _check_optimize_result(\"lbfgs\", opt_res, self.max_iter)\n",
      "D:\\anaconda\\envs\\tensorflow\\lib\\site-packages\\sklearn\\neural_network\\_multilayer_perceptron.py:559: ConvergenceWarning: lbfgs failed to converge (status=1):\n",
      "STOP: TOTAL NO. of ITERATIONS REACHED LIMIT.\n",
      "\n",
      "Increase the number of iterations (max_iter) or scale the data as shown in:\n",
      "    https://scikit-learn.org/stable/modules/preprocessing.html\n",
      "  self.n_iter_ = _check_optimize_result(\"lbfgs\", opt_res, self.max_iter)\n",
      "D:\\anaconda\\envs\\tensorflow\\lib\\site-packages\\sklearn\\neural_network\\_multilayer_perceptron.py:559: ConvergenceWarning: lbfgs failed to converge (status=1):\n",
      "STOP: TOTAL NO. of ITERATIONS REACHED LIMIT.\n",
      "\n",
      "Increase the number of iterations (max_iter) or scale the data as shown in:\n",
      "    https://scikit-learn.org/stable/modules/preprocessing.html\n",
      "  self.n_iter_ = _check_optimize_result(\"lbfgs\", opt_res, self.max_iter)\n",
      "D:\\anaconda\\envs\\tensorflow\\lib\\site-packages\\sklearn\\neural_network\\_multilayer_perceptron.py:559: ConvergenceWarning: lbfgs failed to converge (status=1):\n",
      "STOP: TOTAL NO. of ITERATIONS REACHED LIMIT.\n",
      "\n",
      "Increase the number of iterations (max_iter) or scale the data as shown in:\n",
      "    https://scikit-learn.org/stable/modules/preprocessing.html\n",
      "  self.n_iter_ = _check_optimize_result(\"lbfgs\", opt_res, self.max_iter)\n",
      "D:\\anaconda\\envs\\tensorflow\\lib\\site-packages\\sklearn\\neural_network\\_multilayer_perceptron.py:559: ConvergenceWarning: lbfgs failed to converge (status=1):\n",
      "STOP: TOTAL NO. of ITERATIONS REACHED LIMIT.\n",
      "\n",
      "Increase the number of iterations (max_iter) or scale the data as shown in:\n",
      "    https://scikit-learn.org/stable/modules/preprocessing.html\n",
      "  self.n_iter_ = _check_optimize_result(\"lbfgs\", opt_res, self.max_iter)\n"
     ]
    },
    {
     "name": "stdout",
     "output_type": "stream",
     "text": [
      "Iteration 1, loss = 0.67242633\n",
      "Iteration 2, loss = 0.52302678\n",
      "Iteration 3, loss = 0.44142460\n",
      "Iteration 4, loss = 0.38013727\n",
      "Iteration 5, loss = 0.33761046\n",
      "Iteration 6, loss = 0.30788027\n",
      "Iteration 7, loss = 0.28265005\n",
      "Iteration 8, loss = 0.26277626\n",
      "Iteration 9, loss = 0.24302283\n",
      "Iteration 10, loss = 0.22796467\n",
      "Iteration 11, loss = 0.21289020\n",
      "Iteration 12, loss = 0.20201790\n",
      "Iteration 13, loss = 0.18748373\n",
      "Iteration 14, loss = 0.17279218\n",
      "Iteration 15, loss = 0.16262482\n",
      "Iteration 16, loss = 0.15236581\n",
      "Iteration 17, loss = 0.14043627\n",
      "Iteration 18, loss = 0.13201381\n",
      "Iteration 19, loss = 0.12567440\n",
      "Iteration 20, loss = 0.11540140\n",
      "Iteration 1, loss = 0.67902177\n",
      "Iteration 2, loss = 0.52775197\n",
      "Iteration 3, loss = 0.44481799\n",
      "Iteration 4, loss = 0.38327990\n"
     ]
    },
    {
     "name": "stderr",
     "output_type": "stream",
     "text": [
      "D:\\anaconda\\envs\\tensorflow\\lib\\site-packages\\sklearn\\neural_network\\_multilayer_perceptron.py:702: ConvergenceWarning: Stochastic Optimizer: Maximum iterations (20) reached and the optimization hasn't converged yet.\n",
      "  warnings.warn(\n"
     ]
    },
    {
     "name": "stdout",
     "output_type": "stream",
     "text": [
      "Iteration 5, loss = 0.34046723\n",
      "Iteration 6, loss = 0.31247728\n",
      "Iteration 7, loss = 0.28666732\n",
      "Iteration 8, loss = 0.26651937\n",
      "Iteration 9, loss = 0.24672180\n",
      "Iteration 10, loss = 0.23244528\n",
      "Iteration 11, loss = 0.21828002\n",
      "Iteration 12, loss = 0.20401722\n",
      "Iteration 13, loss = 0.19058636\n",
      "Iteration 14, loss = 0.17727529\n",
      "Iteration 15, loss = 0.16672977\n",
      "Iteration 16, loss = 0.15669856\n",
      "Iteration 17, loss = 0.14416872\n",
      "Iteration 18, loss = 0.13385775\n",
      "Iteration 19, loss = 0.12619625\n",
      "Iteration 20, loss = 0.11687286\n",
      "Iteration 1, loss = 0.67603625\n",
      "Iteration 2, loss = 0.52869937\n",
      "Iteration 3, loss = 0.44636184\n"
     ]
    },
    {
     "name": "stderr",
     "output_type": "stream",
     "text": [
      "D:\\anaconda\\envs\\tensorflow\\lib\\site-packages\\sklearn\\neural_network\\_multilayer_perceptron.py:702: ConvergenceWarning: Stochastic Optimizer: Maximum iterations (20) reached and the optimization hasn't converged yet.\n",
      "  warnings.warn(\n"
     ]
    },
    {
     "name": "stdout",
     "output_type": "stream",
     "text": [
      "Iteration 4, loss = 0.38648330\n",
      "Iteration 5, loss = 0.34456733\n",
      "Iteration 6, loss = 0.31484988\n",
      "Iteration 7, loss = 0.28772940\n",
      "Iteration 8, loss = 0.26591108\n",
      "Iteration 9, loss = 0.24692309\n",
      "Iteration 10, loss = 0.23240260\n",
      "Iteration 11, loss = 0.21689313\n",
      "Iteration 12, loss = 0.20255137\n",
      "Iteration 13, loss = 0.18838086\n",
      "Iteration 14, loss = 0.17589154\n",
      "Iteration 15, loss = 0.16400424\n",
      "Iteration 16, loss = 0.15326313\n",
      "Iteration 17, loss = 0.14218343\n",
      "Iteration 18, loss = 0.13154404\n",
      "Iteration 19, loss = 0.12284211\n",
      "Iteration 20, loss = 0.11342275\n",
      "Iteration 1, loss = 0.67812649\n",
      "Iteration 2, loss = 0.52815102\n",
      "Iteration 3, loss = 0.44562270\n",
      "Iteration 4, loss = 0.38481561\n",
      "Iteration 5, loss = 0.34320607\n"
     ]
    },
    {
     "name": "stderr",
     "output_type": "stream",
     "text": [
      "D:\\anaconda\\envs\\tensorflow\\lib\\site-packages\\sklearn\\neural_network\\_multilayer_perceptron.py:702: ConvergenceWarning: Stochastic Optimizer: Maximum iterations (20) reached and the optimization hasn't converged yet.\n",
      "  warnings.warn(\n"
     ]
    },
    {
     "name": "stdout",
     "output_type": "stream",
     "text": [
      "Iteration 6, loss = 0.31310889\n",
      "Iteration 7, loss = 0.28462199\n",
      "Iteration 8, loss = 0.26433729\n",
      "Iteration 9, loss = 0.24676147\n",
      "Iteration 10, loss = 0.23291167\n",
      "Iteration 11, loss = 0.21767050\n",
      "Iteration 12, loss = 0.20168705\n",
      "Iteration 13, loss = 0.18863224\n",
      "Iteration 14, loss = 0.17627107\n",
      "Iteration 15, loss = 0.16536263\n",
      "Iteration 16, loss = 0.15582398\n",
      "Iteration 17, loss = 0.14485501\n",
      "Iteration 18, loss = 0.13362717\n",
      "Iteration 19, loss = 0.12484123\n",
      "Iteration 20, loss = 0.11655833\n",
      "Iteration 1, loss = 0.67417979\n",
      "Iteration 2, loss = 0.52324896\n",
      "Iteration 3, loss = 0.44152061\n",
      "Iteration 4, loss = 0.38230720\n",
      "Iteration 5, loss = 0.34149328\n",
      "Iteration 6, loss = 0.31261441\n"
     ]
    },
    {
     "name": "stderr",
     "output_type": "stream",
     "text": [
      "D:\\anaconda\\envs\\tensorflow\\lib\\site-packages\\sklearn\\neural_network\\_multilayer_perceptron.py:702: ConvergenceWarning: Stochastic Optimizer: Maximum iterations (20) reached and the optimization hasn't converged yet.\n",
      "  warnings.warn(\n"
     ]
    },
    {
     "name": "stdout",
     "output_type": "stream",
     "text": [
      "Iteration 7, loss = 0.28420912\n",
      "Iteration 8, loss = 0.26439138\n",
      "Iteration 9, loss = 0.24658428\n",
      "Iteration 10, loss = 0.23158921\n",
      "Iteration 11, loss = 0.21605478\n",
      "Iteration 12, loss = 0.19975673\n",
      "Iteration 13, loss = 0.18699139\n",
      "Iteration 14, loss = 0.17375951\n",
      "Iteration 15, loss = 0.16337265\n",
      "Iteration 16, loss = 0.15236479\n",
      "Iteration 17, loss = 0.14080988\n",
      "Iteration 18, loss = 0.12967350\n",
      "Iteration 19, loss = 0.12051806\n",
      "Iteration 20, loss = 0.11229599\n"
     ]
    },
    {
     "name": "stderr",
     "output_type": "stream",
     "text": [
      "D:\\anaconda\\envs\\tensorflow\\lib\\site-packages\\sklearn\\neural_network\\_multilayer_perceptron.py:702: ConvergenceWarning: Stochastic Optimizer: Maximum iterations (20) reached and the optimization hasn't converged yet.\n",
      "  warnings.warn(\n"
     ]
    },
    {
     "name": "stdout",
     "output_type": "stream",
     "text": [
      "Iteration 1, loss = 0.67704029\n",
      "Iteration 2, loss = 0.52568184\n",
      "Iteration 3, loss = 0.44390351\n",
      "Iteration 4, loss = 0.38343017\n",
      "Iteration 5, loss = 0.34179421\n",
      "Iteration 6, loss = 0.31416930\n",
      "Iteration 7, loss = 0.28522190\n",
      "Iteration 8, loss = 0.26523025\n",
      "Iteration 9, loss = 0.24656987\n",
      "Iteration 10, loss = 0.23174937\n",
      "Iteration 11, loss = 0.21682868\n",
      "Iteration 12, loss = 0.20072274\n",
      "Iteration 13, loss = 0.18821341\n",
      "Iteration 14, loss = 0.17720036\n",
      "Iteration 15, loss = 0.16482471\n",
      "Iteration 16, loss = 0.15346926\n",
      "Iteration 17, loss = 0.14297436\n",
      "Iteration 18, loss = 0.13356051\n",
      "Iteration 19, loss = 0.12405356\n",
      "Iteration 20, loss = 0.11562881\n"
     ]
    },
    {
     "name": "stderr",
     "output_type": "stream",
     "text": [
      "D:\\anaconda\\envs\\tensorflow\\lib\\site-packages\\sklearn\\neural_network\\_multilayer_perceptron.py:702: ConvergenceWarning: Stochastic Optimizer: Maximum iterations (20) reached and the optimization hasn't converged yet.\n",
      "  warnings.warn(\n"
     ]
    },
    {
     "name": "stdout",
     "output_type": "stream",
     "text": [
      "Iteration 1, loss = 0.67548525\n",
      "Iteration 2, loss = 0.52204646\n",
      "Iteration 3, loss = 0.43899630\n",
      "Iteration 4, loss = 0.37788240\n",
      "Iteration 5, loss = 0.33422691\n",
      "Iteration 6, loss = 0.30441424\n",
      "Iteration 7, loss = 0.27683501\n",
      "Iteration 8, loss = 0.25701469\n",
      "Iteration 9, loss = 0.23800532\n",
      "Iteration 10, loss = 0.22513013\n",
      "Iteration 11, loss = 0.20990265\n",
      "Iteration 12, loss = 0.19553888\n",
      "Iteration 13, loss = 0.18338264\n",
      "Iteration 14, loss = 0.17198022\n",
      "Iteration 15, loss = 0.15929172\n",
      "Iteration 16, loss = 0.14905986\n",
      "Iteration 17, loss = 0.13916575\n",
      "Iteration 18, loss = 0.12958787\n",
      "Iteration 19, loss = 0.11931114\n",
      "Iteration 20, loss = 0.11264584\n",
      "Iteration 1, loss = 0.67349342\n",
      "Iteration 2, loss = 0.52379234\n",
      "Iteration 3, loss = 0.44156402\n"
     ]
    },
    {
     "name": "stderr",
     "output_type": "stream",
     "text": [
      "D:\\anaconda\\envs\\tensorflow\\lib\\site-packages\\sklearn\\neural_network\\_multilayer_perceptron.py:702: ConvergenceWarning: Stochastic Optimizer: Maximum iterations (20) reached and the optimization hasn't converged yet.\n",
      "  warnings.warn(\n"
     ]
    },
    {
     "name": "stdout",
     "output_type": "stream",
     "text": [
      "Iteration 4, loss = 0.38308794\n",
      "Iteration 5, loss = 0.34149223\n",
      "Iteration 6, loss = 0.31230498\n",
      "Iteration 7, loss = 0.28584180\n",
      "Iteration 8, loss = 0.26606625\n",
      "Iteration 9, loss = 0.24668063\n",
      "Iteration 10, loss = 0.23215225\n",
      "Iteration 11, loss = 0.21784805\n",
      "Iteration 12, loss = 0.20253236\n",
      "Iteration 13, loss = 0.19084001\n",
      "Iteration 14, loss = 0.18058487\n",
      "Iteration 15, loss = 0.16749384\n",
      "Iteration 16, loss = 0.15702650\n",
      "Iteration 17, loss = 0.14596972\n",
      "Iteration 18, loss = 0.13540850\n",
      "Iteration 19, loss = 0.12514895\n",
      "Iteration 20, loss = 0.11644347\n",
      "Iteration 1, loss = 0.66985780\n",
      "Iteration 2, loss = 0.52076746\n",
      "Iteration 3, loss = 0.43881772\n",
      "Iteration 4, loss = 0.38132545\n"
     ]
    },
    {
     "name": "stderr",
     "output_type": "stream",
     "text": [
      "D:\\anaconda\\envs\\tensorflow\\lib\\site-packages\\sklearn\\neural_network\\_multilayer_perceptron.py:702: ConvergenceWarning: Stochastic Optimizer: Maximum iterations (20) reached and the optimization hasn't converged yet.\n",
      "  warnings.warn(\n"
     ]
    },
    {
     "name": "stdout",
     "output_type": "stream",
     "text": [
      "Iteration 5, loss = 0.33781871\n",
      "Iteration 6, loss = 0.30747131\n",
      "Iteration 7, loss = 0.28467601\n",
      "Iteration 8, loss = 0.26486276\n",
      "Iteration 9, loss = 0.24668475\n",
      "Iteration 10, loss = 0.23219014\n",
      "Iteration 11, loss = 0.21666631\n",
      "Iteration 12, loss = 0.20184284\n",
      "Iteration 13, loss = 0.19039469\n",
      "Iteration 14, loss = 0.17776514\n",
      "Iteration 15, loss = 0.16548088\n",
      "Iteration 16, loss = 0.15431102\n",
      "Iteration 17, loss = 0.14304701\n",
      "Iteration 18, loss = 0.13431756\n",
      "Iteration 19, loss = 0.12407480\n",
      "Iteration 20, loss = 0.11579604\n",
      "Iteration 1, loss = 0.67298948\n",
      "Iteration 2, loss = 0.52755677\n",
      "Iteration 3, loss = 0.44696108\n",
      "Iteration 4, loss = 0.38886033\n",
      "Iteration 5, loss = 0.34505447\n",
      "Iteration 6, loss = 0.31425881\n"
     ]
    },
    {
     "name": "stderr",
     "output_type": "stream",
     "text": [
      "D:\\anaconda\\envs\\tensorflow\\lib\\site-packages\\sklearn\\neural_network\\_multilayer_perceptron.py:702: ConvergenceWarning: Stochastic Optimizer: Maximum iterations (20) reached and the optimization hasn't converged yet.\n",
      "  warnings.warn(\n"
     ]
    },
    {
     "name": "stdout",
     "output_type": "stream",
     "text": [
      "Iteration 7, loss = 0.28989810\n",
      "Iteration 8, loss = 0.26887667\n",
      "Iteration 9, loss = 0.25129205\n",
      "Iteration 10, loss = 0.23743875\n",
      "Iteration 11, loss = 0.22066656\n",
      "Iteration 12, loss = 0.20485129\n",
      "Iteration 13, loss = 0.19252343\n",
      "Iteration 14, loss = 0.17897002\n",
      "Iteration 15, loss = 0.16684481\n",
      "Iteration 16, loss = 0.15542318\n",
      "Iteration 17, loss = 0.14428166\n",
      "Iteration 18, loss = 0.13579608\n",
      "Iteration 19, loss = 0.12442145\n",
      "Iteration 20, loss = 0.11602031\n"
     ]
    },
    {
     "name": "stderr",
     "output_type": "stream",
     "text": [
      "D:\\anaconda\\envs\\tensorflow\\lib\\site-packages\\sklearn\\neural_network\\_multilayer_perceptron.py:702: ConvergenceWarning: Stochastic Optimizer: Maximum iterations (20) reached and the optimization hasn't converged yet.\n",
      "  warnings.warn(\n"
     ]
    },
    {
     "name": "stdout",
     "output_type": "stream",
     "text": [
      "Iteration 1, loss = 0.76414247\n",
      "Iteration 2, loss = 0.71943040\n",
      "Iteration 3, loss = 0.68472780\n",
      "Iteration 4, loss = 0.65777900\n",
      "Iteration 5, loss = 0.63858612\n",
      "Iteration 6, loss = 0.62294426\n",
      "Iteration 7, loss = 0.60968452\n",
      "Iteration 8, loss = 0.59828429\n",
      "Iteration 9, loss = 0.58691346\n",
      "Iteration 10, loss = 0.57757181\n",
      "Iteration 11, loss = 0.56798529\n",
      "Iteration 12, loss = 0.55948690\n",
      "Iteration 13, loss = 0.55121250\n",
      "Iteration 14, loss = 0.54326056\n",
      "Iteration 15, loss = 0.53536166\n",
      "Iteration 16, loss = 0.52787729\n",
      "Iteration 17, loss = 0.52062734\n",
      "Iteration 18, loss = 0.51410314\n",
      "Iteration 19, loss = 0.50727950\n",
      "Iteration 20, loss = 0.50063161\n",
      "Iteration 1, loss = 0.76638383\n",
      "Iteration 2, loss = 0.72197105\n",
      "Iteration 3, loss = 0.68781684\n",
      "Iteration 4, loss = 0.66132638\n"
     ]
    },
    {
     "name": "stderr",
     "output_type": "stream",
     "text": [
      "D:\\anaconda\\envs\\tensorflow\\lib\\site-packages\\sklearn\\neural_network\\_multilayer_perceptron.py:702: ConvergenceWarning: Stochastic Optimizer: Maximum iterations (20) reached and the optimization hasn't converged yet.\n",
      "  warnings.warn(\n"
     ]
    },
    {
     "name": "stdout",
     "output_type": "stream",
     "text": [
      "Iteration 5, loss = 0.64211693\n",
      "Iteration 6, loss = 0.62672180\n",
      "Iteration 7, loss = 0.61330411\n",
      "Iteration 8, loss = 0.60205994\n",
      "Iteration 9, loss = 0.59105332\n",
      "Iteration 10, loss = 0.58173004\n",
      "Iteration 11, loss = 0.57227382\n",
      "Iteration 12, loss = 0.56387346\n",
      "Iteration 13, loss = 0.55577863\n",
      "Iteration 14, loss = 0.54815214\n",
      "Iteration 15, loss = 0.54041290\n",
      "Iteration 16, loss = 0.53300937\n",
      "Iteration 17, loss = 0.52579290\n",
      "Iteration 18, loss = 0.51916467\n",
      "Iteration 19, loss = 0.51232423\n",
      "Iteration 20, loss = 0.50567611\n",
      "Iteration 1, loss = 0.76292144\n",
      "Iteration 2, loss = 0.71952402\n",
      "Iteration 3, loss = 0.68614801\n",
      "Iteration 4, loss = 0.66026534\n",
      "Iteration 5, loss = 0.64160353\n"
     ]
    },
    {
     "name": "stderr",
     "output_type": "stream",
     "text": [
      "D:\\anaconda\\envs\\tensorflow\\lib\\site-packages\\sklearn\\neural_network\\_multilayer_perceptron.py:702: ConvergenceWarning: Stochastic Optimizer: Maximum iterations (20) reached and the optimization hasn't converged yet.\n",
      "  warnings.warn(\n"
     ]
    },
    {
     "name": "stdout",
     "output_type": "stream",
     "text": [
      "Iteration 6, loss = 0.62635880\n",
      "Iteration 7, loss = 0.61318334\n",
      "Iteration 8, loss = 0.60208408\n",
      "Iteration 9, loss = 0.59164930\n",
      "Iteration 10, loss = 0.58220737\n",
      "Iteration 11, loss = 0.57293437\n",
      "Iteration 12, loss = 0.56459209\n",
      "Iteration 13, loss = 0.55673813\n",
      "Iteration 14, loss = 0.54898641\n",
      "Iteration 15, loss = 0.54123463\n",
      "Iteration 16, loss = 0.53392653\n",
      "Iteration 17, loss = 0.52688593\n",
      "Iteration 18, loss = 0.52004294\n",
      "Iteration 19, loss = 0.51321770\n",
      "Iteration 20, loss = 0.50670782\n",
      "Iteration 1, loss = 0.76557235\n",
      "Iteration 2, loss = 0.72134773\n",
      "Iteration 3, loss = 0.68708610\n",
      "Iteration 4, loss = 0.66053288\n"
     ]
    },
    {
     "name": "stderr",
     "output_type": "stream",
     "text": [
      "D:\\anaconda\\envs\\tensorflow\\lib\\site-packages\\sklearn\\neural_network\\_multilayer_perceptron.py:702: ConvergenceWarning: Stochastic Optimizer: Maximum iterations (20) reached and the optimization hasn't converged yet.\n",
      "  warnings.warn(\n"
     ]
    },
    {
     "name": "stdout",
     "output_type": "stream",
     "text": [
      "Iteration 5, loss = 0.64144293\n",
      "Iteration 6, loss = 0.62579074\n",
      "Iteration 7, loss = 0.61231933\n",
      "Iteration 8, loss = 0.60098195\n",
      "Iteration 9, loss = 0.59033648\n",
      "Iteration 10, loss = 0.58063005\n",
      "Iteration 11, loss = 0.57116940\n",
      "Iteration 12, loss = 0.56253554\n",
      "Iteration 13, loss = 0.55449100\n",
      "Iteration 14, loss = 0.54653704\n",
      "Iteration 15, loss = 0.53853514\n",
      "Iteration 16, loss = 0.53116426\n",
      "Iteration 17, loss = 0.52405733\n",
      "Iteration 18, loss = 0.51720004\n",
      "Iteration 19, loss = 0.51028407\n",
      "Iteration 20, loss = 0.50344497\n",
      "Iteration 1, loss = 0.76280652\n",
      "Iteration 2, loss = 0.71692642\n",
      "Iteration 3, loss = 0.68279228\n",
      "Iteration 4, loss = 0.65615002\n",
      "Iteration 5, loss = 0.63721923\n",
      "Iteration 6, loss = 0.62157369\n",
      "Iteration 7, loss = 0.60816393\n"
     ]
    },
    {
     "name": "stderr",
     "output_type": "stream",
     "text": [
      "D:\\anaconda\\envs\\tensorflow\\lib\\site-packages\\sklearn\\neural_network\\_multilayer_perceptron.py:702: ConvergenceWarning: Stochastic Optimizer: Maximum iterations (20) reached and the optimization hasn't converged yet.\n",
      "  warnings.warn(\n"
     ]
    },
    {
     "name": "stdout",
     "output_type": "stream",
     "text": [
      "Iteration 8, loss = 0.59665182\n",
      "Iteration 9, loss = 0.58621080\n",
      "Iteration 10, loss = 0.57640527\n",
      "Iteration 11, loss = 0.56680660\n",
      "Iteration 12, loss = 0.55818463\n",
      "Iteration 13, loss = 0.55044833\n",
      "Iteration 14, loss = 0.54229670\n",
      "Iteration 15, loss = 0.53460610\n",
      "Iteration 16, loss = 0.52713626\n",
      "Iteration 17, loss = 0.52007551\n",
      "Iteration 18, loss = 0.51312163\n",
      "Iteration 19, loss = 0.50629034\n",
      "Iteration 20, loss = 0.49941839\n",
      "Iteration 1, loss = 0.76519730\n",
      "Iteration 2, loss = 0.71992331\n"
     ]
    },
    {
     "name": "stderr",
     "output_type": "stream",
     "text": [
      "D:\\anaconda\\envs\\tensorflow\\lib\\site-packages\\sklearn\\neural_network\\_multilayer_perceptron.py:702: ConvergenceWarning: Stochastic Optimizer: Maximum iterations (20) reached and the optimization hasn't converged yet.\n",
      "  warnings.warn(\n"
     ]
    },
    {
     "name": "stdout",
     "output_type": "stream",
     "text": [
      "Iteration 3, loss = 0.68597604\n",
      "Iteration 4, loss = 0.65926192\n",
      "Iteration 5, loss = 0.64007870\n",
      "Iteration 6, loss = 0.62445430\n",
      "Iteration 7, loss = 0.61120813\n",
      "Iteration 8, loss = 0.59965305\n",
      "Iteration 9, loss = 0.58934289\n",
      "Iteration 10, loss = 0.57978631\n",
      "Iteration 11, loss = 0.57035917\n",
      "Iteration 12, loss = 0.56179334\n",
      "Iteration 13, loss = 0.55414817\n",
      "Iteration 14, loss = 0.54584844\n",
      "Iteration 15, loss = 0.53827062\n",
      "Iteration 16, loss = 0.53090768\n",
      "Iteration 17, loss = 0.52372874\n",
      "Iteration 18, loss = 0.51699539\n",
      "Iteration 19, loss = 0.51002634\n",
      "Iteration 20, loss = 0.50322701\n",
      "Iteration 1, loss = 0.76734115\n",
      "Iteration 2, loss = 0.72002865\n",
      "Iteration 3, loss = 0.68440206\n",
      "Iteration 4, loss = 0.65712346\n",
      "Iteration 5, loss = 0.63771984\n",
      "Iteration 6, loss = 0.62204727\n"
     ]
    },
    {
     "name": "stderr",
     "output_type": "stream",
     "text": [
      "D:\\anaconda\\envs\\tensorflow\\lib\\site-packages\\sklearn\\neural_network\\_multilayer_perceptron.py:702: ConvergenceWarning: Stochastic Optimizer: Maximum iterations (20) reached and the optimization hasn't converged yet.\n",
      "  warnings.warn(\n"
     ]
    },
    {
     "name": "stdout",
     "output_type": "stream",
     "text": [
      "Iteration 7, loss = 0.60860216\n",
      "Iteration 8, loss = 0.59697791\n",
      "Iteration 9, loss = 0.58638219\n",
      "Iteration 10, loss = 0.57686758\n",
      "Iteration 11, loss = 0.56743571\n",
      "Iteration 12, loss = 0.55897937\n",
      "Iteration 13, loss = 0.55109061\n",
      "Iteration 14, loss = 0.54285164\n",
      "Iteration 15, loss = 0.53506059\n",
      "Iteration 16, loss = 0.52800588\n",
      "Iteration 17, loss = 0.52058325\n",
      "Iteration 18, loss = 0.51394965\n",
      "Iteration 19, loss = 0.50713580\n",
      "Iteration 20, loss = 0.50015833\n",
      "Iteration 1, loss = 0.76174748\n"
     ]
    },
    {
     "name": "stderr",
     "output_type": "stream",
     "text": [
      "D:\\anaconda\\envs\\tensorflow\\lib\\site-packages\\sklearn\\neural_network\\_multilayer_perceptron.py:702: ConvergenceWarning: Stochastic Optimizer: Maximum iterations (20) reached and the optimization hasn't converged yet.\n",
      "  warnings.warn(\n"
     ]
    },
    {
     "name": "stdout",
     "output_type": "stream",
     "text": [
      "Iteration 2, loss = 0.71798426\n",
      "Iteration 3, loss = 0.68436648\n",
      "Iteration 4, loss = 0.65908698\n",
      "Iteration 5, loss = 0.64013293\n",
      "Iteration 6, loss = 0.62467792\n",
      "Iteration 7, loss = 0.61137359\n",
      "Iteration 8, loss = 0.59974018\n",
      "Iteration 9, loss = 0.58909185\n",
      "Iteration 10, loss = 0.57950058\n",
      "Iteration 11, loss = 0.56997657\n",
      "Iteration 12, loss = 0.56133833\n",
      "Iteration 13, loss = 0.55328379\n",
      "Iteration 14, loss = 0.54525585\n",
      "Iteration 15, loss = 0.53709614\n",
      "Iteration 16, loss = 0.53016042\n",
      "Iteration 17, loss = 0.52238490\n",
      "Iteration 18, loss = 0.51542873\n",
      "Iteration 19, loss = 0.50853599\n",
      "Iteration 20, loss = 0.50172767\n",
      "Iteration 1, loss = 0.76101922\n",
      "Iteration 2, loss = 0.71569878\n",
      "Iteration 3, loss = 0.68108709\n",
      "Iteration 4, loss = 0.65516962\n",
      "Iteration 5, loss = 0.63622700\n"
     ]
    },
    {
     "name": "stderr",
     "output_type": "stream",
     "text": [
      "D:\\anaconda\\envs\\tensorflow\\lib\\site-packages\\sklearn\\neural_network\\_multilayer_perceptron.py:702: ConvergenceWarning: Stochastic Optimizer: Maximum iterations (20) reached and the optimization hasn't converged yet.\n",
      "  warnings.warn(\n"
     ]
    },
    {
     "name": "stdout",
     "output_type": "stream",
     "text": [
      "Iteration 6, loss = 0.62043606\n",
      "Iteration 7, loss = 0.60739893\n",
      "Iteration 8, loss = 0.59570285\n",
      "Iteration 9, loss = 0.58531074\n",
      "Iteration 10, loss = 0.57547718\n",
      "Iteration 11, loss = 0.56599929\n",
      "Iteration 12, loss = 0.55761202\n",
      "Iteration 13, loss = 0.54925543\n",
      "Iteration 14, loss = 0.54178266\n",
      "Iteration 15, loss = 0.53373829\n",
      "Iteration 16, loss = 0.52595687\n",
      "Iteration 17, loss = 0.51902670\n",
      "Iteration 18, loss = 0.51180768\n",
      "Iteration 19, loss = 0.50525452\n",
      "Iteration 20, loss = 0.49860588\n",
      "Iteration 1, loss = 0.76025880\n"
     ]
    },
    {
     "name": "stderr",
     "output_type": "stream",
     "text": [
      "D:\\anaconda\\envs\\tensorflow\\lib\\site-packages\\sklearn\\neural_network\\_multilayer_perceptron.py:702: ConvergenceWarning: Stochastic Optimizer: Maximum iterations (20) reached and the optimization hasn't converged yet.\n",
      "  warnings.warn(\n"
     ]
    },
    {
     "name": "stdout",
     "output_type": "stream",
     "text": [
      "Iteration 2, loss = 0.71794139\n",
      "Iteration 3, loss = 0.68475501\n",
      "Iteration 4, loss = 0.65966333\n",
      "Iteration 5, loss = 0.64106930\n",
      "Iteration 6, loss = 0.62565394\n",
      "Iteration 7, loss = 0.61261161\n",
      "Iteration 8, loss = 0.60120576\n",
      "Iteration 9, loss = 0.59086876\n",
      "Iteration 10, loss = 0.58126530\n",
      "Iteration 11, loss = 0.57212802\n",
      "Iteration 12, loss = 0.56399576\n",
      "Iteration 13, loss = 0.55601694\n",
      "Iteration 14, loss = 0.54853787\n",
      "Iteration 15, loss = 0.54106909\n",
      "Iteration 16, loss = 0.53342283\n",
      "Iteration 17, loss = 0.52668265\n",
      "Iteration 18, loss = 0.51949040\n",
      "Iteration 19, loss = 0.51309099\n",
      "Iteration 20, loss = 0.50662654\n"
     ]
    },
    {
     "name": "stderr",
     "output_type": "stream",
     "text": [
      "D:\\anaconda\\envs\\tensorflow\\lib\\site-packages\\sklearn\\neural_network\\_multilayer_perceptron.py:702: ConvergenceWarning: Stochastic Optimizer: Maximum iterations (20) reached and the optimization hasn't converged yet.\n",
      "  warnings.warn(\n",
      "D:\\anaconda\\envs\\tensorflow\\lib\\site-packages\\sklearn\\neural_network\\_multilayer_perceptron.py:559: ConvergenceWarning: lbfgs failed to converge (status=1):\n",
      "STOP: TOTAL NO. of ITERATIONS REACHED LIMIT.\n",
      "\n",
      "Increase the number of iterations (max_iter) or scale the data as shown in:\n",
      "    https://scikit-learn.org/stable/modules/preprocessing.html\n",
      "  self.n_iter_ = _check_optimize_result(\"lbfgs\", opt_res, self.max_iter)\n",
      "D:\\anaconda\\envs\\tensorflow\\lib\\site-packages\\sklearn\\neural_network\\_multilayer_perceptron.py:559: ConvergenceWarning: lbfgs failed to converge (status=1):\n",
      "STOP: TOTAL NO. of ITERATIONS REACHED LIMIT.\n",
      "\n",
      "Increase the number of iterations (max_iter) or scale the data as shown in:\n",
      "    https://scikit-learn.org/stable/modules/preprocessing.html\n",
      "  self.n_iter_ = _check_optimize_result(\"lbfgs\", opt_res, self.max_iter)\n",
      "D:\\anaconda\\envs\\tensorflow\\lib\\site-packages\\sklearn\\neural_network\\_multilayer_perceptron.py:559: ConvergenceWarning: lbfgs failed to converge (status=1):\n",
      "STOP: TOTAL NO. of ITERATIONS REACHED LIMIT.\n",
      "\n",
      "Increase the number of iterations (max_iter) or scale the data as shown in:\n",
      "    https://scikit-learn.org/stable/modules/preprocessing.html\n",
      "  self.n_iter_ = _check_optimize_result(\"lbfgs\", opt_res, self.max_iter)\n",
      "D:\\anaconda\\envs\\tensorflow\\lib\\site-packages\\sklearn\\neural_network\\_multilayer_perceptron.py:559: ConvergenceWarning: lbfgs failed to converge (status=1):\n",
      "STOP: TOTAL NO. of ITERATIONS REACHED LIMIT.\n",
      "\n",
      "Increase the number of iterations (max_iter) or scale the data as shown in:\n",
      "    https://scikit-learn.org/stable/modules/preprocessing.html\n",
      "  self.n_iter_ = _check_optimize_result(\"lbfgs\", opt_res, self.max_iter)\n",
      "D:\\anaconda\\envs\\tensorflow\\lib\\site-packages\\sklearn\\neural_network\\_multilayer_perceptron.py:559: ConvergenceWarning: lbfgs failed to converge (status=1):\n",
      "STOP: TOTAL NO. of ITERATIONS REACHED LIMIT.\n",
      "\n",
      "Increase the number of iterations (max_iter) or scale the data as shown in:\n",
      "    https://scikit-learn.org/stable/modules/preprocessing.html\n",
      "  self.n_iter_ = _check_optimize_result(\"lbfgs\", opt_res, self.max_iter)\n",
      "D:\\anaconda\\envs\\tensorflow\\lib\\site-packages\\sklearn\\neural_network\\_multilayer_perceptron.py:559: ConvergenceWarning: lbfgs failed to converge (status=1):\n",
      "STOP: TOTAL NO. of ITERATIONS REACHED LIMIT.\n",
      "\n",
      "Increase the number of iterations (max_iter) or scale the data as shown in:\n",
      "    https://scikit-learn.org/stable/modules/preprocessing.html\n",
      "  self.n_iter_ = _check_optimize_result(\"lbfgs\", opt_res, self.max_iter)\n",
      "D:\\anaconda\\envs\\tensorflow\\lib\\site-packages\\sklearn\\neural_network\\_multilayer_perceptron.py:559: ConvergenceWarning: lbfgs failed to converge (status=1):\n",
      "STOP: TOTAL NO. of ITERATIONS REACHED LIMIT.\n",
      "\n",
      "Increase the number of iterations (max_iter) or scale the data as shown in:\n",
      "    https://scikit-learn.org/stable/modules/preprocessing.html\n",
      "  self.n_iter_ = _check_optimize_result(\"lbfgs\", opt_res, self.max_iter)\n",
      "D:\\anaconda\\envs\\tensorflow\\lib\\site-packages\\sklearn\\neural_network\\_multilayer_perceptron.py:559: ConvergenceWarning: lbfgs failed to converge (status=1):\n",
      "STOP: TOTAL NO. of ITERATIONS REACHED LIMIT.\n",
      "\n",
      "Increase the number of iterations (max_iter) or scale the data as shown in:\n",
      "    https://scikit-learn.org/stable/modules/preprocessing.html\n",
      "  self.n_iter_ = _check_optimize_result(\"lbfgs\", opt_res, self.max_iter)\n",
      "D:\\anaconda\\envs\\tensorflow\\lib\\site-packages\\sklearn\\neural_network\\_multilayer_perceptron.py:559: ConvergenceWarning: lbfgs failed to converge (status=1):\n",
      "STOP: TOTAL NO. of ITERATIONS REACHED LIMIT.\n",
      "\n",
      "Increase the number of iterations (max_iter) or scale the data as shown in:\n",
      "    https://scikit-learn.org/stable/modules/preprocessing.html\n",
      "  self.n_iter_ = _check_optimize_result(\"lbfgs\", opt_res, self.max_iter)\n",
      "D:\\anaconda\\envs\\tensorflow\\lib\\site-packages\\sklearn\\neural_network\\_multilayer_perceptron.py:559: ConvergenceWarning: lbfgs failed to converge (status=1):\n",
      "STOP: TOTAL NO. of ITERATIONS REACHED LIMIT.\n",
      "\n",
      "Increase the number of iterations (max_iter) or scale the data as shown in:\n",
      "    https://scikit-learn.org/stable/modules/preprocessing.html\n",
      "  self.n_iter_ = _check_optimize_result(\"lbfgs\", opt_res, self.max_iter)\n"
     ]
    },
    {
     "name": "stdout",
     "output_type": "stream",
     "text": [
      "Iteration 1, loss = 0.93715115\n",
      "Iteration 2, loss = 0.91610978\n",
      "Iteration 3, loss = 0.89998122\n",
      "Iteration 4, loss = 0.88784288\n",
      "Iteration 5, loss = 0.87833527\n",
      "Iteration 6, loss = 0.87081756\n",
      "Iteration 7, loss = 0.86440347\n",
      "Iteration 8, loss = 0.85872517\n",
      "Iteration 9, loss = 0.85366530\n",
      "Iteration 10, loss = 0.84890493\n",
      "Iteration 11, loss = 0.84438890\n",
      "Iteration 12, loss = 0.84012245\n",
      "Iteration 13, loss = 0.83588579\n",
      "Iteration 14, loss = 0.83172951\n",
      "Iteration 15, loss = 0.82768080\n",
      "Iteration 16, loss = 0.82362650\n",
      "Iteration 17, loss = 0.81958068\n",
      "Iteration 18, loss = 0.81547518\n",
      "Iteration 19, loss = 0.81126163\n",
      "Iteration 20, loss = 0.80683544\n",
      "Iteration 1, loss = 0.93236741\n",
      "Iteration 2, loss = 0.91144280\n",
      "Iteration 3, loss = 0.89534092\n",
      "Iteration 4, loss = 0.88325702\n",
      "Iteration 5, loss = 0.87382304\n",
      "Iteration 6, loss = 0.86632040\n",
      "Iteration 7, loss = 0.85990853\n",
      "Iteration 8, loss = 0.85427124\n",
      "Iteration 9, loss = 0.84926386\n",
      "Iteration 10, loss = 0.84461003\n",
      "Iteration 11, loss = 0.84016179\n",
      "Iteration 12, loss = 0.83593518\n",
      "Iteration 13, loss = 0.83180739\n",
      "Iteration 14, loss = 0.82774306\n",
      "Iteration 15, loss = 0.82379564\n"
     ]
    },
    {
     "name": "stderr",
     "output_type": "stream",
     "text": [
      "D:\\anaconda\\envs\\tensorflow\\lib\\site-packages\\sklearn\\neural_network\\_multilayer_perceptron.py:702: ConvergenceWarning: Stochastic Optimizer: Maximum iterations (20) reached and the optimization hasn't converged yet.\n",
      "  warnings.warn(\n"
     ]
    },
    {
     "name": "stdout",
     "output_type": "stream",
     "text": [
      "Iteration 16, loss = 0.81987400\n",
      "Iteration 17, loss = 0.81596892\n",
      "Iteration 18, loss = 0.81204570\n",
      "Iteration 19, loss = 0.80806497\n",
      "Iteration 20, loss = 0.80394901\n",
      "Iteration 1, loss = 0.92752492\n",
      "Iteration 2, loss = 0.90702724\n",
      "Iteration 3, loss = 0.89136301\n",
      "Iteration 4, loss = 0.87961268\n",
      "Iteration 5, loss = 0.87036003\n",
      "Iteration 6, loss = 0.86305319\n",
      "Iteration 7, loss = 0.85676935\n",
      "Iteration 8, loss = 0.85123058\n",
      "Iteration 9, loss = 0.84628754\n",
      "Iteration 10, loss = 0.84169625\n",
      "Iteration 11, loss = 0.83732418\n",
      "Iteration 12, loss = 0.83313268\n"
     ]
    },
    {
     "name": "stderr",
     "output_type": "stream",
     "text": [
      "D:\\anaconda\\envs\\tensorflow\\lib\\site-packages\\sklearn\\neural_network\\_multilayer_perceptron.py:702: ConvergenceWarning: Stochastic Optimizer: Maximum iterations (20) reached and the optimization hasn't converged yet.\n",
      "  warnings.warn(\n"
     ]
    },
    {
     "name": "stdout",
     "output_type": "stream",
     "text": [
      "Iteration 13, loss = 0.82905107\n",
      "Iteration 14, loss = 0.82503249\n",
      "Iteration 15, loss = 0.82108600\n",
      "Iteration 16, loss = 0.81717936\n",
      "Iteration 17, loss = 0.81325968\n",
      "Iteration 18, loss = 0.80927940\n",
      "Iteration 19, loss = 0.80521327\n",
      "Iteration 20, loss = 0.80097115\n",
      "Iteration 1, loss = 0.93613372\n",
      "Iteration 2, loss = 0.91497971\n",
      "Iteration 3, loss = 0.89884464\n",
      "Iteration 4, loss = 0.88673867\n",
      "Iteration 5, loss = 0.87721221\n",
      "Iteration 6, loss = 0.86966536\n",
      "Iteration 7, loss = 0.86322693\n"
     ]
    },
    {
     "name": "stderr",
     "output_type": "stream",
     "text": [
      "D:\\anaconda\\envs\\tensorflow\\lib\\site-packages\\sklearn\\neural_network\\_multilayer_perceptron.py:702: ConvergenceWarning: Stochastic Optimizer: Maximum iterations (20) reached and the optimization hasn't converged yet.\n",
      "  warnings.warn(\n"
     ]
    },
    {
     "name": "stdout",
     "output_type": "stream",
     "text": [
      "Iteration 8, loss = 0.85754736\n",
      "Iteration 9, loss = 0.85247904\n",
      "Iteration 10, loss = 0.84776506\n",
      "Iteration 11, loss = 0.84332547\n",
      "Iteration 12, loss = 0.83904132\n",
      "Iteration 13, loss = 0.83486305\n",
      "Iteration 14, loss = 0.83080575\n",
      "Iteration 15, loss = 0.82677931\n",
      "Iteration 16, loss = 0.82287557\n",
      "Iteration 17, loss = 0.81895361\n",
      "Iteration 18, loss = 0.81505997\n",
      "Iteration 19, loss = 0.81111168\n",
      "Iteration 20, loss = 0.80712578\n",
      "Iteration 1, loss = 0.92737128\n"
     ]
    },
    {
     "name": "stderr",
     "output_type": "stream",
     "text": [
      "D:\\anaconda\\envs\\tensorflow\\lib\\site-packages\\sklearn\\neural_network\\_multilayer_perceptron.py:702: ConvergenceWarning: Stochastic Optimizer: Maximum iterations (20) reached and the optimization hasn't converged yet.\n",
      "  warnings.warn(\n"
     ]
    },
    {
     "name": "stdout",
     "output_type": "stream",
     "text": [
      "Iteration 2, loss = 0.90665917\n",
      "Iteration 3, loss = 0.89091648\n",
      "Iteration 4, loss = 0.87911858\n",
      "Iteration 5, loss = 0.86976572\n",
      "Iteration 6, loss = 0.86243376\n",
      "Iteration 7, loss = 0.85611932\n",
      "Iteration 8, loss = 0.85063621\n",
      "Iteration 9, loss = 0.84568805\n",
      "Iteration 10, loss = 0.84114432\n",
      "Iteration 11, loss = 0.83677909\n",
      "Iteration 12, loss = 0.83259994\n",
      "Iteration 13, loss = 0.82847763\n",
      "Iteration 14, loss = 0.82444581\n",
      "Iteration 15, loss = 0.82039394\n",
      "Iteration 16, loss = 0.81636984\n",
      "Iteration 17, loss = 0.81223196\n",
      "Iteration 18, loss = 0.80799814\n",
      "Iteration 19, loss = 0.80349356\n",
      "Iteration 20, loss = 0.79879276\n",
      "Iteration 1, loss = 0.93273095\n",
      "Iteration 2, loss = 0.91192109\n",
      "Iteration 3, loss = 0.89596304\n",
      "Iteration 4, loss = 0.88405993\n",
      "Iteration 5, loss = 0.87465621\n",
      "Iteration 6, loss = 0.86722353\n",
      "Iteration 7, loss = 0.86080778\n",
      "Iteration 8, loss = 0.85530800\n"
     ]
    },
    {
     "name": "stderr",
     "output_type": "stream",
     "text": [
      "D:\\anaconda\\envs\\tensorflow\\lib\\site-packages\\sklearn\\neural_network\\_multilayer_perceptron.py:702: ConvergenceWarning: Stochastic Optimizer: Maximum iterations (20) reached and the optimization hasn't converged yet.\n",
      "  warnings.warn(\n"
     ]
    },
    {
     "name": "stdout",
     "output_type": "stream",
     "text": [
      "Iteration 9, loss = 0.85022419\n",
      "Iteration 10, loss = 0.84562032\n",
      "Iteration 11, loss = 0.84119847\n",
      "Iteration 12, loss = 0.83693392\n",
      "Iteration 13, loss = 0.83278080\n",
      "Iteration 14, loss = 0.82874110\n",
      "Iteration 15, loss = 0.82465407\n",
      "Iteration 16, loss = 0.82070921\n",
      "Iteration 17, loss = 0.81664705\n",
      "Iteration 18, loss = 0.81261774\n",
      "Iteration 19, loss = 0.80840521\n",
      "Iteration 20, loss = 0.80402097\n",
      "Iteration 1, loss = 0.93672086\n",
      "Iteration 2, loss = 0.91578334\n",
      "Iteration 3, loss = 0.89965282\n"
     ]
    },
    {
     "name": "stderr",
     "output_type": "stream",
     "text": [
      "D:\\anaconda\\envs\\tensorflow\\lib\\site-packages\\sklearn\\neural_network\\_multilayer_perceptron.py:702: ConvergenceWarning: Stochastic Optimizer: Maximum iterations (20) reached and the optimization hasn't converged yet.\n",
      "  warnings.warn(\n"
     ]
    },
    {
     "name": "stdout",
     "output_type": "stream",
     "text": [
      "Iteration 4, loss = 0.88759779\n",
      "Iteration 5, loss = 0.87800854\n",
      "Iteration 6, loss = 0.87046624\n",
      "Iteration 7, loss = 0.86391837\n",
      "Iteration 8, loss = 0.85837703\n",
      "Iteration 9, loss = 0.85321051\n",
      "Iteration 10, loss = 0.84855243\n",
      "Iteration 11, loss = 0.84408281\n",
      "Iteration 12, loss = 0.83975362\n",
      "Iteration 13, loss = 0.83557529\n",
      "Iteration 14, loss = 0.83148665\n",
      "Iteration 15, loss = 0.82736989\n",
      "Iteration 16, loss = 0.82338484\n",
      "Iteration 17, loss = 0.81931094\n",
      "Iteration 18, loss = 0.81530896\n",
      "Iteration 19, loss = 0.81111151\n",
      "Iteration 20, loss = 0.80680439\n"
     ]
    },
    {
     "name": "stderr",
     "output_type": "stream",
     "text": [
      "D:\\anaconda\\envs\\tensorflow\\lib\\site-packages\\sklearn\\neural_network\\_multilayer_perceptron.py:702: ConvergenceWarning: Stochastic Optimizer: Maximum iterations (20) reached and the optimization hasn't converged yet.\n",
      "  warnings.warn(\n"
     ]
    },
    {
     "name": "stdout",
     "output_type": "stream",
     "text": [
      "Iteration 1, loss = 0.94130685\n",
      "Iteration 2, loss = 0.92001685\n",
      "Iteration 3, loss = 0.90361445\n",
      "Iteration 4, loss = 0.89137722\n",
      "Iteration 5, loss = 0.88173098\n",
      "Iteration 6, loss = 0.87410226\n",
      "Iteration 7, loss = 0.86750559\n",
      "Iteration 8, loss = 0.86188799\n",
      "Iteration 9, loss = 0.85667661\n",
      "Iteration 10, loss = 0.85193247\n",
      "Iteration 11, loss = 0.84738104\n",
      "Iteration 12, loss = 0.84300612\n",
      "Iteration 13, loss = 0.83877810\n",
      "Iteration 14, loss = 0.83463636\n",
      "Iteration 15, loss = 0.83047756\n",
      "Iteration 16, loss = 0.82646024\n",
      "Iteration 17, loss = 0.82236904\n",
      "Iteration 18, loss = 0.81833548\n",
      "Iteration 19, loss = 0.81417746\n",
      "Iteration 20, loss = 0.80988953\n",
      "Iteration 1, loss = 0.93233427\n",
      "Iteration 2, loss = 0.91158357\n",
      "Iteration 3, loss = 0.89571304\n",
      "Iteration 4, loss = 0.88348239\n",
      "Iteration 5, loss = 0.87426077\n",
      "Iteration 6, loss = 0.86667538\n",
      "Iteration 7, loss = 0.86027017\n",
      "Iteration 8, loss = 0.85476536\n",
      "Iteration 9, loss = 0.84974428\n",
      "Iteration 10, loss = 0.84512960\n",
      "Iteration 11, loss = 0.84062480\n",
      "Iteration 12, loss = 0.83645014\n",
      "Iteration 13, loss = 0.83233041\n",
      "Iteration 14, loss = 0.82832863\n"
     ]
    },
    {
     "name": "stderr",
     "output_type": "stream",
     "text": [
      "D:\\anaconda\\envs\\tensorflow\\lib\\site-packages\\sklearn\\neural_network\\_multilayer_perceptron.py:702: ConvergenceWarning: Stochastic Optimizer: Maximum iterations (20) reached and the optimization hasn't converged yet.\n",
      "  warnings.warn(\n"
     ]
    },
    {
     "name": "stdout",
     "output_type": "stream",
     "text": [
      "Iteration 15, loss = 0.82429961\n",
      "Iteration 16, loss = 0.82035114\n",
      "Iteration 17, loss = 0.81642270\n",
      "Iteration 18, loss = 0.81240880\n",
      "Iteration 19, loss = 0.80833496\n",
      "Iteration 20, loss = 0.80409947\n",
      "Iteration 1, loss = 0.93309634\n",
      "Iteration 2, loss = 0.91241554\n",
      "Iteration 3, loss = 0.89660190\n",
      "Iteration 4, loss = 0.88447164\n",
      "Iteration 5, loss = 0.87527225\n",
      "Iteration 6, loss = 0.86766298\n",
      "Iteration 7, loss = 0.86130611\n",
      "Iteration 8, loss = 0.85577956\n",
      "Iteration 9, loss = 0.85072636\n",
      "Iteration 10, loss = 0.84608911\n"
     ]
    },
    {
     "name": "stderr",
     "output_type": "stream",
     "text": [
      "D:\\anaconda\\envs\\tensorflow\\lib\\site-packages\\sklearn\\neural_network\\_multilayer_perceptron.py:702: ConvergenceWarning: Stochastic Optimizer: Maximum iterations (20) reached and the optimization hasn't converged yet.\n",
      "  warnings.warn(\n"
     ]
    },
    {
     "name": "stdout",
     "output_type": "stream",
     "text": [
      "Iteration 11, loss = 0.84157683\n",
      "Iteration 12, loss = 0.83738325\n",
      "Iteration 13, loss = 0.83325290\n",
      "Iteration 14, loss = 0.82922995\n",
      "Iteration 15, loss = 0.82518859\n",
      "Iteration 16, loss = 0.82124801\n",
      "Iteration 17, loss = 0.81730865\n",
      "Iteration 18, loss = 0.81326485\n",
      "Iteration 19, loss = 0.80920615\n",
      "Iteration 20, loss = 0.80497054\n",
      "Iteration 1, loss = 0.93255081\n",
      "Iteration 2, loss = 0.88318566\n",
      "Iteration 3, loss = 0.83982881\n",
      "Iteration 4, loss = 0.80908915\n",
      "Iteration 5, loss = 0.78809137\n",
      "Iteration 6, loss = 0.77436871\n",
      "Iteration 7, loss = 0.76476577\n",
      "Iteration 8, loss = 0.75735290\n",
      "Iteration 9, loss = 0.75139344\n",
      "Iteration 10, loss = 0.74587731\n"
     ]
    },
    {
     "name": "stderr",
     "output_type": "stream",
     "text": [
      "D:\\anaconda\\envs\\tensorflow\\lib\\site-packages\\sklearn\\neural_network\\_multilayer_perceptron.py:702: ConvergenceWarning: Stochastic Optimizer: Maximum iterations (20) reached and the optimization hasn't converged yet.\n",
      "  warnings.warn(\n"
     ]
    },
    {
     "name": "stdout",
     "output_type": "stream",
     "text": [
      "Iteration 11, loss = 0.74082108\n",
      "Iteration 12, loss = 0.73612265\n",
      "Iteration 13, loss = 0.73132653\n",
      "Iteration 14, loss = 0.72653544\n",
      "Iteration 15, loss = 0.72197626\n",
      "Iteration 16, loss = 0.71757341\n",
      "Iteration 17, loss = 0.71314380\n",
      "Iteration 18, loss = 0.70868846\n",
      "Iteration 19, loss = 0.70441782\n",
      "Iteration 20, loss = 0.70021212\n",
      "Iteration 1, loss = 0.92781976\n",
      "Iteration 2, loss = 0.87848360\n",
      "Iteration 3, loss = 0.83538546\n",
      "Iteration 4, loss = 0.80510817\n",
      "Iteration 5, loss = 0.78474544\n",
      "Iteration 6, loss = 0.77160265\n",
      "Iteration 7, loss = 0.76241042\n",
      "Iteration 8, loss = 0.75543182\n",
      "Iteration 9, loss = 0.74985875\n",
      "Iteration 10, loss = 0.74479425\n"
     ]
    },
    {
     "name": "stderr",
     "output_type": "stream",
     "text": [
      "D:\\anaconda\\envs\\tensorflow\\lib\\site-packages\\sklearn\\neural_network\\_multilayer_perceptron.py:702: ConvergenceWarning: Stochastic Optimizer: Maximum iterations (20) reached and the optimization hasn't converged yet.\n",
      "  warnings.warn(\n",
      "D:\\anaconda\\envs\\tensorflow\\lib\\site-packages\\sklearn\\neural_network\\_multilayer_perceptron.py:702: ConvergenceWarning: Stochastic Optimizer: Maximum iterations (20) reached and the optimization hasn't converged yet.\n",
      "  warnings.warn(\n"
     ]
    },
    {
     "name": "stdout",
     "output_type": "stream",
     "text": [
      "Iteration 11, loss = 0.74006566\n",
      "Iteration 12, loss = 0.73558905\n",
      "Iteration 13, loss = 0.73122409\n",
      "Iteration 14, loss = 0.72687246\n",
      "Iteration 15, loss = 0.72260906\n",
      "Iteration 16, loss = 0.71869223\n",
      "Iteration 17, loss = 0.71463524\n",
      "Iteration 18, loss = 0.71062532\n",
      "Iteration 19, loss = 0.70667924\n",
      "Iteration 20, loss = 0.70267306\n",
      "Iteration 1, loss = 0.92351987\n",
      "Iteration 2, loss = 0.87650882\n",
      "Iteration 3, loss = 0.83515498\n",
      "Iteration 4, loss = 0.80587353\n",
      "Iteration 5, loss = 0.78563102\n",
      "Iteration 6, loss = 0.77257802\n",
      "Iteration 7, loss = 0.76322744\n",
      "Iteration 8, loss = 0.75611718\n",
      "Iteration 9, loss = 0.75040530\n",
      "Iteration 10, loss = 0.74527602\n",
      "Iteration 11, loss = 0.74051116\n",
      "Iteration 12, loss = 0.73598396\n",
      "Iteration 13, loss = 0.73162191\n",
      "Iteration 14, loss = 0.72728928\n",
      "Iteration 15, loss = 0.72318467\n",
      "Iteration 16, loss = 0.71938728\n",
      "Iteration 17, loss = 0.71549568\n",
      "Iteration 18, loss = 0.71158952\n",
      "Iteration 19, loss = 0.70782384\n",
      "Iteration 20, loss = 0.70401235\n",
      "Iteration 1, loss = 0.93144676\n",
      "Iteration 2, loss = 0.88164370\n",
      "Iteration 3, loss = 0.83829273\n",
      "Iteration 4, loss = 0.80775859\n",
      "Iteration 5, loss = 0.78677880\n",
      "Iteration 6, loss = 0.77328613\n",
      "Iteration 7, loss = 0.76386774\n",
      "Iteration 8, loss = 0.75662133\n",
      "Iteration 9, loss = 0.75078213\n",
      "Iteration 10, loss = 0.74547213\n",
      "Iteration 11, loss = 0.74058692\n",
      "Iteration 12, loss = 0.73588471\n"
     ]
    },
    {
     "name": "stderr",
     "output_type": "stream",
     "text": [
      "D:\\anaconda\\envs\\tensorflow\\lib\\site-packages\\sklearn\\neural_network\\_multilayer_perceptron.py:702: ConvergenceWarning: Stochastic Optimizer: Maximum iterations (20) reached and the optimization hasn't converged yet.\n",
      "  warnings.warn(\n"
     ]
    },
    {
     "name": "stdout",
     "output_type": "stream",
     "text": [
      "Iteration 13, loss = 0.73124974\n",
      "Iteration 14, loss = 0.72668466\n",
      "Iteration 15, loss = 0.72219710\n",
      "Iteration 16, loss = 0.71804166\n",
      "Iteration 17, loss = 0.71379403\n",
      "Iteration 18, loss = 0.70956196\n",
      "Iteration 19, loss = 0.70540046\n",
      "Iteration 20, loss = 0.70144662\n",
      "Iteration 1, loss = 0.92303724\n",
      "Iteration 2, loss = 0.87548074\n",
      "Iteration 3, loss = 0.83403403\n",
      "Iteration 4, loss = 0.80470327\n",
      "Iteration 5, loss = 0.78418296\n",
      "Iteration 6, loss = 0.77109809\n",
      "Iteration 7, loss = 0.76176750\n",
      "Iteration 8, loss = 0.75484022\n",
      "Iteration 9, loss = 0.74913887\n",
      "Iteration 10, loss = 0.74416362\n",
      "Iteration 11, loss = 0.73936852\n"
     ]
    },
    {
     "name": "stderr",
     "output_type": "stream",
     "text": [
      "D:\\anaconda\\envs\\tensorflow\\lib\\site-packages\\sklearn\\neural_network\\_multilayer_perceptron.py:702: ConvergenceWarning: Stochastic Optimizer: Maximum iterations (20) reached and the optimization hasn't converged yet.\n",
      "  warnings.warn(\n"
     ]
    },
    {
     "name": "stdout",
     "output_type": "stream",
     "text": [
      "Iteration 12, loss = 0.73490621\n",
      "Iteration 13, loss = 0.73038663\n",
      "Iteration 14, loss = 0.72590149\n",
      "Iteration 15, loss = 0.72152628\n",
      "Iteration 16, loss = 0.71734652\n",
      "Iteration 17, loss = 0.71302390\n",
      "Iteration 18, loss = 0.70876467\n",
      "Iteration 19, loss = 0.70466457\n",
      "Iteration 20, loss = 0.70076506\n",
      "Iteration 1, loss = 0.92820138\n",
      "Iteration 2, loss = 0.88003216\n",
      "Iteration 3, loss = 0.83766493\n",
      "Iteration 4, loss = 0.80771446\n",
      "Iteration 5, loss = 0.78686431\n",
      "Iteration 6, loss = 0.77344953\n",
      "Iteration 7, loss = 0.76382483\n",
      "Iteration 8, loss = 0.75694665\n"
     ]
    },
    {
     "name": "stderr",
     "output_type": "stream",
     "text": [
      "D:\\anaconda\\envs\\tensorflow\\lib\\site-packages\\sklearn\\neural_network\\_multilayer_perceptron.py:702: ConvergenceWarning: Stochastic Optimizer: Maximum iterations (20) reached and the optimization hasn't converged yet.\n",
      "  warnings.warn(\n"
     ]
    },
    {
     "name": "stdout",
     "output_type": "stream",
     "text": [
      "Iteration 9, loss = 0.75092109\n",
      "Iteration 10, loss = 0.74579361\n",
      "Iteration 11, loss = 0.74082655\n",
      "Iteration 12, loss = 0.73615020\n",
      "Iteration 13, loss = 0.73160604\n",
      "Iteration 14, loss = 0.72700367\n",
      "Iteration 15, loss = 0.72232255\n",
      "Iteration 16, loss = 0.71808544\n",
      "Iteration 17, loss = 0.71359927\n",
      "Iteration 18, loss = 0.70922336\n",
      "Iteration 19, loss = 0.70497972\n",
      "Iteration 20, loss = 0.70092463\n",
      "Iteration 1, loss = 0.93188736\n",
      "Iteration 2, loss = 0.88286109\n",
      "Iteration 3, loss = 0.83973060\n",
      "Iteration 4, loss = 0.80924051\n",
      "Iteration 5, loss = 0.78790434\n",
      "Iteration 6, loss = 0.77431135\n",
      "Iteration 7, loss = 0.76437924\n",
      "Iteration 8, loss = 0.75747672\n",
      "Iteration 9, loss = 0.75116712\n"
     ]
    },
    {
     "name": "stderr",
     "output_type": "stream",
     "text": [
      "D:\\anaconda\\envs\\tensorflow\\lib\\site-packages\\sklearn\\neural_network\\_multilayer_perceptron.py:702: ConvergenceWarning: Stochastic Optimizer: Maximum iterations (20) reached and the optimization hasn't converged yet.\n",
      "  warnings.warn(\n"
     ]
    },
    {
     "name": "stdout",
     "output_type": "stream",
     "text": [
      "Iteration 10, loss = 0.74585579\n",
      "Iteration 11, loss = 0.74069329\n",
      "Iteration 12, loss = 0.73574752\n",
      "Iteration 13, loss = 0.73083948\n",
      "Iteration 14, loss = 0.72597974\n",
      "Iteration 15, loss = 0.72124223\n",
      "Iteration 16, loss = 0.71666306\n",
      "Iteration 17, loss = 0.71191498\n",
      "Iteration 18, loss = 0.70723018\n",
      "Iteration 19, loss = 0.70280954\n",
      "Iteration 20, loss = 0.69850493\n",
      "Iteration 1, loss = 0.93640964\n",
      "Iteration 2, loss = 0.88595572\n",
      "Iteration 3, loss = 0.84134892\n",
      "Iteration 4, loss = 0.81001466\n",
      "Iteration 5, loss = 0.78838193\n",
      "Iteration 6, loss = 0.77466263\n",
      "Iteration 7, loss = 0.76467317\n",
      "Iteration 8, loss = 0.75778943\n",
      "Iteration 9, loss = 0.75152646\n",
      "Iteration 10, loss = 0.74621492\n"
     ]
    },
    {
     "name": "stderr",
     "output_type": "stream",
     "text": [
      "D:\\anaconda\\envs\\tensorflow\\lib\\site-packages\\sklearn\\neural_network\\_multilayer_perceptron.py:702: ConvergenceWarning: Stochastic Optimizer: Maximum iterations (20) reached and the optimization hasn't converged yet.\n",
      "  warnings.warn(\n",
      "D:\\anaconda\\envs\\tensorflow\\lib\\site-packages\\sklearn\\neural_network\\_multilayer_perceptron.py:702: ConvergenceWarning: Stochastic Optimizer: Maximum iterations (20) reached and the optimization hasn't converged yet.\n",
      "  warnings.warn(\n"
     ]
    },
    {
     "name": "stdout",
     "output_type": "stream",
     "text": [
      "Iteration 11, loss = 0.74106485\n",
      "Iteration 12, loss = 0.73624869\n",
      "Iteration 13, loss = 0.73155660\n",
      "Iteration 14, loss = 0.72689430\n",
      "Iteration 15, loss = 0.72234710\n",
      "Iteration 16, loss = 0.71810120\n",
      "Iteration 17, loss = 0.71372938\n",
      "Iteration 18, loss = 0.70946613\n",
      "Iteration 19, loss = 0.70525124\n",
      "Iteration 20, loss = 0.70132718\n",
      "Iteration 1, loss = 0.92771977\n",
      "Iteration 2, loss = 0.87980159\n",
      "Iteration 3, loss = 0.83760856\n",
      "Iteration 4, loss = 0.80692171\n",
      "Iteration 5, loss = 0.78695541\n",
      "Iteration 6, loss = 0.77334520\n",
      "Iteration 7, loss = 0.76373534\n",
      "Iteration 8, loss = 0.75688328\n",
      "Iteration 9, loss = 0.75109018\n",
      "Iteration 10, loss = 0.74586679\n",
      "Iteration 11, loss = 0.74082093\n",
      "Iteration 12, loss = 0.73621714\n",
      "Iteration 13, loss = 0.73153582\n",
      "Iteration 14, loss = 0.72699194\n",
      "Iteration 15, loss = 0.72237345\n",
      "Iteration 16, loss = 0.71796015\n",
      "Iteration 17, loss = 0.71362130\n",
      "Iteration 18, loss = 0.70923091\n",
      "Iteration 19, loss = 0.70497316\n",
      "Iteration 20, loss = 0.70101539\n",
      "Iteration 1, loss = 0.92840308\n",
      "Iteration 2, loss = 0.88088340\n",
      "Iteration 3, loss = 0.83910116\n",
      "Iteration 4, loss = 0.80880004\n",
      "Iteration 5, loss = 0.78873031\n",
      "Iteration 6, loss = 0.77489415\n"
     ]
    },
    {
     "name": "stderr",
     "output_type": "stream",
     "text": [
      "D:\\anaconda\\envs\\tensorflow\\lib\\site-packages\\sklearn\\neural_network\\_multilayer_perceptron.py:702: ConvergenceWarning: Stochastic Optimizer: Maximum iterations (20) reached and the optimization hasn't converged yet.\n",
      "  warnings.warn(\n"
     ]
    },
    {
     "name": "stdout",
     "output_type": "stream",
     "text": [
      "Iteration 7, loss = 0.76544410\n",
      "Iteration 8, loss = 0.75864125\n",
      "Iteration 9, loss = 0.75292137\n",
      "Iteration 10, loss = 0.74783212\n",
      "Iteration 11, loss = 0.74287414\n",
      "Iteration 12, loss = 0.73839714\n",
      "Iteration 13, loss = 0.73386853\n",
      "Iteration 14, loss = 0.72950447\n",
      "Iteration 15, loss = 0.72517572\n",
      "Iteration 16, loss = 0.72109068\n",
      "Iteration 17, loss = 0.71702573\n",
      "Iteration 18, loss = 0.71294677\n",
      "Iteration 19, loss = 0.70896311\n",
      "Iteration 20, loss = 0.70521339\n"
     ]
    },
    {
     "name": "stderr",
     "output_type": "stream",
     "text": [
      "D:\\anaconda\\envs\\tensorflow\\lib\\site-packages\\sklearn\\neural_network\\_multilayer_perceptron.py:702: ConvergenceWarning: Stochastic Optimizer: Maximum iterations (20) reached and the optimization hasn't converged yet.\n",
      "  warnings.warn(\n",
      "D:\\anaconda\\envs\\tensorflow\\lib\\site-packages\\sklearn\\neural_network\\_multilayer_perceptron.py:559: ConvergenceWarning: lbfgs failed to converge (status=1):\n",
      "STOP: TOTAL NO. of ITERATIONS REACHED LIMIT.\n",
      "\n",
      "Increase the number of iterations (max_iter) or scale the data as shown in:\n",
      "    https://scikit-learn.org/stable/modules/preprocessing.html\n",
      "  self.n_iter_ = _check_optimize_result(\"lbfgs\", opt_res, self.max_iter)\n",
      "D:\\anaconda\\envs\\tensorflow\\lib\\site-packages\\sklearn\\neural_network\\_multilayer_perceptron.py:559: ConvergenceWarning: lbfgs failed to converge (status=1):\n",
      "STOP: TOTAL NO. of ITERATIONS REACHED LIMIT.\n",
      "\n",
      "Increase the number of iterations (max_iter) or scale the data as shown in:\n",
      "    https://scikit-learn.org/stable/modules/preprocessing.html\n",
      "  self.n_iter_ = _check_optimize_result(\"lbfgs\", opt_res, self.max_iter)\n",
      "D:\\anaconda\\envs\\tensorflow\\lib\\site-packages\\sklearn\\neural_network\\_multilayer_perceptron.py:559: ConvergenceWarning: lbfgs failed to converge (status=1):\n",
      "STOP: TOTAL NO. of ITERATIONS REACHED LIMIT.\n",
      "\n",
      "Increase the number of iterations (max_iter) or scale the data as shown in:\n",
      "    https://scikit-learn.org/stable/modules/preprocessing.html\n",
      "  self.n_iter_ = _check_optimize_result(\"lbfgs\", opt_res, self.max_iter)\n",
      "D:\\anaconda\\envs\\tensorflow\\lib\\site-packages\\sklearn\\neural_network\\_multilayer_perceptron.py:559: ConvergenceWarning: lbfgs failed to converge (status=1):\n",
      "STOP: TOTAL NO. of ITERATIONS REACHED LIMIT.\n",
      "\n",
      "Increase the number of iterations (max_iter) or scale the data as shown in:\n",
      "    https://scikit-learn.org/stable/modules/preprocessing.html\n",
      "  self.n_iter_ = _check_optimize_result(\"lbfgs\", opt_res, self.max_iter)\n",
      "D:\\anaconda\\envs\\tensorflow\\lib\\site-packages\\sklearn\\neural_network\\_multilayer_perceptron.py:559: ConvergenceWarning: lbfgs failed to converge (status=1):\n",
      "STOP: TOTAL NO. of ITERATIONS REACHED LIMIT.\n",
      "\n",
      "Increase the number of iterations (max_iter) or scale the data as shown in:\n",
      "    https://scikit-learn.org/stable/modules/preprocessing.html\n",
      "  self.n_iter_ = _check_optimize_result(\"lbfgs\", opt_res, self.max_iter)\n",
      "D:\\anaconda\\envs\\tensorflow\\lib\\site-packages\\sklearn\\neural_network\\_multilayer_perceptron.py:559: ConvergenceWarning: lbfgs failed to converge (status=1):\n",
      "STOP: TOTAL NO. of ITERATIONS REACHED LIMIT.\n",
      "\n",
      "Increase the number of iterations (max_iter) or scale the data as shown in:\n",
      "    https://scikit-learn.org/stable/modules/preprocessing.html\n",
      "  self.n_iter_ = _check_optimize_result(\"lbfgs\", opt_res, self.max_iter)\n",
      "D:\\anaconda\\envs\\tensorflow\\lib\\site-packages\\sklearn\\neural_network\\_multilayer_perceptron.py:559: ConvergenceWarning: lbfgs failed to converge (status=1):\n",
      "STOP: TOTAL NO. of ITERATIONS REACHED LIMIT.\n",
      "\n",
      "Increase the number of iterations (max_iter) or scale the data as shown in:\n",
      "    https://scikit-learn.org/stable/modules/preprocessing.html\n",
      "  self.n_iter_ = _check_optimize_result(\"lbfgs\", opt_res, self.max_iter)\n",
      "D:\\anaconda\\envs\\tensorflow\\lib\\site-packages\\sklearn\\neural_network\\_multilayer_perceptron.py:559: ConvergenceWarning: lbfgs failed to converge (status=1):\n",
      "STOP: TOTAL NO. of ITERATIONS REACHED LIMIT.\n",
      "\n",
      "Increase the number of iterations (max_iter) or scale the data as shown in:\n",
      "    https://scikit-learn.org/stable/modules/preprocessing.html\n",
      "  self.n_iter_ = _check_optimize_result(\"lbfgs\", opt_res, self.max_iter)\n",
      "D:\\anaconda\\envs\\tensorflow\\lib\\site-packages\\sklearn\\neural_network\\_multilayer_perceptron.py:559: ConvergenceWarning: lbfgs failed to converge (status=1):\n",
      "STOP: TOTAL NO. of ITERATIONS REACHED LIMIT.\n",
      "\n",
      "Increase the number of iterations (max_iter) or scale the data as shown in:\n",
      "    https://scikit-learn.org/stable/modules/preprocessing.html\n",
      "  self.n_iter_ = _check_optimize_result(\"lbfgs\", opt_res, self.max_iter)\n",
      "D:\\anaconda\\envs\\tensorflow\\lib\\site-packages\\sklearn\\neural_network\\_multilayer_perceptron.py:559: ConvergenceWarning: lbfgs failed to converge (status=1):\n",
      "STOP: TOTAL NO. of ITERATIONS REACHED LIMIT.\n",
      "\n",
      "Increase the number of iterations (max_iter) or scale the data as shown in:\n",
      "    https://scikit-learn.org/stable/modules/preprocessing.html\n",
      "  self.n_iter_ = _check_optimize_result(\"lbfgs\", opt_res, self.max_iter)\n"
     ]
    },
    {
     "name": "stdout",
     "output_type": "stream",
     "text": [
      "Iteration 1, loss = 0.66570197\n",
      "Iteration 2, loss = 0.51266041\n",
      "Iteration 3, loss = 0.42829840\n",
      "Iteration 4, loss = 0.36892586\n",
      "Iteration 5, loss = 0.32782921\n",
      "Iteration 6, loss = 0.30127020\n",
      "Iteration 7, loss = 0.27571039\n",
      "Iteration 8, loss = 0.25627350\n",
      "Iteration 9, loss = 0.23838592\n",
      "Iteration 10, loss = 0.22418565\n",
      "Iteration 11, loss = 0.21041187\n",
      "Iteration 12, loss = 0.19702465\n",
      "Iteration 13, loss = 0.18123305\n",
      "Iteration 14, loss = 0.17000532\n",
      "Iteration 15, loss = 0.15710438\n",
      "Iteration 16, loss = 0.14631027\n",
      "Iteration 17, loss = 0.13589449\n",
      "Iteration 18, loss = 0.12765403\n",
      "Iteration 19, loss = 0.11791335\n",
      "Iteration 20, loss = 0.10885102\n"
     ]
    },
    {
     "name": "stderr",
     "output_type": "stream",
     "text": [
      "D:\\anaconda\\envs\\tensorflow\\lib\\site-packages\\sklearn\\neural_network\\_multilayer_perceptron.py:702: ConvergenceWarning: Stochastic Optimizer: Maximum iterations (20) reached and the optimization hasn't converged yet.\n",
      "  warnings.warn(\n"
     ]
    }
   ],
   "source": [
    "from sklearn.model_selection import train_test_split\n",
    "from sklearn.model_selection import GridSearchCV\n",
    "from sklearn.model_selection import KFold\n",
    "from sklearn.metrics import make_scorer\n",
    "import numpy as np\n",
    "\n",
    "k_fold = KFold(n_splits=10)\n",
    "bp = MLPClassifier(random_state=1) \n",
    "params = {\"hidden_layer_sizes\": [(100,), (100,30),(5,2)],\n",
    "              \"solver\": ['adam', 'sgd', 'lbfgs'],\n",
    "              \"alpha\" : np.arange(1e-5,1e-4,1e-5),\n",
    "              \"max_iter\": [20],\n",
    "              \"verbose\": [True]\n",
    "                             }\n",
    "scoring_fnc = make_scorer(accuracy_score)\n",
    "grid = GridSearchCV(bp, param_grid=params,scoring=scoring_fnc,cv=k_fold)\n",
    "grid = grid.fit(X_train, y_train)"
   ]
  },
  {
   "cell_type": "code",
   "execution_count": 40,
   "id": "116d3673",
   "metadata": {
    "scrolled": false
   },
   "outputs": [
    {
     "name": "stdout",
     "output_type": "stream",
     "text": [
      "k_fold Parameter 'hidden_layer_sizes' is (100, 30) for the optimal model.\n",
      "k_fold Parameter 'solver' is adam for the optimal model.\n",
      "k_fold Parameter 'alpha' is 1e-05 for the optimal model.\n"
     ]
    }
   ],
   "source": [
    "clf = grid.best_estimator_\n",
    "print (\"k_fold Parameter 'hidden_layer_sizes' is {} for the optimal model.\".format(clf.get_params()['hidden_layer_sizes']))\n",
    "print (\"k_fold Parameter 'solver' is {} for the optimal model.\".format(clf.get_params()['solver']))\n",
    "print (\"k_fold Parameter 'alpha' is {} for the optimal model.\".format(clf.get_params()['alpha']))"
   ]
  },
  {
   "cell_type": "code",
   "execution_count": 42,
   "id": "2e72db1e",
   "metadata": {},
   "outputs": [
    {
     "name": "stdout",
     "output_type": "stream",
     "text": [
      "最优参数的bp神经网络训练准确率： 88.88888888888889 %\n"
     ]
    }
   ],
   "source": [
    "score = grid.score(X_test,y_test)\n",
    "print('最优参数的bp神经网络训练准确率：',score*100,'%')"
   ]
  },
  {
   "cell_type": "code",
   "execution_count": 6,
   "id": "5e31314b",
   "metadata": {},
   "outputs": [
    {
     "name": "stdout",
     "output_type": "stream",
     "text": [
      "bp Accuracy: 0.90 (+/- 0.03)\n",
      "bp测试结果： {'fit_time': array([3.27562904, 2.89321375, 2.81044817, 2.59035492, 3.0734539 ,\n",
      "       2.96186113, 2.82176208, 2.84555554, 3.94684196, 2.8883419 ]), 'score_time': array([0.00215697, 0.        , 0.008003  , 0.        , 0.        ,\n",
      "       0.        , 0.00199318, 0.        , 0.00800252, 0.00800204]), 'test_accuracy': array([0.89717224, 0.90745501, 0.91002571, 0.88431877, 0.89974293,\n",
      "       0.91002571, 0.86632391, 0.89203085, 0.90721649, 0.8943299 ]), 'test_f1': array([0.89949749, 0.9       , 0.90304709, 0.88607595, 0.8907563 ,\n",
      "       0.90616622, 0.86666667, 0.9       , 0.9       , 0.89460154])}\n"
     ]
    }
   ],
   "source": [
    "from sklearn.model_selection import cross_validate\n",
    "from sklearn.model_selection import cross_val_score\n",
    "bp = MLPClassifier(solver='adam', alpha=1e-5,hidden_layer_sizes=(100,3), random_state=1) \n",
    "kfold = KFold(n_splits=10)\n",
    "bp_scores = cross_val_score(bp, X_train, y_train, cv=kfold)\n",
    "cv_cross_bp = cross_validate(bp, X_train, y_train, cv=kfold, scoring=('accuracy', 'f1'))\n",
    "print(\"bp Accuracy: %0.2f (+/- %0.2f)\" % (bp_scores.mean(), bp_scores.std() * 2))\n",
    "print(\"bp测试结果：\",cv_cross_bp)"
   ]
  },
  {
   "cell_type": "code",
   "execution_count": null,
   "id": "eee6bc7c",
   "metadata": {},
   "outputs": [],
   "source": []
  }
 ],
 "metadata": {
  "kernelspec": {
   "display_name": "Python 3 (ipykernel)",
   "language": "python",
   "name": "python3"
  },
  "language_info": {
   "codemirror_mode": {
    "name": "ipython",
    "version": 3
   },
   "file_extension": ".py",
   "mimetype": "text/x-python",
   "name": "python",
   "nbconvert_exporter": "python",
   "pygments_lexer": "ipython3",
   "version": "3.10.4"
  }
 },
 "nbformat": 4,
 "nbformat_minor": 5
}
