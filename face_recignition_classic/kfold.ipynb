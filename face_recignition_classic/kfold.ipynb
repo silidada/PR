{
 "cells": [
  {
   "cell_type": "code",
   "execution_count": 5,
   "id": "377035b2",
   "metadata": {},
   "outputs": [],
   "source": [
    "import re\n",
    "def encode_label(label_list: list) -> (list, list):\n",
    "    label_name = [[] for i in range(5)]\n",
    "\n",
    "    label_encoded_list = []\n",
    "\n",
    "    for label in label_list:\n",
    "        if label is None:\n",
    "            label_encoded_list.append(None)\n",
    "            continue\n",
    "        label_encoded = []\n",
    "\n",
    "        for i in range(len(label) - 1):\n",
    "            if not label[i] in label_name[i]:\n",
    "                label_name[i].append(label[i])\n",
    "                label_encoded.append(len(label_name[i]) - 1)\n",
    "            else:\n",
    "                label_encoded.append(label_name[i].index(label[i]))\n",
    "\n",
    "        if label[4] is None:\n",
    "            label_encoded.append([None])\n",
    "        else:\n",
    "            prop = []\n",
    "            for ll in label[4]:\n",
    "                if not ll in label_name[4]:\n",
    "                    label_name[4].append(ll)\n",
    "                    prop.append(len(label_name[4]) - 1)\n",
    "                else:\n",
    "                    prop.append(label_name[4].index(ll))\n",
    "            label_encoded.append(prop)\n",
    "\n",
    "        label_encoded_list.append(label_encoded)\n",
    "    return label_name, label_encoded_list\n",
    "\n",
    "\n",
    "def read_label(path: str) -> (list, list):\n",
    "    label_list = []\n",
    "    img_name = []\n",
    "    with open(path, \"r\") as f:\n",
    "        r = f.readline()\n",
    "        while r:\n",
    "            img_name.append(r[:5].strip())\n",
    "            t = re.search('_missing descriptor', r)\n",
    "            if t is not None:\n",
    "                label_list.append(None)\n",
    "                r = f.readline()\n",
    "                continue\n",
    "            else:\n",
    "                label1 = []\n",
    "                pattern = re.compile(r'\\((.*?)\\)')\n",
    "                t = pattern.findall(r)\n",
    "                for s in t[0:-1]:\n",
    "                    c = s.split(\" \")[-1].strip()\n",
    "                    label1.append(c)\n",
    "\n",
    "                pattern = re.compile(r'\\'\\((.*?)\\)')\n",
    "                t = pattern.findall(r)[0].strip()\n",
    "                if not t == '':\n",
    "                    prop = []\n",
    "                    t = t.split(\" \")\n",
    "                    for i in t:\n",
    "                        prop.append(i)\n",
    "                    label1.append(prop)\n",
    "                else:\n",
    "                    label1.append(None)\n",
    "            label_list.append(label1)\n",
    "            r = f.readline()\n",
    "    return label_list, img_name\n",
    "\n",
    "\n",
    "def one_hot_prop(label_encoded_list: list, prop_num: int) -> list:\n",
    "    label_list = []\n",
    "    iii = 0\n",
    "    for label in label_encoded_list:\n",
    "        iii += 1\n",
    "        if label is not None:\n",
    "            prop_one_hot = [0 for i in range(prop_num)]\n",
    "            prop = label.pop()\n",
    "            for i in prop:\n",
    "                if i is not None:\n",
    "                    prop_one_hot[i] = 1\n",
    "            label.append(prop_one_hot)\n",
    "            label_list.append(label)\n",
    "            if 1 in prop_one_hot:\n",
    "                pass\n",
    "        else:\n",
    "            label_list.append(None)\n",
    "    return label_list\n",
    "\n",
    "\n",
    "def one_hot(index, num):\n",
    "    label_one_hot = [0 for i in range(num)]\n",
    "    label_one_hot[index] = 1\n",
    "    return label_one_hot\n",
    "\n",
    "\n",
    "def one_hot_label(label_list: list, label_name) -> list:\n",
    "    label_one_hot = []\n",
    "    for label in label_list:\n",
    "        if label is not None:\n",
    "            l = []\n",
    "            for i in range(len(label_name) - 1):\n",
    "                o = one_hot(label[i], len(label_name[i]))\n",
    "                l += o\n",
    "            l += label[-1]\n",
    "        else:\n",
    "            label_one_hot.append(None)\n",
    "            continue\n",
    "        label_one_hot.append(l)\n",
    "    return label_one_hot\n",
    "\n",
    "\n",
    "def label_pre_one_hot(path1, path2):\n",
    "    label_list1, img_name1 = read_label(path1)\n",
    "    # print(len(img_name1))\n",
    "    label_list2, img_name2 = read_label(path2)\n",
    "    # print(len(img_name2))\n",
    "    label_list = label_list1 + label_list2\n",
    "\n",
    "    male = 0\n",
    "    total = 0\n",
    "\n",
    "    # for label in label_list:\n",
    "    #     if label is not None:\n",
    "    #         total += 1\n",
    "    #         if label[0] == 'male':\n",
    "    #             male += 1\n",
    "    # print(male, total)\n",
    "\n",
    "    img_name = img_name1 + img_name2\n",
    "    label_name, label_encoded_list = encode_label(label_list)\n",
    "    prop_num = len(label_name[-1])\n",
    "    label_list = one_hot_prop(label_encoded_list, prop_num)\n",
    "    label_one_hot = one_hot_label(label_list, label_name)\n",
    "\n",
    "    return label_one_hot, img_name, label_name\n"
   ]
  },
  {
   "cell_type": "code",
   "execution_count": 6,
   "id": "620ae0f8",
   "metadata": {},
   "outputs": [
    {
     "name": "stdout",
     "output_type": "stream",
     "text": [
      "数据缺失： 1228\n",
      "数据缺失： 1232\n",
      "数据缺失： 1808\n",
      "数据缺失： 4056\n",
      "数据缺失： 4135\n",
      "数据缺失： 4136\n",
      "数据缺失： 5004\n",
      "knn Accuracy: 0.86 (+/- 0.03)\n",
      "svm Accuracy: 0.87 (+/- 0.03)\n",
      "tree Accuracy: 0.77 (+/- 0.04)\n"
     ]
    }
   ],
   "source": [
    "import raw_data_read_test as rd\n",
    "import label_pre as lp\n",
    "import cv2\n",
    "from sklearn.neighbors import KNeighborsClassifier ###svm\n",
    "from sklearn.model_selection import train_test_split\n",
    "import numpy as np\n",
    "import sklearn\n",
    "from sklearn import metrics\n",
    "from sklearn import tree\n",
    "from sklearn.decomposition import PCA\n",
    "from matplotlib import pyplot as plt\n",
    "from sklearn.model_selection import KFold\n",
    "from sklearn.metrics import accuracy_score\n",
    "from sklearn.model_selection import cross_validate\n",
    "from sklearn.model_selection import cross_val_score\n",
    "\n",
    "# 训练集\n",
    "channels = 1  # 图像的通道数，灰度图为1\n",
    "path_rawdata = r\"./rawdata\"\n",
    "path_label1 = r\"./faceDR\"\n",
    "path_label2 = r\"./faceDS\"\n",
    "label_one_hot,img_name,label_list = label_pre_one_hot(\"./faceDR\",\"./faceDS\")\n",
    "img_list = rd.read_rawdata(channels, path_rawdata, img_name)  # 图片矩阵\n",
    "\n",
    "n = 0\n",
    "for i in range(len(label_list)):\n",
    "    num = i - n\n",
    "    if label_list[num] is None:\n",
    "        del label_list[num]\n",
    "        del img_name[num]\n",
    "        n = n + 1\n",
    "\n",
    "array_of_img = []\n",
    "for img in img_list:\n",
    "    if img is not None:\n",
    "        img = img / 255.0\n",
    "        img = cv2.resize(img, (100, 100))\n",
    "        array_of_img.append(img)\n",
    "train_images = np.array(array_of_img)\n",
    "array_of_img = []\n",
    "\n",
    "array_of_labels = []\n",
    "for label in label_one_hot:\n",
    "    if label is not None:\n",
    "        append_label = label[0]\n",
    "        array_of_labels.append(int(append_label))\n",
    "train_labels = np.array(array_of_labels)\n",
    "array_of_labels = []\n",
    "\n",
    "#h划分训练集和测试集\n",
    "X_train, X_test, y_train, y_test = train_test_split(train_images, train_labels, test_size=0.2, random_state=3)\n",
    "# 划分训练集的子训练集和子测试集\n",
    "# X_train, X_test, y_train, y_test = train_test_split(X_train, y_train, test_size=0.2, random_state=3)\n",
    "\n",
    "train_images = train_images.reshape(train_images.shape[0], -1)\n",
    "X_train = X_train.reshape(X_train.shape[0], -1)\n",
    "X_test = X_test.reshape(X_test.shape[0], -1)\n",
    "\n",
    "# 特征降维\n",
    "pca = PCA(n_components=85)\n",
    "newX = pca.fit_transform(X_train)\n",
    "xx = pca.transform(X_test)\n",
    "\n",
    "# # 定义模型\n",
    "tree = tree.DecisionTreeClassifier(criterion=\"entropy\",random_state=80,max_depth=15)  #决策树\n",
    "tree.fit(newX, y_train)\n",
    "knn = KNeighborsClassifier(n_neighbors=1)  # knn\n",
    "knn.fit(newX, y_train)\n",
    "svm = sklearn.svm.SVC()                    # svm\n",
    "svm.fit(newX, y_train)\n",
    "\n",
    "kfold = KFold(n_splits=10)\n",
    "\n",
    "knn_scores = cross_val_score(knn, newX, y_train, cv=kfold)\n",
    "print(\"knn Accuracy: %0.2f (+/- %0.2f)\" % (knn_scores.mean(), knn_scores.std() * 2))\n",
    "\n",
    "svm_scores = cross_val_score(svm, newX, y_train, cv=kfold)\n",
    "print(\"svm Accuracy: %0.2f (+/- %0.2f)\" % (svm_scores.mean(), svm_scores.std() * 2))\n",
    "\n",
    "tree_scores = cross_val_score(tree, newX, y_train, cv=kfold)\n",
    "print(\"tree Accuracy: %0.2f (+/- %0.2f)\" % (tree_scores.mean(), tree_scores.std() * 2))\n",
    "\n",
    "\n",
    "cv_cross_knn = cross_validate(knn, newX, y_train, cv=kfold, scoring=('accuracy', 'f1'))\n",
    "cv_cross_svm = cross_validate(svm, newX, y_train, cv=kfold, scoring=('accuracy', 'f1'))\n",
    "cv_cross_tree = cross_validate(tree, newX, y_train, cv=kfold, scoring=('accuracy', 'f1'))"
   ]
  },
  {
   "cell_type": "code",
   "execution_count": 5,
   "id": "c119dcb2",
   "metadata": {},
   "outputs": [
    {
     "name": "stdout",
     "output_type": "stream",
     "text": [
      "knn测试结果： {'fit_time': array([0.        , 0.        , 0.        , 0.        , 0.        ,\n",
      "       0.00799966, 0.        , 0.        , 0.0019784 , 0.00200033]), 'score_time': array([0.03200722, 0.02400517, 0.02400613, 0.02400613, 0.02400851,\n",
      "       0.02024627, 0.02400422, 0.02400589, 0.02478981, 0.01910782]), 'test_accuracy': array([0.84061697, 0.84575835, 0.87660668, 0.85861183, 0.86375321,\n",
      "       0.84061697, 0.83547558, 0.86375321, 0.87371134, 0.88402062]), 'test_f1': array([0.84263959, 0.83050847, 0.86363636, 0.85564304, 0.84813754,\n",
      "       0.83060109, 0.83505155, 0.87104623, 0.86501377, 0.87804878])}\n",
      "svm测试结果： {'fit_time': array([0.56181669, 0.56016493, 0.52829623, 0.55326152, 0.56014276,\n",
      "       0.51585865, 0.48056054, 0.56933522, 0.62361956, 0.6716702 ]), 'score_time': array([0.12002707, 0.12002468, 0.1191113 , 0.11202669, 0.12002611,\n",
      "       0.09438872, 0.11599088, 0.12734604, 0.14401007, 0.12578988]), 'test_accuracy': array([0.8688946 , 0.85604113, 0.88174807, 0.86118252, 0.86632391,\n",
      "       0.8688946 , 0.84575835, 0.84832905, 0.88917526, 0.89175258]), 'test_f1': array([0.86684073, 0.83908046, 0.86705202, 0.85863874, 0.85142857,\n",
      "       0.85714286, 0.84455959, 0.85503686, 0.87955182, 0.89005236])}\n",
      "tree测试结果： {'fit_time': array([0.38209558, 0.4151969 , 0.36154914, 0.39968443, 0.37002754,\n",
      "       0.3530302 , 0.37685323, 0.3404634 , 0.35832405, 0.36233497]), 'score_time': array([0.        , 0.00224137, 0.        , 0.00200009, 0.00200033,\n",
      "       0.00199795, 0.00200129, 0.        , 0.00100136, 0.        ]), 'test_accuracy': array([0.75578406, 0.7840617 , 0.82005141, 0.78920308, 0.77377892,\n",
      "       0.74807198, 0.73007712, 0.78663239, 0.7371134 , 0.81701031]), 'test_f1': array([0.76426799, 0.77419355, 0.80337079, 0.7970297 , 0.75555556,\n",
      "       0.72777778, 0.72868217, 0.7960688 , 0.71348315, 0.80862534])}\n"
     ]
    }
   ],
   "source": [
    "print(\"knn测试结果：\",cv_cross_knn)\n",
    "print(\"svm测试结果：\",cv_cross_svm)\n",
    "print(\"tree测试结果：\",cv_cross_tree)"
   ]
  },
  {
   "cell_type": "code",
   "execution_count": 7,
   "id": "6c59c58a",
   "metadata": {
    "scrolled": true
   },
   "outputs": [
    {
     "name": "stdout",
     "output_type": "stream",
     "text": [
      "knn Accuracy: 0.86 (+/- 0.03)\n",
      "knn测试结果： {'fit_time': array([0.        , 0.        , 0.        , 0.        , 0.00800252,\n",
      "       0.00300145, 0.00798631, 0.        , 0.00448799, 0.00200033]), 'score_time': array([0.02398276, 0.02400446, 0.02376008, 0.01789713, 0.02142787,\n",
      "       0.01596212, 0.02271223, 0.02400517, 0.02334976, 0.01433063]), 'test_accuracy': array([0.84318766, 0.84575835, 0.87660668, 0.86375321, 0.86632391,\n",
      "       0.84061697, 0.83804627, 0.8688946 , 0.86340206, 0.88402062]), 'test_f1': array([0.84556962, 0.83050847, 0.86363636, 0.86089239, 0.85057471,\n",
      "       0.83060109, 0.83804627, 0.87651332, 0.85399449, 0.87804878])}\n"
     ]
    }
   ],
   "source": [
    "kfold = KFold(n_splits=10)\n",
    "knn_scores = cross_val_score(knn, newX, y_train, cv=kfold)\n",
    "cv_cross_knn = cross_validate(knn, newX, y_train, cv=kfold, scoring=('accuracy', 'f1'))\n",
    "print(\"knn Accuracy: %0.2f (+/- %0.2f)\" % (knn_scores.mean(), knn_scores.std() * 2))\n",
    "print(\"knn测试结果：\",cv_cross_knn)"
   ]
  },
  {
   "cell_type": "code",
   "execution_count": 9,
   "id": "42c10b99",
   "metadata": {
    "scrolled": true
   },
   "outputs": [
    {
     "name": "stdout",
     "output_type": "stream",
     "text": [
      "tree Accuracy: 0.77 (+/- 0.05)\n",
      "tree测试结果： {'fit_time': array([0.39481425, 0.33608437, 0.33552694, 0.34408474, 0.33532453,\n",
      "       0.39209723, 0.33167601, 0.39412856, 0.41187096, 0.40735888]), 'score_time': array([0.        , 0.00800157, 0.        , 0.        , 0.        ,\n",
      "       0.008003  , 0.        , 0.        , 0.        , 0.00887632]), 'test_accuracy': array([0.73007712, 0.79691517, 0.79434447, 0.78920308, 0.76349614,\n",
      "       0.75321337, 0.75578406, 0.7840617 , 0.75257732, 0.80670103]), 'test_f1': array([0.72727273, 0.78474114, 0.77272727, 0.79292929, 0.74585635,\n",
      "       0.73913043, 0.75324675, 0.79710145, 0.72571429, 0.79892761])}\n"
     ]
    }
   ],
   "source": [
    "kfold = KFold(n_splits=10)\n",
    "tree_scores = cross_val_score(tree, newX, y_train, cv=kfold)\n",
    "print(\"tree Accuracy: %0.2f (+/- %0.2f)\" % (tree_scores.mean(), tree_scores.std() * 2))\n",
    "cv_cross_tree = cross_validate(tree, newX, y_train, cv=kfold, scoring=('accuracy', 'f1'))\n",
    "print(\"tree测试结果：\",cv_cross_tree)"
   ]
  },
  {
   "cell_type": "code",
   "execution_count": 30,
   "id": "4a9f7e45",
   "metadata": {},
   "outputs": [
    {
     "data": {
      "image/png": "[encoded data removed]",
      "text/plain": [
       "<Figure size 432x288 with 1 Axes>"
      ]
     },
     "metadata": {
      "needs_background": "light"
     },
     "output_type": "display_data"
    }
   ],
   "source": [
    "from matplotlib import pyplot as plt\n",
    "from sklearn.model_selection import validation_curve\n",
    "\n",
    "param_name = 'n_neighbors'\n",
    "param_range = range(1, 20)\n",
    "\n",
    "train_scores, test_scores = validation_curve(\n",
    "    KNeighborsClassifier(), newX, y_train, cv=kfold,\n",
    "    param_name=param_name, param_range=param_range,\n",
    "    scoring='accuracy')\n",
    "#训练集和测试集得分\n",
    "train_scores_mean = np.mean(train_scores, axis=1)\n",
    "test_scores_mean = np.mean(test_scores, axis=1)\n",
    "\n",
    "plt.plot(param_range,train_scores_mean, color='red', label='train')\n",
    "plt.plot(param_range, test_scores_mean, color='green', label='test')\n",
    "plt.legend('best')\n",
    "plt.xlabel('param range of k')\n",
    "plt.ylabel('scores mean')\n",
    "plt.show()"
   ]
  },
  {
   "cell_type": "code",
   "execution_count": 59,
   "id": "7600fec8",
   "metadata": {},
   "outputs": [],
   "source": [
    "#创建决策树,用网格搜索和交叉验证找最优参数并拟合数据\n",
    "from sklearn.model_selection import train_test_split\n",
    "from sklearn.model_selection import GridSearchCV\n",
    "from sklearn.model_selection import KFold\n",
    "from sklearn.metrics import make_scorer\n",
    "from sklearn.tree import DecisionTreeClassifier\n",
    "def fit_model_k_fold(X, y):\n",
    "    \"\"\" Performs grid search over the 'max_depth' parameter for a \n",
    "        decision tree regressor trained on the input data [X, y]. \"\"\"\n",
    "    \n",
    "    # Create cross-validation sets from the training data\n",
    "    # cv_sets = ShuffleSplit(n_splits = 10, test_size = 0.20, random_state = 0)\n",
    "    k_fold = KFold(n_splits=10)\n",
    "    \n",
    "    #  Create a decision tree clf object\n",
    "#     clf = DecisionTreeClassifier(random_state=80,criterion = 'entropy')\n",
    "    clf = DecisionTreeClassifier(random_state=80)\n",
    "    \n",
    "    params = {'max_depth':range(1,21),'criterion':np.array(['entropy'])}\n",
    "#     params = {'max_depth':range(1,21)}\n",
    "    # Transform 'accuracy_score' into a scoring function using 'make_scorer' \n",
    "    scoring_fnc = make_scorer(accuracy_score)\n",
    "\n",
    "    # Create the grid search object\n",
    "    grid = GridSearchCV(clf, param_grid=params,scoring=scoring_fnc,cv=k_fold)\n",
    "\n",
    "    # Fit the grid search object to the data to compute the optimal model\n",
    "    grid = grid.fit(X, y)\n",
    "\n",
    "    # Return the optimal model after fitting the data\n",
    "    return grid.best_estimator_"
   ]
  },
  {
   "cell_type": "code",
   "execution_count": 60,
   "id": "5b470355",
   "metadata": {},
   "outputs": [],
   "source": [
    "clf = fit_model_k_fold(newX, y_train)"
   ]
  },
  {
   "cell_type": "code",
   "execution_count": 61,
   "id": "1a121dd3",
   "metadata": {},
   "outputs": [
    {
     "name": "stdout",
     "output_type": "stream",
     "text": [
      "k_fold Parameter 'max_depth' is 15 for the optimal model.\n",
      "k_fold Parameter 'criterion' is entropy for the optimal model.\n"
     ]
    }
   ],
   "source": [
    "print (\"k_fold Parameter 'max_depth' is {} for the optimal model.\".format(clf.get_params()['max_depth']))\n",
    "print (\"k_fold Parameter 'criterion' is {} for the optimal model.\".format(clf.get_params()['criterion']))"
   ]
  },
  {
   "cell_type": "code",
   "execution_count": 62,
   "id": "aef1d16b",
   "metadata": {},
   "outputs": [
    {
     "name": "stdout",
     "output_type": "stream",
     "text": [
      "最优参数的决策树训练准确率： 81.06995884773663 %\n"
     ]
    }
   ],
   "source": [
    "score = clf.score(xx,y_test)\n",
    "print('最优参数的决策树训练准确率：',score*100,'%')"
   ]
  },
  {
   "cell_type": "code",
   "execution_count": null,
   "id": "fab7edae",
   "metadata": {},
   "outputs": [],
   "source": [
    "#SVM调参\n",
    "from sklearn.model_selection import train_test_split\n",
    "from sklearn.model_selection import GridSearchCV\n",
    "from sklearn.metrics import classification_report\n",
    "from sklearn.svm import SVC\n",
    "from sklearn.metrics import make_scorer\n",
    "\n",
    "k_fold = KFold(n_splits=10)\n",
    "#params = [{'kernel': ['rbf'], 'gamma': [1e-3, 1e-4],\n",
    "#                     'C': [1, 10, 100,1000]}]\n",
    "\n",
    "params = [{'kernel': ['linear'], 'C': [1, 10, 100, 1000]}]\n",
    "\n",
    "scoring_fnc = make_scorer(accuracy_score)\n",
    "grid = GridSearchCV(svm, param_grid=params,scoring=scoring_fnc,cv=k_fold)\n",
    "grid = grid.fit(newX, y_train)\n"
   ]
  },
  {
   "cell_type": "code",
   "execution_count": 11,
   "id": "5744ee3d",
   "metadata": {},
   "outputs": [
    {
     "name": "stdout",
     "output_type": "stream",
     "text": [
      "k_fold Parameter 'gamma' is 0.001 for the optimal model.\n",
      "k_fold Parameter 'kernel' is rbf for the optimal model.\n",
      "k_fold Parameter 'C' is 1000 for the optimal model.\n"
     ]
    }
   ],
   "source": [
    "clf = grid.best_estimator_\n",
    "print (\"k_fold Parameter 'gamma' is {} for the optimal model.\".format(clf.get_params()['gamma']))\n",
    "print (\"k_fold Parameter 'kernel' is {} for the optimal model.\".format(clf.get_params()['kernel']))\n",
    "print (\"k_fold Parameter 'C' is {} for the optimal model.\".format(clf.get_params()['C']))"
   ]
  },
  {
   "cell_type": "code",
   "execution_count": 12,
   "id": "97a7533e",
   "metadata": {},
   "outputs": [
    {
     "name": "stdout",
     "output_type": "stream",
     "text": [
      "最优参数的svm向量机训练准确率： 91.1522633744856 %\n"
     ]
    }
   ],
   "source": [
    "score = grid.score(xx,y_test)\n",
    "print('最优参数的svm向量机训练准确率：',score*100,'%')"
   ]
  },
  {
   "cell_type": "code",
   "execution_count": 13,
   "id": "d08a383e",
   "metadata": {
    "scrolled": false
   },
   "outputs": [
    {
     "name": "stdout",
     "output_type": "stream",
     "text": [
      "svm Accuracy: 0.89 (+/- 0.03)\n",
      "svm测试结果： {'fit_time': array([1.60518718, 1.46585608, 1.52617598, 1.2834897 , 1.44313622,\n",
      "       1.3936727 , 1.21206641, 1.5039115 , 1.5171628 , 1.45525241]), 'score_time': array([0.05903101, 0.06401324, 0.05573511, 0.05925059, 0.05600286,\n",
      "       0.06525517, 0.05711007, 0.06400847, 0.05558181, 0.06608105]), 'test_accuracy': array([0.88431877, 0.90488432, 0.88431877, 0.87403599, 0.87917738,\n",
      "       0.88688946, 0.86375321, 0.88174807, 0.90721649, 0.90721649]), 'test_f1': array([0.88549618, 0.89693593, 0.87252125, 0.87272727, 0.86685552,\n",
      "       0.88172043, 0.86375321, 0.88834951, 0.9       , 0.90425532])}\n"
     ]
    }
   ],
   "source": [
    "svm = sklearn.svm.SVC(gamma = 1e-3,kernel = 'rbf',C= 1000)\n",
    "kfold = KFold(n_splits=10)\n",
    "svm_scores = cross_val_score(svm, newX, y_train, cv=kfold)\n",
    "print(\"svm Accuracy: %0.2f (+/- %0.2f)\" % (svm_scores.mean(), svm_scores.std() * 2))\n",
    "cv_cross_svm = cross_validate(svm, newX, y_train, cv=kfold, scoring=('accuracy', 'f1'))\n",
    "print(\"svm测试结果：\",cv_cross_svm)"
   ]
  },
  {
   "cell_type": "code",
   "execution_count": null,
   "id": "f5292e9a",
   "metadata": {},
   "outputs": [],
   "source": []
  }
 ],
 "metadata": {
  "kernelspec": {
   "display_name": "Python 3 (ipykernel)",
   "language": "python",
   "name": "python3"
  },
  "language_info": {
   "codemirror_mode": {
    "name": "ipython",
    "version": 3
   },
   "file_extension": ".py",
   "mimetype": "text/x-python",
   "name": "python",
   "nbconvert_exporter": "python",
   "pygments_lexer": "ipython3",
   "version": "3.10.4"
  }
 },
 "nbformat": 4,
 "nbformat_minor": 5
}
