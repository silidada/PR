{
 "cells": [
  {
   "cell_type": "code",
   "execution_count": 1,
   "id": "118535f6",
   "metadata": {},
   "outputs": [],
   "source": [
    "import re\n",
    "def encode_label(label_list: list) -> (list, list):\n",
    "    label_name = [[] for i in range(5)]\n",
    "\n",
    "    label_encoded_list = []\n",
    "\n",
    "    for label in label_list:\n",
    "        if label is None:\n",
    "            label_encoded_list.append(None)\n",
    "            continue\n",
    "        label_encoded = []\n",
    "\n",
    "        for i in range(len(label) - 1):\n",
    "            if not label[i] in label_name[i]:\n",
    "                label_name[i].append(label[i])\n",
    "                label_encoded.append(len(label_name[i]) - 1)\n",
    "            else:\n",
    "                label_encoded.append(label_name[i].index(label[i]))\n",
    "\n",
    "        if label[4] is None:\n",
    "            label_encoded.append([None])\n",
    "        else:\n",
    "            prop = []\n",
    "            for ll in label[4]:\n",
    "                if not ll in label_name[4]:\n",
    "                    label_name[4].append(ll)\n",
    "                    prop.append(len(label_name[4]) - 1)\n",
    "                else:\n",
    "                    prop.append(label_name[4].index(ll))\n",
    "            label_encoded.append(prop)\n",
    "\n",
    "        label_encoded_list.append(label_encoded)\n",
    "    return label_name, label_encoded_list\n",
    "\n",
    "\n",
    "def read_label(path: str) -> (list, list):\n",
    "    label_list = []\n",
    "    img_name = []\n",
    "    with open(path, \"r\") as f:\n",
    "        r = f.readline()\n",
    "        while r:\n",
    "            img_name.append(r[:5].strip())\n",
    "            t = re.search('_missing descriptor', r)\n",
    "            if t is not None:\n",
    "                label_list.append(None)\n",
    "                r = f.readline()\n",
    "                continue\n",
    "            else:\n",
    "                label1 = []\n",
    "                pattern = re.compile(r'\\((.*?)\\)')\n",
    "                t = pattern.findall(r)\n",
    "                for s in t[0:-1]:\n",
    "                    c = s.split(\" \")[-1].strip()\n",
    "                    label1.append(c)\n",
    "\n",
    "                pattern = re.compile(r'\\'\\((.*?)\\)')\n",
    "                t = pattern.findall(r)[0].strip()\n",
    "                if not t == '':\n",
    "                    prop = []\n",
    "                    t = t.split(\" \")\n",
    "                    for i in t:\n",
    "                        prop.append(i)\n",
    "                    label1.append(prop)\n",
    "                else:\n",
    "                    label1.append(None)\n",
    "            label_list.append(label1)\n",
    "            r = f.readline()\n",
    "    return label_list, img_name\n",
    "\n",
    "\n",
    "def one_hot_prop(label_encoded_list: list, prop_num: int) -> list:\n",
    "    label_list = []\n",
    "    iii = 0\n",
    "    for label in label_encoded_list:\n",
    "        iii += 1\n",
    "        if label is not None:\n",
    "            prop_one_hot = [0 for i in range(prop_num)]\n",
    "            prop = label.pop()\n",
    "            for i in prop:\n",
    "                if i is not None:\n",
    "                    prop_one_hot[i] = 1\n",
    "            label.append(prop_one_hot)\n",
    "            label_list.append(label)\n",
    "            if 1 in prop_one_hot:\n",
    "                pass\n",
    "        else:\n",
    "            label_list.append(None)\n",
    "    return label_list\n",
    "\n",
    "\n",
    "def one_hot(index, num):\n",
    "    label_one_hot = [0 for i in range(num)]\n",
    "    label_one_hot[index] = 1\n",
    "    return label_one_hot\n",
    "\n",
    "\n",
    "def one_hot_label(label_list: list, label_name) -> list:\n",
    "    label_one_hot = []\n",
    "    for label in label_list:\n",
    "        if label is not None:\n",
    "            l = []\n",
    "            for i in range(len(label_name) - 1):\n",
    "                o = one_hot(label[i], len(label_name[i]))\n",
    "                l += o\n",
    "            l += label[-1]\n",
    "        else:\n",
    "            label_one_hot.append(None)\n",
    "            continue\n",
    "        label_one_hot.append(l)\n",
    "    return label_one_hot\n",
    "\n",
    "\n",
    "def label_pre_one_hot(path1, path2):\n",
    "    label_list1, img_name1 = read_label(path1)\n",
    "    # print(len(img_name1))\n",
    "    label_list2, img_name2 = read_label(path2)\n",
    "    # print(len(img_name2))\n",
    "    label_list = label_list1 + label_list2\n",
    "\n",
    "    male = 0\n",
    "    total = 0\n",
    "\n",
    "    # for label in label_list:\n",
    "    #     if label is not None:\n",
    "    #         total += 1\n",
    "    #         if label[0] == 'male':\n",
    "    #             male += 1\n",
    "    # print(male, total)\n",
    "\n",
    "    img_name = img_name1 + img_name2\n",
    "    label_name, label_encoded_list = encode_label(label_list)\n",
    "    prop_num = len(label_name[-1])\n",
    "    label_list = one_hot_prop(label_encoded_list, prop_num)\n",
    "    label_one_hot = one_hot_label(label_list, label_name)\n",
    "\n",
    "    return label_one_hot, img_name, label_name\n"
   ]
  },
  {
   "cell_type": "code",
   "execution_count": 2,
   "id": "75d44848",
   "metadata": {
    "scrolled": true
   },
   "outputs": [
    {
     "name": "stdout",
     "output_type": "stream",
     "text": [
      "数据缺失： 1228\n",
      "数据缺失： 1232\n",
      "数据缺失： 1808\n",
      "数据缺失： 4056\n",
      "数据缺失： 4135\n",
      "数据缺失： 4136\n",
      "数据缺失： 5004\n",
      "knn训练准确度： 82.4074074074074 %\n",
      "svm训练准确度： 85.59670781893004 %\n"
     ]
    }
   ],
   "source": [
    "import raw_data_read_test as rd\n",
    "import label_pre as lp\n",
    "import cv2\n",
    "from sklearn.neighbors import KNeighborsClassifier ###svm\n",
    "from sklearn.model_selection import train_test_split\n",
    "import numpy as np\n",
    "import sklearn\n",
    "from sklearn import metrics\n",
    "from sklearn import tree\n",
    "from sklearn.decomposition import PCA\n",
    "from matplotlib import pyplot as plt\n",
    "from sklearn.model_selection import KFold\n",
    "from sklearn.metrics import accuracy_score\n",
    "from sklearn.model_selection import cross_validate\n",
    "\n",
    "# 读取图像和卷标\n",
    "channels = 1  # 图像的通道数，灰度图为1\n",
    "path_rawdata = r\"./rawdata\"\n",
    "path_label1 = r\"./faceDR\"\n",
    "path_label2 = r\"./faceDS\"\n",
    "label_one_hot,img_name,label_list = label_pre_one_hot(\"./faceDR\",\"./faceDS\")\n",
    "img_list = rd.read_rawdata(channels, path_rawdata, img_name)  # 图片矩阵\n",
    "\n",
    "\n",
    "n = 0\n",
    "for i in range(len(label_list)):\n",
    "    num = i - n\n",
    "    if label_list[num] is None:\n",
    "        del label_list[num]\n",
    "        del img_name[num]\n",
    "        n = n + 1\n",
    "\n",
    "array_of_img = []\n",
    "for img in img_list:\n",
    "    if img is not None:\n",
    "        img = img / 255.0\n",
    "        img = cv2.resize(img, (100, 100))\n",
    "        array_of_img.append(img)\n",
    "train_images = np.array(array_of_img)\n",
    "array_of_img = []\n",
    "\n",
    "array_of_labels = []\n",
    "for label in label_one_hot:\n",
    "    if label is not None:\n",
    "        append_label = label[0]\n",
    "        array_of_labels.append(int(append_label))\n",
    "train_labels = np.array(array_of_labels)\n",
    "array_of_labels = []\n",
    "\n",
    "# 划分数据集和测试集\n",
    "X_train, X_test, y_train, y_test = train_test_split(train_images, train_labels, test_size=0.2, random_state=3)\n",
    "\n",
    "del train_images\n",
    "del train_labels\n",
    "X_train = X_train.reshape(X_train.shape[0], -1)\n",
    "X_test = X_test.reshape(X_test.shape[0], -1)\n",
    "\n",
    "# 特征降维\n",
    "pca = PCA(n_components=85)\n",
    "newX = pca.fit_transform(X_train)\n",
    "xx = pca.transform(X_test)\n",
    "\n",
    "# tree = tree.DecisionTreeClassifier(criterion=\"entropy\")\n",
    "# tree.fit(newX, y_train)\n",
    "# score = tree.score(xx,y_test)\n",
    "# print('决策树训练准确率：',score*100,'%')\n",
    "# 定义模型\n",
    "knn = KNeighborsClassifier(n_neighbors=1)  # knn\n",
    "svm = sklearn.svm.SVC()                    # svm\n",
    "knn.fit(newX, y_train)\n",
    "svm.fit(newX, y_train)\n",
    "# knn预测\n",
    "y_pred_on_train = knn.predict(xx)\n",
    "y_pred_on_train_svm = svm.predict(xx)\n",
    "\n",
    "acc = metrics.accuracy_score(y_test, y_pred_on_train)\n",
    "acc_svm = metrics.accuracy_score(y_test, y_pred_on_train_svm)\n",
    "print('knn训练准确度：',acc*100,'%')\n",
    "print('svm训练准确度：',acc_svm*100,'%')\n"
   ]
  },
  {
   "cell_type": "code",
   "execution_count": 31,
   "id": "89140295",
   "metadata": {},
   "outputs": [],
   "source": [
    "from matplotlib import pyplot as plt\n",
    "k_list = []\n",
    "acc_list = []\n",
    "add_acc_list = [86.21399176954732, 86.21399176954732, 84.77366255144034, 85.39094650205762, 83.9506172839506, 82.71604938271605, 82.3045267489712, 81.6872427983539, 82.3045267489712, 81.27572016460906, 81.89300411522635, 82.51028806584361, 82.3045267489712, 81.06995884773663, 80.04115226337449, 80.65843621399176, 80.04115226337449, 80.8641975308642, 79.62962962962963]\n",
    "for k in range(1,20):\n",
    "    knn = KNeighborsClassifier(n_neighbors=k)\n",
    "    knn.fit(newX, y_train)\n",
    "    y_pred_on_train = knn.predict(xx)\n",
    "    acc = metrics.accuracy_score(y_test, y_pred_on_train)\n",
    "    acc = acc * 100\n",
    "    k_list.append(k)\n",
    "    acc_list.append(acc)"
   ]
  },
  {
   "cell_type": "code",
   "execution_count": 32,
   "id": "dc135393",
   "metadata": {},
   "outputs": [
    {
     "name": "stdout",
     "output_type": "stream",
     "text": [
      "knn训练准确度： 84.97942386831275 %\n"
     ]
    }
   ],
   "source": [
    "knn = KNeighborsClassifier(n_neighbors=1)  # knn\n",
    "knn.fit(newX, y_train)\n",
    "y_pred_on_train = knn.predict(xx)\n",
    "acc = metrics.accuracy_score(y_test, y_pred_on_train)\n",
    "print('knn训练准确度：',acc*100,'%')"
   ]
  },
  {
   "cell_type": "code",
   "execution_count": 33,
   "id": "1962dab0",
   "metadata": {},
   "outputs": [
    {
     "data": {
      "text/plain": [
       "[<matplotlib.lines.Line2D at 0x1f0b4e77820>]"
      ]
     },
     "execution_count": 33,
     "metadata": {},
     "output_type": "execute_result"
    },
    {
     "data": {
      "image/png": "[encoded data removed]",
      "text/plain": [
       "<Figure size 432x288 with 1 Axes>"
      ]
     },
     "metadata": {
      "needs_background": "light"
     },
     "output_type": "display_data"
    }
   ],
   "source": [
    "plt.rcParams['font.sans-serif'] = ['SimHei'] #用来正常显示中文标签\n",
    "plt.rcParams['axes.unicode_minus'] = False #用来正常显示负号\n",
    "plt.xlabel('k')\n",
    "plt.ylabel('acc')\n",
    "plt.title('不同k值的knn算法准确率对比')\n",
    "plt.plot(k_list,acc_list, color='red', label='knn')\n",
    "plt.plot(k_list,add_acc_list, color='blue', label='wc_nnc')"
   ]
  },
  {
   "cell_type": "code",
   "execution_count": 39,
   "id": "dbda7e22",
   "metadata": {},
   "outputs": [
    {
     "name": "stdout",
     "output_type": "stream",
     "text": [
      "决策树训练准确率： 77.05761316872429 %\n"
     ]
    }
   ],
   "source": [
    "tree = tree.DecisionTreeClassifier(criterion=\"gini\")\n",
    "tree.fit(newX, y_train)\n",
    "score = tree.score(xx,y_test)\n",
    "print('决策树训练准确率：',score*100,'%')"
   ]
  },
  {
   "cell_type": "code",
   "execution_count": 3,
   "id": "5add26cf",
   "metadata": {},
   "outputs": [
    {
     "name": "stdout",
     "output_type": "stream",
     "text": [
      "svm训练准确度： 85.59670781893004 %\n"
     ]
    }
   ],
   "source": [
    "svm = sklearn.svm.SVC()                    # svm\n",
    "svm.fit(newX, y_train)\n",
    "y_pred_on_train_svm = svm.predict(xx)\n",
    "acc_svm = metrics.accuracy_score(y_test, y_pred_on_train_svm)\n",
    "print('svm训练准确度：',acc_svm*100,'%')"
   ]
  },
  {
   "cell_type": "code",
   "execution_count": null,
   "id": "e8d2715b",
   "metadata": {},
   "outputs": [],
   "source": []
  }
 ],
 "metadata": {
  "kernelspec": {
   "display_name": "Python 3 (ipykernel)",
   "language": "python",
   "name": "python3"
  },
  "language_info": {
   "codemirror_mode": {
    "name": "ipython",
    "version": 3
   },
   "file_extension": ".py",
   "mimetype": "text/x-python",
   "name": "python",
   "nbconvert_exporter": "python",
   "pygments_lexer": "ipython3",
   "version": "3.10.4"
  }
 },
 "nbformat": 4,
 "nbformat_minor": 5
}
